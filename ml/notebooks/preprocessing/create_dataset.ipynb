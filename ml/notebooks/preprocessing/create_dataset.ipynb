{
 "cells": [
  {
   "cell_type": "markdown",
   "id": "74825c87",
   "metadata": {},
   "source": [
    "### Create final combined dataset\n",
    "\n",
    "As all the data are now available, the model will need a combined single dataset with all the features to train.\n",
    "\n",
    "Initially, each dataset must be analysed to see if the features available do have an impact on the price to be predicted. If not, the features can be excluded when creating the final dataset, as it is at that point, only additional noise that has no real impact."
   ]
  },
  {
   "cell_type": "code",
   "execution_count": 1,
   "id": "9b688bdb",
   "metadata": {},
   "outputs": [],
   "source": [
    "import pandas as pd\n",
    "\n",
    "import seaborn as sns\n",
    "import matplotlib.pyplot as plt"
   ]
  },
  {
   "cell_type": "code",
   "execution_count": 2,
   "id": "3885cff0",
   "metadata": {},
   "outputs": [],
   "source": [
    "TRENDS_DATA = '../../data/GTrends/BTC_GTrends_total_cleaned.csv'\n",
    "TWEETS_DATA = '../../data/Tweets/BTC_Tweet_Sentiment_Unweighed.csv'\n",
    "TWEET_VOLUME_DATA = '../../data/Tweets/BTC_Tweet_Volume.csv'\n",
    "BLOCK_REWARD_DATA = '../../data/BTC_Block_Reward.csv'\n",
    "BTC_PRICES_DATA = '../../data/BTC_Prices.csv'"
   ]
  },
  {
   "cell_type": "markdown",
   "id": "1861b5ca",
   "metadata": {},
   "source": [
    "### Analyze prices dataset"
   ]
  },
  {
   "cell_type": "code",
   "execution_count": 3,
   "id": "8ef8c54f",
   "metadata": {},
   "outputs": [
    {
     "data": {
      "text/html": [
       "<div>\n",
       "<style scoped>\n",
       "    .dataframe tbody tr th:only-of-type {\n",
       "        vertical-align: middle;\n",
       "    }\n",
       "\n",
       "    .dataframe tbody tr th {\n",
       "        vertical-align: top;\n",
       "    }\n",
       "\n",
       "    .dataframe thead th {\n",
       "        text-align: right;\n",
       "    }\n",
       "</style>\n",
       "<table border=\"1\" class=\"dataframe\">\n",
       "  <thead>\n",
       "    <tr style=\"text-align: right;\">\n",
       "      <th></th>\n",
       "      <th>date</th>\n",
       "      <th>volume</th>\n",
       "      <th>close</th>\n",
       "      <th>open</th>\n",
       "      <th>max</th>\n",
       "      <th>min</th>\n",
       "      <th>change_percent</th>\n",
       "    </tr>\n",
       "  </thead>\n",
       "  <tbody>\n",
       "    <tr>\n",
       "      <th>0</th>\n",
       "      <td>2014-01-01</td>\n",
       "      <td>10757</td>\n",
       "      <td>815.940002</td>\n",
       "      <td>805.940002</td>\n",
       "      <td>829.929993</td>\n",
       "      <td>770.969971</td>\n",
       "      <td>1.240787</td>\n",
       "    </tr>\n",
       "    <tr>\n",
       "      <th>1</th>\n",
       "      <td>2014-01-02</td>\n",
       "      <td>12812</td>\n",
       "      <td>856.909973</td>\n",
       "      <td>815.940002</td>\n",
       "      <td>886.210022</td>\n",
       "      <td>810.469971</td>\n",
       "      <td>5.021199</td>\n",
       "    </tr>\n",
       "    <tr>\n",
       "      <th>2</th>\n",
       "      <td>2014-01-03</td>\n",
       "      <td>9709</td>\n",
       "      <td>884.260010</td>\n",
       "      <td>856.909973</td>\n",
       "      <td>888.229980</td>\n",
       "      <td>839.440002</td>\n",
       "      <td>3.191705</td>\n",
       "    </tr>\n",
       "    <tr>\n",
       "      <th>3</th>\n",
       "      <td>2014-01-04</td>\n",
       "      <td>14239</td>\n",
       "      <td>924.690002</td>\n",
       "      <td>884.260010</td>\n",
       "      <td>932.159973</td>\n",
       "      <td>848.320007</td>\n",
       "      <td>4.572184</td>\n",
       "    </tr>\n",
       "    <tr>\n",
       "      <th>4</th>\n",
       "      <td>2014-01-05</td>\n",
       "      <td>21374</td>\n",
       "      <td>1014.739990</td>\n",
       "      <td>924.690002</td>\n",
       "      <td>1029.859985</td>\n",
       "      <td>911.359985</td>\n",
       "      <td>9.738397</td>\n",
       "    </tr>\n",
       "  </tbody>\n",
       "</table>\n",
       "</div>"
      ],
      "text/plain": [
       "         date  volume        close        open          max         min  \\\n",
       "0  2014-01-01   10757   815.940002  805.940002   829.929993  770.969971   \n",
       "1  2014-01-02   12812   856.909973  815.940002   886.210022  810.469971   \n",
       "2  2014-01-03    9709   884.260010  856.909973   888.229980  839.440002   \n",
       "3  2014-01-04   14239   924.690002  884.260010   932.159973  848.320007   \n",
       "4  2014-01-05   21374  1014.739990  924.690002  1029.859985  911.359985   \n",
       "\n",
       "   change_percent  \n",
       "0        1.240787  \n",
       "1        5.021199  \n",
       "2        3.191705  \n",
       "3        4.572184  \n",
       "4        9.738397  "
      ]
     },
     "execution_count": 3,
     "metadata": {},
     "output_type": "execute_result"
    }
   ],
   "source": [
    "historical_prices = pd.read_csv(BTC_PRICES_DATA)\n",
    "historical_prices.head()"
   ]
  },
  {
   "cell_type": "code",
   "execution_count": 4,
   "id": "761f70b3",
   "metadata": {},
   "outputs": [
    {
     "data": {
      "text/plain": [
       "0     815.940002\n",
       "1     856.909973\n",
       "2     884.260010\n",
       "3     924.690002\n",
       "4    1014.739990\n",
       "5    1012.650024\n",
       "6     879.900024\n",
       "7     938.840027\n",
       "8     936.950012\n",
       "9     957.760010\n",
       "Name: close, dtype: float64"
      ]
     },
     "execution_count": 4,
     "metadata": {},
     "output_type": "execute_result"
    }
   ],
   "source": [
    "closing_price = historical_prices['close']\n",
    "closing_price[:10]"
   ]
  },
  {
   "cell_type": "code",
   "execution_count": 12,
   "id": "86f29cf9",
   "metadata": {},
   "outputs": [
    {
     "data": {
      "image/png": "[encoded data removed]",
      "text/plain": [
       "<Figure size 432x288 with 2 Axes>"
      ]
     },
     "metadata": {
      "needs_background": "light"
     },
     "output_type": "display_data"
    }
   ],
   "source": [
    "# Check correlation\n",
    "sns.heatmap(historical_prices.corr(), annot=True)\n",
    "plt.show()"
   ]
  },
  {
   "cell_type": "code",
   "execution_count": 5,
   "id": "f806a14f",
   "metadata": {},
   "outputs": [
    {
     "data": {
      "text/html": [
       "<div>\n",
       "<style scoped>\n",
       "    .dataframe tbody tr th:only-of-type {\n",
       "        vertical-align: middle;\n",
       "    }\n",
       "\n",
       "    .dataframe tbody tr th {\n",
       "        vertical-align: top;\n",
       "    }\n",
       "\n",
       "    .dataframe thead th {\n",
       "        text-align: right;\n",
       "    }\n",
       "</style>\n",
       "<table border=\"1\" class=\"dataframe\">\n",
       "  <thead>\n",
       "    <tr style=\"text-align: right;\">\n",
       "      <th></th>\n",
       "      <th>date</th>\n",
       "      <th>volume</th>\n",
       "      <th>close</th>\n",
       "      <th>change_percent</th>\n",
       "    </tr>\n",
       "  </thead>\n",
       "  <tbody>\n",
       "    <tr>\n",
       "      <th>0</th>\n",
       "      <td>2014-01-01</td>\n",
       "      <td>10757</td>\n",
       "      <td>815.940002</td>\n",
       "      <td>1.240787</td>\n",
       "    </tr>\n",
       "    <tr>\n",
       "      <th>1</th>\n",
       "      <td>2014-01-02</td>\n",
       "      <td>12812</td>\n",
       "      <td>856.909973</td>\n",
       "      <td>5.021199</td>\n",
       "    </tr>\n",
       "    <tr>\n",
       "      <th>2</th>\n",
       "      <td>2014-01-03</td>\n",
       "      <td>9709</td>\n",
       "      <td>884.260010</td>\n",
       "      <td>3.191705</td>\n",
       "    </tr>\n",
       "    <tr>\n",
       "      <th>3</th>\n",
       "      <td>2014-01-04</td>\n",
       "      <td>14239</td>\n",
       "      <td>924.690002</td>\n",
       "      <td>4.572184</td>\n",
       "    </tr>\n",
       "    <tr>\n",
       "      <th>4</th>\n",
       "      <td>2014-01-05</td>\n",
       "      <td>21374</td>\n",
       "      <td>1014.739990</td>\n",
       "      <td>9.738397</td>\n",
       "    </tr>\n",
       "  </tbody>\n",
       "</table>\n",
       "</div>"
      ],
      "text/plain": [
       "         date  volume        close  change_percent\n",
       "0  2014-01-01   10757   815.940002        1.240787\n",
       "1  2014-01-02   12812   856.909973        5.021199\n",
       "2  2014-01-03    9709   884.260010        3.191705\n",
       "3  2014-01-04   14239   924.690002        4.572184\n",
       "4  2014-01-05   21374  1014.739990        9.738397"
      ]
     },
     "execution_count": 5,
     "metadata": {},
     "output_type": "execute_result"
    }
   ],
   "source": [
    "# Due to the large correlation of variables and closing price: max, min, open can be dropped\n",
    "historical_prices.drop(['max', 'min', 'open'], axis=1, inplace=True)\n",
    "historical_prices.head()"
   ]
  },
  {
   "cell_type": "markdown",
   "id": "79449c1c",
   "metadata": {},
   "source": [
    "As the `max, min, open` features are highly correlated, they are dropped. The `volume` and `change_percent` features can remain as they aren't."
   ]
  },
  {
   "cell_type": "markdown",
   "id": "d34d6906",
   "metadata": {},
   "source": [
    "### Analyze Twitter volume dataset"
   ]
  },
  {
   "cell_type": "code",
   "execution_count": 6,
   "id": "3f73fc03",
   "metadata": {},
   "outputs": [
    {
     "data": {
      "text/html": [
       "<div>\n",
       "<style scoped>\n",
       "    .dataframe tbody tr th:only-of-type {\n",
       "        vertical-align: middle;\n",
       "    }\n",
       "\n",
       "    .dataframe tbody tr th {\n",
       "        vertical-align: top;\n",
       "    }\n",
       "\n",
       "    .dataframe thead th {\n",
       "        text-align: right;\n",
       "    }\n",
       "</style>\n",
       "<table border=\"1\" class=\"dataframe\">\n",
       "  <thead>\n",
       "    <tr style=\"text-align: right;\">\n",
       "      <th></th>\n",
       "      <th>Unnamed: 0</th>\n",
       "      <th>Date</th>\n",
       "      <th>Tweet Volume</th>\n",
       "    </tr>\n",
       "  </thead>\n",
       "  <tbody>\n",
       "    <tr>\n",
       "      <th>0</th>\n",
       "      <td>0</td>\n",
       "      <td>2014/04/09</td>\n",
       "      <td>8193.0</td>\n",
       "    </tr>\n",
       "    <tr>\n",
       "      <th>1</th>\n",
       "      <td>1</td>\n",
       "      <td>2014/04/10</td>\n",
       "      <td>15039.0</td>\n",
       "    </tr>\n",
       "    <tr>\n",
       "      <th>2</th>\n",
       "      <td>2</td>\n",
       "      <td>2014/04/11</td>\n",
       "      <td>14907.0</td>\n",
       "    </tr>\n",
       "    <tr>\n",
       "      <th>3</th>\n",
       "      <td>3</td>\n",
       "      <td>2014/04/12</td>\n",
       "      <td>7582.0</td>\n",
       "    </tr>\n",
       "    <tr>\n",
       "      <th>4</th>\n",
       "      <td>4</td>\n",
       "      <td>2014/04/13</td>\n",
       "      <td>10674.0</td>\n",
       "    </tr>\n",
       "  </tbody>\n",
       "</table>\n",
       "</div>"
      ],
      "text/plain": [
       "   Unnamed: 0        Date  Tweet Volume\n",
       "0           0  2014/04/09        8193.0\n",
       "1           1  2014/04/10       15039.0\n",
       "2           2  2014/04/11       14907.0\n",
       "3           3  2014/04/12        7582.0\n",
       "4           4  2014/04/13       10674.0"
      ]
     },
     "execution_count": 6,
     "metadata": {},
     "output_type": "execute_result"
    }
   ],
   "source": [
    "twitter_volume = pd.read_csv(TWEET_VOLUME_DATA)\n",
    "twitter_volume.head()"
   ]
  },
  {
   "cell_type": "code",
   "execution_count": 7,
   "id": "49114f07",
   "metadata": {},
   "outputs": [
    {
     "data": {
      "text/html": [
       "<div>\n",
       "<style scoped>\n",
       "    .dataframe tbody tr th:only-of-type {\n",
       "        vertical-align: middle;\n",
       "    }\n",
       "\n",
       "    .dataframe tbody tr th {\n",
       "        vertical-align: top;\n",
       "    }\n",
       "\n",
       "    .dataframe thead th {\n",
       "        text-align: right;\n",
       "    }\n",
       "</style>\n",
       "<table border=\"1\" class=\"dataframe\">\n",
       "  <thead>\n",
       "    <tr style=\"text-align: right;\">\n",
       "      <th></th>\n",
       "      <th>Date</th>\n",
       "      <th>Tweet Volume</th>\n",
       "    </tr>\n",
       "  </thead>\n",
       "  <tbody>\n",
       "    <tr>\n",
       "      <th>0</th>\n",
       "      <td>2014/04/09</td>\n",
       "      <td>8193.0</td>\n",
       "    </tr>\n",
       "    <tr>\n",
       "      <th>1</th>\n",
       "      <td>2014/04/10</td>\n",
       "      <td>15039.0</td>\n",
       "    </tr>\n",
       "    <tr>\n",
       "      <th>2</th>\n",
       "      <td>2014/04/11</td>\n",
       "      <td>14907.0</td>\n",
       "    </tr>\n",
       "    <tr>\n",
       "      <th>3</th>\n",
       "      <td>2014/04/12</td>\n",
       "      <td>7582.0</td>\n",
       "    </tr>\n",
       "    <tr>\n",
       "      <th>4</th>\n",
       "      <td>2014/04/13</td>\n",
       "      <td>10674.0</td>\n",
       "    </tr>\n",
       "  </tbody>\n",
       "</table>\n",
       "</div>"
      ],
      "text/plain": [
       "         Date  Tweet Volume\n",
       "0  2014/04/09        8193.0\n",
       "1  2014/04/10       15039.0\n",
       "2  2014/04/11       14907.0\n",
       "3  2014/04/12        7582.0\n",
       "4  2014/04/13       10674.0"
      ]
     },
     "execution_count": 7,
     "metadata": {},
     "output_type": "execute_result"
    }
   ],
   "source": [
    "twitter_volume.drop(['Unnamed: 0'], axis=1, inplace=True)\n",
    "twitter_volume.head()"
   ]
  },
  {
   "cell_type": "code",
   "execution_count": 8,
   "id": "2eff378c",
   "metadata": {},
   "outputs": [
    {
     "data": {
      "text/html": [
       "<div>\n",
       "<style scoped>\n",
       "    .dataframe tbody tr th:only-of-type {\n",
       "        vertical-align: middle;\n",
       "    }\n",
       "\n",
       "    .dataframe tbody tr th {\n",
       "        vertical-align: top;\n",
       "    }\n",
       "\n",
       "    .dataframe thead th {\n",
       "        text-align: right;\n",
       "    }\n",
       "</style>\n",
       "<table border=\"1\" class=\"dataframe\">\n",
       "  <thead>\n",
       "    <tr style=\"text-align: right;\">\n",
       "      <th></th>\n",
       "      <th>Date</th>\n",
       "      <th>Tweet Volume</th>\n",
       "    </tr>\n",
       "  </thead>\n",
       "  <tbody>\n",
       "    <tr>\n",
       "      <th>3208</th>\n",
       "      <td>2023/01/20</td>\n",
       "      <td>135671.0</td>\n",
       "    </tr>\n",
       "    <tr>\n",
       "      <th>3209</th>\n",
       "      <td>2023/01/21</td>\n",
       "      <td>134571.0</td>\n",
       "    </tr>\n",
       "    <tr>\n",
       "      <th>3210</th>\n",
       "      <td>2023/01/22</td>\n",
       "      <td>109526.0</td>\n",
       "    </tr>\n",
       "    <tr>\n",
       "      <th>3211</th>\n",
       "      <td>2023/01/23</td>\n",
       "      <td>160357.0</td>\n",
       "    </tr>\n",
       "    <tr>\n",
       "      <th>3212</th>\n",
       "      <td>2023/01/24</td>\n",
       "      <td>11741.0</td>\n",
       "    </tr>\n",
       "  </tbody>\n",
       "</table>\n",
       "</div>"
      ],
      "text/plain": [
       "            Date  Tweet Volume\n",
       "3208  2023/01/20      135671.0\n",
       "3209  2023/01/21      134571.0\n",
       "3210  2023/01/22      109526.0\n",
       "3211  2023/01/23      160357.0\n",
       "3212  2023/01/24       11741.0"
      ]
     },
     "execution_count": 8,
     "metadata": {},
     "output_type": "execute_result"
    }
   ],
   "source": [
    "twitter_volume.tail()"
   ]
  },
  {
   "cell_type": "code",
   "execution_count": 9,
   "id": "0cdfbf52",
   "metadata": {},
   "outputs": [
    {
     "data": {
      "text/html": [
       "<div>\n",
       "<style scoped>\n",
       "    .dataframe tbody tr th:only-of-type {\n",
       "        vertical-align: middle;\n",
       "    }\n",
       "\n",
       "    .dataframe tbody tr th {\n",
       "        vertical-align: top;\n",
       "    }\n",
       "\n",
       "    .dataframe thead th {\n",
       "        text-align: right;\n",
       "    }\n",
       "</style>\n",
       "<table border=\"1\" class=\"dataframe\">\n",
       "  <thead>\n",
       "    <tr style=\"text-align: right;\">\n",
       "      <th></th>\n",
       "      <th>date</th>\n",
       "      <th>volume</th>\n",
       "      <th>close</th>\n",
       "      <th>change_percent</th>\n",
       "    </tr>\n",
       "  </thead>\n",
       "  <tbody>\n",
       "    <tr>\n",
       "      <th>3306</th>\n",
       "      <td>2023-01-20</td>\n",
       "      <td>373735</td>\n",
       "      <td>22677.236328</td>\n",
       "      <td>7.570983</td>\n",
       "    </tr>\n",
       "    <tr>\n",
       "      <th>3307</th>\n",
       "      <td>2023-01-21</td>\n",
       "      <td>382688</td>\n",
       "      <td>22775.677734</td>\n",
       "      <td>0.434098</td>\n",
       "    </tr>\n",
       "    <tr>\n",
       "      <th>3308</th>\n",
       "      <td>2023-01-22</td>\n",
       "      <td>280644</td>\n",
       "      <td>22707.761719</td>\n",
       "      <td>-0.298195</td>\n",
       "    </tr>\n",
       "    <tr>\n",
       "      <th>3309</th>\n",
       "      <td>2023-01-23</td>\n",
       "      <td>327850</td>\n",
       "      <td>22915.494141</td>\n",
       "      <td>0.914808</td>\n",
       "    </tr>\n",
       "    <tr>\n",
       "      <th>3310</th>\n",
       "      <td>2023-01-24</td>\n",
       "      <td>333356</td>\n",
       "      <td>23071.386719</td>\n",
       "      <td>0.680293</td>\n",
       "    </tr>\n",
       "  </tbody>\n",
       "</table>\n",
       "</div>"
      ],
      "text/plain": [
       "            date  volume         close  change_percent\n",
       "3306  2023-01-20  373735  22677.236328        7.570983\n",
       "3307  2023-01-21  382688  22775.677734        0.434098\n",
       "3308  2023-01-22  280644  22707.761719       -0.298195\n",
       "3309  2023-01-23  327850  22915.494141        0.914808\n",
       "3310  2023-01-24  333356  23071.386719        0.680293"
      ]
     },
     "execution_count": 9,
     "metadata": {},
     "output_type": "execute_result"
    }
   ],
   "source": [
    "historical_prices.tail()"
   ]
  },
  {
   "cell_type": "code",
   "execution_count": 10,
   "id": "02bb7d4f",
   "metadata": {},
   "outputs": [],
   "source": [
    "filtered_prices = historical_prices[~(historical_prices['date'] < '2015-01-01')]"
   ]
  },
  {
   "cell_type": "code",
   "execution_count": 80,
   "id": "69ab7624",
   "metadata": {},
   "outputs": [
    {
     "data": {
      "text/plain": [
       "date              0\n",
       "volume            0\n",
       "close             0\n",
       "change_percent    0\n",
       "dtype: int64"
      ]
     },
     "execution_count": 80,
     "metadata": {},
     "output_type": "execute_result"
    }
   ],
   "source": [
    "# Check for any null values\n",
    "filtered_prices.isnull().sum()"
   ]
  },
  {
   "cell_type": "code",
   "execution_count": 11,
   "id": "b521eec4",
   "metadata": {},
   "outputs": [
    {
     "data": {
      "text/html": [
       "<div>\n",
       "<style scoped>\n",
       "    .dataframe tbody tr th:only-of-type {\n",
       "        vertical-align: middle;\n",
       "    }\n",
       "\n",
       "    .dataframe tbody tr th {\n",
       "        vertical-align: top;\n",
       "    }\n",
       "\n",
       "    .dataframe thead th {\n",
       "        text-align: right;\n",
       "    }\n",
       "</style>\n",
       "<table border=\"1\" class=\"dataframe\">\n",
       "  <thead>\n",
       "    <tr style=\"text-align: right;\">\n",
       "      <th></th>\n",
       "      <th>date</th>\n",
       "      <th>volume</th>\n",
       "      <th>close</th>\n",
       "      <th>change_percent</th>\n",
       "    </tr>\n",
       "  </thead>\n",
       "  <tbody>\n",
       "    <tr>\n",
       "      <th>365</th>\n",
       "      <td>2015-01-01</td>\n",
       "      <td>12820</td>\n",
       "      <td>314.890015</td>\n",
       "      <td>-1.052657</td>\n",
       "    </tr>\n",
       "    <tr>\n",
       "      <th>366</th>\n",
       "      <td>2015-01-02</td>\n",
       "      <td>14729</td>\n",
       "      <td>315.209991</td>\n",
       "      <td>0.101615</td>\n",
       "    </tr>\n",
       "    <tr>\n",
       "      <th>367</th>\n",
       "      <td>2015-01-03</td>\n",
       "      <td>47366</td>\n",
       "      <td>287.130005</td>\n",
       "      <td>-8.908343</td>\n",
       "    </tr>\n",
       "    <tr>\n",
       "      <th>368</th>\n",
       "      <td>2015-01-04</td>\n",
       "      <td>88769</td>\n",
       "      <td>264.720001</td>\n",
       "      <td>-7.804828</td>\n",
       "    </tr>\n",
       "    <tr>\n",
       "      <th>369</th>\n",
       "      <td>2015-01-05</td>\n",
       "      <td>54993</td>\n",
       "      <td>274.839996</td>\n",
       "      <td>3.822905</td>\n",
       "    </tr>\n",
       "  </tbody>\n",
       "</table>\n",
       "</div>"
      ],
      "text/plain": [
       "           date  volume       close  change_percent\n",
       "365  2015-01-01   12820  314.890015       -1.052657\n",
       "366  2015-01-02   14729  315.209991        0.101615\n",
       "367  2015-01-03   47366  287.130005       -8.908343\n",
       "368  2015-01-04   88769  264.720001       -7.804828\n",
       "369  2015-01-05   54993  274.839996        3.822905"
      ]
     },
     "execution_count": 11,
     "metadata": {},
     "output_type": "execute_result"
    }
   ],
   "source": [
    "filtered_prices.head()"
   ]
  },
  {
   "cell_type": "code",
   "execution_count": 12,
   "id": "01319946",
   "metadata": {},
   "outputs": [
    {
     "data": {
      "text/html": [
       "<div>\n",
       "<style scoped>\n",
       "    .dataframe tbody tr th:only-of-type {\n",
       "        vertical-align: middle;\n",
       "    }\n",
       "\n",
       "    .dataframe tbody tr th {\n",
       "        vertical-align: top;\n",
       "    }\n",
       "\n",
       "    .dataframe thead th {\n",
       "        text-align: right;\n",
       "    }\n",
       "</style>\n",
       "<table border=\"1\" class=\"dataframe\">\n",
       "  <thead>\n",
       "    <tr style=\"text-align: right;\">\n",
       "      <th></th>\n",
       "      <th>date</th>\n",
       "      <th>volume</th>\n",
       "      <th>close</th>\n",
       "      <th>change_percent</th>\n",
       "    </tr>\n",
       "  </thead>\n",
       "  <tbody>\n",
       "    <tr>\n",
       "      <th>3306</th>\n",
       "      <td>2023-01-20</td>\n",
       "      <td>373735</td>\n",
       "      <td>22677.236328</td>\n",
       "      <td>7.570983</td>\n",
       "    </tr>\n",
       "    <tr>\n",
       "      <th>3307</th>\n",
       "      <td>2023-01-21</td>\n",
       "      <td>382688</td>\n",
       "      <td>22775.677734</td>\n",
       "      <td>0.434098</td>\n",
       "    </tr>\n",
       "    <tr>\n",
       "      <th>3308</th>\n",
       "      <td>2023-01-22</td>\n",
       "      <td>280644</td>\n",
       "      <td>22707.761719</td>\n",
       "      <td>-0.298195</td>\n",
       "    </tr>\n",
       "    <tr>\n",
       "      <th>3309</th>\n",
       "      <td>2023-01-23</td>\n",
       "      <td>327850</td>\n",
       "      <td>22915.494141</td>\n",
       "      <td>0.914808</td>\n",
       "    </tr>\n",
       "    <tr>\n",
       "      <th>3310</th>\n",
       "      <td>2023-01-24</td>\n",
       "      <td>333356</td>\n",
       "      <td>23071.386719</td>\n",
       "      <td>0.680293</td>\n",
       "    </tr>\n",
       "  </tbody>\n",
       "</table>\n",
       "</div>"
      ],
      "text/plain": [
       "            date  volume         close  change_percent\n",
       "3306  2023-01-20  373735  22677.236328        7.570983\n",
       "3307  2023-01-21  382688  22775.677734        0.434098\n",
       "3308  2023-01-22  280644  22707.761719       -0.298195\n",
       "3309  2023-01-23  327850  22915.494141        0.914808\n",
       "3310  2023-01-24  333356  23071.386719        0.680293"
      ]
     },
     "execution_count": 12,
     "metadata": {},
     "output_type": "execute_result"
    }
   ],
   "source": [
    "filtered_prices.tail()"
   ]
  },
  {
   "cell_type": "code",
   "execution_count": 13,
   "id": "c51bb8d0",
   "metadata": {},
   "outputs": [],
   "source": [
    "filtered_t_volume = twitter_volume[~(twitter_volume['Date'] < '2015-01-01')]"
   ]
  },
  {
   "cell_type": "code",
   "execution_count": 14,
   "id": "4ac53764",
   "metadata": {},
   "outputs": [
    {
     "data": {
      "text/html": [
       "<div>\n",
       "<style scoped>\n",
       "    .dataframe tbody tr th:only-of-type {\n",
       "        vertical-align: middle;\n",
       "    }\n",
       "\n",
       "    .dataframe tbody tr th {\n",
       "        vertical-align: top;\n",
       "    }\n",
       "\n",
       "    .dataframe thead th {\n",
       "        text-align: right;\n",
       "    }\n",
       "</style>\n",
       "<table border=\"1\" class=\"dataframe\">\n",
       "  <thead>\n",
       "    <tr style=\"text-align: right;\">\n",
       "      <th></th>\n",
       "      <th>Date</th>\n",
       "      <th>Tweet Volume</th>\n",
       "    </tr>\n",
       "  </thead>\n",
       "  <tbody>\n",
       "    <tr>\n",
       "      <th>267</th>\n",
       "      <td>2015/01/01</td>\n",
       "      <td>18681.0</td>\n",
       "    </tr>\n",
       "    <tr>\n",
       "      <th>268</th>\n",
       "      <td>2015/01/02</td>\n",
       "      <td>9385.0</td>\n",
       "    </tr>\n",
       "    <tr>\n",
       "      <th>269</th>\n",
       "      <td>2015/01/03</td>\n",
       "      <td>NaN</td>\n",
       "    </tr>\n",
       "    <tr>\n",
       "      <th>270</th>\n",
       "      <td>2015/01/04</td>\n",
       "      <td>7300.0</td>\n",
       "    </tr>\n",
       "    <tr>\n",
       "      <th>271</th>\n",
       "      <td>2015/01/05</td>\n",
       "      <td>23092.0</td>\n",
       "    </tr>\n",
       "  </tbody>\n",
       "</table>\n",
       "</div>"
      ],
      "text/plain": [
       "           Date  Tweet Volume\n",
       "267  2015/01/01       18681.0\n",
       "268  2015/01/02        9385.0\n",
       "269  2015/01/03           NaN\n",
       "270  2015/01/04        7300.0\n",
       "271  2015/01/05       23092.0"
      ]
     },
     "execution_count": 14,
     "metadata": {},
     "output_type": "execute_result"
    }
   ],
   "source": [
    "filtered_t_volume.head()"
   ]
  },
  {
   "cell_type": "code",
   "execution_count": 15,
   "id": "ef7abd23",
   "metadata": {},
   "outputs": [
    {
     "data": {
      "text/html": [
       "<div>\n",
       "<style scoped>\n",
       "    .dataframe tbody tr th:only-of-type {\n",
       "        vertical-align: middle;\n",
       "    }\n",
       "\n",
       "    .dataframe tbody tr th {\n",
       "        vertical-align: top;\n",
       "    }\n",
       "\n",
       "    .dataframe thead th {\n",
       "        text-align: right;\n",
       "    }\n",
       "</style>\n",
       "<table border=\"1\" class=\"dataframe\">\n",
       "  <thead>\n",
       "    <tr style=\"text-align: right;\">\n",
       "      <th></th>\n",
       "      <th>Date</th>\n",
       "      <th>Tweet Volume</th>\n",
       "    </tr>\n",
       "  </thead>\n",
       "  <tbody>\n",
       "    <tr>\n",
       "      <th>3208</th>\n",
       "      <td>2023/01/20</td>\n",
       "      <td>135671.0</td>\n",
       "    </tr>\n",
       "    <tr>\n",
       "      <th>3209</th>\n",
       "      <td>2023/01/21</td>\n",
       "      <td>134571.0</td>\n",
       "    </tr>\n",
       "    <tr>\n",
       "      <th>3210</th>\n",
       "      <td>2023/01/22</td>\n",
       "      <td>109526.0</td>\n",
       "    </tr>\n",
       "    <tr>\n",
       "      <th>3211</th>\n",
       "      <td>2023/01/23</td>\n",
       "      <td>160357.0</td>\n",
       "    </tr>\n",
       "    <tr>\n",
       "      <th>3212</th>\n",
       "      <td>2023/01/24</td>\n",
       "      <td>11741.0</td>\n",
       "    </tr>\n",
       "  </tbody>\n",
       "</table>\n",
       "</div>"
      ],
      "text/plain": [
       "            Date  Tweet Volume\n",
       "3208  2023/01/20      135671.0\n",
       "3209  2023/01/21      134571.0\n",
       "3210  2023/01/22      109526.0\n",
       "3211  2023/01/23      160357.0\n",
       "3212  2023/01/24       11741.0"
      ]
     },
     "execution_count": 15,
     "metadata": {},
     "output_type": "execute_result"
    }
   ],
   "source": [
    "filtered_t_volume.tail()"
   ]
  },
  {
   "cell_type": "code",
   "execution_count": 16,
   "id": "24dbae4a",
   "metadata": {
    "scrolled": false
   },
   "outputs": [
    {
     "data": {
      "text/plain": [
       "Date             0\n",
       "Tweet Volume    56\n",
       "dtype: int64"
      ]
     },
     "execution_count": 16,
     "metadata": {},
     "output_type": "execute_result"
    }
   ],
   "source": [
    "# Check for any null values\n",
    "filtered_t_volume.isnull().sum()"
   ]
  },
  {
   "cell_type": "code",
   "execution_count": 17,
   "id": "d06d52a7",
   "metadata": {},
   "outputs": [
    {
     "name": "stderr",
     "output_type": "stream",
     "text": [
      "c:\\users\\acer\\appdata\\local\\programs\\python\\python37\\lib\\site-packages\\ipykernel_launcher.py:2: SettingWithCopyWarning: \n",
      "A value is trying to be set on a copy of a slice from a DataFrame.\n",
      "Try using .loc[row_indexer,col_indexer] = value instead\n",
      "\n",
      "See the caveats in the documentation: https://pandas.pydata.org/pandas-docs/stable/user_guide/indexing.html#returning-a-view-versus-a-copy\n",
      "  \n"
     ]
    }
   ],
   "source": [
    "# Since null values are few, the average can be imputed\n",
    "filtered_t_volume['Tweet Volume'] = filtered_t_volume['Tweet Volume'].fillna(filtered_t_volume['Tweet Volume'].mean())"
   ]
  },
  {
   "cell_type": "code",
   "execution_count": 18,
   "id": "46f86abb",
   "metadata": {},
   "outputs": [
    {
     "data": {
      "text/plain": [
       "Date            0\n",
       "Tweet Volume    0\n",
       "dtype: int64"
      ]
     },
     "execution_count": 18,
     "metadata": {},
     "output_type": "execute_result"
    }
   ],
   "source": [
    "# Check for any null values\n",
    "filtered_t_volume.isnull().sum()"
   ]
  },
  {
   "cell_type": "code",
   "execution_count": 19,
   "id": "ca7cc37d",
   "metadata": {
    "scrolled": false
   },
   "outputs": [
    {
     "name": "stderr",
     "output_type": "stream",
     "text": [
      "c:\\users\\acer\\appdata\\local\\programs\\python\\python37\\lib\\site-packages\\ipykernel_launcher.py:1: SettingWithCopyWarning: \n",
      "A value is trying to be set on a copy of a slice from a DataFrame.\n",
      "Try using .loc[row_indexer,col_indexer] = value instead\n",
      "\n",
      "See the caveats in the documentation: https://pandas.pydata.org/pandas-docs/stable/user_guide/indexing.html#returning-a-view-versus-a-copy\n",
      "  \"\"\"Entry point for launching an IPython kernel.\n"
     ]
    }
   ],
   "source": [
    "filtered_t_volume['close'] = list(filtered_prices['close'])"
   ]
  },
  {
   "cell_type": "code",
   "execution_count": 20,
   "id": "57758d6c",
   "metadata": {
    "scrolled": true
   },
   "outputs": [
    {
     "data": {
      "text/html": [
       "<div>\n",
       "<style scoped>\n",
       "    .dataframe tbody tr th:only-of-type {\n",
       "        vertical-align: middle;\n",
       "    }\n",
       "\n",
       "    .dataframe tbody tr th {\n",
       "        vertical-align: top;\n",
       "    }\n",
       "\n",
       "    .dataframe thead th {\n",
       "        text-align: right;\n",
       "    }\n",
       "</style>\n",
       "<table border=\"1\" class=\"dataframe\">\n",
       "  <thead>\n",
       "    <tr style=\"text-align: right;\">\n",
       "      <th></th>\n",
       "      <th>Date</th>\n",
       "      <th>Tweet Volume</th>\n",
       "      <th>close</th>\n",
       "    </tr>\n",
       "  </thead>\n",
       "  <tbody>\n",
       "    <tr>\n",
       "      <th>267</th>\n",
       "      <td>2015/01/01</td>\n",
       "      <td>18681.0000</td>\n",
       "      <td>314.890015</td>\n",
       "    </tr>\n",
       "    <tr>\n",
       "      <th>268</th>\n",
       "      <td>2015/01/02</td>\n",
       "      <td>9385.0000</td>\n",
       "      <td>315.209991</td>\n",
       "    </tr>\n",
       "    <tr>\n",
       "      <th>269</th>\n",
       "      <td>2015/01/03</td>\n",
       "      <td>57542.1391</td>\n",
       "      <td>287.130005</td>\n",
       "    </tr>\n",
       "    <tr>\n",
       "      <th>270</th>\n",
       "      <td>2015/01/04</td>\n",
       "      <td>7300.0000</td>\n",
       "      <td>264.720001</td>\n",
       "    </tr>\n",
       "    <tr>\n",
       "      <th>271</th>\n",
       "      <td>2015/01/05</td>\n",
       "      <td>23092.0000</td>\n",
       "      <td>274.839996</td>\n",
       "    </tr>\n",
       "  </tbody>\n",
       "</table>\n",
       "</div>"
      ],
      "text/plain": [
       "           Date  Tweet Volume       close\n",
       "267  2015/01/01    18681.0000  314.890015\n",
       "268  2015/01/02     9385.0000  315.209991\n",
       "269  2015/01/03    57542.1391  287.130005\n",
       "270  2015/01/04     7300.0000  264.720001\n",
       "271  2015/01/05    23092.0000  274.839996"
      ]
     },
     "execution_count": 20,
     "metadata": {},
     "output_type": "execute_result"
    }
   ],
   "source": [
    "filtered_t_volume.head()"
   ]
  },
  {
   "cell_type": "code",
   "execution_count": 21,
   "id": "d8667162",
   "metadata": {},
   "outputs": [
    {
     "data": {
      "image/png": "[encoded data removed]",
      "text/plain": [
       "<Figure size 432x288 with 2 Axes>"
      ]
     },
     "metadata": {
      "needs_background": "light"
     },
     "output_type": "display_data"
    }
   ],
   "source": [
    "# Check correlation\n",
    "sns.heatmap(filtered_t_volume.corr(), annot=True)\n",
    "plt.show()"
   ]
  },
  {
   "cell_type": "markdown",
   "id": "f0007928",
   "metadata": {},
   "source": [
    "As there is no high correlation, `twitter volume` can be considered. (Usually, features with a correlation value of greater than `0.95` are dropped)"
   ]
  },
  {
   "cell_type": "markdown",
   "id": "6750d29a",
   "metadata": {},
   "source": [
    "### Analyze block reward dataset"
   ]
  },
  {
   "cell_type": "code",
   "execution_count": 138,
   "id": "aecf906b",
   "metadata": {},
   "outputs": [
    {
     "data": {
      "text/html": [
       "<div>\n",
       "<style scoped>\n",
       "    .dataframe tbody tr th:only-of-type {\n",
       "        vertical-align: middle;\n",
       "    }\n",
       "\n",
       "    .dataframe tbody tr th {\n",
       "        vertical-align: top;\n",
       "    }\n",
       "\n",
       "    .dataframe thead th {\n",
       "        text-align: right;\n",
       "    }\n",
       "</style>\n",
       "<table border=\"1\" class=\"dataframe\">\n",
       "  <thead>\n",
       "    <tr style=\"text-align: right;\">\n",
       "      <th></th>\n",
       "      <th>Unnamed: 0</th>\n",
       "      <th>Date</th>\n",
       "      <th>Block Reward Size</th>\n",
       "    </tr>\n",
       "  </thead>\n",
       "  <tbody>\n",
       "    <tr>\n",
       "      <th>0</th>\n",
       "      <td>0</td>\n",
       "      <td>2010/07/17</td>\n",
       "      <td>0.00100</td>\n",
       "    </tr>\n",
       "    <tr>\n",
       "      <th>1</th>\n",
       "      <td>1</td>\n",
       "      <td>2010/07/18</td>\n",
       "      <td>0.01630</td>\n",
       "    </tr>\n",
       "    <tr>\n",
       "      <th>2</th>\n",
       "      <td>2</td>\n",
       "      <td>2010/07/19</td>\n",
       "      <td>0.00154</td>\n",
       "    </tr>\n",
       "    <tr>\n",
       "      <th>3</th>\n",
       "      <td>3</td>\n",
       "      <td>2010/07/20</td>\n",
       "      <td>NaN</td>\n",
       "    </tr>\n",
       "    <tr>\n",
       "      <th>4</th>\n",
       "      <td>4</td>\n",
       "      <td>2010/07/21</td>\n",
       "      <td>NaN</td>\n",
       "    </tr>\n",
       "  </tbody>\n",
       "</table>\n",
       "</div>"
      ],
      "text/plain": [
       "   Unnamed: 0        Date  Block Reward Size\n",
       "0           0  2010/07/17            0.00100\n",
       "1           1  2010/07/18            0.01630\n",
       "2           2  2010/07/19            0.00154\n",
       "3           3  2010/07/20                NaN\n",
       "4           4  2010/07/21                NaN"
      ]
     },
     "execution_count": 138,
     "metadata": {},
     "output_type": "execute_result"
    }
   ],
   "source": [
    "block_reward = pd.read_csv(BLOCK_REWARD_DATA)\n",
    "block_reward.head()"
   ]
  },
  {
   "cell_type": "code",
   "execution_count": 139,
   "id": "46a2f02a",
   "metadata": {},
   "outputs": [],
   "source": [
    "block_reward.drop(['Unnamed: 0'], axis=1, inplace=True)"
   ]
  },
  {
   "cell_type": "code",
   "execution_count": 140,
   "id": "55ea7b62",
   "metadata": {},
   "outputs": [
    {
     "data": {
      "text/html": [
       "<div>\n",
       "<style scoped>\n",
       "    .dataframe tbody tr th:only-of-type {\n",
       "        vertical-align: middle;\n",
       "    }\n",
       "\n",
       "    .dataframe tbody tr th {\n",
       "        vertical-align: top;\n",
       "    }\n",
       "\n",
       "    .dataframe thead th {\n",
       "        text-align: right;\n",
       "    }\n",
       "</style>\n",
       "<table border=\"1\" class=\"dataframe\">\n",
       "  <thead>\n",
       "    <tr style=\"text-align: right;\">\n",
       "      <th></th>\n",
       "      <th>Date</th>\n",
       "      <th>Block Reward Size</th>\n",
       "    </tr>\n",
       "  </thead>\n",
       "  <tbody>\n",
       "    <tr>\n",
       "      <th>4569</th>\n",
       "      <td>2023/01/19</td>\n",
       "      <td>1.760</td>\n",
       "    </tr>\n",
       "    <tr>\n",
       "      <th>4570</th>\n",
       "      <td>2023/01/20</td>\n",
       "      <td>2.317</td>\n",
       "    </tr>\n",
       "    <tr>\n",
       "      <th>4571</th>\n",
       "      <td>2023/01/21</td>\n",
       "      <td>1.859</td>\n",
       "    </tr>\n",
       "    <tr>\n",
       "      <th>4572</th>\n",
       "      <td>2023/01/22</td>\n",
       "      <td>1.438</td>\n",
       "    </tr>\n",
       "    <tr>\n",
       "      <th>4573</th>\n",
       "      <td>2023/01/23</td>\n",
       "      <td>1.490</td>\n",
       "    </tr>\n",
       "  </tbody>\n",
       "</table>\n",
       "</div>"
      ],
      "text/plain": [
       "            Date  Block Reward Size\n",
       "4569  2023/01/19              1.760\n",
       "4570  2023/01/20              2.317\n",
       "4571  2023/01/21              1.859\n",
       "4572  2023/01/22              1.438\n",
       "4573  2023/01/23              1.490"
      ]
     },
     "execution_count": 140,
     "metadata": {},
     "output_type": "execute_result"
    }
   ],
   "source": [
    "block_reward.tail()"
   ]
  },
  {
   "cell_type": "code",
   "execution_count": 141,
   "id": "e43b4b47",
   "metadata": {},
   "outputs": [],
   "source": [
    "filtered_block_reward = block_reward[~(block_reward['Date'] < '2015-01-01')]"
   ]
  },
  {
   "cell_type": "code",
   "execution_count": 142,
   "id": "42673528",
   "metadata": {},
   "outputs": [],
   "source": [
    "# For this dataset, the latest date is usually available only the following date. Therefore, add column avg value as following\n",
    "# date's reward\n",
    "append_br = pd.DataFrame({\n",
    "    'Date': filtered_prices.tail(1)['date'].values[0],\n",
    "    'Block Reward Size': block_reward['Block Reward Size'].mean()\n",
    "}, index=[len(block_reward)])"
   ]
  },
  {
   "cell_type": "code",
   "execution_count": 143,
   "id": "c460ead1",
   "metadata": {},
   "outputs": [],
   "source": [
    "filtered_block_reward = filtered_block_reward.append(append_br)"
   ]
  },
  {
   "cell_type": "code",
   "execution_count": 144,
   "id": "0dee9c1c",
   "metadata": {},
   "outputs": [
    {
     "data": {
      "text/plain": [
       "Date                 0\n",
       "Block Reward Size    0\n",
       "dtype: int64"
      ]
     },
     "execution_count": 144,
     "metadata": {},
     "output_type": "execute_result"
    }
   ],
   "source": [
    "# Check for any null values\n",
    "filtered_block_reward.isnull().sum()"
   ]
  },
  {
   "cell_type": "code",
   "execution_count": 29,
   "id": "4093b558",
   "metadata": {},
   "outputs": [],
   "source": [
    "filtered_block_reward['close'] = list(filtered_prices['close'])"
   ]
  },
  {
   "cell_type": "code",
   "execution_count": 30,
   "id": "7a0706a0",
   "metadata": {},
   "outputs": [
    {
     "data": {
      "image/png": "[encoded data removed]",
      "text/plain": [
       "<Figure size 432x288 with 2 Axes>"
      ]
     },
     "metadata": {
      "needs_background": "light"
     },
     "output_type": "display_data"
    }
   ],
   "source": [
    "# Check correlation\n",
    "sns.heatmap(filtered_block_reward.corr(), annot=True)\n",
    "plt.show()"
   ]
  },
  {
   "cell_type": "markdown",
   "id": "682c750a",
   "metadata": {},
   "source": [
    "As there is no high correlation, `block reward size` can also be considered"
   ]
  },
  {
   "cell_type": "markdown",
   "id": "9a2274c8",
   "metadata": {},
   "source": [
    "### Analyze google trends dataset"
   ]
  },
  {
   "cell_type": "code",
   "execution_count": 31,
   "id": "498fcfc2",
   "metadata": {
    "scrolled": true
   },
   "outputs": [
    {
     "data": {
      "text/html": [
       "<div>\n",
       "<style scoped>\n",
       "    .dataframe tbody tr th:only-of-type {\n",
       "        vertical-align: middle;\n",
       "    }\n",
       "\n",
       "    .dataframe tbody tr th {\n",
       "        vertical-align: top;\n",
       "    }\n",
       "\n",
       "    .dataframe thead th {\n",
       "        text-align: right;\n",
       "    }\n",
       "</style>\n",
       "<table border=\"1\" class=\"dataframe\">\n",
       "  <thead>\n",
       "    <tr style=\"text-align: right;\">\n",
       "      <th></th>\n",
       "      <th>date</th>\n",
       "      <th>bitcoin_unscaled</th>\n",
       "    </tr>\n",
       "  </thead>\n",
       "  <tbody>\n",
       "    <tr>\n",
       "      <th>0</th>\n",
       "      <td>2014-01-01</td>\n",
       "      <td>46</td>\n",
       "    </tr>\n",
       "    <tr>\n",
       "      <th>1</th>\n",
       "      <td>2014-01-02</td>\n",
       "      <td>50</td>\n",
       "    </tr>\n",
       "    <tr>\n",
       "      <th>2</th>\n",
       "      <td>2014-01-03</td>\n",
       "      <td>52</td>\n",
       "    </tr>\n",
       "    <tr>\n",
       "      <th>3</th>\n",
       "      <td>2014-01-04</td>\n",
       "      <td>45</td>\n",
       "    </tr>\n",
       "    <tr>\n",
       "      <th>4</th>\n",
       "      <td>2014-01-05</td>\n",
       "      <td>52</td>\n",
       "    </tr>\n",
       "  </tbody>\n",
       "</table>\n",
       "</div>"
      ],
      "text/plain": [
       "         date  bitcoin_unscaled\n",
       "0  2014-01-01                46\n",
       "1  2014-01-02                50\n",
       "2  2014-01-03                52\n",
       "3  2014-01-04                45\n",
       "4  2014-01-05                52"
      ]
     },
     "execution_count": 31,
     "metadata": {},
     "output_type": "execute_result"
    }
   ],
   "source": [
    "gtrends = pd.read_csv(TRENDS_DATA)\n",
    "gtrends.head()"
   ]
  },
  {
   "cell_type": "code",
   "execution_count": 32,
   "id": "b337bd59",
   "metadata": {
    "scrolled": true
   },
   "outputs": [
    {
     "data": {
      "text/html": [
       "<div>\n",
       "<style scoped>\n",
       "    .dataframe tbody tr th:only-of-type {\n",
       "        vertical-align: middle;\n",
       "    }\n",
       "\n",
       "    .dataframe tbody tr th {\n",
       "        vertical-align: top;\n",
       "    }\n",
       "\n",
       "    .dataframe thead th {\n",
       "        text-align: right;\n",
       "    }\n",
       "</style>\n",
       "<table border=\"1\" class=\"dataframe\">\n",
       "  <thead>\n",
       "    <tr style=\"text-align: right;\">\n",
       "      <th></th>\n",
       "      <th>date</th>\n",
       "      <th>bitcoin_unscaled</th>\n",
       "    </tr>\n",
       "  </thead>\n",
       "  <tbody>\n",
       "    <tr>\n",
       "      <th>3306</th>\n",
       "      <td>2023-01-20</td>\n",
       "      <td>61</td>\n",
       "    </tr>\n",
       "    <tr>\n",
       "      <th>3307</th>\n",
       "      <td>2023-01-21</td>\n",
       "      <td>67</td>\n",
       "    </tr>\n",
       "    <tr>\n",
       "      <th>3308</th>\n",
       "      <td>2023-01-22</td>\n",
       "      <td>51</td>\n",
       "    </tr>\n",
       "    <tr>\n",
       "      <th>3309</th>\n",
       "      <td>2023-01-23</td>\n",
       "      <td>64</td>\n",
       "    </tr>\n",
       "    <tr>\n",
       "      <th>3310</th>\n",
       "      <td>2023-01-24</td>\n",
       "      <td>58</td>\n",
       "    </tr>\n",
       "  </tbody>\n",
       "</table>\n",
       "</div>"
      ],
      "text/plain": [
       "            date  bitcoin_unscaled\n",
       "3306  2023-01-20                61\n",
       "3307  2023-01-21                67\n",
       "3308  2023-01-22                51\n",
       "3309  2023-01-23                64\n",
       "3310  2023-01-24                58"
      ]
     },
     "execution_count": 32,
     "metadata": {},
     "output_type": "execute_result"
    }
   ],
   "source": [
    "gtrends.tail()"
   ]
  },
  {
   "cell_type": "code",
   "execution_count": 33,
   "id": "4adf5693",
   "metadata": {},
   "outputs": [],
   "source": [
    "# Certain issues popup\n",
    "filtered_gtrends = gtrends[~(pd.to_datetime(gtrends['date']) < pd.to_datetime('2015-01-01'))]"
   ]
  },
  {
   "cell_type": "code",
   "execution_count": 34,
   "id": "18913982",
   "metadata": {},
   "outputs": [
    {
     "data": {
      "text/plain": [
       "date                0\n",
       "bitcoin_unscaled    0\n",
       "dtype: int64"
      ]
     },
     "execution_count": 34,
     "metadata": {},
     "output_type": "execute_result"
    }
   ],
   "source": [
    "# Check for any null values\n",
    "filtered_gtrends.isnull().sum()"
   ]
  },
  {
   "cell_type": "code",
   "execution_count": 35,
   "id": "7a910e6f",
   "metadata": {},
   "outputs": [
    {
     "data": {
      "text/plain": [
       "2946"
      ]
     },
     "execution_count": 35,
     "metadata": {},
     "output_type": "execute_result"
    }
   ],
   "source": [
    "len(filtered_gtrends)"
   ]
  },
  {
   "cell_type": "code",
   "execution_count": 36,
   "id": "32b23d8c",
   "metadata": {
    "scrolled": true
   },
   "outputs": [
    {
     "name": "stderr",
     "output_type": "stream",
     "text": [
      "c:\\users\\acer\\appdata\\local\\programs\\python\\python37\\lib\\site-packages\\ipykernel_launcher.py:1: SettingWithCopyWarning: \n",
      "A value is trying to be set on a copy of a slice from a DataFrame.\n",
      "Try using .loc[row_indexer,col_indexer] = value instead\n",
      "\n",
      "See the caveats in the documentation: https://pandas.pydata.org/pandas-docs/stable/user_guide/indexing.html#returning-a-view-versus-a-copy\n",
      "  \"\"\"Entry point for launching an IPython kernel.\n"
     ]
    }
   ],
   "source": [
    "filtered_gtrends['close'] = list(filtered_prices['close'])"
   ]
  },
  {
   "cell_type": "code",
   "execution_count": 37,
   "id": "e0dfebfe",
   "metadata": {},
   "outputs": [
    {
     "data": {
      "image/png": "[encoded data removed]",
      "text/plain": [
       "<Figure size 432x288 with 2 Axes>"
      ]
     },
     "metadata": {
      "needs_background": "light"
     },
     "output_type": "display_data"
    }
   ],
   "source": [
    "# Check correlation\n",
    "sns.heatmap(filtered_gtrends.corr(), annot=True)\n",
    "plt.show()"
   ]
  },
  {
   "cell_type": "markdown",
   "id": "0aaa4c82",
   "metadata": {},
   "source": [
    "As there is no high correlation, `google trends` can also be considered"
   ]
  },
  {
   "cell_type": "markdown",
   "id": "4d940eea",
   "metadata": {},
   "source": [
    "### Analyze twitter sentiment dataset"
   ]
  },
  {
   "cell_type": "code",
   "execution_count": 38,
   "id": "b6948c08",
   "metadata": {},
   "outputs": [
    {
     "data": {
      "text/html": [
       "<div>\n",
       "<style scoped>\n",
       "    .dataframe tbody tr th:only-of-type {\n",
       "        vertical-align: middle;\n",
       "    }\n",
       "\n",
       "    .dataframe tbody tr th {\n",
       "        vertical-align: top;\n",
       "    }\n",
       "\n",
       "    .dataframe thead th {\n",
       "        text-align: right;\n",
       "    }\n",
       "</style>\n",
       "<table border=\"1\" class=\"dataframe\">\n",
       "  <thead>\n",
       "    <tr style=\"text-align: right;\">\n",
       "      <th></th>\n",
       "      <th>Unnamed: 0</th>\n",
       "      <th>date</th>\n",
       "      <th>negative_score</th>\n",
       "      <th>neutral_score</th>\n",
       "      <th>positive_score</th>\n",
       "      <th>compound_score</th>\n",
       "    </tr>\n",
       "  </thead>\n",
       "  <tbody>\n",
       "    <tr>\n",
       "      <th>0</th>\n",
       "      <td>0</td>\n",
       "      <td>2014-01-02</td>\n",
       "      <td>0.017968</td>\n",
       "      <td>0.914406</td>\n",
       "      <td>0.067656</td>\n",
       "      <td>0.153433</td>\n",
       "    </tr>\n",
       "    <tr>\n",
       "      <th>1</th>\n",
       "      <td>1</td>\n",
       "      <td>2014-01-03</td>\n",
       "      <td>0.018168</td>\n",
       "      <td>0.909010</td>\n",
       "      <td>0.072842</td>\n",
       "      <td>0.173104</td>\n",
       "    </tr>\n",
       "    <tr>\n",
       "      <th>2</th>\n",
       "      <td>2</td>\n",
       "      <td>2014-01-04</td>\n",
       "      <td>0.013678</td>\n",
       "      <td>0.914156</td>\n",
       "      <td>0.072176</td>\n",
       "      <td>0.184717</td>\n",
       "    </tr>\n",
       "    <tr>\n",
       "      <th>3</th>\n",
       "      <td>3</td>\n",
       "      <td>2014-01-05</td>\n",
       "      <td>0.019852</td>\n",
       "      <td>0.913508</td>\n",
       "      <td>0.066670</td>\n",
       "      <td>0.148632</td>\n",
       "    </tr>\n",
       "    <tr>\n",
       "      <th>4</th>\n",
       "      <td>4</td>\n",
       "      <td>2014-01-06</td>\n",
       "      <td>0.018818</td>\n",
       "      <td>0.913644</td>\n",
       "      <td>0.067562</td>\n",
       "      <td>0.154831</td>\n",
       "    </tr>\n",
       "  </tbody>\n",
       "</table>\n",
       "</div>"
      ],
      "text/plain": [
       "   Unnamed: 0        date  negative_score  neutral_score  positive_score  \\\n",
       "0           0  2014-01-02        0.017968       0.914406        0.067656   \n",
       "1           1  2014-01-03        0.018168       0.909010        0.072842   \n",
       "2           2  2014-01-04        0.013678       0.914156        0.072176   \n",
       "3           3  2014-01-05        0.019852       0.913508        0.066670   \n",
       "4           4  2014-01-06        0.018818       0.913644        0.067562   \n",
       "\n",
       "   compound_score  \n",
       "0        0.153433  \n",
       "1        0.173104  \n",
       "2        0.184717  \n",
       "3        0.148632  \n",
       "4        0.154831  "
      ]
     },
     "execution_count": 38,
     "metadata": {},
     "output_type": "execute_result"
    }
   ],
   "source": [
    "twitter_sentiments = pd.read_csv(TWEETS_DATA)\n",
    "twitter_sentiments.head()"
   ]
  },
  {
   "cell_type": "code",
   "execution_count": 39,
   "id": "05d9950f",
   "metadata": {},
   "outputs": [
    {
     "data": {
      "text/html": [
       "<div>\n",
       "<style scoped>\n",
       "    .dataframe tbody tr th:only-of-type {\n",
       "        vertical-align: middle;\n",
       "    }\n",
       "\n",
       "    .dataframe tbody tr th {\n",
       "        vertical-align: top;\n",
       "    }\n",
       "\n",
       "    .dataframe thead th {\n",
       "        text-align: right;\n",
       "    }\n",
       "</style>\n",
       "<table border=\"1\" class=\"dataframe\">\n",
       "  <thead>\n",
       "    <tr style=\"text-align: right;\">\n",
       "      <th></th>\n",
       "      <th>Unnamed: 0</th>\n",
       "      <th>date</th>\n",
       "      <th>negative_score</th>\n",
       "      <th>neutral_score</th>\n",
       "      <th>positive_score</th>\n",
       "      <th>compound_score</th>\n",
       "    </tr>\n",
       "  </thead>\n",
       "  <tbody>\n",
       "    <tr>\n",
       "      <th>3301</th>\n",
       "      <td>3301</td>\n",
       "      <td>2023-01-20</td>\n",
       "      <td>0.043291</td>\n",
       "      <td>0.882784</td>\n",
       "      <td>0.073932</td>\n",
       "      <td>0.088555</td>\n",
       "    </tr>\n",
       "    <tr>\n",
       "      <th>3302</th>\n",
       "      <td>3302</td>\n",
       "      <td>2023-01-21</td>\n",
       "      <td>0.040826</td>\n",
       "      <td>0.889545</td>\n",
       "      <td>0.069621</td>\n",
       "      <td>0.076624</td>\n",
       "    </tr>\n",
       "    <tr>\n",
       "      <th>3303</th>\n",
       "      <td>3303</td>\n",
       "      <td>2023-01-22</td>\n",
       "      <td>0.038890</td>\n",
       "      <td>0.902008</td>\n",
       "      <td>0.059120</td>\n",
       "      <td>0.067227</td>\n",
       "    </tr>\n",
       "    <tr>\n",
       "      <th>3304</th>\n",
       "      <td>0</td>\n",
       "      <td>2023-01-23</td>\n",
       "      <td>0.038507</td>\n",
       "      <td>0.898695</td>\n",
       "      <td>0.062778</td>\n",
       "      <td>0.070769</td>\n",
       "    </tr>\n",
       "    <tr>\n",
       "      <th>3305</th>\n",
       "      <td>0</td>\n",
       "      <td>2023-01-24</td>\n",
       "      <td>0.029701</td>\n",
       "      <td>0.908082</td>\n",
       "      <td>0.062210</td>\n",
       "      <td>0.087760</td>\n",
       "    </tr>\n",
       "  </tbody>\n",
       "</table>\n",
       "</div>"
      ],
      "text/plain": [
       "      Unnamed: 0        date  negative_score  neutral_score  positive_score  \\\n",
       "3301        3301  2023-01-20        0.043291       0.882784        0.073932   \n",
       "3302        3302  2023-01-21        0.040826       0.889545        0.069621   \n",
       "3303        3303  2023-01-22        0.038890       0.902008        0.059120   \n",
       "3304           0  2023-01-23        0.038507       0.898695        0.062778   \n",
       "3305           0  2023-01-24        0.029701       0.908082        0.062210   \n",
       "\n",
       "      compound_score  \n",
       "3301        0.088555  \n",
       "3302        0.076624  \n",
       "3303        0.067227  \n",
       "3304        0.070769  \n",
       "3305        0.087760  "
      ]
     },
     "execution_count": 39,
     "metadata": {},
     "output_type": "execute_result"
    }
   ],
   "source": [
    "twitter_sentiments.tail()"
   ]
  },
  {
   "cell_type": "code",
   "execution_count": 40,
   "id": "ab3da8b2",
   "metadata": {},
   "outputs": [],
   "source": [
    "# As the compound column is a combination of the other scores, they can be removed\n",
    "twitter_sentiments.drop(['Unnamed: 0', 'negative_score', 'neutral_score', 'positive_score'], axis=1, inplace=True)"
   ]
  },
  {
   "cell_type": "code",
   "execution_count": 41,
   "id": "8671b6e2",
   "metadata": {},
   "outputs": [
    {
     "data": {
      "text/html": [
       "<div>\n",
       "<style scoped>\n",
       "    .dataframe tbody tr th:only-of-type {\n",
       "        vertical-align: middle;\n",
       "    }\n",
       "\n",
       "    .dataframe tbody tr th {\n",
       "        vertical-align: top;\n",
       "    }\n",
       "\n",
       "    .dataframe thead th {\n",
       "        text-align: right;\n",
       "    }\n",
       "</style>\n",
       "<table border=\"1\" class=\"dataframe\">\n",
       "  <thead>\n",
       "    <tr style=\"text-align: right;\">\n",
       "      <th></th>\n",
       "      <th>date</th>\n",
       "      <th>compound_score</th>\n",
       "    </tr>\n",
       "  </thead>\n",
       "  <tbody>\n",
       "    <tr>\n",
       "      <th>0</th>\n",
       "      <td>2014-01-02</td>\n",
       "      <td>0.153433</td>\n",
       "    </tr>\n",
       "    <tr>\n",
       "      <th>1</th>\n",
       "      <td>2014-01-03</td>\n",
       "      <td>0.173104</td>\n",
       "    </tr>\n",
       "    <tr>\n",
       "      <th>2</th>\n",
       "      <td>2014-01-04</td>\n",
       "      <td>0.184717</td>\n",
       "    </tr>\n",
       "    <tr>\n",
       "      <th>3</th>\n",
       "      <td>2014-01-05</td>\n",
       "      <td>0.148632</td>\n",
       "    </tr>\n",
       "    <tr>\n",
       "      <th>4</th>\n",
       "      <td>2014-01-06</td>\n",
       "      <td>0.154831</td>\n",
       "    </tr>\n",
       "  </tbody>\n",
       "</table>\n",
       "</div>"
      ],
      "text/plain": [
       "         date  compound_score\n",
       "0  2014-01-02        0.153433\n",
       "1  2014-01-03        0.173104\n",
       "2  2014-01-04        0.184717\n",
       "3  2014-01-05        0.148632\n",
       "4  2014-01-06        0.154831"
      ]
     },
     "execution_count": 41,
     "metadata": {},
     "output_type": "execute_result"
    }
   ],
   "source": [
    "twitter_sentiments.head()"
   ]
  },
  {
   "cell_type": "code",
   "execution_count": 42,
   "id": "b35ee2e3",
   "metadata": {},
   "outputs": [
    {
     "data": {
      "text/plain": [
       "date              0\n",
       "compound_score    0\n",
       "dtype: int64"
      ]
     },
     "execution_count": 42,
     "metadata": {},
     "output_type": "execute_result"
    }
   ],
   "source": [
    "# Check for any null values\n",
    "twitter_sentiments.isnull().sum()"
   ]
  },
  {
   "cell_type": "code",
   "execution_count": 43,
   "id": "fd669ccf",
   "metadata": {},
   "outputs": [],
   "source": [
    "filtered_twitter_sentiments = twitter_sentiments[~(twitter_sentiments['date'] < '2015-01-01')]"
   ]
  },
  {
   "cell_type": "code",
   "execution_count": 44,
   "id": "75a4bc85",
   "metadata": {},
   "outputs": [
    {
     "ename": "ValueError",
     "evalue": "Length of values (2946) does not match length of index (2942)",
     "output_type": "error",
     "traceback": [
      "\u001b[1;31m--------------------------------------------------------------------------\u001b[0m",
      "\u001b[1;31mValueError\u001b[0m                               Traceback (most recent call last)",
      "\u001b[1;32m~\\AppData\\Local\\Temp\\ipykernel_3412\\3262480667.py\u001b[0m in \u001b[0;36m<module>\u001b[1;34m\u001b[0m\n\u001b[1;32m----> 1\u001b[1;33m \u001b[0mfiltered_twitter_sentiments\u001b[0m\u001b[1;33m[\u001b[0m\u001b[1;34m'close'\u001b[0m\u001b[1;33m]\u001b[0m \u001b[1;33m=\u001b[0m \u001b[0mlist\u001b[0m\u001b[1;33m(\u001b[0m\u001b[0mfiltered_prices\u001b[0m\u001b[1;33m[\u001b[0m\u001b[1;34m'close'\u001b[0m\u001b[1;33m]\u001b[0m\u001b[1;33m)\u001b[0m\u001b[1;33m\u001b[0m\u001b[1;33m\u001b[0m\u001b[0m\n\u001b[0m",
      "\u001b[1;32mc:\\users\\acer\\appdata\\local\\programs\\python\\python37\\lib\\site-packages\\pandas\\core\\frame.py\u001b[0m in \u001b[0;36m__setitem__\u001b[1;34m(self, key, value)\u001b[0m\n\u001b[0;32m   3610\u001b[0m         \u001b[1;32melse\u001b[0m\u001b[1;33m:\u001b[0m\u001b[1;33m\u001b[0m\u001b[1;33m\u001b[0m\u001b[0m\n\u001b[0;32m   3611\u001b[0m             \u001b[1;31m# set column\u001b[0m\u001b[1;33m\u001b[0m\u001b[1;33m\u001b[0m\u001b[1;33m\u001b[0m\u001b[0m\n\u001b[1;32m-> 3612\u001b[1;33m             \u001b[0mself\u001b[0m\u001b[1;33m.\u001b[0m\u001b[0m_set_item\u001b[0m\u001b[1;33m(\u001b[0m\u001b[0mkey\u001b[0m\u001b[1;33m,\u001b[0m \u001b[0mvalue\u001b[0m\u001b[1;33m)\u001b[0m\u001b[1;33m\u001b[0m\u001b[1;33m\u001b[0m\u001b[0m\n\u001b[0m\u001b[0;32m   3613\u001b[0m \u001b[1;33m\u001b[0m\u001b[0m\n\u001b[0;32m   3614\u001b[0m     \u001b[1;32mdef\u001b[0m \u001b[0m_setitem_slice\u001b[0m\u001b[1;33m(\u001b[0m\u001b[0mself\u001b[0m\u001b[1;33m,\u001b[0m \u001b[0mkey\u001b[0m\u001b[1;33m:\u001b[0m \u001b[0mslice\u001b[0m\u001b[1;33m,\u001b[0m \u001b[0mvalue\u001b[0m\u001b[1;33m)\u001b[0m\u001b[1;33m:\u001b[0m\u001b[1;33m\u001b[0m\u001b[1;33m\u001b[0m\u001b[0m\n",
      "\u001b[1;32mc:\\users\\acer\\appdata\\local\\programs\\python\\python37\\lib\\site-packages\\pandas\\core\\frame.py\u001b[0m in \u001b[0;36m_set_item\u001b[1;34m(self, key, value)\u001b[0m\n\u001b[0;32m   3782\u001b[0m         \u001b[0mensure\u001b[0m \u001b[0mhomogeneity\u001b[0m\u001b[1;33m.\u001b[0m\u001b[1;33m\u001b[0m\u001b[1;33m\u001b[0m\u001b[0m\n\u001b[0;32m   3783\u001b[0m         \"\"\"\n\u001b[1;32m-> 3784\u001b[1;33m         \u001b[0mvalue\u001b[0m \u001b[1;33m=\u001b[0m \u001b[0mself\u001b[0m\u001b[1;33m.\u001b[0m\u001b[0m_sanitize_column\u001b[0m\u001b[1;33m(\u001b[0m\u001b[0mvalue\u001b[0m\u001b[1;33m)\u001b[0m\u001b[1;33m\u001b[0m\u001b[1;33m\u001b[0m\u001b[0m\n\u001b[0m\u001b[0;32m   3785\u001b[0m \u001b[1;33m\u001b[0m\u001b[0m\n\u001b[0;32m   3786\u001b[0m         if (\n",
      "\u001b[1;32mc:\\users\\acer\\appdata\\local\\programs\\python\\python37\\lib\\site-packages\\pandas\\core\\frame.py\u001b[0m in \u001b[0;36m_sanitize_column\u001b[1;34m(self, value)\u001b[0m\n\u001b[0;32m   4507\u001b[0m \u001b[1;33m\u001b[0m\u001b[0m\n\u001b[0;32m   4508\u001b[0m         \u001b[1;32mif\u001b[0m \u001b[0mis_list_like\u001b[0m\u001b[1;33m(\u001b[0m\u001b[0mvalue\u001b[0m\u001b[1;33m)\u001b[0m\u001b[1;33m:\u001b[0m\u001b[1;33m\u001b[0m\u001b[1;33m\u001b[0m\u001b[0m\n\u001b[1;32m-> 4509\u001b[1;33m             \u001b[0mcom\u001b[0m\u001b[1;33m.\u001b[0m\u001b[0mrequire_length_match\u001b[0m\u001b[1;33m(\u001b[0m\u001b[0mvalue\u001b[0m\u001b[1;33m,\u001b[0m \u001b[0mself\u001b[0m\u001b[1;33m.\u001b[0m\u001b[0mindex\u001b[0m\u001b[1;33m)\u001b[0m\u001b[1;33m\u001b[0m\u001b[1;33m\u001b[0m\u001b[0m\n\u001b[0m\u001b[0;32m   4510\u001b[0m         \u001b[1;32mreturn\u001b[0m \u001b[0msanitize_array\u001b[0m\u001b[1;33m(\u001b[0m\u001b[0mvalue\u001b[0m\u001b[1;33m,\u001b[0m \u001b[0mself\u001b[0m\u001b[1;33m.\u001b[0m\u001b[0mindex\u001b[0m\u001b[1;33m,\u001b[0m \u001b[0mcopy\u001b[0m\u001b[1;33m=\u001b[0m\u001b[1;32mTrue\u001b[0m\u001b[1;33m,\u001b[0m \u001b[0mallow_2d\u001b[0m\u001b[1;33m=\u001b[0m\u001b[1;32mTrue\u001b[0m\u001b[1;33m)\u001b[0m\u001b[1;33m\u001b[0m\u001b[1;33m\u001b[0m\u001b[0m\n\u001b[0;32m   4511\u001b[0m \u001b[1;33m\u001b[0m\u001b[0m\n",
      "\u001b[1;32mc:\\users\\acer\\appdata\\local\\programs\\python\\python37\\lib\\site-packages\\pandas\\core\\common.py\u001b[0m in \u001b[0;36mrequire_length_match\u001b[1;34m(data, index)\u001b[0m\n\u001b[0;32m    530\u001b[0m     \u001b[1;32mif\u001b[0m \u001b[0mlen\u001b[0m\u001b[1;33m(\u001b[0m\u001b[0mdata\u001b[0m\u001b[1;33m)\u001b[0m \u001b[1;33m!=\u001b[0m \u001b[0mlen\u001b[0m\u001b[1;33m(\u001b[0m\u001b[0mindex\u001b[0m\u001b[1;33m)\u001b[0m\u001b[1;33m:\u001b[0m\u001b[1;33m\u001b[0m\u001b[1;33m\u001b[0m\u001b[0m\n\u001b[0;32m    531\u001b[0m         raise ValueError(\n\u001b[1;32m--> 532\u001b[1;33m             \u001b[1;34m\"Length of values \"\u001b[0m\u001b[1;33m\u001b[0m\u001b[1;33m\u001b[0m\u001b[0m\n\u001b[0m\u001b[0;32m    533\u001b[0m             \u001b[1;34mf\"({len(data)}) \"\u001b[0m\u001b[1;33m\u001b[0m\u001b[1;33m\u001b[0m\u001b[0m\n\u001b[0;32m    534\u001b[0m             \u001b[1;34m\"does not match length of index \"\u001b[0m\u001b[1;33m\u001b[0m\u001b[1;33m\u001b[0m\u001b[0m\n",
      "\u001b[1;31mValueError\u001b[0m: Length of values (2946) does not match length of index (2942)"
     ]
    }
   ],
   "source": [
    "filtered_twitter_sentiments['close'] = list(filtered_prices['close'])"
   ]
  },
  {
   "cell_type": "markdown",
   "id": "730ebfcc",
   "metadata": {},
   "source": [
    "Certain dates had no tweets.\n",
    "\n",
    "**This would be a common issue for all datasets. Therefore, the mean value will have to be imputed.**\n",
    "\n",
    "As at this stage we are only checking for which features to use, creating the combined dataset isn't the priority right now."
   ]
  },
  {
   "cell_type": "code",
   "execution_count": 45,
   "id": "d8c30fd2",
   "metadata": {},
   "outputs": [
    {
     "data": {
      "text/plain": [
       "(2942, 2946)"
      ]
     },
     "execution_count": 45,
     "metadata": {},
     "output_type": "execute_result"
    }
   ],
   "source": [
    "tw_dates = list(filtered_twitter_sentiments['date'])\n",
    "pr_dates = list(filtered_prices['date'])\n",
    "\n",
    "len(tw_dates), len(pr_dates)"
   ]
  },
  {
   "cell_type": "code",
   "execution_count": 46,
   "id": "3c9a380d",
   "metadata": {},
   "outputs": [
    {
     "data": {
      "text/plain": [
       "['2023-01-08', '2023-01-09', '2023-01-10', '2023-01-11']"
      ]
     },
     "execution_count": 46,
     "metadata": {},
     "output_type": "execute_result"
    }
   ],
   "source": [
    "missing_days = [day for day in pr_dates if day not in tw_dates]\n",
    "missing_days"
   ]
  },
  {
   "cell_type": "code",
   "execution_count": 47,
   "id": "a3075153",
   "metadata": {},
   "outputs": [],
   "source": [
    "# Remove the above rows from prices\n",
    "tweet_prices = filtered_prices[~(filtered_prices['date'] == missing_days[0])]\n",
    "tweet_prices = tweet_prices[~(tweet_prices['date'] == missing_days[1])]\n",
    "tweet_prices = tweet_prices[~(tweet_prices['date'] == missing_days[2])]\n",
    "tweet_prices = tweet_prices[~(tweet_prices['date'] == missing_days[3])]"
   ]
  },
  {
   "cell_type": "code",
   "execution_count": 48,
   "id": "9992c5e0",
   "metadata": {},
   "outputs": [
    {
     "data": {
      "text/plain": [
       "2942"
      ]
     },
     "execution_count": 48,
     "metadata": {},
     "output_type": "execute_result"
    }
   ],
   "source": [
    "len(tweet_prices)"
   ]
  },
  {
   "cell_type": "code",
   "execution_count": 49,
   "id": "295e152b",
   "metadata": {},
   "outputs": [
    {
     "name": "stderr",
     "output_type": "stream",
     "text": [
      "c:\\users\\acer\\appdata\\local\\programs\\python\\python37\\lib\\site-packages\\ipykernel_launcher.py:1: SettingWithCopyWarning: \n",
      "A value is trying to be set on a copy of a slice from a DataFrame.\n",
      "Try using .loc[row_indexer,col_indexer] = value instead\n",
      "\n",
      "See the caveats in the documentation: https://pandas.pydata.org/pandas-docs/stable/user_guide/indexing.html#returning-a-view-versus-a-copy\n",
      "  \"\"\"Entry point for launching an IPython kernel.\n"
     ]
    }
   ],
   "source": [
    "filtered_twitter_sentiments['close'] = list(tweet_prices['close'])"
   ]
  },
  {
   "cell_type": "code",
   "execution_count": 50,
   "id": "85092ef6",
   "metadata": {},
   "outputs": [
    {
     "data": {
      "image/png": "[encoded data removed]",
      "text/plain": [
       "<Figure size 432x288 with 2 Axes>"
      ]
     },
     "metadata": {
      "needs_background": "light"
     },
     "output_type": "display_data"
    }
   ],
   "source": [
    "# Check correlation\n",
    "sns.heatmap(filtered_twitter_sentiments.corr(), annot=True)\n",
    "plt.show()"
   ]
  },
  {
   "cell_type": "markdown",
   "id": "db51323c",
   "metadata": {},
   "source": [
    "As there is no high correlation, `twitter sentiment` can also be considered"
   ]
  },
  {
   "cell_type": "markdown",
   "id": "bec5b89d",
   "metadata": {},
   "source": [
    "### Create final dataset"
   ]
  },
  {
   "cell_type": "code",
   "execution_count": 92,
   "id": "9b2c617d",
   "metadata": {},
   "outputs": [],
   "source": [
    "filtered_prices = historical_prices[~(historical_prices['date'] < '2015-01-01')]\n",
    "filtered_t_volume = twitter_volume[~(twitter_volume['Date'] < '2015-01-01')]\n",
    "filtered_block_reward = block_reward[~(block_reward['Date'] < '2015-01-01')]\n",
    "filtered_gtrends = gtrends[~(gtrends['date'] < '2015-01-01')]\n",
    "filtered_twitter_sentiments = twitter_sentiments[~(twitter_sentiments['date'] < '2015-01-01')]"
   ]
  },
  {
   "cell_type": "markdown",
   "id": "adc832bd",
   "metadata": {},
   "source": [
    "**Combine columns into prices dataset**"
   ]
  },
  {
   "cell_type": "code",
   "execution_count": 57,
   "id": "66a98d0e",
   "metadata": {},
   "outputs": [],
   "source": [
    "import copy"
   ]
  },
  {
   "cell_type": "code",
   "execution_count": 58,
   "id": "e71e1640",
   "metadata": {},
   "outputs": [],
   "source": [
    "combined_df = copy.deepcopy(filtered_prices)"
   ]
  },
  {
   "cell_type": "code",
   "execution_count": 64,
   "id": "030a77a5",
   "metadata": {},
   "outputs": [],
   "source": [
    "combined_df['block reward'] = list(filtered_block_reward['Block Reward Size'])"
   ]
  },
  {
   "cell_type": "code",
   "execution_count": 65,
   "id": "ca7c3ea9",
   "metadata": {},
   "outputs": [
    {
     "data": {
      "text/html": [
       "<div>\n",
       "<style scoped>\n",
       "    .dataframe tbody tr th:only-of-type {\n",
       "        vertical-align: middle;\n",
       "    }\n",
       "\n",
       "    .dataframe tbody tr th {\n",
       "        vertical-align: top;\n",
       "    }\n",
       "\n",
       "    .dataframe thead th {\n",
       "        text-align: right;\n",
       "    }\n",
       "</style>\n",
       "<table border=\"1\" class=\"dataframe\">\n",
       "  <thead>\n",
       "    <tr style=\"text-align: right;\">\n",
       "      <th></th>\n",
       "      <th>date</th>\n",
       "      <th>volume</th>\n",
       "      <th>close</th>\n",
       "      <th>change_percent</th>\n",
       "      <th>block reward</th>\n",
       "    </tr>\n",
       "  </thead>\n",
       "  <tbody>\n",
       "    <tr>\n",
       "      <th>365</th>\n",
       "      <td>2015-01-01</td>\n",
       "      <td>12820</td>\n",
       "      <td>314.890015</td>\n",
       "      <td>-1.052657</td>\n",
       "      <td>0.195</td>\n",
       "    </tr>\n",
       "    <tr>\n",
       "      <th>366</th>\n",
       "      <td>2015-01-02</td>\n",
       "      <td>14729</td>\n",
       "      <td>315.209991</td>\n",
       "      <td>0.101615</td>\n",
       "      <td>0.286</td>\n",
       "    </tr>\n",
       "    <tr>\n",
       "      <th>367</th>\n",
       "      <td>2015-01-03</td>\n",
       "      <td>47366</td>\n",
       "      <td>287.130005</td>\n",
       "      <td>-8.908343</td>\n",
       "      <td>0.291</td>\n",
       "    </tr>\n",
       "    <tr>\n",
       "      <th>368</th>\n",
       "      <td>2015-01-04</td>\n",
       "      <td>88769</td>\n",
       "      <td>264.720001</td>\n",
       "      <td>-7.804828</td>\n",
       "      <td>0.504</td>\n",
       "    </tr>\n",
       "    <tr>\n",
       "      <th>369</th>\n",
       "      <td>2015-01-05</td>\n",
       "      <td>54993</td>\n",
       "      <td>274.839996</td>\n",
       "      <td>3.822905</td>\n",
       "      <td>0.412</td>\n",
       "    </tr>\n",
       "  </tbody>\n",
       "</table>\n",
       "</div>"
      ],
      "text/plain": [
       "           date  volume       close  change_percent  block reward\n",
       "365  2015-01-01   12820  314.890015       -1.052657         0.195\n",
       "366  2015-01-02   14729  315.209991        0.101615         0.286\n",
       "367  2015-01-03   47366  287.130005       -8.908343         0.291\n",
       "368  2015-01-04   88769  264.720001       -7.804828         0.504\n",
       "369  2015-01-05   54993  274.839996        3.822905         0.412"
      ]
     },
     "execution_count": 65,
     "metadata": {},
     "output_type": "execute_result"
    }
   ],
   "source": [
    "combined_df.head()"
   ]
  },
  {
   "cell_type": "code",
   "execution_count": 66,
   "id": "70526b5d",
   "metadata": {},
   "outputs": [],
   "source": [
    "combined_df['twitter volume'] = list(filtered_t_volume['Tweet Volume'])"
   ]
  },
  {
   "cell_type": "code",
   "execution_count": 67,
   "id": "ac24f948",
   "metadata": {},
   "outputs": [],
   "source": [
    "combined_df['bitcoin unscaled'] = list(filtered_gtrends['bitcoin_unscaled'])"
   ]
  },
  {
   "cell_type": "code",
   "execution_count": 68,
   "id": "6a6a3478",
   "metadata": {},
   "outputs": [
    {
     "ename": "ValueError",
     "evalue": "Length of values (2942) does not match length of index (2946)",
     "output_type": "error",
     "traceback": [
      "\u001b[1;31m--------------------------------------------------------------------------\u001b[0m",
      "\u001b[1;31mValueError\u001b[0m                               Traceback (most recent call last)",
      "\u001b[1;32m~\\AppData\\Local\\Temp\\ipykernel_3412\\1614615322.py\u001b[0m in \u001b[0;36m<module>\u001b[1;34m\u001b[0m\n\u001b[1;32m----> 1\u001b[1;33m \u001b[0mcombined_df\u001b[0m\u001b[1;33m[\u001b[0m\u001b[1;34m'sentiment'\u001b[0m\u001b[1;33m]\u001b[0m \u001b[1;33m=\u001b[0m \u001b[0mlist\u001b[0m\u001b[1;33m(\u001b[0m\u001b[0mfiltered_twitter_sentiments\u001b[0m\u001b[1;33m[\u001b[0m\u001b[1;34m'compound_score'\u001b[0m\u001b[1;33m]\u001b[0m\u001b[1;33m)\u001b[0m\u001b[1;33m\u001b[0m\u001b[1;33m\u001b[0m\u001b[0m\n\u001b[0m",
      "\u001b[1;32mc:\\users\\acer\\appdata\\local\\programs\\python\\python37\\lib\\site-packages\\pandas\\core\\frame.py\u001b[0m in \u001b[0;36m__setitem__\u001b[1;34m(self, key, value)\u001b[0m\n\u001b[0;32m   3610\u001b[0m         \u001b[1;32melse\u001b[0m\u001b[1;33m:\u001b[0m\u001b[1;33m\u001b[0m\u001b[1;33m\u001b[0m\u001b[0m\n\u001b[0;32m   3611\u001b[0m             \u001b[1;31m# set column\u001b[0m\u001b[1;33m\u001b[0m\u001b[1;33m\u001b[0m\u001b[1;33m\u001b[0m\u001b[0m\n\u001b[1;32m-> 3612\u001b[1;33m             \u001b[0mself\u001b[0m\u001b[1;33m.\u001b[0m\u001b[0m_set_item\u001b[0m\u001b[1;33m(\u001b[0m\u001b[0mkey\u001b[0m\u001b[1;33m,\u001b[0m \u001b[0mvalue\u001b[0m\u001b[1;33m)\u001b[0m\u001b[1;33m\u001b[0m\u001b[1;33m\u001b[0m\u001b[0m\n\u001b[0m\u001b[0;32m   3613\u001b[0m \u001b[1;33m\u001b[0m\u001b[0m\n\u001b[0;32m   3614\u001b[0m     \u001b[1;32mdef\u001b[0m \u001b[0m_setitem_slice\u001b[0m\u001b[1;33m(\u001b[0m\u001b[0mself\u001b[0m\u001b[1;33m,\u001b[0m \u001b[0mkey\u001b[0m\u001b[1;33m:\u001b[0m \u001b[0mslice\u001b[0m\u001b[1;33m,\u001b[0m \u001b[0mvalue\u001b[0m\u001b[1;33m)\u001b[0m\u001b[1;33m:\u001b[0m\u001b[1;33m\u001b[0m\u001b[1;33m\u001b[0m\u001b[0m\n",
      "\u001b[1;32mc:\\users\\acer\\appdata\\local\\programs\\python\\python37\\lib\\site-packages\\pandas\\core\\frame.py\u001b[0m in \u001b[0;36m_set_item\u001b[1;34m(self, key, value)\u001b[0m\n\u001b[0;32m   3782\u001b[0m         \u001b[0mensure\u001b[0m \u001b[0mhomogeneity\u001b[0m\u001b[1;33m.\u001b[0m\u001b[1;33m\u001b[0m\u001b[1;33m\u001b[0m\u001b[0m\n\u001b[0;32m   3783\u001b[0m         \"\"\"\n\u001b[1;32m-> 3784\u001b[1;33m         \u001b[0mvalue\u001b[0m \u001b[1;33m=\u001b[0m \u001b[0mself\u001b[0m\u001b[1;33m.\u001b[0m\u001b[0m_sanitize_column\u001b[0m\u001b[1;33m(\u001b[0m\u001b[0mvalue\u001b[0m\u001b[1;33m)\u001b[0m\u001b[1;33m\u001b[0m\u001b[1;33m\u001b[0m\u001b[0m\n\u001b[0m\u001b[0;32m   3785\u001b[0m \u001b[1;33m\u001b[0m\u001b[0m\n\u001b[0;32m   3786\u001b[0m         if (\n",
      "\u001b[1;32mc:\\users\\acer\\appdata\\local\\programs\\python\\python37\\lib\\site-packages\\pandas\\core\\frame.py\u001b[0m in \u001b[0;36m_sanitize_column\u001b[1;34m(self, value)\u001b[0m\n\u001b[0;32m   4507\u001b[0m \u001b[1;33m\u001b[0m\u001b[0m\n\u001b[0;32m   4508\u001b[0m         \u001b[1;32mif\u001b[0m \u001b[0mis_list_like\u001b[0m\u001b[1;33m(\u001b[0m\u001b[0mvalue\u001b[0m\u001b[1;33m)\u001b[0m\u001b[1;33m:\u001b[0m\u001b[1;33m\u001b[0m\u001b[1;33m\u001b[0m\u001b[0m\n\u001b[1;32m-> 4509\u001b[1;33m             \u001b[0mcom\u001b[0m\u001b[1;33m.\u001b[0m\u001b[0mrequire_length_match\u001b[0m\u001b[1;33m(\u001b[0m\u001b[0mvalue\u001b[0m\u001b[1;33m,\u001b[0m \u001b[0mself\u001b[0m\u001b[1;33m.\u001b[0m\u001b[0mindex\u001b[0m\u001b[1;33m)\u001b[0m\u001b[1;33m\u001b[0m\u001b[1;33m\u001b[0m\u001b[0m\n\u001b[0m\u001b[0;32m   4510\u001b[0m         \u001b[1;32mreturn\u001b[0m \u001b[0msanitize_array\u001b[0m\u001b[1;33m(\u001b[0m\u001b[0mvalue\u001b[0m\u001b[1;33m,\u001b[0m \u001b[0mself\u001b[0m\u001b[1;33m.\u001b[0m\u001b[0mindex\u001b[0m\u001b[1;33m,\u001b[0m \u001b[0mcopy\u001b[0m\u001b[1;33m=\u001b[0m\u001b[1;32mTrue\u001b[0m\u001b[1;33m,\u001b[0m \u001b[0mallow_2d\u001b[0m\u001b[1;33m=\u001b[0m\u001b[1;32mTrue\u001b[0m\u001b[1;33m)\u001b[0m\u001b[1;33m\u001b[0m\u001b[1;33m\u001b[0m\u001b[0m\n\u001b[0;32m   4511\u001b[0m \u001b[1;33m\u001b[0m\u001b[0m\n",
      "\u001b[1;32mc:\\users\\acer\\appdata\\local\\programs\\python\\python37\\lib\\site-packages\\pandas\\core\\common.py\u001b[0m in \u001b[0;36mrequire_length_match\u001b[1;34m(data, index)\u001b[0m\n\u001b[0;32m    530\u001b[0m     \u001b[1;32mif\u001b[0m \u001b[0mlen\u001b[0m\u001b[1;33m(\u001b[0m\u001b[0mdata\u001b[0m\u001b[1;33m)\u001b[0m \u001b[1;33m!=\u001b[0m \u001b[0mlen\u001b[0m\u001b[1;33m(\u001b[0m\u001b[0mindex\u001b[0m\u001b[1;33m)\u001b[0m\u001b[1;33m:\u001b[0m\u001b[1;33m\u001b[0m\u001b[1;33m\u001b[0m\u001b[0m\n\u001b[0;32m    531\u001b[0m         raise ValueError(\n\u001b[1;32m--> 532\u001b[1;33m             \u001b[1;34m\"Length of values \"\u001b[0m\u001b[1;33m\u001b[0m\u001b[1;33m\u001b[0m\u001b[0m\n\u001b[0m\u001b[0;32m    533\u001b[0m             \u001b[1;34mf\"({len(data)}) \"\u001b[0m\u001b[1;33m\u001b[0m\u001b[1;33m\u001b[0m\u001b[0m\n\u001b[0;32m    534\u001b[0m             \u001b[1;34m\"does not match length of index \"\u001b[0m\u001b[1;33m\u001b[0m\u001b[1;33m\u001b[0m\u001b[0m\n",
      "\u001b[1;31mValueError\u001b[0m: Length of values (2942) does not match length of index (2946)"
     ]
    }
   ],
   "source": [
    "combined_df['sentiment'] = list(filtered_twitter_sentiments['compound_score'])"
   ]
  },
  {
   "cell_type": "code",
   "execution_count": 70,
   "id": "bbab8ca2",
   "metadata": {},
   "outputs": [
    {
     "data": {
      "text/html": [
       "<div>\n",
       "<style scoped>\n",
       "    .dataframe tbody tr th:only-of-type {\n",
       "        vertical-align: middle;\n",
       "    }\n",
       "\n",
       "    .dataframe tbody tr th {\n",
       "        vertical-align: top;\n",
       "    }\n",
       "\n",
       "    .dataframe thead th {\n",
       "        text-align: right;\n",
       "    }\n",
       "</style>\n",
       "<table border=\"1\" class=\"dataframe\">\n",
       "  <thead>\n",
       "    <tr style=\"text-align: right;\">\n",
       "      <th></th>\n",
       "      <th>date</th>\n",
       "      <th>volume</th>\n",
       "      <th>close</th>\n",
       "      <th>change_percent</th>\n",
       "      <th>block reward</th>\n",
       "      <th>twitter volume</th>\n",
       "      <th>bitcoin unscaled</th>\n",
       "    </tr>\n",
       "  </thead>\n",
       "  <tbody>\n",
       "    <tr>\n",
       "      <th>365</th>\n",
       "      <td>2015-01-01</td>\n",
       "      <td>12820</td>\n",
       "      <td>314.890015</td>\n",
       "      <td>-1.052657</td>\n",
       "      <td>0.195</td>\n",
       "      <td>18681.0000</td>\n",
       "      <td>48</td>\n",
       "    </tr>\n",
       "    <tr>\n",
       "      <th>366</th>\n",
       "      <td>2015-01-02</td>\n",
       "      <td>14729</td>\n",
       "      <td>315.209991</td>\n",
       "      <td>0.101615</td>\n",
       "      <td>0.286</td>\n",
       "      <td>9385.0000</td>\n",
       "      <td>47</td>\n",
       "    </tr>\n",
       "    <tr>\n",
       "      <th>367</th>\n",
       "      <td>2015-01-03</td>\n",
       "      <td>47366</td>\n",
       "      <td>287.130005</td>\n",
       "      <td>-8.908343</td>\n",
       "      <td>0.291</td>\n",
       "      <td>57542.1391</td>\n",
       "      <td>51</td>\n",
       "    </tr>\n",
       "    <tr>\n",
       "      <th>368</th>\n",
       "      <td>2015-01-04</td>\n",
       "      <td>88769</td>\n",
       "      <td>264.720001</td>\n",
       "      <td>-7.804828</td>\n",
       "      <td>0.504</td>\n",
       "      <td>7300.0000</td>\n",
       "      <td>67</td>\n",
       "    </tr>\n",
       "    <tr>\n",
       "      <th>369</th>\n",
       "      <td>2015-01-05</td>\n",
       "      <td>54993</td>\n",
       "      <td>274.839996</td>\n",
       "      <td>3.822905</td>\n",
       "      <td>0.412</td>\n",
       "      <td>23092.0000</td>\n",
       "      <td>73</td>\n",
       "    </tr>\n",
       "  </tbody>\n",
       "</table>\n",
       "</div>"
      ],
      "text/plain": [
       "           date  volume       close  change_percent  block reward  \\\n",
       "365  2015-01-01   12820  314.890015       -1.052657         0.195   \n",
       "366  2015-01-02   14729  315.209991        0.101615         0.286   \n",
       "367  2015-01-03   47366  287.130005       -8.908343         0.291   \n",
       "368  2015-01-04   88769  264.720001       -7.804828         0.504   \n",
       "369  2015-01-05   54993  274.839996        3.822905         0.412   \n",
       "\n",
       "     twitter volume  bitcoin unscaled  \n",
       "365      18681.0000                48  \n",
       "366       9385.0000                47  \n",
       "367      57542.1391                51  \n",
       "368       7300.0000                67  \n",
       "369      23092.0000                73  "
      ]
     },
     "execution_count": 70,
     "metadata": {},
     "output_type": "execute_result"
    }
   ],
   "source": [
    "combined_df.head()"
   ]
  },
  {
   "cell_type": "code",
   "execution_count": 71,
   "id": "8038f881",
   "metadata": {},
   "outputs": [
    {
     "data": {
      "text/html": [
       "<div>\n",
       "<style scoped>\n",
       "    .dataframe tbody tr th:only-of-type {\n",
       "        vertical-align: middle;\n",
       "    }\n",
       "\n",
       "    .dataframe tbody tr th {\n",
       "        vertical-align: top;\n",
       "    }\n",
       "\n",
       "    .dataframe thead th {\n",
       "        text-align: right;\n",
       "    }\n",
       "</style>\n",
       "<table border=\"1\" class=\"dataframe\">\n",
       "  <thead>\n",
       "    <tr style=\"text-align: right;\">\n",
       "      <th></th>\n",
       "      <th>date</th>\n",
       "      <th>compound_score</th>\n",
       "      <th>close</th>\n",
       "    </tr>\n",
       "  </thead>\n",
       "  <tbody>\n",
       "    <tr>\n",
       "      <th>364</th>\n",
       "      <td>2015-01-01</td>\n",
       "      <td>0.129292</td>\n",
       "      <td>314.890015</td>\n",
       "    </tr>\n",
       "    <tr>\n",
       "      <th>365</th>\n",
       "      <td>2015-01-02</td>\n",
       "      <td>0.172895</td>\n",
       "      <td>315.209991</td>\n",
       "    </tr>\n",
       "    <tr>\n",
       "      <th>366</th>\n",
       "      <td>2015-01-03</td>\n",
       "      <td>0.160714</td>\n",
       "      <td>287.130005</td>\n",
       "    </tr>\n",
       "    <tr>\n",
       "      <th>367</th>\n",
       "      <td>2015-01-04</td>\n",
       "      <td>0.160599</td>\n",
       "      <td>264.720001</td>\n",
       "    </tr>\n",
       "    <tr>\n",
       "      <th>368</th>\n",
       "      <td>2015-01-05</td>\n",
       "      <td>0.186722</td>\n",
       "      <td>274.839996</td>\n",
       "    </tr>\n",
       "  </tbody>\n",
       "</table>\n",
       "</div>"
      ],
      "text/plain": [
       "           date  compound_score       close\n",
       "364  2015-01-01        0.129292  314.890015\n",
       "365  2015-01-02        0.172895  315.209991\n",
       "366  2015-01-03        0.160714  287.130005\n",
       "367  2015-01-04        0.160599  264.720001\n",
       "368  2015-01-05        0.186722  274.839996"
      ]
     },
     "execution_count": 71,
     "metadata": {},
     "output_type": "execute_result"
    }
   ],
   "source": [
    "filtered_twitter_sentiments.head()"
   ]
  },
  {
   "cell_type": "code",
   "execution_count": 72,
   "id": "fe8e6199",
   "metadata": {},
   "outputs": [
    {
     "data": {
      "text/html": [
       "<div>\n",
       "<style scoped>\n",
       "    .dataframe tbody tr th:only-of-type {\n",
       "        vertical-align: middle;\n",
       "    }\n",
       "\n",
       "    .dataframe tbody tr th {\n",
       "        vertical-align: top;\n",
       "    }\n",
       "\n",
       "    .dataframe thead th {\n",
       "        text-align: right;\n",
       "    }\n",
       "</style>\n",
       "<table border=\"1\" class=\"dataframe\">\n",
       "  <thead>\n",
       "    <tr style=\"text-align: right;\">\n",
       "      <th></th>\n",
       "      <th>date</th>\n",
       "      <th>compound_score</th>\n",
       "    </tr>\n",
       "  </thead>\n",
       "  <tbody>\n",
       "    <tr>\n",
       "      <th>364</th>\n",
       "      <td>2015-01-01</td>\n",
       "      <td>0.129292</td>\n",
       "    </tr>\n",
       "    <tr>\n",
       "      <th>365</th>\n",
       "      <td>2015-01-02</td>\n",
       "      <td>0.172895</td>\n",
       "    </tr>\n",
       "    <tr>\n",
       "      <th>366</th>\n",
       "      <td>2015-01-03</td>\n",
       "      <td>0.160714</td>\n",
       "    </tr>\n",
       "    <tr>\n",
       "      <th>367</th>\n",
       "      <td>2015-01-04</td>\n",
       "      <td>0.160599</td>\n",
       "    </tr>\n",
       "    <tr>\n",
       "      <th>368</th>\n",
       "      <td>2015-01-05</td>\n",
       "      <td>0.186722</td>\n",
       "    </tr>\n",
       "  </tbody>\n",
       "</table>\n",
       "</div>"
      ],
      "text/plain": [
       "           date  compound_score\n",
       "364  2015-01-01        0.129292\n",
       "365  2015-01-02        0.172895\n",
       "366  2015-01-03        0.160714\n",
       "367  2015-01-04        0.160599\n",
       "368  2015-01-05        0.186722"
      ]
     },
     "execution_count": 72,
     "metadata": {},
     "output_type": "execute_result"
    }
   ],
   "source": [
    "filtered_twitter_sentiments_ = filtered_twitter_sentiments.drop(['close'], axis=1)\n",
    "filtered_twitter_sentiments_.head()"
   ]
  },
  {
   "cell_type": "markdown",
   "id": "4c3272e2",
   "metadata": {},
   "source": [
    "There are missing dates. We need to find a way to add NaN into those missing date rows"
   ]
  },
  {
   "cell_type": "code",
   "execution_count": 80,
   "id": "4f929c06",
   "metadata": {
    "scrolled": true
   },
   "outputs": [
    {
     "data": {
      "text/html": [
       "<div>\n",
       "<style scoped>\n",
       "    .dataframe tbody tr th:only-of-type {\n",
       "        vertical-align: middle;\n",
       "    }\n",
       "\n",
       "    .dataframe tbody tr th {\n",
       "        vertical-align: top;\n",
       "    }\n",
       "\n",
       "    .dataframe thead th {\n",
       "        text-align: right;\n",
       "    }\n",
       "</style>\n",
       "<table border=\"1\" class=\"dataframe\">\n",
       "  <thead>\n",
       "    <tr style=\"text-align: right;\">\n",
       "      <th></th>\n",
       "      <th>date</th>\n",
       "      <th>volume</th>\n",
       "      <th>close</th>\n",
       "      <th>change_percent</th>\n",
       "      <th>block reward</th>\n",
       "      <th>twitter volume</th>\n",
       "      <th>bitcoin unscaled</th>\n",
       "      <th>compound_score</th>\n",
       "    </tr>\n",
       "  </thead>\n",
       "  <tbody>\n",
       "    <tr>\n",
       "      <th>0</th>\n",
       "      <td>2015-01-01</td>\n",
       "      <td>12820</td>\n",
       "      <td>314.890015</td>\n",
       "      <td>-1.052657</td>\n",
       "      <td>0.195000</td>\n",
       "      <td>18681.0000</td>\n",
       "      <td>48</td>\n",
       "      <td>0.129292</td>\n",
       "    </tr>\n",
       "    <tr>\n",
       "      <th>1</th>\n",
       "      <td>2015-01-02</td>\n",
       "      <td>14729</td>\n",
       "      <td>315.209991</td>\n",
       "      <td>0.101615</td>\n",
       "      <td>0.286000</td>\n",
       "      <td>9385.0000</td>\n",
       "      <td>47</td>\n",
       "      <td>0.172895</td>\n",
       "    </tr>\n",
       "    <tr>\n",
       "      <th>2</th>\n",
       "      <td>2015-01-03</td>\n",
       "      <td>47366</td>\n",
       "      <td>287.130005</td>\n",
       "      <td>-8.908343</td>\n",
       "      <td>0.291000</td>\n",
       "      <td>57542.1391</td>\n",
       "      <td>51</td>\n",
       "      <td>0.160714</td>\n",
       "    </tr>\n",
       "    <tr>\n",
       "      <th>3</th>\n",
       "      <td>2015-01-04</td>\n",
       "      <td>88769</td>\n",
       "      <td>264.720001</td>\n",
       "      <td>-7.804828</td>\n",
       "      <td>0.504000</td>\n",
       "      <td>7300.0000</td>\n",
       "      <td>67</td>\n",
       "      <td>0.160599</td>\n",
       "    </tr>\n",
       "    <tr>\n",
       "      <th>4</th>\n",
       "      <td>2015-01-05</td>\n",
       "      <td>54993</td>\n",
       "      <td>274.839996</td>\n",
       "      <td>3.822905</td>\n",
       "      <td>0.412000</td>\n",
       "      <td>23092.0000</td>\n",
       "      <td>73</td>\n",
       "      <td>0.186722</td>\n",
       "    </tr>\n",
       "    <tr>\n",
       "      <th>...</th>\n",
       "      <td>...</td>\n",
       "      <td>...</td>\n",
       "      <td>...</td>\n",
       "      <td>...</td>\n",
       "      <td>...</td>\n",
       "      <td>...</td>\n",
       "      <td>...</td>\n",
       "      <td>...</td>\n",
       "    </tr>\n",
       "    <tr>\n",
       "      <th>2941</th>\n",
       "      <td>2023-01-20</td>\n",
       "      <td>373735</td>\n",
       "      <td>22677.236328</td>\n",
       "      <td>7.570983</td>\n",
       "      <td>2.317000</td>\n",
       "      <td>135671.0000</td>\n",
       "      <td>61</td>\n",
       "      <td>0.088555</td>\n",
       "    </tr>\n",
       "    <tr>\n",
       "      <th>2942</th>\n",
       "      <td>2023-01-21</td>\n",
       "      <td>382688</td>\n",
       "      <td>22775.677734</td>\n",
       "      <td>0.434098</td>\n",
       "      <td>1.859000</td>\n",
       "      <td>134571.0000</td>\n",
       "      <td>67</td>\n",
       "      <td>0.076624</td>\n",
       "    </tr>\n",
       "    <tr>\n",
       "      <th>2943</th>\n",
       "      <td>2023-01-22</td>\n",
       "      <td>280644</td>\n",
       "      <td>22707.761719</td>\n",
       "      <td>-0.298195</td>\n",
       "      <td>1.438000</td>\n",
       "      <td>109526.0000</td>\n",
       "      <td>51</td>\n",
       "      <td>0.067227</td>\n",
       "    </tr>\n",
       "    <tr>\n",
       "      <th>2944</th>\n",
       "      <td>2023-01-23</td>\n",
       "      <td>327850</td>\n",
       "      <td>22915.494141</td>\n",
       "      <td>0.914808</td>\n",
       "      <td>1.490000</td>\n",
       "      <td>160357.0000</td>\n",
       "      <td>64</td>\n",
       "      <td>0.070769</td>\n",
       "    </tr>\n",
       "    <tr>\n",
       "      <th>2945</th>\n",
       "      <td>2023-01-24</td>\n",
       "      <td>333356</td>\n",
       "      <td>23071.386719</td>\n",
       "      <td>0.680293</td>\n",
       "      <td>3.040887</td>\n",
       "      <td>11741.0000</td>\n",
       "      <td>58</td>\n",
       "      <td>0.087760</td>\n",
       "    </tr>\n",
       "  </tbody>\n",
       "</table>\n",
       "<p>2946 rows × 8 columns</p>\n",
       "</div>"
      ],
      "text/plain": [
       "            date  volume         close  change_percent  block reward  \\\n",
       "0     2015-01-01   12820    314.890015       -1.052657      0.195000   \n",
       "1     2015-01-02   14729    315.209991        0.101615      0.286000   \n",
       "2     2015-01-03   47366    287.130005       -8.908343      0.291000   \n",
       "3     2015-01-04   88769    264.720001       -7.804828      0.504000   \n",
       "4     2015-01-05   54993    274.839996        3.822905      0.412000   \n",
       "...          ...     ...           ...             ...           ...   \n",
       "2941  2023-01-20  373735  22677.236328        7.570983      2.317000   \n",
       "2942  2023-01-21  382688  22775.677734        0.434098      1.859000   \n",
       "2943  2023-01-22  280644  22707.761719       -0.298195      1.438000   \n",
       "2944  2023-01-23  327850  22915.494141        0.914808      1.490000   \n",
       "2945  2023-01-24  333356  23071.386719        0.680293      3.040887   \n",
       "\n",
       "      twitter volume  bitcoin unscaled  compound_score  \n",
       "0         18681.0000                48        0.129292  \n",
       "1          9385.0000                47        0.172895  \n",
       "2         57542.1391                51        0.160714  \n",
       "3          7300.0000                67        0.160599  \n",
       "4         23092.0000                73        0.186722  \n",
       "...              ...               ...             ...  \n",
       "2941     135671.0000                61        0.088555  \n",
       "2942     134571.0000                67        0.076624  \n",
       "2943     109526.0000                51        0.067227  \n",
       "2944     160357.0000                64        0.070769  \n",
       "2945      11741.0000                58        0.087760  \n",
       "\n",
       "[2946 rows x 8 columns]"
      ]
     },
     "execution_count": 80,
     "metadata": {},
     "output_type": "execute_result"
    }
   ],
   "source": [
    "# A left outer join can be performed for such instances\n",
    "pd.merge(\n",
    "    combined_df,\n",
    "    filtered_twitter_sentiments_,\n",
    "    on=['date'],\n",
    "    how='left'\n",
    ")"
   ]
  },
  {
   "cell_type": "markdown",
   "id": "346f86dd",
   "metadata": {},
   "source": [
    "It's best to do the above for all the exogenous features as they would not contain values for each date, as above."
   ]
  },
  {
   "cell_type": "markdown",
   "id": "5a88bd16",
   "metadata": {},
   "source": [
    "**Join dataframes**"
   ]
  },
  {
   "cell_type": "code",
   "execution_count": 172,
   "id": "dcd15691",
   "metadata": {},
   "outputs": [],
   "source": [
    "TRENDS_DATA = '../../data/GTrends/BTC_GTrends_total_cleaned.csv'\n",
    "TWEETS_DATA = '../../data/Tweets/BTC_Tweet_Sentiment_Unweighed.csv'\n",
    "TWEET_VOLUME_DATA = '../../data/Tweets/BTC_Tweet_Volume.csv'\n",
    "BLOCK_REWARD_DATA = '../../data/BTC_Block_Reward.csv'\n",
    "BTC_PRICES_DATA = '../../data/BTC_Prices.csv'"
   ]
  },
  {
   "cell_type": "code",
   "execution_count": 173,
   "id": "ec4e893c",
   "metadata": {},
   "outputs": [],
   "source": [
    "historical_prices = pd.read_csv(BTC_PRICES_DATA)\n",
    "historical_prices.drop(['max', 'min', 'open'], axis=1, inplace=True)\n",
    "filtered_prices = historical_prices[~(historical_prices['date'] < '2015-01-01')]"
   ]
  },
  {
   "cell_type": "code",
   "execution_count": 174,
   "id": "1cff519c",
   "metadata": {},
   "outputs": [],
   "source": [
    "twitter_volume = pd.read_csv(TWEET_VOLUME_DATA)\n",
    "twitter_volume.drop(['Unnamed: 0'], axis=1, inplace=True)\n",
    "filtered_t_volume = twitter_volume[~(twitter_volume['Date'] < '2015-01-01')]"
   ]
  },
  {
   "cell_type": "code",
   "execution_count": 175,
   "id": "dcd3763c",
   "metadata": {},
   "outputs": [],
   "source": [
    "block_reward = pd.read_csv(BLOCK_REWARD_DATA)\n",
    "block_reward.drop(['Unnamed: 0'], axis=1, inplace=True)\n",
    "filtered_block_reward = block_reward[~(block_reward['Date'] < '2015-01-01')]"
   ]
  },
  {
   "cell_type": "code",
   "execution_count": 176,
   "id": "9358262a",
   "metadata": {},
   "outputs": [],
   "source": [
    "gtrends = pd.read_csv(TRENDS_DATA)\n",
    "filtered_gtrends = gtrends[~(gtrends['date'] < '2015-01-01')]"
   ]
  },
  {
   "cell_type": "code",
   "execution_count": 177,
   "id": "1de90440",
   "metadata": {},
   "outputs": [],
   "source": [
    "twitter_sentiments = pd.read_csv(TWEETS_DATA)\n",
    "twitter_sentiments.drop(['Unnamed: 0', 'negative_score', 'neutral_score', 'positive_score'], axis=1, inplace=True)\n",
    "filtered_twitter_sentiments = twitter_sentiments[~(twitter_sentiments['date'] < '2015-01-01')]"
   ]
  },
  {
   "cell_type": "code",
   "execution_count": 178,
   "id": "76053a2c",
   "metadata": {},
   "outputs": [
    {
     "data": {
      "text/html": [
       "<div>\n",
       "<style scoped>\n",
       "    .dataframe tbody tr th:only-of-type {\n",
       "        vertical-align: middle;\n",
       "    }\n",
       "\n",
       "    .dataframe tbody tr th {\n",
       "        vertical-align: top;\n",
       "    }\n",
       "\n",
       "    .dataframe thead th {\n",
       "        text-align: right;\n",
       "    }\n",
       "</style>\n",
       "<table border=\"1\" class=\"dataframe\">\n",
       "  <thead>\n",
       "    <tr style=\"text-align: right;\">\n",
       "      <th></th>\n",
       "      <th>date</th>\n",
       "      <th>volume</th>\n",
       "      <th>close</th>\n",
       "      <th>change_percent</th>\n",
       "    </tr>\n",
       "  </thead>\n",
       "  <tbody>\n",
       "    <tr>\n",
       "      <th>365</th>\n",
       "      <td>2015-01-01</td>\n",
       "      <td>12820</td>\n",
       "      <td>314.890015</td>\n",
       "      <td>-1.052657</td>\n",
       "    </tr>\n",
       "    <tr>\n",
       "      <th>366</th>\n",
       "      <td>2015-01-02</td>\n",
       "      <td>14729</td>\n",
       "      <td>315.209991</td>\n",
       "      <td>0.101615</td>\n",
       "    </tr>\n",
       "    <tr>\n",
       "      <th>367</th>\n",
       "      <td>2015-01-03</td>\n",
       "      <td>47366</td>\n",
       "      <td>287.130005</td>\n",
       "      <td>-8.908343</td>\n",
       "    </tr>\n",
       "    <tr>\n",
       "      <th>368</th>\n",
       "      <td>2015-01-04</td>\n",
       "      <td>88769</td>\n",
       "      <td>264.720001</td>\n",
       "      <td>-7.804828</td>\n",
       "    </tr>\n",
       "    <tr>\n",
       "      <th>369</th>\n",
       "      <td>2015-01-05</td>\n",
       "      <td>54993</td>\n",
       "      <td>274.839996</td>\n",
       "      <td>3.822905</td>\n",
       "    </tr>\n",
       "  </tbody>\n",
       "</table>\n",
       "</div>"
      ],
      "text/plain": [
       "           date  volume       close  change_percent\n",
       "365  2015-01-01   12820  314.890015       -1.052657\n",
       "366  2015-01-02   14729  315.209991        0.101615\n",
       "367  2015-01-03   47366  287.130005       -8.908343\n",
       "368  2015-01-04   88769  264.720001       -7.804828\n",
       "369  2015-01-05   54993  274.839996        3.822905"
      ]
     },
     "execution_count": 178,
     "metadata": {},
     "output_type": "execute_result"
    }
   ],
   "source": [
    "combined_df = copy.deepcopy(filtered_prices)\n",
    "combined_df.head()"
   ]
  },
  {
   "cell_type": "code",
   "execution_count": 179,
   "id": "804fd394",
   "metadata": {},
   "outputs": [],
   "source": [
    "exo_features = [\n",
    "    filtered_block_reward,\n",
    "    filtered_gtrends,\n",
    "    filtered_t_volume,\n",
    "    filtered_twitter_sentiments\n",
    "]"
   ]
  },
  {
   "cell_type": "code",
   "execution_count": 180,
   "id": "b8e37c9a",
   "metadata": {
    "scrolled": true
   },
   "outputs": [
    {
     "name": "stderr",
     "output_type": "stream",
     "text": [
      "c:\\users\\acer\\appdata\\local\\programs\\python\\python37\\lib\\site-packages\\pandas\\core\\frame.py:5047: SettingWithCopyWarning: \n",
      "A value is trying to be set on a copy of a slice from a DataFrame\n",
      "\n",
      "See the caveats in the documentation: https://pandas.pydata.org/pandas-docs/stable/user_guide/indexing.html#returning-a-view-versus-a-copy\n",
      "  errors=errors,\n"
     ]
    }
   ],
   "source": [
    "for i in exo_features:\n",
    "    i.rename(columns={ 'Date': 'date' }, inplace=True)"
   ]
  },
  {
   "cell_type": "code",
   "execution_count": 181,
   "id": "a21a7397",
   "metadata": {},
   "outputs": [
    {
     "name": "stderr",
     "output_type": "stream",
     "text": [
      "c:\\users\\acer\\appdata\\local\\programs\\python\\python37\\lib\\site-packages\\ipykernel_launcher.py:2: SettingWithCopyWarning: \n",
      "A value is trying to be set on a copy of a slice from a DataFrame.\n",
      "Try using .loc[row_indexer,col_indexer] = value instead\n",
      "\n",
      "See the caveats in the documentation: https://pandas.pydata.org/pandas-docs/stable/user_guide/indexing.html#returning-a-view-versus-a-copy\n",
      "  \n"
     ]
    }
   ],
   "source": [
    "for i in exo_features:\n",
    "    i['date'] = (pd.to_datetime(i['date'])).dt.strftime('%Y-%m-%d')"
   ]
  },
  {
   "cell_type": "markdown",
   "id": "4cc73ddf",
   "metadata": {},
   "source": [
    "*The above warnings must be fixed as it is a drastic performance issue*"
   ]
  },
  {
   "cell_type": "code",
   "execution_count": 182,
   "id": "e9205ebb",
   "metadata": {},
   "outputs": [],
   "source": [
    "for i in exo_features:\n",
    "    combined_df = pd.merge(\n",
    "        combined_df,\n",
    "        i,\n",
    "        on=['date'],\n",
    "        how='left'\n",
    "    )    "
   ]
  },
  {
   "cell_type": "code",
   "execution_count": 183,
   "id": "ea0641fa",
   "metadata": {
    "scrolled": true
   },
   "outputs": [
    {
     "data": {
      "text/html": [
       "<div>\n",
       "<style scoped>\n",
       "    .dataframe tbody tr th:only-of-type {\n",
       "        vertical-align: middle;\n",
       "    }\n",
       "\n",
       "    .dataframe tbody tr th {\n",
       "        vertical-align: top;\n",
       "    }\n",
       "\n",
       "    .dataframe thead th {\n",
       "        text-align: right;\n",
       "    }\n",
       "</style>\n",
       "<table border=\"1\" class=\"dataframe\">\n",
       "  <thead>\n",
       "    <tr style=\"text-align: right;\">\n",
       "      <th></th>\n",
       "      <th>date</th>\n",
       "      <th>volume</th>\n",
       "      <th>close</th>\n",
       "      <th>change_percent</th>\n",
       "      <th>Block Reward Size</th>\n",
       "      <th>bitcoin_unscaled</th>\n",
       "      <th>Tweet Volume</th>\n",
       "      <th>compound_score</th>\n",
       "    </tr>\n",
       "  </thead>\n",
       "  <tbody>\n",
       "    <tr>\n",
       "      <th>0</th>\n",
       "      <td>2015-01-01</td>\n",
       "      <td>12820</td>\n",
       "      <td>314.890015</td>\n",
       "      <td>-1.052657</td>\n",
       "      <td>0.195</td>\n",
       "      <td>48</td>\n",
       "      <td>18681.0</td>\n",
       "      <td>0.129292</td>\n",
       "    </tr>\n",
       "    <tr>\n",
       "      <th>1</th>\n",
       "      <td>2015-01-02</td>\n",
       "      <td>14729</td>\n",
       "      <td>315.209991</td>\n",
       "      <td>0.101615</td>\n",
       "      <td>0.286</td>\n",
       "      <td>47</td>\n",
       "      <td>9385.0</td>\n",
       "      <td>0.172895</td>\n",
       "    </tr>\n",
       "    <tr>\n",
       "      <th>2</th>\n",
       "      <td>2015-01-03</td>\n",
       "      <td>47366</td>\n",
       "      <td>287.130005</td>\n",
       "      <td>-8.908343</td>\n",
       "      <td>0.291</td>\n",
       "      <td>51</td>\n",
       "      <td>NaN</td>\n",
       "      <td>0.160714</td>\n",
       "    </tr>\n",
       "    <tr>\n",
       "      <th>3</th>\n",
       "      <td>2015-01-04</td>\n",
       "      <td>88769</td>\n",
       "      <td>264.720001</td>\n",
       "      <td>-7.804828</td>\n",
       "      <td>0.504</td>\n",
       "      <td>67</td>\n",
       "      <td>7300.0</td>\n",
       "      <td>0.160599</td>\n",
       "    </tr>\n",
       "    <tr>\n",
       "      <th>4</th>\n",
       "      <td>2015-01-05</td>\n",
       "      <td>54993</td>\n",
       "      <td>274.839996</td>\n",
       "      <td>3.822905</td>\n",
       "      <td>0.412</td>\n",
       "      <td>73</td>\n",
       "      <td>23092.0</td>\n",
       "      <td>0.186722</td>\n",
       "    </tr>\n",
       "  </tbody>\n",
       "</table>\n",
       "</div>"
      ],
      "text/plain": [
       "         date  volume       close  change_percent  Block Reward Size  \\\n",
       "0  2015-01-01   12820  314.890015       -1.052657              0.195   \n",
       "1  2015-01-02   14729  315.209991        0.101615              0.286   \n",
       "2  2015-01-03   47366  287.130005       -8.908343              0.291   \n",
       "3  2015-01-04   88769  264.720001       -7.804828              0.504   \n",
       "4  2015-01-05   54993  274.839996        3.822905              0.412   \n",
       "\n",
       "   bitcoin_unscaled  Tweet Volume  compound_score  \n",
       "0                48       18681.0        0.129292  \n",
       "1                47        9385.0        0.172895  \n",
       "2                51           NaN        0.160714  \n",
       "3                67        7300.0        0.160599  \n",
       "4                73       23092.0        0.186722  "
      ]
     },
     "execution_count": 183,
     "metadata": {},
     "output_type": "execute_result"
    }
   ],
   "source": [
    "combined_df.head()"
   ]
  },
  {
   "cell_type": "code",
   "execution_count": 184,
   "id": "346d7c86",
   "metadata": {},
   "outputs": [
    {
     "data": {
      "text/plain": [
       "date                  0\n",
       "volume                0\n",
       "close                 0\n",
       "change_percent        0\n",
       "Block Reward Size     1\n",
       "bitcoin_unscaled      0\n",
       "Tweet Volume         56\n",
       "compound_score        4\n",
       "dtype: int64"
      ]
     },
     "execution_count": 184,
     "metadata": {},
     "output_type": "execute_result"
    }
   ],
   "source": [
    "combined_df.isna().sum()"
   ]
  },
  {
   "cell_type": "code",
   "execution_count": 186,
   "id": "67a80fed",
   "metadata": {},
   "outputs": [],
   "source": [
    "# Impute missing values with mean\n",
    "combined_df.fillna(combined_df.mean(numeric_only=True), inplace=True)"
   ]
  },
  {
   "cell_type": "code",
   "execution_count": 187,
   "id": "62d3d294",
   "metadata": {},
   "outputs": [
    {
     "data": {
      "text/plain": [
       "date                 0\n",
       "volume               0\n",
       "close                0\n",
       "change_percent       0\n",
       "Block Reward Size    0\n",
       "bitcoin_unscaled     0\n",
       "Tweet Volume         0\n",
       "compound_score       0\n",
       "dtype: int64"
      ]
     },
     "execution_count": 187,
     "metadata": {},
     "output_type": "execute_result"
    }
   ],
   "source": [
    "combined_df.isna().sum()"
   ]
  },
  {
   "cell_type": "code",
   "execution_count": 188,
   "id": "e934ee34",
   "metadata": {},
   "outputs": [
    {
     "data": {
      "text/html": [
       "<div>\n",
       "<style scoped>\n",
       "    .dataframe tbody tr th:only-of-type {\n",
       "        vertical-align: middle;\n",
       "    }\n",
       "\n",
       "    .dataframe tbody tr th {\n",
       "        vertical-align: top;\n",
       "    }\n",
       "\n",
       "    .dataframe thead th {\n",
       "        text-align: right;\n",
       "    }\n",
       "</style>\n",
       "<table border=\"1\" class=\"dataframe\">\n",
       "  <thead>\n",
       "    <tr style=\"text-align: right;\">\n",
       "      <th></th>\n",
       "      <th>date</th>\n",
       "      <th>volume</th>\n",
       "      <th>close</th>\n",
       "      <th>change_percent</th>\n",
       "      <th>Block Reward Size</th>\n",
       "      <th>bitcoin_unscaled</th>\n",
       "      <th>Tweet Volume</th>\n",
       "      <th>compound_score</th>\n",
       "    </tr>\n",
       "  </thead>\n",
       "  <tbody>\n",
       "    <tr>\n",
       "      <th>0</th>\n",
       "      <td>2015-01-01</td>\n",
       "      <td>12820</td>\n",
       "      <td>314.890015</td>\n",
       "      <td>-1.052657</td>\n",
       "      <td>0.195</td>\n",
       "      <td>48</td>\n",
       "      <td>18681.0000</td>\n",
       "      <td>0.129292</td>\n",
       "    </tr>\n",
       "    <tr>\n",
       "      <th>1</th>\n",
       "      <td>2015-01-02</td>\n",
       "      <td>14729</td>\n",
       "      <td>315.209991</td>\n",
       "      <td>0.101615</td>\n",
       "      <td>0.286</td>\n",
       "      <td>47</td>\n",
       "      <td>9385.0000</td>\n",
       "      <td>0.172895</td>\n",
       "    </tr>\n",
       "    <tr>\n",
       "      <th>2</th>\n",
       "      <td>2015-01-03</td>\n",
       "      <td>47366</td>\n",
       "      <td>287.130005</td>\n",
       "      <td>-8.908343</td>\n",
       "      <td>0.291</td>\n",
       "      <td>51</td>\n",
       "      <td>57542.1391</td>\n",
       "      <td>0.160714</td>\n",
       "    </tr>\n",
       "    <tr>\n",
       "      <th>3</th>\n",
       "      <td>2015-01-04</td>\n",
       "      <td>88769</td>\n",
       "      <td>264.720001</td>\n",
       "      <td>-7.804828</td>\n",
       "      <td>0.504</td>\n",
       "      <td>67</td>\n",
       "      <td>7300.0000</td>\n",
       "      <td>0.160599</td>\n",
       "    </tr>\n",
       "    <tr>\n",
       "      <th>4</th>\n",
       "      <td>2015-01-05</td>\n",
       "      <td>54993</td>\n",
       "      <td>274.839996</td>\n",
       "      <td>3.822905</td>\n",
       "      <td>0.412</td>\n",
       "      <td>73</td>\n",
       "      <td>23092.0000</td>\n",
       "      <td>0.186722</td>\n",
       "    </tr>\n",
       "  </tbody>\n",
       "</table>\n",
       "</div>"
      ],
      "text/plain": [
       "         date  volume       close  change_percent  Block Reward Size  \\\n",
       "0  2015-01-01   12820  314.890015       -1.052657              0.195   \n",
       "1  2015-01-02   14729  315.209991        0.101615              0.286   \n",
       "2  2015-01-03   47366  287.130005       -8.908343              0.291   \n",
       "3  2015-01-04   88769  264.720001       -7.804828              0.504   \n",
       "4  2015-01-05   54993  274.839996        3.822905              0.412   \n",
       "\n",
       "   bitcoin_unscaled  Tweet Volume  compound_score  \n",
       "0                48    18681.0000        0.129292  \n",
       "1                47     9385.0000        0.172895  \n",
       "2                51    57542.1391        0.160714  \n",
       "3                67     7300.0000        0.160599  \n",
       "4                73    23092.0000        0.186722  "
      ]
     },
     "execution_count": 188,
     "metadata": {},
     "output_type": "execute_result"
    }
   ],
   "source": [
    "combined_df.head()"
   ]
  },
  {
   "cell_type": "code",
   "execution_count": 189,
   "id": "4d784c73",
   "metadata": {},
   "outputs": [],
   "source": [
    "combined_df.to_csv('../../data/combined_data.csv')"
   ]
  },
  {
   "cell_type": "code",
   "execution_count": null,
   "id": "45874fc2",
   "metadata": {},
   "outputs": [],
   "source": []
  }
 ],
 "metadata": {
  "kernelspec": {
   "display_name": "Python 3 (ipykernel)",
   "language": "python",
   "name": "python3"
  },
  "language_info": {
   "codemirror_mode": {
    "name": "ipython",
    "version": 3
   },
   "file_extension": ".py",
   "mimetype": "text/x-python",
   "name": "python",
   "nbconvert_exporter": "python",
   "pygments_lexer": "ipython3",
   "version": "3.7.4"
  }
 },
 "nbformat": 4,
 "nbformat_minor": 5
}
