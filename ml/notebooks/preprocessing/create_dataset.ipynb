{
 "cells": [
  {
   "cell_type": "markdown",
   "id": "7d5c8d58",
   "metadata": {},
   "source": [
    "### Create final combined dataset\n",
    "\n",
    "As all the data are now available, the model will need a combined single dataset with all the features to train.\n",
    "\n",
    "Initially, each dataset must be analysed to see if the features available do have an impact on the price to be predicted. If not, the features can be excluded when creating the final dataset, as it is at that point, only additional noise that has no real impact."
   ]
  },
  {
   "cell_type": "code",
   "execution_count": 106,
   "id": "119d14fc",
   "metadata": {},
   "outputs": [],
   "source": [
    "import pandas as pd\n",
    "\n",
    "import seaborn as sns\n",
    "import matplotlib.pyplot as plt"
   ]
  },
  {
   "cell_type": "code",
   "execution_count": 114,
   "id": "f85a74ee",
   "metadata": {},
   "outputs": [],
   "source": [
    "TRENDS_DATA = '../../data/GTrends/BTC_GTrends_total_cleaned.csv'\n",
    "TWEETS_DATA = '../../data/Tweets/BTC_Tweet_Sentiment_Unweighed.csv'\n",
    "TWEET_VOLUME_DATA = '../../data/Tweets/BTC_Tweet_Volume.csv'\n",
    "BLOCK_REWARD_DATA = '../../data/BTC_Block_Reward.csv'\n",
    "BTC_PRICES_DATA = '../../data/BTC_Prices.csv'"
   ]
  },
  {
   "cell_type": "markdown",
   "id": "f2edf1cd",
   "metadata": {},
   "source": [
    "### Analyze prices dataset"
   ]
  },
  {
   "cell_type": "code",
   "execution_count": 5,
   "id": "7a3c7d57",
   "metadata": {},
   "outputs": [
    {
     "data": {
      "text/html": [
       "<div>\n",
       "<style scoped>\n",
       "    .dataframe tbody tr th:only-of-type {\n",
       "        vertical-align: middle;\n",
       "    }\n",
       "\n",
       "    .dataframe tbody tr th {\n",
       "        vertical-align: top;\n",
       "    }\n",
       "\n",
       "    .dataframe thead th {\n",
       "        text-align: right;\n",
       "    }\n",
       "</style>\n",
       "<table border=\"1\" class=\"dataframe\">\n",
       "  <thead>\n",
       "    <tr style=\"text-align: right;\">\n",
       "      <th></th>\n",
       "      <th>date</th>\n",
       "      <th>volume</th>\n",
       "      <th>close</th>\n",
       "      <th>open</th>\n",
       "      <th>max</th>\n",
       "      <th>min</th>\n",
       "      <th>change_percent</th>\n",
       "    </tr>\n",
       "  </thead>\n",
       "  <tbody>\n",
       "    <tr>\n",
       "      <th>0</th>\n",
       "      <td>2014-01-01</td>\n",
       "      <td>10757</td>\n",
       "      <td>815.940002</td>\n",
       "      <td>805.940002</td>\n",
       "      <td>829.929993</td>\n",
       "      <td>770.969971</td>\n",
       "      <td>1.240787</td>\n",
       "    </tr>\n",
       "    <tr>\n",
       "      <th>1</th>\n",
       "      <td>2014-01-02</td>\n",
       "      <td>12812</td>\n",
       "      <td>856.909973</td>\n",
       "      <td>815.940002</td>\n",
       "      <td>886.210022</td>\n",
       "      <td>810.469971</td>\n",
       "      <td>5.021199</td>\n",
       "    </tr>\n",
       "    <tr>\n",
       "      <th>2</th>\n",
       "      <td>2014-01-03</td>\n",
       "      <td>9709</td>\n",
       "      <td>884.260010</td>\n",
       "      <td>856.909973</td>\n",
       "      <td>888.229980</td>\n",
       "      <td>839.440002</td>\n",
       "      <td>3.191705</td>\n",
       "    </tr>\n",
       "    <tr>\n",
       "      <th>3</th>\n",
       "      <td>2014-01-04</td>\n",
       "      <td>14239</td>\n",
       "      <td>924.690002</td>\n",
       "      <td>884.260010</td>\n",
       "      <td>932.159973</td>\n",
       "      <td>848.320007</td>\n",
       "      <td>4.572184</td>\n",
       "    </tr>\n",
       "    <tr>\n",
       "      <th>4</th>\n",
       "      <td>2014-01-05</td>\n",
       "      <td>21374</td>\n",
       "      <td>1014.739990</td>\n",
       "      <td>924.690002</td>\n",
       "      <td>1029.859985</td>\n",
       "      <td>911.359985</td>\n",
       "      <td>9.738397</td>\n",
       "    </tr>\n",
       "  </tbody>\n",
       "</table>\n",
       "</div>"
      ],
      "text/plain": [
       "         date  volume        close        open          max         min  \\\n",
       "0  2014-01-01   10757   815.940002  805.940002   829.929993  770.969971   \n",
       "1  2014-01-02   12812   856.909973  815.940002   886.210022  810.469971   \n",
       "2  2014-01-03    9709   884.260010  856.909973   888.229980  839.440002   \n",
       "3  2014-01-04   14239   924.690002  884.260010   932.159973  848.320007   \n",
       "4  2014-01-05   21374  1014.739990  924.690002  1029.859985  911.359985   \n",
       "\n",
       "   change_percent  \n",
       "0        1.240787  \n",
       "1        5.021199  \n",
       "2        3.191705  \n",
       "3        4.572184  \n",
       "4        9.738397  "
      ]
     },
     "execution_count": 5,
     "metadata": {},
     "output_type": "execute_result"
    }
   ],
   "source": [
    "historical_prices = pd.read_csv(BTC_PRICES_DATA)\n",
    "historical_prices.head()"
   ]
  },
  {
   "cell_type": "code",
   "execution_count": 6,
   "id": "1256655a",
   "metadata": {},
   "outputs": [
    {
     "data": {
      "text/plain": [
       "0     815.940002\n",
       "1     856.909973\n",
       "2     884.260010\n",
       "3     924.690002\n",
       "4    1014.739990\n",
       "5    1012.650024\n",
       "6     879.900024\n",
       "7     938.840027\n",
       "8     936.950012\n",
       "9     957.760010\n",
       "Name: close, dtype: float64"
      ]
     },
     "execution_count": 6,
     "metadata": {},
     "output_type": "execute_result"
    }
   ],
   "source": [
    "closing_price = historical_prices['close']\n",
    "closing_price[:10]"
   ]
  },
  {
   "cell_type": "code",
   "execution_count": 80,
   "id": "7341d952",
   "metadata": {},
   "outputs": [
    {
     "data": {
      "text/plain": [
       "date              0\n",
       "volume            0\n",
       "close             0\n",
       "change_percent    0\n",
       "dtype: int64"
      ]
     },
     "execution_count": 80,
     "metadata": {},
     "output_type": "execute_result"
    }
   ],
   "source": [
    "# Check for any null values\n",
    "filtered_prices.isnull().sum()"
   ]
  },
  {
   "cell_type": "code",
   "execution_count": 12,
   "id": "ad642b66",
   "metadata": {},
   "outputs": [
    {
     "data": {
      "image/png": "[encoded data removed]",
      "text/plain": [
       "<Figure size 432x288 with 2 Axes>"
      ]
     },
     "metadata": {
      "needs_background": "light"
     },
     "output_type": "display_data"
    }
   ],
   "source": [
    "# Check correlation\n",
    "sns.heatmap(historical_prices.corr(), annot=True)\n",
    "plt.show()"
   ]
  },
  {
   "cell_type": "code",
   "execution_count": 13,
   "id": "492560b5",
   "metadata": {},
   "outputs": [
    {
     "data": {
      "text/html": [
       "<div>\n",
       "<style scoped>\n",
       "    .dataframe tbody tr th:only-of-type {\n",
       "        vertical-align: middle;\n",
       "    }\n",
       "\n",
       "    .dataframe tbody tr th {\n",
       "        vertical-align: top;\n",
       "    }\n",
       "\n",
       "    .dataframe thead th {\n",
       "        text-align: right;\n",
       "    }\n",
       "</style>\n",
       "<table border=\"1\" class=\"dataframe\">\n",
       "  <thead>\n",
       "    <tr style=\"text-align: right;\">\n",
       "      <th></th>\n",
       "      <th>date</th>\n",
       "      <th>volume</th>\n",
       "      <th>close</th>\n",
       "      <th>change_percent</th>\n",
       "    </tr>\n",
       "  </thead>\n",
       "  <tbody>\n",
       "    <tr>\n",
       "      <th>0</th>\n",
       "      <td>2014-01-01</td>\n",
       "      <td>10757</td>\n",
       "      <td>815.940002</td>\n",
       "      <td>1.240787</td>\n",
       "    </tr>\n",
       "    <tr>\n",
       "      <th>1</th>\n",
       "      <td>2014-01-02</td>\n",
       "      <td>12812</td>\n",
       "      <td>856.909973</td>\n",
       "      <td>5.021199</td>\n",
       "    </tr>\n",
       "    <tr>\n",
       "      <th>2</th>\n",
       "      <td>2014-01-03</td>\n",
       "      <td>9709</td>\n",
       "      <td>884.260010</td>\n",
       "      <td>3.191705</td>\n",
       "    </tr>\n",
       "    <tr>\n",
       "      <th>3</th>\n",
       "      <td>2014-01-04</td>\n",
       "      <td>14239</td>\n",
       "      <td>924.690002</td>\n",
       "      <td>4.572184</td>\n",
       "    </tr>\n",
       "    <tr>\n",
       "      <th>4</th>\n",
       "      <td>2014-01-05</td>\n",
       "      <td>21374</td>\n",
       "      <td>1014.739990</td>\n",
       "      <td>9.738397</td>\n",
       "    </tr>\n",
       "  </tbody>\n",
       "</table>\n",
       "</div>"
      ],
      "text/plain": [
       "         date  volume        close  change_percent\n",
       "0  2014-01-01   10757   815.940002        1.240787\n",
       "1  2014-01-02   12812   856.909973        5.021199\n",
       "2  2014-01-03    9709   884.260010        3.191705\n",
       "3  2014-01-04   14239   924.690002        4.572184\n",
       "4  2014-01-05   21374  1014.739990        9.738397"
      ]
     },
     "execution_count": 13,
     "metadata": {},
     "output_type": "execute_result"
    }
   ],
   "source": [
    "# Due to the large correlation of variables and closing price: max, min, open can be dropped\n",
    "historical_prices.drop(['max', 'min', 'open'], axis=1, inplace=True)\n",
    "historical_prices.head()"
   ]
  },
  {
   "cell_type": "markdown",
   "id": "5ee72556",
   "metadata": {},
   "source": [
    "As the `max, min, open` features are highly correlated, they are dropped. The `volume` and `change_percent` features can remain as they aren't."
   ]
  },
  {
   "cell_type": "markdown",
   "id": "52c107e0",
   "metadata": {},
   "source": [
    "### Analyze Twitter volume dataset"
   ]
  },
  {
   "cell_type": "code",
   "execution_count": 81,
   "id": "34fb665a",
   "metadata": {},
   "outputs": [
    {
     "data": {
      "text/html": [
       "<div>\n",
       "<style scoped>\n",
       "    .dataframe tbody tr th:only-of-type {\n",
       "        vertical-align: middle;\n",
       "    }\n",
       "\n",
       "    .dataframe tbody tr th {\n",
       "        vertical-align: top;\n",
       "    }\n",
       "\n",
       "    .dataframe thead th {\n",
       "        text-align: right;\n",
       "    }\n",
       "</style>\n",
       "<table border=\"1\" class=\"dataframe\">\n",
       "  <thead>\n",
       "    <tr style=\"text-align: right;\">\n",
       "      <th></th>\n",
       "      <th>Unnamed: 0</th>\n",
       "      <th>Date</th>\n",
       "      <th>Tweet Volume</th>\n",
       "    </tr>\n",
       "  </thead>\n",
       "  <tbody>\n",
       "    <tr>\n",
       "      <th>0</th>\n",
       "      <td>0</td>\n",
       "      <td>2014/04/09</td>\n",
       "      <td>8193.0</td>\n",
       "    </tr>\n",
       "    <tr>\n",
       "      <th>1</th>\n",
       "      <td>1</td>\n",
       "      <td>2014/04/10</td>\n",
       "      <td>15039.0</td>\n",
       "    </tr>\n",
       "    <tr>\n",
       "      <th>2</th>\n",
       "      <td>2</td>\n",
       "      <td>2014/04/11</td>\n",
       "      <td>14907.0</td>\n",
       "    </tr>\n",
       "    <tr>\n",
       "      <th>3</th>\n",
       "      <td>3</td>\n",
       "      <td>2014/04/12</td>\n",
       "      <td>7582.0</td>\n",
       "    </tr>\n",
       "    <tr>\n",
       "      <th>4</th>\n",
       "      <td>4</td>\n",
       "      <td>2014/04/13</td>\n",
       "      <td>10674.0</td>\n",
       "    </tr>\n",
       "  </tbody>\n",
       "</table>\n",
       "</div>"
      ],
      "text/plain": [
       "   Unnamed: 0        Date  Tweet Volume\n",
       "0           0  2014/04/09        8193.0\n",
       "1           1  2014/04/10       15039.0\n",
       "2           2  2014/04/11       14907.0\n",
       "3           3  2014/04/12        7582.0\n",
       "4           4  2014/04/13       10674.0"
      ]
     },
     "execution_count": 81,
     "metadata": {},
     "output_type": "execute_result"
    }
   ],
   "source": [
    "twitter_volume = pd.read_csv(TWEET_VOLUME_DATA)\n",
    "twitter_volume.head()"
   ]
  },
  {
   "cell_type": "code",
   "execution_count": 82,
   "id": "b1374d26",
   "metadata": {},
   "outputs": [
    {
     "data": {
      "text/html": [
       "<div>\n",
       "<style scoped>\n",
       "    .dataframe tbody tr th:only-of-type {\n",
       "        vertical-align: middle;\n",
       "    }\n",
       "\n",
       "    .dataframe tbody tr th {\n",
       "        vertical-align: top;\n",
       "    }\n",
       "\n",
       "    .dataframe thead th {\n",
       "        text-align: right;\n",
       "    }\n",
       "</style>\n",
       "<table border=\"1\" class=\"dataframe\">\n",
       "  <thead>\n",
       "    <tr style=\"text-align: right;\">\n",
       "      <th></th>\n",
       "      <th>Date</th>\n",
       "      <th>Tweet Volume</th>\n",
       "    </tr>\n",
       "  </thead>\n",
       "  <tbody>\n",
       "    <tr>\n",
       "      <th>0</th>\n",
       "      <td>2014/04/09</td>\n",
       "      <td>8193.0</td>\n",
       "    </tr>\n",
       "    <tr>\n",
       "      <th>1</th>\n",
       "      <td>2014/04/10</td>\n",
       "      <td>15039.0</td>\n",
       "    </tr>\n",
       "    <tr>\n",
       "      <th>2</th>\n",
       "      <td>2014/04/11</td>\n",
       "      <td>14907.0</td>\n",
       "    </tr>\n",
       "    <tr>\n",
       "      <th>3</th>\n",
       "      <td>2014/04/12</td>\n",
       "      <td>7582.0</td>\n",
       "    </tr>\n",
       "    <tr>\n",
       "      <th>4</th>\n",
       "      <td>2014/04/13</td>\n",
       "      <td>10674.0</td>\n",
       "    </tr>\n",
       "  </tbody>\n",
       "</table>\n",
       "</div>"
      ],
      "text/plain": [
       "         Date  Tweet Volume\n",
       "0  2014/04/09        8193.0\n",
       "1  2014/04/10       15039.0\n",
       "2  2014/04/11       14907.0\n",
       "3  2014/04/12        7582.0\n",
       "4  2014/04/13       10674.0"
      ]
     },
     "execution_count": 82,
     "metadata": {},
     "output_type": "execute_result"
    }
   ],
   "source": [
    "twitter_volume.drop(['Unnamed: 0'], axis=1, inplace=True)\n",
    "twitter_volume.head()"
   ]
  },
  {
   "cell_type": "code",
   "execution_count": 83,
   "id": "6d772f6c",
   "metadata": {},
   "outputs": [
    {
     "data": {
      "text/html": [
       "<div>\n",
       "<style scoped>\n",
       "    .dataframe tbody tr th:only-of-type {\n",
       "        vertical-align: middle;\n",
       "    }\n",
       "\n",
       "    .dataframe tbody tr th {\n",
       "        vertical-align: top;\n",
       "    }\n",
       "\n",
       "    .dataframe thead th {\n",
       "        text-align: right;\n",
       "    }\n",
       "</style>\n",
       "<table border=\"1\" class=\"dataframe\">\n",
       "  <thead>\n",
       "    <tr style=\"text-align: right;\">\n",
       "      <th></th>\n",
       "      <th>Date</th>\n",
       "      <th>Tweet Volume</th>\n",
       "    </tr>\n",
       "  </thead>\n",
       "  <tbody>\n",
       "    <tr>\n",
       "      <th>3206</th>\n",
       "      <td>2023/01/18</td>\n",
       "      <td>124969.0</td>\n",
       "    </tr>\n",
       "    <tr>\n",
       "      <th>3207</th>\n",
       "      <td>2023/01/19</td>\n",
       "      <td>114059.0</td>\n",
       "    </tr>\n",
       "    <tr>\n",
       "      <th>3208</th>\n",
       "      <td>2023/01/20</td>\n",
       "      <td>135671.0</td>\n",
       "    </tr>\n",
       "    <tr>\n",
       "      <th>3209</th>\n",
       "      <td>2023/01/21</td>\n",
       "      <td>134571.0</td>\n",
       "    </tr>\n",
       "    <tr>\n",
       "      <th>3210</th>\n",
       "      <td>2023/01/22</td>\n",
       "      <td>14847.0</td>\n",
       "    </tr>\n",
       "  </tbody>\n",
       "</table>\n",
       "</div>"
      ],
      "text/plain": [
       "            Date  Tweet Volume\n",
       "3206  2023/01/18      124969.0\n",
       "3207  2023/01/19      114059.0\n",
       "3208  2023/01/20      135671.0\n",
       "3209  2023/01/21      134571.0\n",
       "3210  2023/01/22       14847.0"
      ]
     },
     "execution_count": 83,
     "metadata": {},
     "output_type": "execute_result"
    }
   ],
   "source": [
    "twitter_volume.tail()"
   ]
  },
  {
   "cell_type": "code",
   "execution_count": 84,
   "id": "655e4a4f",
   "metadata": {},
   "outputs": [
    {
     "data": {
      "text/html": [
       "<div>\n",
       "<style scoped>\n",
       "    .dataframe tbody tr th:only-of-type {\n",
       "        vertical-align: middle;\n",
       "    }\n",
       "\n",
       "    .dataframe tbody tr th {\n",
       "        vertical-align: top;\n",
       "    }\n",
       "\n",
       "    .dataframe thead th {\n",
       "        text-align: right;\n",
       "    }\n",
       "</style>\n",
       "<table border=\"1\" class=\"dataframe\">\n",
       "  <thead>\n",
       "    <tr style=\"text-align: right;\">\n",
       "      <th></th>\n",
       "      <th>date</th>\n",
       "      <th>volume</th>\n",
       "      <th>close</th>\n",
       "      <th>change_percent</th>\n",
       "    </tr>\n",
       "  </thead>\n",
       "  <tbody>\n",
       "    <tr>\n",
       "      <th>3304</th>\n",
       "      <td>2023-01-18</td>\n",
       "      <td>388670</td>\n",
       "      <td>20670.589844</td>\n",
       "      <td>-2.206940</td>\n",
       "    </tr>\n",
       "    <tr>\n",
       "      <th>3305</th>\n",
       "      <td>2023-01-19</td>\n",
       "      <td>275758</td>\n",
       "      <td>21081.183594</td>\n",
       "      <td>1.986367</td>\n",
       "    </tr>\n",
       "    <tr>\n",
       "      <th>3306</th>\n",
       "      <td>2023-01-20</td>\n",
       "      <td>373735</td>\n",
       "      <td>22677.236328</td>\n",
       "      <td>7.570983</td>\n",
       "    </tr>\n",
       "    <tr>\n",
       "      <th>3307</th>\n",
       "      <td>2023-01-21</td>\n",
       "      <td>382688</td>\n",
       "      <td>22775.677734</td>\n",
       "      <td>0.434098</td>\n",
       "    </tr>\n",
       "    <tr>\n",
       "      <th>3308</th>\n",
       "      <td>2023-01-22</td>\n",
       "      <td>379398</td>\n",
       "      <td>22847.929688</td>\n",
       "      <td>0.317233</td>\n",
       "    </tr>\n",
       "  </tbody>\n",
       "</table>\n",
       "</div>"
      ],
      "text/plain": [
       "            date  volume         close  change_percent\n",
       "3304  2023-01-18  388670  20670.589844       -2.206940\n",
       "3305  2023-01-19  275758  21081.183594        1.986367\n",
       "3306  2023-01-20  373735  22677.236328        7.570983\n",
       "3307  2023-01-21  382688  22775.677734        0.434098\n",
       "3308  2023-01-22  379398  22847.929688        0.317233"
      ]
     },
     "execution_count": 84,
     "metadata": {},
     "output_type": "execute_result"
    }
   ],
   "source": [
    "historical_prices.tail()"
   ]
  },
  {
   "cell_type": "code",
   "execution_count": 85,
   "id": "6328c1bf",
   "metadata": {},
   "outputs": [],
   "source": [
    "filtered_prices = historical_prices[~(historical_prices['date'] < '2015-01-01')]"
   ]
  },
  {
   "cell_type": "code",
   "execution_count": 86,
   "id": "3111a4e3",
   "metadata": {},
   "outputs": [
    {
     "data": {
      "text/html": [
       "<div>\n",
       "<style scoped>\n",
       "    .dataframe tbody tr th:only-of-type {\n",
       "        vertical-align: middle;\n",
       "    }\n",
       "\n",
       "    .dataframe tbody tr th {\n",
       "        vertical-align: top;\n",
       "    }\n",
       "\n",
       "    .dataframe thead th {\n",
       "        text-align: right;\n",
       "    }\n",
       "</style>\n",
       "<table border=\"1\" class=\"dataframe\">\n",
       "  <thead>\n",
       "    <tr style=\"text-align: right;\">\n",
       "      <th></th>\n",
       "      <th>date</th>\n",
       "      <th>volume</th>\n",
       "      <th>close</th>\n",
       "      <th>change_percent</th>\n",
       "    </tr>\n",
       "  </thead>\n",
       "  <tbody>\n",
       "    <tr>\n",
       "      <th>365</th>\n",
       "      <td>2015-01-01</td>\n",
       "      <td>12820</td>\n",
       "      <td>314.890015</td>\n",
       "      <td>-1.052657</td>\n",
       "    </tr>\n",
       "    <tr>\n",
       "      <th>366</th>\n",
       "      <td>2015-01-02</td>\n",
       "      <td>14729</td>\n",
       "      <td>315.209991</td>\n",
       "      <td>0.101615</td>\n",
       "    </tr>\n",
       "    <tr>\n",
       "      <th>367</th>\n",
       "      <td>2015-01-03</td>\n",
       "      <td>47366</td>\n",
       "      <td>287.130005</td>\n",
       "      <td>-8.908343</td>\n",
       "    </tr>\n",
       "    <tr>\n",
       "      <th>368</th>\n",
       "      <td>2015-01-04</td>\n",
       "      <td>88769</td>\n",
       "      <td>264.720001</td>\n",
       "      <td>-7.804828</td>\n",
       "    </tr>\n",
       "    <tr>\n",
       "      <th>369</th>\n",
       "      <td>2015-01-05</td>\n",
       "      <td>54993</td>\n",
       "      <td>274.839996</td>\n",
       "      <td>3.822905</td>\n",
       "    </tr>\n",
       "  </tbody>\n",
       "</table>\n",
       "</div>"
      ],
      "text/plain": [
       "           date  volume       close  change_percent\n",
       "365  2015-01-01   12820  314.890015       -1.052657\n",
       "366  2015-01-02   14729  315.209991        0.101615\n",
       "367  2015-01-03   47366  287.130005       -8.908343\n",
       "368  2015-01-04   88769  264.720001       -7.804828\n",
       "369  2015-01-05   54993  274.839996        3.822905"
      ]
     },
     "execution_count": 86,
     "metadata": {},
     "output_type": "execute_result"
    }
   ],
   "source": [
    "filtered_prices.head()"
   ]
  },
  {
   "cell_type": "code",
   "execution_count": 87,
   "id": "2811e26b",
   "metadata": {},
   "outputs": [
    {
     "data": {
      "text/html": [
       "<div>\n",
       "<style scoped>\n",
       "    .dataframe tbody tr th:only-of-type {\n",
       "        vertical-align: middle;\n",
       "    }\n",
       "\n",
       "    .dataframe tbody tr th {\n",
       "        vertical-align: top;\n",
       "    }\n",
       "\n",
       "    .dataframe thead th {\n",
       "        text-align: right;\n",
       "    }\n",
       "</style>\n",
       "<table border=\"1\" class=\"dataframe\">\n",
       "  <thead>\n",
       "    <tr style=\"text-align: right;\">\n",
       "      <th></th>\n",
       "      <th>date</th>\n",
       "      <th>volume</th>\n",
       "      <th>close</th>\n",
       "      <th>change_percent</th>\n",
       "    </tr>\n",
       "  </thead>\n",
       "  <tbody>\n",
       "    <tr>\n",
       "      <th>3304</th>\n",
       "      <td>2023-01-18</td>\n",
       "      <td>388670</td>\n",
       "      <td>20670.589844</td>\n",
       "      <td>-2.206940</td>\n",
       "    </tr>\n",
       "    <tr>\n",
       "      <th>3305</th>\n",
       "      <td>2023-01-19</td>\n",
       "      <td>275758</td>\n",
       "      <td>21081.183594</td>\n",
       "      <td>1.986367</td>\n",
       "    </tr>\n",
       "    <tr>\n",
       "      <th>3306</th>\n",
       "      <td>2023-01-20</td>\n",
       "      <td>373735</td>\n",
       "      <td>22677.236328</td>\n",
       "      <td>7.570983</td>\n",
       "    </tr>\n",
       "    <tr>\n",
       "      <th>3307</th>\n",
       "      <td>2023-01-21</td>\n",
       "      <td>382688</td>\n",
       "      <td>22775.677734</td>\n",
       "      <td>0.434098</td>\n",
       "    </tr>\n",
       "    <tr>\n",
       "      <th>3308</th>\n",
       "      <td>2023-01-22</td>\n",
       "      <td>379398</td>\n",
       "      <td>22847.929688</td>\n",
       "      <td>0.317233</td>\n",
       "    </tr>\n",
       "  </tbody>\n",
       "</table>\n",
       "</div>"
      ],
      "text/plain": [
       "            date  volume         close  change_percent\n",
       "3304  2023-01-18  388670  20670.589844       -2.206940\n",
       "3305  2023-01-19  275758  21081.183594        1.986367\n",
       "3306  2023-01-20  373735  22677.236328        7.570983\n",
       "3307  2023-01-21  382688  22775.677734        0.434098\n",
       "3308  2023-01-22  379398  22847.929688        0.317233"
      ]
     },
     "execution_count": 87,
     "metadata": {},
     "output_type": "execute_result"
    }
   ],
   "source": [
    "filtered_prices.tail()"
   ]
  },
  {
   "cell_type": "code",
   "execution_count": 88,
   "id": "eb48c289",
   "metadata": {},
   "outputs": [],
   "source": [
    "filtered_t_volume = twitter_volume[~(twitter_volume['Date'] < '2015-01-01')]"
   ]
  },
  {
   "cell_type": "code",
   "execution_count": 89,
   "id": "cad7ec2f",
   "metadata": {},
   "outputs": [
    {
     "data": {
      "text/html": [
       "<div>\n",
       "<style scoped>\n",
       "    .dataframe tbody tr th:only-of-type {\n",
       "        vertical-align: middle;\n",
       "    }\n",
       "\n",
       "    .dataframe tbody tr th {\n",
       "        vertical-align: top;\n",
       "    }\n",
       "\n",
       "    .dataframe thead th {\n",
       "        text-align: right;\n",
       "    }\n",
       "</style>\n",
       "<table border=\"1\" class=\"dataframe\">\n",
       "  <thead>\n",
       "    <tr style=\"text-align: right;\">\n",
       "      <th></th>\n",
       "      <th>Date</th>\n",
       "      <th>Tweet Volume</th>\n",
       "    </tr>\n",
       "  </thead>\n",
       "  <tbody>\n",
       "    <tr>\n",
       "      <th>267</th>\n",
       "      <td>2015/01/01</td>\n",
       "      <td>18681.0</td>\n",
       "    </tr>\n",
       "    <tr>\n",
       "      <th>268</th>\n",
       "      <td>2015/01/02</td>\n",
       "      <td>9385.0</td>\n",
       "    </tr>\n",
       "    <tr>\n",
       "      <th>269</th>\n",
       "      <td>2015/01/03</td>\n",
       "      <td>NaN</td>\n",
       "    </tr>\n",
       "    <tr>\n",
       "      <th>270</th>\n",
       "      <td>2015/01/04</td>\n",
       "      <td>7300.0</td>\n",
       "    </tr>\n",
       "    <tr>\n",
       "      <th>271</th>\n",
       "      <td>2015/01/05</td>\n",
       "      <td>23092.0</td>\n",
       "    </tr>\n",
       "  </tbody>\n",
       "</table>\n",
       "</div>"
      ],
      "text/plain": [
       "           Date  Tweet Volume\n",
       "267  2015/01/01       18681.0\n",
       "268  2015/01/02        9385.0\n",
       "269  2015/01/03           NaN\n",
       "270  2015/01/04        7300.0\n",
       "271  2015/01/05       23092.0"
      ]
     },
     "execution_count": 89,
     "metadata": {},
     "output_type": "execute_result"
    }
   ],
   "source": [
    "filtered_t_volume.head()"
   ]
  },
  {
   "cell_type": "code",
   "execution_count": 90,
   "id": "8bc8323c",
   "metadata": {},
   "outputs": [
    {
     "data": {
      "text/html": [
       "<div>\n",
       "<style scoped>\n",
       "    .dataframe tbody tr th:only-of-type {\n",
       "        vertical-align: middle;\n",
       "    }\n",
       "\n",
       "    .dataframe tbody tr th {\n",
       "        vertical-align: top;\n",
       "    }\n",
       "\n",
       "    .dataframe thead th {\n",
       "        text-align: right;\n",
       "    }\n",
       "</style>\n",
       "<table border=\"1\" class=\"dataframe\">\n",
       "  <thead>\n",
       "    <tr style=\"text-align: right;\">\n",
       "      <th></th>\n",
       "      <th>Date</th>\n",
       "      <th>Tweet Volume</th>\n",
       "    </tr>\n",
       "  </thead>\n",
       "  <tbody>\n",
       "    <tr>\n",
       "      <th>3206</th>\n",
       "      <td>2023/01/18</td>\n",
       "      <td>124969.0</td>\n",
       "    </tr>\n",
       "    <tr>\n",
       "      <th>3207</th>\n",
       "      <td>2023/01/19</td>\n",
       "      <td>114059.0</td>\n",
       "    </tr>\n",
       "    <tr>\n",
       "      <th>3208</th>\n",
       "      <td>2023/01/20</td>\n",
       "      <td>135671.0</td>\n",
       "    </tr>\n",
       "    <tr>\n",
       "      <th>3209</th>\n",
       "      <td>2023/01/21</td>\n",
       "      <td>134571.0</td>\n",
       "    </tr>\n",
       "    <tr>\n",
       "      <th>3210</th>\n",
       "      <td>2023/01/22</td>\n",
       "      <td>14847.0</td>\n",
       "    </tr>\n",
       "  </tbody>\n",
       "</table>\n",
       "</div>"
      ],
      "text/plain": [
       "            Date  Tweet Volume\n",
       "3206  2023/01/18      124969.0\n",
       "3207  2023/01/19      114059.0\n",
       "3208  2023/01/20      135671.0\n",
       "3209  2023/01/21      134571.0\n",
       "3210  2023/01/22       14847.0"
      ]
     },
     "execution_count": 90,
     "metadata": {},
     "output_type": "execute_result"
    }
   ],
   "source": [
    "filtered_t_volume.tail()"
   ]
  },
  {
   "cell_type": "code",
   "execution_count": 91,
   "id": "710ef89a",
   "metadata": {
    "scrolled": false
   },
   "outputs": [
    {
     "data": {
      "text/plain": [
       "Date             0\n",
       "Tweet Volume    56\n",
       "dtype: int64"
      ]
     },
     "execution_count": 91,
     "metadata": {},
     "output_type": "execute_result"
    }
   ],
   "source": [
    "# Check for any null values\n",
    "filtered_t_volume.isnull().sum()"
   ]
  },
  {
   "cell_type": "code",
   "execution_count": 93,
   "id": "4bc6213b",
   "metadata": {},
   "outputs": [
    {
     "name": "stderr",
     "output_type": "stream",
     "text": [
      "c:\\users\\acer\\appdata\\local\\programs\\python\\python37\\lib\\site-packages\\ipykernel_launcher.py:2: SettingWithCopyWarning: \n",
      "A value is trying to be set on a copy of a slice from a DataFrame.\n",
      "Try using .loc[row_indexer,col_indexer] = value instead\n",
      "\n",
      "See the caveats in the documentation: https://pandas.pydata.org/pandas-docs/stable/user_guide/indexing.html#returning-a-view-versus-a-copy\n",
      "  \n"
     ]
    }
   ],
   "source": [
    "# Since null values are few, the average can be imputed\n",
    "filtered_t_volume['Tweet Volume'] = filtered_t_volume['Tweet Volume'].fillna(filtered_t_volume['Tweet Volume'].mean())"
   ]
  },
  {
   "cell_type": "code",
   "execution_count": 94,
   "id": "ec8dafdc",
   "metadata": {},
   "outputs": [
    {
     "data": {
      "text/plain": [
       "Date            0\n",
       "Tweet Volume    0\n",
       "dtype: int64"
      ]
     },
     "execution_count": 94,
     "metadata": {},
     "output_type": "execute_result"
    }
   ],
   "source": [
    "# Check for any null values\n",
    "filtered_t_volume.isnull().sum()"
   ]
  },
  {
   "cell_type": "code",
   "execution_count": 95,
   "id": "723c4c1f",
   "metadata": {
    "scrolled": false
   },
   "outputs": [
    {
     "name": "stderr",
     "output_type": "stream",
     "text": [
      "c:\\users\\acer\\appdata\\local\\programs\\python\\python37\\lib\\site-packages\\ipykernel_launcher.py:1: SettingWithCopyWarning: \n",
      "A value is trying to be set on a copy of a slice from a DataFrame.\n",
      "Try using .loc[row_indexer,col_indexer] = value instead\n",
      "\n",
      "See the caveats in the documentation: https://pandas.pydata.org/pandas-docs/stable/user_guide/indexing.html#returning-a-view-versus-a-copy\n",
      "  \"\"\"Entry point for launching an IPython kernel.\n"
     ]
    }
   ],
   "source": [
    "filtered_t_volume['close'] = list(filtered_prices['close'])"
   ]
  },
  {
   "cell_type": "code",
   "execution_count": 96,
   "id": "0471ea4f",
   "metadata": {
    "scrolled": true
   },
   "outputs": [
    {
     "data": {
      "text/html": [
       "<div>\n",
       "<style scoped>\n",
       "    .dataframe tbody tr th:only-of-type {\n",
       "        vertical-align: middle;\n",
       "    }\n",
       "\n",
       "    .dataframe tbody tr th {\n",
       "        vertical-align: top;\n",
       "    }\n",
       "\n",
       "    .dataframe thead th {\n",
       "        text-align: right;\n",
       "    }\n",
       "</style>\n",
       "<table border=\"1\" class=\"dataframe\">\n",
       "  <thead>\n",
       "    <tr style=\"text-align: right;\">\n",
       "      <th></th>\n",
       "      <th>Date</th>\n",
       "      <th>Tweet Volume</th>\n",
       "      <th>close</th>\n",
       "    </tr>\n",
       "  </thead>\n",
       "  <tbody>\n",
       "    <tr>\n",
       "      <th>267</th>\n",
       "      <td>2015/01/01</td>\n",
       "      <td>18681.00000</td>\n",
       "      <td>314.890015</td>\n",
       "    </tr>\n",
       "    <tr>\n",
       "      <th>268</th>\n",
       "      <td>2015/01/02</td>\n",
       "      <td>9385.00000</td>\n",
       "      <td>315.209991</td>\n",
       "    </tr>\n",
       "    <tr>\n",
       "      <th>269</th>\n",
       "      <td>2015/01/03</td>\n",
       "      <td>57489.61392</td>\n",
       "      <td>287.130005</td>\n",
       "    </tr>\n",
       "    <tr>\n",
       "      <th>270</th>\n",
       "      <td>2015/01/04</td>\n",
       "      <td>7300.00000</td>\n",
       "      <td>264.720001</td>\n",
       "    </tr>\n",
       "    <tr>\n",
       "      <th>271</th>\n",
       "      <td>2015/01/05</td>\n",
       "      <td>23092.00000</td>\n",
       "      <td>274.839996</td>\n",
       "    </tr>\n",
       "  </tbody>\n",
       "</table>\n",
       "</div>"
      ],
      "text/plain": [
       "           Date  Tweet Volume       close\n",
       "267  2015/01/01   18681.00000  314.890015\n",
       "268  2015/01/02    9385.00000  315.209991\n",
       "269  2015/01/03   57489.61392  287.130005\n",
       "270  2015/01/04    7300.00000  264.720001\n",
       "271  2015/01/05   23092.00000  274.839996"
      ]
     },
     "execution_count": 96,
     "metadata": {},
     "output_type": "execute_result"
    }
   ],
   "source": [
    "filtered_t_volume.head()"
   ]
  },
  {
   "cell_type": "code",
   "execution_count": 97,
   "id": "33de924e",
   "metadata": {},
   "outputs": [
    {
     "data": {
      "image/png": "[encoded data removed]",
      "text/plain": [
       "<Figure size 432x288 with 2 Axes>"
      ]
     },
     "metadata": {
      "needs_background": "light"
     },
     "output_type": "display_data"
    }
   ],
   "source": [
    "# Check correlation\n",
    "sns.heatmap(filtered_t_volume.corr(), annot=True)\n",
    "plt.show()"
   ]
  },
  {
   "cell_type": "markdown",
   "id": "d5879118",
   "metadata": {},
   "source": [
    "As there is no high correlation, `twitter volume` can be considered. (Usually, features with a correlation value of greater than `0.95` are dropped)"
   ]
  },
  {
   "cell_type": "markdown",
   "id": "f58f30eb",
   "metadata": {},
   "source": [
    "### Analyze block reward dataset"
   ]
  },
  {
   "cell_type": "code",
   "execution_count": 98,
   "id": "271e8376",
   "metadata": {},
   "outputs": [
    {
     "data": {
      "text/html": [
       "<div>\n",
       "<style scoped>\n",
       "    .dataframe tbody tr th:only-of-type {\n",
       "        vertical-align: middle;\n",
       "    }\n",
       "\n",
       "    .dataframe tbody tr th {\n",
       "        vertical-align: top;\n",
       "    }\n",
       "\n",
       "    .dataframe thead th {\n",
       "        text-align: right;\n",
       "    }\n",
       "</style>\n",
       "<table border=\"1\" class=\"dataframe\">\n",
       "  <thead>\n",
       "    <tr style=\"text-align: right;\">\n",
       "      <th></th>\n",
       "      <th>Unnamed: 0</th>\n",
       "      <th>Date</th>\n",
       "      <th>Block Reward Size</th>\n",
       "    </tr>\n",
       "  </thead>\n",
       "  <tbody>\n",
       "    <tr>\n",
       "      <th>0</th>\n",
       "      <td>0</td>\n",
       "      <td>2010/07/17</td>\n",
       "      <td>0.00100</td>\n",
       "    </tr>\n",
       "    <tr>\n",
       "      <th>1</th>\n",
       "      <td>1</td>\n",
       "      <td>2010/07/18</td>\n",
       "      <td>0.01630</td>\n",
       "    </tr>\n",
       "    <tr>\n",
       "      <th>2</th>\n",
       "      <td>2</td>\n",
       "      <td>2010/07/19</td>\n",
       "      <td>0.00154</td>\n",
       "    </tr>\n",
       "    <tr>\n",
       "      <th>3</th>\n",
       "      <td>3</td>\n",
       "      <td>2010/07/20</td>\n",
       "      <td>NaN</td>\n",
       "    </tr>\n",
       "    <tr>\n",
       "      <th>4</th>\n",
       "      <td>4</td>\n",
       "      <td>2010/07/21</td>\n",
       "      <td>NaN</td>\n",
       "    </tr>\n",
       "  </tbody>\n",
       "</table>\n",
       "</div>"
      ],
      "text/plain": [
       "   Unnamed: 0        Date  Block Reward Size\n",
       "0           0  2010/07/17            0.00100\n",
       "1           1  2010/07/18            0.01630\n",
       "2           2  2010/07/19            0.00154\n",
       "3           3  2010/07/20                NaN\n",
       "4           4  2010/07/21                NaN"
      ]
     },
     "execution_count": 98,
     "metadata": {},
     "output_type": "execute_result"
    }
   ],
   "source": [
    "block_reward = pd.read_csv(BLOCK_REWARD_DATA)\n",
    "block_reward.head()"
   ]
  },
  {
   "cell_type": "code",
   "execution_count": 99,
   "id": "e3420445",
   "metadata": {},
   "outputs": [],
   "source": [
    "block_reward.drop(['Unnamed: 0'], axis=1, inplace=True)"
   ]
  },
  {
   "cell_type": "code",
   "execution_count": 100,
   "id": "4a14db48",
   "metadata": {},
   "outputs": [
    {
     "data": {
      "text/html": [
       "<div>\n",
       "<style scoped>\n",
       "    .dataframe tbody tr th:only-of-type {\n",
       "        vertical-align: middle;\n",
       "    }\n",
       "\n",
       "    .dataframe tbody tr th {\n",
       "        vertical-align: top;\n",
       "    }\n",
       "\n",
       "    .dataframe thead th {\n",
       "        text-align: right;\n",
       "    }\n",
       "</style>\n",
       "<table border=\"1\" class=\"dataframe\">\n",
       "  <thead>\n",
       "    <tr style=\"text-align: right;\">\n",
       "      <th></th>\n",
       "      <th>Date</th>\n",
       "      <th>Block Reward Size</th>\n",
       "    </tr>\n",
       "  </thead>\n",
       "  <tbody>\n",
       "    <tr>\n",
       "      <th>4567</th>\n",
       "      <td>2023/01/17</td>\n",
       "      <td>1.311</td>\n",
       "    </tr>\n",
       "    <tr>\n",
       "      <th>4568</th>\n",
       "      <td>2023/01/18</td>\n",
       "      <td>1.807</td>\n",
       "    </tr>\n",
       "    <tr>\n",
       "      <th>4569</th>\n",
       "      <td>2023/01/19</td>\n",
       "      <td>1.760</td>\n",
       "    </tr>\n",
       "    <tr>\n",
       "      <th>4570</th>\n",
       "      <td>2023/01/20</td>\n",
       "      <td>2.317</td>\n",
       "    </tr>\n",
       "    <tr>\n",
       "      <th>4571</th>\n",
       "      <td>2023/01/21</td>\n",
       "      <td>1.859</td>\n",
       "    </tr>\n",
       "  </tbody>\n",
       "</table>\n",
       "</div>"
      ],
      "text/plain": [
       "            Date  Block Reward Size\n",
       "4567  2023/01/17              1.311\n",
       "4568  2023/01/18              1.807\n",
       "4569  2023/01/19              1.760\n",
       "4570  2023/01/20              2.317\n",
       "4571  2023/01/21              1.859"
      ]
     },
     "execution_count": 100,
     "metadata": {},
     "output_type": "execute_result"
    }
   ],
   "source": [
    "block_reward.tail()"
   ]
  },
  {
   "cell_type": "code",
   "execution_count": 101,
   "id": "9c0e4d9a",
   "metadata": {},
   "outputs": [],
   "source": [
    "filtered_block_reward = block_reward[~(block_reward['Date'] < '2015-01-01')]"
   ]
  },
  {
   "cell_type": "code",
   "execution_count": 102,
   "id": "39e44717",
   "metadata": {},
   "outputs": [],
   "source": [
    "# For this dataset, the latest date is usually available only the following date. Therefore, add column avg value as following\n",
    "# date's reward\n",
    "append_br = pd.DataFrame({\n",
    "    'Date': filtered_prices.tail(1)['date'].values[0],\n",
    "    'Block Reward Size': block_reward['Block Reward Size'].mean()\n",
    "}, index=[len(block_reward)])"
   ]
  },
  {
   "cell_type": "code",
   "execution_count": 103,
   "id": "c319734f",
   "metadata": {},
   "outputs": [],
   "source": [
    "filtered_block_reward = filtered_block_reward.append(append_br)"
   ]
  },
  {
   "cell_type": "code",
   "execution_count": 104,
   "id": "511a3822",
   "metadata": {},
   "outputs": [
    {
     "data": {
      "text/plain": [
       "Date                 0\n",
       "Block Reward Size    0\n",
       "dtype: int64"
      ]
     },
     "execution_count": 104,
     "metadata": {},
     "output_type": "execute_result"
    }
   ],
   "source": [
    "# Check for any null values\n",
    "filtered_block_reward.isnull().sum()"
   ]
  },
  {
   "cell_type": "code",
   "execution_count": 105,
   "id": "4e4e1874",
   "metadata": {},
   "outputs": [],
   "source": [
    "filtered_block_reward['close'] = list(filtered_prices['close'])"
   ]
  },
  {
   "cell_type": "code",
   "execution_count": 107,
   "id": "95d625dc",
   "metadata": {},
   "outputs": [
    {
     "data": {
      "image/png": "[encoded data removed]",
      "text/plain": [
       "<Figure size 432x288 with 2 Axes>"
      ]
     },
     "metadata": {
      "needs_background": "light"
     },
     "output_type": "display_data"
    }
   ],
   "source": [
    "# Check correlation\n",
    "sns.heatmap(filtered_block_reward.corr(), annot=True)\n",
    "plt.show()"
   ]
  },
  {
   "cell_type": "markdown",
   "id": "7cbb9420",
   "metadata": {},
   "source": [
    "As there is no high correlation, `block reward size` can also be considered"
   ]
  },
  {
   "cell_type": "markdown",
   "id": "19bec82e",
   "metadata": {},
   "source": [
    "### Analyze google trends dataset"
   ]
  },
  {
   "cell_type": "code",
   "execution_count": 175,
   "id": "b25baad6",
   "metadata": {
    "scrolled": true
   },
   "outputs": [
    {
     "data": {
      "text/html": [
       "<div>\n",
       "<style scoped>\n",
       "    .dataframe tbody tr th:only-of-type {\n",
       "        vertical-align: middle;\n",
       "    }\n",
       "\n",
       "    .dataframe tbody tr th {\n",
       "        vertical-align: top;\n",
       "    }\n",
       "\n",
       "    .dataframe thead th {\n",
       "        text-align: right;\n",
       "    }\n",
       "</style>\n",
       "<table border=\"1\" class=\"dataframe\">\n",
       "  <thead>\n",
       "    <tr style=\"text-align: right;\">\n",
       "      <th></th>\n",
       "      <th>date</th>\n",
       "      <th>bitcoin_unscaled</th>\n",
       "    </tr>\n",
       "  </thead>\n",
       "  <tbody>\n",
       "    <tr>\n",
       "      <th>0</th>\n",
       "      <td>1/1/2014</td>\n",
       "      <td>46</td>\n",
       "    </tr>\n",
       "    <tr>\n",
       "      <th>1</th>\n",
       "      <td>1/2/2014</td>\n",
       "      <td>50</td>\n",
       "    </tr>\n",
       "    <tr>\n",
       "      <th>2</th>\n",
       "      <td>1/3/2014</td>\n",
       "      <td>52</td>\n",
       "    </tr>\n",
       "    <tr>\n",
       "      <th>3</th>\n",
       "      <td>1/4/2014</td>\n",
       "      <td>45</td>\n",
       "    </tr>\n",
       "    <tr>\n",
       "      <th>4</th>\n",
       "      <td>1/5/2014</td>\n",
       "      <td>52</td>\n",
       "    </tr>\n",
       "  </tbody>\n",
       "</table>\n",
       "</div>"
      ],
      "text/plain": [
       "       date  bitcoin_unscaled\n",
       "0  1/1/2014                46\n",
       "1  1/2/2014                50\n",
       "2  1/3/2014                52\n",
       "3  1/4/2014                45\n",
       "4  1/5/2014                52"
      ]
     },
     "execution_count": 175,
     "metadata": {},
     "output_type": "execute_result"
    }
   ],
   "source": [
    "gtrends = pd.read_csv(TRENDS_DATA)\n",
    "gtrends.head()"
   ]
  },
  {
   "cell_type": "code",
   "execution_count": 176,
   "id": "e982fec7",
   "metadata": {
    "scrolled": true
   },
   "outputs": [
    {
     "data": {
      "text/html": [
       "<div>\n",
       "<style scoped>\n",
       "    .dataframe tbody tr th:only-of-type {\n",
       "        vertical-align: middle;\n",
       "    }\n",
       "\n",
       "    .dataframe tbody tr th {\n",
       "        vertical-align: top;\n",
       "    }\n",
       "\n",
       "    .dataframe thead th {\n",
       "        text-align: right;\n",
       "    }\n",
       "</style>\n",
       "<table border=\"1\" class=\"dataframe\">\n",
       "  <thead>\n",
       "    <tr style=\"text-align: right;\">\n",
       "      <th></th>\n",
       "      <th>date</th>\n",
       "      <th>bitcoin_unscaled</th>\n",
       "    </tr>\n",
       "  </thead>\n",
       "  <tbody>\n",
       "    <tr>\n",
       "      <th>3304</th>\n",
       "      <td>1/18/2023</td>\n",
       "      <td>59</td>\n",
       "    </tr>\n",
       "    <tr>\n",
       "      <th>3305</th>\n",
       "      <td>1/19/2023</td>\n",
       "      <td>58</td>\n",
       "    </tr>\n",
       "    <tr>\n",
       "      <th>3306</th>\n",
       "      <td>1/20/2023</td>\n",
       "      <td>61</td>\n",
       "    </tr>\n",
       "    <tr>\n",
       "      <th>3307</th>\n",
       "      <td>1/21/2023</td>\n",
       "      <td>67</td>\n",
       "    </tr>\n",
       "    <tr>\n",
       "      <th>3308</th>\n",
       "      <td>1/22/2023</td>\n",
       "      <td>51</td>\n",
       "    </tr>\n",
       "  </tbody>\n",
       "</table>\n",
       "</div>"
      ],
      "text/plain": [
       "           date  bitcoin_unscaled\n",
       "3304  1/18/2023                59\n",
       "3305  1/19/2023                58\n",
       "3306  1/20/2023                61\n",
       "3307  1/21/2023                67\n",
       "3308  1/22/2023                51"
      ]
     },
     "execution_count": 176,
     "metadata": {},
     "output_type": "execute_result"
    }
   ],
   "source": [
    "gtrends.tail()"
   ]
  },
  {
   "cell_type": "code",
   "execution_count": 189,
   "id": "ef6f460e",
   "metadata": {},
   "outputs": [],
   "source": [
    "# Certain issues popup\n",
    "filtered_gtrends = gtrends[~(pd.to_datetime(gtrends['date']) < pd.to_datetime('2015-01-01'))]"
   ]
  },
  {
   "cell_type": "code",
   "execution_count": 190,
   "id": "95527823",
   "metadata": {},
   "outputs": [
    {
     "data": {
      "text/plain": [
       "date                0\n",
       "bitcoin_unscaled    0\n",
       "dtype: int64"
      ]
     },
     "execution_count": 190,
     "metadata": {},
     "output_type": "execute_result"
    }
   ],
   "source": [
    "# Check for any null values\n",
    "filtered_gtrends.isnull().sum()"
   ]
  },
  {
   "cell_type": "code",
   "execution_count": 192,
   "id": "a1cc9c54",
   "metadata": {
    "scrolled": true
   },
   "outputs": [
    {
     "name": "stderr",
     "output_type": "stream",
     "text": [
      "c:\\users\\acer\\appdata\\local\\programs\\python\\python37\\lib\\site-packages\\ipykernel_launcher.py:1: SettingWithCopyWarning: \n",
      "A value is trying to be set on a copy of a slice from a DataFrame.\n",
      "Try using .loc[row_indexer,col_indexer] = value instead\n",
      "\n",
      "See the caveats in the documentation: https://pandas.pydata.org/pandas-docs/stable/user_guide/indexing.html#returning-a-view-versus-a-copy\n",
      "  \"\"\"Entry point for launching an IPython kernel.\n"
     ]
    }
   ],
   "source": [
    "filtered_gtrends['close'] = list(filtered_prices['close'])"
   ]
  },
  {
   "cell_type": "code",
   "execution_count": 194,
   "id": "3e12a8a9",
   "metadata": {},
   "outputs": [
    {
     "data": {
      "image/png": "[encoded data removed]",
      "text/plain": [
       "<Figure size 432x288 with 2 Axes>"
      ]
     },
     "metadata": {
      "needs_background": "light"
     },
     "output_type": "display_data"
    }
   ],
   "source": [
    "# Check correlation\n",
    "sns.heatmap(filtered_gtrends.corr(), annot=True)\n",
    "plt.show()"
   ]
  },
  {
   "cell_type": "code",
   "execution_count": null,
   "id": "64b0a3d2",
   "metadata": {},
   "outputs": [],
   "source": []
  }
 ],
 "metadata": {
  "kernelspec": {
   "display_name": "Python 3 (ipykernel)",
   "language": "python",
   "name": "python3"
  },
  "language_info": {
   "codemirror_mode": {
    "name": "ipython",
    "version": 3
   },
   "file_extension": ".py",
   "mimetype": "text/x-python",
   "name": "python",
   "nbconvert_exporter": "python",
   "pygments_lexer": "ipython3",
   "version": "3.7.4"
  }
 },
 "nbformat": 4,
 "nbformat_minor": 5
}
