{
 "cells": [
  {
   "cell_type": "markdown",
   "id": "214fd214",
   "metadata": {},
   "source": [
    "### Create final combined dataset\n",
    "\n",
    "As all the data are now available, the model will need a combined single dataset with all the features to train.\n",
    "\n",
    "Initially, each dataset must be analysed to see if the features available do have an impact on the price to be predicted. If not, the features can be excluded when creating the final dataset, as it is at that point, only additional noise that has no real impact."
   ]
  },
  {
   "cell_type": "code",
   "execution_count": 1,
   "id": "ed9132b6",
   "metadata": {},
   "outputs": [],
   "source": [
    "import pandas as pd"
   ]
  },
  {
   "cell_type": "code",
   "execution_count": 4,
   "id": "c76b8505",
   "metadata": {},
   "outputs": [],
   "source": [
    "TRENDS_DATA = '../../data/GTrends/BTC_GTrends_total.csv'\n",
    "TWEETS_DATA = '../../data/Tweets/BTC_Tweet_Sentiment_Unweighed.csv'\n",
    "TWEET_VOLUME_DATA = '../../data/Tweets/BTC_Tweet_Volume.csv'\n",
    "BLOCK_REWARD_DATA = '../../data/BTC_Block_Reward.csv'\n",
    "BTC_PRICES_DATA = '../../data/BTC_Prices.csv'"
   ]
  },
  {
   "cell_type": "markdown",
   "id": "29805e81",
   "metadata": {},
   "source": [
    "### Analyze prices dataset"
   ]
  },
  {
   "cell_type": "code",
   "execution_count": 5,
   "id": "12b2fd12",
   "metadata": {},
   "outputs": [
    {
     "data": {
      "text/html": [
       "<div>\n",
       "<style scoped>\n",
       "    .dataframe tbody tr th:only-of-type {\n",
       "        vertical-align: middle;\n",
       "    }\n",
       "\n",
       "    .dataframe tbody tr th {\n",
       "        vertical-align: top;\n",
       "    }\n",
       "\n",
       "    .dataframe thead th {\n",
       "        text-align: right;\n",
       "    }\n",
       "</style>\n",
       "<table border=\"1\" class=\"dataframe\">\n",
       "  <thead>\n",
       "    <tr style=\"text-align: right;\">\n",
       "      <th></th>\n",
       "      <th>date</th>\n",
       "      <th>volume</th>\n",
       "      <th>close</th>\n",
       "      <th>open</th>\n",
       "      <th>max</th>\n",
       "      <th>min</th>\n",
       "      <th>change_percent</th>\n",
       "    </tr>\n",
       "  </thead>\n",
       "  <tbody>\n",
       "    <tr>\n",
       "      <th>0</th>\n",
       "      <td>2014-01-01</td>\n",
       "      <td>10757</td>\n",
       "      <td>815.940002</td>\n",
       "      <td>805.940002</td>\n",
       "      <td>829.929993</td>\n",
       "      <td>770.969971</td>\n",
       "      <td>1.240787</td>\n",
       "    </tr>\n",
       "    <tr>\n",
       "      <th>1</th>\n",
       "      <td>2014-01-02</td>\n",
       "      <td>12812</td>\n",
       "      <td>856.909973</td>\n",
       "      <td>815.940002</td>\n",
       "      <td>886.210022</td>\n",
       "      <td>810.469971</td>\n",
       "      <td>5.021199</td>\n",
       "    </tr>\n",
       "    <tr>\n",
       "      <th>2</th>\n",
       "      <td>2014-01-03</td>\n",
       "      <td>9709</td>\n",
       "      <td>884.260010</td>\n",
       "      <td>856.909973</td>\n",
       "      <td>888.229980</td>\n",
       "      <td>839.440002</td>\n",
       "      <td>3.191705</td>\n",
       "    </tr>\n",
       "    <tr>\n",
       "      <th>3</th>\n",
       "      <td>2014-01-04</td>\n",
       "      <td>14239</td>\n",
       "      <td>924.690002</td>\n",
       "      <td>884.260010</td>\n",
       "      <td>932.159973</td>\n",
       "      <td>848.320007</td>\n",
       "      <td>4.572184</td>\n",
       "    </tr>\n",
       "    <tr>\n",
       "      <th>4</th>\n",
       "      <td>2014-01-05</td>\n",
       "      <td>21374</td>\n",
       "      <td>1014.739990</td>\n",
       "      <td>924.690002</td>\n",
       "      <td>1029.859985</td>\n",
       "      <td>911.359985</td>\n",
       "      <td>9.738397</td>\n",
       "    </tr>\n",
       "  </tbody>\n",
       "</table>\n",
       "</div>"
      ],
      "text/plain": [
       "         date  volume        close        open          max         min  \\\n",
       "0  2014-01-01   10757   815.940002  805.940002   829.929993  770.969971   \n",
       "1  2014-01-02   12812   856.909973  815.940002   886.210022  810.469971   \n",
       "2  2014-01-03    9709   884.260010  856.909973   888.229980  839.440002   \n",
       "3  2014-01-04   14239   924.690002  884.260010   932.159973  848.320007   \n",
       "4  2014-01-05   21374  1014.739990  924.690002  1029.859985  911.359985   \n",
       "\n",
       "   change_percent  \n",
       "0        1.240787  \n",
       "1        5.021199  \n",
       "2        3.191705  \n",
       "3        4.572184  \n",
       "4        9.738397  "
      ]
     },
     "execution_count": 5,
     "metadata": {},
     "output_type": "execute_result"
    }
   ],
   "source": [
    "historical_prices = pd.read_csv(BTC_PRICES_DATA)\n",
    "historical_prices.head()"
   ]
  },
  {
   "cell_type": "code",
   "execution_count": 6,
   "id": "1fc8a07b",
   "metadata": {},
   "outputs": [
    {
     "data": {
      "text/plain": [
       "0     815.940002\n",
       "1     856.909973\n",
       "2     884.260010\n",
       "3     924.690002\n",
       "4    1014.739990\n",
       "5    1012.650024\n",
       "6     879.900024\n",
       "7     938.840027\n",
       "8     936.950012\n",
       "9     957.760010\n",
       "Name: close, dtype: float64"
      ]
     },
     "execution_count": 6,
     "metadata": {},
     "output_type": "execute_result"
    }
   ],
   "source": [
    "closing_price = historical_prices['close']\n",
    "closing_price[:10]"
   ]
  },
  {
   "cell_type": "code",
   "execution_count": 12,
   "id": "ff0e3368",
   "metadata": {},
   "outputs": [
    {
     "data": {
      "image/png": "[encoded data removed]",
      "text/plain": [
       "<Figure size 432x288 with 2 Axes>"
      ]
     },
     "metadata": {
      "needs_background": "light"
     },
     "output_type": "display_data"
    }
   ],
   "source": [
    "# Check correlation\n",
    "import seaborn as sns\n",
    "import matplotlib.pyplot as plt\n",
    "\n",
    "sns.heatmap(historical_prices.corr(), annot=True)\n",
    "plt.show()"
   ]
  },
  {
   "cell_type": "code",
   "execution_count": 13,
   "id": "c6fa7699",
   "metadata": {},
   "outputs": [
    {
     "data": {
      "text/html": [
       "<div>\n",
       "<style scoped>\n",
       "    .dataframe tbody tr th:only-of-type {\n",
       "        vertical-align: middle;\n",
       "    }\n",
       "\n",
       "    .dataframe tbody tr th {\n",
       "        vertical-align: top;\n",
       "    }\n",
       "\n",
       "    .dataframe thead th {\n",
       "        text-align: right;\n",
       "    }\n",
       "</style>\n",
       "<table border=\"1\" class=\"dataframe\">\n",
       "  <thead>\n",
       "    <tr style=\"text-align: right;\">\n",
       "      <th></th>\n",
       "      <th>date</th>\n",
       "      <th>volume</th>\n",
       "      <th>close</th>\n",
       "      <th>change_percent</th>\n",
       "    </tr>\n",
       "  </thead>\n",
       "  <tbody>\n",
       "    <tr>\n",
       "      <th>0</th>\n",
       "      <td>2014-01-01</td>\n",
       "      <td>10757</td>\n",
       "      <td>815.940002</td>\n",
       "      <td>1.240787</td>\n",
       "    </tr>\n",
       "    <tr>\n",
       "      <th>1</th>\n",
       "      <td>2014-01-02</td>\n",
       "      <td>12812</td>\n",
       "      <td>856.909973</td>\n",
       "      <td>5.021199</td>\n",
       "    </tr>\n",
       "    <tr>\n",
       "      <th>2</th>\n",
       "      <td>2014-01-03</td>\n",
       "      <td>9709</td>\n",
       "      <td>884.260010</td>\n",
       "      <td>3.191705</td>\n",
       "    </tr>\n",
       "    <tr>\n",
       "      <th>3</th>\n",
       "      <td>2014-01-04</td>\n",
       "      <td>14239</td>\n",
       "      <td>924.690002</td>\n",
       "      <td>4.572184</td>\n",
       "    </tr>\n",
       "    <tr>\n",
       "      <th>4</th>\n",
       "      <td>2014-01-05</td>\n",
       "      <td>21374</td>\n",
       "      <td>1014.739990</td>\n",
       "      <td>9.738397</td>\n",
       "    </tr>\n",
       "  </tbody>\n",
       "</table>\n",
       "</div>"
      ],
      "text/plain": [
       "         date  volume        close  change_percent\n",
       "0  2014-01-01   10757   815.940002        1.240787\n",
       "1  2014-01-02   12812   856.909973        5.021199\n",
       "2  2014-01-03    9709   884.260010        3.191705\n",
       "3  2014-01-04   14239   924.690002        4.572184\n",
       "4  2014-01-05   21374  1014.739990        9.738397"
      ]
     },
     "execution_count": 13,
     "metadata": {},
     "output_type": "execute_result"
    }
   ],
   "source": [
    "# Due to the large correlation of variables and closing price: max, min, open can be dropped\n",
    "historical_prices.drop(['max', 'min', 'open'], axis=1, inplace=True)\n",
    "historical_prices.head()"
   ]
  },
  {
   "cell_type": "markdown",
   "id": "209b7715",
   "metadata": {},
   "source": [
    "As the `max, min, open` features are highly correlated, they are dropped. The `volume` and `change_percent` features can remain as they aren't."
   ]
  },
  {
   "cell_type": "markdown",
   "id": "1c11817f",
   "metadata": {},
   "source": [
    "### Analyze Twitter volume dataset"
   ]
  },
  {
   "cell_type": "code",
   "execution_count": 14,
   "id": "4a9afba2",
   "metadata": {},
   "outputs": [
    {
     "data": {
      "text/html": [
       "<div>\n",
       "<style scoped>\n",
       "    .dataframe tbody tr th:only-of-type {\n",
       "        vertical-align: middle;\n",
       "    }\n",
       "\n",
       "    .dataframe tbody tr th {\n",
       "        vertical-align: top;\n",
       "    }\n",
       "\n",
       "    .dataframe thead th {\n",
       "        text-align: right;\n",
       "    }\n",
       "</style>\n",
       "<table border=\"1\" class=\"dataframe\">\n",
       "  <thead>\n",
       "    <tr style=\"text-align: right;\">\n",
       "      <th></th>\n",
       "      <th>Unnamed: 0</th>\n",
       "      <th>Date</th>\n",
       "      <th>Tweet Volume</th>\n",
       "    </tr>\n",
       "  </thead>\n",
       "  <tbody>\n",
       "    <tr>\n",
       "      <th>0</th>\n",
       "      <td>0</td>\n",
       "      <td>2014/04/09</td>\n",
       "      <td>8193.0</td>\n",
       "    </tr>\n",
       "    <tr>\n",
       "      <th>1</th>\n",
       "      <td>1</td>\n",
       "      <td>2014/04/10</td>\n",
       "      <td>15039.0</td>\n",
       "    </tr>\n",
       "    <tr>\n",
       "      <th>2</th>\n",
       "      <td>2</td>\n",
       "      <td>2014/04/11</td>\n",
       "      <td>14907.0</td>\n",
       "    </tr>\n",
       "    <tr>\n",
       "      <th>3</th>\n",
       "      <td>3</td>\n",
       "      <td>2014/04/12</td>\n",
       "      <td>7582.0</td>\n",
       "    </tr>\n",
       "    <tr>\n",
       "      <th>4</th>\n",
       "      <td>4</td>\n",
       "      <td>2014/04/13</td>\n",
       "      <td>10674.0</td>\n",
       "    </tr>\n",
       "  </tbody>\n",
       "</table>\n",
       "</div>"
      ],
      "text/plain": [
       "   Unnamed: 0        Date  Tweet Volume\n",
       "0           0  2014/04/09        8193.0\n",
       "1           1  2014/04/10       15039.0\n",
       "2           2  2014/04/11       14907.0\n",
       "3           3  2014/04/12        7582.0\n",
       "4           4  2014/04/13       10674.0"
      ]
     },
     "execution_count": 14,
     "metadata": {},
     "output_type": "execute_result"
    }
   ],
   "source": [
    "twitter_volume = pd.read_csv(TWEET_VOLUME_DATA)\n",
    "twitter_volume.head()"
   ]
  },
  {
   "cell_type": "code",
   "execution_count": 15,
   "id": "da1eb37d",
   "metadata": {},
   "outputs": [
    {
     "data": {
      "text/html": [
       "<div>\n",
       "<style scoped>\n",
       "    .dataframe tbody tr th:only-of-type {\n",
       "        vertical-align: middle;\n",
       "    }\n",
       "\n",
       "    .dataframe tbody tr th {\n",
       "        vertical-align: top;\n",
       "    }\n",
       "\n",
       "    .dataframe thead th {\n",
       "        text-align: right;\n",
       "    }\n",
       "</style>\n",
       "<table border=\"1\" class=\"dataframe\">\n",
       "  <thead>\n",
       "    <tr style=\"text-align: right;\">\n",
       "      <th></th>\n",
       "      <th>Date</th>\n",
       "      <th>Tweet Volume</th>\n",
       "    </tr>\n",
       "  </thead>\n",
       "  <tbody>\n",
       "    <tr>\n",
       "      <th>0</th>\n",
       "      <td>2014/04/09</td>\n",
       "      <td>8193.0</td>\n",
       "    </tr>\n",
       "    <tr>\n",
       "      <th>1</th>\n",
       "      <td>2014/04/10</td>\n",
       "      <td>15039.0</td>\n",
       "    </tr>\n",
       "    <tr>\n",
       "      <th>2</th>\n",
       "      <td>2014/04/11</td>\n",
       "      <td>14907.0</td>\n",
       "    </tr>\n",
       "    <tr>\n",
       "      <th>3</th>\n",
       "      <td>2014/04/12</td>\n",
       "      <td>7582.0</td>\n",
       "    </tr>\n",
       "    <tr>\n",
       "      <th>4</th>\n",
       "      <td>2014/04/13</td>\n",
       "      <td>10674.0</td>\n",
       "    </tr>\n",
       "  </tbody>\n",
       "</table>\n",
       "</div>"
      ],
      "text/plain": [
       "         Date  Tweet Volume\n",
       "0  2014/04/09        8193.0\n",
       "1  2014/04/10       15039.0\n",
       "2  2014/04/11       14907.0\n",
       "3  2014/04/12        7582.0\n",
       "4  2014/04/13       10674.0"
      ]
     },
     "execution_count": 15,
     "metadata": {},
     "output_type": "execute_result"
    }
   ],
   "source": [
    "twitter_volume.drop(['Unnamed: 0'], axis=1, inplace=True)\n",
    "twitter_volume.head()"
   ]
  },
  {
   "cell_type": "code",
   "execution_count": 16,
   "id": "e7e21cb6",
   "metadata": {},
   "outputs": [
    {
     "data": {
      "text/html": [
       "<div>\n",
       "<style scoped>\n",
       "    .dataframe tbody tr th:only-of-type {\n",
       "        vertical-align: middle;\n",
       "    }\n",
       "\n",
       "    .dataframe tbody tr th {\n",
       "        vertical-align: top;\n",
       "    }\n",
       "\n",
       "    .dataframe thead th {\n",
       "        text-align: right;\n",
       "    }\n",
       "</style>\n",
       "<table border=\"1\" class=\"dataframe\">\n",
       "  <thead>\n",
       "    <tr style=\"text-align: right;\">\n",
       "      <th></th>\n",
       "      <th>Date</th>\n",
       "      <th>Tweet Volume</th>\n",
       "    </tr>\n",
       "  </thead>\n",
       "  <tbody>\n",
       "    <tr>\n",
       "      <th>3206</th>\n",
       "      <td>2023/01/18</td>\n",
       "      <td>124969.0</td>\n",
       "    </tr>\n",
       "    <tr>\n",
       "      <th>3207</th>\n",
       "      <td>2023/01/19</td>\n",
       "      <td>114059.0</td>\n",
       "    </tr>\n",
       "    <tr>\n",
       "      <th>3208</th>\n",
       "      <td>2023/01/20</td>\n",
       "      <td>135671.0</td>\n",
       "    </tr>\n",
       "    <tr>\n",
       "      <th>3209</th>\n",
       "      <td>2023/01/21</td>\n",
       "      <td>134571.0</td>\n",
       "    </tr>\n",
       "    <tr>\n",
       "      <th>3210</th>\n",
       "      <td>2023/01/22</td>\n",
       "      <td>14847.0</td>\n",
       "    </tr>\n",
       "  </tbody>\n",
       "</table>\n",
       "</div>"
      ],
      "text/plain": [
       "            Date  Tweet Volume\n",
       "3206  2023/01/18      124969.0\n",
       "3207  2023/01/19      114059.0\n",
       "3208  2023/01/20      135671.0\n",
       "3209  2023/01/21      134571.0\n",
       "3210  2023/01/22       14847.0"
      ]
     },
     "execution_count": 16,
     "metadata": {},
     "output_type": "execute_result"
    }
   ],
   "source": [
    "twitter_volume.tail()"
   ]
  },
  {
   "cell_type": "code",
   "execution_count": 17,
   "id": "fedea2a5",
   "metadata": {},
   "outputs": [
    {
     "data": {
      "text/html": [
       "<div>\n",
       "<style scoped>\n",
       "    .dataframe tbody tr th:only-of-type {\n",
       "        vertical-align: middle;\n",
       "    }\n",
       "\n",
       "    .dataframe tbody tr th {\n",
       "        vertical-align: top;\n",
       "    }\n",
       "\n",
       "    .dataframe thead th {\n",
       "        text-align: right;\n",
       "    }\n",
       "</style>\n",
       "<table border=\"1\" class=\"dataframe\">\n",
       "  <thead>\n",
       "    <tr style=\"text-align: right;\">\n",
       "      <th></th>\n",
       "      <th>date</th>\n",
       "      <th>volume</th>\n",
       "      <th>close</th>\n",
       "      <th>change_percent</th>\n",
       "    </tr>\n",
       "  </thead>\n",
       "  <tbody>\n",
       "    <tr>\n",
       "      <th>3304</th>\n",
       "      <td>2023-01-18</td>\n",
       "      <td>388670</td>\n",
       "      <td>20670.589844</td>\n",
       "      <td>-2.206940</td>\n",
       "    </tr>\n",
       "    <tr>\n",
       "      <th>3305</th>\n",
       "      <td>2023-01-19</td>\n",
       "      <td>275758</td>\n",
       "      <td>21081.183594</td>\n",
       "      <td>1.986367</td>\n",
       "    </tr>\n",
       "    <tr>\n",
       "      <th>3306</th>\n",
       "      <td>2023-01-20</td>\n",
       "      <td>373735</td>\n",
       "      <td>22677.236328</td>\n",
       "      <td>7.570983</td>\n",
       "    </tr>\n",
       "    <tr>\n",
       "      <th>3307</th>\n",
       "      <td>2023-01-21</td>\n",
       "      <td>382688</td>\n",
       "      <td>22775.677734</td>\n",
       "      <td>0.434098</td>\n",
       "    </tr>\n",
       "    <tr>\n",
       "      <th>3308</th>\n",
       "      <td>2023-01-22</td>\n",
       "      <td>379398</td>\n",
       "      <td>22847.929688</td>\n",
       "      <td>0.317233</td>\n",
       "    </tr>\n",
       "  </tbody>\n",
       "</table>\n",
       "</div>"
      ],
      "text/plain": [
       "            date  volume         close  change_percent\n",
       "3304  2023-01-18  388670  20670.589844       -2.206940\n",
       "3305  2023-01-19  275758  21081.183594        1.986367\n",
       "3306  2023-01-20  373735  22677.236328        7.570983\n",
       "3307  2023-01-21  382688  22775.677734        0.434098\n",
       "3308  2023-01-22  379398  22847.929688        0.317233"
      ]
     },
     "execution_count": 17,
     "metadata": {},
     "output_type": "execute_result"
    }
   ],
   "source": [
    "historical_prices.tail()"
   ]
  },
  {
   "cell_type": "code",
   "execution_count": 20,
   "id": "84495a8a",
   "metadata": {},
   "outputs": [],
   "source": [
    "filtered_prices = historical_prices[~(historical_prices['date'] < '2015-01-01')]"
   ]
  },
  {
   "cell_type": "code",
   "execution_count": 22,
   "id": "5251bbb3",
   "metadata": {},
   "outputs": [
    {
     "data": {
      "text/html": [
       "<div>\n",
       "<style scoped>\n",
       "    .dataframe tbody tr th:only-of-type {\n",
       "        vertical-align: middle;\n",
       "    }\n",
       "\n",
       "    .dataframe tbody tr th {\n",
       "        vertical-align: top;\n",
       "    }\n",
       "\n",
       "    .dataframe thead th {\n",
       "        text-align: right;\n",
       "    }\n",
       "</style>\n",
       "<table border=\"1\" class=\"dataframe\">\n",
       "  <thead>\n",
       "    <tr style=\"text-align: right;\">\n",
       "      <th></th>\n",
       "      <th>date</th>\n",
       "      <th>volume</th>\n",
       "      <th>close</th>\n",
       "      <th>change_percent</th>\n",
       "    </tr>\n",
       "  </thead>\n",
       "  <tbody>\n",
       "    <tr>\n",
       "      <th>365</th>\n",
       "      <td>2015-01-01</td>\n",
       "      <td>12820</td>\n",
       "      <td>314.890015</td>\n",
       "      <td>-1.052657</td>\n",
       "    </tr>\n",
       "    <tr>\n",
       "      <th>366</th>\n",
       "      <td>2015-01-02</td>\n",
       "      <td>14729</td>\n",
       "      <td>315.209991</td>\n",
       "      <td>0.101615</td>\n",
       "    </tr>\n",
       "    <tr>\n",
       "      <th>367</th>\n",
       "      <td>2015-01-03</td>\n",
       "      <td>47366</td>\n",
       "      <td>287.130005</td>\n",
       "      <td>-8.908343</td>\n",
       "    </tr>\n",
       "    <tr>\n",
       "      <th>368</th>\n",
       "      <td>2015-01-04</td>\n",
       "      <td>88769</td>\n",
       "      <td>264.720001</td>\n",
       "      <td>-7.804828</td>\n",
       "    </tr>\n",
       "    <tr>\n",
       "      <th>369</th>\n",
       "      <td>2015-01-05</td>\n",
       "      <td>54993</td>\n",
       "      <td>274.839996</td>\n",
       "      <td>3.822905</td>\n",
       "    </tr>\n",
       "  </tbody>\n",
       "</table>\n",
       "</div>"
      ],
      "text/plain": [
       "           date  volume       close  change_percent\n",
       "365  2015-01-01   12820  314.890015       -1.052657\n",
       "366  2015-01-02   14729  315.209991        0.101615\n",
       "367  2015-01-03   47366  287.130005       -8.908343\n",
       "368  2015-01-04   88769  264.720001       -7.804828\n",
       "369  2015-01-05   54993  274.839996        3.822905"
      ]
     },
     "execution_count": 22,
     "metadata": {},
     "output_type": "execute_result"
    }
   ],
   "source": [
    "filtered_prices.head()"
   ]
  },
  {
   "cell_type": "code",
   "execution_count": 23,
   "id": "c344ca7d",
   "metadata": {},
   "outputs": [
    {
     "data": {
      "text/html": [
       "<div>\n",
       "<style scoped>\n",
       "    .dataframe tbody tr th:only-of-type {\n",
       "        vertical-align: middle;\n",
       "    }\n",
       "\n",
       "    .dataframe tbody tr th {\n",
       "        vertical-align: top;\n",
       "    }\n",
       "\n",
       "    .dataframe thead th {\n",
       "        text-align: right;\n",
       "    }\n",
       "</style>\n",
       "<table border=\"1\" class=\"dataframe\">\n",
       "  <thead>\n",
       "    <tr style=\"text-align: right;\">\n",
       "      <th></th>\n",
       "      <th>date</th>\n",
       "      <th>volume</th>\n",
       "      <th>close</th>\n",
       "      <th>change_percent</th>\n",
       "    </tr>\n",
       "  </thead>\n",
       "  <tbody>\n",
       "    <tr>\n",
       "      <th>3304</th>\n",
       "      <td>2023-01-18</td>\n",
       "      <td>388670</td>\n",
       "      <td>20670.589844</td>\n",
       "      <td>-2.206940</td>\n",
       "    </tr>\n",
       "    <tr>\n",
       "      <th>3305</th>\n",
       "      <td>2023-01-19</td>\n",
       "      <td>275758</td>\n",
       "      <td>21081.183594</td>\n",
       "      <td>1.986367</td>\n",
       "    </tr>\n",
       "    <tr>\n",
       "      <th>3306</th>\n",
       "      <td>2023-01-20</td>\n",
       "      <td>373735</td>\n",
       "      <td>22677.236328</td>\n",
       "      <td>7.570983</td>\n",
       "    </tr>\n",
       "    <tr>\n",
       "      <th>3307</th>\n",
       "      <td>2023-01-21</td>\n",
       "      <td>382688</td>\n",
       "      <td>22775.677734</td>\n",
       "      <td>0.434098</td>\n",
       "    </tr>\n",
       "    <tr>\n",
       "      <th>3308</th>\n",
       "      <td>2023-01-22</td>\n",
       "      <td>379398</td>\n",
       "      <td>22847.929688</td>\n",
       "      <td>0.317233</td>\n",
       "    </tr>\n",
       "  </tbody>\n",
       "</table>\n",
       "</div>"
      ],
      "text/plain": [
       "            date  volume         close  change_percent\n",
       "3304  2023-01-18  388670  20670.589844       -2.206940\n",
       "3305  2023-01-19  275758  21081.183594        1.986367\n",
       "3306  2023-01-20  373735  22677.236328        7.570983\n",
       "3307  2023-01-21  382688  22775.677734        0.434098\n",
       "3308  2023-01-22  379398  22847.929688        0.317233"
      ]
     },
     "execution_count": 23,
     "metadata": {},
     "output_type": "execute_result"
    }
   ],
   "source": [
    "filtered_prices.tail()"
   ]
  },
  {
   "cell_type": "code",
   "execution_count": 25,
   "id": "b02cfc02",
   "metadata": {},
   "outputs": [],
   "source": [
    "filtered_t_volume = twitter_volume[~(twitter_volume['Date'] < '2015-01-01')]"
   ]
  },
  {
   "cell_type": "code",
   "execution_count": 26,
   "id": "566b02fc",
   "metadata": {},
   "outputs": [
    {
     "data": {
      "text/html": [
       "<div>\n",
       "<style scoped>\n",
       "    .dataframe tbody tr th:only-of-type {\n",
       "        vertical-align: middle;\n",
       "    }\n",
       "\n",
       "    .dataframe tbody tr th {\n",
       "        vertical-align: top;\n",
       "    }\n",
       "\n",
       "    .dataframe thead th {\n",
       "        text-align: right;\n",
       "    }\n",
       "</style>\n",
       "<table border=\"1\" class=\"dataframe\">\n",
       "  <thead>\n",
       "    <tr style=\"text-align: right;\">\n",
       "      <th></th>\n",
       "      <th>Date</th>\n",
       "      <th>Tweet Volume</th>\n",
       "    </tr>\n",
       "  </thead>\n",
       "  <tbody>\n",
       "    <tr>\n",
       "      <th>267</th>\n",
       "      <td>2015/01/01</td>\n",
       "      <td>18681.0</td>\n",
       "    </tr>\n",
       "    <tr>\n",
       "      <th>268</th>\n",
       "      <td>2015/01/02</td>\n",
       "      <td>9385.0</td>\n",
       "    </tr>\n",
       "    <tr>\n",
       "      <th>269</th>\n",
       "      <td>2015/01/03</td>\n",
       "      <td>NaN</td>\n",
       "    </tr>\n",
       "    <tr>\n",
       "      <th>270</th>\n",
       "      <td>2015/01/04</td>\n",
       "      <td>7300.0</td>\n",
       "    </tr>\n",
       "    <tr>\n",
       "      <th>271</th>\n",
       "      <td>2015/01/05</td>\n",
       "      <td>23092.0</td>\n",
       "    </tr>\n",
       "  </tbody>\n",
       "</table>\n",
       "</div>"
      ],
      "text/plain": [
       "           Date  Tweet Volume\n",
       "267  2015/01/01       18681.0\n",
       "268  2015/01/02        9385.0\n",
       "269  2015/01/03           NaN\n",
       "270  2015/01/04        7300.0\n",
       "271  2015/01/05       23092.0"
      ]
     },
     "execution_count": 26,
     "metadata": {},
     "output_type": "execute_result"
    }
   ],
   "source": [
    "filtered_t_volume.head()"
   ]
  },
  {
   "cell_type": "code",
   "execution_count": 27,
   "id": "71e7db27",
   "metadata": {},
   "outputs": [
    {
     "data": {
      "text/html": [
       "<div>\n",
       "<style scoped>\n",
       "    .dataframe tbody tr th:only-of-type {\n",
       "        vertical-align: middle;\n",
       "    }\n",
       "\n",
       "    .dataframe tbody tr th {\n",
       "        vertical-align: top;\n",
       "    }\n",
       "\n",
       "    .dataframe thead th {\n",
       "        text-align: right;\n",
       "    }\n",
       "</style>\n",
       "<table border=\"1\" class=\"dataframe\">\n",
       "  <thead>\n",
       "    <tr style=\"text-align: right;\">\n",
       "      <th></th>\n",
       "      <th>Date</th>\n",
       "      <th>Tweet Volume</th>\n",
       "    </tr>\n",
       "  </thead>\n",
       "  <tbody>\n",
       "    <tr>\n",
       "      <th>3206</th>\n",
       "      <td>2023/01/18</td>\n",
       "      <td>124969.0</td>\n",
       "    </tr>\n",
       "    <tr>\n",
       "      <th>3207</th>\n",
       "      <td>2023/01/19</td>\n",
       "      <td>114059.0</td>\n",
       "    </tr>\n",
       "    <tr>\n",
       "      <th>3208</th>\n",
       "      <td>2023/01/20</td>\n",
       "      <td>135671.0</td>\n",
       "    </tr>\n",
       "    <tr>\n",
       "      <th>3209</th>\n",
       "      <td>2023/01/21</td>\n",
       "      <td>134571.0</td>\n",
       "    </tr>\n",
       "    <tr>\n",
       "      <th>3210</th>\n",
       "      <td>2023/01/22</td>\n",
       "      <td>14847.0</td>\n",
       "    </tr>\n",
       "  </tbody>\n",
       "</table>\n",
       "</div>"
      ],
      "text/plain": [
       "            Date  Tweet Volume\n",
       "3206  2023/01/18      124969.0\n",
       "3207  2023/01/19      114059.0\n",
       "3208  2023/01/20      135671.0\n",
       "3209  2023/01/21      134571.0\n",
       "3210  2023/01/22       14847.0"
      ]
     },
     "execution_count": 27,
     "metadata": {},
     "output_type": "execute_result"
    }
   ],
   "source": [
    "filtered_t_volume.tail()"
   ]
  },
  {
   "cell_type": "code",
   "execution_count": 34,
   "id": "2742e37f",
   "metadata": {},
   "outputs": [
    {
     "name": "stderr",
     "output_type": "stream",
     "text": [
      "c:\\users\\acer\\appdata\\local\\programs\\python\\python37\\lib\\site-packages\\ipykernel_launcher.py:1: SettingWithCopyWarning: \n",
      "A value is trying to be set on a copy of a slice from a DataFrame.\n",
      "Try using .loc[row_indexer,col_indexer] = value instead\n",
      "\n",
      "See the caveats in the documentation: https://pandas.pydata.org/pandas-docs/stable/user_guide/indexing.html#returning-a-view-versus-a-copy\n",
      "  \"\"\"Entry point for launching an IPython kernel.\n"
     ]
    }
   ],
   "source": [
    "filtered_t_volume['close'] = list(filtered_prices['close'])"
   ]
  },
  {
   "cell_type": "code",
   "execution_count": 35,
   "id": "9b45e432",
   "metadata": {},
   "outputs": [
    {
     "data": {
      "text/html": [
       "<div>\n",
       "<style scoped>\n",
       "    .dataframe tbody tr th:only-of-type {\n",
       "        vertical-align: middle;\n",
       "    }\n",
       "\n",
       "    .dataframe tbody tr th {\n",
       "        vertical-align: top;\n",
       "    }\n",
       "\n",
       "    .dataframe thead th {\n",
       "        text-align: right;\n",
       "    }\n",
       "</style>\n",
       "<table border=\"1\" class=\"dataframe\">\n",
       "  <thead>\n",
       "    <tr style=\"text-align: right;\">\n",
       "      <th></th>\n",
       "      <th>Date</th>\n",
       "      <th>Tweet Volume</th>\n",
       "      <th>close</th>\n",
       "    </tr>\n",
       "  </thead>\n",
       "  <tbody>\n",
       "    <tr>\n",
       "      <th>267</th>\n",
       "      <td>2015/01/01</td>\n",
       "      <td>18681.0</td>\n",
       "      <td>314.890015</td>\n",
       "    </tr>\n",
       "    <tr>\n",
       "      <th>268</th>\n",
       "      <td>2015/01/02</td>\n",
       "      <td>9385.0</td>\n",
       "      <td>315.209991</td>\n",
       "    </tr>\n",
       "    <tr>\n",
       "      <th>269</th>\n",
       "      <td>2015/01/03</td>\n",
       "      <td>NaN</td>\n",
       "      <td>287.130005</td>\n",
       "    </tr>\n",
       "    <tr>\n",
       "      <th>270</th>\n",
       "      <td>2015/01/04</td>\n",
       "      <td>7300.0</td>\n",
       "      <td>264.720001</td>\n",
       "    </tr>\n",
       "    <tr>\n",
       "      <th>271</th>\n",
       "      <td>2015/01/05</td>\n",
       "      <td>23092.0</td>\n",
       "      <td>274.839996</td>\n",
       "    </tr>\n",
       "  </tbody>\n",
       "</table>\n",
       "</div>"
      ],
      "text/plain": [
       "           Date  Tweet Volume       close\n",
       "267  2015/01/01       18681.0  314.890015\n",
       "268  2015/01/02        9385.0  315.209991\n",
       "269  2015/01/03           NaN  287.130005\n",
       "270  2015/01/04        7300.0  264.720001\n",
       "271  2015/01/05       23092.0  274.839996"
      ]
     },
     "execution_count": 35,
     "metadata": {},
     "output_type": "execute_result"
    }
   ],
   "source": [
    "filtered_t_volume.head()"
   ]
  },
  {
   "cell_type": "code",
   "execution_count": 36,
   "id": "91adcb85",
   "metadata": {},
   "outputs": [
    {
     "data": {
      "image/png": "[encoded data removed]",
      "text/plain": [
       "<Figure size 432x288 with 2 Axes>"
      ]
     },
     "metadata": {
      "needs_background": "light"
     },
     "output_type": "display_data"
    }
   ],
   "source": [
    "# Check correlation\n",
    "import seaborn as sns\n",
    "import matplotlib.pyplot as plt\n",
    "\n",
    "sns.heatmap(filtered_t_volume.corr(), annot=True)\n",
    "plt.show()"
   ]
  },
  {
   "cell_type": "markdown",
   "id": "f12890bf",
   "metadata": {},
   "source": [
    "As there is not high correlation, twitter volume can be considered. (Usually, features with a correlation value of greater than `0.95` are dropped)"
   ]
  },
  {
   "cell_type": "code",
   "execution_count": null,
   "id": "ed6fa953",
   "metadata": {},
   "outputs": [],
   "source": []
  }
 ],
 "metadata": {
  "kernelspec": {
   "display_name": "Python 3 (ipykernel)",
   "language": "python",
   "name": "python3"
  },
  "language_info": {
   "codemirror_mode": {
    "name": "ipython",
    "version": 3
   },
   "file_extension": ".py",
   "mimetype": "text/x-python",
   "name": "python",
   "nbconvert_exporter": "python",
   "pygments_lexer": "ipython3",
   "version": "3.7.4"
  }
 },
 "nbformat": 4,
 "nbformat_minor": 5
}
