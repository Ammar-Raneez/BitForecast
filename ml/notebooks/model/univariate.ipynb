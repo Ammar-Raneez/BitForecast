{
 "cells": [
  {
   "cell_type": "markdown",
   "id": "e9b0c815",
   "metadata": {},
   "source": [
    "### Univariate forecasting - horizons greater than 1\n",
    "\n",
    "Utilizes only the closing price to predict as there is no way to predict other feature's values in future as well. For multivariate to occur for horizons greater than 1, we need the values of those features at that time point too. Which is not the case."
   ]
  },
  {
   "cell_type": "code",
   "execution_count": 38,
   "id": "b415223d",
   "metadata": {},
   "outputs": [],
   "source": [
    "import numpy as np\n",
    "import pandas as pd\n",
    "import matplotlib.pyplot as plt\n",
    "\n",
    "import tensorflow as tf\n",
    "\n",
    "import datetime\n",
    "import os\n",
    "\n",
    "from lts import LTSCell\n",
    "from ltc import LTCCell"
   ]
  },
  {
   "cell_type": "code",
   "execution_count": 2,
   "id": "231aeb17",
   "metadata": {},
   "outputs": [],
   "source": [
    "BTC_PRICES_DATA = 'D:/Uni/FYP/GitHub/BitForecast/ml/data/BTC_Prices.csv'\n",
    "data = pd.read_csv(BTC_PRICES_DATA)"
   ]
  },
  {
   "cell_type": "code",
   "execution_count": 3,
   "id": "5c1bd49f",
   "metadata": {},
   "outputs": [
    {
     "data": {
      "text/html": [
       "<div>\n",
       "<style scoped>\n",
       "    .dataframe tbody tr th:only-of-type {\n",
       "        vertical-align: middle;\n",
       "    }\n",
       "\n",
       "    .dataframe tbody tr th {\n",
       "        vertical-align: top;\n",
       "    }\n",
       "\n",
       "    .dataframe thead th {\n",
       "        text-align: right;\n",
       "    }\n",
       "</style>\n",
       "<table border=\"1\" class=\"dataframe\">\n",
       "  <thead>\n",
       "    <tr style=\"text-align: right;\">\n",
       "      <th></th>\n",
       "      <th>date</th>\n",
       "      <th>volume</th>\n",
       "      <th>close</th>\n",
       "      <th>open</th>\n",
       "      <th>max</th>\n",
       "      <th>min</th>\n",
       "      <th>change_percent</th>\n",
       "    </tr>\n",
       "  </thead>\n",
       "  <tbody>\n",
       "    <tr>\n",
       "      <th>0</th>\n",
       "      <td>2014-01-01</td>\n",
       "      <td>10757</td>\n",
       "      <td>815.940002</td>\n",
       "      <td>805.940002</td>\n",
       "      <td>829.929993</td>\n",
       "      <td>770.969971</td>\n",
       "      <td>1.240787</td>\n",
       "    </tr>\n",
       "    <tr>\n",
       "      <th>1</th>\n",
       "      <td>2014-01-02</td>\n",
       "      <td>12812</td>\n",
       "      <td>856.909973</td>\n",
       "      <td>815.940002</td>\n",
       "      <td>886.210022</td>\n",
       "      <td>810.469971</td>\n",
       "      <td>5.021199</td>\n",
       "    </tr>\n",
       "    <tr>\n",
       "      <th>2</th>\n",
       "      <td>2014-01-03</td>\n",
       "      <td>9709</td>\n",
       "      <td>884.260010</td>\n",
       "      <td>856.909973</td>\n",
       "      <td>888.229980</td>\n",
       "      <td>839.440002</td>\n",
       "      <td>3.191705</td>\n",
       "    </tr>\n",
       "    <tr>\n",
       "      <th>3</th>\n",
       "      <td>2014-01-04</td>\n",
       "      <td>14239</td>\n",
       "      <td>924.690002</td>\n",
       "      <td>884.260010</td>\n",
       "      <td>932.159973</td>\n",
       "      <td>848.320007</td>\n",
       "      <td>4.572184</td>\n",
       "    </tr>\n",
       "    <tr>\n",
       "      <th>4</th>\n",
       "      <td>2014-01-05</td>\n",
       "      <td>21374</td>\n",
       "      <td>1014.739990</td>\n",
       "      <td>924.690002</td>\n",
       "      <td>1029.859985</td>\n",
       "      <td>911.359985</td>\n",
       "      <td>9.738397</td>\n",
       "    </tr>\n",
       "  </tbody>\n",
       "</table>\n",
       "</div>"
      ],
      "text/plain": [
       "         date  volume        close        open          max         min  \\\n",
       "0  2014-01-01   10757   815.940002  805.940002   829.929993  770.969971   \n",
       "1  2014-01-02   12812   856.909973  815.940002   886.210022  810.469971   \n",
       "2  2014-01-03    9709   884.260010  856.909973   888.229980  839.440002   \n",
       "3  2014-01-04   14239   924.690002  884.260010   932.159973  848.320007   \n",
       "4  2014-01-05   21374  1014.739990  924.690002  1029.859985  911.359985   \n",
       "\n",
       "   change_percent  \n",
       "0        1.240787  \n",
       "1        5.021199  \n",
       "2        3.191705  \n",
       "3        4.572184  \n",
       "4        9.738397  "
      ]
     },
     "execution_count": 3,
     "metadata": {},
     "output_type": "execute_result"
    }
   ],
   "source": [
    "data.head()"
   ]
  },
  {
   "cell_type": "code",
   "execution_count": 4,
   "id": "2670c361",
   "metadata": {},
   "outputs": [
    {
     "data": {
      "text/html": [
       "<div>\n",
       "<style scoped>\n",
       "    .dataframe tbody tr th:only-of-type {\n",
       "        vertical-align: middle;\n",
       "    }\n",
       "\n",
       "    .dataframe tbody tr th {\n",
       "        vertical-align: top;\n",
       "    }\n",
       "\n",
       "    .dataframe thead th {\n",
       "        text-align: right;\n",
       "    }\n",
       "</style>\n",
       "<table border=\"1\" class=\"dataframe\">\n",
       "  <thead>\n",
       "    <tr style=\"text-align: right;\">\n",
       "      <th></th>\n",
       "      <th>date</th>\n",
       "      <th>close</th>\n",
       "    </tr>\n",
       "  </thead>\n",
       "  <tbody>\n",
       "    <tr>\n",
       "      <th>0</th>\n",
       "      <td>2014-01-01</td>\n",
       "      <td>815.940002</td>\n",
       "    </tr>\n",
       "    <tr>\n",
       "      <th>1</th>\n",
       "      <td>2014-01-02</td>\n",
       "      <td>856.909973</td>\n",
       "    </tr>\n",
       "    <tr>\n",
       "      <th>2</th>\n",
       "      <td>2014-01-03</td>\n",
       "      <td>884.260010</td>\n",
       "    </tr>\n",
       "    <tr>\n",
       "      <th>3</th>\n",
       "      <td>2014-01-04</td>\n",
       "      <td>924.690002</td>\n",
       "    </tr>\n",
       "    <tr>\n",
       "      <th>4</th>\n",
       "      <td>2014-01-05</td>\n",
       "      <td>1014.739990</td>\n",
       "    </tr>\n",
       "  </tbody>\n",
       "</table>\n",
       "</div>"
      ],
      "text/plain": [
       "         date        close\n",
       "0  2014-01-01   815.940002\n",
       "1  2014-01-02   856.909973\n",
       "2  2014-01-03   884.260010\n",
       "3  2014-01-04   924.690002\n",
       "4  2014-01-05  1014.739990"
      ]
     },
     "execution_count": 4,
     "metadata": {},
     "output_type": "execute_result"
    }
   ],
   "source": [
    "data.drop(['volume', 'open', 'max', 'min', 'change_percent'], axis=1, inplace=True)\n",
    "data.head()"
   ]
  },
  {
   "cell_type": "markdown",
   "id": "42838aa0",
   "metadata": {},
   "source": [
    "### Format data"
   ]
  },
  {
   "cell_type": "code",
   "execution_count": 5,
   "id": "f62521a8",
   "metadata": {},
   "outputs": [],
   "source": [
    "# Convert date object to datetime\n",
    "data['date'] = pd.to_datetime(data['date'])"
   ]
  },
  {
   "cell_type": "code",
   "execution_count": 6,
   "id": "f39197ad",
   "metadata": {},
   "outputs": [],
   "source": [
    "data.set_index('date', inplace=True)"
   ]
  },
  {
   "cell_type": "code",
   "execution_count": 7,
   "id": "7a5b463b",
   "metadata": {},
   "outputs": [],
   "source": [
    "btc_prices = pd.DataFrame(data['close']).rename(columns={ 'close': 'Price' })"
   ]
  },
  {
   "cell_type": "code",
   "execution_count": 8,
   "id": "174e3b00",
   "metadata": {},
   "outputs": [
    {
     "data": {
      "text/html": [
       "<div>\n",
       "<style scoped>\n",
       "    .dataframe tbody tr th:only-of-type {\n",
       "        vertical-align: middle;\n",
       "    }\n",
       "\n",
       "    .dataframe tbody tr th {\n",
       "        vertical-align: top;\n",
       "    }\n",
       "\n",
       "    .dataframe thead th {\n",
       "        text-align: right;\n",
       "    }\n",
       "</style>\n",
       "<table border=\"1\" class=\"dataframe\">\n",
       "  <thead>\n",
       "    <tr style=\"text-align: right;\">\n",
       "      <th></th>\n",
       "      <th>Price</th>\n",
       "    </tr>\n",
       "    <tr>\n",
       "      <th>date</th>\n",
       "      <th></th>\n",
       "    </tr>\n",
       "  </thead>\n",
       "  <tbody>\n",
       "    <tr>\n",
       "      <th>2014-01-01</th>\n",
       "      <td>815.940002</td>\n",
       "    </tr>\n",
       "    <tr>\n",
       "      <th>2014-01-02</th>\n",
       "      <td>856.909973</td>\n",
       "    </tr>\n",
       "    <tr>\n",
       "      <th>2014-01-03</th>\n",
       "      <td>884.260010</td>\n",
       "    </tr>\n",
       "    <tr>\n",
       "      <th>2014-01-04</th>\n",
       "      <td>924.690002</td>\n",
       "    </tr>\n",
       "    <tr>\n",
       "      <th>2014-01-05</th>\n",
       "      <td>1014.739990</td>\n",
       "    </tr>\n",
       "  </tbody>\n",
       "</table>\n",
       "</div>"
      ],
      "text/plain": [
       "                  Price\n",
       "date                   \n",
       "2014-01-01   815.940002\n",
       "2014-01-02   856.909973\n",
       "2014-01-03   884.260010\n",
       "2014-01-04   924.690002\n",
       "2014-01-05  1014.739990"
      ]
     },
     "execution_count": 8,
     "metadata": {},
     "output_type": "execute_result"
    }
   ],
   "source": [
    "btc_prices.head()"
   ]
  },
  {
   "cell_type": "markdown",
   "id": "ed0955a5",
   "metadata": {},
   "source": [
    "Filteration of dates till only 2015 above is not required since only this dataset is being used"
   ]
  },
  {
   "cell_type": "code",
   "execution_count": 9,
   "id": "c2636dfe",
   "metadata": {},
   "outputs": [
    {
     "data": {
      "text/html": [
       "<div>\n",
       "<style scoped>\n",
       "    .dataframe tbody tr th:only-of-type {\n",
       "        vertical-align: middle;\n",
       "    }\n",
       "\n",
       "    .dataframe tbody tr th {\n",
       "        vertical-align: top;\n",
       "    }\n",
       "\n",
       "    .dataframe thead th {\n",
       "        text-align: right;\n",
       "    }\n",
       "</style>\n",
       "<table border=\"1\" class=\"dataframe\">\n",
       "  <thead>\n",
       "    <tr style=\"text-align: right;\">\n",
       "      <th></th>\n",
       "      <th>Price</th>\n",
       "    </tr>\n",
       "    <tr>\n",
       "      <th>date</th>\n",
       "      <th></th>\n",
       "    </tr>\n",
       "  </thead>\n",
       "  <tbody>\n",
       "    <tr>\n",
       "      <th>2014-01-01</th>\n",
       "      <td>815.940002</td>\n",
       "    </tr>\n",
       "    <tr>\n",
       "      <th>2014-01-02</th>\n",
       "      <td>856.909973</td>\n",
       "    </tr>\n",
       "    <tr>\n",
       "      <th>2014-01-03</th>\n",
       "      <td>884.260010</td>\n",
       "    </tr>\n",
       "    <tr>\n",
       "      <th>2014-01-04</th>\n",
       "      <td>924.690002</td>\n",
       "    </tr>\n",
       "    <tr>\n",
       "      <th>2014-01-05</th>\n",
       "      <td>1014.739990</td>\n",
       "    </tr>\n",
       "  </tbody>\n",
       "</table>\n",
       "</div>"
      ],
      "text/plain": [
       "                  Price\n",
       "date                   \n",
       "2014-01-01   815.940002\n",
       "2014-01-02   856.909973\n",
       "2014-01-03   884.260010\n",
       "2014-01-04   924.690002\n",
       "2014-01-05  1014.739990"
      ]
     },
     "execution_count": 9,
     "metadata": {},
     "output_type": "execute_result"
    }
   ],
   "source": [
    "# Sort ascending order of prices\n",
    "btc_prices.sort_values('date', inplace=True)\n",
    "btc_prices.head()"
   ]
  },
  {
   "cell_type": "markdown",
   "id": "b94352b3",
   "metadata": {},
   "source": [
    "### Visualize data"
   ]
  },
  {
   "cell_type": "code",
   "execution_count": 11,
   "id": "fd35bac8",
   "metadata": {},
   "outputs": [],
   "source": [
    "timesteps = btc_prices.index.to_numpy()\n",
    "prices = btc_prices['Price'].to_numpy()"
   ]
  },
  {
   "cell_type": "code",
   "execution_count": 12,
   "id": "c43d887a",
   "metadata": {},
   "outputs": [
    {
     "data": {
      "text/plain": [
       "((2648,), (663,), (2648,), (663,))"
      ]
     },
     "execution_count": 12,
     "metadata": {},
     "output_type": "execute_result"
    }
   ],
   "source": [
    "# Create sequential splits at a specified point (80% train, 20% test)\n",
    "split_size = int(.8 * len(prices))\n",
    "\n",
    "X_viz, y_viz = timesteps[:split_size], prices[:split_size]\n",
    "X_viz_, y_viz_ = timesteps[split_size:], prices[split_size:]\n",
    "\n",
    "X_viz.shape, X_viz_.shape, y_viz.shape, X_viz_.shape"
   ]
  },
  {
   "cell_type": "code",
   "execution_count": 13,
   "id": "40611733",
   "metadata": {
    "scrolled": false
   },
   "outputs": [
    {
     "data": {
      "image/png": "[encoded data removed]",
      "text/plain": [
       "<Figure size 720x504 with 1 Axes>"
      ]
     },
     "metadata": {
      "needs_background": "light"
     },
     "output_type": "display_data"
    }
   ],
   "source": [
    "# Visualize closing prices\n",
    "btc_prices.plot(figsize=(10, 7))\n",
    "plt.ylabel('BTC Price')\n",
    "plt.title('Price of Bitcoin from 2014 to now', fontsize=16)\n",
    "plt.legend(fontsize=14);"
   ]
  },
  {
   "cell_type": "code",
   "execution_count": 15,
   "id": "670fbf22",
   "metadata": {},
   "outputs": [],
   "source": [
    "# Create a helper plotting function\n",
    "def plot_time_series(\n",
    "    timesteps,\n",
    "    prices,\n",
    "    format='.',\n",
    "    start=0,\n",
    "    end=None,\n",
    "    label=None\n",
    "):\n",
    "    plt.plot(timesteps[start:end], prices[start:end], format, label=label)\n",
    "    plt.xlabel('Date')\n",
    "    plt.ylabel('Price')\n",
    "    if label:\n",
    "        plt.legend(fontsize=14)\n",
    "\n",
    "    # Display a grid for easier measurement readings\n",
    "    plt.grid(True)"
   ]
  },
  {
   "cell_type": "code",
   "execution_count": 16,
   "id": "cc0931ab",
   "metadata": {},
   "outputs": [
    {
     "data": {
      "image/png": "[encoded data removed]",
      "text/plain": [
       "<Figure size 432x288 with 1 Axes>"
      ]
     },
     "metadata": {
      "needs_background": "light"
     },
     "output_type": "display_data"
    }
   ],
   "source": [
    "plot_time_series(X_viz, y_viz, label='Training data')\n",
    "plot_time_series(X_viz_, y_viz_, label='Test data')"
   ]
  },
  {
   "cell_type": "markdown",
   "id": "9b0a42e9",
   "metadata": {},
   "source": [
    "### Create windowed datasets"
   ]
  },
  {
   "cell_type": "code",
   "execution_count": 17,
   "id": "db2f8daf",
   "metadata": {},
   "outputs": [],
   "source": [
    "'''\n",
    "Upon experimentation conducted in the\n",
    "https://github.com/Ammar-Raneez/FYP_Algorithm/blob/main/experiments/experiments.ipynb\n",
    "The below were the optimal window and horizon values\n",
    "'''\n",
    "\n",
    "HORIZON = 1\n",
    "WINDOW_SIZE = 7"
   ]
  },
  {
   "cell_type": "code",
   "execution_count": 18,
   "id": "1b531611",
   "metadata": {},
   "outputs": [],
   "source": [
    "btc_prices_windowed = btc_prices.copy()"
   ]
  },
  {
   "cell_type": "code",
   "execution_count": 19,
   "id": "dfe99dea",
   "metadata": {},
   "outputs": [
    {
     "data": {
      "text/html": [
       "<div>\n",
       "<style scoped>\n",
       "    .dataframe tbody tr th:only-of-type {\n",
       "        vertical-align: middle;\n",
       "    }\n",
       "\n",
       "    .dataframe tbody tr th {\n",
       "        vertical-align: top;\n",
       "    }\n",
       "\n",
       "    .dataframe thead th {\n",
       "        text-align: right;\n",
       "    }\n",
       "</style>\n",
       "<table border=\"1\" class=\"dataframe\">\n",
       "  <thead>\n",
       "    <tr style=\"text-align: right;\">\n",
       "      <th></th>\n",
       "      <th>Price</th>\n",
       "      <th>Price+1</th>\n",
       "      <th>Price+2</th>\n",
       "      <th>Price+3</th>\n",
       "      <th>Price+4</th>\n",
       "      <th>Price+5</th>\n",
       "      <th>Price+6</th>\n",
       "      <th>Price+7</th>\n",
       "    </tr>\n",
       "    <tr>\n",
       "      <th>date</th>\n",
       "      <th></th>\n",
       "      <th></th>\n",
       "      <th></th>\n",
       "      <th></th>\n",
       "      <th></th>\n",
       "      <th></th>\n",
       "      <th></th>\n",
       "      <th></th>\n",
       "    </tr>\n",
       "  </thead>\n",
       "  <tbody>\n",
       "    <tr>\n",
       "      <th>2014-01-01</th>\n",
       "      <td>815.940002</td>\n",
       "      <td>NaN</td>\n",
       "      <td>NaN</td>\n",
       "      <td>NaN</td>\n",
       "      <td>NaN</td>\n",
       "      <td>NaN</td>\n",
       "      <td>NaN</td>\n",
       "      <td>NaN</td>\n",
       "    </tr>\n",
       "    <tr>\n",
       "      <th>2014-01-02</th>\n",
       "      <td>856.909973</td>\n",
       "      <td>815.940002</td>\n",
       "      <td>NaN</td>\n",
       "      <td>NaN</td>\n",
       "      <td>NaN</td>\n",
       "      <td>NaN</td>\n",
       "      <td>NaN</td>\n",
       "      <td>NaN</td>\n",
       "    </tr>\n",
       "    <tr>\n",
       "      <th>2014-01-03</th>\n",
       "      <td>884.260010</td>\n",
       "      <td>856.909973</td>\n",
       "      <td>815.940002</td>\n",
       "      <td>NaN</td>\n",
       "      <td>NaN</td>\n",
       "      <td>NaN</td>\n",
       "      <td>NaN</td>\n",
       "      <td>NaN</td>\n",
       "    </tr>\n",
       "    <tr>\n",
       "      <th>2014-01-04</th>\n",
       "      <td>924.690002</td>\n",
       "      <td>884.260010</td>\n",
       "      <td>856.909973</td>\n",
       "      <td>815.940002</td>\n",
       "      <td>NaN</td>\n",
       "      <td>NaN</td>\n",
       "      <td>NaN</td>\n",
       "      <td>NaN</td>\n",
       "    </tr>\n",
       "    <tr>\n",
       "      <th>2014-01-05</th>\n",
       "      <td>1014.739990</td>\n",
       "      <td>924.690002</td>\n",
       "      <td>884.260010</td>\n",
       "      <td>856.909973</td>\n",
       "      <td>815.940002</td>\n",
       "      <td>NaN</td>\n",
       "      <td>NaN</td>\n",
       "      <td>NaN</td>\n",
       "    </tr>\n",
       "    <tr>\n",
       "      <th>2014-01-06</th>\n",
       "      <td>1012.650024</td>\n",
       "      <td>1014.739990</td>\n",
       "      <td>924.690002</td>\n",
       "      <td>884.260010</td>\n",
       "      <td>856.909973</td>\n",
       "      <td>815.940002</td>\n",
       "      <td>NaN</td>\n",
       "      <td>NaN</td>\n",
       "    </tr>\n",
       "    <tr>\n",
       "      <th>2014-01-07</th>\n",
       "      <td>879.900024</td>\n",
       "      <td>1012.650024</td>\n",
       "      <td>1014.739990</td>\n",
       "      <td>924.690002</td>\n",
       "      <td>884.260010</td>\n",
       "      <td>856.909973</td>\n",
       "      <td>815.940002</td>\n",
       "      <td>NaN</td>\n",
       "    </tr>\n",
       "    <tr>\n",
       "      <th>2014-01-08</th>\n",
       "      <td>938.840027</td>\n",
       "      <td>879.900024</td>\n",
       "      <td>1012.650024</td>\n",
       "      <td>1014.739990</td>\n",
       "      <td>924.690002</td>\n",
       "      <td>884.260010</td>\n",
       "      <td>856.909973</td>\n",
       "      <td>815.940002</td>\n",
       "    </tr>\n",
       "    <tr>\n",
       "      <th>2014-01-09</th>\n",
       "      <td>936.950012</td>\n",
       "      <td>938.840027</td>\n",
       "      <td>879.900024</td>\n",
       "      <td>1012.650024</td>\n",
       "      <td>1014.739990</td>\n",
       "      <td>924.690002</td>\n",
       "      <td>884.260010</td>\n",
       "      <td>856.909973</td>\n",
       "    </tr>\n",
       "    <tr>\n",
       "      <th>2014-01-10</th>\n",
       "      <td>957.760010</td>\n",
       "      <td>936.950012</td>\n",
       "      <td>938.840027</td>\n",
       "      <td>879.900024</td>\n",
       "      <td>1012.650024</td>\n",
       "      <td>1014.739990</td>\n",
       "      <td>924.690002</td>\n",
       "      <td>884.260010</td>\n",
       "    </tr>\n",
       "  </tbody>\n",
       "</table>\n",
       "</div>"
      ],
      "text/plain": [
       "                  Price      Price+1      Price+2      Price+3      Price+4  \\\n",
       "date                                                                          \n",
       "2014-01-01   815.940002          NaN          NaN          NaN          NaN   \n",
       "2014-01-02   856.909973   815.940002          NaN          NaN          NaN   \n",
       "2014-01-03   884.260010   856.909973   815.940002          NaN          NaN   \n",
       "2014-01-04   924.690002   884.260010   856.909973   815.940002          NaN   \n",
       "2014-01-05  1014.739990   924.690002   884.260010   856.909973   815.940002   \n",
       "2014-01-06  1012.650024  1014.739990   924.690002   884.260010   856.909973   \n",
       "2014-01-07   879.900024  1012.650024  1014.739990   924.690002   884.260010   \n",
       "2014-01-08   938.840027   879.900024  1012.650024  1014.739990   924.690002   \n",
       "2014-01-09   936.950012   938.840027   879.900024  1012.650024  1014.739990   \n",
       "2014-01-10   957.760010   936.950012   938.840027   879.900024  1012.650024   \n",
       "\n",
       "                Price+5     Price+6     Price+7  \n",
       "date                                             \n",
       "2014-01-01          NaN         NaN         NaN  \n",
       "2014-01-02          NaN         NaN         NaN  \n",
       "2014-01-03          NaN         NaN         NaN  \n",
       "2014-01-04          NaN         NaN         NaN  \n",
       "2014-01-05          NaN         NaN         NaN  \n",
       "2014-01-06   815.940002         NaN         NaN  \n",
       "2014-01-07   856.909973  815.940002         NaN  \n",
       "2014-01-08   884.260010  856.909973  815.940002  \n",
       "2014-01-09   924.690002  884.260010  856.909973  \n",
       "2014-01-10  1014.739990  924.690002  884.260010  "
      ]
     },
     "execution_count": 19,
     "metadata": {},
     "output_type": "execute_result"
    }
   ],
   "source": [
    "for i in range(WINDOW_SIZE):\n",
    "    btc_prices_windowed[f'Price+{i+1}'] = btc_prices_windowed['Price'].shift(periods=i+1)\n",
    "\n",
    "btc_prices_windowed.head(10)"
   ]
  },
  {
   "cell_type": "code",
   "execution_count": 20,
   "id": "6d547e2f",
   "metadata": {},
   "outputs": [],
   "source": [
    "# Create X (windows) and y (horizon)\n",
    "X = btc_prices_windowed.dropna().drop('Price', axis=1).astype(np.float32)\n",
    "y = btc_prices_windowed.dropna()['Price'].astype(np.float32)"
   ]
  },
  {
   "cell_type": "code",
   "execution_count": 21,
   "id": "a064ba70",
   "metadata": {},
   "outputs": [
    {
     "data": {
      "text/html": [
       "<div>\n",
       "<style scoped>\n",
       "    .dataframe tbody tr th:only-of-type {\n",
       "        vertical-align: middle;\n",
       "    }\n",
       "\n",
       "    .dataframe tbody tr th {\n",
       "        vertical-align: top;\n",
       "    }\n",
       "\n",
       "    .dataframe thead th {\n",
       "        text-align: right;\n",
       "    }\n",
       "</style>\n",
       "<table border=\"1\" class=\"dataframe\">\n",
       "  <thead>\n",
       "    <tr style=\"text-align: right;\">\n",
       "      <th></th>\n",
       "      <th>Price+1</th>\n",
       "      <th>Price+2</th>\n",
       "      <th>Price+3</th>\n",
       "      <th>Price+4</th>\n",
       "      <th>Price+5</th>\n",
       "      <th>Price+6</th>\n",
       "      <th>Price+7</th>\n",
       "    </tr>\n",
       "    <tr>\n",
       "      <th>date</th>\n",
       "      <th></th>\n",
       "      <th></th>\n",
       "      <th></th>\n",
       "      <th></th>\n",
       "      <th></th>\n",
       "      <th></th>\n",
       "      <th></th>\n",
       "    </tr>\n",
       "  </thead>\n",
       "  <tbody>\n",
       "    <tr>\n",
       "      <th>2014-01-08</th>\n",
       "      <td>879.900024</td>\n",
       "      <td>1012.650024</td>\n",
       "      <td>1014.739990</td>\n",
       "      <td>924.690002</td>\n",
       "      <td>884.260010</td>\n",
       "      <td>856.909973</td>\n",
       "      <td>815.940002</td>\n",
       "    </tr>\n",
       "    <tr>\n",
       "      <th>2014-01-09</th>\n",
       "      <td>938.840027</td>\n",
       "      <td>879.900024</td>\n",
       "      <td>1012.650024</td>\n",
       "      <td>1014.739990</td>\n",
       "      <td>924.690002</td>\n",
       "      <td>884.260010</td>\n",
       "      <td>856.909973</td>\n",
       "    </tr>\n",
       "    <tr>\n",
       "      <th>2014-01-10</th>\n",
       "      <td>936.950012</td>\n",
       "      <td>938.840027</td>\n",
       "      <td>879.900024</td>\n",
       "      <td>1012.650024</td>\n",
       "      <td>1014.739990</td>\n",
       "      <td>924.690002</td>\n",
       "      <td>884.260010</td>\n",
       "    </tr>\n",
       "    <tr>\n",
       "      <th>2014-01-11</th>\n",
       "      <td>957.760010</td>\n",
       "      <td>936.950012</td>\n",
       "      <td>938.840027</td>\n",
       "      <td>879.900024</td>\n",
       "      <td>1012.650024</td>\n",
       "      <td>1014.739990</td>\n",
       "      <td>924.690002</td>\n",
       "    </tr>\n",
       "    <tr>\n",
       "      <th>2014-01-12</th>\n",
       "      <td>1005.320007</td>\n",
       "      <td>957.760010</td>\n",
       "      <td>936.950012</td>\n",
       "      <td>938.840027</td>\n",
       "      <td>879.900024</td>\n",
       "      <td>1012.650024</td>\n",
       "      <td>1014.739990</td>\n",
       "    </tr>\n",
       "  </tbody>\n",
       "</table>\n",
       "</div>"
      ],
      "text/plain": [
       "                Price+1      Price+2      Price+3      Price+4      Price+5  \\\n",
       "date                                                                          \n",
       "2014-01-08   879.900024  1012.650024  1014.739990   924.690002   884.260010   \n",
       "2014-01-09   938.840027   879.900024  1012.650024  1014.739990   924.690002   \n",
       "2014-01-10   936.950012   938.840027   879.900024  1012.650024  1014.739990   \n",
       "2014-01-11   957.760010   936.950012   938.840027   879.900024  1012.650024   \n",
       "2014-01-12  1005.320007   957.760010   936.950012   938.840027   879.900024   \n",
       "\n",
       "                Price+6      Price+7  \n",
       "date                                  \n",
       "2014-01-08   856.909973   815.940002  \n",
       "2014-01-09   884.260010   856.909973  \n",
       "2014-01-10   924.690002   884.260010  \n",
       "2014-01-11  1014.739990   924.690002  \n",
       "2014-01-12  1012.650024  1014.739990  "
      ]
     },
     "execution_count": 21,
     "metadata": {},
     "output_type": "execute_result"
    }
   ],
   "source": [
    "X.head()"
   ]
  },
  {
   "cell_type": "code",
   "execution_count": 22,
   "id": "8054dc42",
   "metadata": {},
   "outputs": [
    {
     "data": {
      "text/plain": [
       "date\n",
       "2014-01-08     938.840027\n",
       "2014-01-09     936.950012\n",
       "2014-01-10     957.760010\n",
       "2014-01-11    1005.320007\n",
       "2014-01-12     939.789978\n",
       "Name: Price, dtype: float32"
      ]
     },
     "execution_count": 22,
     "metadata": {},
     "output_type": "execute_result"
    }
   ],
   "source": [
    "y.head()"
   ]
  },
  {
   "cell_type": "code",
   "execution_count": 23,
   "id": "a98b44d2",
   "metadata": {},
   "outputs": [
    {
     "data": {
      "text/plain": [
       "(2643, 2643, 661, 661)"
      ]
     },
     "execution_count": 23,
     "metadata": {},
     "output_type": "execute_result"
    }
   ],
   "source": [
    "split_size = int(len(X) * .8)\n",
    "\n",
    "X_train, y_train = X[:split_size], y[:split_size]\n",
    "X_test, y_test = X[split_size:], y[split_size:]\n",
    "len(X_train), len(y_train), len(X_test), len(y_test)"
   ]
  },
  {
   "cell_type": "markdown",
   "id": "18c790e8",
   "metadata": {},
   "source": [
    "### Create performant tensorflow datasets\n",
    "\n",
    "`tf.data` API creates more optimized datasets that can make the model run faster"
   ]
  },
  {
   "cell_type": "code",
   "execution_count": 24,
   "id": "b58ec4f8",
   "metadata": {},
   "outputs": [
    {
     "data": {
      "text/plain": [
       "(<PrefetchDataset element_spec=(TensorSpec(shape=(None, 7), dtype=tf.float32, name=None), TensorSpec(shape=(None,), dtype=tf.float32, name=None))>,\n",
       " <PrefetchDataset element_spec=(TensorSpec(shape=(None, 7), dtype=tf.float32, name=None), TensorSpec(shape=(None,), dtype=tf.float32, name=None))>)"
      ]
     },
     "execution_count": 24,
     "metadata": {},
     "output_type": "execute_result"
    }
   ],
   "source": [
    "# create tensorflow Datasets\n",
    "train_features_dataset = tf.data.Dataset.from_tensor_slices(X_train)\n",
    "train_labels_dataset = tf.data.Dataset.from_tensor_slices(y_train)\n",
    "\n",
    "test_features_dataset = tf.data.Dataset.from_tensor_slices(X_test)\n",
    "test_labels_dataset = tf.data.Dataset.from_tensor_slices(y_test)\n",
    "\n",
    "# Combine features and labels\n",
    "train_dataset = tf.data.Dataset.zip((train_features_dataset, train_labels_dataset))\n",
    "test_dataset = tf.data.Dataset.zip((test_features_dataset, test_labels_dataset))\n",
    "\n",
    "# batch and prefetch for optimal performance\n",
    "BATCH_SIZE = 1024\n",
    "train_dataset = train_dataset.batch(BATCH_SIZE).prefetch(tf.data.AUTOTUNE)\n",
    "test_dataset = test_dataset.batch(BATCH_SIZE).prefetch(tf.data.AUTOTUNE)\n",
    "\n",
    "train_dataset, test_dataset"
   ]
  },
  {
   "cell_type": "code",
   "execution_count": null,
   "id": "a4dfbd2e",
   "metadata": {},
   "outputs": [],
   "source": []
  }
 ],
 "metadata": {
  "kernelspec": {
   "display_name": "Python 3 (ipykernel)",
   "language": "python",
   "name": "python3"
  },
  "language_info": {
   "codemirror_mode": {
    "name": "ipython",
    "version": 3
   },
   "file_extension": ".py",
   "mimetype": "text/x-python",
   "name": "python",
   "nbconvert_exporter": "python",
   "pygments_lexer": "ipython3",
   "version": "3.7.4"
  }
 },
 "nbformat": 4,
 "nbformat_minor": 5
}
