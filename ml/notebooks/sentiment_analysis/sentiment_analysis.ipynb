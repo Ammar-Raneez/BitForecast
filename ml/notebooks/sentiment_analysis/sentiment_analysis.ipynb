{
 "cells": [
  {
   "cell_type": "code",
   "execution_count": 1,
   "metadata": {
    "execution": {
     "iopub.execute_input": "2022-12-07T09:25:24.789838Z",
     "iopub.status.busy": "2022-12-07T09:25:24.789340Z",
     "iopub.status.idle": "2022-12-07T09:25:40.081121Z",
     "shell.execute_reply": "2022-12-07T09:25:40.079523Z",
     "shell.execute_reply.started": "2022-12-07T09:25:24.789734Z"
    }
   },
   "outputs": [
    {
     "name": "stdout",
     "output_type": "stream",
     "text": [
      "Collecting vaderSentiment\n",
      "  Downloading vaderSentiment-3.3.2-py2.py3-none-any.whl (125 kB)\n",
      "\u001b[2K     \u001b[90m━━━━━━━━━━━━━━━━━━━━━━━━━━━━━━━━━━━━━\u001b[0m \u001b[32m126.0/126.0 kB\u001b[0m \u001b[31m311.0 kB/s\u001b[0m eta \u001b[36m0:00:00\u001b[0m00:01\u001b[0m00:01\u001b[0m\n",
      "\u001b[?25hRequirement already satisfied: requests in /opt/conda/lib/python3.7/site-packages (from vaderSentiment) (2.28.1)\n",
      "Requirement already satisfied: urllib3<1.27,>=1.21.1 in /opt/conda/lib/python3.7/site-packages (from requests->vaderSentiment) (1.26.12)\n",
      "Requirement already satisfied: certifi>=2017.4.17 in /opt/conda/lib/python3.7/site-packages (from requests->vaderSentiment) (2022.9.24)\n",
      "Requirement already satisfied: idna<4,>=2.5 in /opt/conda/lib/python3.7/site-packages (from requests->vaderSentiment) (3.3)\n",
      "Requirement already satisfied: charset-normalizer<3,>=2 in /opt/conda/lib/python3.7/site-packages (from requests->vaderSentiment) (2.1.0)\n",
      "Installing collected packages: vaderSentiment\n",
      "Successfully installed vaderSentiment-3.3.2\n",
      "\u001b[33mWARNING: Running pip as the 'root' user can result in broken permissions and conflicting behaviour with the system package manager. It is recommended to use a virtual environment instead: https://pip.pypa.io/warnings/venv\u001b[0m\u001b[33m\n",
      "\u001b[0mNote: you may need to restart the kernel to use updated packages.\n"
     ]
    }
   ],
   "source": [
    "pip install vaderSentiment"
   ]
  },
  {
   "cell_type": "markdown",
   "metadata": {},
   "source": [
    "### Sentiment Analysis for twitter tweets - VADER\n",
    "\n",
    "Going forward with VADER. Best not to perform lemmatization,stop word removal etc... since Hutto and Gilbert developed five generalisable heuristics about sentiment intensity which are powerful. These are:\n",
    "\n",
    "* Punctuation: This can increase the “magnitude of intensity” without modifying the underlying sentiment.\n",
    "* Capitalisation: This also magnifies sentiment with affecting the underlying mood of the text.\n",
    "* Degree modifiers: These can decrease/increase intensity such as saying “Yoda is an extremely good teacher” compared to “Yoda is a good teacher”\n",
    "* “But”: The use of “but” can signal a shift in polarity, e.g. “The clone wars are good but RoTJ is better”\n",
    "* Analysing tri-grams preceding a lexical feature: this allows VADER to identify shifts where the negation flips the polarity of the text."
   ]
  },
  {
   "cell_type": "code",
   "execution_count": 2,
   "metadata": {
    "_cell_guid": "b1076dfc-b9ad-4769-8c92-a6c4dae69d19",
    "_uuid": "8f2839f25d086af736a60e9eeb907d3b93b6e0e5",
    "execution": {
     "iopub.execute_input": "2022-12-07T09:25:40.084542Z",
     "iopub.status.busy": "2022-12-07T09:25:40.084001Z",
     "iopub.status.idle": "2022-12-07T09:25:40.103389Z",
     "shell.execute_reply": "2022-12-07T09:25:40.102146Z",
     "shell.execute_reply.started": "2022-12-07T09:25:40.084486Z"
    }
   },
   "outputs": [],
   "source": [
    "from vaderSentiment.vaderSentiment import SentimentIntensityAnalyzer\n",
    "import pandas as pd\n",
    "import numpy as np\n",
    "\n",
    "import os\n",
    "from tqdm import tqdm"
   ]
  },
  {
   "cell_type": "code",
   "execution_count": 15,
   "metadata": {
    "execution": {
     "iopub.execute_input": "2022-11-19T03:15:03.790397Z",
     "iopub.status.busy": "2022-11-19T03:15:03.789934Z",
     "iopub.status.idle": "2022-11-19T03:15:03.803238Z",
     "shell.execute_reply": "2022-11-19T03:15:03.802259Z",
     "shell.execute_reply.started": "2022-11-19T03:15:03.790359Z"
    }
   },
   "outputs": [
    {
     "data": {
      "text/plain": [
       "(['2021-01-01.csv',\n",
       "  '2021-01-02.csv',\n",
       "  '2021-01-03.csv',\n",
       "  '2021-01-04.csv',\n",
       "  '2021-01-05.csv',\n",
       "  '2021-01-06.csv',\n",
       "  '2021-01-07.csv',\n",
       "  '2021-01-08.csv',\n",
       "  '2021-01-09.csv',\n",
       "  '2021-01-10.csv'],\n",
       " 681)"
      ]
     },
     "execution_count": 15,
     "metadata": {},
     "output_type": "execute_result"
    }
   ],
   "source": [
    "filepath = '../input/tweets-complete/data'\n",
    "files = sorted(os.listdir(filepath))\n",
    "filtered_files = list(filter(lambda x: '2021' in x or '2022' in x, files))\n",
    "filtered_files[:10], len(filtered_files)"
   ]
  },
  {
   "cell_type": "code",
   "execution_count": 14,
   "metadata": {
    "execution": {
     "iopub.execute_input": "2022-11-19T03:14:57.361749Z",
     "iopub.status.busy": "2022-11-19T03:14:57.361281Z",
     "iopub.status.idle": "2022-11-19T03:15:01.593545Z",
     "shell.execute_reply": "2022-11-19T03:15:01.592268Z",
     "shell.execute_reply.started": "2022-11-19T03:14:57.361710Z"
    }
   },
   "outputs": [],
   "source": [
    "dfs = [pd.read_csv(f'{filepath}/{i}', engine='python') for i in filtered_files]"
   ]
  },
  {
   "cell_type": "code",
   "execution_count": 13,
   "metadata": {
    "execution": {
     "iopub.execute_input": "2022-11-30T06:37:58.675135Z",
     "iopub.status.busy": "2022-11-30T06:37:58.674148Z",
     "iopub.status.idle": "2022-11-30T06:37:58.679485Z",
     "shell.execute_reply": "2022-11-30T06:37:58.678498Z",
     "shell.execute_reply.started": "2022-11-30T06:37:58.675083Z"
    }
   },
   "outputs": [],
   "source": [
    "output_path = '/kaggle/working/outputs'\n",
    "os.mkdir(output_path)"
   ]
  },
  {
   "cell_type": "code",
   "execution_count": 27,
   "metadata": {
    "execution": {
     "iopub.execute_input": "2022-11-30T06:49:38.245549Z",
     "iopub.status.busy": "2022-11-30T06:49:38.245144Z",
     "iopub.status.idle": "2022-11-30T06:49:38.259161Z",
     "shell.execute_reply": "2022-11-30T06:49:38.257703Z",
     "shell.execute_reply.started": "2022-11-30T06:49:38.245516Z"
    }
   },
   "outputs": [],
   "source": [
    "# Remove username and link placeholders\n",
    "def preprocess(text):\n",
    "    new_text = []\n",
    "    for t in text.split(' '):\n",
    "        t = '@user' if t.startswith('@') and len(t) > 1 else t\n",
    "        t = 'http' if t.startswith('http') else t\n",
    "        new_text.append(t)\n",
    "    return ' '.join(new_text)\n",
    "\n",
    "def calculate_sentiment(sentence):\n",
    "    sid_obj = SentimentIntensityAnalyzer()\n",
    "    try:\n",
    "        sentiment_dict = sid_obj.polarity_scores(sentence)        \n",
    "        return sentiment_dict['neg'], sentiment_dict['neu'], sentiment_dict['pos'], sentiment_dict['compound']\n",
    "    except:\n",
    "        print(f'Something went wrong with this sentence: {sentence}')\n",
    "        return 'error', 'error', 'error', 'error'\n",
    "\n",
    "def analyze_sentiments():\n",
    "    for i, df in tqdm(enumerate(dfs)):\n",
    "        if df.iloc[0].get('timestamp'):\n",
    "            df_filename = str(df.iloc[0]['timestamp'])\n",
    "        else:\n",
    "            df_filename = str(df.iloc[0]['date'])\n",
    "\n",
    "        print(f'Currently at df: {i+1} | {df_filename}')\n",
    "        negative_scores = []\n",
    "        positive_scores = []\n",
    "        neutral_scores = []\n",
    "        compound_scores = []\n",
    "        \n",
    "        error = False\n",
    "        for j in range(df.shape[0]):\n",
    "            neg, neu, pos, compound = calculate_sentiment(preprocess(df.iloc[j]['text']))\n",
    "            if neg == 'error':\n",
    "                error=True\n",
    "                break\n",
    "\n",
    "            negative_scores.append(neg)\n",
    "            positive_scores.append(pos)\n",
    "            neutral_scores.append(neu)\n",
    "            compound_scores.append(compound)\n",
    "            \n",
    "        if error:\n",
    "            continue\n",
    "            \n",
    "        df['negative_score'] = negative_scores\n",
    "        df['positive_score'] = positive_scores\n",
    "        df['neutral_score'] = neutral_scores\n",
    "        df['compound_score'] = compound_scores\n",
    "        \n",
    "        df.to_csv(f'{output_path}/{df_filename}.csv')"
   ]
  },
  {
   "cell_type": "code",
   "execution_count": 21,
   "metadata": {
    "execution": {
     "iopub.execute_input": "2022-11-19T03:16:38.647254Z",
     "iopub.status.busy": "2022-11-19T03:16:38.646415Z",
     "iopub.status.idle": "2022-11-19T04:20:24.809976Z",
     "shell.execute_reply": "2022-11-19T04:20:24.808600Z",
     "shell.execute_reply.started": "2022-11-19T03:16:38.647212Z"
    }
   },
   "outputs": [
    {
     "name": "stderr",
     "output_type": "stream",
     "text": [
      "0it [00:00, ?it/s]"
     ]
    },
    {
     "name": "stdout",
     "output_type": "stream",
     "text": [
      "Currently at df: 1 | 2021-01-01\n"
     ]
    },
    {
     "name": "stderr",
     "output_type": "stream",
     "text": [
      "1it [00:05,  5.37s/it]"
     ]
    },
    {
     "name": "stdout",
     "output_type": "stream",
     "text": [
      "Currently at df: 2 | 2021-01-02\n"
     ]
    },
    {
     "name": "stderr",
     "output_type": "stream",
     "text": [
      "2it [00:10,  5.46s/it]"
     ]
    },
    {
     "name": "stdout",
     "output_type": "stream",
     "text": [
      "Currently at df: 3 | 2021-01-03\n"
     ]
    },
    {
     "name": "stderr",
     "output_type": "stream",
     "text": [
      "3it [00:16,  5.53s/it]"
     ]
    },
    {
     "name": "stdout",
     "output_type": "stream",
     "text": [
      "Currently at df: 4 | 2021-01-04\n"
     ]
    },
    {
     "name": "stderr",
     "output_type": "stream",
     "text": [
      "4it [00:22,  5.54s/it]"
     ]
    },
    {
     "name": "stdout",
     "output_type": "stream",
     "text": [
      "Currently at df: 5 | 2021-01-05\n"
     ]
    },
    {
     "name": "stderr",
     "output_type": "stream",
     "text": [
      "5it [00:27,  5.67s/it]"
     ]
    },
    {
     "name": "stdout",
     "output_type": "stream",
     "text": [
      "Currently at df: 6 | 2021-01-06\n"
     ]
    },
    {
     "name": "stderr",
     "output_type": "stream",
     "text": [
      "6it [00:33,  5.47s/it]"
     ]
    },
    {
     "name": "stdout",
     "output_type": "stream",
     "text": [
      "Currently at df: 7 | 2021-01-07\n"
     ]
    },
    {
     "name": "stderr",
     "output_type": "stream",
     "text": [
      "7it [00:38,  5.50s/it]"
     ]
    },
    {
     "name": "stdout",
     "output_type": "stream",
     "text": [
      "Currently at df: 8 | 2021-01-08\n"
     ]
    },
    {
     "name": "stderr",
     "output_type": "stream",
     "text": [
      "8it [00:44,  5.58s/it]"
     ]
    },
    {
     "name": "stdout",
     "output_type": "stream",
     "text": [
      "Currently at df: 9 | 2021-01-09\n"
     ]
    },
    {
     "name": "stderr",
     "output_type": "stream",
     "text": [
      "9it [00:50,  5.67s/it]"
     ]
    },
    {
     "name": "stdout",
     "output_type": "stream",
     "text": [
      "Currently at df: 10 | 2021-01-10\n"
     ]
    },
    {
     "name": "stderr",
     "output_type": "stream",
     "text": [
      "10it [00:55,  5.52s/it]"
     ]
    },
    {
     "name": "stdout",
     "output_type": "stream",
     "text": [
      "Currently at df: 11 | 2021-01-11\n"
     ]
    },
    {
     "name": "stderr",
     "output_type": "stream",
     "text": [
      "11it [01:00,  5.53s/it]"
     ]
    },
    {
     "name": "stdout",
     "output_type": "stream",
     "text": [
      "Currently at df: 12 | 2021-01-12\n"
     ]
    },
    {
     "name": "stderr",
     "output_type": "stream",
     "text": [
      "12it [01:06,  5.56s/it]"
     ]
    },
    {
     "name": "stdout",
     "output_type": "stream",
     "text": [
      "Currently at df: 13 | 2021-01-13\n"
     ]
    },
    {
     "name": "stderr",
     "output_type": "stream",
     "text": [
      "13it [01:11,  5.49s/it]"
     ]
    },
    {
     "name": "stdout",
     "output_type": "stream",
     "text": [
      "Currently at df: 14 | 2021-01-14\n"
     ]
    },
    {
     "name": "stderr",
     "output_type": "stream",
     "text": [
      "14it [01:17,  5.56s/it]"
     ]
    },
    {
     "name": "stdout",
     "output_type": "stream",
     "text": [
      "Currently at df: 15 | 2021-01-15\n"
     ]
    },
    {
     "name": "stderr",
     "output_type": "stream",
     "text": [
      "15it [01:23,  5.58s/it]"
     ]
    },
    {
     "name": "stdout",
     "output_type": "stream",
     "text": [
      "Currently at df: 16 | 2021-01-16\n"
     ]
    },
    {
     "name": "stderr",
     "output_type": "stream",
     "text": [
      "16it [01:28,  5.54s/it]"
     ]
    },
    {
     "name": "stdout",
     "output_type": "stream",
     "text": [
      "Currently at df: 17 | 2021-01-17\n"
     ]
    },
    {
     "name": "stderr",
     "output_type": "stream",
     "text": [
      "17it [01:34,  5.58s/it]"
     ]
    },
    {
     "name": "stdout",
     "output_type": "stream",
     "text": [
      "Currently at df: 18 | 2021-01-18\n"
     ]
    },
    {
     "name": "stderr",
     "output_type": "stream",
     "text": [
      "18it [01:40,  5.63s/it]"
     ]
    },
    {
     "name": "stdout",
     "output_type": "stream",
     "text": [
      "Currently at df: 19 | 2021-01-19\n"
     ]
    },
    {
     "name": "stderr",
     "output_type": "stream",
     "text": [
      "19it [01:45,  5.56s/it]"
     ]
    },
    {
     "name": "stdout",
     "output_type": "stream",
     "text": [
      "Currently at df: 20 | 2021-01-20\n"
     ]
    },
    {
     "name": "stderr",
     "output_type": "stream",
     "text": [
      "20it [01:51,  5.59s/it]"
     ]
    },
    {
     "name": "stdout",
     "output_type": "stream",
     "text": [
      "Currently at df: 21 | 2021-01-21\n"
     ]
    },
    {
     "name": "stderr",
     "output_type": "stream",
     "text": [
      "21it [01:56,  5.63s/it]"
     ]
    },
    {
     "name": "stdout",
     "output_type": "stream",
     "text": [
      "Currently at df: 22 | 2021-01-22\n"
     ]
    },
    {
     "name": "stderr",
     "output_type": "stream",
     "text": [
      "22it [02:02,  5.61s/it]"
     ]
    },
    {
     "name": "stdout",
     "output_type": "stream",
     "text": [
      "Currently at df: 23 | 2021-01-23\n"
     ]
    },
    {
     "name": "stderr",
     "output_type": "stream",
     "text": [
      "23it [02:07,  5.58s/it]"
     ]
    },
    {
     "name": "stdout",
     "output_type": "stream",
     "text": [
      "Currently at df: 24 | 2021-01-24\n"
     ]
    },
    {
     "name": "stderr",
     "output_type": "stream",
     "text": [
      "24it [02:13,  5.50s/it]"
     ]
    },
    {
     "name": "stdout",
     "output_type": "stream",
     "text": [
      "Currently at df: 25 | 2021-01-25\n"
     ]
    },
    {
     "name": "stderr",
     "output_type": "stream",
     "text": [
      "25it [02:18,  5.53s/it]"
     ]
    },
    {
     "name": "stdout",
     "output_type": "stream",
     "text": [
      "Currently at df: 26 | 2021-01-26\n"
     ]
    },
    {
     "name": "stderr",
     "output_type": "stream",
     "text": [
      "26it [02:24,  5.52s/it]"
     ]
    },
    {
     "name": "stdout",
     "output_type": "stream",
     "text": [
      "Currently at df: 27 | 2021-01-27\n"
     ]
    },
    {
     "name": "stderr",
     "output_type": "stream",
     "text": [
      "27it [02:29,  5.51s/it]"
     ]
    },
    {
     "name": "stdout",
     "output_type": "stream",
     "text": [
      "Currently at df: 28 | 2021-01-28\n"
     ]
    },
    {
     "name": "stderr",
     "output_type": "stream",
     "text": [
      "28it [02:35,  5.64s/it]"
     ]
    },
    {
     "name": "stdout",
     "output_type": "stream",
     "text": [
      "Currently at df: 29 | 2021-01-29\n"
     ]
    },
    {
     "name": "stderr",
     "output_type": "stream",
     "text": [
      "29it [02:41,  5.58s/it]"
     ]
    },
    {
     "name": "stdout",
     "output_type": "stream",
     "text": [
      "Currently at df: 30 | 2021-01-30\n"
     ]
    },
    {
     "name": "stderr",
     "output_type": "stream",
     "text": [
      "30it [02:46,  5.57s/it]"
     ]
    },
    {
     "name": "stdout",
     "output_type": "stream",
     "text": [
      "Currently at df: 31 | 2021-01-31\n"
     ]
    },
    {
     "name": "stderr",
     "output_type": "stream",
     "text": [
      "31it [02:52,  5.57s/it]"
     ]
    },
    {
     "name": "stdout",
     "output_type": "stream",
     "text": [
      "Currently at df: 32 | 2021-02-01\n"
     ]
    },
    {
     "name": "stderr",
     "output_type": "stream",
     "text": [
      "32it [02:58,  5.59s/it]"
     ]
    },
    {
     "name": "stdout",
     "output_type": "stream",
     "text": [
      "Currently at df: 33 | 2021-02-02\n"
     ]
    },
    {
     "name": "stderr",
     "output_type": "stream",
     "text": [
      "33it [03:03,  5.62s/it]"
     ]
    },
    {
     "name": "stdout",
     "output_type": "stream",
     "text": [
      "Currently at df: 34 | 2021-02-03\n"
     ]
    },
    {
     "name": "stderr",
     "output_type": "stream",
     "text": [
      "34it [03:09,  5.57s/it]"
     ]
    },
    {
     "name": "stdout",
     "output_type": "stream",
     "text": [
      "Currently at df: 35 | 2021-02-04\n"
     ]
    },
    {
     "name": "stderr",
     "output_type": "stream",
     "text": [
      "35it [03:14,  5.54s/it]"
     ]
    },
    {
     "name": "stdout",
     "output_type": "stream",
     "text": [
      "Currently at df: 36 | 2021-02-05\n"
     ]
    },
    {
     "name": "stderr",
     "output_type": "stream",
     "text": [
      "36it [03:21,  5.83s/it]"
     ]
    },
    {
     "name": "stdout",
     "output_type": "stream",
     "text": [
      "Currently at df: 37 | 2021-02-06\n"
     ]
    },
    {
     "name": "stderr",
     "output_type": "stream",
     "text": [
      "37it [03:27,  6.05s/it]"
     ]
    },
    {
     "name": "stdout",
     "output_type": "stream",
     "text": [
      "Currently at df: 38 | 2021-02-07\n"
     ]
    },
    {
     "name": "stderr",
     "output_type": "stream",
     "text": [
      "38it [03:34,  6.19s/it]"
     ]
    },
    {
     "name": "stdout",
     "output_type": "stream",
     "text": [
      "Currently at df: 39 | 2021-02-08\n"
     ]
    },
    {
     "name": "stderr",
     "output_type": "stream",
     "text": [
      "39it [03:40,  6.28s/it]"
     ]
    },
    {
     "name": "stdout",
     "output_type": "stream",
     "text": [
      "Currently at df: 40 | 2021-02-09\n"
     ]
    },
    {
     "name": "stderr",
     "output_type": "stream",
     "text": [
      "40it [03:47,  6.35s/it]"
     ]
    },
    {
     "name": "stdout",
     "output_type": "stream",
     "text": [
      "Currently at df: 41 | 2021-02-10\n"
     ]
    },
    {
     "name": "stderr",
     "output_type": "stream",
     "text": [
      "41it [03:53,  6.40s/it]"
     ]
    },
    {
     "name": "stdout",
     "output_type": "stream",
     "text": [
      "Currently at df: 42 | 2021-02-11\n"
     ]
    },
    {
     "name": "stderr",
     "output_type": "stream",
     "text": [
      "42it [03:59,  6.17s/it]"
     ]
    },
    {
     "name": "stdout",
     "output_type": "stream",
     "text": [
      "Currently at df: 43 | 2021-02-12\n"
     ]
    },
    {
     "name": "stderr",
     "output_type": "stream",
     "text": [
      "43it [04:05,  6.02s/it]"
     ]
    },
    {
     "name": "stdout",
     "output_type": "stream",
     "text": [
      "Currently at df: 44 | 2021-02-13\n"
     ]
    },
    {
     "name": "stderr",
     "output_type": "stream",
     "text": [
      "44it [04:11,  6.19s/it]"
     ]
    },
    {
     "name": "stdout",
     "output_type": "stream",
     "text": [
      "Currently at df: 45 | 2021-02-14\n"
     ]
    },
    {
     "name": "stderr",
     "output_type": "stream",
     "text": [
      "45it [04:18,  6.30s/it]"
     ]
    },
    {
     "name": "stdout",
     "output_type": "stream",
     "text": [
      "Currently at df: 46 | 2021-02-15\n"
     ]
    },
    {
     "name": "stderr",
     "output_type": "stream",
     "text": [
      "46it [04:24,  6.37s/it]"
     ]
    },
    {
     "name": "stdout",
     "output_type": "stream",
     "text": [
      "Currently at df: 47 | 2021-02-16\n"
     ]
    },
    {
     "name": "stderr",
     "output_type": "stream",
     "text": [
      "47it [04:30,  6.16s/it]"
     ]
    },
    {
     "name": "stdout",
     "output_type": "stream",
     "text": [
      "Currently at df: 48 | 2021-02-17\n"
     ]
    },
    {
     "name": "stderr",
     "output_type": "stream",
     "text": [
      "48it [04:36,  6.05s/it]"
     ]
    },
    {
     "name": "stdout",
     "output_type": "stream",
     "text": [
      "Currently at df: 49 | 2021-02-18\n"
     ]
    },
    {
     "name": "stderr",
     "output_type": "stream",
     "text": [
      "49it [04:42,  6.20s/it]"
     ]
    },
    {
     "name": "stdout",
     "output_type": "stream",
     "text": [
      "Currently at df: 50 | 2021-02-19\n"
     ]
    },
    {
     "name": "stderr",
     "output_type": "stream",
     "text": [
      "50it [04:49,  6.30s/it]"
     ]
    },
    {
     "name": "stdout",
     "output_type": "stream",
     "text": [
      "Currently at df: 51 | 2021-02-20\n"
     ]
    },
    {
     "name": "stderr",
     "output_type": "stream",
     "text": [
      "51it [04:54,  6.09s/it]"
     ]
    },
    {
     "name": "stdout",
     "output_type": "stream",
     "text": [
      "Currently at df: 52 | 2021-02-21\n"
     ]
    },
    {
     "name": "stderr",
     "output_type": "stream",
     "text": [
      "52it [05:00,  6.00s/it]"
     ]
    },
    {
     "name": "stdout",
     "output_type": "stream",
     "text": [
      "Currently at df: 53 | 2021-02-22\n"
     ]
    },
    {
     "name": "stderr",
     "output_type": "stream",
     "text": [
      "53it [05:07,  6.20s/it]"
     ]
    },
    {
     "name": "stdout",
     "output_type": "stream",
     "text": [
      "Currently at df: 54 | 2021-02-23\n"
     ]
    },
    {
     "name": "stderr",
     "output_type": "stream",
     "text": [
      "54it [05:13,  6.09s/it]"
     ]
    },
    {
     "name": "stdout",
     "output_type": "stream",
     "text": [
      "Currently at df: 55 | 2021-02-24\n"
     ]
    },
    {
     "name": "stderr",
     "output_type": "stream",
     "text": [
      "55it [05:19,  6.01s/it]"
     ]
    },
    {
     "name": "stdout",
     "output_type": "stream",
     "text": [
      "Currently at df: 56 | 2021-02-25\n"
     ]
    },
    {
     "name": "stderr",
     "output_type": "stream",
     "text": [
      "56it [05:24,  5.71s/it]"
     ]
    },
    {
     "name": "stdout",
     "output_type": "stream",
     "text": [
      "Currently at df: 57 | 2021-02-26\n"
     ]
    },
    {
     "name": "stderr",
     "output_type": "stream",
     "text": [
      "57it [05:29,  5.75s/it]"
     ]
    },
    {
     "name": "stdout",
     "output_type": "stream",
     "text": [
      "Currently at df: 58 | 2021-02-27\n"
     ]
    },
    {
     "name": "stderr",
     "output_type": "stream",
     "text": [
      "58it [05:35,  5.63s/it]"
     ]
    },
    {
     "name": "stdout",
     "output_type": "stream",
     "text": [
      "Currently at df: 59 | 2021-02-28\n"
     ]
    },
    {
     "name": "stderr",
     "output_type": "stream",
     "text": [
      "59it [05:41,  5.92s/it]"
     ]
    },
    {
     "name": "stdout",
     "output_type": "stream",
     "text": [
      "Currently at df: 60 | 2021-03-01\n"
     ]
    },
    {
     "name": "stderr",
     "output_type": "stream",
     "text": [
      "60it [05:47,  5.88s/it]"
     ]
    },
    {
     "name": "stdout",
     "output_type": "stream",
     "text": [
      "Currently at df: 61 | 2021-03-02\n"
     ]
    },
    {
     "name": "stderr",
     "output_type": "stream",
     "text": [
      "61it [05:53,  5.87s/it]"
     ]
    },
    {
     "name": "stdout",
     "output_type": "stream",
     "text": [
      "Currently at df: 62 | 2021-03-03\n"
     ]
    },
    {
     "name": "stderr",
     "output_type": "stream",
     "text": [
      "62it [05:58,  5.72s/it]"
     ]
    },
    {
     "name": "stdout",
     "output_type": "stream",
     "text": [
      "Currently at df: 63 | 2021-03-04\n"
     ]
    },
    {
     "name": "stderr",
     "output_type": "stream",
     "text": [
      "63it [06:04,  5.71s/it]"
     ]
    },
    {
     "name": "stdout",
     "output_type": "stream",
     "text": [
      "Currently at df: 64 | 2021-03-05\n"
     ]
    },
    {
     "name": "stderr",
     "output_type": "stream",
     "text": [
      "64it [06:09,  5.57s/it]"
     ]
    },
    {
     "name": "stdout",
     "output_type": "stream",
     "text": [
      "Currently at df: 65 | 2021-03-06\n"
     ]
    },
    {
     "name": "stderr",
     "output_type": "stream",
     "text": [
      "65it [06:15,  5.65s/it]"
     ]
    },
    {
     "name": "stdout",
     "output_type": "stream",
     "text": [
      "Currently at df: 66 | 2021-03-07\n"
     ]
    },
    {
     "name": "stderr",
     "output_type": "stream",
     "text": [
      "66it [06:21,  5.66s/it]"
     ]
    },
    {
     "name": "stdout",
     "output_type": "stream",
     "text": [
      "Currently at df: 67 | 2021-03-08\n"
     ]
    },
    {
     "name": "stderr",
     "output_type": "stream",
     "text": [
      "67it [06:26,  5.60s/it]"
     ]
    },
    {
     "name": "stdout",
     "output_type": "stream",
     "text": [
      "Currently at df: 68 | 2021-03-09\n"
     ]
    },
    {
     "name": "stderr",
     "output_type": "stream",
     "text": [
      "68it [06:32,  5.61s/it]"
     ]
    },
    {
     "name": "stdout",
     "output_type": "stream",
     "text": [
      "Currently at df: 69 | 2021-03-10\n"
     ]
    },
    {
     "name": "stderr",
     "output_type": "stream",
     "text": [
      "69it [06:38,  5.64s/it]"
     ]
    },
    {
     "name": "stdout",
     "output_type": "stream",
     "text": [
      "Currently at df: 70 | 2021-03-11\n"
     ]
    },
    {
     "name": "stderr",
     "output_type": "stream",
     "text": [
      "70it [06:40,  4.74s/it]"
     ]
    },
    {
     "name": "stdout",
     "output_type": "stream",
     "text": [
      "Currently at df: 71 | 2021-03-12\n"
     ]
    },
    {
     "name": "stderr",
     "output_type": "stream",
     "text": [
      "71it [06:47,  5.25s/it]"
     ]
    },
    {
     "name": "stdout",
     "output_type": "stream",
     "text": [
      "Currently at df: 72 | 2021-03-13\n"
     ]
    },
    {
     "name": "stderr",
     "output_type": "stream",
     "text": [
      "72it [06:52,  5.38s/it]"
     ]
    },
    {
     "name": "stdout",
     "output_type": "stream",
     "text": [
      "Currently at df: 73 | 2021-03-14\n"
     ]
    },
    {
     "name": "stderr",
     "output_type": "stream",
     "text": [
      "73it [06:58,  5.43s/it]"
     ]
    },
    {
     "name": "stdout",
     "output_type": "stream",
     "text": [
      "Currently at df: 74 | 2021-03-15\n"
     ]
    },
    {
     "name": "stderr",
     "output_type": "stream",
     "text": [
      "74it [07:04,  5.51s/it]"
     ]
    },
    {
     "name": "stdout",
     "output_type": "stream",
     "text": [
      "Currently at df: 75 | 2021-03-16\n"
     ]
    },
    {
     "name": "stderr",
     "output_type": "stream",
     "text": [
      "75it [07:09,  5.61s/it]"
     ]
    },
    {
     "name": "stdout",
     "output_type": "stream",
     "text": [
      "Currently at df: 76 | 2021-03-17\n"
     ]
    },
    {
     "name": "stderr",
     "output_type": "stream",
     "text": [
      "76it [07:15,  5.56s/it]"
     ]
    },
    {
     "name": "stdout",
     "output_type": "stream",
     "text": [
      "Currently at df: 77 | 2021-03-18\n"
     ]
    },
    {
     "name": "stderr",
     "output_type": "stream",
     "text": [
      "77it [07:21,  5.65s/it]"
     ]
    },
    {
     "name": "stdout",
     "output_type": "stream",
     "text": [
      "Currently at df: 78 | 2021-03-19\n"
     ]
    },
    {
     "name": "stderr",
     "output_type": "stream",
     "text": [
      "78it [07:27,  5.70s/it]"
     ]
    },
    {
     "name": "stdout",
     "output_type": "stream",
     "text": [
      "Currently at df: 79 | 2021-03-20\n"
     ]
    },
    {
     "name": "stderr",
     "output_type": "stream",
     "text": [
      "79it [07:32,  5.67s/it]"
     ]
    },
    {
     "name": "stdout",
     "output_type": "stream",
     "text": [
      "Currently at df: 80 | 2021-03-21\n"
     ]
    },
    {
     "name": "stderr",
     "output_type": "stream",
     "text": [
      "80it [07:37,  5.56s/it]"
     ]
    },
    {
     "name": "stdout",
     "output_type": "stream",
     "text": [
      "Currently at df: 81 | 2021-03-22\n"
     ]
    },
    {
     "name": "stderr",
     "output_type": "stream",
     "text": [
      "81it [07:42,  5.12s/it]"
     ]
    },
    {
     "name": "stdout",
     "output_type": "stream",
     "text": [
      "Currently at df: 82 | 2021-03-23\n"
     ]
    },
    {
     "name": "stderr",
     "output_type": "stream",
     "text": [
      "82it [07:47,  5.18s/it]"
     ]
    },
    {
     "name": "stdout",
     "output_type": "stream",
     "text": [
      "Currently at df: 83 | 2021-03-24\n"
     ]
    },
    {
     "name": "stderr",
     "output_type": "stream",
     "text": [
      "83it [07:52,  5.32s/it]"
     ]
    },
    {
     "name": "stdout",
     "output_type": "stream",
     "text": [
      "Currently at df: 84 | 2021-03-25\n"
     ]
    },
    {
     "name": "stderr",
     "output_type": "stream",
     "text": [
      "84it [07:58,  5.41s/it]"
     ]
    },
    {
     "name": "stdout",
     "output_type": "stream",
     "text": [
      "Currently at df: 85 | 2021-03-26\n"
     ]
    },
    {
     "name": "stderr",
     "output_type": "stream",
     "text": [
      "85it [08:04,  5.51s/it]"
     ]
    },
    {
     "name": "stdout",
     "output_type": "stream",
     "text": [
      "Currently at df: 86 | 2021-03-27\n"
     ]
    },
    {
     "name": "stderr",
     "output_type": "stream",
     "text": [
      "86it [08:10,  5.62s/it]"
     ]
    },
    {
     "name": "stdout",
     "output_type": "stream",
     "text": [
      "Currently at df: 87 | 2021-03-28\n"
     ]
    },
    {
     "name": "stderr",
     "output_type": "stream",
     "text": [
      "87it [08:15,  5.63s/it]"
     ]
    },
    {
     "name": "stdout",
     "output_type": "stream",
     "text": [
      "Currently at df: 88 | 2021-03-29\n"
     ]
    },
    {
     "name": "stderr",
     "output_type": "stream",
     "text": [
      "88it [08:21,  5.70s/it]"
     ]
    },
    {
     "name": "stdout",
     "output_type": "stream",
     "text": [
      "Currently at df: 89 | 2021-03-30\n"
     ]
    },
    {
     "name": "stderr",
     "output_type": "stream",
     "text": [
      "89it [08:27,  5.81s/it]"
     ]
    },
    {
     "name": "stdout",
     "output_type": "stream",
     "text": [
      "Currently at df: 90 | 2021-03-31\n"
     ]
    },
    {
     "name": "stderr",
     "output_type": "stream",
     "text": [
      "90it [08:33,  5.85s/it]"
     ]
    },
    {
     "name": "stdout",
     "output_type": "stream",
     "text": [
      "Currently at df: 91 | 2021-04-01\n"
     ]
    },
    {
     "name": "stderr",
     "output_type": "stream",
     "text": [
      "91it [08:39,  5.81s/it]"
     ]
    },
    {
     "name": "stdout",
     "output_type": "stream",
     "text": [
      "Currently at df: 92 | 2021-04-02\n"
     ]
    },
    {
     "name": "stderr",
     "output_type": "stream",
     "text": [
      "92it [08:45,  5.74s/it]"
     ]
    },
    {
     "name": "stdout",
     "output_type": "stream",
     "text": [
      "Currently at df: 93 | 2021-04-03\n"
     ]
    },
    {
     "name": "stderr",
     "output_type": "stream",
     "text": [
      "93it [08:50,  5.65s/it]"
     ]
    },
    {
     "name": "stdout",
     "output_type": "stream",
     "text": [
      "Currently at df: 94 | 2021-04-04\n"
     ]
    },
    {
     "name": "stderr",
     "output_type": "stream",
     "text": [
      "94it [08:56,  5.66s/it]"
     ]
    },
    {
     "name": "stdout",
     "output_type": "stream",
     "text": [
      "Currently at df: 95 | 2021-04-05\n"
     ]
    },
    {
     "name": "stderr",
     "output_type": "stream",
     "text": [
      "95it [09:02,  5.90s/it]"
     ]
    },
    {
     "name": "stdout",
     "output_type": "stream",
     "text": [
      "Currently at df: 96 | 2021-04-06\n"
     ]
    },
    {
     "name": "stderr",
     "output_type": "stream",
     "text": [
      "96it [09:09,  6.07s/it]"
     ]
    },
    {
     "name": "stdout",
     "output_type": "stream",
     "text": [
      "Currently at df: 97 | 2021-04-07\n"
     ]
    },
    {
     "name": "stderr",
     "output_type": "stream",
     "text": [
      "97it [09:15,  6.17s/it]"
     ]
    },
    {
     "name": "stdout",
     "output_type": "stream",
     "text": [
      "Currently at df: 98 | 2021-04-08\n"
     ]
    },
    {
     "name": "stderr",
     "output_type": "stream",
     "text": [
      "98it [09:21,  6.20s/it]"
     ]
    },
    {
     "name": "stdout",
     "output_type": "stream",
     "text": [
      "Currently at df: 99 | 2021-04-09\n"
     ]
    },
    {
     "name": "stderr",
     "output_type": "stream",
     "text": [
      "99it [09:28,  6.26s/it]"
     ]
    },
    {
     "name": "stdout",
     "output_type": "stream",
     "text": [
      "Currently at df: 100 | 2021-04-10\n"
     ]
    },
    {
     "name": "stderr",
     "output_type": "stream",
     "text": [
      "100it [09:34,  6.27s/it]"
     ]
    },
    {
     "name": "stdout",
     "output_type": "stream",
     "text": [
      "Currently at df: 101 | 2021-04-11\n"
     ]
    },
    {
     "name": "stderr",
     "output_type": "stream",
     "text": [
      "101it [09:40,  6.30s/it]"
     ]
    },
    {
     "name": "stdout",
     "output_type": "stream",
     "text": [
      "Currently at df: 102 | 2021-04-12\n"
     ]
    },
    {
     "name": "stderr",
     "output_type": "stream",
     "text": [
      "102it [09:47,  6.33s/it]"
     ]
    },
    {
     "name": "stdout",
     "output_type": "stream",
     "text": [
      "Currently at df: 103 | 2021-04-13\n"
     ]
    },
    {
     "name": "stderr",
     "output_type": "stream",
     "text": [
      "103it [09:52,  6.09s/it]"
     ]
    },
    {
     "name": "stdout",
     "output_type": "stream",
     "text": [
      "Currently at df: 104 | 2021-04-14\n"
     ]
    },
    {
     "name": "stderr",
     "output_type": "stream",
     "text": [
      "104it [09:58,  5.93s/it]"
     ]
    },
    {
     "name": "stdout",
     "output_type": "stream",
     "text": [
      "Currently at df: 105 | 2021-04-15\n"
     ]
    },
    {
     "name": "stderr",
     "output_type": "stream",
     "text": [
      "105it [10:03,  5.73s/it]"
     ]
    },
    {
     "name": "stdout",
     "output_type": "stream",
     "text": [
      "Currently at df: 106 | 2021-04-16\n"
     ]
    },
    {
     "name": "stderr",
     "output_type": "stream",
     "text": [
      "106it [10:08,  5.59s/it]"
     ]
    },
    {
     "name": "stdout",
     "output_type": "stream",
     "text": [
      "Currently at df: 107 | 2021-04-17\n"
     ]
    },
    {
     "name": "stderr",
     "output_type": "stream",
     "text": [
      "107it [10:12,  5.13s/it]"
     ]
    },
    {
     "name": "stdout",
     "output_type": "stream",
     "text": [
      "Currently at df: 108 | 2021-04-18\n"
     ]
    },
    {
     "name": "stderr",
     "output_type": "stream",
     "text": [
      "108it [10:19,  5.52s/it]"
     ]
    },
    {
     "name": "stdout",
     "output_type": "stream",
     "text": [
      "Currently at df: 109 | 2021-04-19\n"
     ]
    },
    {
     "name": "stderr",
     "output_type": "stream",
     "text": [
      "109it [10:25,  5.79s/it]"
     ]
    },
    {
     "name": "stdout",
     "output_type": "stream",
     "text": [
      "Currently at df: 110 | 2021-04-20\n"
     ]
    },
    {
     "name": "stderr",
     "output_type": "stream",
     "text": [
      "110it [10:32,  5.98s/it]"
     ]
    },
    {
     "name": "stdout",
     "output_type": "stream",
     "text": [
      "Currently at df: 111 | 2021-04-21\n"
     ]
    },
    {
     "name": "stderr",
     "output_type": "stream",
     "text": [
      "111it [10:38,  6.12s/it]"
     ]
    },
    {
     "name": "stdout",
     "output_type": "stream",
     "text": [
      "Currently at df: 112 | 2021-04-22\n"
     ]
    },
    {
     "name": "stderr",
     "output_type": "stream",
     "text": [
      "112it [10:45,  6.23s/it]"
     ]
    },
    {
     "name": "stdout",
     "output_type": "stream",
     "text": [
      "Currently at df: 113 | 2021-04-23\n"
     ]
    },
    {
     "name": "stderr",
     "output_type": "stream",
     "text": [
      "113it [10:51,  6.31s/it]"
     ]
    },
    {
     "name": "stdout",
     "output_type": "stream",
     "text": [
      "Currently at df: 114 | 2021-04-24\n"
     ]
    },
    {
     "name": "stderr",
     "output_type": "stream",
     "text": [
      "114it [10:58,  6.35s/it]"
     ]
    },
    {
     "name": "stdout",
     "output_type": "stream",
     "text": [
      "Currently at df: 115 | 2021-04-25\n"
     ]
    },
    {
     "name": "stderr",
     "output_type": "stream",
     "text": [
      "115it [11:03,  6.00s/it]"
     ]
    },
    {
     "name": "stdout",
     "output_type": "stream",
     "text": [
      "Currently at df: 116 | 2021-04-26\n"
     ]
    },
    {
     "name": "stderr",
     "output_type": "stream",
     "text": [
      "116it [11:08,  5.90s/it]"
     ]
    },
    {
     "name": "stdout",
     "output_type": "stream",
     "text": [
      "Currently at df: 117 | 2021-04-27\n"
     ]
    },
    {
     "name": "stderr",
     "output_type": "stream",
     "text": [
      "117it [11:14,  5.78s/it]"
     ]
    },
    {
     "name": "stdout",
     "output_type": "stream",
     "text": [
      "Currently at df: 118 | 2021-04-28\n"
     ]
    },
    {
     "name": "stderr",
     "output_type": "stream",
     "text": [
      "118it [11:19,  5.69s/it]"
     ]
    },
    {
     "name": "stdout",
     "output_type": "stream",
     "text": [
      "Currently at df: 119 | 2021-04-29\n"
     ]
    },
    {
     "name": "stderr",
     "output_type": "stream",
     "text": [
      "119it [11:24,  5.52s/it]"
     ]
    },
    {
     "name": "stdout",
     "output_type": "stream",
     "text": [
      "Currently at df: 120 | 2021-04-30\n"
     ]
    },
    {
     "name": "stderr",
     "output_type": "stream",
     "text": [
      "120it [11:30,  5.40s/it]"
     ]
    },
    {
     "name": "stdout",
     "output_type": "stream",
     "text": [
      "Currently at df: 121 | 2021-05-01\n"
     ]
    },
    {
     "name": "stderr",
     "output_type": "stream",
     "text": [
      "121it [11:35,  5.45s/it]"
     ]
    },
    {
     "name": "stdout",
     "output_type": "stream",
     "text": [
      "Currently at df: 122 | 2021-05-02\n"
     ]
    },
    {
     "name": "stderr",
     "output_type": "stream",
     "text": [
      "122it [11:41,  5.44s/it]"
     ]
    },
    {
     "name": "stdout",
     "output_type": "stream",
     "text": [
      "Currently at df: 123 | 2021-05-03\n"
     ]
    },
    {
     "name": "stderr",
     "output_type": "stream",
     "text": [
      "123it [11:46,  5.40s/it]"
     ]
    },
    {
     "name": "stdout",
     "output_type": "stream",
     "text": [
      "Currently at df: 124 | 2021-05-04\n"
     ]
    },
    {
     "name": "stderr",
     "output_type": "stream",
     "text": [
      "124it [11:51,  5.41s/it]"
     ]
    },
    {
     "name": "stdout",
     "output_type": "stream",
     "text": [
      "Currently at df: 125 | 2021-05-05\n"
     ]
    },
    {
     "name": "stderr",
     "output_type": "stream",
     "text": [
      "125it [11:57,  5.46s/it]"
     ]
    },
    {
     "name": "stdout",
     "output_type": "stream",
     "text": [
      "Currently at df: 126 | 2021-05-06\n"
     ]
    },
    {
     "name": "stderr",
     "output_type": "stream",
     "text": [
      "126it [12:02,  5.45s/it]"
     ]
    },
    {
     "name": "stdout",
     "output_type": "stream",
     "text": [
      "Currently at df: 127 | 2021-05-07\n"
     ]
    },
    {
     "name": "stderr",
     "output_type": "stream",
     "text": [
      "127it [12:08,  5.38s/it]"
     ]
    },
    {
     "name": "stdout",
     "output_type": "stream",
     "text": [
      "Currently at df: 128 | 2021-05-08\n"
     ]
    },
    {
     "name": "stderr",
     "output_type": "stream",
     "text": [
      "128it [12:13,  5.37s/it]"
     ]
    },
    {
     "name": "stdout",
     "output_type": "stream",
     "text": [
      "Currently at df: 129 | 2021-05-09\n"
     ]
    },
    {
     "name": "stderr",
     "output_type": "stream",
     "text": [
      "129it [12:18,  5.24s/it]"
     ]
    },
    {
     "name": "stdout",
     "output_type": "stream",
     "text": [
      "Currently at df: 130 | 2021-05-10\n"
     ]
    },
    {
     "name": "stderr",
     "output_type": "stream",
     "text": [
      "130it [12:23,  5.31s/it]"
     ]
    },
    {
     "name": "stdout",
     "output_type": "stream",
     "text": [
      "Currently at df: 131 | 2021-05-11\n"
     ]
    },
    {
     "name": "stderr",
     "output_type": "stream",
     "text": [
      "131it [12:29,  5.34s/it]"
     ]
    },
    {
     "name": "stdout",
     "output_type": "stream",
     "text": [
      "Currently at df: 132 | 2021-05-12\n"
     ]
    },
    {
     "name": "stderr",
     "output_type": "stream",
     "text": [
      "132it [12:34,  5.26s/it]"
     ]
    },
    {
     "name": "stdout",
     "output_type": "stream",
     "text": [
      "Currently at df: 133 | 2021-05-13\n"
     ]
    },
    {
     "name": "stderr",
     "output_type": "stream",
     "text": [
      "133it [12:39,  5.31s/it]"
     ]
    },
    {
     "name": "stdout",
     "output_type": "stream",
     "text": [
      "Currently at df: 134 | 2021-05-14\n"
     ]
    },
    {
     "name": "stderr",
     "output_type": "stream",
     "text": [
      "134it [12:45,  5.43s/it]"
     ]
    },
    {
     "name": "stdout",
     "output_type": "stream",
     "text": [
      "Currently at df: 135 | 2021-05-15\n"
     ]
    },
    {
     "name": "stderr",
     "output_type": "stream",
     "text": [
      "135it [12:50,  5.46s/it]"
     ]
    },
    {
     "name": "stdout",
     "output_type": "stream",
     "text": [
      "Currently at df: 136 | 2021-05-16\n"
     ]
    },
    {
     "name": "stderr",
     "output_type": "stream",
     "text": [
      "136it [12:56,  5.60s/it]"
     ]
    },
    {
     "name": "stdout",
     "output_type": "stream",
     "text": [
      "Currently at df: 137 | 2021-05-17\n"
     ]
    },
    {
     "name": "stderr",
     "output_type": "stream",
     "text": [
      "137it [13:02,  5.61s/it]"
     ]
    },
    {
     "name": "stdout",
     "output_type": "stream",
     "text": [
      "Currently at df: 138 | 2021-05-18\n"
     ]
    },
    {
     "name": "stderr",
     "output_type": "stream",
     "text": [
      "138it [13:08,  5.66s/it]"
     ]
    },
    {
     "name": "stdout",
     "output_type": "stream",
     "text": [
      "Currently at df: 139 | 2021-05-19\n"
     ]
    },
    {
     "name": "stderr",
     "output_type": "stream",
     "text": [
      "139it [13:13,  5.58s/it]"
     ]
    },
    {
     "name": "stdout",
     "output_type": "stream",
     "text": [
      "Currently at df: 140 | 2021-05-20\n"
     ]
    },
    {
     "name": "stderr",
     "output_type": "stream",
     "text": [
      "140it [13:19,  5.62s/it]"
     ]
    },
    {
     "name": "stdout",
     "output_type": "stream",
     "text": [
      "Currently at df: 141 | 2021-05-21\n"
     ]
    },
    {
     "name": "stderr",
     "output_type": "stream",
     "text": [
      "141it [13:25,  5.66s/it]"
     ]
    },
    {
     "name": "stdout",
     "output_type": "stream",
     "text": [
      "Currently at df: 142 | 2021-05-22\n"
     ]
    },
    {
     "name": "stderr",
     "output_type": "stream",
     "text": [
      "142it [13:30,  5.61s/it]"
     ]
    },
    {
     "name": "stdout",
     "output_type": "stream",
     "text": [
      "Currently at df: 143 | 2021-05-23\n"
     ]
    },
    {
     "name": "stderr",
     "output_type": "stream",
     "text": [
      "143it [13:36,  5.66s/it]"
     ]
    },
    {
     "name": "stdout",
     "output_type": "stream",
     "text": [
      "Currently at df: 144 | 2021-05-24\n"
     ]
    },
    {
     "name": "stderr",
     "output_type": "stream",
     "text": [
      "144it [13:41,  5.61s/it]"
     ]
    },
    {
     "name": "stdout",
     "output_type": "stream",
     "text": [
      "Currently at df: 145 | 2021-05-25\n"
     ]
    },
    {
     "name": "stderr",
     "output_type": "stream",
     "text": [
      "145it [13:48,  5.88s/it]"
     ]
    },
    {
     "name": "stdout",
     "output_type": "stream",
     "text": [
      "Currently at df: 146 | 2021-05-26\n"
     ]
    },
    {
     "name": "stderr",
     "output_type": "stream",
     "text": [
      "146it [13:54,  6.08s/it]"
     ]
    },
    {
     "name": "stdout",
     "output_type": "stream",
     "text": [
      "Currently at df: 147 | 2021-05-27\n"
     ]
    },
    {
     "name": "stderr",
     "output_type": "stream",
     "text": [
      "147it [14:01,  6.25s/it]"
     ]
    },
    {
     "name": "stdout",
     "output_type": "stream",
     "text": [
      "Currently at df: 148 | 2021-05-28\n"
     ]
    },
    {
     "name": "stderr",
     "output_type": "stream",
     "text": [
      "148it [14:08,  6.34s/it]"
     ]
    },
    {
     "name": "stdout",
     "output_type": "stream",
     "text": [
      "Currently at df: 149 | 2021-05-29\n"
     ]
    },
    {
     "name": "stderr",
     "output_type": "stream",
     "text": [
      "149it [14:14,  6.42s/it]"
     ]
    },
    {
     "name": "stdout",
     "output_type": "stream",
     "text": [
      "Currently at df: 150 | 2021-05-30\n"
     ]
    },
    {
     "name": "stderr",
     "output_type": "stream",
     "text": [
      "150it [14:20,  6.18s/it]"
     ]
    },
    {
     "name": "stdout",
     "output_type": "stream",
     "text": [
      "Currently at df: 151 | 2021-05-31\n"
     ]
    },
    {
     "name": "stderr",
     "output_type": "stream",
     "text": [
      "151it [14:25,  5.97s/it]"
     ]
    },
    {
     "name": "stdout",
     "output_type": "stream",
     "text": [
      "Currently at df: 152 | 2021-06-01\n"
     ]
    },
    {
     "name": "stderr",
     "output_type": "stream",
     "text": [
      "152it [14:31,  5.78s/it]"
     ]
    },
    {
     "name": "stdout",
     "output_type": "stream",
     "text": [
      "Currently at df: 153 | 2021-06-02\n"
     ]
    },
    {
     "name": "stderr",
     "output_type": "stream",
     "text": [
      "153it [14:36,  5.77s/it]"
     ]
    },
    {
     "name": "stdout",
     "output_type": "stream",
     "text": [
      "Currently at df: 154 | 2021-06-03\n"
     ]
    },
    {
     "name": "stderr",
     "output_type": "stream",
     "text": [
      "154it [14:42,  5.63s/it]"
     ]
    },
    {
     "name": "stdout",
     "output_type": "stream",
     "text": [
      "Currently at df: 155 | 2021-06-04\n"
     ]
    },
    {
     "name": "stderr",
     "output_type": "stream",
     "text": [
      "155it [14:47,  5.59s/it]"
     ]
    },
    {
     "name": "stdout",
     "output_type": "stream",
     "text": [
      "Currently at df: 156 | 2021-06-05\n"
     ]
    },
    {
     "name": "stderr",
     "output_type": "stream",
     "text": [
      "156it [14:52,  5.45s/it]"
     ]
    },
    {
     "name": "stdout",
     "output_type": "stream",
     "text": [
      "Currently at df: 157 | 2021-06-06\n"
     ]
    },
    {
     "name": "stderr",
     "output_type": "stream",
     "text": [
      "157it [14:58,  5.47s/it]"
     ]
    },
    {
     "name": "stdout",
     "output_type": "stream",
     "text": [
      "Currently at df: 158 | 2021-06-07\n"
     ]
    },
    {
     "name": "stderr",
     "output_type": "stream",
     "text": [
      "158it [15:04,  5.52s/it]"
     ]
    },
    {
     "name": "stdout",
     "output_type": "stream",
     "text": [
      "Currently at df: 159 | 2021-06-08\n"
     ]
    },
    {
     "name": "stderr",
     "output_type": "stream",
     "text": [
      "159it [15:09,  5.52s/it]"
     ]
    },
    {
     "name": "stdout",
     "output_type": "stream",
     "text": [
      "Currently at df: 160 | 2021-06-09\n"
     ]
    },
    {
     "name": "stderr",
     "output_type": "stream",
     "text": [
      "160it [15:15,  5.58s/it]"
     ]
    },
    {
     "name": "stdout",
     "output_type": "stream",
     "text": [
      "Currently at df: 161 | 2021-06-10\n"
     ]
    },
    {
     "name": "stderr",
     "output_type": "stream",
     "text": [
      "161it [15:20,  5.58s/it]"
     ]
    },
    {
     "name": "stdout",
     "output_type": "stream",
     "text": [
      "Currently at df: 162 | 2021-06-11\n"
     ]
    },
    {
     "name": "stderr",
     "output_type": "stream",
     "text": [
      "162it [15:26,  5.58s/it]"
     ]
    },
    {
     "name": "stdout",
     "output_type": "stream",
     "text": [
      "Currently at df: 163 | 2021-06-12\n"
     ]
    },
    {
     "name": "stderr",
     "output_type": "stream",
     "text": [
      "163it [15:32,  5.68s/it]"
     ]
    },
    {
     "name": "stdout",
     "output_type": "stream",
     "text": [
      "Currently at df: 164 | 2021-06-13\n"
     ]
    },
    {
     "name": "stderr",
     "output_type": "stream",
     "text": [
      "164it [15:37,  5.48s/it]"
     ]
    },
    {
     "name": "stdout",
     "output_type": "stream",
     "text": [
      "Currently at df: 165 | 2021-06-14\n"
     ]
    },
    {
     "name": "stderr",
     "output_type": "stream",
     "text": [
      "165it [15:42,  5.36s/it]"
     ]
    },
    {
     "name": "stdout",
     "output_type": "stream",
     "text": [
      "Currently at df: 166 | 2021-06-15\n"
     ]
    },
    {
     "name": "stderr",
     "output_type": "stream",
     "text": [
      "166it [15:47,  5.40s/it]"
     ]
    },
    {
     "name": "stdout",
     "output_type": "stream",
     "text": [
      "Currently at df: 167 | 2021-06-16\n"
     ]
    },
    {
     "name": "stderr",
     "output_type": "stream",
     "text": [
      "167it [15:53,  5.40s/it]"
     ]
    },
    {
     "name": "stdout",
     "output_type": "stream",
     "text": [
      "Currently at df: 168 | 2021-06-17\n"
     ]
    },
    {
     "name": "stderr",
     "output_type": "stream",
     "text": [
      "168it [15:58,  5.46s/it]"
     ]
    },
    {
     "name": "stdout",
     "output_type": "stream",
     "text": [
      "Currently at df: 169 | 2021-06-18\n"
     ]
    },
    {
     "name": "stderr",
     "output_type": "stream",
     "text": [
      "169it [16:04,  5.51s/it]"
     ]
    },
    {
     "name": "stdout",
     "output_type": "stream",
     "text": [
      "Currently at df: 170 | 2021-06-19\n"
     ]
    },
    {
     "name": "stderr",
     "output_type": "stream",
     "text": [
      "170it [16:10,  5.54s/it]"
     ]
    },
    {
     "name": "stdout",
     "output_type": "stream",
     "text": [
      "Currently at df: 171 | 2021-06-20\n"
     ]
    },
    {
     "name": "stderr",
     "output_type": "stream",
     "text": [
      "171it [16:16,  5.87s/it]"
     ]
    },
    {
     "name": "stdout",
     "output_type": "stream",
     "text": [
      "Currently at df: 172 | 2021-06-21\n"
     ]
    },
    {
     "name": "stderr",
     "output_type": "stream",
     "text": [
      "172it [16:23,  6.09s/it]"
     ]
    },
    {
     "name": "stdout",
     "output_type": "stream",
     "text": [
      "Currently at df: 173 | 2021-06-22\n"
     ]
    },
    {
     "name": "stderr",
     "output_type": "stream",
     "text": [
      "173it [16:30,  6.25s/it]"
     ]
    },
    {
     "name": "stdout",
     "output_type": "stream",
     "text": [
      "Currently at df: 174 | 2021-06-23\n"
     ]
    },
    {
     "name": "stderr",
     "output_type": "stream",
     "text": [
      "174it [16:36,  6.41s/it]"
     ]
    },
    {
     "name": "stdout",
     "output_type": "stream",
     "text": [
      "Currently at df: 175 | 2021-06-24\n"
     ]
    },
    {
     "name": "stderr",
     "output_type": "stream",
     "text": [
      "175it [16:42,  6.18s/it]"
     ]
    },
    {
     "name": "stdout",
     "output_type": "stream",
     "text": [
      "Currently at df: 176 | 2021-06-25\n"
     ]
    },
    {
     "name": "stderr",
     "output_type": "stream",
     "text": [
      "176it [16:47,  5.99s/it]"
     ]
    },
    {
     "name": "stdout",
     "output_type": "stream",
     "text": [
      "Currently at df: 177 | 2021-06-26\n"
     ]
    },
    {
     "name": "stderr",
     "output_type": "stream",
     "text": [
      "177it [16:53,  5.83s/it]"
     ]
    },
    {
     "name": "stdout",
     "output_type": "stream",
     "text": [
      "Currently at df: 178 | 2021-06-27\n"
     ]
    },
    {
     "name": "stderr",
     "output_type": "stream",
     "text": [
      "178it [16:58,  5.68s/it]"
     ]
    },
    {
     "name": "stdout",
     "output_type": "stream",
     "text": [
      "Currently at df: 179 | 2021-06-28\n"
     ]
    },
    {
     "name": "stderr",
     "output_type": "stream",
     "text": [
      "179it [17:04,  5.61s/it]"
     ]
    },
    {
     "name": "stdout",
     "output_type": "stream",
     "text": [
      "Currently at df: 180 | 2021-06-29\n"
     ]
    },
    {
     "name": "stderr",
     "output_type": "stream",
     "text": [
      "180it [17:09,  5.53s/it]"
     ]
    },
    {
     "name": "stdout",
     "output_type": "stream",
     "text": [
      "Currently at df: 181 | 2021-06-30\n"
     ]
    },
    {
     "name": "stderr",
     "output_type": "stream",
     "text": [
      "181it [17:15,  5.57s/it]"
     ]
    },
    {
     "name": "stdout",
     "output_type": "stream",
     "text": [
      "Currently at df: 182 | 2021-07-01\n"
     ]
    },
    {
     "name": "stderr",
     "output_type": "stream",
     "text": [
      "182it [17:20,  5.59s/it]"
     ]
    },
    {
     "name": "stdout",
     "output_type": "stream",
     "text": [
      "Currently at df: 183 | 2021-07-02\n"
     ]
    },
    {
     "name": "stderr",
     "output_type": "stream",
     "text": [
      "183it [17:27,  5.90s/it]"
     ]
    },
    {
     "name": "stdout",
     "output_type": "stream",
     "text": [
      "Currently at df: 184 | 2021-07-03\n"
     ]
    },
    {
     "name": "stderr",
     "output_type": "stream",
     "text": [
      "184it [17:34,  6.14s/it]"
     ]
    },
    {
     "name": "stdout",
     "output_type": "stream",
     "text": [
      "Currently at df: 185 | 2021-07-04\n"
     ]
    },
    {
     "name": "stderr",
     "output_type": "stream",
     "text": [
      "185it [17:40,  6.33s/it]"
     ]
    },
    {
     "name": "stdout",
     "output_type": "stream",
     "text": [
      "Currently at df: 186 | 2021-07-05\n"
     ]
    },
    {
     "name": "stderr",
     "output_type": "stream",
     "text": [
      "186it [17:47,  6.41s/it]"
     ]
    },
    {
     "name": "stdout",
     "output_type": "stream",
     "text": [
      "Currently at df: 187 | 2021-07-06\n"
     ]
    },
    {
     "name": "stderr",
     "output_type": "stream",
     "text": [
      "187it [17:53,  6.23s/it]"
     ]
    },
    {
     "name": "stdout",
     "output_type": "stream",
     "text": [
      "Currently at df: 188 | 2021-07-07\n"
     ]
    },
    {
     "name": "stderr",
     "output_type": "stream",
     "text": [
      "188it [17:59,  6.09s/it]"
     ]
    },
    {
     "name": "stdout",
     "output_type": "stream",
     "text": [
      "Currently at df: 189 | 2021-07-08\n"
     ]
    },
    {
     "name": "stderr",
     "output_type": "stream",
     "text": [
      "189it [18:04,  5.92s/it]"
     ]
    },
    {
     "name": "stdout",
     "output_type": "stream",
     "text": [
      "Currently at df: 190 | 2021-07-09\n"
     ]
    },
    {
     "name": "stderr",
     "output_type": "stream",
     "text": [
      "190it [18:09,  5.73s/it]"
     ]
    },
    {
     "name": "stdout",
     "output_type": "stream",
     "text": [
      "Currently at df: 191 | 2021-07-10\n"
     ]
    },
    {
     "name": "stderr",
     "output_type": "stream",
     "text": [
      "191it [18:15,  5.71s/it]"
     ]
    },
    {
     "name": "stdout",
     "output_type": "stream",
     "text": [
      "Currently at df: 192 | 2021-07-11\n"
     ]
    },
    {
     "name": "stderr",
     "output_type": "stream",
     "text": [
      "192it [18:20,  5.61s/it]"
     ]
    },
    {
     "name": "stdout",
     "output_type": "stream",
     "text": [
      "Currently at df: 193 | 2021-07-12\n"
     ]
    },
    {
     "name": "stderr",
     "output_type": "stream",
     "text": [
      "193it [18:26,  5.73s/it]"
     ]
    },
    {
     "name": "stdout",
     "output_type": "stream",
     "text": [
      "Currently at df: 194 | 2021-07-13\n"
     ]
    },
    {
     "name": "stderr",
     "output_type": "stream",
     "text": [
      "194it [18:32,  5.74s/it]"
     ]
    },
    {
     "name": "stdout",
     "output_type": "stream",
     "text": [
      "Currently at df: 195 | 2021-07-14\n"
     ]
    },
    {
     "name": "stderr",
     "output_type": "stream",
     "text": [
      "195it [18:38,  5.72s/it]"
     ]
    },
    {
     "name": "stdout",
     "output_type": "stream",
     "text": [
      "Currently at df: 196 | 2021-07-15\n"
     ]
    },
    {
     "name": "stderr",
     "output_type": "stream",
     "text": [
      "196it [18:44,  5.69s/it]"
     ]
    },
    {
     "name": "stdout",
     "output_type": "stream",
     "text": [
      "Currently at df: 197 | 2021-07-16\n"
     ]
    },
    {
     "name": "stderr",
     "output_type": "stream",
     "text": [
      "197it [18:50,  5.95s/it]"
     ]
    },
    {
     "name": "stdout",
     "output_type": "stream",
     "text": [
      "Currently at df: 198 | 2021-07-17\n"
     ]
    },
    {
     "name": "stderr",
     "output_type": "stream",
     "text": [
      "198it [18:57,  6.13s/it]"
     ]
    },
    {
     "name": "stdout",
     "output_type": "stream",
     "text": [
      "Currently at df: 199 | 2021-07-18\n"
     ]
    },
    {
     "name": "stderr",
     "output_type": "stream",
     "text": [
      "199it [19:03,  6.29s/it]"
     ]
    },
    {
     "name": "stdout",
     "output_type": "stream",
     "text": [
      "Currently at df: 200 | 2021-07-19\n"
     ]
    },
    {
     "name": "stderr",
     "output_type": "stream",
     "text": [
      "200it [19:10,  6.37s/it]"
     ]
    },
    {
     "name": "stdout",
     "output_type": "stream",
     "text": [
      "Currently at df: 201 | 2021-07-20\n"
     ]
    },
    {
     "name": "stderr",
     "output_type": "stream",
     "text": [
      "201it [19:16,  6.43s/it]"
     ]
    },
    {
     "name": "stdout",
     "output_type": "stream",
     "text": [
      "Currently at df: 202 | 2021-07-21\n"
     ]
    },
    {
     "name": "stderr",
     "output_type": "stream",
     "text": [
      "202it [19:23,  6.45s/it]"
     ]
    },
    {
     "name": "stdout",
     "output_type": "stream",
     "text": [
      "Currently at df: 203 | 2021-07-22\n"
     ]
    },
    {
     "name": "stderr",
     "output_type": "stream",
     "text": [
      "203it [19:29,  6.46s/it]"
     ]
    },
    {
     "name": "stdout",
     "output_type": "stream",
     "text": [
      "Currently at df: 204 | 2021-07-23\n"
     ]
    },
    {
     "name": "stderr",
     "output_type": "stream",
     "text": [
      "204it [19:36,  6.47s/it]"
     ]
    },
    {
     "name": "stdout",
     "output_type": "stream",
     "text": [
      "Currently at df: 205 | 2021-07-24\n"
     ]
    },
    {
     "name": "stderr",
     "output_type": "stream",
     "text": [
      "205it [19:42,  6.46s/it]"
     ]
    },
    {
     "name": "stdout",
     "output_type": "stream",
     "text": [
      "Currently at df: 206 | 2021-07-25\n"
     ]
    },
    {
     "name": "stderr",
     "output_type": "stream",
     "text": [
      "206it [19:49,  6.46s/it]"
     ]
    },
    {
     "name": "stdout",
     "output_type": "stream",
     "text": [
      "Currently at df: 207 | 2021-07-26\n"
     ]
    },
    {
     "name": "stderr",
     "output_type": "stream",
     "text": [
      "207it [19:55,  6.49s/it]"
     ]
    },
    {
     "name": "stdout",
     "output_type": "stream",
     "text": [
      "Currently at df: 208 | 2021-07-27\n"
     ]
    },
    {
     "name": "stderr",
     "output_type": "stream",
     "text": [
      "208it [20:02,  6.47s/it]"
     ]
    },
    {
     "name": "stdout",
     "output_type": "stream",
     "text": [
      "Currently at df: 209 | 2021-07-28\n"
     ]
    },
    {
     "name": "stderr",
     "output_type": "stream",
     "text": [
      "209it [20:08,  6.47s/it]"
     ]
    },
    {
     "name": "stdout",
     "output_type": "stream",
     "text": [
      "Currently at df: 210 | 2021-07-29\n"
     ]
    },
    {
     "name": "stderr",
     "output_type": "stream",
     "text": [
      "210it [20:15,  6.52s/it]"
     ]
    },
    {
     "name": "stdout",
     "output_type": "stream",
     "text": [
      "Currently at df: 211 | 2021-07-30\n"
     ]
    },
    {
     "name": "stderr",
     "output_type": "stream",
     "text": [
      "211it [20:21,  6.54s/it]"
     ]
    },
    {
     "name": "stdout",
     "output_type": "stream",
     "text": [
      "Currently at df: 212 | 2021-07-31\n"
     ]
    },
    {
     "name": "stderr",
     "output_type": "stream",
     "text": [
      "212it [20:27,  6.16s/it]"
     ]
    },
    {
     "name": "stdout",
     "output_type": "stream",
     "text": [
      "Currently at df: 213 | 2021-08-01\n"
     ]
    },
    {
     "name": "stderr",
     "output_type": "stream",
     "text": [
      "213it [20:32,  5.89s/it]"
     ]
    },
    {
     "name": "stdout",
     "output_type": "stream",
     "text": [
      "Currently at df: 214 | 2021-08-02\n"
     ]
    },
    {
     "name": "stderr",
     "output_type": "stream",
     "text": [
      "214it [20:37,  5.77s/it]"
     ]
    },
    {
     "name": "stdout",
     "output_type": "stream",
     "text": [
      "Currently at df: 215 | 2021-08-03\n"
     ]
    },
    {
     "name": "stderr",
     "output_type": "stream",
     "text": [
      "215it [20:43,  5.64s/it]"
     ]
    },
    {
     "name": "stdout",
     "output_type": "stream",
     "text": [
      "Currently at df: 216 | 2021-08-04\n"
     ]
    },
    {
     "name": "stderr",
     "output_type": "stream",
     "text": [
      "216it [20:49,  5.92s/it]"
     ]
    },
    {
     "name": "stdout",
     "output_type": "stream",
     "text": [
      "Currently at df: 217 | 2021-08-05\n"
     ]
    },
    {
     "name": "stderr",
     "output_type": "stream",
     "text": [
      "217it [20:56,  6.11s/it]"
     ]
    },
    {
     "name": "stdout",
     "output_type": "stream",
     "text": [
      "Currently at df: 218 | 2021-08-06\n"
     ]
    },
    {
     "name": "stderr",
     "output_type": "stream",
     "text": [
      "218it [21:02,  6.22s/it]"
     ]
    },
    {
     "name": "stdout",
     "output_type": "stream",
     "text": [
      "Currently at df: 219 | 2021-08-07\n"
     ]
    },
    {
     "name": "stderr",
     "output_type": "stream",
     "text": [
      "219it [21:09,  6.31s/it]"
     ]
    },
    {
     "name": "stdout",
     "output_type": "stream",
     "text": [
      "Currently at df: 220 | 2021-08-08\n"
     ]
    },
    {
     "name": "stderr",
     "output_type": "stream",
     "text": [
      "220it [21:15,  6.36s/it]"
     ]
    },
    {
     "name": "stdout",
     "output_type": "stream",
     "text": [
      "Currently at df: 221 | 2021-08-09\n"
     ]
    },
    {
     "name": "stderr",
     "output_type": "stream",
     "text": [
      "221it [21:22,  6.42s/it]"
     ]
    },
    {
     "name": "stdout",
     "output_type": "stream",
     "text": [
      "Currently at df: 222 | 2021-08-10\n"
     ]
    },
    {
     "name": "stderr",
     "output_type": "stream",
     "text": [
      "222it [21:27,  6.11s/it]"
     ]
    },
    {
     "name": "stdout",
     "output_type": "stream",
     "text": [
      "Currently at df: 223 | 2021-08-11\n"
     ]
    },
    {
     "name": "stderr",
     "output_type": "stream",
     "text": [
      "223it [21:33,  5.86s/it]"
     ]
    },
    {
     "name": "stdout",
     "output_type": "stream",
     "text": [
      "Currently at df: 224 | 2021-08-12\n"
     ]
    },
    {
     "name": "stderr",
     "output_type": "stream",
     "text": [
      "224it [21:38,  5.74s/it]"
     ]
    },
    {
     "name": "stdout",
     "output_type": "stream",
     "text": [
      "Currently at df: 225 | 2021-08-13\n"
     ]
    },
    {
     "name": "stderr",
     "output_type": "stream",
     "text": [
      "225it [21:43,  5.56s/it]"
     ]
    },
    {
     "name": "stdout",
     "output_type": "stream",
     "text": [
      "Currently at df: 226 | 2021-08-14\n"
     ]
    },
    {
     "name": "stderr",
     "output_type": "stream",
     "text": [
      "226it [21:50,  5.82s/it]"
     ]
    },
    {
     "name": "stdout",
     "output_type": "stream",
     "text": [
      "Currently at df: 227 | 2021-08-15\n"
     ]
    },
    {
     "name": "stderr",
     "output_type": "stream",
     "text": [
      "227it [21:56,  6.08s/it]"
     ]
    },
    {
     "name": "stdout",
     "output_type": "stream",
     "text": [
      "Currently at df: 228 | 2021-08-16\n"
     ]
    },
    {
     "name": "stderr",
     "output_type": "stream",
     "text": [
      "228it [22:03,  6.20s/it]"
     ]
    },
    {
     "name": "stdout",
     "output_type": "stream",
     "text": [
      "Currently at df: 229 | 2021-08-17\n"
     ]
    },
    {
     "name": "stderr",
     "output_type": "stream",
     "text": [
      "229it [22:09,  6.27s/it]"
     ]
    },
    {
     "name": "stdout",
     "output_type": "stream",
     "text": [
      "Currently at df: 230 | 2021-08-18\n"
     ]
    },
    {
     "name": "stderr",
     "output_type": "stream",
     "text": [
      "230it [22:16,  6.32s/it]"
     ]
    },
    {
     "name": "stdout",
     "output_type": "stream",
     "text": [
      "Currently at df: 231 | 2021-08-19\n"
     ]
    },
    {
     "name": "stderr",
     "output_type": "stream",
     "text": [
      "231it [22:22,  6.36s/it]"
     ]
    },
    {
     "name": "stdout",
     "output_type": "stream",
     "text": [
      "Currently at df: 232 | 2021-08-20\n"
     ]
    },
    {
     "name": "stderr",
     "output_type": "stream",
     "text": [
      "232it [22:29,  6.39s/it]"
     ]
    },
    {
     "name": "stdout",
     "output_type": "stream",
     "text": [
      "Currently at df: 233 | 2021-08-21\n"
     ]
    },
    {
     "name": "stderr",
     "output_type": "stream",
     "text": [
      "233it [22:35,  6.42s/it]"
     ]
    },
    {
     "name": "stdout",
     "output_type": "stream",
     "text": [
      "Currently at df: 234 | 2021-08-22\n"
     ]
    },
    {
     "name": "stderr",
     "output_type": "stream",
     "text": [
      "234it [22:40,  6.05s/it]"
     ]
    },
    {
     "name": "stdout",
     "output_type": "stream",
     "text": [
      "Currently at df: 235 | 2021-08-23\n"
     ]
    },
    {
     "name": "stderr",
     "output_type": "stream",
     "text": [
      "235it [22:47,  6.17s/it]"
     ]
    },
    {
     "name": "stdout",
     "output_type": "stream",
     "text": [
      "Currently at df: 236 | 2021-08-24\n"
     ]
    },
    {
     "name": "stderr",
     "output_type": "stream",
     "text": [
      "236it [22:53,  6.29s/it]"
     ]
    },
    {
     "name": "stdout",
     "output_type": "stream",
     "text": [
      "Currently at df: 237 | 2021-08-25\n"
     ]
    },
    {
     "name": "stderr",
     "output_type": "stream",
     "text": [
      "237it [23:00,  6.35s/it]"
     ]
    },
    {
     "name": "stdout",
     "output_type": "stream",
     "text": [
      "Currently at df: 238 | 2021-08-26\n"
     ]
    },
    {
     "name": "stderr",
     "output_type": "stream",
     "text": [
      "238it [23:06,  6.39s/it]"
     ]
    },
    {
     "name": "stdout",
     "output_type": "stream",
     "text": [
      "Currently at df: 239 | 2021-08-27\n"
     ]
    },
    {
     "name": "stderr",
     "output_type": "stream",
     "text": [
      "239it [23:11,  5.99s/it]"
     ]
    },
    {
     "name": "stdout",
     "output_type": "stream",
     "text": [
      "Currently at df: 240 | 2021-08-28\n"
     ]
    },
    {
     "name": "stderr",
     "output_type": "stream",
     "text": [
      "240it [23:16,  5.72s/it]"
     ]
    },
    {
     "name": "stdout",
     "output_type": "stream",
     "text": [
      "Currently at df: 241 | 2021-08-29\n"
     ]
    },
    {
     "name": "stderr",
     "output_type": "stream",
     "text": [
      "241it [23:22,  5.58s/it]"
     ]
    },
    {
     "name": "stdout",
     "output_type": "stream",
     "text": [
      "Currently at df: 242 | 2021-08-30\n"
     ]
    },
    {
     "name": "stderr",
     "output_type": "stream",
     "text": [
      "242it [23:27,  5.45s/it]"
     ]
    },
    {
     "name": "stdout",
     "output_type": "stream",
     "text": [
      "Currently at df: 243 | 2021-08-31\n"
     ]
    },
    {
     "name": "stderr",
     "output_type": "stream",
     "text": [
      "243it [23:32,  5.39s/it]"
     ]
    },
    {
     "name": "stdout",
     "output_type": "stream",
     "text": [
      "Currently at df: 244 | 2021-09-01\n"
     ]
    },
    {
     "name": "stderr",
     "output_type": "stream",
     "text": [
      "244it [23:37,  5.27s/it]"
     ]
    },
    {
     "name": "stdout",
     "output_type": "stream",
     "text": [
      "Currently at df: 245 | 2021-09-02\n"
     ]
    },
    {
     "name": "stderr",
     "output_type": "stream",
     "text": [
      "245it [23:42,  5.26s/it]"
     ]
    },
    {
     "name": "stdout",
     "output_type": "stream",
     "text": [
      "Currently at df: 246 | 2021-09-03\n"
     ]
    },
    {
     "name": "stderr",
     "output_type": "stream",
     "text": [
      "246it [23:48,  5.24s/it]"
     ]
    },
    {
     "name": "stdout",
     "output_type": "stream",
     "text": [
      "Currently at df: 247 | 2021-09-04\n"
     ]
    },
    {
     "name": "stderr",
     "output_type": "stream",
     "text": [
      "247it [23:53,  5.22s/it]"
     ]
    },
    {
     "name": "stdout",
     "output_type": "stream",
     "text": [
      "Currently at df: 248 | 2021-09-05\n"
     ]
    },
    {
     "name": "stderr",
     "output_type": "stream",
     "text": [
      "248it [23:58,  5.25s/it]"
     ]
    },
    {
     "name": "stdout",
     "output_type": "stream",
     "text": [
      "Currently at df: 249 | 2021-09-06\n"
     ]
    },
    {
     "name": "stderr",
     "output_type": "stream",
     "text": [
      "249it [24:03,  5.19s/it]"
     ]
    },
    {
     "name": "stdout",
     "output_type": "stream",
     "text": [
      "Currently at df: 250 | 2021-09-07\n"
     ]
    },
    {
     "name": "stderr",
     "output_type": "stream",
     "text": [
      "250it [24:08,  5.08s/it]"
     ]
    },
    {
     "name": "stdout",
     "output_type": "stream",
     "text": [
      "Currently at df: 251 | 2021-09-08\n"
     ]
    },
    {
     "name": "stderr",
     "output_type": "stream",
     "text": [
      "251it [24:13,  5.02s/it]"
     ]
    },
    {
     "name": "stdout",
     "output_type": "stream",
     "text": [
      "Currently at df: 252 | 2021-09-09\n"
     ]
    },
    {
     "name": "stderr",
     "output_type": "stream",
     "text": [
      "252it [24:18,  5.10s/it]"
     ]
    },
    {
     "name": "stdout",
     "output_type": "stream",
     "text": [
      "Currently at df: 253 | 2021-09-10\n"
     ]
    },
    {
     "name": "stderr",
     "output_type": "stream",
     "text": [
      "253it [24:24,  5.48s/it]"
     ]
    },
    {
     "name": "stdout",
     "output_type": "stream",
     "text": [
      "Currently at df: 254 | 2021-09-11\n"
     ]
    },
    {
     "name": "stderr",
     "output_type": "stream",
     "text": [
      "254it [24:30,  5.46s/it]"
     ]
    },
    {
     "name": "stdout",
     "output_type": "stream",
     "text": [
      "Currently at df: 255 | 2021-09-12\n"
     ]
    },
    {
     "name": "stderr",
     "output_type": "stream",
     "text": [
      "255it [24:35,  5.37s/it]"
     ]
    },
    {
     "name": "stdout",
     "output_type": "stream",
     "text": [
      "Currently at df: 256 | 2021-09-13\n"
     ]
    },
    {
     "name": "stderr",
     "output_type": "stream",
     "text": [
      "256it [24:40,  5.29s/it]"
     ]
    },
    {
     "name": "stdout",
     "output_type": "stream",
     "text": [
      "Currently at df: 257 | 2021-09-14\n"
     ]
    },
    {
     "name": "stderr",
     "output_type": "stream",
     "text": [
      "257it [24:45,  5.26s/it]"
     ]
    },
    {
     "name": "stdout",
     "output_type": "stream",
     "text": [
      "Currently at df: 258 | 2021-09-15\n"
     ]
    },
    {
     "name": "stderr",
     "output_type": "stream",
     "text": [
      "258it [24:50,  5.21s/it]"
     ]
    },
    {
     "name": "stdout",
     "output_type": "stream",
     "text": [
      "Currently at df: 259 | 2021-09-16\n"
     ]
    },
    {
     "name": "stderr",
     "output_type": "stream",
     "text": [
      "259it [24:56,  5.19s/it]"
     ]
    },
    {
     "name": "stdout",
     "output_type": "stream",
     "text": [
      "Currently at df: 260 | 2021-09-17\n"
     ]
    },
    {
     "name": "stderr",
     "output_type": "stream",
     "text": [
      "260it [25:01,  5.16s/it]"
     ]
    },
    {
     "name": "stdout",
     "output_type": "stream",
     "text": [
      "Currently at df: 261 | 2021-09-18\n"
     ]
    },
    {
     "name": "stderr",
     "output_type": "stream",
     "text": [
      "261it [25:05,  5.01s/it]"
     ]
    },
    {
     "name": "stdout",
     "output_type": "stream",
     "text": [
      "Currently at df: 262 | 2021-09-19\n"
     ]
    },
    {
     "name": "stderr",
     "output_type": "stream",
     "text": [
      "262it [25:11,  5.13s/it]"
     ]
    },
    {
     "name": "stdout",
     "output_type": "stream",
     "text": [
      "Currently at df: 263 | 2021-09-20\n"
     ]
    },
    {
     "name": "stderr",
     "output_type": "stream",
     "text": [
      "263it [25:16,  5.08s/it]"
     ]
    },
    {
     "name": "stdout",
     "output_type": "stream",
     "text": [
      "Currently at df: 264 | 2021-09-21\n"
     ]
    },
    {
     "name": "stderr",
     "output_type": "stream",
     "text": [
      "264it [25:21,  5.08s/it]"
     ]
    },
    {
     "name": "stdout",
     "output_type": "stream",
     "text": [
      "Currently at df: 265 | 2021-09-22\n"
     ]
    },
    {
     "name": "stderr",
     "output_type": "stream",
     "text": [
      "265it [25:26,  5.12s/it]"
     ]
    },
    {
     "name": "stdout",
     "output_type": "stream",
     "text": [
      "Currently at df: 266 | 2021-09-23\n"
     ]
    },
    {
     "name": "stderr",
     "output_type": "stream",
     "text": [
      "266it [25:31,  5.14s/it]"
     ]
    },
    {
     "name": "stdout",
     "output_type": "stream",
     "text": [
      "Currently at df: 267 | 2021-09-24\n"
     ]
    },
    {
     "name": "stderr",
     "output_type": "stream",
     "text": [
      "267it [25:36,  5.18s/it]"
     ]
    },
    {
     "name": "stdout",
     "output_type": "stream",
     "text": [
      "Currently at df: 268 | 2021-09-25\n"
     ]
    },
    {
     "name": "stderr",
     "output_type": "stream",
     "text": [
      "268it [25:42,  5.24s/it]"
     ]
    },
    {
     "name": "stdout",
     "output_type": "stream",
     "text": [
      "Currently at df: 269 | 2021-09-26\n"
     ]
    },
    {
     "name": "stderr",
     "output_type": "stream",
     "text": [
      "269it [25:47,  5.28s/it]"
     ]
    },
    {
     "name": "stdout",
     "output_type": "stream",
     "text": [
      "Currently at df: 270 | 2021-09-27\n"
     ]
    },
    {
     "name": "stderr",
     "output_type": "stream",
     "text": [
      "270it [25:52,  5.27s/it]"
     ]
    },
    {
     "name": "stdout",
     "output_type": "stream",
     "text": [
      "Currently at df: 271 | 2021-09-28\n"
     ]
    },
    {
     "name": "stderr",
     "output_type": "stream",
     "text": [
      "271it [25:58,  5.26s/it]"
     ]
    },
    {
     "name": "stdout",
     "output_type": "stream",
     "text": [
      "Currently at df: 272 | 2021-09-29\n"
     ]
    },
    {
     "name": "stderr",
     "output_type": "stream",
     "text": [
      "272it [26:02,  5.14s/it]"
     ]
    },
    {
     "name": "stdout",
     "output_type": "stream",
     "text": [
      "Currently at df: 273 | 2021-09-30\n"
     ]
    },
    {
     "name": "stderr",
     "output_type": "stream",
     "text": [
      "273it [26:08,  5.18s/it]"
     ]
    },
    {
     "name": "stdout",
     "output_type": "stream",
     "text": [
      "Currently at df: 274 | 2021-10-01\n"
     ]
    },
    {
     "name": "stderr",
     "output_type": "stream",
     "text": [
      "274it [26:13,  5.22s/it]"
     ]
    },
    {
     "name": "stdout",
     "output_type": "stream",
     "text": [
      "Currently at df: 275 | 2021-10-02\n"
     ]
    },
    {
     "name": "stderr",
     "output_type": "stream",
     "text": [
      "275it [26:18,  5.24s/it]"
     ]
    },
    {
     "name": "stdout",
     "output_type": "stream",
     "text": [
      "Currently at df: 276 | 2021-10-03\n"
     ]
    },
    {
     "name": "stderr",
     "output_type": "stream",
     "text": [
      "276it [26:24,  5.23s/it]"
     ]
    },
    {
     "name": "stdout",
     "output_type": "stream",
     "text": [
      "Currently at df: 277 | 2021-10-04\n"
     ]
    },
    {
     "name": "stderr",
     "output_type": "stream",
     "text": [
      "277it [26:29,  5.29s/it]"
     ]
    },
    {
     "name": "stdout",
     "output_type": "stream",
     "text": [
      "Currently at df: 278 | 2021-10-05\n"
     ]
    },
    {
     "name": "stderr",
     "output_type": "stream",
     "text": [
      "278it [26:34,  5.30s/it]"
     ]
    },
    {
     "name": "stdout",
     "output_type": "stream",
     "text": [
      "Currently at df: 279 | 2021-10-06\n"
     ]
    },
    {
     "name": "stderr",
     "output_type": "stream",
     "text": [
      "279it [26:39,  5.17s/it]"
     ]
    },
    {
     "name": "stdout",
     "output_type": "stream",
     "text": [
      "Currently at df: 280 | 2021-10-07\n"
     ]
    },
    {
     "name": "stderr",
     "output_type": "stream",
     "text": [
      "280it [26:44,  5.21s/it]"
     ]
    },
    {
     "name": "stdout",
     "output_type": "stream",
     "text": [
      "Currently at df: 281 | 2021-10-08\n"
     ]
    },
    {
     "name": "stderr",
     "output_type": "stream",
     "text": [
      "281it [26:48,  4.60s/it]"
     ]
    },
    {
     "name": "stdout",
     "output_type": "stream",
     "text": [
      "Currently at df: 282 | 2021-10-09\n"
     ]
    },
    {
     "name": "stderr",
     "output_type": "stream",
     "text": [
      "282it [26:53,  4.80s/it]"
     ]
    },
    {
     "name": "stdout",
     "output_type": "stream",
     "text": [
      "Currently at df: 283 | 2021-10-10\n"
     ]
    },
    {
     "name": "stderr",
     "output_type": "stream",
     "text": [
      "283it [26:58,  4.85s/it]"
     ]
    },
    {
     "name": "stdout",
     "output_type": "stream",
     "text": [
      "Currently at df: 284 | 2021-10-11\n"
     ]
    },
    {
     "name": "stderr",
     "output_type": "stream",
     "text": [
      "284it [27:03,  5.01s/it]"
     ]
    },
    {
     "name": "stdout",
     "output_type": "stream",
     "text": [
      "Currently at df: 285 | 2021-10-12\n"
     ]
    },
    {
     "name": "stderr",
     "output_type": "stream",
     "text": [
      "285it [27:09,  5.12s/it]"
     ]
    },
    {
     "name": "stdout",
     "output_type": "stream",
     "text": [
      "Currently at df: 286 | 2021-10-13\n"
     ]
    },
    {
     "name": "stderr",
     "output_type": "stream",
     "text": [
      "286it [27:14,  5.21s/it]"
     ]
    },
    {
     "name": "stdout",
     "output_type": "stream",
     "text": [
      "Currently at df: 287 | 2021-10-14\n"
     ]
    },
    {
     "name": "stderr",
     "output_type": "stream",
     "text": [
      "287it [27:19,  5.26s/it]"
     ]
    },
    {
     "name": "stdout",
     "output_type": "stream",
     "text": [
      "Currently at df: 288 | 2021-10-15\n"
     ]
    },
    {
     "name": "stderr",
     "output_type": "stream",
     "text": [
      "288it [27:24,  5.20s/it]"
     ]
    },
    {
     "name": "stdout",
     "output_type": "stream",
     "text": [
      "Currently at df: 289 | 2021-10-16\n"
     ]
    },
    {
     "name": "stderr",
     "output_type": "stream",
     "text": [
      "289it [27:30,  5.27s/it]"
     ]
    },
    {
     "name": "stdout",
     "output_type": "stream",
     "text": [
      "Currently at df: 290 | 2021-10-17\n"
     ]
    },
    {
     "name": "stderr",
     "output_type": "stream",
     "text": [
      "290it [27:35,  5.34s/it]"
     ]
    },
    {
     "name": "stdout",
     "output_type": "stream",
     "text": [
      "Currently at df: 291 | 2021-10-18\n"
     ]
    },
    {
     "name": "stderr",
     "output_type": "stream",
     "text": [
      "291it [27:42,  5.77s/it]"
     ]
    },
    {
     "name": "stdout",
     "output_type": "stream",
     "text": [
      "Currently at df: 292 | 2021-10-19\n"
     ]
    },
    {
     "name": "stderr",
     "output_type": "stream",
     "text": [
      "292it [27:49,  6.08s/it]"
     ]
    },
    {
     "name": "stdout",
     "output_type": "stream",
     "text": [
      "Currently at df: 293 | 2021-10-20\n"
     ]
    },
    {
     "name": "stderr",
     "output_type": "stream",
     "text": [
      "293it [27:56,  6.30s/it]"
     ]
    },
    {
     "name": "stdout",
     "output_type": "stream",
     "text": [
      "Currently at df: 294 | 2021-10-21\n"
     ]
    },
    {
     "name": "stderr",
     "output_type": "stream",
     "text": [
      "294it [28:02,  6.41s/it]"
     ]
    },
    {
     "name": "stdout",
     "output_type": "stream",
     "text": [
      "Currently at df: 295 | 2021-10-22\n"
     ]
    },
    {
     "name": "stderr",
     "output_type": "stream",
     "text": [
      "295it [28:09,  6.48s/it]"
     ]
    },
    {
     "name": "stdout",
     "output_type": "stream",
     "text": [
      "Currently at df: 296 | 2021-10-23\n"
     ]
    },
    {
     "name": "stderr",
     "output_type": "stream",
     "text": [
      "296it [28:16,  6.51s/it]"
     ]
    },
    {
     "name": "stdout",
     "output_type": "stream",
     "text": [
      "Currently at df: 297 | 2021-10-24\n"
     ]
    },
    {
     "name": "stderr",
     "output_type": "stream",
     "text": [
      "297it [28:21,  6.23s/it]"
     ]
    },
    {
     "name": "stdout",
     "output_type": "stream",
     "text": [
      "Currently at df: 298 | 2021-10-25\n"
     ]
    },
    {
     "name": "stderr",
     "output_type": "stream",
     "text": [
      "298it [28:27,  5.97s/it]"
     ]
    },
    {
     "name": "stdout",
     "output_type": "stream",
     "text": [
      "Currently at df: 299 | 2021-10-26\n"
     ]
    },
    {
     "name": "stderr",
     "output_type": "stream",
     "text": [
      "299it [28:32,  5.81s/it]"
     ]
    },
    {
     "name": "stdout",
     "output_type": "stream",
     "text": [
      "Currently at df: 300 | 2021-10-27\n"
     ]
    },
    {
     "name": "stderr",
     "output_type": "stream",
     "text": [
      "300it [28:39,  6.07s/it]"
     ]
    },
    {
     "name": "stdout",
     "output_type": "stream",
     "text": [
      "Currently at df: 301 | 2021-10-28\n"
     ]
    },
    {
     "name": "stderr",
     "output_type": "stream",
     "text": [
      "301it [28:45,  6.26s/it]"
     ]
    },
    {
     "name": "stdout",
     "output_type": "stream",
     "text": [
      "Currently at df: 302 | 2021-10-29\n"
     ]
    },
    {
     "name": "stderr",
     "output_type": "stream",
     "text": [
      "302it [28:52,  6.41s/it]"
     ]
    },
    {
     "name": "stdout",
     "output_type": "stream",
     "text": [
      "Currently at df: 303 | 2021-10-30\n"
     ]
    },
    {
     "name": "stderr",
     "output_type": "stream",
     "text": [
      "303it [28:58,  6.12s/it]"
     ]
    },
    {
     "name": "stdout",
     "output_type": "stream",
     "text": [
      "Currently at df: 304 | 2021-10-31\n"
     ]
    },
    {
     "name": "stderr",
     "output_type": "stream",
     "text": [
      "304it [29:03,  5.89s/it]"
     ]
    },
    {
     "name": "stdout",
     "output_type": "stream",
     "text": [
      "Currently at df: 305 | 2021-11-01\n"
     ]
    },
    {
     "name": "stderr",
     "output_type": "stream",
     "text": [
      "305it [29:09,  5.81s/it]"
     ]
    },
    {
     "name": "stdout",
     "output_type": "stream",
     "text": [
      "Currently at df: 306 | 2021-11-02\n"
     ]
    },
    {
     "name": "stderr",
     "output_type": "stream",
     "text": [
      "306it [29:14,  5.70s/it]"
     ]
    },
    {
     "name": "stdout",
     "output_type": "stream",
     "text": [
      "Currently at df: 307 | 2021-11-03\n"
     ]
    },
    {
     "name": "stderr",
     "output_type": "stream",
     "text": [
      "307it [29:20,  5.65s/it]"
     ]
    },
    {
     "name": "stdout",
     "output_type": "stream",
     "text": [
      "Currently at df: 308 | 2021-11-04\n"
     ]
    },
    {
     "name": "stderr",
     "output_type": "stream",
     "text": [
      "308it [29:26,  5.97s/it]"
     ]
    },
    {
     "name": "stdout",
     "output_type": "stream",
     "text": [
      "Currently at df: 309 | 2021-11-05\n"
     ]
    },
    {
     "name": "stderr",
     "output_type": "stream",
     "text": [
      "309it [29:33,  6.20s/it]"
     ]
    },
    {
     "name": "stdout",
     "output_type": "stream",
     "text": [
      "Currently at df: 310 | 2021-11-06\n"
     ]
    },
    {
     "name": "stderr",
     "output_type": "stream",
     "text": [
      "310it [29:40,  6.35s/it]"
     ]
    },
    {
     "name": "stdout",
     "output_type": "stream",
     "text": [
      "Currently at df: 311 | 2021-11-07\n"
     ]
    },
    {
     "name": "stderr",
     "output_type": "stream",
     "text": [
      "311it [29:45,  6.05s/it]"
     ]
    },
    {
     "name": "stdout",
     "output_type": "stream",
     "text": [
      "Currently at df: 312 | 2021-11-08\n"
     ]
    },
    {
     "name": "stderr",
     "output_type": "stream",
     "text": [
      "312it [29:50,  5.78s/it]"
     ]
    },
    {
     "name": "stdout",
     "output_type": "stream",
     "text": [
      "Currently at df: 313 | 2021-11-09\n"
     ]
    },
    {
     "name": "stderr",
     "output_type": "stream",
     "text": [
      "313it [29:56,  5.66s/it]"
     ]
    },
    {
     "name": "stdout",
     "output_type": "stream",
     "text": [
      "Currently at df: 314 | 2021-11-10\n"
     ]
    },
    {
     "name": "stderr",
     "output_type": "stream",
     "text": [
      "314it [30:01,  5.66s/it]"
     ]
    },
    {
     "name": "stdout",
     "output_type": "stream",
     "text": [
      "Currently at df: 315 | 2021-11-11\n"
     ]
    },
    {
     "name": "stderr",
     "output_type": "stream",
     "text": [
      "315it [30:08,  5.98s/it]"
     ]
    },
    {
     "name": "stdout",
     "output_type": "stream",
     "text": [
      "Currently at df: 316 | 2021-11-12\n"
     ]
    },
    {
     "name": "stderr",
     "output_type": "stream",
     "text": [
      "316it [30:15,  6.18s/it]"
     ]
    },
    {
     "name": "stdout",
     "output_type": "stream",
     "text": [
      "Currently at df: 317 | 2021-11-13\n"
     ]
    },
    {
     "name": "stderr",
     "output_type": "stream",
     "text": [
      "317it [30:20,  6.01s/it]"
     ]
    },
    {
     "name": "stdout",
     "output_type": "stream",
     "text": [
      "Currently at df: 318 | 2021-11-14\n"
     ]
    },
    {
     "name": "stderr",
     "output_type": "stream",
     "text": [
      "318it [30:26,  5.77s/it]"
     ]
    },
    {
     "name": "stdout",
     "output_type": "stream",
     "text": [
      "Currently at df: 319 | 2021-11-15\n"
     ]
    },
    {
     "name": "stderr",
     "output_type": "stream",
     "text": [
      "319it [30:31,  5.57s/it]"
     ]
    },
    {
     "name": "stdout",
     "output_type": "stream",
     "text": [
      "Currently at df: 320 | 2021-11-16\n"
     ]
    },
    {
     "name": "stderr",
     "output_type": "stream",
     "text": [
      "320it [30:36,  5.45s/it]"
     ]
    },
    {
     "name": "stdout",
     "output_type": "stream",
     "text": [
      "Currently at df: 321 | 2021-11-17\n"
     ]
    },
    {
     "name": "stderr",
     "output_type": "stream",
     "text": [
      "321it [30:41,  5.29s/it]"
     ]
    },
    {
     "name": "stdout",
     "output_type": "stream",
     "text": [
      "Currently at df: 322 | 2021-11-18\n"
     ]
    },
    {
     "name": "stderr",
     "output_type": "stream",
     "text": [
      "322it [30:48,  5.75s/it]"
     ]
    },
    {
     "name": "stdout",
     "output_type": "stream",
     "text": [
      "Currently at df: 323 | 2021-11-19\n"
     ]
    },
    {
     "name": "stderr",
     "output_type": "stream",
     "text": [
      "323it [30:54,  6.04s/it]"
     ]
    },
    {
     "name": "stdout",
     "output_type": "stream",
     "text": [
      "Currently at df: 324 | 2021-11-20\n"
     ]
    },
    {
     "name": "stderr",
     "output_type": "stream",
     "text": [
      "324it [30:59,  5.69s/it]"
     ]
    },
    {
     "name": "stdout",
     "output_type": "stream",
     "text": [
      "Currently at df: 325 | 2021-11-21\n"
     ]
    },
    {
     "name": "stderr",
     "output_type": "stream",
     "text": [
      "325it [31:04,  5.49s/it]"
     ]
    },
    {
     "name": "stdout",
     "output_type": "stream",
     "text": [
      "Currently at df: 326 | 2021-11-22\n"
     ]
    },
    {
     "name": "stderr",
     "output_type": "stream",
     "text": [
      "326it [31:10,  5.46s/it]"
     ]
    },
    {
     "name": "stdout",
     "output_type": "stream",
     "text": [
      "Currently at df: 327 | 2021-11-23\n"
     ]
    },
    {
     "name": "stderr",
     "output_type": "stream",
     "text": [
      "327it [31:15,  5.38s/it]"
     ]
    },
    {
     "name": "stdout",
     "output_type": "stream",
     "text": [
      "Currently at df: 328 | 2021-11-24\n"
     ]
    },
    {
     "name": "stderr",
     "output_type": "stream",
     "text": [
      "328it [31:21,  5.78s/it]"
     ]
    },
    {
     "name": "stdout",
     "output_type": "stream",
     "text": [
      "Currently at df: 329 | 2021-11-25\n"
     ]
    },
    {
     "name": "stderr",
     "output_type": "stream",
     "text": [
      "329it [31:28,  6.05s/it]"
     ]
    },
    {
     "name": "stdout",
     "output_type": "stream",
     "text": [
      "Currently at df: 330 | 2021-11-26\n"
     ]
    },
    {
     "name": "stderr",
     "output_type": "stream",
     "text": [
      "330it [31:35,  6.24s/it]"
     ]
    },
    {
     "name": "stdout",
     "output_type": "stream",
     "text": [
      "Currently at df: 331 | 2021-11-27\n"
     ]
    },
    {
     "name": "stderr",
     "output_type": "stream",
     "text": [
      "331it [31:40,  5.98s/it]"
     ]
    },
    {
     "name": "stdout",
     "output_type": "stream",
     "text": [
      "Currently at df: 332 | 2021-11-28\n"
     ]
    },
    {
     "name": "stderr",
     "output_type": "stream",
     "text": [
      "332it [31:45,  5.72s/it]"
     ]
    },
    {
     "name": "stdout",
     "output_type": "stream",
     "text": [
      "Currently at df: 333 | 2021-11-29\n"
     ]
    },
    {
     "name": "stderr",
     "output_type": "stream",
     "text": [
      "333it [31:51,  5.60s/it]"
     ]
    },
    {
     "name": "stdout",
     "output_type": "stream",
     "text": [
      "Currently at df: 334 | 2021-11-30\n"
     ]
    },
    {
     "name": "stderr",
     "output_type": "stream",
     "text": [
      "334it [31:56,  5.46s/it]"
     ]
    },
    {
     "name": "stdout",
     "output_type": "stream",
     "text": [
      "Currently at df: 335 | 2021-12-01\n"
     ]
    },
    {
     "name": "stderr",
     "output_type": "stream",
     "text": [
      "335it [32:01,  5.47s/it]"
     ]
    },
    {
     "name": "stdout",
     "output_type": "stream",
     "text": [
      "Currently at df: 336 | 2021-12-02\n"
     ]
    },
    {
     "name": "stderr",
     "output_type": "stream",
     "text": [
      "336it [32:07,  5.43s/it]"
     ]
    },
    {
     "name": "stdout",
     "output_type": "stream",
     "text": [
      "Currently at df: 337 | 2021-12-03\n"
     ]
    },
    {
     "name": "stderr",
     "output_type": "stream",
     "text": [
      "337it [32:12,  5.36s/it]"
     ]
    },
    {
     "name": "stdout",
     "output_type": "stream",
     "text": [
      "Currently at df: 338 | 2021-12-04\n"
     ]
    },
    {
     "name": "stderr",
     "output_type": "stream",
     "text": [
      "338it [32:17,  5.30s/it]"
     ]
    },
    {
     "name": "stdout",
     "output_type": "stream",
     "text": [
      "Currently at df: 339 | 2021-12-05\n"
     ]
    },
    {
     "name": "stderr",
     "output_type": "stream",
     "text": [
      "339it [32:22,  5.33s/it]"
     ]
    },
    {
     "name": "stdout",
     "output_type": "stream",
     "text": [
      "Currently at df: 340 | 2021-12-06\n"
     ]
    },
    {
     "name": "stderr",
     "output_type": "stream",
     "text": [
      "340it [32:28,  5.32s/it]"
     ]
    },
    {
     "name": "stdout",
     "output_type": "stream",
     "text": [
      "Currently at df: 341 | 2021-12-07\n"
     ]
    },
    {
     "name": "stderr",
     "output_type": "stream",
     "text": [
      "341it [32:33,  5.31s/it]"
     ]
    },
    {
     "name": "stdout",
     "output_type": "stream",
     "text": [
      "Currently at df: 342 | 2021-12-08\n"
     ]
    },
    {
     "name": "stderr",
     "output_type": "stream",
     "text": [
      "342it [32:38,  5.34s/it]"
     ]
    },
    {
     "name": "stdout",
     "output_type": "stream",
     "text": [
      "Currently at df: 343 | 2021-12-09\n"
     ]
    },
    {
     "name": "stderr",
     "output_type": "stream",
     "text": [
      "343it [32:44,  5.36s/it]"
     ]
    },
    {
     "name": "stdout",
     "output_type": "stream",
     "text": [
      "Currently at df: 344 | 2021-12-10\n"
     ]
    },
    {
     "name": "stderr",
     "output_type": "stream",
     "text": [
      "344it [32:49,  5.41s/it]"
     ]
    },
    {
     "name": "stdout",
     "output_type": "stream",
     "text": [
      "Currently at df: 345 | 2021-12-11\n"
     ]
    },
    {
     "name": "stderr",
     "output_type": "stream",
     "text": [
      "345it [32:56,  5.82s/it]"
     ]
    },
    {
     "name": "stdout",
     "output_type": "stream",
     "text": [
      "Currently at df: 346 | 2021-12-12\n"
     ]
    },
    {
     "name": "stderr",
     "output_type": "stream",
     "text": [
      "346it [33:01,  5.68s/it]"
     ]
    },
    {
     "name": "stdout",
     "output_type": "stream",
     "text": [
      "Currently at df: 347 | 2021-12-13\n"
     ]
    },
    {
     "name": "stderr",
     "output_type": "stream",
     "text": [
      "347it [33:06,  5.49s/it]"
     ]
    },
    {
     "name": "stdout",
     "output_type": "stream",
     "text": [
      "Currently at df: 348 | 2021-12-14\n"
     ]
    },
    {
     "name": "stderr",
     "output_type": "stream",
     "text": [
      "348it [33:12,  5.37s/it]"
     ]
    },
    {
     "name": "stdout",
     "output_type": "stream",
     "text": [
      "Currently at df: 349 | 2021-12-15\n"
     ]
    },
    {
     "name": "stderr",
     "output_type": "stream",
     "text": [
      "349it [33:17,  5.26s/it]"
     ]
    },
    {
     "name": "stdout",
     "output_type": "stream",
     "text": [
      "Currently at df: 350 | 2021-12-16\n"
     ]
    },
    {
     "name": "stderr",
     "output_type": "stream",
     "text": [
      "350it [33:21,  5.16s/it]"
     ]
    },
    {
     "name": "stdout",
     "output_type": "stream",
     "text": [
      "Currently at df: 351 | 2021-12-17\n"
     ]
    },
    {
     "name": "stderr",
     "output_type": "stream",
     "text": [
      "351it [33:28,  5.63s/it]"
     ]
    },
    {
     "name": "stdout",
     "output_type": "stream",
     "text": [
      "Currently at df: 352 | 2021-12-18\n"
     ]
    },
    {
     "name": "stderr",
     "output_type": "stream",
     "text": [
      "352it [33:34,  5.55s/it]"
     ]
    },
    {
     "name": "stdout",
     "output_type": "stream",
     "text": [
      "Currently at df: 353 | 2021-12-19\n"
     ]
    },
    {
     "name": "stderr",
     "output_type": "stream",
     "text": [
      "353it [33:39,  5.48s/it]"
     ]
    },
    {
     "name": "stdout",
     "output_type": "stream",
     "text": [
      "Currently at df: 354 | 2021-12-20\n"
     ]
    },
    {
     "name": "stderr",
     "output_type": "stream",
     "text": [
      "354it [33:44,  5.37s/it]"
     ]
    },
    {
     "name": "stdout",
     "output_type": "stream",
     "text": [
      "Currently at df: 355 | 2021-12-21\n"
     ]
    },
    {
     "name": "stderr",
     "output_type": "stream",
     "text": [
      "355it [33:49,  5.39s/it]"
     ]
    },
    {
     "name": "stdout",
     "output_type": "stream",
     "text": [
      "Currently at df: 356 | 2021-12-22\n"
     ]
    },
    {
     "name": "stderr",
     "output_type": "stream",
     "text": [
      "356it [33:55,  5.40s/it]"
     ]
    },
    {
     "name": "stdout",
     "output_type": "stream",
     "text": [
      "Currently at df: 357 | 2021-12-23\n"
     ]
    },
    {
     "name": "stderr",
     "output_type": "stream",
     "text": [
      "357it [34:00,  5.34s/it]"
     ]
    },
    {
     "name": "stdout",
     "output_type": "stream",
     "text": [
      "Currently at df: 358 | 2021-12-24\n"
     ]
    },
    {
     "name": "stderr",
     "output_type": "stream",
     "text": [
      "358it [34:05,  5.28s/it]"
     ]
    },
    {
     "name": "stdout",
     "output_type": "stream",
     "text": [
      "Currently at df: 359 | 2021-12-25\n"
     ]
    },
    {
     "name": "stderr",
     "output_type": "stream",
     "text": [
      "359it [34:10,  5.21s/it]"
     ]
    },
    {
     "name": "stdout",
     "output_type": "stream",
     "text": [
      "Currently at df: 360 | 2021-12-26\n"
     ]
    },
    {
     "name": "stderr",
     "output_type": "stream",
     "text": [
      "360it [34:16,  5.24s/it]"
     ]
    },
    {
     "name": "stdout",
     "output_type": "stream",
     "text": [
      "Currently at df: 361 | 2021-12-27\n"
     ]
    },
    {
     "name": "stderr",
     "output_type": "stream",
     "text": [
      "361it [34:20,  5.11s/it]"
     ]
    },
    {
     "name": "stdout",
     "output_type": "stream",
     "text": [
      "Currently at df: 362 | 2021-12-28\n"
     ]
    },
    {
     "name": "stderr",
     "output_type": "stream",
     "text": [
      "362it [34:26,  5.21s/it]"
     ]
    },
    {
     "name": "stdout",
     "output_type": "stream",
     "text": [
      "Currently at df: 363 | 2021-12-29\n"
     ]
    },
    {
     "name": "stderr",
     "output_type": "stream",
     "text": [
      "363it [34:32,  5.64s/it]"
     ]
    },
    {
     "name": "stdout",
     "output_type": "stream",
     "text": [
      "Currently at df: 364 | 2021-12-30\n"
     ]
    },
    {
     "name": "stderr",
     "output_type": "stream",
     "text": [
      "364it [34:39,  5.90s/it]"
     ]
    },
    {
     "name": "stdout",
     "output_type": "stream",
     "text": [
      "Currently at df: 365 | 2021-12-31\n"
     ]
    },
    {
     "name": "stderr",
     "output_type": "stream",
     "text": [
      "365it [34:44,  5.70s/it]"
     ]
    },
    {
     "name": "stdout",
     "output_type": "stream",
     "text": [
      "Currently at df: 366 | 2022-01-01\n"
     ]
    },
    {
     "name": "stderr",
     "output_type": "stream",
     "text": [
      "366it [34:49,  5.59s/it]"
     ]
    },
    {
     "name": "stdout",
     "output_type": "stream",
     "text": [
      "Currently at df: 367 | 2022-01-02\n"
     ]
    },
    {
     "name": "stderr",
     "output_type": "stream",
     "text": [
      "367it [34:55,  5.58s/it]"
     ]
    },
    {
     "name": "stdout",
     "output_type": "stream",
     "text": [
      "Currently at df: 368 | 2022-01-03\n"
     ]
    },
    {
     "name": "stderr",
     "output_type": "stream",
     "text": [
      "368it [35:00,  5.49s/it]"
     ]
    },
    {
     "name": "stdout",
     "output_type": "stream",
     "text": [
      "Currently at df: 369 | 2022-01-04\n"
     ]
    },
    {
     "name": "stderr",
     "output_type": "stream",
     "text": [
      "369it [35:06,  5.43s/it]"
     ]
    },
    {
     "name": "stdout",
     "output_type": "stream",
     "text": [
      "Currently at df: 370 | 2022-01-05\n"
     ]
    },
    {
     "name": "stderr",
     "output_type": "stream",
     "text": [
      "370it [35:11,  5.36s/it]"
     ]
    },
    {
     "name": "stdout",
     "output_type": "stream",
     "text": [
      "Currently at df: 371 | 2022-01-06\n"
     ]
    },
    {
     "name": "stderr",
     "output_type": "stream",
     "text": [
      "371it [35:16,  5.36s/it]"
     ]
    },
    {
     "name": "stdout",
     "output_type": "stream",
     "text": [
      "Currently at df: 372 | 2022-01-07\n"
     ]
    },
    {
     "name": "stderr",
     "output_type": "stream",
     "text": [
      "372it [35:22,  5.35s/it]"
     ]
    },
    {
     "name": "stdout",
     "output_type": "stream",
     "text": [
      "Currently at df: 373 | 2022-01-08\n"
     ]
    },
    {
     "name": "stderr",
     "output_type": "stream",
     "text": [
      "373it [35:27,  5.27s/it]"
     ]
    },
    {
     "name": "stdout",
     "output_type": "stream",
     "text": [
      "Currently at df: 374 | 2022-01-09\n"
     ]
    },
    {
     "name": "stderr",
     "output_type": "stream",
     "text": [
      "374it [35:32,  5.22s/it]"
     ]
    },
    {
     "name": "stdout",
     "output_type": "stream",
     "text": [
      "Currently at df: 375 | 2022-01-10\n"
     ]
    },
    {
     "name": "stderr",
     "output_type": "stream",
     "text": [
      "375it [35:37,  5.28s/it]"
     ]
    },
    {
     "name": "stdout",
     "output_type": "stream",
     "text": [
      "Currently at df: 376 | 2022-01-11\n"
     ]
    },
    {
     "name": "stderr",
     "output_type": "stream",
     "text": [
      "376it [35:44,  5.66s/it]"
     ]
    },
    {
     "name": "stdout",
     "output_type": "stream",
     "text": [
      "Currently at df: 377 | 2022-01-12\n"
     ]
    },
    {
     "name": "stderr",
     "output_type": "stream",
     "text": [
      "377it [35:50,  5.93s/it]"
     ]
    },
    {
     "name": "stdout",
     "output_type": "stream",
     "text": [
      "Currently at df: 378 | 2022-01-13\n"
     ]
    },
    {
     "name": "stderr",
     "output_type": "stream",
     "text": [
      "378it [35:57,  6.09s/it]"
     ]
    },
    {
     "name": "stdout",
     "output_type": "stream",
     "text": [
      "Currently at df: 379 | 2022-01-14\n"
     ]
    },
    {
     "name": "stderr",
     "output_type": "stream",
     "text": [
      "379it [36:03,  6.25s/it]"
     ]
    },
    {
     "name": "stdout",
     "output_type": "stream",
     "text": [
      "Currently at df: 380 | 2022-01-15\n"
     ]
    },
    {
     "name": "stderr",
     "output_type": "stream",
     "text": [
      "380it [36:09,  5.94s/it]"
     ]
    },
    {
     "name": "stdout",
     "output_type": "stream",
     "text": [
      "Currently at df: 381 | 2022-01-16\n"
     ]
    },
    {
     "name": "stderr",
     "output_type": "stream",
     "text": [
      "381it [36:14,  5.78s/it]"
     ]
    },
    {
     "name": "stdout",
     "output_type": "stream",
     "text": [
      "Currently at df: 382 | 2022-01-17\n"
     ]
    },
    {
     "name": "stderr",
     "output_type": "stream",
     "text": [
      "382it [36:19,  5.59s/it]"
     ]
    },
    {
     "name": "stdout",
     "output_type": "stream",
     "text": [
      "Currently at df: 383 | 2022-01-18\n"
     ]
    },
    {
     "name": "stderr",
     "output_type": "stream",
     "text": [
      "383it [36:24,  5.47s/it]"
     ]
    },
    {
     "name": "stdout",
     "output_type": "stream",
     "text": [
      "Currently at df: 384 | 2022-01-19\n"
     ]
    },
    {
     "name": "stderr",
     "output_type": "stream",
     "text": [
      "384it [36:31,  5.75s/it]"
     ]
    },
    {
     "name": "stdout",
     "output_type": "stream",
     "text": [
      "Currently at df: 385 | 2022-01-20\n"
     ]
    },
    {
     "name": "stderr",
     "output_type": "stream",
     "text": [
      "385it [36:37,  5.99s/it]"
     ]
    },
    {
     "name": "stdout",
     "output_type": "stream",
     "text": [
      "Currently at df: 386 | 2022-01-21\n"
     ]
    },
    {
     "name": "stderr",
     "output_type": "stream",
     "text": [
      "386it [36:44,  6.15s/it]"
     ]
    },
    {
     "name": "stdout",
     "output_type": "stream",
     "text": [
      "Currently at df: 387 | 2022-01-22\n"
     ]
    },
    {
     "name": "stderr",
     "output_type": "stream",
     "text": [
      "387it [36:50,  6.25s/it]"
     ]
    },
    {
     "name": "stdout",
     "output_type": "stream",
     "text": [
      "Currently at df: 388 | 2022-01-23\n"
     ]
    },
    {
     "name": "stderr",
     "output_type": "stream",
     "text": [
      "388it [36:56,  5.97s/it]"
     ]
    },
    {
     "name": "stdout",
     "output_type": "stream",
     "text": [
      "Currently at df: 389 | 2022-01-24\n"
     ]
    },
    {
     "name": "stderr",
     "output_type": "stream",
     "text": [
      "389it [37:01,  5.76s/it]"
     ]
    },
    {
     "name": "stdout",
     "output_type": "stream",
     "text": [
      "Currently at df: 390 | 2022-01-25\n"
     ]
    },
    {
     "name": "stderr",
     "output_type": "stream",
     "text": [
      "390it [37:06,  5.63s/it]"
     ]
    },
    {
     "name": "stdout",
     "output_type": "stream",
     "text": [
      "Currently at df: 391 | 2022-01-26\n"
     ]
    },
    {
     "name": "stderr",
     "output_type": "stream",
     "text": [
      "391it [37:11,  5.43s/it]"
     ]
    },
    {
     "name": "stdout",
     "output_type": "stream",
     "text": [
      "Currently at df: 392 | 2022-01-27\n"
     ]
    },
    {
     "name": "stderr",
     "output_type": "stream",
     "text": [
      "392it [37:16,  5.40s/it]"
     ]
    },
    {
     "name": "stdout",
     "output_type": "stream",
     "text": [
      "Currently at df: 393 | 2022-01-28\n"
     ]
    },
    {
     "name": "stderr",
     "output_type": "stream",
     "text": [
      "393it [37:22,  5.35s/it]"
     ]
    },
    {
     "name": "stdout",
     "output_type": "stream",
     "text": [
      "Currently at df: 394 | 2022-01-29\n"
     ]
    },
    {
     "name": "stderr",
     "output_type": "stream",
     "text": [
      "394it [37:27,  5.29s/it]"
     ]
    },
    {
     "name": "stdout",
     "output_type": "stream",
     "text": [
      "Currently at df: 395 | 2022-01-30\n"
     ]
    },
    {
     "name": "stderr",
     "output_type": "stream",
     "text": [
      "395it [37:32,  5.28s/it]"
     ]
    },
    {
     "name": "stdout",
     "output_type": "stream",
     "text": [
      "Currently at df: 396 | 2022-01-31\n"
     ]
    },
    {
     "name": "stderr",
     "output_type": "stream",
     "text": [
      "396it [37:38,  5.33s/it]"
     ]
    },
    {
     "name": "stdout",
     "output_type": "stream",
     "text": [
      "Currently at df: 397 | 2022-02-01\n"
     ]
    },
    {
     "name": "stderr",
     "output_type": "stream",
     "text": [
      "397it [37:43,  5.33s/it]"
     ]
    },
    {
     "name": "stdout",
     "output_type": "stream",
     "text": [
      "Currently at df: 398 | 2022-02-02\n"
     ]
    },
    {
     "name": "stderr",
     "output_type": "stream",
     "text": [
      "398it [37:48,  5.30s/it]"
     ]
    },
    {
     "name": "stdout",
     "output_type": "stream",
     "text": [
      "Currently at df: 399 | 2022-02-03\n"
     ]
    },
    {
     "name": "stderr",
     "output_type": "stream",
     "text": [
      "399it [37:54,  5.33s/it]"
     ]
    },
    {
     "name": "stdout",
     "output_type": "stream",
     "text": [
      "Currently at df: 400 | 2022-02-04\n"
     ]
    },
    {
     "name": "stderr",
     "output_type": "stream",
     "text": [
      "400it [37:59,  5.24s/it]"
     ]
    },
    {
     "name": "stdout",
     "output_type": "stream",
     "text": [
      "Currently at df: 401 | 2022-02-05\n"
     ]
    },
    {
     "name": "stderr",
     "output_type": "stream",
     "text": [
      "401it [38:04,  5.23s/it]"
     ]
    },
    {
     "name": "stdout",
     "output_type": "stream",
     "text": [
      "Currently at df: 402 | 2022-02-06\n"
     ]
    },
    {
     "name": "stderr",
     "output_type": "stream",
     "text": [
      "402it [38:09,  5.17s/it]"
     ]
    },
    {
     "name": "stdout",
     "output_type": "stream",
     "text": [
      "Currently at df: 403 | 2022-02-07\n"
     ]
    },
    {
     "name": "stderr",
     "output_type": "stream",
     "text": [
      "403it [38:14,  5.21s/it]"
     ]
    },
    {
     "name": "stdout",
     "output_type": "stream",
     "text": [
      "Currently at df: 404 | 2022-02-08\n"
     ]
    },
    {
     "name": "stderr",
     "output_type": "stream",
     "text": [
      "404it [38:19,  5.14s/it]"
     ]
    },
    {
     "name": "stdout",
     "output_type": "stream",
     "text": [
      "Currently at df: 405 | 2022-02-09\n"
     ]
    },
    {
     "name": "stderr",
     "output_type": "stream",
     "text": [
      "405it [38:26,  5.56s/it]"
     ]
    },
    {
     "name": "stdout",
     "output_type": "stream",
     "text": [
      "Currently at df: 406 | 2022-02-10\n"
     ]
    },
    {
     "name": "stderr",
     "output_type": "stream",
     "text": [
      "406it [38:31,  5.50s/it]"
     ]
    },
    {
     "name": "stdout",
     "output_type": "stream",
     "text": [
      "Currently at df: 407 | 2022-02-11\n"
     ]
    },
    {
     "name": "stderr",
     "output_type": "stream",
     "text": [
      "407it [38:36,  5.39s/it]"
     ]
    },
    {
     "name": "stdout",
     "output_type": "stream",
     "text": [
      "Currently at df: 408 | 2022-02-12\n"
     ]
    },
    {
     "name": "stderr",
     "output_type": "stream",
     "text": [
      "408it [38:42,  5.41s/it]"
     ]
    },
    {
     "name": "stdout",
     "output_type": "stream",
     "text": [
      "Currently at df: 409 | 2022-02-13\n"
     ]
    },
    {
     "name": "stderr",
     "output_type": "stream",
     "text": [
      "409it [38:47,  5.36s/it]"
     ]
    },
    {
     "name": "stdout",
     "output_type": "stream",
     "text": [
      "Currently at df: 410 | 2022-02-14\n"
     ]
    },
    {
     "name": "stderr",
     "output_type": "stream",
     "text": [
      "410it [38:53,  5.72s/it]"
     ]
    },
    {
     "name": "stdout",
     "output_type": "stream",
     "text": [
      "Currently at df: 411 | 2022-02-15\n"
     ]
    },
    {
     "name": "stderr",
     "output_type": "stream",
     "text": [
      "411it [39:00,  5.96s/it]"
     ]
    },
    {
     "name": "stdout",
     "output_type": "stream",
     "text": [
      "Currently at df: 412 | 2022-02-16\n"
     ]
    },
    {
     "name": "stderr",
     "output_type": "stream",
     "text": [
      "412it [39:06,  6.15s/it]"
     ]
    },
    {
     "name": "stdout",
     "output_type": "stream",
     "text": [
      "Currently at df: 413 | 2022-02-17\n"
     ]
    },
    {
     "name": "stderr",
     "output_type": "stream",
     "text": [
      "413it [39:13,  6.31s/it]"
     ]
    },
    {
     "name": "stdout",
     "output_type": "stream",
     "text": [
      "Currently at df: 414 | 2022-02-18\n"
     ]
    },
    {
     "name": "stderr",
     "output_type": "stream",
     "text": [
      "414it [39:20,  6.40s/it]"
     ]
    },
    {
     "name": "stdout",
     "output_type": "stream",
     "text": [
      "Currently at df: 415 | 2022-02-19\n"
     ]
    },
    {
     "name": "stderr",
     "output_type": "stream",
     "text": [
      "415it [39:25,  6.18s/it]"
     ]
    },
    {
     "name": "stdout",
     "output_type": "stream",
     "text": [
      "Currently at df: 416 | 2022-02-20\n"
     ]
    },
    {
     "name": "stderr",
     "output_type": "stream",
     "text": [
      "416it [39:31,  5.99s/it]"
     ]
    },
    {
     "name": "stdout",
     "output_type": "stream",
     "text": [
      "Currently at df: 417 | 2022-02-21\n"
     ]
    },
    {
     "name": "stderr",
     "output_type": "stream",
     "text": [
      "417it [39:36,  5.84s/it]"
     ]
    },
    {
     "name": "stdout",
     "output_type": "stream",
     "text": [
      "Currently at df: 418 | 2022-02-22\n"
     ]
    },
    {
     "name": "stderr",
     "output_type": "stream",
     "text": [
      "418it [39:42,  5.71s/it]"
     ]
    },
    {
     "name": "stdout",
     "output_type": "stream",
     "text": [
      "Currently at df: 419 | 2022-02-23\n"
     ]
    },
    {
     "name": "stderr",
     "output_type": "stream",
     "text": [
      "419it [39:47,  5.59s/it]"
     ]
    },
    {
     "name": "stdout",
     "output_type": "stream",
     "text": [
      "Currently at df: 420 | 2022-02-24\n"
     ]
    },
    {
     "name": "stderr",
     "output_type": "stream",
     "text": [
      "420it [39:52,  5.46s/it]"
     ]
    },
    {
     "name": "stdout",
     "output_type": "stream",
     "text": [
      "Currently at df: 421 | 2022-02-25\n"
     ]
    },
    {
     "name": "stderr",
     "output_type": "stream",
     "text": [
      "421it [39:58,  5.40s/it]"
     ]
    },
    {
     "name": "stdout",
     "output_type": "stream",
     "text": [
      "Currently at df: 422 | 2022-02-26\n"
     ]
    },
    {
     "name": "stderr",
     "output_type": "stream",
     "text": [
      "422it [40:03,  5.36s/it]"
     ]
    },
    {
     "name": "stdout",
     "output_type": "stream",
     "text": [
      "Currently at df: 423 | 2022-02-27\n"
     ]
    },
    {
     "name": "stderr",
     "output_type": "stream",
     "text": [
      "423it [40:08,  5.33s/it]"
     ]
    },
    {
     "name": "stdout",
     "output_type": "stream",
     "text": [
      "Currently at df: 424 | 2022-02-28\n"
     ]
    },
    {
     "name": "stderr",
     "output_type": "stream",
     "text": [
      "424it [40:13,  5.22s/it]"
     ]
    },
    {
     "name": "stdout",
     "output_type": "stream",
     "text": [
      "Currently at df: 425 | 2022-03-01\n"
     ]
    },
    {
     "name": "stderr",
     "output_type": "stream",
     "text": [
      "425it [40:18,  5.19s/it]"
     ]
    },
    {
     "name": "stdout",
     "output_type": "stream",
     "text": [
      "Currently at df: 426 | 2022-03-02\n"
     ]
    },
    {
     "name": "stderr",
     "output_type": "stream",
     "text": [
      "426it [40:25,  5.61s/it]"
     ]
    },
    {
     "name": "stdout",
     "output_type": "stream",
     "text": [
      "Currently at df: 427 | 2022-03-03\n"
     ]
    },
    {
     "name": "stderr",
     "output_type": "stream",
     "text": [
      "427it [40:30,  5.45s/it]"
     ]
    },
    {
     "name": "stdout",
     "output_type": "stream",
     "text": [
      "Currently at df: 428 | 2022-03-04\n"
     ]
    },
    {
     "name": "stderr",
     "output_type": "stream",
     "text": [
      "428it [40:35,  5.39s/it]"
     ]
    },
    {
     "name": "stdout",
     "output_type": "stream",
     "text": [
      "Currently at df: 429 | 2022-03-05\n"
     ]
    },
    {
     "name": "stderr",
     "output_type": "stream",
     "text": [
      "429it [40:41,  5.44s/it]"
     ]
    },
    {
     "name": "stdout",
     "output_type": "stream",
     "text": [
      "Currently at df: 430 | 2022-03-06\n"
     ]
    },
    {
     "name": "stderr",
     "output_type": "stream",
     "text": [
      "430it [40:47,  5.82s/it]"
     ]
    },
    {
     "name": "stdout",
     "output_type": "stream",
     "text": [
      "Currently at df: 431 | 2022-03-07\n"
     ]
    },
    {
     "name": "stderr",
     "output_type": "stream",
     "text": [
      "431it [40:54,  6.05s/it]"
     ]
    },
    {
     "name": "stdout",
     "output_type": "stream",
     "text": [
      "Currently at df: 432 | 2022-03-08\n"
     ]
    },
    {
     "name": "stderr",
     "output_type": "stream",
     "text": [
      "432it [41:01,  6.22s/it]"
     ]
    },
    {
     "name": "stdout",
     "output_type": "stream",
     "text": [
      "Currently at df: 433 | 2022-03-09\n"
     ]
    },
    {
     "name": "stderr",
     "output_type": "stream",
     "text": [
      "433it [41:07,  6.36s/it]"
     ]
    },
    {
     "name": "stdout",
     "output_type": "stream",
     "text": [
      "Currently at df: 434 | 2022-03-10\n"
     ]
    },
    {
     "name": "stderr",
     "output_type": "stream",
     "text": [
      "434it [41:14,  6.46s/it]"
     ]
    },
    {
     "name": "stdout",
     "output_type": "stream",
     "text": [
      "Currently at df: 435 | 2022-03-11\n"
     ]
    },
    {
     "name": "stderr",
     "output_type": "stream",
     "text": [
      "435it [41:19,  6.18s/it]"
     ]
    },
    {
     "name": "stdout",
     "output_type": "stream",
     "text": [
      "Currently at df: 436 | 2022-03-12\n"
     ]
    },
    {
     "name": "stderr",
     "output_type": "stream",
     "text": [
      "436it [41:25,  5.98s/it]"
     ]
    },
    {
     "name": "stdout",
     "output_type": "stream",
     "text": [
      "Currently at df: 437 | 2022-03-13\n"
     ]
    },
    {
     "name": "stderr",
     "output_type": "stream",
     "text": [
      "437it [41:30,  5.75s/it]"
     ]
    },
    {
     "name": "stdout",
     "output_type": "stream",
     "text": [
      "Currently at df: 438 | 2022-03-14\n"
     ]
    },
    {
     "name": "stderr",
     "output_type": "stream",
     "text": [
      "438it [41:37,  5.99s/it]"
     ]
    },
    {
     "name": "stdout",
     "output_type": "stream",
     "text": [
      "Currently at df: 439 | 2022-03-15\n"
     ]
    },
    {
     "name": "stderr",
     "output_type": "stream",
     "text": [
      "439it [41:43,  6.18s/it]"
     ]
    },
    {
     "name": "stdout",
     "output_type": "stream",
     "text": [
      "Currently at df: 440 | 2022-03-16\n"
     ]
    },
    {
     "name": "stderr",
     "output_type": "stream",
     "text": [
      "440it [41:50,  6.30s/it]"
     ]
    },
    {
     "name": "stdout",
     "output_type": "stream",
     "text": [
      "Currently at df: 441 | 2022-03-17\n"
     ]
    },
    {
     "name": "stderr",
     "output_type": "stream",
     "text": [
      "441it [41:57,  6.39s/it]"
     ]
    },
    {
     "name": "stdout",
     "output_type": "stream",
     "text": [
      "Currently at df: 442 | 2022-03-18\n"
     ]
    },
    {
     "name": "stderr",
     "output_type": "stream",
     "text": [
      "442it [42:03,  6.44s/it]"
     ]
    },
    {
     "name": "stdout",
     "output_type": "stream",
     "text": [
      "Currently at df: 443 | 2022-03-19\n"
     ]
    },
    {
     "name": "stderr",
     "output_type": "stream",
     "text": [
      "443it [42:10,  6.52s/it]"
     ]
    },
    {
     "name": "stdout",
     "output_type": "stream",
     "text": [
      "Currently at df: 444 | 2022-03-20\n"
     ]
    },
    {
     "name": "stderr",
     "output_type": "stream",
     "text": [
      "444it [42:16,  6.55s/it]"
     ]
    },
    {
     "name": "stdout",
     "output_type": "stream",
     "text": [
      "Currently at df: 445 | 2022-03-21\n"
     ]
    },
    {
     "name": "stderr",
     "output_type": "stream",
     "text": [
      "445it [42:23,  6.59s/it]"
     ]
    },
    {
     "name": "stdout",
     "output_type": "stream",
     "text": [
      "Currently at df: 446 | 2022-03-22\n"
     ]
    },
    {
     "name": "stderr",
     "output_type": "stream",
     "text": [
      "446it [42:24,  4.92s/it]"
     ]
    },
    {
     "name": "stdout",
     "output_type": "stream",
     "text": [
      "Currently at df: 447 | 2022-03-23\n"
     ]
    },
    {
     "name": "stderr",
     "output_type": "stream",
     "text": [
      "447it [42:31,  5.47s/it]"
     ]
    },
    {
     "name": "stdout",
     "output_type": "stream",
     "text": [
      "Currently at df: 448 | 2022-03-24\n"
     ]
    },
    {
     "name": "stderr",
     "output_type": "stream",
     "text": [
      "448it [42:37,  5.81s/it]"
     ]
    },
    {
     "name": "stdout",
     "output_type": "stream",
     "text": [
      "Currently at df: 449 | 2022-03-25\n"
     ]
    },
    {
     "name": "stderr",
     "output_type": "stream",
     "text": [
      "449it [42:43,  5.69s/it]"
     ]
    },
    {
     "name": "stdout",
     "output_type": "stream",
     "text": [
      "Currently at df: 450 | 2022-03-26\n"
     ]
    },
    {
     "name": "stderr",
     "output_type": "stream",
     "text": [
      "450it [42:49,  5.70s/it]"
     ]
    },
    {
     "name": "stdout",
     "output_type": "stream",
     "text": [
      "Currently at df: 451 | 2022-03-27\n"
     ]
    },
    {
     "name": "stderr",
     "output_type": "stream",
     "text": [
      "451it [42:54,  5.65s/it]"
     ]
    },
    {
     "name": "stdout",
     "output_type": "stream",
     "text": [
      "Currently at df: 452 | 2022-03-28\n"
     ]
    },
    {
     "name": "stderr",
     "output_type": "stream",
     "text": [
      "452it [43:00,  5.63s/it]"
     ]
    },
    {
     "name": "stdout",
     "output_type": "stream",
     "text": [
      "Currently at df: 453 | 2022-03-29\n"
     ]
    },
    {
     "name": "stderr",
     "output_type": "stream",
     "text": [
      "453it [43:05,  5.62s/it]"
     ]
    },
    {
     "name": "stdout",
     "output_type": "stream",
     "text": [
      "Currently at df: 454 | 2022-03-30\n"
     ]
    },
    {
     "name": "stderr",
     "output_type": "stream",
     "text": [
      "454it [43:11,  5.61s/it]"
     ]
    },
    {
     "name": "stdout",
     "output_type": "stream",
     "text": [
      "Currently at df: 455 | 2022-03-31\n"
     ]
    },
    {
     "name": "stderr",
     "output_type": "stream",
     "text": [
      "455it [43:16,  5.53s/it]"
     ]
    },
    {
     "name": "stdout",
     "output_type": "stream",
     "text": [
      "Currently at df: 456 | 2022-04-01\n"
     ]
    },
    {
     "name": "stderr",
     "output_type": "stream",
     "text": [
      "456it [43:22,  5.45s/it]"
     ]
    },
    {
     "name": "stdout",
     "output_type": "stream",
     "text": [
      "Currently at df: 457 | 2022-04-02\n"
     ]
    },
    {
     "name": "stderr",
     "output_type": "stream",
     "text": [
      "457it [43:27,  5.47s/it]"
     ]
    },
    {
     "name": "stdout",
     "output_type": "stream",
     "text": [
      "Currently at df: 458 | 2022-04-03\n"
     ]
    },
    {
     "name": "stderr",
     "output_type": "stream",
     "text": [
      "458it [43:33,  5.53s/it]"
     ]
    },
    {
     "name": "stdout",
     "output_type": "stream",
     "text": [
      "Currently at df: 459 | 2022-04-04\n"
     ]
    },
    {
     "name": "stderr",
     "output_type": "stream",
     "text": [
      "459it [43:38,  5.54s/it]"
     ]
    },
    {
     "name": "stdout",
     "output_type": "stream",
     "text": [
      "Currently at df: 460 | 2022-04-05\n"
     ]
    },
    {
     "name": "stderr",
     "output_type": "stream",
     "text": [
      "460it [43:44,  5.57s/it]"
     ]
    },
    {
     "name": "stdout",
     "output_type": "stream",
     "text": [
      "Currently at df: 461 | 2022-04-06\n"
     ]
    },
    {
     "name": "stderr",
     "output_type": "stream",
     "text": [
      "461it [43:49,  5.47s/it]"
     ]
    },
    {
     "name": "stdout",
     "output_type": "stream",
     "text": [
      "Currently at df: 462 | 2022-04-07\n"
     ]
    },
    {
     "name": "stderr",
     "output_type": "stream",
     "text": [
      "462it [43:55,  5.48s/it]"
     ]
    },
    {
     "name": "stdout",
     "output_type": "stream",
     "text": [
      "Currently at df: 463 | 2022-04-08\n"
     ]
    },
    {
     "name": "stderr",
     "output_type": "stream",
     "text": [
      "463it [44:00,  5.49s/it]"
     ]
    },
    {
     "name": "stdout",
     "output_type": "stream",
     "text": [
      "Currently at df: 464 | 2022-04-09\n"
     ]
    },
    {
     "name": "stderr",
     "output_type": "stream",
     "text": [
      "464it [44:06,  5.46s/it]"
     ]
    },
    {
     "name": "stdout",
     "output_type": "stream",
     "text": [
      "Currently at df: 465 | 2022-04-10\n"
     ]
    },
    {
     "name": "stderr",
     "output_type": "stream",
     "text": [
      "465it [44:11,  5.53s/it]"
     ]
    },
    {
     "name": "stdout",
     "output_type": "stream",
     "text": [
      "Currently at df: 466 | 2022-04-11\n"
     ]
    },
    {
     "name": "stderr",
     "output_type": "stream",
     "text": [
      "466it [44:16,  5.42s/it]"
     ]
    },
    {
     "name": "stdout",
     "output_type": "stream",
     "text": [
      "Currently at df: 467 | 2022-04-12\n"
     ]
    },
    {
     "name": "stderr",
     "output_type": "stream",
     "text": [
      "467it [44:22,  5.50s/it]"
     ]
    },
    {
     "name": "stdout",
     "output_type": "stream",
     "text": [
      "Currently at df: 468 | 2022-04-13\n"
     ]
    },
    {
     "name": "stderr",
     "output_type": "stream",
     "text": [
      "468it [44:29,  5.93s/it]"
     ]
    },
    {
     "name": "stdout",
     "output_type": "stream",
     "text": [
      "Currently at df: 469 | 2022-04-14\n"
     ]
    },
    {
     "name": "stderr",
     "output_type": "stream",
     "text": [
      "469it [44:36,  6.19s/it]"
     ]
    },
    {
     "name": "stdout",
     "output_type": "stream",
     "text": [
      "Currently at df: 470 | 2022-04-15\n"
     ]
    },
    {
     "name": "stderr",
     "output_type": "stream",
     "text": [
      "470it [44:43,  6.39s/it]"
     ]
    },
    {
     "name": "stdout",
     "output_type": "stream",
     "text": [
      "Currently at df: 471 | 2022-04-16\n"
     ]
    },
    {
     "name": "stderr",
     "output_type": "stream",
     "text": [
      "471it [44:49,  6.48s/it]"
     ]
    },
    {
     "name": "stdout",
     "output_type": "stream",
     "text": [
      "Currently at df: 472 | 2022-04-17\n"
     ]
    },
    {
     "name": "stderr",
     "output_type": "stream",
     "text": [
      "472it [44:56,  6.56s/it]"
     ]
    },
    {
     "name": "stdout",
     "output_type": "stream",
     "text": [
      "Currently at df: 473 | 2022-04-18\n"
     ]
    },
    {
     "name": "stderr",
     "output_type": "stream",
     "text": [
      "473it [45:03,  6.67s/it]"
     ]
    },
    {
     "name": "stdout",
     "output_type": "stream",
     "text": [
      "Currently at df: 474 | 2022-04-19\n"
     ]
    },
    {
     "name": "stderr",
     "output_type": "stream",
     "text": [
      "474it [45:10,  6.70s/it]"
     ]
    },
    {
     "name": "stdout",
     "output_type": "stream",
     "text": [
      "Currently at df: 475 | 2022-04-20\n"
     ]
    },
    {
     "name": "stderr",
     "output_type": "stream",
     "text": [
      "475it [45:17,  6.74s/it]"
     ]
    },
    {
     "name": "stdout",
     "output_type": "stream",
     "text": [
      "Currently at df: 476 | 2022-04-21\n"
     ]
    },
    {
     "name": "stderr",
     "output_type": "stream",
     "text": [
      "476it [45:24,  6.81s/it]"
     ]
    },
    {
     "name": "stdout",
     "output_type": "stream",
     "text": [
      "Currently at df: 477 | 2022-04-22\n"
     ]
    },
    {
     "name": "stderr",
     "output_type": "stream",
     "text": [
      "477it [45:30,  6.82s/it]"
     ]
    },
    {
     "name": "stdout",
     "output_type": "stream",
     "text": [
      "Currently at df: 478 | 2022-04-23\n"
     ]
    },
    {
     "name": "stderr",
     "output_type": "stream",
     "text": [
      "478it [45:36,  6.40s/it]"
     ]
    },
    {
     "name": "stdout",
     "output_type": "stream",
     "text": [
      "Currently at df: 479 | 2022-04-24\n"
     ]
    },
    {
     "name": "stderr",
     "output_type": "stream",
     "text": [
      "479it [45:41,  6.07s/it]"
     ]
    },
    {
     "name": "stdout",
     "output_type": "stream",
     "text": [
      "Currently at df: 480 | 2022-04-25\n"
     ]
    },
    {
     "name": "stderr",
     "output_type": "stream",
     "text": [
      "480it [45:47,  5.87s/it]"
     ]
    },
    {
     "name": "stdout",
     "output_type": "stream",
     "text": [
      "Currently at df: 481 | 2022-04-26\n"
     ]
    },
    {
     "name": "stderr",
     "output_type": "stream",
     "text": [
      "481it [45:52,  5.65s/it]"
     ]
    },
    {
     "name": "stdout",
     "output_type": "stream",
     "text": [
      "Currently at df: 482 | 2022-04-27\n"
     ]
    },
    {
     "name": "stderr",
     "output_type": "stream",
     "text": [
      "482it [45:59,  6.03s/it]"
     ]
    },
    {
     "name": "stdout",
     "output_type": "stream",
     "text": [
      "Currently at df: 483 | 2022-04-28\n"
     ]
    },
    {
     "name": "stderr",
     "output_type": "stream",
     "text": [
      "483it [46:05,  6.26s/it]"
     ]
    },
    {
     "name": "stdout",
     "output_type": "stream",
     "text": [
      "Currently at df: 484 | 2022-04-29\n"
     ]
    },
    {
     "name": "stderr",
     "output_type": "stream",
     "text": [
      "484it [46:12,  6.41s/it]"
     ]
    },
    {
     "name": "stdout",
     "output_type": "stream",
     "text": [
      "Currently at df: 485 | 2022-04-30\n"
     ]
    },
    {
     "name": "stderr",
     "output_type": "stream",
     "text": [
      "485it [46:19,  6.50s/it]"
     ]
    },
    {
     "name": "stdout",
     "output_type": "stream",
     "text": [
      "Currently at df: 486 | 2022-05-01\n"
     ]
    },
    {
     "name": "stderr",
     "output_type": "stream",
     "text": [
      "486it [46:26,  6.55s/it]"
     ]
    },
    {
     "name": "stdout",
     "output_type": "stream",
     "text": [
      "Currently at df: 487 | 2022-05-02\n"
     ]
    },
    {
     "name": "stderr",
     "output_type": "stream",
     "text": [
      "487it [46:32,  6.61s/it]"
     ]
    },
    {
     "name": "stdout",
     "output_type": "stream",
     "text": [
      "Currently at df: 488 | 2022-05-03\n"
     ]
    },
    {
     "name": "stderr",
     "output_type": "stream",
     "text": [
      "488it [46:38,  6.34s/it]"
     ]
    },
    {
     "name": "stdout",
     "output_type": "stream",
     "text": [
      "Currently at df: 489 | 2022-05-04\n"
     ]
    },
    {
     "name": "stderr",
     "output_type": "stream",
     "text": [
      "489it [46:44,  6.16s/it]"
     ]
    },
    {
     "name": "stdout",
     "output_type": "stream",
     "text": [
      "Currently at df: 490 | 2022-05-05\n"
     ]
    },
    {
     "name": "stderr",
     "output_type": "stream",
     "text": [
      "490it [46:49,  5.86s/it]"
     ]
    },
    {
     "name": "stdout",
     "output_type": "stream",
     "text": [
      "Currently at df: 491 | 2022-05-06\n"
     ]
    },
    {
     "name": "stderr",
     "output_type": "stream",
     "text": [
      "491it [46:54,  5.73s/it]"
     ]
    },
    {
     "name": "stdout",
     "output_type": "stream",
     "text": [
      "Currently at df: 492 | 2022-05-07\n"
     ]
    },
    {
     "name": "stderr",
     "output_type": "stream",
     "text": [
      "492it [47:00,  5.65s/it]"
     ]
    },
    {
     "name": "stdout",
     "output_type": "stream",
     "text": [
      "Currently at df: 493 | 2022-05-08\n"
     ]
    },
    {
     "name": "stderr",
     "output_type": "stream",
     "text": [
      "493it [47:05,  5.63s/it]"
     ]
    },
    {
     "name": "stdout",
     "output_type": "stream",
     "text": [
      "Currently at df: 494 | 2022-05-09\n"
     ]
    },
    {
     "name": "stderr",
     "output_type": "stream",
     "text": [
      "494it [47:10,  5.43s/it]"
     ]
    },
    {
     "name": "stdout",
     "output_type": "stream",
     "text": [
      "Currently at df: 495 | 2022-05-10\n"
     ]
    },
    {
     "name": "stderr",
     "output_type": "stream",
     "text": [
      "495it [47:17,  5.79s/it]"
     ]
    },
    {
     "name": "stdout",
     "output_type": "stream",
     "text": [
      "Currently at df: 496 | 2022-05-11\n"
     ]
    },
    {
     "name": "stderr",
     "output_type": "stream",
     "text": [
      "496it [47:24,  6.03s/it]"
     ]
    },
    {
     "name": "stdout",
     "output_type": "stream",
     "text": [
      "Currently at df: 497 | 2022-05-12\n"
     ]
    },
    {
     "name": "stderr",
     "output_type": "stream",
     "text": [
      "497it [47:30,  6.17s/it]"
     ]
    },
    {
     "name": "stdout",
     "output_type": "stream",
     "text": [
      "Currently at df: 498 | 2022-05-13\n"
     ]
    },
    {
     "name": "stderr",
     "output_type": "stream",
     "text": [
      "498it [47:37,  6.29s/it]"
     ]
    },
    {
     "name": "stdout",
     "output_type": "stream",
     "text": [
      "Currently at df: 499 | 2022-05-14\n"
     ]
    },
    {
     "name": "stderr",
     "output_type": "stream",
     "text": [
      "499it [47:42,  5.97s/it]"
     ]
    },
    {
     "name": "stdout",
     "output_type": "stream",
     "text": [
      "Currently at df: 500 | 2022-05-15\n"
     ]
    },
    {
     "name": "stderr",
     "output_type": "stream",
     "text": [
      "500it [47:47,  5.83s/it]"
     ]
    },
    {
     "name": "stdout",
     "output_type": "stream",
     "text": [
      "Currently at df: 501 | 2022-05-16\n"
     ]
    },
    {
     "name": "stderr",
     "output_type": "stream",
     "text": [
      "501it [47:53,  5.65s/it]"
     ]
    },
    {
     "name": "stdout",
     "output_type": "stream",
     "text": [
      "Currently at df: 502 | 2022-05-17\n"
     ]
    },
    {
     "name": "stderr",
     "output_type": "stream",
     "text": [
      "502it [47:58,  5.59s/it]"
     ]
    },
    {
     "name": "stdout",
     "output_type": "stream",
     "text": [
      "Currently at df: 503 | 2022-05-18\n"
     ]
    },
    {
     "name": "stderr",
     "output_type": "stream",
     "text": [
      "503it [48:03,  5.46s/it]"
     ]
    },
    {
     "name": "stdout",
     "output_type": "stream",
     "text": [
      "Currently at df: 504 | 2022-05-19\n"
     ]
    },
    {
     "name": "stderr",
     "output_type": "stream",
     "text": [
      "504it [48:09,  5.43s/it]"
     ]
    },
    {
     "name": "stdout",
     "output_type": "stream",
     "text": [
      "Currently at df: 505 | 2022-05-20\n"
     ]
    },
    {
     "name": "stderr",
     "output_type": "stream",
     "text": [
      "505it [48:14,  5.42s/it]"
     ]
    },
    {
     "name": "stdout",
     "output_type": "stream",
     "text": [
      "Currently at df: 506 | 2022-05-21\n"
     ]
    },
    {
     "name": "stderr",
     "output_type": "stream",
     "text": [
      "506it [48:19,  5.43s/it]"
     ]
    },
    {
     "name": "stdout",
     "output_type": "stream",
     "text": [
      "Currently at df: 507 | 2022-05-22\n"
     ]
    },
    {
     "name": "stderr",
     "output_type": "stream",
     "text": [
      "507it [48:26,  5.76s/it]"
     ]
    },
    {
     "name": "stdout",
     "output_type": "stream",
     "text": [
      "Currently at df: 508 | 2022-05-23\n"
     ]
    },
    {
     "name": "stderr",
     "output_type": "stream",
     "text": [
      "508it [48:33,  6.00s/it]"
     ]
    },
    {
     "name": "stdout",
     "output_type": "stream",
     "text": [
      "Currently at df: 509 | 2022-05-24\n"
     ]
    },
    {
     "name": "stderr",
     "output_type": "stream",
     "text": [
      "509it [48:39,  6.17s/it]"
     ]
    },
    {
     "name": "stdout",
     "output_type": "stream",
     "text": [
      "Currently at df: 510 | 2022-05-25\n"
     ]
    },
    {
     "name": "stderr",
     "output_type": "stream",
     "text": [
      "510it [48:46,  6.30s/it]"
     ]
    },
    {
     "name": "stdout",
     "output_type": "stream",
     "text": [
      "Currently at df: 511 | 2022-05-26\n"
     ]
    },
    {
     "name": "stderr",
     "output_type": "stream",
     "text": [
      "511it [48:52,  6.37s/it]"
     ]
    },
    {
     "name": "stdout",
     "output_type": "stream",
     "text": [
      "Currently at df: 512 | 2022-05-27\n"
     ]
    },
    {
     "name": "stderr",
     "output_type": "stream",
     "text": [
      "512it [48:59,  6.41s/it]"
     ]
    },
    {
     "name": "stdout",
     "output_type": "stream",
     "text": [
      "Currently at df: 513 | 2022-05-28\n"
     ]
    },
    {
     "name": "stderr",
     "output_type": "stream",
     "text": [
      "513it [49:05,  6.45s/it]"
     ]
    },
    {
     "name": "stdout",
     "output_type": "stream",
     "text": [
      "Currently at df: 514 | 2022-05-29\n"
     ]
    },
    {
     "name": "stderr",
     "output_type": "stream",
     "text": [
      "514it [49:12,  6.51s/it]"
     ]
    },
    {
     "name": "stdout",
     "output_type": "stream",
     "text": [
      "Currently at df: 515 | 2022-05-30\n"
     ]
    },
    {
     "name": "stderr",
     "output_type": "stream",
     "text": [
      "515it [49:19,  6.52s/it]"
     ]
    },
    {
     "name": "stdout",
     "output_type": "stream",
     "text": [
      "Currently at df: 516 | 2022-05-31\n"
     ]
    },
    {
     "name": "stderr",
     "output_type": "stream",
     "text": [
      "516it [49:25,  6.52s/it]"
     ]
    },
    {
     "name": "stdout",
     "output_type": "stream",
     "text": [
      "Currently at df: 517 | 2022-06-01\n"
     ]
    },
    {
     "name": "stderr",
     "output_type": "stream",
     "text": [
      "517it [49:32,  6.53s/it]"
     ]
    },
    {
     "name": "stdout",
     "output_type": "stream",
     "text": [
      "Currently at df: 518 | 2022-06-02\n"
     ]
    },
    {
     "name": "stderr",
     "output_type": "stream",
     "text": [
      "518it [49:38,  6.51s/it]"
     ]
    },
    {
     "name": "stdout",
     "output_type": "stream",
     "text": [
      "Currently at df: 519 | 2022-06-03\n"
     ]
    },
    {
     "name": "stderr",
     "output_type": "stream",
     "text": [
      "519it [49:45,  6.55s/it]"
     ]
    },
    {
     "name": "stdout",
     "output_type": "stream",
     "text": [
      "Currently at df: 520 | 2022-06-04\n"
     ]
    },
    {
     "name": "stderr",
     "output_type": "stream",
     "text": [
      "520it [49:51,  6.52s/it]"
     ]
    },
    {
     "name": "stdout",
     "output_type": "stream",
     "text": [
      "Currently at df: 521 | 2022-06-05\n"
     ]
    },
    {
     "name": "stderr",
     "output_type": "stream",
     "text": [
      "521it [49:57,  6.20s/it]"
     ]
    },
    {
     "name": "stdout",
     "output_type": "stream",
     "text": [
      "Currently at df: 522 | 2022-06-06\n"
     ]
    },
    {
     "name": "stderr",
     "output_type": "stream",
     "text": [
      "522it [50:02,  5.97s/it]"
     ]
    },
    {
     "name": "stdout",
     "output_type": "stream",
     "text": [
      "Currently at df: 523 | 2022-06-07\n"
     ]
    },
    {
     "name": "stderr",
     "output_type": "stream",
     "text": [
      "523it [50:08,  5.83s/it]"
     ]
    },
    {
     "name": "stdout",
     "output_type": "stream",
     "text": [
      "Currently at df: 524 | 2022-06-08\n"
     ]
    },
    {
     "name": "stderr",
     "output_type": "stream",
     "text": [
      "524it [50:13,  5.70s/it]"
     ]
    },
    {
     "name": "stdout",
     "output_type": "stream",
     "text": [
      "Currently at df: 525 | 2022-06-09\n"
     ]
    },
    {
     "name": "stderr",
     "output_type": "stream",
     "text": [
      "525it [50:19,  5.67s/it]"
     ]
    },
    {
     "name": "stdout",
     "output_type": "stream",
     "text": [
      "Currently at df: 526 | 2022-06-10\n"
     ]
    },
    {
     "name": "stderr",
     "output_type": "stream",
     "text": [
      "526it [50:24,  5.62s/it]"
     ]
    },
    {
     "name": "stdout",
     "output_type": "stream",
     "text": [
      "Currently at df: 527 | 2022-06-11\n"
     ]
    },
    {
     "name": "stderr",
     "output_type": "stream",
     "text": [
      "527it [50:29,  5.52s/it]"
     ]
    },
    {
     "name": "stdout",
     "output_type": "stream",
     "text": [
      "Currently at df: 528 | 2022-06-12\n"
     ]
    },
    {
     "name": "stderr",
     "output_type": "stream",
     "text": [
      "528it [50:35,  5.45s/it]"
     ]
    },
    {
     "name": "stdout",
     "output_type": "stream",
     "text": [
      "Currently at df: 529 | 2022-06-13\n"
     ]
    },
    {
     "name": "stderr",
     "output_type": "stream",
     "text": [
      "529it [50:40,  5.40s/it]"
     ]
    },
    {
     "name": "stdout",
     "output_type": "stream",
     "text": [
      "Currently at df: 530 | 2022-06-14\n"
     ]
    },
    {
     "name": "stderr",
     "output_type": "stream",
     "text": [
      "530it [50:46,  5.75s/it]"
     ]
    },
    {
     "name": "stdout",
     "output_type": "stream",
     "text": [
      "Currently at df: 531 | 2022-06-15\n"
     ]
    },
    {
     "name": "stderr",
     "output_type": "stream",
     "text": [
      "531it [50:53,  5.99s/it]"
     ]
    },
    {
     "name": "stdout",
     "output_type": "stream",
     "text": [
      "Currently at df: 532 | 2022-06-16\n"
     ]
    },
    {
     "name": "stderr",
     "output_type": "stream",
     "text": [
      "532it [50:58,  5.79s/it]"
     ]
    },
    {
     "name": "stdout",
     "output_type": "stream",
     "text": [
      "Currently at df: 533 | 2022-06-17\n"
     ]
    },
    {
     "name": "stderr",
     "output_type": "stream",
     "text": [
      "533it [51:05,  6.02s/it]"
     ]
    },
    {
     "name": "stdout",
     "output_type": "stream",
     "text": [
      "Currently at df: 534 | 2022-06-18\n"
     ]
    },
    {
     "name": "stderr",
     "output_type": "stream",
     "text": [
      "534it [51:11,  6.17s/it]"
     ]
    },
    {
     "name": "stdout",
     "output_type": "stream",
     "text": [
      "Currently at df: 535 | 2022-06-19\n"
     ]
    },
    {
     "name": "stderr",
     "output_type": "stream",
     "text": [
      "535it [51:18,  6.31s/it]"
     ]
    },
    {
     "name": "stdout",
     "output_type": "stream",
     "text": [
      "Currently at df: 536 | 2022-06-20\n"
     ]
    },
    {
     "name": "stderr",
     "output_type": "stream",
     "text": [
      "536it [51:24,  6.09s/it]"
     ]
    },
    {
     "name": "stdout",
     "output_type": "stream",
     "text": [
      "Currently at df: 537 | 2022-06-21\n"
     ]
    },
    {
     "name": "stderr",
     "output_type": "stream",
     "text": [
      "537it [51:29,  5.91s/it]"
     ]
    },
    {
     "name": "stdout",
     "output_type": "stream",
     "text": [
      "Currently at df: 538 | 2022-06-22\n"
     ]
    },
    {
     "name": "stderr",
     "output_type": "stream",
     "text": [
      "538it [51:34,  5.75s/it]"
     ]
    },
    {
     "name": "stdout",
     "output_type": "stream",
     "text": [
      "Currently at df: 539 | 2022-06-23\n"
     ]
    },
    {
     "name": "stderr",
     "output_type": "stream",
     "text": [
      "539it [51:41,  6.02s/it]"
     ]
    },
    {
     "name": "stdout",
     "output_type": "stream",
     "text": [
      "Currently at df: 540 | 2022-06-24\n"
     ]
    },
    {
     "name": "stderr",
     "output_type": "stream",
     "text": [
      "540it [51:48,  6.19s/it]"
     ]
    },
    {
     "name": "stdout",
     "output_type": "stream",
     "text": [
      "Currently at df: 541 | 2022-06-25\n"
     ]
    },
    {
     "name": "stderr",
     "output_type": "stream",
     "text": [
      "541it [51:54,  6.31s/it]"
     ]
    },
    {
     "name": "stdout",
     "output_type": "stream",
     "text": [
      "Currently at df: 542 | 2022-06-26\n"
     ]
    },
    {
     "name": "stderr",
     "output_type": "stream",
     "text": [
      "542it [52:01,  6.39s/it]"
     ]
    },
    {
     "name": "stdout",
     "output_type": "stream",
     "text": [
      "Currently at df: 543 | 2022-06-27\n"
     ]
    },
    {
     "name": "stderr",
     "output_type": "stream",
     "text": [
      "543it [52:06,  6.08s/it]"
     ]
    },
    {
     "name": "stdout",
     "output_type": "stream",
     "text": [
      "Currently at df: 544 | 2022-06-28\n"
     ]
    },
    {
     "name": "stderr",
     "output_type": "stream",
     "text": [
      "544it [52:13,  6.24s/it]"
     ]
    },
    {
     "name": "stdout",
     "output_type": "stream",
     "text": [
      "Currently at df: 545 | 2022-06-29\n"
     ]
    },
    {
     "name": "stderr",
     "output_type": "stream",
     "text": [
      "545it [52:19,  6.34s/it]"
     ]
    },
    {
     "name": "stdout",
     "output_type": "stream",
     "text": [
      "Currently at df: 546 | 2022-06-30\n"
     ]
    },
    {
     "name": "stderr",
     "output_type": "stream",
     "text": [
      "546it [52:25,  6.04s/it]"
     ]
    },
    {
     "name": "stdout",
     "output_type": "stream",
     "text": [
      "Currently at df: 547 | 2022-07-01\n"
     ]
    },
    {
     "name": "stderr",
     "output_type": "stream",
     "text": [
      "547it [52:30,  5.89s/it]"
     ]
    },
    {
     "name": "stdout",
     "output_type": "stream",
     "text": [
      "Currently at df: 548 | 2022-07-02\n"
     ]
    },
    {
     "name": "stderr",
     "output_type": "stream",
     "text": [
      "548it [52:37,  6.10s/it]"
     ]
    },
    {
     "name": "stdout",
     "output_type": "stream",
     "text": [
      "Currently at df: 549 | 2022-07-03\n"
     ]
    },
    {
     "name": "stderr",
     "output_type": "stream",
     "text": [
      "549it [52:43,  6.25s/it]"
     ]
    },
    {
     "name": "stdout",
     "output_type": "stream",
     "text": [
      "Currently at df: 550 | 2022-07-04\n"
     ]
    },
    {
     "name": "stderr",
     "output_type": "stream",
     "text": [
      "550it [52:49,  5.93s/it]"
     ]
    },
    {
     "name": "stdout",
     "output_type": "stream",
     "text": [
      "Currently at df: 551 | 2022-07-05\n"
     ]
    },
    {
     "name": "stderr",
     "output_type": "stream",
     "text": [
      "551it [52:54,  5.76s/it]"
     ]
    },
    {
     "name": "stdout",
     "output_type": "stream",
     "text": [
      "Currently at df: 552 | 2022-07-06\n"
     ]
    },
    {
     "name": "stderr",
     "output_type": "stream",
     "text": [
      "552it [52:59,  5.63s/it]"
     ]
    },
    {
     "name": "stdout",
     "output_type": "stream",
     "text": [
      "Currently at df: 553 | 2022-07-07\n"
     ]
    },
    {
     "name": "stderr",
     "output_type": "stream",
     "text": [
      "553it [53:05,  5.56s/it]"
     ]
    },
    {
     "name": "stdout",
     "output_type": "stream",
     "text": [
      "Currently at df: 554 | 2022-07-08\n"
     ]
    },
    {
     "name": "stderr",
     "output_type": "stream",
     "text": [
      "554it [53:10,  5.53s/it]"
     ]
    },
    {
     "name": "stdout",
     "output_type": "stream",
     "text": [
      "Currently at df: 555 | 2022-07-09\n"
     ]
    },
    {
     "name": "stderr",
     "output_type": "stream",
     "text": [
      "555it [53:16,  5.47s/it]"
     ]
    },
    {
     "name": "stdout",
     "output_type": "stream",
     "text": [
      "Currently at df: 556 | 2022-07-10\n"
     ]
    },
    {
     "name": "stderr",
     "output_type": "stream",
     "text": [
      "556it [53:21,  5.45s/it]"
     ]
    },
    {
     "name": "stdout",
     "output_type": "stream",
     "text": [
      "Currently at df: 557 | 2022-07-11\n"
     ]
    },
    {
     "name": "stderr",
     "output_type": "stream",
     "text": [
      "557it [53:28,  5.87s/it]"
     ]
    },
    {
     "name": "stdout",
     "output_type": "stream",
     "text": [
      "Currently at df: 558 | 2022-07-12\n"
     ]
    },
    {
     "name": "stderr",
     "output_type": "stream",
     "text": [
      "558it [53:34,  6.08s/it]"
     ]
    },
    {
     "name": "stdout",
     "output_type": "stream",
     "text": [
      "Currently at df: 559 | 2022-07-13\n"
     ]
    },
    {
     "name": "stderr",
     "output_type": "stream",
     "text": [
      "559it [53:41,  6.26s/it]"
     ]
    },
    {
     "name": "stdout",
     "output_type": "stream",
     "text": [
      "Currently at df: 560 | 2022-07-14\n"
     ]
    },
    {
     "name": "stderr",
     "output_type": "stream",
     "text": [
      "560it [53:48,  6.34s/it]"
     ]
    },
    {
     "name": "stdout",
     "output_type": "stream",
     "text": [
      "Currently at df: 561 | 2022-07-15\n"
     ]
    },
    {
     "name": "stderr",
     "output_type": "stream",
     "text": [
      "561it [53:54,  6.39s/it]"
     ]
    },
    {
     "name": "stdout",
     "output_type": "stream",
     "text": [
      "Currently at df: 562 | 2022-07-16\n"
     ]
    },
    {
     "name": "stderr",
     "output_type": "stream",
     "text": [
      "562it [54:01,  6.44s/it]"
     ]
    },
    {
     "name": "stdout",
     "output_type": "stream",
     "text": [
      "Currently at df: 563 | 2022-07-17\n"
     ]
    },
    {
     "name": "stderr",
     "output_type": "stream",
     "text": [
      "563it [54:07,  6.45s/it]"
     ]
    },
    {
     "name": "stdout",
     "output_type": "stream",
     "text": [
      "Currently at df: 564 | 2022-07-18\n"
     ]
    },
    {
     "name": "stderr",
     "output_type": "stream",
     "text": [
      "564it [54:12,  6.07s/it]"
     ]
    },
    {
     "name": "stdout",
     "output_type": "stream",
     "text": [
      "Currently at df: 565 | 2022-07-19\n"
     ]
    },
    {
     "name": "stderr",
     "output_type": "stream",
     "text": [
      "565it [54:18,  5.90s/it]"
     ]
    },
    {
     "name": "stdout",
     "output_type": "stream",
     "text": [
      "Currently at df: 566 | 2022-07-20\n"
     ]
    },
    {
     "name": "stderr",
     "output_type": "stream",
     "text": [
      "566it [54:23,  5.76s/it]"
     ]
    },
    {
     "name": "stdout",
     "output_type": "stream",
     "text": [
      "Currently at df: 567 | 2022-07-21\n"
     ]
    },
    {
     "name": "stderr",
     "output_type": "stream",
     "text": [
      "567it [54:29,  5.72s/it]"
     ]
    },
    {
     "name": "stdout",
     "output_type": "stream",
     "text": [
      "Currently at df: 568 | 2022-07-22\n"
     ]
    },
    {
     "name": "stderr",
     "output_type": "stream",
     "text": [
      "568it [54:35,  5.71s/it]"
     ]
    },
    {
     "name": "stdout",
     "output_type": "stream",
     "text": [
      "Currently at df: 569 | 2022-07-23\n"
     ]
    },
    {
     "name": "stderr",
     "output_type": "stream",
     "text": [
      "569it [54:40,  5.68s/it]"
     ]
    },
    {
     "name": "stdout",
     "output_type": "stream",
     "text": [
      "Currently at df: 570 | 2022-07-24\n"
     ]
    },
    {
     "name": "stderr",
     "output_type": "stream",
     "text": [
      "570it [54:46,  5.64s/it]"
     ]
    },
    {
     "name": "stdout",
     "output_type": "stream",
     "text": [
      "Currently at df: 571 | 2022-07-25\n"
     ]
    },
    {
     "name": "stderr",
     "output_type": "stream",
     "text": [
      "571it [54:51,  5.58s/it]"
     ]
    },
    {
     "name": "stdout",
     "output_type": "stream",
     "text": [
      "Currently at df: 572 | 2022-07-26\n"
     ]
    },
    {
     "name": "stderr",
     "output_type": "stream",
     "text": [
      "572it [54:56,  5.51s/it]"
     ]
    },
    {
     "name": "stdout",
     "output_type": "stream",
     "text": [
      "Currently at df: 573 | 2022-07-27\n"
     ]
    },
    {
     "name": "stderr",
     "output_type": "stream",
     "text": [
      "573it [55:02,  5.49s/it]"
     ]
    },
    {
     "name": "stdout",
     "output_type": "stream",
     "text": [
      "Currently at df: 574 | 2022-07-28\n"
     ]
    },
    {
     "name": "stderr",
     "output_type": "stream",
     "text": [
      "574it [55:07,  5.43s/it]"
     ]
    },
    {
     "name": "stdout",
     "output_type": "stream",
     "text": [
      "Currently at df: 575 | 2022-07-29\n"
     ]
    },
    {
     "name": "stderr",
     "output_type": "stream",
     "text": [
      "575it [55:13,  5.43s/it]"
     ]
    },
    {
     "name": "stdout",
     "output_type": "stream",
     "text": [
      "Currently at df: 576 | 2022-07-30\n"
     ]
    },
    {
     "name": "stderr",
     "output_type": "stream",
     "text": [
      "576it [55:18,  5.46s/it]"
     ]
    },
    {
     "name": "stdout",
     "output_type": "stream",
     "text": [
      "Currently at df: 577 | 2022-07-31\n"
     ]
    },
    {
     "name": "stderr",
     "output_type": "stream",
     "text": [
      "577it [55:24,  5.53s/it]"
     ]
    },
    {
     "name": "stdout",
     "output_type": "stream",
     "text": [
      "Currently at df: 578 | 2022-08-01\n"
     ]
    },
    {
     "name": "stderr",
     "output_type": "stream",
     "text": [
      "578it [55:30,  5.57s/it]"
     ]
    },
    {
     "name": "stdout",
     "output_type": "stream",
     "text": [
      "Currently at df: 579 | 2022-08-02\n"
     ]
    },
    {
     "name": "stderr",
     "output_type": "stream",
     "text": [
      "579it [55:35,  5.61s/it]"
     ]
    },
    {
     "name": "stdout",
     "output_type": "stream",
     "text": [
      "Currently at df: 580 | 2022-08-03\n"
     ]
    },
    {
     "name": "stderr",
     "output_type": "stream",
     "text": [
      "580it [55:41,  5.70s/it]"
     ]
    },
    {
     "name": "stdout",
     "output_type": "stream",
     "text": [
      "Currently at df: 581 | 2022-08-04\n"
     ]
    },
    {
     "name": "stderr",
     "output_type": "stream",
     "text": [
      "581it [55:47,  5.68s/it]"
     ]
    },
    {
     "name": "stdout",
     "output_type": "stream",
     "text": [
      "Currently at df: 582 | 2022-08-05\n"
     ]
    },
    {
     "name": "stderr",
     "output_type": "stream",
     "text": [
      "582it [55:52,  5.67s/it]"
     ]
    },
    {
     "name": "stdout",
     "output_type": "stream",
     "text": [
      "Currently at df: 583 | 2022-08-06\n"
     ]
    },
    {
     "name": "stderr",
     "output_type": "stream",
     "text": [
      "583it [55:58,  5.66s/it]"
     ]
    },
    {
     "name": "stdout",
     "output_type": "stream",
     "text": [
      "Currently at df: 584 | 2022-08-07\n"
     ]
    },
    {
     "name": "stderr",
     "output_type": "stream",
     "text": [
      "584it [56:04,  5.67s/it]"
     ]
    },
    {
     "name": "stdout",
     "output_type": "stream",
     "text": [
      "Currently at df: 585 | 2022-08-08\n"
     ]
    },
    {
     "name": "stderr",
     "output_type": "stream",
     "text": [
      "585it [56:09,  5.63s/it]"
     ]
    },
    {
     "name": "stdout",
     "output_type": "stream",
     "text": [
      "Currently at df: 586 | 2022-08-09\n"
     ]
    },
    {
     "name": "stderr",
     "output_type": "stream",
     "text": [
      "586it [56:15,  5.64s/it]"
     ]
    },
    {
     "name": "stdout",
     "output_type": "stream",
     "text": [
      "Currently at df: 587 | 2022-08-10\n"
     ]
    },
    {
     "name": "stderr",
     "output_type": "stream",
     "text": [
      "587it [56:21,  5.63s/it]"
     ]
    },
    {
     "name": "stdout",
     "output_type": "stream",
     "text": [
      "Currently at df: 588 | 2022-08-11\n"
     ]
    },
    {
     "name": "stderr",
     "output_type": "stream",
     "text": [
      "588it [56:26,  5.63s/it]"
     ]
    },
    {
     "name": "stdout",
     "output_type": "stream",
     "text": [
      "Currently at df: 589 | 2022-08-12\n"
     ]
    },
    {
     "name": "stderr",
     "output_type": "stream",
     "text": [
      "589it [56:32,  5.59s/it]"
     ]
    },
    {
     "name": "stdout",
     "output_type": "stream",
     "text": [
      "Currently at df: 590 | 2022-08-13\n"
     ]
    },
    {
     "name": "stderr",
     "output_type": "stream",
     "text": [
      "590it [56:38,  5.68s/it]"
     ]
    },
    {
     "name": "stdout",
     "output_type": "stream",
     "text": [
      "Currently at df: 591 | 2022-08-14\n"
     ]
    },
    {
     "name": "stderr",
     "output_type": "stream",
     "text": [
      "591it [56:43,  5.70s/it]"
     ]
    },
    {
     "name": "stdout",
     "output_type": "stream",
     "text": [
      "Currently at df: 592 | 2022-08-15\n"
     ]
    },
    {
     "name": "stderr",
     "output_type": "stream",
     "text": [
      "592it [56:49,  5.69s/it]"
     ]
    },
    {
     "name": "stdout",
     "output_type": "stream",
     "text": [
      "Currently at df: 593 | 2022-08-16\n"
     ]
    },
    {
     "name": "stderr",
     "output_type": "stream",
     "text": [
      "593it [56:55,  5.68s/it]"
     ]
    },
    {
     "name": "stdout",
     "output_type": "stream",
     "text": [
      "Currently at df: 594 | 2022-08-17\n"
     ]
    },
    {
     "name": "stderr",
     "output_type": "stream",
     "text": [
      "594it [57:00,  5.66s/it]"
     ]
    },
    {
     "name": "stdout",
     "output_type": "stream",
     "text": [
      "Currently at df: 595 | 2022-08-18\n"
     ]
    },
    {
     "name": "stderr",
     "output_type": "stream",
     "text": [
      "595it [57:06,  5.66s/it]"
     ]
    },
    {
     "name": "stdout",
     "output_type": "stream",
     "text": [
      "Currently at df: 596 | 2022-08-19\n"
     ]
    },
    {
     "name": "stderr",
     "output_type": "stream",
     "text": [
      "596it [57:11,  5.64s/it]"
     ]
    },
    {
     "name": "stdout",
     "output_type": "stream",
     "text": [
      "Currently at df: 597 | 2022-08-20\n"
     ]
    },
    {
     "name": "stderr",
     "output_type": "stream",
     "text": [
      "597it [57:17,  5.59s/it]"
     ]
    },
    {
     "name": "stdout",
     "output_type": "stream",
     "text": [
      "Currently at df: 598 | 2022-08-21\n"
     ]
    },
    {
     "name": "stderr",
     "output_type": "stream",
     "text": [
      "598it [57:23,  5.66s/it]"
     ]
    },
    {
     "name": "stdout",
     "output_type": "stream",
     "text": [
      "Currently at df: 599 | 2022-08-22\n"
     ]
    },
    {
     "name": "stderr",
     "output_type": "stream",
     "text": [
      "599it [57:28,  5.65s/it]"
     ]
    },
    {
     "name": "stdout",
     "output_type": "stream",
     "text": [
      "Currently at df: 600 | 2022-08-23\n"
     ]
    },
    {
     "name": "stderr",
     "output_type": "stream",
     "text": [
      "600it [57:34,  5.56s/it]"
     ]
    },
    {
     "name": "stdout",
     "output_type": "stream",
     "text": [
      "Currently at df: 601 | 2022-08-24\n"
     ]
    },
    {
     "name": "stderr",
     "output_type": "stream",
     "text": [
      "601it [57:39,  5.61s/it]"
     ]
    },
    {
     "name": "stdout",
     "output_type": "stream",
     "text": [
      "Currently at df: 602 | 2022-08-25\n"
     ]
    },
    {
     "name": "stderr",
     "output_type": "stream",
     "text": [
      "602it [57:45,  5.58s/it]"
     ]
    },
    {
     "name": "stdout",
     "output_type": "stream",
     "text": [
      "Currently at df: 603 | 2022-08-26\n"
     ]
    },
    {
     "name": "stderr",
     "output_type": "stream",
     "text": [
      "603it [57:50,  5.54s/it]"
     ]
    },
    {
     "name": "stdout",
     "output_type": "stream",
     "text": [
      "Currently at df: 604 | 2022-08-27\n"
     ]
    },
    {
     "name": "stderr",
     "output_type": "stream",
     "text": [
      "604it [57:56,  5.48s/it]"
     ]
    },
    {
     "name": "stdout",
     "output_type": "stream",
     "text": [
      "Currently at df: 605 | 2022-08-28\n"
     ]
    },
    {
     "name": "stderr",
     "output_type": "stream",
     "text": [
      "605it [58:01,  5.47s/it]"
     ]
    },
    {
     "name": "stdout",
     "output_type": "stream",
     "text": [
      "Currently at df: 606 | 2022-08-29\n"
     ]
    },
    {
     "name": "stderr",
     "output_type": "stream",
     "text": [
      "606it [58:07,  5.47s/it]"
     ]
    },
    {
     "name": "stdout",
     "output_type": "stream",
     "text": [
      "Currently at df: 607 | 2022-08-30\n"
     ]
    },
    {
     "name": "stderr",
     "output_type": "stream",
     "text": [
      "607it [58:14,  5.88s/it]"
     ]
    },
    {
     "name": "stdout",
     "output_type": "stream",
     "text": [
      "Currently at df: 608 | 2022-08-31\n"
     ]
    },
    {
     "name": "stderr",
     "output_type": "stream",
     "text": [
      "608it [58:20,  6.06s/it]"
     ]
    },
    {
     "name": "stdout",
     "output_type": "stream",
     "text": [
      "Currently at df: 609 | 2022-09-01\n"
     ]
    },
    {
     "name": "stderr",
     "output_type": "stream",
     "text": [
      "609it [58:27,  6.21s/it]"
     ]
    },
    {
     "name": "stdout",
     "output_type": "stream",
     "text": [
      "Currently at df: 610 | 2022-09-02\n"
     ]
    },
    {
     "name": "stderr",
     "output_type": "stream",
     "text": [
      "610it [58:33,  6.32s/it]"
     ]
    },
    {
     "name": "stdout",
     "output_type": "stream",
     "text": [
      "Currently at df: 611 | 2022-09-03\n"
     ]
    },
    {
     "name": "stderr",
     "output_type": "stream",
     "text": [
      "611it [58:40,  6.41s/it]"
     ]
    },
    {
     "name": "stdout",
     "output_type": "stream",
     "text": [
      "Currently at df: 612 | 2022-09-04\n"
     ]
    },
    {
     "name": "stderr",
     "output_type": "stream",
     "text": [
      "612it [58:46,  6.46s/it]"
     ]
    },
    {
     "name": "stdout",
     "output_type": "stream",
     "text": [
      "Currently at df: 613 | 2022-09-05\n"
     ]
    },
    {
     "name": "stderr",
     "output_type": "stream",
     "text": [
      "613it [58:52,  6.23s/it]"
     ]
    },
    {
     "name": "stdout",
     "output_type": "stream",
     "text": [
      "Currently at df: 614 | 2022-09-06\n"
     ]
    },
    {
     "name": "stderr",
     "output_type": "stream",
     "text": [
      "614it [58:58,  6.06s/it]"
     ]
    },
    {
     "name": "stdout",
     "output_type": "stream",
     "text": [
      "Currently at df: 615 | 2022-09-07\n"
     ]
    },
    {
     "name": "stderr",
     "output_type": "stream",
     "text": [
      "615it [59:03,  5.83s/it]"
     ]
    },
    {
     "name": "stdout",
     "output_type": "stream",
     "text": [
      "Currently at df: 616 | 2022-09-08\n"
     ]
    },
    {
     "name": "stderr",
     "output_type": "stream",
     "text": [
      "616it [59:08,  5.72s/it]"
     ]
    },
    {
     "name": "stdout",
     "output_type": "stream",
     "text": [
      "Currently at df: 617 | 2022-09-09\n"
     ]
    },
    {
     "name": "stderr",
     "output_type": "stream",
     "text": [
      "617it [59:14,  5.61s/it]"
     ]
    },
    {
     "name": "stdout",
     "output_type": "stream",
     "text": [
      "Currently at df: 618 | 2022-09-10\n"
     ]
    },
    {
     "name": "stderr",
     "output_type": "stream",
     "text": [
      "618it [59:19,  5.58s/it]"
     ]
    },
    {
     "name": "stdout",
     "output_type": "stream",
     "text": [
      "Currently at df: 619 | 2022-09-11\n"
     ]
    },
    {
     "name": "stderr",
     "output_type": "stream",
     "text": [
      "619it [59:26,  5.87s/it]"
     ]
    },
    {
     "name": "stdout",
     "output_type": "stream",
     "text": [
      "Currently at df: 620 | 2022-09-12\n"
     ]
    },
    {
     "name": "stderr",
     "output_type": "stream",
     "text": [
      "620it [59:32,  6.08s/it]"
     ]
    },
    {
     "name": "stdout",
     "output_type": "stream",
     "text": [
      "Currently at df: 621 | 2022-09-13\n"
     ]
    },
    {
     "name": "stderr",
     "output_type": "stream",
     "text": [
      "621it [59:39,  6.23s/it]"
     ]
    },
    {
     "name": "stdout",
     "output_type": "stream",
     "text": [
      "Currently at df: 622 | 2022-09-14\n"
     ]
    },
    {
     "name": "stderr",
     "output_type": "stream",
     "text": [
      "622it [59:46,  6.38s/it]"
     ]
    },
    {
     "name": "stdout",
     "output_type": "stream",
     "text": [
      "Currently at df: 623 | 2022-09-15\n"
     ]
    },
    {
     "name": "stderr",
     "output_type": "stream",
     "text": [
      "623it [59:51,  6.13s/it]"
     ]
    },
    {
     "name": "stdout",
     "output_type": "stream",
     "text": [
      "Currently at df: 624 | 2022-09-16\n"
     ]
    },
    {
     "name": "stderr",
     "output_type": "stream",
     "text": [
      "624it [59:57,  6.01s/it]"
     ]
    },
    {
     "name": "stdout",
     "output_type": "stream",
     "text": [
      "Currently at df: 625 | 2022-09-17\n"
     ]
    },
    {
     "name": "stderr",
     "output_type": "stream",
     "text": [
      "625it [1:00:03,  5.90s/it]"
     ]
    },
    {
     "name": "stdout",
     "output_type": "stream",
     "text": [
      "Currently at df: 626 | 2022-09-18\n"
     ]
    },
    {
     "name": "stderr",
     "output_type": "stream",
     "text": [
      "626it [1:00:08,  5.79s/it]"
     ]
    },
    {
     "name": "stdout",
     "output_type": "stream",
     "text": [
      "Currently at df: 627 | 2022-09-19\n"
     ]
    },
    {
     "name": "stderr",
     "output_type": "stream",
     "text": [
      "627it [1:00:14,  5.72s/it]"
     ]
    },
    {
     "name": "stdout",
     "output_type": "stream",
     "text": [
      "Currently at df: 628 | 2022-09-20\n"
     ]
    },
    {
     "name": "stderr",
     "output_type": "stream",
     "text": [
      "628it [1:00:19,  5.65s/it]"
     ]
    },
    {
     "name": "stdout",
     "output_type": "stream",
     "text": [
      "Currently at df: 629 | 2022-09-21\n"
     ]
    },
    {
     "name": "stderr",
     "output_type": "stream",
     "text": [
      "629it [1:00:25,  5.63s/it]"
     ]
    },
    {
     "name": "stdout",
     "output_type": "stream",
     "text": [
      "Currently at df: 630 | 2022-09-22\n"
     ]
    },
    {
     "name": "stderr",
     "output_type": "stream",
     "text": [
      "630it [1:00:30,  5.61s/it]"
     ]
    },
    {
     "name": "stdout",
     "output_type": "stream",
     "text": [
      "Currently at df: 631 | 2022-09-23\n"
     ]
    },
    {
     "name": "stderr",
     "output_type": "stream",
     "text": [
      "631it [1:00:36,  5.55s/it]"
     ]
    },
    {
     "name": "stdout",
     "output_type": "stream",
     "text": [
      "Currently at df: 632 | 2022-09-24\n"
     ]
    },
    {
     "name": "stderr",
     "output_type": "stream",
     "text": [
      "632it [1:00:41,  5.51s/it]"
     ]
    },
    {
     "name": "stdout",
     "output_type": "stream",
     "text": [
      "Currently at df: 633 | 2022-09-25\n"
     ]
    },
    {
     "name": "stderr",
     "output_type": "stream",
     "text": [
      "633it [1:00:47,  5.50s/it]"
     ]
    },
    {
     "name": "stdout",
     "output_type": "stream",
     "text": [
      "Currently at df: 634 | 2022-09-26\n"
     ]
    },
    {
     "name": "stderr",
     "output_type": "stream",
     "text": [
      "634it [1:00:52,  5.46s/it]"
     ]
    },
    {
     "name": "stdout",
     "output_type": "stream",
     "text": [
      "Currently at df: 635 | 2022-09-27\n"
     ]
    },
    {
     "name": "stderr",
     "output_type": "stream",
     "text": [
      "635it [1:00:58,  5.47s/it]"
     ]
    },
    {
     "name": "stdout",
     "output_type": "stream",
     "text": [
      "Currently at df: 636 | 2022-09-28\n"
     ]
    },
    {
     "name": "stderr",
     "output_type": "stream",
     "text": [
      "636it [1:01:03,  5.45s/it]"
     ]
    },
    {
     "name": "stdout",
     "output_type": "stream",
     "text": [
      "Currently at df: 637 | 2022-09-29\n"
     ]
    },
    {
     "name": "stderr",
     "output_type": "stream",
     "text": [
      "637it [1:01:09,  5.48s/it]"
     ]
    },
    {
     "name": "stdout",
     "output_type": "stream",
     "text": [
      "Currently at df: 638 | 2022-09-30\n"
     ]
    },
    {
     "name": "stderr",
     "output_type": "stream",
     "text": [
      "638it [1:01:14,  5.49s/it]"
     ]
    },
    {
     "name": "stdout",
     "output_type": "stream",
     "text": [
      "Currently at df: 639 | 2022-10-01\n"
     ]
    },
    {
     "name": "stderr",
     "output_type": "stream",
     "text": [
      "639it [1:01:20,  5.57s/it]"
     ]
    },
    {
     "name": "stdout",
     "output_type": "stream",
     "text": [
      "Currently at df: 640 | 2022-10-02\n"
     ]
    },
    {
     "name": "stderr",
     "output_type": "stream",
     "text": [
      "640it [1:01:25,  5.52s/it]"
     ]
    },
    {
     "name": "stdout",
     "output_type": "stream",
     "text": [
      "Currently at df: 641 | 2022-10-03\n"
     ]
    },
    {
     "name": "stderr",
     "output_type": "stream",
     "text": [
      "641it [1:01:31,  5.56s/it]"
     ]
    },
    {
     "name": "stdout",
     "output_type": "stream",
     "text": [
      "Currently at df: 642 | 2022-10-04\n"
     ]
    },
    {
     "name": "stderr",
     "output_type": "stream",
     "text": [
      "642it [1:01:37,  5.61s/it]"
     ]
    },
    {
     "name": "stdout",
     "output_type": "stream",
     "text": [
      "Currently at df: 643 | 2022-10-05\n"
     ]
    },
    {
     "name": "stderr",
     "output_type": "stream",
     "text": [
      "643it [1:01:42,  5.60s/it]"
     ]
    },
    {
     "name": "stdout",
     "output_type": "stream",
     "text": [
      "Currently at df: 644 | 2022-10-06\n"
     ]
    },
    {
     "name": "stderr",
     "output_type": "stream",
     "text": [
      "644it [1:01:48,  5.61s/it]"
     ]
    },
    {
     "name": "stdout",
     "output_type": "stream",
     "text": [
      "Currently at df: 645 | 2022-10-07\n"
     ]
    },
    {
     "name": "stderr",
     "output_type": "stream",
     "text": [
      "645it [1:01:53,  5.61s/it]"
     ]
    },
    {
     "name": "stdout",
     "output_type": "stream",
     "text": [
      "Currently at df: 646 | 2022-10-08\n"
     ]
    },
    {
     "name": "stderr",
     "output_type": "stream",
     "text": [
      "646it [1:01:59,  5.66s/it]"
     ]
    },
    {
     "name": "stdout",
     "output_type": "stream",
     "text": [
      "Currently at df: 647 | 2022-10-09\n"
     ]
    },
    {
     "name": "stderr",
     "output_type": "stream",
     "text": [
      "647it [1:02:06,  5.91s/it]"
     ]
    },
    {
     "name": "stdout",
     "output_type": "stream",
     "text": [
      "Currently at df: 648 | 2022-10-10\n"
     ]
    },
    {
     "name": "stderr",
     "output_type": "stream",
     "text": [
      "648it [1:02:12,  6.08s/it]"
     ]
    },
    {
     "name": "stdout",
     "output_type": "stream",
     "text": [
      "Currently at df: 649 | 2022-10-11\n"
     ]
    },
    {
     "name": "stderr",
     "output_type": "stream",
     "text": [
      "649it [1:02:19,  6.21s/it]"
     ]
    },
    {
     "name": "stdout",
     "output_type": "stream",
     "text": [
      "Currently at df: 650 | 2022-10-12\n"
     ]
    },
    {
     "name": "stderr",
     "output_type": "stream",
     "text": [
      "650it [1:02:25,  6.33s/it]"
     ]
    },
    {
     "name": "stdout",
     "output_type": "stream",
     "text": [
      "Currently at df: 651 | 2022-10-13\n"
     ]
    },
    {
     "name": "stderr",
     "output_type": "stream",
     "text": [
      "651it [1:02:32,  6.39s/it]"
     ]
    },
    {
     "name": "stdout",
     "output_type": "stream",
     "text": [
      "Currently at df: 652 | 2022-10-14\n"
     ]
    },
    {
     "name": "stderr",
     "output_type": "stream",
     "text": [
      "652it [1:02:38,  6.42s/it]"
     ]
    },
    {
     "name": "stdout",
     "output_type": "stream",
     "text": [
      "Currently at df: 653 | 2022-10-15\n"
     ]
    },
    {
     "name": "stderr",
     "output_type": "stream",
     "text": [
      "653it [1:02:45,  6.47s/it]"
     ]
    },
    {
     "name": "stdout",
     "output_type": "stream",
     "text": [
      "Currently at df: 654 | 2022-10-16\n"
     ]
    },
    {
     "name": "stderr",
     "output_type": "stream",
     "text": [
      "654it [1:02:49,  5.90s/it]"
     ]
    },
    {
     "name": "stdout",
     "output_type": "stream",
     "text": [
      "Something went wrong with this sentence\n",
      "Currently at df: 655 | 2022-10-17\n"
     ]
    },
    {
     "name": "stderr",
     "output_type": "stream",
     "text": [
      "655it [1:02:50,  4.23s/it]"
     ]
    },
    {
     "name": "stdout",
     "output_type": "stream",
     "text": [
      "Something went wrong with this sentence\n",
      "Currently at df: 656 | 2022-10-18\n"
     ]
    },
    {
     "name": "stderr",
     "output_type": "stream",
     "text": [
      "656it [1:02:56,  4.70s/it]"
     ]
    },
    {
     "name": "stdout",
     "output_type": "stream",
     "text": [
      "Currently at df: 657 | 2022-10-19\n"
     ]
    },
    {
     "name": "stderr",
     "output_type": "stream",
     "text": [
      "657it [1:02:57,  3.78s/it]"
     ]
    },
    {
     "name": "stdout",
     "output_type": "stream",
     "text": [
      "Something went wrong with this sentence\n",
      "Currently at df: 658 | 2022-10-20\n"
     ]
    },
    {
     "name": "stderr",
     "output_type": "stream",
     "text": [
      "659it [1:03:00,  2.42s/it]"
     ]
    },
    {
     "name": "stdout",
     "output_type": "stream",
     "text": [
      "Something went wrong with this sentence\n",
      "Currently at df: 659 | 2022-10-21\n",
      "Something went wrong with this sentence\n",
      "Currently at df: 660 | 2022-10-22\n"
     ]
    },
    {
     "name": "stderr",
     "output_type": "stream",
     "text": [
      "660it [1:03:00,  1.77s/it]"
     ]
    },
    {
     "name": "stdout",
     "output_type": "stream",
     "text": [
      "Something went wrong with this sentence\n",
      "Currently at df: 661 | 2022-10-23\n"
     ]
    },
    {
     "name": "stderr",
     "output_type": "stream",
     "text": [
      "661it [1:03:01,  1.40s/it]"
     ]
    },
    {
     "name": "stdout",
     "output_type": "stream",
     "text": [
      "Something went wrong with this sentence\n",
      "Currently at df: 662 | 2022-10-24\n"
     ]
    },
    {
     "name": "stderr",
     "output_type": "stream",
     "text": [
      "662it [1:03:01,  1.20s/it]"
     ]
    },
    {
     "name": "stdout",
     "output_type": "stream",
     "text": [
      "Something went wrong with this sentence\n",
      "Currently at df: 663 | 2022-10-25\n",
      "Something went wrong with this sentence\n",
      "Currently at df: 664 | 2022-10-26\n"
     ]
    },
    {
     "name": "stderr",
     "output_type": "stream",
     "text": [
      "664it [1:03:05,  1.56s/it]"
     ]
    },
    {
     "name": "stdout",
     "output_type": "stream",
     "text": [
      "Something went wrong with this sentence\n",
      "Currently at df: 665 | 2022-10-27\n"
     ]
    },
    {
     "name": "stderr",
     "output_type": "stream",
     "text": [
      "665it [1:03:11,  2.57s/it]"
     ]
    },
    {
     "name": "stdout",
     "output_type": "stream",
     "text": [
      "Currently at df: 666 | 2022-10-28\n"
     ]
    },
    {
     "name": "stderr",
     "output_type": "stream",
     "text": [
      "666it [1:03:17,  3.40s/it]"
     ]
    },
    {
     "name": "stdout",
     "output_type": "stream",
     "text": [
      "Something went wrong with this sentence\n",
      "Currently at df: 667 | 2022-10-29\n"
     ]
    },
    {
     "name": "stderr",
     "output_type": "stream",
     "text": [
      "667it [1:03:19,  3.14s/it]"
     ]
    },
    {
     "name": "stdout",
     "output_type": "stream",
     "text": [
      "Something went wrong with this sentence\n",
      "Currently at df: 668 | 2022-10-30\n"
     ]
    },
    {
     "name": "stderr",
     "output_type": "stream",
     "text": [
      "668it [1:03:20,  2.37s/it]"
     ]
    },
    {
     "name": "stdout",
     "output_type": "stream",
     "text": [
      "Something went wrong with this sentence\n",
      "Currently at df: 669 | 2022-10-31\n"
     ]
    },
    {
     "name": "stderr",
     "output_type": "stream",
     "text": [
      "669it [1:03:25,  3.31s/it]"
     ]
    },
    {
     "name": "stdout",
     "output_type": "stream",
     "text": [
      "Currently at df: 670 | 2022-11-01\n",
      "Something went wrong with this sentence\n",
      "Currently at df: 671 | 2022-11-02\n"
     ]
    },
    {
     "name": "stderr",
     "output_type": "stream",
     "text": [
      "671it [1:03:29,  2.59s/it]"
     ]
    },
    {
     "name": "stdout",
     "output_type": "stream",
     "text": [
      "Something went wrong with this sentence\n",
      "Currently at df: 672 | 2022-11-03\n"
     ]
    },
    {
     "name": "stderr",
     "output_type": "stream",
     "text": [
      "672it [1:03:29,  2.12s/it]"
     ]
    },
    {
     "name": "stdout",
     "output_type": "stream",
     "text": [
      "Something went wrong with this sentence\n",
      "Currently at df: 673 | 2022-11-04\n"
     ]
    },
    {
     "name": "stderr",
     "output_type": "stream",
     "text": [
      "673it [1:03:31,  2.08s/it]"
     ]
    },
    {
     "name": "stdout",
     "output_type": "stream",
     "text": [
      "Something went wrong with this sentence\n",
      "Currently at df: 674 | 2022-11-05\n"
     ]
    },
    {
     "name": "stderr",
     "output_type": "stream",
     "text": [
      "674it [1:03:33,  2.13s/it]"
     ]
    },
    {
     "name": "stdout",
     "output_type": "stream",
     "text": [
      "Something went wrong with this sentence\n",
      "Currently at df: 675 | 2022-11-06\n"
     ]
    },
    {
     "name": "stderr",
     "output_type": "stream",
     "text": [
      "675it [1:03:36,  2.19s/it]"
     ]
    },
    {
     "name": "stdout",
     "output_type": "stream",
     "text": [
      "Something went wrong with this sentence\n",
      "Currently at df: 676 | 2022-11-07\n"
     ]
    },
    {
     "name": "stderr",
     "output_type": "stream",
     "text": [
      "676it [1:03:37,  1.98s/it]"
     ]
    },
    {
     "name": "stdout",
     "output_type": "stream",
     "text": [
      "Something went wrong with this sentence\n",
      "Currently at df: 677 | 2022-11-08\n"
     ]
    },
    {
     "name": "stderr",
     "output_type": "stream",
     "text": [
      "677it [1:03:38,  1.61s/it]"
     ]
    },
    {
     "name": "stdout",
     "output_type": "stream",
     "text": [
      "Something went wrong with this sentence\n",
      "Currently at df: 678 | 2022-11-09\n"
     ]
    },
    {
     "name": "stderr",
     "output_type": "stream",
     "text": [
      "678it [1:03:38,  1.27s/it]"
     ]
    },
    {
     "name": "stdout",
     "output_type": "stream",
     "text": [
      "Something went wrong with this sentence\n",
      "Currently at df: 679 | 2022-11-10\n"
     ]
    },
    {
     "name": "stderr",
     "output_type": "stream",
     "text": [
      "679it [1:03:39,  1.02it/s]"
     ]
    },
    {
     "name": "stdout",
     "output_type": "stream",
     "text": [
      "Something went wrong with this sentence\n",
      "Currently at df: 680 | 2022-11-11\n"
     ]
    },
    {
     "name": "stderr",
     "output_type": "stream",
     "text": [
      "680it [1:03:44,  2.25s/it]"
     ]
    },
    {
     "name": "stdout",
     "output_type": "stream",
     "text": [
      "Currently at df: 681 | 2022-11-12\n"
     ]
    },
    {
     "name": "stderr",
     "output_type": "stream",
     "text": [
      "681it [1:03:46,  5.62s/it]"
     ]
    },
    {
     "name": "stdout",
     "output_type": "stream",
     "text": [
      "Something went wrong with this sentence\n"
     ]
    },
    {
     "name": "stderr",
     "output_type": "stream",
     "text": [
      "\n"
     ]
    }
   ],
   "source": [
    "get_sentiments()"
   ]
  },
  {
   "cell_type": "code",
   "execution_count": 22,
   "metadata": {
    "execution": {
     "iopub.execute_input": "2022-11-19T04:31:56.760885Z",
     "iopub.status.busy": "2022-11-19T04:31:56.759723Z",
     "iopub.status.idle": "2022-11-19T04:32:01.650363Z",
     "shell.execute_reply": "2022-11-19T04:32:01.648773Z",
     "shell.execute_reply.started": "2022-11-19T04:31:56.760835Z"
    }
   },
   "outputs": [
    {
     "name": "stdout",
     "output_type": "stream",
     "text": [
      "  adding: outputs/ (stored 0%)\n",
      "  adding: outputs/2021-11-16.csv (deflated 58%)\n",
      "  adding: outputs/2022-05-01.csv (deflated 67%)\n",
      "  adding: outputs/2022-01-03.csv (deflated 59%)\n",
      "  adding: outputs/2021-08-17.csv (deflated 59%)\n",
      "  adding: outputs/2021-03-06.csv (deflated 61%)\n",
      "  adding: outputs/2021-11-11.csv (deflated 61%)\n",
      "  adding: outputs/2021-02-11.csv (deflated 55%)\n",
      "  adding: outputs/2021-03-14.csv (deflated 70%)\n",
      "  adding: outputs/2022-04-08.csv (deflated 61%)\n",
      "  adding: outputs/2021-11-25.csv (deflated 59%)\n",
      "  adding: outputs/2021-05-21.csv (deflated 58%)\n",
      "  adding: outputs/2021-04-05.csv (deflated 63%)\n",
      "  adding: outputs/2021-08-02.csv (deflated 60%)\n",
      "  adding: outputs/2022-04-12.csv (deflated 60%)\n",
      "  adding: outputs/2021-05-31.csv (deflated 59%)\n",
      "  adding: outputs/2021-09-26.csv (deflated 61%)\n",
      "  adding: outputs/2021-03-04.csv (deflated 61%)\n",
      "  adding: outputs/2021-12-04.csv (deflated 59%)\n",
      "  adding: outputs/2021-04-09.csv (deflated 62%)\n",
      "  adding: outputs/2022-03-08.csv (deflated 72%)\n",
      "  adding: outputs/2021-05-09.csv (deflated 60%)\n",
      "  adding: outputs/2022-05-21.csv (deflated 63%)\n",
      "  adding: outputs/2022-07-07.csv (deflated 62%)\n",
      "  adding: outputs/2022-02-25.csv (deflated 58%)\n",
      "  adding: outputs/2021-08-29.csv (deflated 61%)\n",
      "  adding: outputs/2022-10-10.csv (deflated 64%)\n",
      "  adding: outputs/2021-12-10.csv (deflated 59%)\n",
      "  adding: outputs/2021-07-01.csv (deflated 62%)\n",
      "  adding: outputs/2021-07-10.csv (deflated 61%)\n",
      "  adding: outputs/2021-10-16.csv (deflated 59%)\n",
      "  adding: outputs/2021-06-06.csv (deflated 60%)\n",
      "  adding: outputs/2022-07-25.csv (deflated 66%)\n",
      "  adding: outputs/2021-09-07.csv (deflated 58%)\n",
      "  adding: outputs/2022-06-29.csv (deflated 68%)\n",
      "  adding: outputs/2021-04-22.csv (deflated 65%)\n",
      "  adding: outputs/2021-01-17.csv (deflated 57%)\n",
      "  adding: outputs/2021-07-03.csv (deflated 69%)\n",
      "  adding: outputs/2021-12-23.csv (deflated 61%)\n",
      "  adding: outputs/2021-03-28.csv (deflated 63%)\n",
      "  adding: outputs/2022-02-27.csv (deflated 58%)\n",
      "  adding: outputs/2022-03-26.csv (deflated 64%)\n",
      "  adding: outputs/2021-02-18.csv (deflated 59%)\n",
      "  adding: outputs/2021-11-28.csv (deflated 57%)\n",
      "  adding: outputs/2022-07-02.csv (deflated 65%)\n",
      "  adding: outputs/2021-10-28.csv (deflated 62%)\n",
      "  adding: outputs/2022-05-12.csv (deflated 60%)\n",
      "  adding: outputs/2021-09-18.csv (deflated 63%)\n",
      "  adding: outputs/2022-06-04.csv (deflated 58%)\n",
      "  adding: outputs/2021-02-07.csv (deflated 63%)\n",
      "  adding: outputs/2021-10-04.csv (deflated 58%)\n",
      "  adding: outputs/2021-04-17.csv (deflated 66%)\n",
      "  adding: outputs/2022-04-24.csv (deflated 61%)\n",
      "  adding: outputs/2021-08-28.csv (deflated 63%)\n",
      "  adding: outputs/2022-07-01.csv (deflated 63%)\n",
      "  adding: outputs/2022-02-20.csv (deflated 58%)\n",
      "  adding: outputs/2022-06-11.csv (deflated 63%)\n",
      "  adding: outputs/2021-05-10.csv (deflated 59%)\n",
      "  adding: outputs/2022-02-14.csv (deflated 63%)\n",
      "  adding: outputs/2022-10-01.csv (deflated 66%)\n",
      "  adding: outputs/2022-05-31.csv (deflated 60%)\n",
      "  adding: outputs/2021-06-17.csv (deflated 61%)\n",
      "  adding: outputs/2021-04-12.csv (deflated 61%)\n",
      "  adding: outputs/2021-11-24.csv (deflated 60%)\n",
      "  adding: outputs/2022-08-15.csv (deflated 65%)\n",
      "  adding: outputs/2021-05-13.csv (deflated 57%)\n",
      "  adding: outputs/2021-12-03.csv (deflated 58%)\n",
      "  adding: outputs/2022-07-19.csv (deflated 63%)\n",
      "  adding: outputs/2022-06-28.csv (deflated 66%)\n",
      "  adding: outputs/2022-07-31.csv (deflated 66%)\n",
      "  adding: outputs/2021-10-03.csv (deflated 62%)\n",
      "  adding: outputs/2022-07-18.csv (deflated 61%)\n",
      "  adding: outputs/2022-01-24.csv (deflated 58%)\n",
      "  adding: outputs/2022-01-11.csv (deflated 60%)\n",
      "  adding: outputs/2021-04-24.csv (deflated 65%)\n",
      "  adding: outputs/2022-05-19.csv (deflated 58%)\n",
      "  adding: outputs/2022-05-23.csv (deflated 61%)\n",
      "  adding: outputs/2021-09-17.csv (deflated 61%)\n",
      "  adding: outputs/2021-03-01.csv (deflated 58%)\n",
      "  adding: outputs/2021-08-13.csv (deflated 59%)\n",
      "  adding: outputs/2021-04-11.csv (deflated 60%)\n",
      "  adding: outputs/2021-02-10.csv (deflated 59%)\n",
      "  adding: outputs/2022-03-20.csv (deflated 65%)\n",
      "  adding: outputs/2021-12-02.csv (deflated 60%)\n",
      "  adding: outputs/2022-03-06.csv (deflated 62%)\n",
      "  adding: outputs/2022-08-08.csv (deflated 66%)\n",
      "  adding: outputs/2022-02-02.csv (deflated 57%)\n",
      "  adding: outputs/2021-06-08.csv (deflated 57%)\n",
      "  adding: outputs/2021-05-26.csv (deflated 63%)\n",
      "  adding: outputs/2021-12-09.csv (deflated 58%)\n",
      "  adding: outputs/2022-03-09.csv (deflated 64%)\n",
      "  adding: outputs/2021-07-23.csv (deflated 60%)\n",
      "  adding: outputs/2021-06-02.csv (deflated 60%)\n",
      "  adding: outputs/2022-02-05.csv (deflated 57%)\n",
      "  adding: outputs/2021-11-30.csv (deflated 58%)\n",
      "  adding: outputs/2021-08-03.csv (deflated 60%)\n",
      "  adding: outputs/2022-08-21.csv (deflated 63%)\n",
      "  adding: outputs/2021-06-01.csv (deflated 60%)\n",
      "  adding: outputs/2021-02-02.csv (deflated 61%)\n",
      "  adding: outputs/2021-05-02.csv (deflated 61%)\n",
      "  adding: outputs/2021-10-25.csv (deflated 60%)\n",
      "  adding: outputs/2022-01-15.csv (deflated 60%)\n",
      "  adding: outputs/2022-02-26.csv (deflated 58%)\n",
      "  adding: outputs/2022-09-07.csv (deflated 64%)\n",
      "  adding: outputs/2021-01-08.csv (deflated 59%)\n",
      "  adding: outputs/2021-07-14.csv (deflated 61%)\n",
      "  adding: outputs/2022-08-14.csv (deflated 66%)\n",
      "  adding: outputs/2022-05-17.csv (deflated 62%)\n",
      "  adding: outputs/2021-04-19.csv (deflated 62%)\n",
      "  adding: outputs/2022-04-17.csv (deflated 63%)\n",
      "  adding: outputs/2021-04-21.csv (deflated 63%)\n",
      "  adding: outputs/2022-09-24.csv (deflated 64%)\n",
      "  adding: outputs/2021-08-12.csv (deflated 60%)\n",
      "  adding: outputs/2022-04-13.csv (deflated 75%)\n",
      "  adding: outputs/2021-06-26.csv (deflated 59%)\n",
      "  adding: outputs/2021-03-09.csv (deflated 60%)\n",
      "  adding: outputs/2022-03-18.csv (deflated 61%)\n",
      "  adding: outputs/2021-07-11.csv (deflated 61%)\n",
      "  adding: outputs/2021-03-24.csv (deflated 62%)\n",
      "  adding: outputs/2021-12-07.csv (deflated 60%)\n",
      "  adding: outputs/2021-12-15.csv (deflated 60%)\n",
      "  adding: outputs/2022-07-22.csv (deflated 65%)\n",
      "  adding: outputs/2021-10-02.csv (deflated 61%)\n",
      "  adding: outputs/2021-06-27.csv (deflated 58%)\n",
      "  adding: outputs/2021-02-25.csv (deflated 61%)\n",
      "  adding: outputs/2021-05-17.csv (deflated 59%)\n",
      "  adding: outputs/2021-06-14.csv (deflated 59%)\n",
      "  adding: outputs/2022-03-27.csv (deflated 59%)\n",
      "  adding: outputs/2021-12-19.csv (deflated 62%)\n",
      "  adding: outputs/2022-01-16.csv (deflated 60%)\n",
      "  adding: outputs/2021-06-16.csv (deflated 59%)\n",
      "  adding: outputs/2021-09-10.csv (deflated 64%)\n",
      "  adding: outputs/2021-09-28.csv (deflated 60%)\n",
      "  adding: outputs/2021-06-11.csv (deflated 57%)\n",
      "  adding: outputs/2022-09-23.csv (deflated 62%)\n",
      "  adding: outputs/2021-01-02.csv (deflated 60%)\n",
      "  adding: outputs/2021-01-13.csv (deflated 58%)\n",
      "  adding: outputs/2022-03-29.csv (deflated 62%)\n",
      "  adding: outputs/2022-05-13.csv (deflated 61%)\n",
      "  adding: outputs/2021-01-03.csv (deflated 57%)\n",
      "  adding: outputs/2022-05-24.csv (deflated 63%)\n",
      "  adding: outputs/2022-04-07.csv (deflated 62%)\n",
      "  adding: outputs/2022-08-01.csv (deflated 67%)\n",
      "  adding: outputs/2021-07-15.csv (deflated 60%)\n",
      "  adding: outputs/2021-04-30.csv (deflated 60%)\n",
      "  adding: outputs/2022-09-13.csv (deflated 66%)\n",
      "  adding: outputs/2022-05-02.csv (deflated 65%)\n",
      "  adding: outputs/2021-06-04.csv (deflated 57%)\n",
      "  adding: outputs/2021-06-21.csv (deflated 58%)\n",
      "  adding: outputs/2022-02-04.csv (deflated 57%)\n",
      "  adding: outputs/2022-09-28.csv (deflated 61%)\n",
      "  adding: outputs/2021-06-03.csv (deflated 61%)\n",
      "  adding: outputs/2021-06-07.csv (deflated 57%)\n",
      "  adding: outputs/2021-11-02.csv (deflated 60%)\n",
      "  adding: outputs/2022-05-04.csv (deflated 64%)\n",
      "  adding: outputs/2021-03-15.csv (deflated 64%)\n",
      "  adding: outputs/2022-05-05.csv (deflated 64%)\n",
      "  adding: outputs/2021-08-31.csv (deflated 61%)\n",
      "  adding: outputs/2021-01-25.csv (deflated 58%)\n",
      "  adding: outputs/2021-01-27.csv (deflated 58%)\n",
      "  adding: outputs/2021-04-26.csv (deflated 57%)\n",
      "  adding: outputs/2022-09-21.csv (deflated 60%)\n",
      "  adding: outputs/2022-03-11.csv (deflated 59%)\n",
      "  adding: outputs/2022-09-18.csv (deflated 64%)\n",
      "  adding: outputs/2022-09-11.csv (deflated 68%)\n",
      "  adding: outputs/2022-02-08.csv (deflated 59%)\n",
      "  adding: outputs/2021-06-28.csv (deflated 60%)\n",
      "  adding: outputs/2022-11-11.csv (deflated 63%)\n",
      "  adding: outputs/2022-09-25.csv (deflated 63%)\n",
      "  adding: outputs/2022-07-17.csv (deflated 61%)\n",
      "  adding: outputs/2021-08-04.csv (deflated 60%)\n",
      "  adding: outputs/2022-02-11.csv (deflated 59%)\n",
      "  adding: outputs/2021-01-06.csv (deflated 56%)\n",
      "  adding: outputs/2021-11-17.csv (deflated 58%)\n",
      "  adding: outputs/2022-03-25.csv (deflated 63%)\n",
      "  adding: outputs/2022-10-31.csv (deflated 62%)\n",
      "  adding: outputs/2022-07-03.csv (deflated 63%)\n",
      "  adding: outputs/2021-02-20.csv (deflated 58%)\n",
      "  adding: outputs/2021-12-06.csv (deflated 57%)\n",
      "  adding: outputs/2021-02-19.csv (deflated 61%)\n",
      "  adding: outputs/2021-11-20.csv (deflated 60%)\n",
      "  adding: outputs/2021-11-13.csv (deflated 56%)\n",
      "  adding: outputs/2021-08-06.csv (deflated 65%)\n",
      "  adding: outputs/2022-02-13.csv (deflated 58%)\n",
      "  adding: outputs/2022-06-07.csv (deflated 64%)\n",
      "  adding: outputs/2021-06-20.csv (deflated 58%)\n",
      "  adding: outputs/2022-06-23.csv (deflated 63%)\n",
      "  adding: outputs/2021-11-18.csv (deflated 58%)\n",
      "  adding: outputs/2022-09-06.csv (deflated 62%)\n",
      "  adding: outputs/2021-11-19.csv (deflated 63%)\n",
      "  adding: outputs/2021-03-13.csv (deflated 59%)\n",
      "  adding: outputs/2022-01-10.csv (deflated 58%)\n",
      "  adding: outputs/2021-09-02.csv (deflated 61%)\n",
      "  adding: outputs/2021-02-12.csv (deflated 55%)\n",
      "  adding: outputs/2021-07-25.csv (deflated 66%)\n",
      "  adding: outputs/2022-06-27.csv (deflated 62%)\n",
      "  adding: outputs/2021-05-22.csv (deflated 58%)\n",
      "  adding: outputs/2021-02-05.csv (deflated 59%)\n",
      "  adding: outputs/2021-11-12.csv (deflated 62%)\n",
      "  adding: outputs/2022-09-30.csv (deflated 64%)\n",
      "  adding: outputs/2021-11-07.csv (deflated 59%)\n",
      "  adding: outputs/2021-05-24.csv (deflated 58%)\n",
      "  adding: outputs/2022-02-22.csv (deflated 57%)\n",
      "  adding: outputs/2022-01-07.csv (deflated 61%)\n",
      "  adding: outputs/2021-12-11.csv (deflated 60%)\n",
      "  adding: outputs/2022-04-06.csv (deflated 62%)\n",
      "  adding: outputs/2021-10-01.csv (deflated 61%)\n",
      "  adding: outputs/2021-11-08.csv (deflated 55%)\n",
      "  adding: outputs/2022-08-10.csv (deflated 67%)\n",
      "  adding: outputs/2021-09-23.csv (deflated 59%)\n",
      "  adding: outputs/2021-01-31.csv (deflated 61%)\n",
      "  adding: outputs/2021-12-27.csv (deflated 61%)\n",
      "  adding: outputs/2022-07-04.csv (deflated 63%)\n",
      "  adding: outputs/2022-05-06.csv (deflated 63%)\n",
      "  adding: outputs/2022-01-20.csv (deflated 65%)\n",
      "  adding: outputs/2021-03-30.csv (deflated 66%)\n",
      "  adding: outputs/2022-06-25.csv (deflated 64%)\n",
      "  adding: outputs/2022-09-26.csv (deflated 62%)\n",
      "  adding: outputs/2021-07-26.csv (deflated 63%)\n",
      "  adding: outputs/2022-01-08.csv (deflated 59%)\n",
      "  adding: outputs/2021-10-14.csv (deflated 59%)\n",
      "  adding: outputs/2021-03-05.csv (deflated 60%)\n",
      "  adding: outputs/2021-09-08.csv (deflated 60%)\n",
      "  adding: outputs/2022-06-10.csv (deflated 64%)\n",
      "  adding: outputs/2022-07-26.csv (deflated 68%)\n",
      "  adding: outputs/2021-11-22.csv (deflated 59%)\n",
      "  adding: outputs/2021-06-12.csv (deflated 75%)\n",
      "  adding: outputs/2021-11-04.csv (deflated 60%)\n",
      "  adding: outputs/2022-03-01.csv (deflated 58%)\n",
      "  adding: outputs/2021-11-05.csv (deflated 62%)\n",
      "  adding: outputs/2021-01-14.csv (deflated 61%)\n",
      "  adding: outputs/2021-09-24.csv (deflated 61%)\n",
      "  adding: outputs/2021-10-07.csv (deflated 59%)\n",
      "  adding: outputs/2021-02-23.csv (deflated 65%)\n",
      "  adding: outputs/2022-04-11.csv (deflated 61%)\n",
      "  adding: outputs/2022-03-13.csv (deflated 58%)\n",
      "  adding: outputs/2022-10-08.csv (deflated 65%)\n",
      "  adding: outputs/2021-02-24.csv (deflated 61%)\n",
      "  adding: outputs/2022-01-12.csv (deflated 63%)\n",
      "  adding: outputs/2022-02-06.csv (deflated 57%)\n",
      "  adding: outputs/2022-05-15.csv (deflated 61%)\n",
      "  adding: outputs/2021-08-10.csv (deflated 61%)\n",
      "  adding: outputs/2021-10-15.csv (deflated 58%)\n",
      "  adding: outputs/2021-12-25.csv (deflated 63%)\n",
      "  adding: outputs/2021-01-22.csv (deflated 58%)\n",
      "  adding: outputs/2022-03-28.csv (deflated 59%)\n",
      "  adding: outputs/2022-06-03.csv (deflated 64%)\n",
      "  adding: outputs/2022-06-01.csv (deflated 59%)\n",
      "  adding: outputs/2021-10-20.csv (deflated 63%)\n",
      "  adding: outputs/2022-09-17.csv (deflated 64%)\n",
      "  adding: outputs/2022-04-09.csv (deflated 62%)\n",
      "  adding: outputs/2022-09-14.csv (deflated 62%)\n",
      "  adding: outputs/2022-02-07.csv (deflated 58%)\n",
      "  adding: outputs/2022-03-02.csv (deflated 65%)\n",
      "  adding: outputs/2022-07-27.csv (deflated 63%)\n",
      "  adding: outputs/2021-03-03.csv (deflated 60%)\n",
      "  adding: outputs/2021-11-15.csv (deflated 59%)\n",
      "  adding: outputs/2021-06-09.csv (deflated 57%)\n",
      "  adding: outputs/2021-12-24.csv (deflated 64%)\n",
      "  adding: outputs/2021-06-25.csv (deflated 58%)\n",
      "  adding: outputs/2022-02-16.csv (deflated 65%)\n",
      "  adding: outputs/2021-07-05.csv (deflated 61%)\n",
      "  adding: outputs/2021-01-04.csv (deflated 58%)\n",
      "  adding: outputs/2021-04-20.csv (deflated 64%)\n",
      "  adding: outputs/2021-10-22.csv (deflated 68%)\n",
      "  adding: outputs/2022-10-15.csv (deflated 66%)\n",
      "  adding: outputs/2022-04-16.csv (deflated 66%)\n",
      "  adding: outputs/2021-08-16.csv (deflated 58%)\n",
      "  adding: outputs/2021-08-30.csv (deflated 60%)\n",
      "  adding: outputs/2022-05-29.csv (deflated 60%)\n",
      "  adding: outputs/2022-03-05.csv (deflated 59%)\n",
      "  adding: outputs/2021-09-25.csv (deflated 64%)\n",
      "  adding: outputs/2022-06-08.csv (deflated 66%)\n",
      "  adding: outputs/2021-09-16.csv (deflated 61%)\n",
      "  adding: outputs/2022-06-21.csv (deflated 63%)\n",
      "  adding: outputs/2022-08-31.csv (deflated 67%)\n",
      "  adding: outputs/2022-05-09.csv (deflated 59%)\n",
      "  adding: outputs/2021-05-25.csv (deflated 63%)\n",
      "  adding: outputs/2021-02-08.csv (deflated 64%)\n",
      "  adding: outputs/2022-06-20.csv (deflated 63%)\n",
      "  adding: outputs/2022-03-21.csv (deflated 68%)\n",
      "  adding: outputs/2022-07-06.csv (deflated 63%)\n",
      "  adding: outputs/2022-01-02.csv (deflated 61%)\n",
      "  adding: outputs/2021-08-07.csv (deflated 58%)\n",
      "  adding: outputs/2022-02-23.csv (deflated 57%)\n",
      "  adding: outputs/2021-10-08.csv (deflated 60%)\n",
      "  adding: outputs/2021-03-27.csv (deflated 63%)\n",
      "  adding: outputs/2021-01-30.csv (deflated 60%)\n",
      "  adding: outputs/2021-01-11.csv (deflated 61%)\n",
      "  adding: outputs/2021-04-16.csv (deflated 58%)\n",
      "  adding: outputs/2022-10-13.csv (deflated 63%)\n",
      "  adding: outputs/2021-03-12.csv (deflated 62%)\n",
      "  adding: outputs/2022-01-18.csv (deflated 59%)\n",
      "  adding: outputs/2022-08-11.csv (deflated 64%)\n",
      "  adding: outputs/2022-07-16.csv (deflated 60%)\n",
      "  adding: outputs/2022-07-12.csv (deflated 65%)\n",
      "  adding: outputs/2021-06-13.csv (deflated 59%)\n",
      "  adding: outputs/2021-09-09.csv (deflated 60%)\n",
      "  adding: outputs/2021-09-21.csv (deflated 59%)\n",
      "  adding: outputs/2021-12-14.csv (deflated 60%)\n",
      "  adding: outputs/2022-10-05.csv (deflated 65%)\n",
      "  adding: outputs/2021-01-18.csv (deflated 60%)\n",
      "  adding: outputs/2022-07-20.csv (deflated 61%)\n",
      "  adding: outputs/2022-10-18.csv (deflated 65%)\n",
      "  adding: outputs/2021-10-26.csv (deflated 59%)\n",
      "  adding: outputs/2021-10-31.csv (deflated 60%)\n",
      "  adding: outputs/2022-04-21.csv (deflated 71%)\n",
      "  adding: outputs/2022-01-19.csv (deflated 65%)\n",
      "  adding: outputs/2021-07-16.csv (deflated 60%)\n",
      "  adding: outputs/2022-03-10.csv (deflated 71%)\n",
      "  adding: outputs/2021-02-26.csv (deflated 59%)\n",
      "  adding: outputs/2022-08-13.csv (deflated 68%)\n",
      "  adding: outputs/2022-07-15.csv (deflated 65%)\n",
      "  adding: outputs/2022-05-25.csv (deflated 60%)\n",
      "  adding: outputs/2022-09-01.csv (deflated 65%)\n",
      "  adding: outputs/2022-05-08.csv (deflated 63%)\n",
      "  adding: outputs/2021-08-11.csv (deflated 60%)\n",
      "  adding: outputs/2022-02-12.csv (deflated 59%)\n",
      "  adding: outputs/2021-08-20.csv (deflated 60%)\n",
      "  adding: outputs/2021-06-22.csv (deflated 58%)\n",
      "  adding: outputs/2022-06-30.csv (deflated 62%)\n",
      "  adding: outputs/2022-06-02.csv (deflated 59%)\n",
      "  adding: outputs/2021-10-24.csv (deflated 61%)\n",
      "  adding: outputs/2021-08-27.csv (deflated 60%)\n",
      "  adding: outputs/2021-07-29.csv (deflated 62%)\n",
      "  adding: outputs/2022-10-27.csv (deflated 66%)\n",
      "  adding: outputs/2022-01-17.csv (deflated 59%)\n",
      "  adding: outputs/2021-01-07.csv (deflated 55%)\n",
      "  adding: outputs/2022-03-19.csv (deflated 66%)\n",
      "  adding: outputs/2022-08-09.csv (deflated 66%)\n",
      "  adding: outputs/2021-06-05.csv (deflated 58%)\n",
      "  adding: outputs/2021-11-14.csv (deflated 60%)\n",
      "  adding: outputs/2021-04-01.csv (deflated 66%)\n",
      "  adding: outputs/2022-01-05.csv (deflated 56%)\n",
      "  adding: outputs/2022-02-19.csv (deflated 58%)\n",
      "  adding: outputs/2022-07-21.csv (deflated 64%)\n",
      "  adding: outputs/2021-12-13.csv (deflated 59%)\n",
      "  adding: outputs/2022-09-15.csv (deflated 61%)\n",
      "  adding: outputs/2022-03-07.csv (deflated 69%)\n",
      "  adding: outputs/2022-08-28.csv (deflated 61%)\n",
      "  adding: outputs/2022-01-06.csv (deflated 60%)\n",
      "  adding: outputs/2021-06-23.csv (deflated 67%)\n",
      "  adding: outputs/2021-07-08.csv (deflated 61%)\n",
      "  adding: outputs/2021-09-13.csv (deflated 62%)\n",
      "  adding: outputs/2021-04-28.csv (deflated 61%)\n",
      "  adding: outputs/2021-03-25.csv (deflated 67%)\n",
      "  adding: outputs/2021-06-24.csv (deflated 60%)\n",
      "  adding: outputs/2022-04-22.csv (deflated 63%)\n",
      "  adding: outputs/2021-12-21.csv (deflated 59%)\n",
      "  adding: outputs/2022-04-01.csv (deflated 63%)\n",
      "  adding: outputs/2021-04-06.csv (deflated 61%)\n",
      "  adding: outputs/2022-08-18.csv (deflated 65%)\n",
      "  adding: outputs/2022-05-28.csv (deflated 62%)\n",
      "  adding: outputs/2022-04-04.csv (deflated 62%)\n",
      "  adding: outputs/2022-04-19.csv (deflated 60%)\n",
      "  adding: outputs/2022-06-09.csv (deflated 65%)\n",
      "  adding: outputs/2021-06-10.csv (deflated 58%)\n",
      "  adding: outputs/2022-02-03.csv (deflated 56%)\n",
      "  adding: outputs/2021-12-05.csv (deflated 60%)\n",
      "  adding: outputs/2021-05-16.csv (deflated 56%)\n",
      "  adding: outputs/2021-12-12.csv (deflated 61%)\n",
      "  adding: outputs/2022-01-23.csv (deflated 58%)\n",
      "  adding: outputs/2021-02-27.csv (deflated 60%)\n",
      "  adding: outputs/2021-07-02.csv (deflated 63%)\n",
      "  adding: outputs/2022-01-27.csv (deflated 57%)\n",
      "  adding: outputs/2022-06-17.csv (deflated 62%)\n",
      "  adding: outputs/2022-06-05.csv (deflated 65%)\n",
      "  adding: outputs/2021-12-17.csv (deflated 71%)\n",
      "  adding: outputs/2022-02-15.csv (deflated 76%)\n",
      "  adding: outputs/2021-08-23.csv (deflated 65%)\n",
      "  adding: outputs/2021-04-13.csv (deflated 58%)\n",
      "  adding: outputs/2022-09-04.csv (deflated 65%)\n",
      "  adding: outputs/2022-07-30.csv (deflated 65%)\n",
      "  adding: outputs/2021-03-08.csv (deflated 61%)\n",
      "  adding: outputs/2021-05-06.csv (deflated 60%)\n",
      "  adding: outputs/2021-04-10.csv (deflated 60%)\n",
      "  adding: outputs/2021-01-16.csv (deflated 58%)\n",
      "  adding: outputs/2022-04-28.csv (deflated 65%)\n",
      "  adding: outputs/2022-02-24.csv (deflated 58%)\n",
      "  adding: outputs/2022-03-31.csv (deflated 60%)\n",
      "  adding: outputs/2022-03-17.csv (deflated 59%)\n",
      "  adding: outputs/2021-05-29.csv (deflated 63%)\n",
      "  adding: outputs/2021-10-30.csv (deflated 60%)\n",
      "  adding: outputs/2022-02-01.csv (deflated 58%)\n",
      "  adding: outputs/2021-08-26.csv (deflated 64%)\n",
      "  adding: outputs/2021-07-19.csv (deflated 60%)\n",
      "  adding: outputs/2021-04-07.csv (deflated 62%)\n",
      "  adding: outputs/2021-05-14.csv (deflated 58%)\n",
      "  adding: outputs/2021-12-28.csv (deflated 59%)\n",
      "  adding: outputs/2021-03-23.csv (deflated 61%)\n",
      "  adding: outputs/2021-01-29.csv (deflated 58%)\n",
      "  adding: outputs/2021-01-23.csv (deflated 60%)\n",
      "  adding: outputs/2021-01-19.csv (deflated 60%)\n",
      "  adding: outputs/2021-05-01.csv (deflated 60%)\n",
      "  adding: outputs/2021-08-21.csv (deflated 62%)\n",
      "  adding: outputs/2021-07-24.csv (deflated 61%)\n",
      "  adding: outputs/2022-06-14.csv (deflated 59%)\n",
      "  adding: outputs/2021-05-18.csv (deflated 59%)\n",
      "  adding: outputs/2021-02-15.csv (deflated 67%)\n",
      "  adding: outputs/2021-06-29.csv (deflated 59%)\n",
      "  adding: outputs/2022-04-25.csv (deflated 60%)\n",
      "  adding: outputs/2021-08-09.csv (deflated 59%)\n",
      "  adding: outputs/2021-01-21.csv (deflated 59%)\n",
      "  adding: outputs/2021-01-05.csv (deflated 63%)\n",
      "  adding: outputs/2021-03-02.csv (deflated 64%)\n",
      "  adding: outputs/2021-10-29.csv (deflated 61%)\n",
      "  adding: outputs/2022-10-11.csv (deflated 64%)\n",
      "  adding: outputs/2022-01-01.csv (deflated 62%)\n",
      "  adding: outputs/2022-04-30.csv (deflated 62%)\n",
      "  adding: outputs/2022-08-19.csv (deflated 65%)\n",
      "  adding: outputs/2022-05-22.csv (deflated 58%)\n",
      "  adding: outputs/2022-04-27.csv (deflated 63%)\n",
      "  adding: outputs/2021-08-08.csv (deflated 60%)\n",
      "  adding: outputs/2021-10-21.csv (deflated 59%)\n",
      "  adding: outputs/2021-03-18.csv (deflated 62%)\n",
      "  adding: outputs/2021-02-22.csv (deflated 59%)\n",
      "  adding: outputs/2021-07-17.csv (deflated 61%)\n",
      "  adding: outputs/2022-08-12.csv (deflated 66%)\n",
      "  adding: outputs/2022-03-15.csv (deflated 64%)\n",
      "  adding: outputs/2021-10-18.csv (deflated 60%)\n",
      "  adding: outputs/2021-05-12.csv (deflated 56%)\n",
      "  adding: outputs/2022-01-22.csv (deflated 60%)\n",
      "  adding: outputs/2022-09-19.csv (deflated 62%)\n",
      "  adding: outputs/2022-01-14.csv (deflated 64%)\n",
      "  adding: outputs/2021-09-29.csv (deflated 61%)\n",
      "  adding: outputs/2022-07-24.csv (deflated 64%)\n",
      "  adding: outputs/2022-05-16.csv (deflated 62%)\n",
      "  adding: outputs/2021-07-20.csv (deflated 59%)\n",
      "  adding: outputs/2021-07-21.csv (deflated 58%)\n",
      "  adding: outputs/2022-07-28.csv (deflated 64%)\n",
      "  adding: outputs/2021-05-30.csv (deflated 60%)\n",
      "  adding: outputs/2022-04-03.csv (deflated 62%)\n",
      "  adding: outputs/2021-03-31.csv (deflated 69%)\n",
      "  adding: outputs/2021-12-26.csv (deflated 61%)\n",
      "  adding: outputs/2022-03-03.csv (deflated 58%)\n",
      "  adding: outputs/2022-04-18.csv (deflated 61%)\n",
      "  adding: outputs/2021-06-15.csv (deflated 59%)\n",
      "  adding: outputs/2022-06-19.csv (deflated 60%)\n",
      "  adding: outputs/2022-08-07.csv (deflated 66%)\n",
      "  adding: outputs/2021-01-12.csv (deflated 58%)\n",
      "  adding: outputs/2022-09-29.csv (deflated 65%)\n",
      "  adding: outputs/2022-08-22.csv (deflated 62%)\n",
      "  adding: outputs/2022-04-02.csv (deflated 64%)\n",
      "  adding: outputs/2021-08-01.csv (deflated 62%)\n",
      "  adding: outputs/2021-07-06.csv (deflated 62%)\n",
      "  adding: outputs/2021-04-04.csv (deflated 64%)\n",
      "  adding: outputs/2022-01-04.csv (deflated 59%)\n",
      "  adding: outputs/2021-09-22.csv (deflated 60%)\n",
      "  adding: outputs/2021-05-27.csv (deflated 65%)\n",
      "  adding: outputs/2021-02-28.csv (deflated 59%)\n",
      "  adding: outputs/2022-06-06.csv (deflated 63%)\n",
      "  adding: outputs/2021-09-12.csv (deflated 62%)\n",
      "  adding: outputs/2021-05-20.csv (deflated 61%)\n",
      "  adding: outputs/2022-03-23.csv (deflated 67%)\n",
      "  adding: outputs/2022-09-27.csv (deflated 62%)\n",
      "  adding: outputs/2022-08-24.csv (deflated 64%)\n",
      "  adding: outputs/2021-07-27.csv (deflated 61%)\n",
      "  adding: outputs/2022-08-30.csv (deflated 66%)\n",
      "  adding: outputs/2021-07-12.csv (deflated 67%)\n",
      "  adding: outputs/2022-01-21.csv (deflated 69%)\n",
      "  adding: outputs/2022-08-16.csv (deflated 65%)\n",
      "  adding: outputs/2021-05-15.csv (deflated 59%)\n",
      "  adding: outputs/2021-02-14.csv (deflated 65%)\n",
      "  adding: outputs/2021-07-31.csv (deflated 62%)\n",
      "  adding: outputs/2022-08-17.csv (deflated 65%)\n",
      "  adding: outputs/2021-02-06.csv (deflated 60%)\n",
      "  adding: outputs/2021-10-10.csv (deflated 61%)\n",
      "  adding: outputs/2021-09-30.csv (deflated 60%)\n",
      "  adding: outputs/2022-08-06.csv (deflated 66%)\n",
      "  adding: outputs/2021-06-19.csv (deflated 61%)\n",
      "  adding: outputs/2021-12-18.csv (deflated 61%)\n",
      "  adding: outputs/2021-10-13.csv (deflated 60%)\n",
      "  adding: outputs/2021-01-10.csv (deflated 58%)\n",
      "  adding: outputs/2021-04-08.csv (deflated 60%)\n",
      "  adding: outputs/2021-11-10.csv (deflated 58%)\n",
      "  adding: outputs/2021-07-04.csv (deflated 66%)\n",
      "  adding: outputs/2021-02-13.csv (deflated 63%)\n",
      "  adding: outputs/2021-02-03.csv (deflated 60%)\n",
      "  adding: outputs/2022-03-14.csv (deflated 62%)\n",
      "  adding: outputs/2021-10-09.csv (deflated 62%)\n",
      "  adding: outputs/2021-10-12.csv (deflated 60%)\n",
      "  adding: outputs/2021-05-08.csv (deflated 60%)\n",
      "  adding: outputs/2021-11-29.csv (deflated 58%)\n",
      "  adding: outputs/2021-04-15.csv (deflated 58%)\n",
      "  adding: outputs/2022-05-18.csv (deflated 62%)\n",
      "  adding: outputs/2021-12-31.csv (deflated 61%)\n",
      "  adding: outputs/2021-05-11.csv (deflated 60%)\n",
      "  adding: outputs/2021-10-23.csv (deflated 61%)\n",
      "  adding: outputs/2021-12-30.csv (deflated 64%)\n",
      "  adding: outputs/2022-05-03.csv (deflated 62%)\n",
      "  adding: outputs/2021-07-07.csv (deflated 62%)\n",
      "  adding: outputs/2021-07-28.csv (deflated 62%)\n",
      "  adding: outputs/2022-06-18.csv (deflated 63%)\n",
      "  adding: outputs/2022-05-26.csv (deflated 63%)\n",
      "  adding: outputs/2021-09-20.csv (deflated 59%)\n",
      "  adding: outputs/2021-11-06.csv (deflated 62%)\n",
      "  adding: outputs/2021-11-26.csv (deflated 59%)\n",
      "  adding: outputs/2021-06-18.csv (deflated 60%)\n",
      "  adding: outputs/2022-02-28.csv (deflated 56%)\n",
      "  adding: outputs/2022-01-29.csv (deflated 60%)\n",
      "  adding: outputs/2021-04-23.csv (deflated 62%)\n",
      "  adding: outputs/2021-01-09.csv (deflated 58%)\n",
      "  adding: outputs/2021-05-05.csv (deflated 61%)\n",
      "  adding: outputs/2021-05-03.csv (deflated 60%)\n",
      "  adding: outputs/2021-10-27.csv (deflated 59%)\n",
      "  adding: outputs/2021-09-04.csv (deflated 63%)\n",
      "  adding: outputs/2022-06-22.csv (deflated 61%)\n",
      "  adding: outputs/2021-01-26.csv (deflated 61%)\n",
      "  adding: outputs/2022-03-12.csv (deflated 60%)\n",
      "  adding: outputs/2021-05-07.csv (deflated 59%)\n",
      "  adding: outputs/2022-09-08.csv (deflated 63%)\n",
      "  adding: outputs/2021-05-19.csv (deflated 57%)\n",
      "  adding: outputs/2022-02-17.csv (deflated 63%)\n",
      "  adding: outputs/2021-02-17.csv (deflated 59%)\n",
      "  adding: outputs/2021-04-29.csv (deflated 61%)\n",
      "  adding: outputs/2021-04-27.csv (deflated 59%)\n",
      "  adding: outputs/2021-11-03.csv (deflated 58%)\n",
      "  adding: outputs/2022-07-10.csv (deflated 64%)\n",
      "  adding: outputs/2022-01-30.csv (deflated 60%)\n",
      "  adding: outputs/2022-10-02.csv (deflated 62%)\n",
      "  adding: outputs/2021-05-04.csv (deflated 61%)\n",
      "  adding: outputs/2021-11-21.csv (deflated 61%)\n",
      "  adding: outputs/2021-09-03.csv (deflated 61%)\n",
      "  adding: outputs/2021-04-02.csv (deflated 61%)\n",
      "  adding: outputs/2021-12-16.csv (deflated 61%)\n",
      "  adding: outputs/2022-04-15.csv (deflated 64%)\n",
      "  adding: outputs/2022-09-20.csv (deflated 62%)\n",
      "  adding: outputs/2021-11-27.csv (deflated 60%)\n",
      "  adding: outputs/2021-12-01.csv (deflated 58%)\n",
      "  adding: outputs/2022-05-27.csv (deflated 60%)\n",
      "  adding: outputs/2021-07-09.csv (deflated 61%)\n",
      "  adding: outputs/2022-09-10.csv (deflated 65%)\n",
      "  adding: outputs/2022-05-07.csv (deflated 61%)\n",
      "  adding: outputs/2022-10-03.csv (deflated 63%)\n",
      "  adding: outputs/2022-08-29.csv (deflated 62%)\n",
      "  adding: outputs/2021-09-15.csv (deflated 61%)\n",
      "  adding: outputs/2021-12-08.csv (deflated 60%)\n",
      "  adding: outputs/2022-01-26.csv (deflated 59%)\n",
      "  adding: outputs/2022-05-11.csv (deflated 58%)\n",
      "  adding: outputs/2022-01-28.csv (deflated 57%)\n",
      "  adding: outputs/2021-03-29.csv (deflated 64%)\n",
      "  adding: outputs/2022-06-24.csv (deflated 64%)\n",
      "  adding: outputs/2021-10-17.csv (deflated 60%)\n",
      "  adding: outputs/2022-03-30.csv (deflated 63%)\n",
      "  adding: outputs/2021-08-25.csv (deflated 61%)\n",
      "  adding: outputs/2021-06-30.csv (deflated 61%)\n",
      "  adding: outputs/2022-09-09.csv (deflated 62%)\n",
      "  adding: outputs/2022-10-12.csv (deflated 66%)\n",
      "  adding: outputs/2021-03-07.csv (deflated 60%)\n",
      "  adding: outputs/2021-09-05.csv (deflated 60%)\n",
      "  adding: outputs/2022-08-23.csv (deflated 62%)\n",
      "  adding: outputs/2022-08-03.csv (deflated 64%)\n",
      "  adding: outputs/2022-07-29.csv (deflated 64%)\n",
      "  adding: outputs/2021-01-24.csv (deflated 60%)\n",
      "  adding: outputs/2021-07-22.csv (deflated 59%)\n",
      "  adding: outputs/2022-03-16.csv (deflated 59%)\n",
      "  adding: outputs/2021-11-23.csv (deflated 59%)\n",
      "  adding: outputs/2022-10-06.csv (deflated 63%)\n",
      "  adding: outputs/2022-08-27.csv (deflated 65%)\n",
      "  adding: outputs/2021-02-09.csv (deflated 60%)\n",
      "  adding: outputs/2021-05-23.csv (deflated 57%)\n",
      "  adding: outputs/2022-06-13.csv (deflated 60%)\n",
      "  adding: outputs/2022-07-23.csv (deflated 67%)\n",
      "  adding: outputs/2022-09-02.csv (deflated 64%)\n",
      "  adding: outputs/2021-09-27.csv (deflated 60%)\n",
      "  adding: outputs/2022-07-11.csv (deflated 63%)\n",
      "  adding: outputs/2022-03-24.csv (deflated 59%)\n",
      "  adding: outputs/2021-02-04.csv (deflated 59%)\n",
      "  adding: outputs/2022-04-20.csv (deflated 63%)\n",
      "  adding: outputs/2022-08-20.csv (deflated 63%)\n",
      "  adding: outputs/2021-09-06.csv (deflated 60%)\n",
      "  adding: outputs/2021-12-22.csv (deflated 61%)\n",
      "  adding: outputs/2021-03-11.csv (deflated 57%)\n",
      "  adding: outputs/2021-09-14.csv (deflated 61%)\n",
      "  adding: outputs/2022-04-23.csv (deflated 66%)\n",
      "  adding: outputs/2021-08-24.csv (deflated 59%)\n",
      "  adding: outputs/2022-09-22.csv (deflated 61%)\n",
      "  adding: outputs/2022-09-12.csv (deflated 64%)\n",
      "  adding: outputs/2021-03-20.csv (deflated 62%)\n",
      "  adding: outputs/2021-04-03.csv (deflated 61%)\n",
      "  adding: outputs/2022-05-10.csv (deflated 61%)\n",
      "  adding: outputs/2021-02-16.csv (deflated 57%)\n",
      "  adding: outputs/2021-04-14.csv (deflated 59%)\n",
      "  adding: outputs/2022-04-29.csv (deflated 64%)\n",
      "  adding: outputs/2021-01-01.csv (deflated 57%)\n",
      "  adding: outputs/2022-08-26.csv (deflated 62%)\n",
      "  adding: outputs/2022-02-21.csv (deflated 56%)\n",
      "  adding: outputs/2022-07-13.csv (deflated 59%)\n",
      "  adding: outputs/2022-09-05.csv (deflated 63%)\n",
      "  adding: outputs/2021-03-26.csv (deflated 65%)\n",
      "  adding: outputs/2022-06-26.csv (deflated 63%)\n",
      "  adding: outputs/2021-09-19.csv (deflated 62%)\n",
      "  adding: outputs/2022-02-09.csv (deflated 70%)\n",
      "  adding: outputs/2021-10-19.csv (deflated 58%)\n",
      "  adding: outputs/2022-10-07.csv (deflated 64%)\n",
      "  adding: outputs/2021-03-22.csv (deflated 60%)\n",
      "  adding: outputs/2022-08-04.csv (deflated 67%)\n",
      "  adding: outputs/2022-04-14.csv (deflated 70%)\n",
      "  adding: outputs/2021-12-20.csv (deflated 60%)\n",
      "  adding: outputs/2022-10-09.csv (deflated 70%)\n",
      "  adding: outputs/2022-01-13.csv (deflated 61%)\n",
      "  adding: outputs/2022-09-03.csv (deflated 65%)\n",
      "  adding: outputs/2021-08-18.csv (deflated 62%)\n",
      "  adding: outputs/2021-09-11.csv (deflated 61%)\n",
      "  adding: outputs/2022-04-05.csv (deflated 63%)\n",
      "  adding: outputs/2021-08-22.csv (deflated 60%)\n",
      "  adding: outputs/2022-06-15.csv (deflated 58%)\n",
      "  adding: outputs/2022-10-04.csv (deflated 63%)\n",
      "  adding: outputs/2022-07-14.csv (deflated 66%)\n",
      "  adding: outputs/2022-08-05.csv (deflated 67%)\n",
      "  adding: outputs/2021-03-17.csv (deflated 61%)\n",
      "  adding: outputs/2022-06-16.csv (deflated 62%)\n",
      "  adding: outputs/2021-03-21.csv (deflated 60%)\n",
      "  adding: outputs/2022-07-05.csv (deflated 64%)\n",
      "  adding: outputs/2022-05-20.csv (deflated 64%)\n",
      "  adding: outputs/2021-10-05.csv (deflated 59%)\n",
      "  adding: outputs/2022-04-10.csv (deflated 62%)\n",
      "  adding: outputs/2021-08-14.csv (deflated 62%)\n",
      "  adding: outputs/2021-03-19.csv (deflated 66%)\n",
      "  adding: outputs/2021-02-21.csv (deflated 59%)\n",
      "  adding: outputs/2021-07-18.csv (deflated 62%)\n",
      "  adding: outputs/2022-05-30.csv (deflated 65%)\n",
      "  adding: outputs/2021-01-15.csv (deflated 57%)\n",
      "  adding: outputs/2022-05-14.csv (deflated 63%)\n",
      "  adding: outputs/2022-04-26.csv (deflated 63%)\n",
      "  adding: outputs/2022-01-25.csv (deflated 59%)\n",
      "  adding: outputs/2021-01-20.csv (deflated 69%)\n",
      "  adding: outputs/2021-07-30.csv (deflated 58%)\n",
      "  adding: outputs/2021-03-16.csv (deflated 59%)\n",
      "  adding: outputs/2022-03-22.csv (deflated 56%)\n",
      "  adding: outputs/2022-06-12.csv (deflated 60%)\n",
      "  adding: outputs/2021-11-09.csv (deflated 61%)\n",
      "  adding: outputs/2021-08-05.csv (deflated 60%)\n",
      "  adding: outputs/2021-11-01.csv (deflated 60%)\n",
      "  adding: outputs/2021-07-13.csv (deflated 62%)\n",
      "  adding: outputs/2022-07-09.csv (deflated 65%)\n",
      "  adding: outputs/2021-04-25.csv (deflated 58%)\n",
      "  adding: outputs/2022-02-10.csv (deflated 59%)\n",
      "  adding: outputs/2021-10-11.csv (deflated 61%)\n",
      "  adding: outputs/2021-08-19.csv (deflated 63%)\n",
      "  adding: outputs/2021-12-29.csv (deflated 61%)\n",
      "  adding: outputs/2021-01-28.csv (deflated 60%)\n",
      "  adding: outputs/2022-09-16.csv (deflated 62%)\n",
      "  adding: outputs/2022-10-14.csv (deflated 65%)\n",
      "  adding: outputs/2022-07-08.csv (deflated 62%)\n",
      "  adding: outputs/2021-04-18.csv (deflated 63%)\n",
      "  adding: outputs/2022-01-09.csv (deflated 58%)\n",
      "  adding: outputs/2021-05-28.csv (deflated 64%)\n",
      "  adding: outputs/2021-03-10.csv (deflated 63%)\n",
      "  adding: outputs/2021-10-06.csv (deflated 59%)\n",
      "  adding: outputs/2022-03-04.csv (deflated 58%)\n",
      "  adding: outputs/2022-01-31.csv (deflated 60%)\n",
      "  adding: outputs/2021-02-01.csv (deflated 60%)\n",
      "  adding: outputs/2022-08-02.csv (deflated 65%)\n",
      "  adding: outputs/2021-09-01.csv (deflated 60%)\n",
      "  adding: outputs/2021-08-15.csv (deflated 59%)\n",
      "  adding: outputs/2022-08-25.csv (deflated 64%)\n",
      "  adding: outputs/2022-02-18.csv (deflated 66%)\n"
     ]
    },
    {
     "data": {
      "text/html": [
       "<a href='file.zip' target='_blank'>file.zip</a><br>"
      ],
      "text/plain": [
       "/kaggle/working/file.zip"
      ]
     },
     "execution_count": 22,
     "metadata": {},
     "output_type": "execute_result"
    }
   ],
   "source": [
    "from IPython.display import FileLink\n",
    "\n",
    "!zip -r file.zip './outputs'\n",
    "FileLink(r'file.zip')"
   ]
  },
  {
   "cell_type": "markdown",
   "metadata": {},
   "source": [
    "### Certain files had issues - attempt sentiment analysis"
   ]
  },
  {
   "cell_type": "code",
   "execution_count": 39,
   "metadata": {
    "execution": {
     "iopub.execute_input": "2022-12-08T05:47:06.849789Z",
     "iopub.status.busy": "2022-12-08T05:47:06.849401Z",
     "iopub.status.idle": "2022-12-08T05:47:06.858170Z",
     "shell.execute_reply": "2022-12-08T05:47:06.856734Z",
     "shell.execute_reply.started": "2022-12-08T05:47:06.849759Z"
    }
   },
   "outputs": [],
   "source": [
    "available_days = os.listdir('/kaggle/input/tweets-sentiment-unweighed-fixed/outputs')"
   ]
  },
  {
   "cell_type": "code",
   "execution_count": 56,
   "metadata": {
    "execution": {
     "iopub.execute_input": "2022-12-08T05:51:51.253630Z",
     "iopub.status.busy": "2022-12-08T05:51:51.253259Z",
     "iopub.status.idle": "2022-12-08T05:51:51.262791Z",
     "shell.execute_reply": "2022-12-08T05:51:51.261184Z",
     "shell.execute_reply.started": "2022-12-08T05:51:51.253600Z"
    }
   },
   "outputs": [
    {
     "data": {
      "text/plain": [
       "['2017-05-16',\n",
       " '2016-10-10',\n",
       " '2018-06-01',\n",
       " '2019-09-01',\n",
       " '2016-11-19',\n",
       " '2022-07-13',\n",
       " '2014-09-28',\n",
       " '2016-12-10',\n",
       " '2021-07-11',\n",
       " '2016-03-28']"
      ]
     },
     "execution_count": 56,
     "metadata": {},
     "output_type": "execute_result"
    }
   ],
   "source": [
    "available_days = [x.replace('.csv', '') for x in available_days]\n",
    "available_days[:10]"
   ]
  },
  {
   "cell_type": "code",
   "execution_count": 26,
   "metadata": {
    "execution": {
     "iopub.execute_input": "2022-12-08T05:39:39.658784Z",
     "iopub.status.busy": "2022-12-08T05:39:39.658408Z",
     "iopub.status.idle": "2022-12-08T05:39:39.869817Z",
     "shell.execute_reply": "2022-12-08T05:39:39.868602Z",
     "shell.execute_reply.started": "2022-12-08T05:39:39.658759Z"
    }
   },
   "outputs": [],
   "source": [
    "all_days = os.listdir('../input/tweets-complete/data')"
   ]
  },
  {
   "cell_type": "code",
   "execution_count": 27,
   "metadata": {
    "execution": {
     "iopub.execute_input": "2022-12-08T05:39:40.963863Z",
     "iopub.status.busy": "2022-12-08T05:39:40.963477Z",
     "iopub.status.idle": "2022-12-08T05:39:40.974551Z",
     "shell.execute_reply": "2022-12-08T05:39:40.972951Z",
     "shell.execute_reply.started": "2022-12-08T05:39:40.963826Z"
    }
   },
   "outputs": [
    {
     "data": {
      "text/plain": [
       "['2016-09-07',\n",
       " '2017-04-22',\n",
       " '2018-02-01',\n",
       " '2015-01-27',\n",
       " '2022-06-14',\n",
       " '2019-06-11',\n",
       " '2022-03-10',\n",
       " '2019-11-09',\n",
       " '2020-07-10',\n",
       " '2021-11-07']"
      ]
     },
     "execution_count": 27,
     "metadata": {},
     "output_type": "execute_result"
    }
   ],
   "source": [
    "all_days = [x.replace('.csv', '') for x in all_days]\n",
    "all_days[:10]"
   ]
  },
  {
   "cell_type": "code",
   "execution_count": 57,
   "metadata": {
    "execution": {
     "iopub.execute_input": "2022-12-08T05:51:55.868793Z",
     "iopub.status.busy": "2022-12-08T05:51:55.867970Z",
     "iopub.status.idle": "2022-12-08T05:51:55.955090Z",
     "shell.execute_reply": "2022-12-08T05:51:55.954214Z",
     "shell.execute_reply.started": "2022-12-08T05:51:55.868758Z"
    }
   },
   "outputs": [
    {
     "data": {
      "text/plain": [
       "38"
      ]
     },
     "execution_count": 57,
     "metadata": {},
     "output_type": "execute_result"
    }
   ],
   "source": [
    "missing_days = [day for day in all_days if day not in available_days]\n",
    "missing_days.pop()\n",
    "len(missing_days)"
   ]
  },
  {
   "cell_type": "code",
   "execution_count": 58,
   "metadata": {
    "execution": {
     "iopub.execute_input": "2022-12-08T05:52:24.253228Z",
     "iopub.status.busy": "2022-12-08T05:52:24.252861Z",
     "iopub.status.idle": "2022-12-08T05:52:24.258293Z",
     "shell.execute_reply": "2022-12-08T05:52:24.257297Z",
     "shell.execute_reply.started": "2022-12-08T05:52:24.253201Z"
    }
   },
   "outputs": [],
   "source": [
    "output_path = '/kaggle/working/missing_days'\n",
    "os.mkdir(output_path)"
   ]
  },
  {
   "cell_type": "code",
   "execution_count": 59,
   "metadata": {
    "execution": {
     "iopub.execute_input": "2022-12-08T05:52:36.123060Z",
     "iopub.status.busy": "2022-12-08T05:52:36.122681Z",
     "iopub.status.idle": "2022-12-08T05:52:36.129120Z",
     "shell.execute_reply": "2022-12-08T05:52:36.128074Z",
     "shell.execute_reply.started": "2022-12-08T05:52:36.123029Z"
    }
   },
   "outputs": [
    {
     "name": "stdout",
     "output_type": "stream",
     "text": [
      "Done\n"
     ]
    }
   ],
   "source": [
    "# Save list of missing days\n",
    "with open(r'/kaggle/working/missing_days/missing_days.txt', 'w') as fp:\n",
    "    for day in missing_days:\n",
    "        fp.write(\"%s\\n\" % day)\n",
    "    print('Done')"
   ]
  },
  {
   "cell_type": "code",
   "execution_count": 22,
   "metadata": {
    "execution": {
     "iopub.execute_input": "2022-11-30T06:43:13.354949Z",
     "iopub.status.busy": "2022-11-30T06:43:13.354517Z",
     "iopub.status.idle": "2022-11-30T06:43:13.362189Z",
     "shell.execute_reply": "2022-11-30T06:43:13.361216Z",
     "shell.execute_reply.started": "2022-11-30T06:43:13.354910Z"
    }
   },
   "outputs": [],
   "source": [
    "# load in missing sentiment analysed dates\n",
    "filepath = '../input/tweets-complete/data'\n",
    "\n",
    "with open('../input/sentiment-analysis-missing-days/missing_days.txt') as f:\n",
    "    missing_days = [line.replace('\\n', '') for line in f.readlines()]"
   ]
  },
  {
   "cell_type": "code",
   "execution_count": 24,
   "metadata": {
    "execution": {
     "iopub.execute_input": "2022-11-30T06:43:36.815928Z",
     "iopub.status.busy": "2022-11-30T06:43:36.814920Z",
     "iopub.status.idle": "2022-11-30T06:43:37.254874Z",
     "shell.execute_reply": "2022-11-30T06:43:37.253710Z",
     "shell.execute_reply.started": "2022-11-30T06:43:36.815888Z"
    }
   },
   "outputs": [],
   "source": [
    "dfs = [pd.read_csv(f'{filepath}/{i}.csv', engine='python') for i in missing_days]"
   ]
  },
  {
   "cell_type": "code",
   "execution_count": 26,
   "metadata": {
    "execution": {
     "iopub.execute_input": "2022-11-30T06:43:46.175308Z",
     "iopub.status.busy": "2022-11-30T06:43:46.174235Z",
     "iopub.status.idle": "2022-11-30T06:45:27.078032Z",
     "shell.execute_reply": "2022-11-30T06:45:27.077000Z",
     "shell.execute_reply.started": "2022-11-30T06:43:46.175269Z"
    }
   },
   "outputs": [
    {
     "name": "stderr",
     "output_type": "stream",
     "text": [
      "0it [00:00, ?it/s]"
     ]
    },
    {
     "name": "stdout",
     "output_type": "stream",
     "text": [
      "Currently at df: 1 | 2017-08-04\n"
     ]
    },
    {
     "name": "stderr",
     "output_type": "stream",
     "text": [
      "1it [00:01,  1.99s/it]"
     ]
    },
    {
     "name": "stdout",
     "output_type": "stream",
     "text": [
      "Something went wrong with this sentence\n",
      "Currently at df: 2 | 2018-02-05\n"
     ]
    },
    {
     "name": "stderr",
     "output_type": "stream",
     "text": [
      "2it [00:03,  1.70s/it]"
     ]
    },
    {
     "name": "stdout",
     "output_type": "stream",
     "text": [
      "Something went wrong with this sentence\n",
      "Currently at df: 3 | 2018-04-06\n"
     ]
    },
    {
     "name": "stderr",
     "output_type": "stream",
     "text": [
      "3it [00:03,  1.09s/it]"
     ]
    },
    {
     "name": "stdout",
     "output_type": "stream",
     "text": [
      "Something went wrong with this sentence\n",
      "Currently at df: 4 | 2018-08-03\n"
     ]
    },
    {
     "name": "stderr",
     "output_type": "stream",
     "text": [
      "4it [00:06,  1.74s/it]"
     ]
    },
    {
     "name": "stdout",
     "output_type": "stream",
     "text": [
      "Something went wrong with this sentence\n",
      "Currently at df: 5 | 2019-06-24\n"
     ]
    },
    {
     "name": "stderr",
     "output_type": "stream",
     "text": [
      "5it [00:08,  1.88s/it]"
     ]
    },
    {
     "name": "stdout",
     "output_type": "stream",
     "text": [
      "Something went wrong with this sentence\n",
      "Currently at df: 6 | 2020-12-22\n"
     ]
    },
    {
     "name": "stderr",
     "output_type": "stream",
     "text": [
      "6it [00:14,  3.08s/it]"
     ]
    },
    {
     "name": "stdout",
     "output_type": "stream",
     "text": [
      "Currently at df: 7 | 2020-12-23\n"
     ]
    },
    {
     "name": "stderr",
     "output_type": "stream",
     "text": [
      "7it [00:19,  3.78s/it]"
     ]
    },
    {
     "name": "stdout",
     "output_type": "stream",
     "text": [
      "Currently at df: 8 | 2020-12-24\n"
     ]
    },
    {
     "name": "stderr",
     "output_type": "stream",
     "text": [
      "8it [00:24,  4.25s/it]"
     ]
    },
    {
     "name": "stdout",
     "output_type": "stream",
     "text": [
      "Currently at df: 9 | 2020-12-25\n"
     ]
    },
    {
     "name": "stderr",
     "output_type": "stream",
     "text": [
      "9it [00:30,  4.61s/it]"
     ]
    },
    {
     "name": "stdout",
     "output_type": "stream",
     "text": [
      "Currently at df: 10 | 2020-12-26\n"
     ]
    },
    {
     "name": "stderr",
     "output_type": "stream",
     "text": [
      "10it [00:35,  4.83s/it]"
     ]
    },
    {
     "name": "stdout",
     "output_type": "stream",
     "text": [
      "Currently at df: 11 | 2020-12-27\n"
     ]
    },
    {
     "name": "stderr",
     "output_type": "stream",
     "text": [
      "11it [00:40,  5.02s/it]"
     ]
    },
    {
     "name": "stdout",
     "output_type": "stream",
     "text": [
      "Currently at df: 12 | 2020-12-28\n"
     ]
    },
    {
     "name": "stderr",
     "output_type": "stream",
     "text": [
      "12it [00:46,  5.18s/it]"
     ]
    },
    {
     "name": "stdout",
     "output_type": "stream",
     "text": [
      "Currently at df: 13 | 2020-12-29\n"
     ]
    },
    {
     "name": "stderr",
     "output_type": "stream",
     "text": [
      "13it [00:51,  5.30s/it]"
     ]
    },
    {
     "name": "stdout",
     "output_type": "stream",
     "text": [
      "Currently at df: 14 | 2020-12-30\n"
     ]
    },
    {
     "name": "stderr",
     "output_type": "stream",
     "text": [
      "14it [00:57,  5.38s/it]"
     ]
    },
    {
     "name": "stdout",
     "output_type": "stream",
     "text": [
      "Currently at df: 15 | 2020-12-31\n"
     ]
    },
    {
     "name": "stderr",
     "output_type": "stream",
     "text": [
      "15it [01:03,  5.45s/it]"
     ]
    },
    {
     "name": "stdout",
     "output_type": "stream",
     "text": [
      "Currently at df: 16 | 2022-10-16\n"
     ]
    },
    {
     "name": "stderr",
     "output_type": "stream",
     "text": [
      "16it [01:07,  5.16s/it]"
     ]
    },
    {
     "name": "stdout",
     "output_type": "stream",
     "text": [
      "Something went wrong with this sentence\n",
      "Currently at df: 17 | 2022-10-17\n"
     ]
    },
    {
     "name": "stderr",
     "output_type": "stream",
     "text": [
      "17it [01:07,  3.71s/it]"
     ]
    },
    {
     "name": "stdout",
     "output_type": "stream",
     "text": [
      "Something went wrong with this sentence\n",
      "Currently at df: 18 | 2022-10-19\n"
     ]
    },
    {
     "name": "stderr",
     "output_type": "stream",
     "text": [
      "18it [01:09,  3.05s/it]"
     ]
    },
    {
     "name": "stdout",
     "output_type": "stream",
     "text": [
      "Something went wrong with this sentence\n",
      "Currently at df: 19 | 2022-10-20\n"
     ]
    },
    {
     "name": "stderr",
     "output_type": "stream",
     "text": [
      "20it [01:11,  2.05s/it]"
     ]
    },
    {
     "name": "stdout",
     "output_type": "stream",
     "text": [
      "Something went wrong with this sentence\n",
      "Currently at df: 20 | 2022-10-21\n",
      "Something went wrong with this sentence\n",
      "Currently at df: 21 | 2022-10-22\n"
     ]
    },
    {
     "name": "stderr",
     "output_type": "stream",
     "text": [
      "21it [01:12,  1.50s/it]"
     ]
    },
    {
     "name": "stdout",
     "output_type": "stream",
     "text": [
      "Something went wrong with this sentence\n",
      "Currently at df: 22 | 2022-10-23\n"
     ]
    },
    {
     "name": "stderr",
     "output_type": "stream",
     "text": [
      "22it [01:12,  1.21s/it]"
     ]
    },
    {
     "name": "stdout",
     "output_type": "stream",
     "text": [
      "Something went wrong with this sentence\n",
      "Currently at df: 23 | 2022-10-24\n"
     ]
    },
    {
     "name": "stderr",
     "output_type": "stream",
     "text": [
      "23it [01:13,  1.07s/it]"
     ]
    },
    {
     "name": "stdout",
     "output_type": "stream",
     "text": [
      "Something went wrong with this sentence\n",
      "Currently at df: 24 | 2022-10-25\n",
      "Something went wrong with this sentence\n",
      "Currently at df: 25 | 2022-10-26\n"
     ]
    },
    {
     "name": "stderr",
     "output_type": "stream",
     "text": [
      "25it [01:17,  1.49s/it]"
     ]
    },
    {
     "name": "stdout",
     "output_type": "stream",
     "text": [
      "Something went wrong with this sentence\n",
      "Currently at df: 26 | 2022-10-28\n"
     ]
    },
    {
     "name": "stderr",
     "output_type": "stream",
     "text": [
      "26it [01:23,  2.53s/it]"
     ]
    },
    {
     "name": "stdout",
     "output_type": "stream",
     "text": [
      "Something went wrong with this sentence\n",
      "Currently at df: 27 | 2022-10-29\n"
     ]
    },
    {
     "name": "stderr",
     "output_type": "stream",
     "text": [
      "27it [01:25,  2.48s/it]"
     ]
    },
    {
     "name": "stdout",
     "output_type": "stream",
     "text": [
      "Something went wrong with this sentence\n",
      "Currently at df: 28 | 2022-10-30\n"
     ]
    },
    {
     "name": "stderr",
     "output_type": "stream",
     "text": [
      "28it [01:25,  1.92s/it]"
     ]
    },
    {
     "name": "stdout",
     "output_type": "stream",
     "text": [
      "Something went wrong with this sentence\n",
      "Currently at df: 29 | 2022-11-01\n",
      "Something went wrong with this sentence\n",
      "Currently at df: 30 | 2022-11-02\n"
     ]
    },
    {
     "name": "stderr",
     "output_type": "stream",
     "text": [
      "30it [01:29,  1.82s/it]"
     ]
    },
    {
     "name": "stdout",
     "output_type": "stream",
     "text": [
      "Something went wrong with this sentence\n",
      "Currently at df: 31 | 2022-11-03\n"
     ]
    },
    {
     "name": "stderr",
     "output_type": "stream",
     "text": [
      "31it [01:29,  1.54s/it]"
     ]
    },
    {
     "name": "stdout",
     "output_type": "stream",
     "text": [
      "Something went wrong with this sentence\n",
      "Currently at df: 32 | 2022-11-04\n"
     ]
    },
    {
     "name": "stderr",
     "output_type": "stream",
     "text": [
      "32it [01:31,  1.64s/it]"
     ]
    },
    {
     "name": "stdout",
     "output_type": "stream",
     "text": [
      "Something went wrong with this sentence\n",
      "Currently at df: 33 | 2022-11-05\n"
     ]
    },
    {
     "name": "stderr",
     "output_type": "stream",
     "text": [
      "33it [01:34,  1.79s/it]"
     ]
    },
    {
     "name": "stdout",
     "output_type": "stream",
     "text": [
      "Something went wrong with this sentence\n",
      "Currently at df: 34 | 2022-11-06\n"
     ]
    },
    {
     "name": "stderr",
     "output_type": "stream",
     "text": [
      "34it [01:36,  1.94s/it]"
     ]
    },
    {
     "name": "stdout",
     "output_type": "stream",
     "text": [
      "Something went wrong with this sentence\n",
      "Currently at df: 35 | 2022-11-07\n"
     ]
    },
    {
     "name": "stderr",
     "output_type": "stream",
     "text": [
      "35it [01:37,  1.79s/it]"
     ]
    },
    {
     "name": "stdout",
     "output_type": "stream",
     "text": [
      "Something went wrong with this sentence\n",
      "Currently at df: 36 | 2022-11-08\n"
     ]
    },
    {
     "name": "stderr",
     "output_type": "stream",
     "text": [
      "36it [01:38,  1.47s/it]"
     ]
    },
    {
     "name": "stdout",
     "output_type": "stream",
     "text": [
      "Something went wrong with this sentence\n",
      "Currently at df: 37 | 2022-11-09\n"
     ]
    },
    {
     "name": "stderr",
     "output_type": "stream",
     "text": [
      "37it [01:38,  1.18s/it]"
     ]
    },
    {
     "name": "stdout",
     "output_type": "stream",
     "text": [
      "Something went wrong with this sentence\n",
      "Currently at df: 38 | 2022-11-10\n"
     ]
    },
    {
     "name": "stderr",
     "output_type": "stream",
     "text": [
      "38it [01:39,  1.10it/s]"
     ]
    },
    {
     "name": "stdout",
     "output_type": "stream",
     "text": [
      "Something went wrong with this sentence\n",
      "Currently at df: 39 | 2022-11-12\n"
     ]
    },
    {
     "name": "stderr",
     "output_type": "stream",
     "text": [
      "39it [01:40,  2.59s/it]"
     ]
    },
    {
     "name": "stdout",
     "output_type": "stream",
     "text": [
      "Something went wrong with this sentence\n"
     ]
    },
    {
     "name": "stderr",
     "output_type": "stream",
     "text": [
      "\n"
     ]
    }
   ],
   "source": [
    "get_sentiments()"
   ]
  },
  {
   "cell_type": "markdown",
   "metadata": {},
   "source": [
    "Seems like there are issues with the sentences -> Create a new function to skip sentences with issues"
   ]
  },
  {
   "cell_type": "code",
   "execution_count": 32,
   "metadata": {
    "execution": {
     "iopub.execute_input": "2022-11-30T07:02:51.560968Z",
     "iopub.status.busy": "2022-11-30T07:02:51.560499Z",
     "iopub.status.idle": "2022-11-30T07:02:51.573029Z",
     "shell.execute_reply": "2022-11-30T07:02:51.571840Z",
     "shell.execute_reply.started": "2022-11-30T07:02:51.560926Z"
    }
   },
   "outputs": [],
   "source": [
    "# preprocess() will not change\n",
    "def calculate_sentiment(sentence):\n",
    "    sid_obj = SentimentIntensityAnalyzer()\n",
    "    try:\n",
    "        sentiment_dict = sid_obj.polarity_scores(sentence)        \n",
    "        return sentiment_dict['neg'], sentiment_dict['neu'], sentiment_dict['pos'], sentiment_dict['compound']\n",
    "    except Exception as e:\n",
    "        print(f'Something went wrong with this sentence: {sentence}')\n",
    "        return e\n",
    "\n",
    "def analyze_sentiments():\n",
    "    sentiment_analyzed_dfs = []\n",
    "    for i, df in tqdm(enumerate(dfs)):\n",
    "        # Certain files have timestamp, certain have date\n",
    "        if df.iloc[0].get('timestamp'):\n",
    "            df_filename = str(df.iloc[0]['timestamp'])\n",
    "        else:\n",
    "            df_filename = str(df.iloc[0]['date'])\n",
    "\n",
    "        print(f'Currently at df: {i+1} | {df_filename}')\n",
    "        negative_scores = []\n",
    "        positive_scores = []\n",
    "        neutral_scores = []\n",
    "        compound_scores = []\n",
    "\n",
    "        for j in range(df.shape[0]):\n",
    "            try:\n",
    "                neg, neu, pos, compound = calculate_sentiment(preprocess(df.iloc[j]['text']))\n",
    "            except:\n",
    "                neg, neu, pos, compound = None, None, None, None\n",
    "\n",
    "            negative_scores.append(neg)\n",
    "            positive_scores.append(pos)\n",
    "            neutral_scores.append(neu)\n",
    "            compound_scores.append(compound)\n",
    "            \n",
    "        df['negative_score'] = negative_scores\n",
    "        df['positive_score'] = positive_scores\n",
    "        df['neutral_score'] = neutral_scores\n",
    "        df['compound_score'] = compound_scores\n",
    "        sentiment_analyzed_dfs.append(df)\n",
    "        df.to_csv(f'{output_path}/{df_filename}.csv')\n",
    "\n",
    "    return sentiment_analyzed_dfs"
   ]
  },
  {
   "cell_type": "code",
   "execution_count": 33,
   "metadata": {
    "execution": {
     "iopub.execute_input": "2022-11-30T07:02:57.445139Z",
     "iopub.status.busy": "2022-11-30T07:02:57.444701Z",
     "iopub.status.idle": "2022-11-30T07:06:36.046060Z",
     "shell.execute_reply": "2022-11-30T07:06:36.045129Z",
     "shell.execute_reply.started": "2022-11-30T07:02:57.445086Z"
    }
   },
   "outputs": [
    {
     "name": "stderr",
     "output_type": "stream",
     "text": [
      "0it [00:00, ?it/s]"
     ]
    },
    {
     "name": "stdout",
     "output_type": "stream",
     "text": [
      "Currently at df: 1 | 2017-08-04\n",
      "Something went wrong with this sentence: None\n",
      "Something went wrong with this sentence: None\n",
      "Something went wrong with this sentence: None\n"
     ]
    },
    {
     "name": "stderr",
     "output_type": "stream",
     "text": [
      "1it [00:04,  4.61s/it]"
     ]
    },
    {
     "name": "stdout",
     "output_type": "stream",
     "text": [
      "Currently at df: 2 | 2018-02-05\n",
      "Something went wrong with this sentence: None\n"
     ]
    },
    {
     "name": "stderr",
     "output_type": "stream",
     "text": [
      "2it [00:11,  5.68s/it]"
     ]
    },
    {
     "name": "stdout",
     "output_type": "stream",
     "text": [
      "Currently at df: 3 | 2018-04-06\n",
      "Something went wrong with this sentence: None\n"
     ]
    },
    {
     "name": "stderr",
     "output_type": "stream",
     "text": [
      "3it [00:17,  5.97s/it]"
     ]
    },
    {
     "name": "stdout",
     "output_type": "stream",
     "text": [
      "Currently at df: 4 | 2018-08-03\n",
      "Something went wrong with this sentence: None\n"
     ]
    },
    {
     "name": "stderr",
     "output_type": "stream",
     "text": [
      "4it [00:23,  6.13s/it]"
     ]
    },
    {
     "name": "stdout",
     "output_type": "stream",
     "text": [
      "Currently at df: 5 | 2019-06-24\n",
      "Something went wrong with this sentence: None\n"
     ]
    },
    {
     "name": "stderr",
     "output_type": "stream",
     "text": [
      "5it [00:30,  6.21s/it]"
     ]
    },
    {
     "name": "stdout",
     "output_type": "stream",
     "text": [
      "Currently at df: 6 | 2020-12-22\n"
     ]
    },
    {
     "name": "stderr",
     "output_type": "stream",
     "text": [
      "6it [00:35,  6.01s/it]"
     ]
    },
    {
     "name": "stdout",
     "output_type": "stream",
     "text": [
      "Currently at df: 7 | 2020-12-23\n"
     ]
    },
    {
     "name": "stderr",
     "output_type": "stream",
     "text": [
      "7it [00:41,  5.80s/it]"
     ]
    },
    {
     "name": "stdout",
     "output_type": "stream",
     "text": [
      "Currently at df: 8 | 2020-12-24\n"
     ]
    },
    {
     "name": "stderr",
     "output_type": "stream",
     "text": [
      "8it [00:46,  5.62s/it]"
     ]
    },
    {
     "name": "stdout",
     "output_type": "stream",
     "text": [
      "Currently at df: 9 | 2020-12-25\n"
     ]
    },
    {
     "name": "stderr",
     "output_type": "stream",
     "text": [
      "9it [00:51,  5.52s/it]"
     ]
    },
    {
     "name": "stdout",
     "output_type": "stream",
     "text": [
      "Currently at df: 10 | 2020-12-26\n"
     ]
    },
    {
     "name": "stderr",
     "output_type": "stream",
     "text": [
      "10it [00:56,  5.46s/it]"
     ]
    },
    {
     "name": "stdout",
     "output_type": "stream",
     "text": [
      "Currently at df: 11 | 2020-12-27\n"
     ]
    },
    {
     "name": "stderr",
     "output_type": "stream",
     "text": [
      "11it [01:02,  5.43s/it]"
     ]
    },
    {
     "name": "stdout",
     "output_type": "stream",
     "text": [
      "Currently at df: 12 | 2020-12-28\n"
     ]
    },
    {
     "name": "stderr",
     "output_type": "stream",
     "text": [
      "12it [01:07,  5.46s/it]"
     ]
    },
    {
     "name": "stdout",
     "output_type": "stream",
     "text": [
      "Currently at df: 13 | 2020-12-29\n"
     ]
    },
    {
     "name": "stderr",
     "output_type": "stream",
     "text": [
      "13it [01:13,  5.45s/it]"
     ]
    },
    {
     "name": "stdout",
     "output_type": "stream",
     "text": [
      "Currently at df: 14 | 2020-12-30\n"
     ]
    },
    {
     "name": "stderr",
     "output_type": "stream",
     "text": [
      "14it [01:18,  5.43s/it]"
     ]
    },
    {
     "name": "stdout",
     "output_type": "stream",
     "text": [
      "Currently at df: 15 | 2020-12-31\n"
     ]
    },
    {
     "name": "stderr",
     "output_type": "stream",
     "text": [
      "15it [01:24,  5.43s/it]"
     ]
    },
    {
     "name": "stdout",
     "output_type": "stream",
     "text": [
      "Currently at df: 16 | 2022-10-16\n",
      "Something went wrong with this sentence: None\n",
      "Something went wrong with this sentence: None\n",
      "Something went wrong with this sentence: None\n",
      "Something went wrong with this sentence: None\n",
      "Something went wrong with this sentence: None\n",
      "Something went wrong with this sentence: None\n",
      "Something went wrong with this sentence: None\n",
      "Something went wrong with this sentence: None\n",
      "Something went wrong with this sentence: None\n",
      "Something went wrong with this sentence: None\n",
      "Something went wrong with this sentence: None\n"
     ]
    },
    {
     "name": "stderr",
     "output_type": "stream",
     "text": [
      "16it [01:29,  5.46s/it]"
     ]
    },
    {
     "name": "stdout",
     "output_type": "stream",
     "text": [
      "Currently at df: 17 | 2022-10-17\n",
      "Something went wrong with this sentence: None\n",
      "Something went wrong with this sentence: None\n",
      "Something went wrong with this sentence: None\n",
      "Something went wrong with this sentence: None\n",
      "Something went wrong with this sentence: None\n",
      "Something went wrong with this sentence: None\n",
      "Something went wrong with this sentence: None\n"
     ]
    },
    {
     "name": "stderr",
     "output_type": "stream",
     "text": [
      "17it [01:35,  5.51s/it]"
     ]
    },
    {
     "name": "stdout",
     "output_type": "stream",
     "text": [
      "Currently at df: 18 | 2022-10-19\n",
      "Something went wrong with this sentence: None\n",
      "Something went wrong with this sentence: None\n",
      "Something went wrong with this sentence: None\n",
      "Something went wrong with this sentence: None\n",
      "Something went wrong with this sentence: None\n",
      "Something went wrong with this sentence: None\n"
     ]
    },
    {
     "name": "stderr",
     "output_type": "stream",
     "text": [
      "18it [01:40,  5.53s/it]"
     ]
    },
    {
     "name": "stdout",
     "output_type": "stream",
     "text": [
      "Currently at df: 19 | 2022-10-20\n",
      "Something went wrong with this sentence: None\n",
      "Something went wrong with this sentence: None\n",
      "Something went wrong with this sentence: None\n",
      "Something went wrong with this sentence: None\n",
      "Something went wrong with this sentence: None\n",
      "Something went wrong with this sentence: None\n",
      "Something went wrong with this sentence: None\n",
      "Something went wrong with this sentence: None\n",
      "Something went wrong with this sentence: None\n",
      "Something went wrong with this sentence: None\n",
      "Something went wrong with this sentence: None\n",
      "Something went wrong with this sentence: None\n",
      "Something went wrong with this sentence: None\n",
      "Something went wrong with this sentence: None\n"
     ]
    },
    {
     "name": "stderr",
     "output_type": "stream",
     "text": [
      "19it [01:46,  5.58s/it]"
     ]
    },
    {
     "name": "stdout",
     "output_type": "stream",
     "text": [
      "Currently at df: 20 | 2022-10-21\n",
      "Something went wrong with this sentence: None\n",
      "Something went wrong with this sentence: None\n",
      "Something went wrong with this sentence: None\n",
      "Something went wrong with this sentence: None\n",
      "Something went wrong with this sentence: None\n",
      "Something went wrong with this sentence: None\n",
      "Something went wrong with this sentence: None\n",
      "Something went wrong with this sentence: None\n",
      "Something went wrong with this sentence: None\n",
      "Something went wrong with this sentence: None\n",
      "Something went wrong with this sentence: None\n",
      "Something went wrong with this sentence: None\n",
      "Something went wrong with this sentence: None\n",
      "Something went wrong with this sentence: None\n",
      "Something went wrong with this sentence: None\n",
      "Something went wrong with this sentence: None\n",
      "Something went wrong with this sentence: None\n",
      "Something went wrong with this sentence: None\n",
      "Something went wrong with this sentence: None\n",
      "Something went wrong with this sentence: None\n",
      "Something went wrong with this sentence: None\n",
      "Something went wrong with this sentence: None\n",
      "Something went wrong with this sentence: None\n"
     ]
    },
    {
     "name": "stderr",
     "output_type": "stream",
     "text": [
      "20it [01:52,  5.65s/it]"
     ]
    },
    {
     "name": "stdout",
     "output_type": "stream",
     "text": [
      "Currently at df: 21 | 2022-10-22\n",
      "Something went wrong with this sentence: None\n",
      "Something went wrong with this sentence: None\n",
      "Something went wrong with this sentence: None\n",
      "Something went wrong with this sentence: None\n",
      "Something went wrong with this sentence: None\n",
      "Something went wrong with this sentence: None\n",
      "Something went wrong with this sentence: None\n",
      "Something went wrong with this sentence: None\n",
      "Something went wrong with this sentence: None\n",
      "Something went wrong with this sentence: None\n",
      "Something went wrong with this sentence: None\n",
      "Something went wrong with this sentence: None\n",
      "Something went wrong with this sentence: None\n",
      "Something went wrong with this sentence: None\n",
      "Something went wrong with this sentence: None\n",
      "Something went wrong with this sentence: None\n",
      "Something went wrong with this sentence: None\n",
      "Something went wrong with this sentence: None\n",
      "Something went wrong with this sentence: None\n",
      "Something went wrong with this sentence: None\n",
      "Something went wrong with this sentence: None\n",
      "Something went wrong with this sentence: None\n",
      "Something went wrong with this sentence: None\n"
     ]
    },
    {
     "name": "stderr",
     "output_type": "stream",
     "text": [
      "21it [01:57,  5.65s/it]"
     ]
    },
    {
     "name": "stdout",
     "output_type": "stream",
     "text": [
      "Currently at df: 22 | 2022-10-23\n",
      "Something went wrong with this sentence: None\n",
      "Something went wrong with this sentence: None\n",
      "Something went wrong with this sentence: None\n",
      "Something went wrong with this sentence: None\n",
      "Something went wrong with this sentence: None\n",
      "Something went wrong with this sentence: None\n",
      "Something went wrong with this sentence: None\n",
      "Something went wrong with this sentence: None\n",
      "Something went wrong with this sentence: None\n",
      "Something went wrong with this sentence: None\n",
      "Something went wrong with this sentence: None\n",
      "Something went wrong with this sentence: None\n",
      "Something went wrong with this sentence: None\n"
     ]
    },
    {
     "name": "stderr",
     "output_type": "stream",
     "text": [
      "22it [02:03,  5.59s/it]"
     ]
    },
    {
     "name": "stdout",
     "output_type": "stream",
     "text": [
      "Currently at df: 23 | 2022-10-24\n",
      "Something went wrong with this sentence: None\n",
      "Something went wrong with this sentence: None\n",
      "Something went wrong with this sentence: None\n",
      "Something went wrong with this sentence: None\n",
      "Something went wrong with this sentence: None\n",
      "Something went wrong with this sentence: None\n",
      "Something went wrong with this sentence: None\n",
      "Something went wrong with this sentence: None\n",
      "Something went wrong with this sentence: None\n",
      "Something went wrong with this sentence: None\n",
      "Something went wrong with this sentence: None\n",
      "Something went wrong with this sentence: None\n",
      "Something went wrong with this sentence: None\n",
      "Something went wrong with this sentence: None\n",
      "Something went wrong with this sentence: None\n",
      "Something went wrong with this sentence: None\n"
     ]
    },
    {
     "name": "stderr",
     "output_type": "stream",
     "text": [
      "23it [02:09,  5.63s/it]"
     ]
    },
    {
     "name": "stdout",
     "output_type": "stream",
     "text": [
      "Currently at df: 24 | 2022-10-25\n",
      "Something went wrong with this sentence: None\n",
      "Something went wrong with this sentence: None\n",
      "Something went wrong with this sentence: None\n",
      "Something went wrong with this sentence: None\n",
      "Something went wrong with this sentence: None\n",
      "Something went wrong with this sentence: None\n",
      "Something went wrong with this sentence: None\n",
      "Something went wrong with this sentence: None\n",
      "Something went wrong with this sentence: None\n",
      "Something went wrong with this sentence: None\n",
      "Something went wrong with this sentence: None\n",
      "Something went wrong with this sentence: None\n",
      "Something went wrong with this sentence: None\n",
      "Something went wrong with this sentence: None\n",
      "Something went wrong with this sentence: None\n",
      "Something went wrong with this sentence: None\n",
      "Something went wrong with this sentence: None\n",
      "Something went wrong with this sentence: None\n",
      "Something went wrong with this sentence: None\n",
      "Something went wrong with this sentence: None\n",
      "Something went wrong with this sentence: None\n",
      "Something went wrong with this sentence: None\n",
      "Something went wrong with this sentence: None\n"
     ]
    },
    {
     "name": "stderr",
     "output_type": "stream",
     "text": [
      "24it [02:14,  5.66s/it]"
     ]
    },
    {
     "name": "stdout",
     "output_type": "stream",
     "text": [
      "Currently at df: 25 | 2022-10-26\n",
      "Something went wrong with this sentence: None\n",
      "Something went wrong with this sentence: None\n",
      "Something went wrong with this sentence: None\n",
      "Something went wrong with this sentence: None\n",
      "Something went wrong with this sentence: None\n",
      "Something went wrong with this sentence: None\n"
     ]
    },
    {
     "name": "stderr",
     "output_type": "stream",
     "text": [
      "25it [02:20,  5.54s/it]"
     ]
    },
    {
     "name": "stdout",
     "output_type": "stream",
     "text": [
      "Currently at df: 26 | 2022-10-28\n",
      "Something went wrong with this sentence: None\n",
      "Something went wrong with this sentence: None\n",
      "Something went wrong with this sentence: None\n",
      "Something went wrong with this sentence: None\n",
      "Something went wrong with this sentence: None\n"
     ]
    },
    {
     "name": "stderr",
     "output_type": "stream",
     "text": [
      "26it [02:25,  5.65s/it]"
     ]
    },
    {
     "name": "stdout",
     "output_type": "stream",
     "text": [
      "Currently at df: 27 | 2022-10-29\n",
      "Something went wrong with this sentence: None\n",
      "Something went wrong with this sentence: None\n",
      "Something went wrong with this sentence: None\n",
      "Something went wrong with this sentence: None\n",
      "Something went wrong with this sentence: None\n",
      "Something went wrong with this sentence: None\n",
      "Something went wrong with this sentence: None\n",
      "Something went wrong with this sentence: None\n",
      "Something went wrong with this sentence: None\n",
      "Something went wrong with this sentence: None\n",
      "Something went wrong with this sentence: None\n",
      "Something went wrong with this sentence: None\n",
      "Something went wrong with this sentence: None\n",
      "Something went wrong with this sentence: None\n",
      "Something went wrong with this sentence: None\n",
      "Something went wrong with this sentence: None\n",
      "Something went wrong with this sentence: None\n",
      "Something went wrong with this sentence: None\n",
      "Something went wrong with this sentence: None\n",
      "Something went wrong with this sentence: None\n",
      "Something went wrong with this sentence: None\n"
     ]
    },
    {
     "name": "stderr",
     "output_type": "stream",
     "text": [
      "27it [02:31,  5.65s/it]"
     ]
    },
    {
     "name": "stdout",
     "output_type": "stream",
     "text": [
      "Currently at df: 28 | 2022-10-30\n",
      "Something went wrong with this sentence: None\n",
      "Something went wrong with this sentence: None\n",
      "Something went wrong with this sentence: None\n",
      "Something went wrong with this sentence: None\n",
      "Something went wrong with this sentence: None\n",
      "Something went wrong with this sentence: None\n",
      "Something went wrong with this sentence: None\n",
      "Something went wrong with this sentence: None\n",
      "Something went wrong with this sentence: None\n",
      "Something went wrong with this sentence: None\n",
      "Something went wrong with this sentence: None\n",
      "Something went wrong with this sentence: None\n",
      "Something went wrong with this sentence: None\n",
      "Something went wrong with this sentence: None\n",
      "Something went wrong with this sentence: None\n",
      "Something went wrong with this sentence: None\n",
      "Something went wrong with this sentence: None\n"
     ]
    },
    {
     "name": "stderr",
     "output_type": "stream",
     "text": [
      "28it [02:37,  5.60s/it]"
     ]
    },
    {
     "name": "stdout",
     "output_type": "stream",
     "text": [
      "Currently at df: 29 | 2022-11-01\n",
      "Something went wrong with this sentence: None\n",
      "Something went wrong with this sentence: None\n",
      "Something went wrong with this sentence: None\n",
      "Something went wrong with this sentence: None\n",
      "Something went wrong with this sentence: None\n",
      "Something went wrong with this sentence: None\n",
      "Something went wrong with this sentence: None\n",
      "Something went wrong with this sentence: None\n",
      "Something went wrong with this sentence: None\n",
      "Something went wrong with this sentence: None\n",
      "Something went wrong with this sentence: None\n"
     ]
    },
    {
     "name": "stderr",
     "output_type": "stream",
     "text": [
      "29it [02:42,  5.57s/it]"
     ]
    },
    {
     "name": "stdout",
     "output_type": "stream",
     "text": [
      "Currently at df: 30 | 2022-11-02\n",
      "Something went wrong with this sentence: None\n",
      "Something went wrong with this sentence: None\n",
      "Something went wrong with this sentence: None\n",
      "Something went wrong with this sentence: None\n",
      "Something went wrong with this sentence: None\n",
      "Something went wrong with this sentence: None\n",
      "Something went wrong with this sentence: None\n",
      "Something went wrong with this sentence: None\n",
      "Something went wrong with this sentence: None\n",
      "Something went wrong with this sentence: None\n",
      "Something went wrong with this sentence: None\n",
      "Something went wrong with this sentence: None\n",
      "Something went wrong with this sentence: None\n",
      "Something went wrong with this sentence: None\n",
      "Something went wrong with this sentence: None\n",
      "Something went wrong with this sentence: None\n",
      "Something went wrong with this sentence: None\n",
      "Something went wrong with this sentence: None\n"
     ]
    },
    {
     "name": "stderr",
     "output_type": "stream",
     "text": [
      "30it [02:48,  5.65s/it]"
     ]
    },
    {
     "name": "stdout",
     "output_type": "stream",
     "text": [
      "Currently at df: 31 | 2022-11-03\n",
      "Something went wrong with this sentence: None\n",
      "Something went wrong with this sentence: None\n",
      "Something went wrong with this sentence: None\n",
      "Something went wrong with this sentence: None\n",
      "Something went wrong with this sentence: None\n",
      "Something went wrong with this sentence: None\n",
      "Something went wrong with this sentence: None\n",
      "Something went wrong with this sentence: None\n",
      "Something went wrong with this sentence: None\n",
      "Something went wrong with this sentence: None\n",
      "Something went wrong with this sentence: None\n",
      "Something went wrong with this sentence: None\n",
      "Something went wrong with this sentence: None\n",
      "Something went wrong with this sentence: None\n"
     ]
    },
    {
     "name": "stderr",
     "output_type": "stream",
     "text": [
      "31it [02:54,  5.72s/it]"
     ]
    },
    {
     "name": "stdout",
     "output_type": "stream",
     "text": [
      "Currently at df: 32 | 2022-11-04\n",
      "Something went wrong with this sentence: None\n",
      "Something went wrong with this sentence: None\n",
      "Something went wrong with this sentence: None\n",
      "Something went wrong with this sentence: None\n",
      "Something went wrong with this sentence: None\n",
      "Something went wrong with this sentence: None\n",
      "Something went wrong with this sentence: None\n"
     ]
    },
    {
     "name": "stderr",
     "output_type": "stream",
     "text": [
      "32it [03:00,  5.74s/it]"
     ]
    },
    {
     "name": "stdout",
     "output_type": "stream",
     "text": [
      "Currently at df: 33 | 2022-11-05\n",
      "Something went wrong with this sentence: None\n",
      "Something went wrong with this sentence: None\n",
      "Something went wrong with this sentence: None\n",
      "Something went wrong with this sentence: None\n",
      "Something went wrong with this sentence: None\n",
      "Something went wrong with this sentence: None\n",
      "Something went wrong with this sentence: None\n",
      "Something went wrong with this sentence: None\n",
      "Something went wrong with this sentence: None\n"
     ]
    },
    {
     "name": "stderr",
     "output_type": "stream",
     "text": [
      "33it [03:05,  5.77s/it]"
     ]
    },
    {
     "name": "stdout",
     "output_type": "stream",
     "text": [
      "Currently at df: 34 | 2022-11-06\n",
      "Something went wrong with this sentence: None\n",
      "Something went wrong with this sentence: None\n"
     ]
    },
    {
     "name": "stderr",
     "output_type": "stream",
     "text": [
      "34it [03:11,  5.78s/it]"
     ]
    },
    {
     "name": "stdout",
     "output_type": "stream",
     "text": [
      "Currently at df: 35 | 2022-11-07\n",
      "Something went wrong with this sentence: None\n",
      "Something went wrong with this sentence: None\n",
      "Something went wrong with this sentence: None\n",
      "Something went wrong with this sentence: None\n",
      "Something went wrong with this sentence: None\n",
      "Something went wrong with this sentence: None\n",
      "Something went wrong with this sentence: None\n",
      "Something went wrong with this sentence: None\n",
      "Something went wrong with this sentence: None\n",
      "Something went wrong with this sentence: None\n",
      "Something went wrong with this sentence: None\n"
     ]
    },
    {
     "name": "stderr",
     "output_type": "stream",
     "text": [
      "35it [03:17,  5.71s/it]"
     ]
    },
    {
     "name": "stdout",
     "output_type": "stream",
     "text": [
      "Currently at df: 36 | 2022-11-08\n",
      "Something went wrong with this sentence: None\n",
      "Something went wrong with this sentence: None\n",
      "Something went wrong with this sentence: None\n",
      "Something went wrong with this sentence: None\n",
      "Something went wrong with this sentence: None\n",
      "Something went wrong with this sentence: None\n",
      "Something went wrong with this sentence: None\n",
      "Something went wrong with this sentence: None\n",
      "Something went wrong with this sentence: None\n",
      "Something went wrong with this sentence: None\n"
     ]
    },
    {
     "name": "stderr",
     "output_type": "stream",
     "text": [
      "36it [03:22,  5.61s/it]"
     ]
    },
    {
     "name": "stdout",
     "output_type": "stream",
     "text": [
      "Currently at df: 37 | 2022-11-09\n",
      "Something went wrong with this sentence: None\n",
      "Something went wrong with this sentence: None\n",
      "Something went wrong with this sentence: None\n",
      "Something went wrong with this sentence: None\n",
      "Something went wrong with this sentence: None\n",
      "Something went wrong with this sentence: None\n",
      "Something went wrong with this sentence: None\n"
     ]
    },
    {
     "name": "stderr",
     "output_type": "stream",
     "text": [
      "37it [03:27,  5.47s/it]"
     ]
    },
    {
     "name": "stdout",
     "output_type": "stream",
     "text": [
      "Something went wrong with this sentence: None\n",
      "Something went wrong with this sentence: None\n",
      "Something went wrong with this sentence: None\n",
      "Something went wrong with this sentence: None\n",
      "Currently at df: 38 | 2022-11-10\n",
      "Something went wrong with this sentence: None\n",
      "Something went wrong with this sentence: None\n",
      "Something went wrong with this sentence: None\n",
      "Something went wrong with this sentence: None\n",
      "Something went wrong with this sentence: None\n",
      "Something went wrong with this sentence: None\n",
      "Something went wrong with this sentence: None\n",
      "Something went wrong with this sentence: None\n",
      "Something went wrong with this sentence: None\n",
      "Something went wrong with this sentence: None\n",
      "Something went wrong with this sentence: None\n",
      "Something went wrong with this sentence: None\n",
      "Something went wrong with this sentence: None\n",
      "Something went wrong with this sentence: None\n",
      "Something went wrong with this sentence: None\n",
      "Something went wrong with this sentence: None\n",
      "Something went wrong with this sentence: None\n",
      "Something went wrong with this sentence: None\n",
      "Something went wrong with this sentence: None\n",
      "Something went wrong with this sentence: None\n",
      "Something went wrong with this sentence: None\n"
     ]
    },
    {
     "name": "stderr",
     "output_type": "stream",
     "text": [
      "38it [03:33,  5.43s/it]"
     ]
    },
    {
     "name": "stdout",
     "output_type": "stream",
     "text": [
      "Currently at df: 39 | 2022-11-12\n",
      "Something went wrong with this sentence: None\n",
      "Something went wrong with this sentence: None\n",
      "Something went wrong with this sentence: None\n",
      "Something went wrong with this sentence: None\n",
      "Something went wrong with this sentence: None\n",
      "Something went wrong with this sentence: None\n",
      "Something went wrong with this sentence: None\n",
      "Something went wrong with this sentence: None\n",
      "Something went wrong with this sentence: None\n",
      "Something went wrong with this sentence: None\n",
      "Something went wrong with this sentence: None\n",
      "Something went wrong with this sentence: None\n",
      "Something went wrong with this sentence: None\n",
      "Something went wrong with this sentence: None\n",
      "Something went wrong with this sentence: None\n"
     ]
    },
    {
     "name": "stderr",
     "output_type": "stream",
     "text": [
      "39it [03:38,  5.60s/it]\n"
     ]
    }
   ],
   "source": [
    "get_sentiments()"
   ]
  },
  {
   "cell_type": "code",
   "execution_count": 34,
   "metadata": {
    "execution": {
     "iopub.execute_input": "2022-11-30T07:07:49.535469Z",
     "iopub.status.busy": "2022-11-30T07:07:49.535039Z",
     "iopub.status.idle": "2022-11-30T07:07:50.790032Z",
     "shell.execute_reply": "2022-11-30T07:07:50.788852Z",
     "shell.execute_reply.started": "2022-11-30T07:07:49.535433Z"
    }
   },
   "outputs": [
    {
     "name": "stdout",
     "output_type": "stream",
     "text": [
      "  adding: outputs/ (stored 0%)\n",
      "  adding: outputs/2022-11-05.csv (deflated 60%)\n",
      "  adding: outputs/2020-12-28.csv (deflated 59%)\n",
      "  adding: outputs/2022-11-06.csv (deflated 58%)\n",
      "  adding: outputs/2020-12-27.csv (deflated 56%)\n",
      "  adding: outputs/2022-11-08.csv (deflated 59%)\n",
      "  adding: outputs/2020-12-26.csv (deflated 59%)\n",
      "  adding: outputs/2022-10-29.csv (deflated 63%)\n",
      "  adding: outputs/2020-12-24.csv (deflated 56%)\n",
      "  adding: outputs/2022-11-10.csv (deflated 61%)\n",
      "  adding: outputs/2022-10-30.csv (deflated 61%)\n",
      "  adding: outputs/2018-04-06.csv (deflated 58%)\n",
      "  adding: outputs/2022-11-07.csv (deflated 62%)\n",
      "  adding: outputs/2022-10-22.csv (deflated 68%)\n",
      "  adding: outputs/2020-12-23.csv (deflated 57%)\n",
      "  adding: outputs/2022-11-04.csv (deflated 59%)\n",
      "  adding: outputs/2020-12-22.csv (deflated 58%)\n",
      "  adding: outputs/2022-11-03.csv (deflated 61%)\n",
      "  adding: outputs/2020-12-31.csv (deflated 57%)\n",
      "  adding: outputs/2018-08-03.csv (deflated 59%)\n",
      "  adding: outputs/2022-10-28.csv (deflated 60%)\n",
      "  adding: outputs/2020-12-25.csv (deflated 57%)\n",
      "  adding: outputs/2022-10-23.csv (deflated 68%)\n",
      "  adding: outputs/2022-10-19.csv (deflated 67%)\n",
      "  adding: outputs/2022-10-25.csv (deflated 66%)\n",
      "  adding: outputs/2022-10-26.csv (deflated 65%)\n",
      "  adding: outputs/2022-10-21.csv (deflated 68%)\n",
      "  adding: outputs/2022-11-01.csv (deflated 64%)\n",
      "  adding: outputs/2019-06-24.csv (deflated 56%)\n",
      "  adding: outputs/2022-11-02.csv (deflated 61%)\n",
      "  adding: outputs/2022-11-12.csv (deflated 60%)\n",
      "  adding: outputs/2022-11-09.csv (deflated 59%)\n",
      "  adding: outputs/2022-10-24.csv (deflated 66%)\n",
      "  adding: outputs/2022-10-20.csv (deflated 67%)\n",
      "  adding: outputs/2018-02-05.csv (deflated 60%)\n",
      "  adding: outputs/2022-10-17.csv (deflated 65%)\n",
      "  adding: outputs/2020-12-30.csv (deflated 55%)\n",
      "  adding: outputs/2020-12-29.csv (deflated 56%)\n",
      "  adding: outputs/2017-08-04.csv (deflated 74%)\n",
      "  adding: outputs/2022-10-16.csv (deflated 68%)\n"
     ]
    },
    {
     "data": {
      "text/html": [
       "<a href='file.zip' target='_blank'>file.zip</a><br>"
      ],
      "text/plain": [
       "/kaggle/working/file.zip"
      ]
     },
     "execution_count": 34,
     "metadata": {},
     "output_type": "execute_result"
    }
   ],
   "source": [
    "from IPython.display import FileLink\n",
    "\n",
    "!zip -r file.zip './outputs'\n",
    "FileLink(r'file.zip')"
   ]
  },
  {
   "cell_type": "markdown",
   "metadata": {},
   "source": [
    "### Named Entity Recognition for weighted search\n",
    "\n",
    "NER can be used to extract important users, and if there exists a user the sentiment can be doubled giving it more weightage."
   ]
  },
  {
   "cell_type": "code",
   "execution_count": 2,
   "metadata": {
    "execution": {
     "iopub.execute_input": "2022-12-08T12:12:29.938071Z",
     "iopub.status.busy": "2022-12-08T12:12:29.937384Z",
     "iopub.status.idle": "2022-12-08T12:12:29.944719Z",
     "shell.execute_reply": "2022-12-08T12:12:29.943362Z",
     "shell.execute_reply.started": "2022-12-08T12:12:29.938026Z"
    }
   },
   "outputs": [],
   "source": [
    "import spacy\n",
    "from spacy import displacy\n",
    "\n",
    "import pandas as pd\n",
    "import numpy as np\n",
    "\n",
    "import os\n",
    "from tqdm import tqdm\n",
    "import math"
   ]
  },
  {
   "cell_type": "code",
   "execution_count": 3,
   "metadata": {
    "execution": {
     "iopub.execute_input": "2022-12-08T12:12:38.113306Z",
     "iopub.status.busy": "2022-12-08T12:12:38.112862Z",
     "iopub.status.idle": "2022-12-08T12:12:39.049602Z",
     "shell.execute_reply": "2022-12-08T12:12:39.048220Z",
     "shell.execute_reply.started": "2022-12-08T12:12:38.113267Z"
    }
   },
   "outputs": [],
   "source": [
    "NER = spacy.load('en_core_web_sm')"
   ]
  },
  {
   "cell_type": "code",
   "execution_count": 39,
   "metadata": {
    "execution": {
     "iopub.execute_input": "2022-12-08T12:45:26.648931Z",
     "iopub.status.busy": "2022-12-08T12:45:26.648425Z",
     "iopub.status.idle": "2022-12-08T12:45:51.708602Z",
     "shell.execute_reply": "2022-12-08T12:45:51.707226Z",
     "shell.execute_reply.started": "2022-12-08T12:45:26.648891Z"
    }
   },
   "outputs": [],
   "source": [
    "filepath = '/kaggle/input/tweets-sentiment-unweighed-fixed/outputs'\n",
    "files = os.listdir(filepath)\n",
    "dfs = [pd.read_csv(f'{filepath}/{i}', engine='python') for i in files]"
   ]
  },
  {
   "cell_type": "code",
   "execution_count": 30,
   "metadata": {
    "execution": {
     "iopub.execute_input": "2022-12-08T12:26:05.480587Z",
     "iopub.status.busy": "2022-12-08T12:26:05.480206Z",
     "iopub.status.idle": "2022-12-08T12:26:05.500990Z",
     "shell.execute_reply": "2022-12-08T12:26:05.499434Z",
     "shell.execute_reply.started": "2022-12-08T12:26:05.480555Z"
    }
   },
   "outputs": [
    {
     "data": {
      "text/html": [
       "<div>\n",
       "<style scoped>\n",
       "    .dataframe tbody tr th:only-of-type {\n",
       "        vertical-align: middle;\n",
       "    }\n",
       "\n",
       "    .dataframe tbody tr th {\n",
       "        vertical-align: top;\n",
       "    }\n",
       "\n",
       "    .dataframe thead th {\n",
       "        text-align: right;\n",
       "    }\n",
       "</style>\n",
       "<table border=\"1\" class=\"dataframe\">\n",
       "  <thead>\n",
       "    <tr style=\"text-align: right;\">\n",
       "      <th></th>\n",
       "      <th>Unnamed: 0</th>\n",
       "      <th>Unnamed: 0.1</th>\n",
       "      <th>Unnamed: 0.1.1</th>\n",
       "      <th>user</th>\n",
       "      <th>fullname</th>\n",
       "      <th>timestamp</th>\n",
       "      <th>text</th>\n",
       "      <th>negative_score</th>\n",
       "      <th>neutral_score</th>\n",
       "      <th>positive_score</th>\n",
       "      <th>compound_score</th>\n",
       "    </tr>\n",
       "  </thead>\n",
       "  <tbody>\n",
       "    <tr>\n",
       "      <th>0</th>\n",
       "      <td>0</td>\n",
       "      <td>0</td>\n",
       "      <td>2152655</td>\n",
       "      <td>BTCticker</td>\n",
       "      <td>bitcointicker.co</td>\n",
       "      <td>2016-09-07</td>\n",
       "      <td>One Bitcoin now worth $608.66@bitstamp. High $...</td>\n",
       "      <td>0.117</td>\n",
       "      <td>0.778</td>\n",
       "      <td>0.106</td>\n",
       "      <td>-0.0516</td>\n",
       "    </tr>\n",
       "    <tr>\n",
       "      <th>1</th>\n",
       "      <td>1</td>\n",
       "      <td>1</td>\n",
       "      <td>2152657</td>\n",
       "      <td>BitcoinSpreads</td>\n",
       "      <td>Bitcoin Spreads</td>\n",
       "      <td>2016-09-07</td>\n",
       "      <td>1 #BTC (#Bitcoin) quotes:\\n$608.00/$608.66 #Bi...</td>\n",
       "      <td>0.000</td>\n",
       "      <td>1.000</td>\n",
       "      <td>0.000</td>\n",
       "      <td>0.0000</td>\n",
       "    </tr>\n",
       "    <tr>\n",
       "      <th>2</th>\n",
       "      <td>2</td>\n",
       "      <td>2</td>\n",
       "      <td>2152658</td>\n",
       "      <td>ProjectCoin</td>\n",
       "      <td>Project Coin</td>\n",
       "      <td>2016-09-07</td>\n",
       "      <td>In the last 10 mins, there were arb opps spann...</td>\n",
       "      <td>0.000</td>\n",
       "      <td>0.879</td>\n",
       "      <td>0.121</td>\n",
       "      <td>0.4404</td>\n",
       "    </tr>\n",
       "    <tr>\n",
       "      <th>3</th>\n",
       "      <td>3</td>\n",
       "      <td>3</td>\n",
       "      <td>2152659</td>\n",
       "      <td>TrinityCoinBot</td>\n",
       "      <td>Trinity TTY</td>\n",
       "      <td>2016-09-07</td>\n",
       "      <td>#TrinityCoin #TTY $0.000006 (0.76%) 0.00000001...</td>\n",
       "      <td>0.000</td>\n",
       "      <td>1.000</td>\n",
       "      <td>0.000</td>\n",
       "      <td>0.0000</td>\n",
       "    </tr>\n",
       "    <tr>\n",
       "      <th>4</th>\n",
       "      <td>4</td>\n",
       "      <td>4</td>\n",
       "      <td>2152660</td>\n",
       "      <td>btcusd</td>\n",
       "      <td>Bitstamp: BTC to USD</td>\n",
       "      <td>2016-09-07</td>\n",
       "      <td>$607.75 at 03:45 UTC [24h Range: $601.00 - $60...</td>\n",
       "      <td>0.000</td>\n",
       "      <td>1.000</td>\n",
       "      <td>0.000</td>\n",
       "      <td>0.0000</td>\n",
       "    </tr>\n",
       "  </tbody>\n",
       "</table>\n",
       "</div>"
      ],
      "text/plain": [
       "   Unnamed: 0  Unnamed: 0.1  Unnamed: 0.1.1            user  \\\n",
       "0           0             0         2152655       BTCticker   \n",
       "1           1             1         2152657  BitcoinSpreads   \n",
       "2           2             2         2152658     ProjectCoin   \n",
       "3           3             3         2152659  TrinityCoinBot   \n",
       "4           4             4         2152660          btcusd   \n",
       "\n",
       "               fullname   timestamp  \\\n",
       "0      bitcointicker.co  2016-09-07   \n",
       "1       Bitcoin Spreads  2016-09-07   \n",
       "2          Project Coin  2016-09-07   \n",
       "3           Trinity TTY  2016-09-07   \n",
       "4  Bitstamp: BTC to USD  2016-09-07   \n",
       "\n",
       "                                                text  negative_score  \\\n",
       "0  One Bitcoin now worth $608.66@bitstamp. High $...           0.117   \n",
       "1  1 #BTC (#Bitcoin) quotes:\\n$608.00/$608.66 #Bi...           0.000   \n",
       "2  In the last 10 mins, there were arb opps spann...           0.000   \n",
       "3  #TrinityCoin #TTY $0.000006 (0.76%) 0.00000001...           0.000   \n",
       "4  $607.75 at 03:45 UTC [24h Range: $601.00 - $60...           0.000   \n",
       "\n",
       "   neutral_score  positive_score  compound_score  \n",
       "0          0.778           0.106         -0.0516  \n",
       "1          1.000           0.000          0.0000  \n",
       "2          0.879           0.121          0.4404  \n",
       "3          1.000           0.000          0.0000  \n",
       "4          1.000           0.000          0.0000  "
      ]
     },
     "execution_count": 30,
     "metadata": {},
     "output_type": "execute_result"
    }
   ],
   "source": [
    "dfs[0].head()"
   ]
  },
  {
   "cell_type": "code",
   "execution_count": 6,
   "metadata": {
    "execution": {
     "iopub.execute_input": "2022-12-08T12:13:42.091496Z",
     "iopub.status.busy": "2022-12-08T12:13:42.091029Z",
     "iopub.status.idle": "2022-12-08T12:13:42.132056Z",
     "shell.execute_reply": "2022-12-08T12:13:42.130727Z",
     "shell.execute_reply.started": "2022-12-08T12:13:42.091460Z"
    }
   },
   "outputs": [
    {
     "data": {
      "text/plain": [
       "'one'"
      ]
     },
     "execution_count": 6,
     "metadata": {},
     "output_type": "execute_result"
    }
   ],
   "source": [
    "list(NER(dfs[0].iloc[0]['text']).ents)[0].text.lower()"
   ]
  },
  {
   "cell_type": "markdown",
   "metadata": {},
   "source": [
    "We could check the username whether it is within impactful index`\n",
    "\n",
    "Using this as reference:\n",
    "Pant, D.R. et al. (2018). Recurrent Neural Network Based Bitcoin Price Prediction by Twitter Sentiment Analysis. 2018 IEEE 3rd International Conference on Computing, Communication and Security (ICCCS). October 2018. Kathmandu: IEEE, 128–132. Available from https://doi.org/10.1109/CCCS.2018.8586824 [Accessed 16 October 2022].\n",
    "\n",
    "https://influencermarketinghub.com/crypto-twitter-influencers/\n",
    "\n",
    "https://www.statista.com/statistics/710680/global-stock-markets-by-country/\n",
    "\n",
    "https://www.analyticsinsight.net/top-10-companies-with-the-biggest-bitcoin-holdings-in-2022/\n",
    "\n",
    "Choose only top 5 as they contribute the most. Weighing everything with 2x will not make sense as everyone is the same"
   ]
  },
  {
   "cell_type": "code",
   "execution_count": 7,
   "metadata": {
    "execution": {
     "iopub.execute_input": "2022-12-08T12:13:44.801722Z",
     "iopub.status.busy": "2022-12-08T12:13:44.801266Z",
     "iopub.status.idle": "2022-12-08T12:13:44.809137Z",
     "shell.execute_reply": "2022-12-08T12:13:44.808031Z",
     "shell.execute_reply.started": "2022-12-08T12:13:44.801684Z"
    }
   },
   "outputs": [],
   "source": [
    "# Keep all lowercased so easier to check\n",
    "countries = ['uk', 'united kingdom', 'america', 'usa', 'china', 'france', 'japan']\n",
    "reputed_organizations = ['facebook', 'central bank', 'financial authority', 'state government']\n",
    "impacted_organizations = ['microstrategy', 'tesla', 'riot blockchain', 'coinbase global', 'hut 8 mining corp']\n",
    "person = ['elon musk', 'vitalik buterin', 'adam back', 'andreas antonopoulos', 'whalepanda']\n",
    "usernames = ['elonmusk', 'vitalikbuterin', 'adam3us', 'aantonop', 'whalepanda']\n",
    "\n",
    "impactful_index = countries + reputed_organizations + impacted_organizations + person + usernames"
   ]
  },
  {
   "cell_type": "code",
   "execution_count": 8,
   "metadata": {
    "execution": {
     "iopub.execute_input": "2022-12-08T12:13:47.942234Z",
     "iopub.status.busy": "2022-12-08T12:13:47.941322Z",
     "iopub.status.idle": "2022-12-08T12:13:47.948685Z",
     "shell.execute_reply": "2022-12-08T12:13:47.947342Z",
     "shell.execute_reply.started": "2022-12-08T12:13:47.942173Z"
    }
   },
   "outputs": [],
   "source": [
    "output_path = '/kaggle/working/outputs_weighed'\n",
    "os.mkdir(output_path)"
   ]
  },
  {
   "cell_type": "markdown",
   "metadata": {},
   "source": [
    "**One important thing to note is that all CSVs aren't the same (ex: some have date, some have timestamp; some have user, some have user_name)**\n",
    "\n",
    "**compound => Normalized (neg + neu + pos)**\n",
    "\n",
    "* Initially double neg neu and pos\n",
    "* Then use these new values to calculate new compound\n",
    "* alpha parameter is set as 15\n",
    "\n",
    "https://github.com/nltk/nltk/blob/develop/nltk/sentiment/vader.py#L235"
   ]
  },
  {
   "cell_type": "markdown",
   "metadata": {},
   "source": [
    "Attempt with few dataframes"
   ]
  },
  {
   "cell_type": "code",
   "execution_count": 38,
   "metadata": {
    "execution": {
     "iopub.execute_input": "2022-12-08T12:45:23.773861Z",
     "iopub.status.busy": "2022-12-08T12:45:23.773416Z",
     "iopub.status.idle": "2022-12-08T12:45:23.795076Z",
     "shell.execute_reply": "2022-12-08T12:45:23.793947Z",
     "shell.execute_reply.started": "2022-12-08T12:45:23.773824Z"
    }
   },
   "outputs": [],
   "source": [
    "test_dfs = [pd.read_csv(f'{filepath}/2018-02-01.csv', engine='python')]"
   ]
  },
  {
   "cell_type": "code",
   "execution_count": 25,
   "metadata": {
    "execution": {
     "iopub.execute_input": "2022-12-08T12:25:04.553633Z",
     "iopub.status.busy": "2022-12-08T12:25:04.552608Z",
     "iopub.status.idle": "2022-12-08T12:25:04.565265Z",
     "shell.execute_reply": "2022-12-08T12:25:04.563847Z",
     "shell.execute_reply.started": "2022-12-08T12:25:04.553552Z"
    }
   },
   "outputs": [
    {
     "data": {
      "text/plain": [
       "Unnamed: 0                                                       83\n",
       "Unnamed: 0.1                                                     83\n",
       "Unnamed: 0.1.1                                             13046213\n",
       "user                                                        adam3us\n",
       "fullname                                                  Adam Back\n",
       "timestamp                                                2018-02-01\n",
       "text              @NotASithLord \"The Times 03/Jan/2009 Chancello...\n",
       "negative_score                                                 0.17\n",
       "neutral_score                                                  0.83\n",
       "positive_score                                                  0.0\n",
       "compound_score                                              -0.7506\n",
       "Name: 83, dtype: object"
      ]
     },
     "execution_count": 25,
     "metadata": {},
     "output_type": "execute_result"
    }
   ],
   "source": [
    "test_dfs[0].iloc[83]"
   ]
  },
  {
   "cell_type": "code",
   "execution_count": 40,
   "metadata": {
    "execution": {
     "iopub.execute_input": "2022-12-08T12:46:04.341118Z",
     "iopub.status.busy": "2022-12-08T12:46:04.340646Z",
     "iopub.status.idle": "2022-12-08T12:46:04.362619Z",
     "shell.execute_reply": "2022-12-08T12:46:04.361375Z",
     "shell.execute_reply.started": "2022-12-08T12:46:04.341077Z"
    }
   },
   "outputs": [],
   "source": [
    "def double_values(neg, neu, pos):\n",
    "    if neg >= neu and neg >= pos:\n",
    "        neg = neg * 2\n",
    "    elif pos >= neg and pos >= neu:\n",
    "        pos = pos * 2\n",
    "    else:\n",
    "        neu = neu * 2\n",
    "    return neg, neu, pos\n",
    "\n",
    "def weight_sentiments():\n",
    "    for i, df in tqdm(enumerate(test_dfs)):\n",
    "        if df.iloc[0].get('timestamp'):\n",
    "            df_filename = str(df.iloc[0]['timestamp'])\n",
    "        else:\n",
    "            df_filename = str(df.iloc[0]['date'])\n",
    "        print(f'Currently at df: {i+1} | {df_filename}')\n",
    "        negative_scores = []\n",
    "        neutral_scores = []\n",
    "        positive_scores = []\n",
    "        compound_scores = []\n",
    "\n",
    "        for j in range(df.shape[0]):\n",
    "            row = df.iloc[j]\n",
    "            if row['text'] and not math.isnan(row['compound_score']):\n",
    "                # extract username, fullname and current sentiments\n",
    "                neg, neu, pos, compound = float(row['negative_score']), float(row['neutral_score']), float(row['positive_score']), float(row['compound_score'])\n",
    "                if row.get('user'):\n",
    "                    username = row['user']\n",
    "                elif row.get('user_name'):\n",
    "                    username = row['user_name']\n",
    "                else:\n",
    "                    username = ''\n",
    "                if row.get('fullname'):\n",
    "                    df.fullname = df.fullname.fillna('')\n",
    "                    fullname = row['fullname']\n",
    "                else:\n",
    "                    fullname = ''\n",
    "\n",
    "                # Check if fullname or username is within the impactful list\n",
    "                if username.lower() in impactful_index or fullname.lower() in impactful_index:\n",
    "                    print(f'Found user: {username}; at row: {row}\\n')\n",
    "                    print(f'Found name: {fullname}; at row: {row}\\n')\n",
    "                    print('before', neg, neu, pos, compound)\n",
    "                    \n",
    "                    # Double the sentiment with highest value: to give it more weight\n",
    "                    neg, neu, pos = double_values(neg, neu, pos)\n",
    "                    total_sentiments = neg + neu + pos\n",
    "                    print('after', neg, neu, pos, compound)\n",
    "                    compound = total_sentiments / math.sqrt((total_sentiments * total_sentiments) + 15)\n",
    "                else:\n",
    "                    # Get all entities from tweet\n",
    "                    text_entities = list(NER(row['text']).ents)\n",
    "\n",
    "                    # Check if entity exists in impactful index\n",
    "                    for entity in text_entities:\n",
    "                        if entity.text.lower() in impactful_index:\n",
    "                            print(f'Found entity: {entity}; at row: {row}\\n')\n",
    "                            print('before', neg, neu, pos, compound)\n",
    "                            neg, neu, pos = double_values(neg, neu, pos)\n",
    "                            total_sentiments = neg + neu + pos\n",
    "                            print('after', neg, neu, pos, compound)\n",
    "                            compound = total_sentiments / math.sqrt((total_sentiments * total_sentiments) + 15)\n",
    "                            # If one entity is found there's no need to check more\n",
    "                            break\n",
    "            else:\n",
    "                neg, neu, pos, compound = None, None, None, None\n",
    "\n",
    "            negative_scores.append(neg)\n",
    "            neutral_scores.append(neu)\n",
    "            positive_scores.append(pos)\n",
    "            compound_scores.append(compound)\n",
    "\n",
    "        df['negative_score'] = negative_scores\n",
    "        df['neutral_score'] = neutral_scores\n",
    "        df['positive_score'] = positive_scores\n",
    "        df['compound_score'] = compound_scores"
   ]
  },
  {
   "cell_type": "code",
   "execution_count": 41,
   "metadata": {
    "execution": {
     "iopub.execute_input": "2022-12-08T12:46:04.873858Z",
     "iopub.status.busy": "2022-12-08T12:46:04.873373Z",
     "iopub.status.idle": "2022-12-08T12:46:11.685394Z",
     "shell.execute_reply": "2022-12-08T12:46:11.684298Z",
     "shell.execute_reply.started": "2022-12-08T12:46:04.873814Z"
    }
   },
   "outputs": [
    {
     "name": "stderr",
     "output_type": "stream",
     "text": [
      "0it [00:00, ?it/s]"
     ]
    },
    {
     "name": "stdout",
     "output_type": "stream",
     "text": [
      "Currently at df: 1 | 2018-02-01\n",
      "Found user: adam3us; at row: Unnamed: 0                                                       83\n",
      "Unnamed: 0.1                                                     83\n",
      "Unnamed: 0.1.1                                             13046213\n",
      "user                                                        adam3us\n",
      "fullname                                                  Adam Back\n",
      "timestamp                                                2018-02-01\n",
      "text              @NotASithLord \"The Times 03/Jan/2009 Chancello...\n",
      "negative_score                                                 0.17\n",
      "neutral_score                                                  0.83\n",
      "positive_score                                                  0.0\n",
      "compound_score                                              -0.7506\n",
      "Name: 83, dtype: object\n",
      "\n",
      "Found name: Adam Back; at row: Unnamed: 0                                                       83\n",
      "Unnamed: 0.1                                                     83\n",
      "Unnamed: 0.1.1                                             13046213\n",
      "user                                                        adam3us\n",
      "fullname                                                  Adam Back\n",
      "timestamp                                                2018-02-01\n",
      "text              @NotASithLord \"The Times 03/Jan/2009 Chancello...\n",
      "negative_score                                                 0.17\n",
      "neutral_score                                                  0.83\n",
      "positive_score                                                  0.0\n",
      "compound_score                                              -0.7506\n",
      "Name: 83, dtype: object\n",
      "\n",
      "before 0.17 0.83 0.0 -0.7506\n",
      "after 0.17 1.66 0.0 -0.7506\n",
      "Found entity: USA; at row: Unnamed: 0                                                      377\n",
      "Unnamed: 0.1                                                    377\n",
      "Unnamed: 0.1.1                                              2408073\n",
      "user                                                 Digital_Deals_\n",
      "fullname                                              Digital Deals\n",
      "timestamp                                                2018-02-01\n",
      "text              $2,399.00 Bitmain Antminer L3+ 504 MH/s Scrypt...\n",
      "negative_score                                                  0.0\n",
      "neutral_score                                                   1.0\n",
      "positive_score                                                  0.0\n",
      "compound_score                                                  0.0\n",
      "Name: 377, dtype: object\n",
      "\n",
      "before 0.0 1.0 0.0 0.0\n",
      "after 0.0 2.0 0.0 0.0\n"
     ]
    },
    {
     "name": "stderr",
     "output_type": "stream",
     "text": [
      "1it [00:06,  6.80s/it]\n"
     ]
    }
   ],
   "source": [
    "weight_sentiments()"
   ]
  },
  {
   "cell_type": "markdown",
   "metadata": {},
   "source": [
    "Attempt with all dataframes"
   ]
  },
  {
   "cell_type": "code",
   "execution_count": 42,
   "metadata": {
    "execution": {
     "iopub.execute_input": "2022-12-08T12:46:24.628166Z",
     "iopub.status.busy": "2022-12-08T12:46:24.627688Z",
     "iopub.status.idle": "2022-12-08T12:46:24.650316Z",
     "shell.execute_reply": "2022-12-08T12:46:24.648992Z",
     "shell.execute_reply.started": "2022-12-08T12:46:24.628124Z"
    }
   },
   "outputs": [],
   "source": [
    "output_path = '/kaggle/working/outputs_weighed'\n",
    "\n",
    "def double_values(neg, neu, pos):\n",
    "    if neg >= neu and neg >= pos:\n",
    "        neg = neg * 2\n",
    "    elif pos >= neg and pos >= neu:\n",
    "        pos = pos * 2\n",
    "    else:\n",
    "        neu = neu * 2\n",
    "    return neg, neu, pos\n",
    "\n",
    "def weight_sentiments():\n",
    "    for i, df in tqdm(enumerate(dfs[:500])):\n",
    "        if df.iloc[0].get('timestamp'):\n",
    "            df_filename = str(df.iloc[0]['timestamp'])\n",
    "        else:\n",
    "            df_filename = str(df.iloc[0]['date'])\n",
    "        print(f'Currently at df: {i+1} | {df_filename}')\n",
    "        negative_scores = []\n",
    "        neutral_scores = []\n",
    "        positive_scores = []\n",
    "        compound_scores = []\n",
    "\n",
    "        for j in range(df.shape[0]):\n",
    "            row = df.iloc[j]\n",
    "            if row['text'] and not math.isnan(row['compound_score']):\n",
    "                # extract username, fullname and current sentiments\n",
    "                neg, neu, pos, compound = float(row['negative_score']), float(row['neutral_score']), float(row['positive_score']), float(row['compound_score'])\n",
    "                \n",
    "                # Some values are NaN - empty fields, replace with ''        \n",
    "                if row.get('user'):\n",
    "                    df.user = df.user.fillna('')\n",
    "                    username = row['user']\n",
    "                elif row.get('user_name'):\n",
    "                    df.user_name = df.user_name.fillna('')\n",
    "                    username = row['user_name']\n",
    "                else:\n",
    "                    username = ''\n",
    "                if row.get('fullname'):\n",
    "                    df.fullname = df.fullname.fillna('')\n",
    "                    fullname = row['fullname']\n",
    "                else:\n",
    "                    fullname = ''\n",
    "           \n",
    "                # Check if fullname or username is within the impactful list\n",
    "                if username.lower() in impactful_index or fullname.lower() in impactful_index:\n",
    "                    print(f'Found user: {username}\\n')\n",
    "                    print(f'Found name: {fullname}\\n')\n",
    "                    print('before', neg, neu, pos, compound)\n",
    "                    neg, neu, pos = double_values(neg, neu, pos)\n",
    "                    total_sentiments = neg + neu + pos\n",
    "                    print('after', neg, neu, pos, compound)\n",
    "                    compound = total_sentiments / math.sqrt((total_sentiments * total_sentiments) + 15)\n",
    "                else:\n",
    "                    # Get all entities from tweet\n",
    "                    text_entities = list(NER(row['text']).ents)\n",
    "\n",
    "                    # Check if entity exists in impactful index\n",
    "                    for entity in text_entities:\n",
    "                        if entity.text.lower() in impactful_index:\n",
    "                            print(f'Found entity: {entity}')\n",
    "                            print('before', neg, neu, pos, compound)\n",
    "                            neg, neu, pos = double_values(neg, neu, pos)\n",
    "                            total_sentiments = neg + neu + pos\n",
    "                            print('after', neg, neu, pos, compound)\n",
    "                            compound = total_sentiments / math.sqrt((total_sentiments * total_sentiments) + 15)\n",
    "                            # If one entity is found there's no need to check more\n",
    "                            break\n",
    "            else:\n",
    "                neg, neu, pos, compound = None, None, None, None\n",
    "\n",
    "            negative_scores.append(neg)\n",
    "            neutral_scores.append(neu)\n",
    "            positive_scores.append(pos)\n",
    "            compound_scores.append(compound)\n",
    "\n",
    "        df['negative_score'] = negative_scores\n",
    "        df['neutral_score'] = neutral_scores\n",
    "        df['positive_score'] = positive_scores\n",
    "        df['compound_score'] = compound_scores\n",
    "        df.to_csv(f'{output_path}/{df_filename}.csv')"
   ]
  },
  {
   "cell_type": "code",
   "execution_count": 43,
   "metadata": {
    "execution": {
     "iopub.execute_input": "2022-12-08T12:46:26.004446Z",
     "iopub.status.busy": "2022-12-08T12:46:26.003999Z",
     "iopub.status.idle": "2022-12-08T13:08:36.286681Z",
     "shell.execute_reply": "2022-12-08T13:08:36.284688Z",
     "shell.execute_reply.started": "2022-12-08T12:46:26.004405Z"
    }
   },
   "outputs": [
    {
     "name": "stderr",
     "output_type": "stream",
     "text": [
      "0it [00:00, ?it/s]"
     ]
    },
    {
     "name": "stdout",
     "output_type": "stream",
     "text": [
      "Currently at df: 1 | 2016-09-07\n"
     ]
    },
    {
     "name": "stderr",
     "output_type": "stream",
     "text": [
      "1it [00:03,  3.59s/it]"
     ]
    },
    {
     "name": "stdout",
     "output_type": "stream",
     "text": [
      "Currently at df: 2 | 2017-04-22\n",
      "Found entity: USA\n",
      "before 0.0 1.0 0.0 0.0\n",
      "after 0.0 2.0 0.0 0.0\n"
     ]
    },
    {
     "name": "stderr",
     "output_type": "stream",
     "text": [
      "2it [00:06,  3.08s/it]"
     ]
    },
    {
     "name": "stdout",
     "output_type": "stream",
     "text": [
      "Currently at df: 3 | 2018-02-01\n",
      "Found user: adam3us\n",
      "\n",
      "Found name: Adam Back\n",
      "\n",
      "before 0.17 0.83 0.0 -0.7506\n",
      "after 0.17 1.66 0.0 -0.7506\n",
      "Found entity: USA\n",
      "before 0.0 1.0 0.0 0.0\n",
      "after 0.0 2.0 0.0 0.0\n"
     ]
    },
    {
     "name": "stderr",
     "output_type": "stream",
     "text": [
      "3it [00:13,  4.88s/it]"
     ]
    },
    {
     "name": "stdout",
     "output_type": "stream",
     "text": [
      "Currently at df: 4 | 2015-01-27\n"
     ]
    },
    {
     "name": "stderr",
     "output_type": "stream",
     "text": [
      "4it [00:19,  5.30s/it]"
     ]
    },
    {
     "name": "stdout",
     "output_type": "stream",
     "text": [
      "Currently at df: 5 | 2022-06-14\n",
      "Found entity: MicroStrategy\n",
      "before 0.0 1.0 0.0 0.0\n",
      "after 0.0 2.0 0.0 0.0\n",
      "Found entity: MicroStrategy\n",
      "before 0.0 1.0 0.0 0.0\n",
      "after 0.0 2.0 0.0 0.0\n",
      "Found entity: MicroStrategy\n",
      "before 0.065 0.935 0.0 -0.4215\n",
      "after 0.065 1.87 0.0 -0.4215\n",
      "Found entity: MicroStrategy\n",
      "before 0.064 0.936 0.0 -0.4215\n",
      "after 0.064 1.872 0.0 -0.4215\n",
      "Found entity: USA\n",
      "before 0.214 0.68 0.106 -0.6199\n",
      "after 0.214 1.36 0.106 -0.6199\n",
      "Found entity: Elon Musk\n",
      "before 0.0 1.0 0.0 0.0\n",
      "after 0.0 2.0 0.0 0.0\n"
     ]
    },
    {
     "name": "stderr",
     "output_type": "stream",
     "text": [
      "5it [00:26,  5.84s/it]"
     ]
    },
    {
     "name": "stdout",
     "output_type": "stream",
     "text": [
      "Currently at df: 6 | 2019-06-11\n",
      "Found entity: Tesla\n",
      "before 0.0 0.853 0.147 0.4754\n",
      "after 0.0 1.706 0.147 0.4754\n",
      "Found entity: France\n",
      "before 0.158 0.816 0.026 -0.7964\n",
      "after 0.158 1.632 0.026 -0.7964\n",
      "Found entity: uk\n",
      "before 0.09 0.794 0.116 0.2444\n",
      "after 0.09 1.588 0.116 0.2444\n",
      "Found entity: Tesla\n",
      "before 0.0 0.819 0.181 0.4754\n",
      "after 0.0 1.638 0.181 0.4754\n",
      "Found entity: China\n",
      "before 0.091 0.859 0.051 -0.4051\n",
      "after 0.091 1.718 0.051 -0.4051\n",
      "Found entity: Japan\n",
      "before 0.0 1.0 0.0 0.0\n",
      "after 0.0 2.0 0.0 0.0\n"
     ]
    },
    {
     "name": "stderr",
     "output_type": "stream",
     "text": [
      "6it [00:32,  6.11s/it]"
     ]
    },
    {
     "name": "stdout",
     "output_type": "stream",
     "text": [
      "Currently at df: 7 | 2022-03-10\n",
      "Found entity: china\n",
      "before 0.089 0.79 0.121 0.0772\n",
      "after 0.089 1.58 0.121 0.0772\n",
      "Found entity: ElonMusk\n",
      "before 0.0 1.0 0.0 0.0\n",
      "after 0.0 2.0 0.0 0.0\n",
      "Found entity: America\n",
      "before 0.11 0.809 0.081 0.3527\n",
      "after 0.11 1.618 0.081 0.3527\n"
     ]
    },
    {
     "name": "stderr",
     "output_type": "stream",
     "text": [
      "7it [00:40,  6.51s/it]"
     ]
    },
    {
     "name": "stdout",
     "output_type": "stream",
     "text": [
      "Currently at df: 8 | 2019-11-09\n",
      "Found entity: USA\n",
      "before 0.0 0.882 0.118 0.6486\n",
      "after 0.0 1.764 0.118 0.6486\n",
      "Found entity: UK\n",
      "before 0.0 0.95 0.05 0.2023\n",
      "after 0.0 1.9 0.05 0.2023\n",
      "Found entity: China\n",
      "before 0.0 0.919 0.081 0.3896\n",
      "after 0.0 1.838 0.081 0.3896\n",
      "Found entity: United Kingdom\n",
      "before 0.06 0.852 0.088 0.2263\n",
      "after 0.06 1.704 0.088 0.2263\n",
      "Found entity: France\n",
      "before 0.058 0.901 0.041 -0.2263\n",
      "after 0.058 1.802 0.041 -0.2263\n",
      "Found entity: China\n",
      "before 0.0 1.0 0.0 0.0\n",
      "after 0.0 2.0 0.0 0.0\n",
      "Found entity: China\n",
      "before 0.0 1.0 0.0 0.0\n",
      "after 0.0 2.0 0.0 0.0\n",
      "Found entity: United Kingdom\n",
      "before 0.0 0.785 0.215 0.7506\n",
      "after 0.0 1.57 0.215 0.7506\n"
     ]
    },
    {
     "name": "stderr",
     "output_type": "stream",
     "text": [
      "8it [00:46,  6.41s/it]"
     ]
    },
    {
     "name": "stdout",
     "output_type": "stream",
     "text": [
      "Currently at df: 9 | 2020-07-10\n",
      "Found entity: China\n",
      "before 0.072 0.79 0.138 0.4617\n",
      "after 0.072 1.58 0.138 0.4617\n",
      "Found user: adam3us\n",
      "\n",
      "Found name: \n",
      "\n",
      "before 0.0 1.0 0.0 0.0\n",
      "after 0.0 2.0 0.0 0.0\n",
      "Found entity: UK\n",
      "before 0.049 0.692 0.259 0.8555\n",
      "after 0.049 1.384 0.259 0.8555\n",
      "Found entity: France\n",
      "before 0.0 0.845 0.155 0.7644\n",
      "after 0.0 1.69 0.155 0.7644\n",
      "Found entity: Central Bank\n",
      "before 0.119 0.761 0.121 0.0258\n",
      "after 0.119 1.522 0.121 0.0258\n",
      "Found entity: China\n",
      "before 0.11 0.75 0.14 0.1531\n",
      "after 0.11 1.5 0.14 0.1531\n"
     ]
    },
    {
     "name": "stderr",
     "output_type": "stream",
     "text": [
      "9it [00:51,  6.02s/it]"
     ]
    },
    {
     "name": "stdout",
     "output_type": "stream",
     "text": [
      "Currently at df: 10 | 2021-11-07\n",
      "Found entity: ElonMusk\n",
      "before 0.0 1.0 0.0 0.0\n",
      "after 0.0 2.0 0.0 0.0\n",
      "Found entity: ElonMusk\n",
      "before 0.0 0.949 0.051 0.0762\n",
      "after 0.0 1.898 0.051 0.0762\n",
      "Found entity: Tesla\n",
      "before 0.0 1.0 0.0 0.0\n",
      "after 0.0 2.0 0.0 0.0\n",
      "Found entity: America\n",
      "before 0.274 0.641 0.085 -0.7579\n",
      "after 0.274 1.282 0.085 -0.7579\n",
      "Found entity: Tesla\n",
      "before 0.043 0.851 0.106 0.4767\n",
      "after 0.043 1.702 0.106 0.4767\n"
     ]
    },
    {
     "name": "stderr",
     "output_type": "stream",
     "text": [
      "10it [00:56,  5.60s/it]"
     ]
    },
    {
     "name": "stdout",
     "output_type": "stream",
     "text": [
      "Currently at df: 11 | 2017-11-20\n",
      "Found entity: USA\n",
      "before 0.0 1.0 0.0 0.0\n",
      "after 0.0 2.0 0.0 0.0\n",
      "Found entity: USA\n",
      "before 0.0 1.0 0.0 0.0\n",
      "after 0.0 2.0 0.0 0.0\n",
      "Found entity: USA\n",
      "before 0.0 1.0 0.0 0.0\n",
      "after 0.0 2.0 0.0 0.0\n",
      "Found entity: USA\n",
      "before 0.0 1.0 0.0 0.0\n",
      "after 0.0 2.0 0.0 0.0\n"
     ]
    },
    {
     "name": "stderr",
     "output_type": "stream",
     "text": [
      "11it [01:02,  5.73s/it]"
     ]
    },
    {
     "name": "stdout",
     "output_type": "stream",
     "text": [
      "Currently at df: 12 | 2014-08-10\n"
     ]
    },
    {
     "name": "stderr",
     "output_type": "stream",
     "text": [
      "12it [01:07,  5.75s/it]"
     ]
    },
    {
     "name": "stdout",
     "output_type": "stream",
     "text": [
      "Currently at df: 13 | 2018-12-27\n",
      "Found entity: Japan\n",
      "before 0.0 0.964 0.036 0.128\n",
      "after 0.0 1.928 0.036 0.128\n"
     ]
    },
    {
     "name": "stderr",
     "output_type": "stream",
     "text": [
      "13it [01:15,  6.17s/it]"
     ]
    },
    {
     "name": "stdout",
     "output_type": "stream",
     "text": [
      "Currently at df: 14 | 2014-10-18\n"
     ]
    },
    {
     "name": "stderr",
     "output_type": "stream",
     "text": [
      "14it [01:20,  6.10s/it]"
     ]
    },
    {
     "name": "stdout",
     "output_type": "stream",
     "text": [
      "Currently at df: 15 | 2017-04-05\n"
     ]
    },
    {
     "name": "stderr",
     "output_type": "stream",
     "text": [
      "15it [01:23,  5.00s/it]"
     ]
    },
    {
     "name": "stdout",
     "output_type": "stream",
     "text": [
      "Currently at df: 16 | 2018-03-02\n",
      "Found entity: USA\n",
      "before 0.0 0.833 0.167 0.4939\n",
      "after 0.0 1.666 0.167 0.4939\n",
      "Found entity: USA\n",
      "before 0.0 1.0 0.0 0.0\n",
      "after 0.0 2.0 0.0 0.0\n"
     ]
    },
    {
     "name": "stderr",
     "output_type": "stream",
     "text": [
      "16it [01:30,  5.59s/it]"
     ]
    },
    {
     "name": "stdout",
     "output_type": "stream",
     "text": [
      "Currently at df: 17 | 2021-06-11\n",
      "Found entity: America\n",
      "before 0.209 0.722 0.068 -0.5719\n",
      "after 0.209 1.444 0.068 -0.5719\n",
      "Found entity: Tesla\n",
      "before 0.193 0.421 0.386 0.9601\n",
      "after 0.193 0.842 0.386 0.9601\n",
      "Found entity: China\n",
      "before 0.147 0.853 0.0 -0.5411\n",
      "after 0.147 1.706 0.0 -0.5411\n",
      "Found entity: China\n",
      "before 0.122 0.695 0.183 0.5399\n",
      "after 0.122 1.39 0.183 0.5399\n",
      "Found entity: Elon Musk\n",
      "before 0.174 0.751 0.075 -0.4779\n",
      "after 0.174 1.502 0.075 -0.4779\n"
     ]
    },
    {
     "name": "stderr",
     "output_type": "stream",
     "text": [
      "17it [01:35,  5.47s/it]"
     ]
    },
    {
     "name": "stdout",
     "output_type": "stream",
     "text": [
      "Currently at df: 18 | 2016-08-23\n",
      "Found entity: Andreas Antonopoulos\n",
      "before 0.0 0.872 0.128 0.4215\n",
      "after 0.0 1.744 0.128 0.4215\n",
      "Found entity: France\n",
      "before 0.0 1.0 0.0 0.0\n",
      "after 0.0 2.0 0.0 0.0\n",
      "Found entity: Andreas Antonopoulos\n",
      "before 0.0 0.865 0.135 0.4215\n",
      "after 0.0 1.73 0.135 0.4215\n"
     ]
    },
    {
     "name": "stderr",
     "output_type": "stream",
     "text": [
      "18it [01:41,  5.53s/it]"
     ]
    },
    {
     "name": "stdout",
     "output_type": "stream",
     "text": [
      "Currently at df: 19 | 2021-12-11\n",
      "Found entity: MicroStrategy\n",
      "before 0.0 0.835 0.165 0.6908\n",
      "after 0.0 1.67 0.165 0.6908\n",
      "Found entity: Tesla\n",
      "before 0.043 0.851 0.106 0.4767\n",
      "after 0.043 1.702 0.106 0.4767\n",
      "Found entity: China\n",
      "before 0.171 0.762 0.067 -0.4939\n",
      "after 0.171 1.524 0.067 -0.4939\n",
      "Found entity: ElonMusk\n",
      "before 0.0 0.924 0.076 0.4199\n",
      "after 0.0 1.848 0.076 0.4199\n",
      "Found entity: ElonMusk\n",
      "before 0.0 0.853 0.147 0.5362\n",
      "after 0.0 1.706 0.147 0.5362\n",
      "Found entity: uk\n",
      "before 0.0 0.726 0.274 0.7783\n",
      "after 0.0 1.452 0.274 0.7783\n"
     ]
    },
    {
     "name": "stderr",
     "output_type": "stream",
     "text": [
      "19it [01:47,  5.81s/it]"
     ]
    },
    {
     "name": "stdout",
     "output_type": "stream",
     "text": [
      "Currently at df: 20 | 2018-05-31\n",
      "Found entity: USA\n",
      "before 0.0 1.0 0.0 0.0\n",
      "after 0.0 2.0 0.0 0.0\n",
      "Found entity: USA\n",
      "before 0.0 1.0 0.0 0.0\n",
      "after 0.0 2.0 0.0 0.0\n"
     ]
    },
    {
     "name": "stderr",
     "output_type": "stream",
     "text": [
      "20it [01:54,  6.13s/it]"
     ]
    },
    {
     "name": "stdout",
     "output_type": "stream",
     "text": [
      "Found entity: USA\n",
      "before 0.0 0.836 0.164 0.6037\n",
      "after 0.0 1.672 0.164 0.6037\n",
      "Currently at df: 21 | 2021-06-06\n",
      "Found entity: Elon Musk\n",
      "before 0.054 0.859 0.087 0.2732\n",
      "after 0.054 1.718 0.087 0.2732\n",
      "Found entity: Central Bank\n",
      "before 0.099 0.66 0.241 0.6391\n",
      "after 0.099 1.32 0.241 0.6391\n",
      "Found entity: ElonMusk\n",
      "before 0.0 1.0 0.0 0.0\n",
      "after 0.0 2.0 0.0 0.0\n",
      "Found entity: ElonMusk\n",
      "before 0.0 0.878 0.122 0.2023\n",
      "after 0.0 1.756 0.122 0.2023\n",
      "Found entity: Tesla\n",
      "before 0.0 1.0 0.0 0.0\n",
      "after 0.0 2.0 0.0 0.0\n",
      "Found entity: USA\n",
      "before 0.0 0.918 0.082 0.4767\n",
      "after 0.0 1.836 0.082 0.4767\n",
      "Found entity: China\n",
      "before 0.0 1.0 0.0 0.0\n",
      "after 0.0 2.0 0.0 0.0\n"
     ]
    },
    {
     "name": "stderr",
     "output_type": "stream",
     "text": [
      "21it [01:59,  5.83s/it]"
     ]
    },
    {
     "name": "stdout",
     "output_type": "stream",
     "text": [
      "Currently at df: 22 | 2020-10-15\n",
      "Found entity: America\n",
      "before 0.109 0.891 0.0 -0.6124\n",
      "after 0.109 1.782 0.0 -0.6124\n"
     ]
    },
    {
     "name": "stderr",
     "output_type": "stream",
     "text": [
      "22it [02:05,  5.74s/it]"
     ]
    },
    {
     "name": "stdout",
     "output_type": "stream",
     "text": [
      "Currently at df: 23 | 2020-10-21\n",
      "Found entity: China\n",
      "before 0.0 0.874 0.126 0.3182\n",
      "after 0.0 1.748 0.126 0.3182\n",
      "Found entity: Tesla\n",
      "before 0.0 0.69 0.31 0.4019\n",
      "after 0.0 1.38 0.31 0.4019\n"
     ]
    },
    {
     "name": "stderr",
     "output_type": "stream",
     "text": [
      "23it [02:10,  5.73s/it]"
     ]
    },
    {
     "name": "stdout",
     "output_type": "stream",
     "text": [
      "Currently at df: 24 | 2018-12-10\n",
      "Found entity: USA\n",
      "before 0.0 1.0 0.0 0.0\n",
      "after 0.0 2.0 0.0 0.0\n"
     ]
    },
    {
     "name": "stderr",
     "output_type": "stream",
     "text": [
      "24it [02:17,  5.96s/it]"
     ]
    },
    {
     "name": "stdout",
     "output_type": "stream",
     "text": [
      "Currently at df: 25 | 2014-06-22\n"
     ]
    },
    {
     "name": "stderr",
     "output_type": "stream",
     "text": [
      "25it [02:23,  5.93s/it]"
     ]
    },
    {
     "name": "stdout",
     "output_type": "stream",
     "text": [
      "Currently at df: 26 | 2014-08-07\n"
     ]
    },
    {
     "name": "stderr",
     "output_type": "stream",
     "text": [
      "26it [02:29,  5.92s/it]"
     ]
    },
    {
     "name": "stdout",
     "output_type": "stream",
     "text": [
      "Currently at df: 27 | 2016-09-12\n"
     ]
    },
    {
     "name": "stderr",
     "output_type": "stream",
     "text": [
      "27it [02:31,  4.85s/it]"
     ]
    },
    {
     "name": "stdout",
     "output_type": "stream",
     "text": [
      "Currently at df: 28 | 2018-11-06\n"
     ]
    },
    {
     "name": "stderr",
     "output_type": "stream",
     "text": [
      "28it [02:38,  5.52s/it]"
     ]
    },
    {
     "name": "stdout",
     "output_type": "stream",
     "text": [
      "Currently at df: 29 | 2019-07-02\n",
      "Found entity: USA\n",
      "before 0.0 0.771 0.229 0.7184\n",
      "after 0.0 1.542 0.229 0.7184\n",
      "Found entity: United Kingdom\n",
      "before 0.131 0.766 0.102 -0.2023\n",
      "after 0.131 1.532 0.102 -0.2023\n",
      "Found user: HornyforCrypto\n",
      "\n",
      "Found name: Elon Musk\n",
      "\n",
      "before 0.0 0.942 0.058 0.0772\n",
      "after 0.0 1.884 0.058 0.0772\n",
      "Found entity: USA\n",
      "before 0.0 1.0 0.0 0.0\n",
      "after 0.0 2.0 0.0 0.0\n",
      "Found entity: USA\n",
      "before 0.0 1.0 0.0 0.0\n",
      "after 0.0 2.0 0.0 0.0\n"
     ]
    },
    {
     "name": "stderr",
     "output_type": "stream",
     "text": [
      "29it [02:44,  5.75s/it]"
     ]
    },
    {
     "name": "stdout",
     "output_type": "stream",
     "text": [
      "Found entity: USA\n",
      "before 0.0 1.0 0.0 0.0\n",
      "after 0.0 2.0 0.0 0.0\n",
      "Currently at df: 30 | 2021-05-02\n",
      "Found entity: CHINA\n",
      "before 0.0 1.0 0.0 0.0\n",
      "after 0.0 2.0 0.0 0.0\n",
      "Found entity: ElonMusk\n",
      "before 0.0 1.0 0.0 0.0\n",
      "after 0.0 2.0 0.0 0.0\n",
      "Found entity: China\n",
      "before 0.0 1.0 0.0 0.0\n",
      "after 0.0 2.0 0.0 0.0\n"
     ]
    },
    {
     "name": "stderr",
     "output_type": "stream",
     "text": [
      "30it [02:50,  5.62s/it]"
     ]
    },
    {
     "name": "stdout",
     "output_type": "stream",
     "text": [
      "Currently at df: 31 | 2018-01-12\n",
      "Found entity: USA\n",
      "before 0.0 1.0 0.0 0.0\n",
      "after 0.0 2.0 0.0 0.0\n",
      "Found entity: China\n",
      "before 0.054 0.896 0.05 -0.0516\n",
      "after 0.054 1.792 0.05 -0.0516\n",
      "Found entity: China\n",
      "before 0.0 0.918 0.082 0.3595\n",
      "after 0.0 1.836 0.082 0.3595\n",
      "Found entity: USA\n",
      "before 0.0 1.0 0.0 0.0\n",
      "after 0.0 2.0 0.0 0.0\n"
     ]
    },
    {
     "name": "stderr",
     "output_type": "stream",
     "text": [
      "31it [02:56,  5.87s/it]"
     ]
    },
    {
     "name": "stdout",
     "output_type": "stream",
     "text": [
      "Currently at df: 32 | 2019-06-09\n",
      "Found entity: UK\n",
      "before 0.0 0.861 0.139 0.4404\n",
      "after 0.0 1.722 0.139 0.4404\n",
      "Found entity: Japan\n",
      "before 0.0 0.704 0.296 0.9136\n",
      "after 0.0 1.408 0.296 0.9136\n",
      "Found entity: Tesla\n",
      "before 0.0 0.763 0.237 0.4767\n",
      "after 0.0 1.526 0.237 0.4767\n",
      "Found entity: China\n",
      "before 0.0 0.823 0.177 0.6249\n",
      "after 0.0 1.646 0.177 0.6249\n"
     ]
    },
    {
     "name": "stderr",
     "output_type": "stream",
     "text": [
      "32it [03:02,  5.96s/it]"
     ]
    },
    {
     "name": "stdout",
     "output_type": "stream",
     "text": [
      "Currently at df: 33 | 2016-02-23\n"
     ]
    },
    {
     "name": "stderr",
     "output_type": "stream",
     "text": [
      "33it [03:08,  5.93s/it]"
     ]
    },
    {
     "name": "stdout",
     "output_type": "stream",
     "text": [
      "Currently at df: 34 | 2021-03-23\n",
      "Found entity: Microstrategy\n",
      "before 0.028 0.878 0.094 0.5446\n",
      "after 0.028 1.756 0.094 0.5446\n",
      "Found entity: Tesla\n",
      "before 0.048 0.83 0.121 0.4767\n",
      "after 0.048 1.66 0.121 0.4767\n",
      "Found entity: Tesla\n",
      "before 0.0 0.881 0.119 0.3182\n",
      "after 0.0 1.762 0.119 0.3182\n"
     ]
    },
    {
     "name": "stderr",
     "output_type": "stream",
     "text": [
      "34it [03:13,  5.68s/it]"
     ]
    },
    {
     "name": "stdout",
     "output_type": "stream",
     "text": [
      "Found entity: China\n",
      "before 0.0 0.811 0.189 0.6204\n",
      "after 0.0 1.622 0.189 0.6204\n",
      "Currently at df: 35 | 2022-03-16\n",
      "Found entity: USA\n",
      "before 0.0 0.899 0.101 0.5423\n",
      "after 0.0 1.798 0.101 0.5423\n",
      "Found entity: Japan\n",
      "before 0.0 1.0 0.0 0.0\n",
      "after 0.0 2.0 0.0 0.0\n",
      "Found entity: UK\n",
      "before 0.0 1.0 0.0 0.0\n",
      "after 0.0 2.0 0.0 0.0\n",
      "Found entity: China\n",
      "before 0.106 0.894 0.0 -0.5859\n",
      "after 0.106 1.788 0.0 -0.5859\n",
      "Found entity: China\n",
      "before 0.103 0.897 0.0 -0.457\n",
      "after 0.103 1.794 0.0 -0.457\n"
     ]
    },
    {
     "name": "stderr",
     "output_type": "stream",
     "text": [
      "35it [03:19,  5.81s/it]"
     ]
    },
    {
     "name": "stdout",
     "output_type": "stream",
     "text": [
      "Currently at df: 36 | 2017-05-13\n",
      "Found entity: USA\n",
      "before 0.0 1.0 0.0 0.0\n",
      "after 0.0 2.0 0.0 0.0\n",
      "Found entity: USA\n",
      "before 0.0 1.0 0.0 0.0\n",
      "after 0.0 2.0 0.0 0.0\n",
      "Found entity: USA\n",
      "before 0.0 1.0 0.0 0.0\n",
      "after 0.0 2.0 0.0 0.0\n"
     ]
    },
    {
     "name": "stderr",
     "output_type": "stream",
     "text": [
      "36it [03:23,  5.03s/it]"
     ]
    },
    {
     "name": "stdout",
     "output_type": "stream",
     "text": [
      "Currently at df: 37 | 2020-08-19\n",
      "Found entity: America\n",
      "before 0.0 1.0 0.0 0.0\n",
      "after 0.0 2.0 0.0 0.0\n",
      "Found entity: UK\n",
      "before 0.052 0.751 0.197 0.7351\n",
      "after 0.052 1.502 0.197 0.7351\n"
     ]
    },
    {
     "name": "stderr",
     "output_type": "stream",
     "text": [
      "37it [03:28,  5.10s/it]"
     ]
    },
    {
     "name": "stdout",
     "output_type": "stream",
     "text": [
      "Found entity: China\n",
      "before 0.054 0.848 0.098 0.3182\n",
      "after 0.054 1.696 0.098 0.3182\n",
      "Currently at df: 38 | 2014-10-11\n"
     ]
    },
    {
     "name": "stderr",
     "output_type": "stream",
     "text": [
      "38it [03:34,  5.43s/it]"
     ]
    },
    {
     "name": "stdout",
     "output_type": "stream",
     "text": [
      "Currently at df: 39 | 2015-11-06\n"
     ]
    },
    {
     "name": "stderr",
     "output_type": "stream",
     "text": [
      "39it [03:40,  5.48s/it]"
     ]
    },
    {
     "name": "stdout",
     "output_type": "stream",
     "text": [
      "Currently at df: 40 | 2019-09-24\n",
      "Found entity: France\n",
      "before 0.083 0.676 0.241 0.8442\n",
      "after 0.083 1.352 0.241 0.8442\n",
      "Found entity: USA\n",
      "before 0.0 1.0 0.0 0.0\n",
      "after 0.0 2.0 0.0 0.0\n",
      "Found entity: USA\n",
      "before 0.0 1.0 0.0 0.0\n",
      "after 0.0 2.0 0.0 0.0\n",
      "Found entity: USA\n",
      "before 0.0 1.0 0.0 0.0\n",
      "after 0.0 2.0 0.0 0.0\n",
      "Found entity: United Kingdom\n",
      "before 0.0 0.833 0.167 0.6808\n",
      "after 0.0 1.666 0.167 0.6808\n",
      "Found entity: France\n",
      "before 0.084 0.682 0.234 0.8225\n",
      "after 0.084 1.364 0.234 0.8225\n",
      "Found entity: United Kingdom\n",
      "before 0.0 0.909 0.091 0.4215\n",
      "after 0.0 1.818 0.091 0.4215\n",
      "Found entity: USA\n",
      "before 0.0 1.0 0.0 0.0\n",
      "after 0.0 2.0 0.0 0.0\n",
      "Found entity: United Kingdom\n",
      "before 0.0 0.917 0.083 0.4215\n",
      "after 0.0 1.834 0.083 0.4215\n",
      "Found entity: USA\n",
      "before 0.052 0.851 0.098 0.4199\n",
      "after 0.052 1.702 0.098 0.4199\n",
      "Found entity: UK\n",
      "before 0.081 0.733 0.187 0.4404\n",
      "after 0.081 1.466 0.187 0.4404\n",
      "Found entity: USA\n",
      "before 0.0 1.0 0.0 0.0\n",
      "after 0.0 2.0 0.0 0.0\n"
     ]
    },
    {
     "name": "stderr",
     "output_type": "stream",
     "text": [
      "40it [03:46,  5.57s/it]"
     ]
    },
    {
     "name": "stdout",
     "output_type": "stream",
     "text": [
      "Currently at df: 41 | 2018-04-19\n",
      "Found entity: USA\n",
      "before 0.0 1.0 0.0 0.0\n",
      "after 0.0 2.0 0.0 0.0\n",
      "Found entity: USA\n",
      "before 0.0 1.0 0.0 0.0\n",
      "after 0.0 2.0 0.0 0.0\n"
     ]
    },
    {
     "name": "stderr",
     "output_type": "stream",
     "text": [
      "41it [03:52,  5.96s/it]"
     ]
    },
    {
     "name": "stdout",
     "output_type": "stream",
     "text": [
      "Currently at df: 42 | 2014-06-09\n"
     ]
    },
    {
     "name": "stderr",
     "output_type": "stream",
     "text": [
      "42it [03:58,  5.95s/it]"
     ]
    },
    {
     "name": "stdout",
     "output_type": "stream",
     "text": [
      "Currently at df: 43 | 2021-11-01\n",
      "Found entity: America\n",
      "before 0.0 0.95 0.05 0.2023\n",
      "after 0.0 1.9 0.05 0.2023\n",
      "Found entity: Tesla\n",
      "before 0.0 0.878 0.122 0.3818\n",
      "after 0.0 1.756 0.122 0.3818\n",
      "Found entity: UK\n",
      "before 0.166 0.834 0.0 -0.8107\n",
      "after 0.166 1.668 0.0 -0.8107\n",
      "Found entity: China\n",
      "before 0.0 1.0 0.0 0.0\n",
      "after 0.0 2.0 0.0 0.0\n",
      "Found entity: ElonMusk\n",
      "before 0.0 1.0 0.0 0.0\n",
      "after 0.0 2.0 0.0 0.0\n",
      "Found entity: ElonMusk\n",
      "before 0.0 1.0 0.0 0.0\n",
      "after 0.0 2.0 0.0 0.0\n",
      "Found entity: ElonMusk\n",
      "before 0.0 1.0 0.0 0.0\n",
      "after 0.0 2.0 0.0 0.0\n",
      "Found entity: ElonMusk\n",
      "before 0.0 1.0 0.0 0.0\n",
      "after 0.0 2.0 0.0 0.0\n",
      "Found entity: China\n",
      "before 0.079 0.753 0.168 0.3612\n",
      "after 0.079 1.506 0.168 0.3612\n",
      "Found entity: Tesla\n",
      "before 0.043 0.851 0.106 0.4767\n",
      "after 0.043 1.702 0.106 0.4767\n",
      "Found entity: UK\n",
      "before 0.0 1.0 0.0 0.0\n",
      "after 0.0 2.0 0.0 0.0\n"
     ]
    },
    {
     "name": "stderr",
     "output_type": "stream",
     "text": [
      "43it [04:04,  5.75s/it]"
     ]
    },
    {
     "name": "stdout",
     "output_type": "stream",
     "text": [
      "Currently at df: 44 | 2014-06-08\n"
     ]
    },
    {
     "name": "stderr",
     "output_type": "stream",
     "text": [
      "44it [04:10,  5.81s/it]"
     ]
    },
    {
     "name": "stdout",
     "output_type": "stream",
     "text": [
      "Currently at df: 45 | 2017-05-14\n",
      "Found entity: USA\n",
      "before 0.0 1.0 0.0 0.0\n",
      "after 0.0 2.0 0.0 0.0\n"
     ]
    },
    {
     "name": "stderr",
     "output_type": "stream",
     "text": [
      "45it [04:14,  5.33s/it]"
     ]
    },
    {
     "name": "stdout",
     "output_type": "stream",
     "text": [
      "Currently at df: 46 | 2022-07-12\n",
      "Found entity: France\n",
      "before 0.043 0.887 0.07 0.3382\n",
      "after 0.043 1.774 0.07 0.3382\n",
      "Found entity: japan\n",
      "before 0.321 0.607 0.072 -0.9325\n",
      "after 0.321 1.214 0.072 -0.9325\n"
     ]
    },
    {
     "name": "stderr",
     "output_type": "stream",
     "text": [
      "46it [04:21,  5.85s/it]"
     ]
    },
    {
     "name": "stdout",
     "output_type": "stream",
     "text": [
      "Currently at df: 47 | 2017-07-18\n",
      "Found entity: USA\n",
      "before 0.0 1.0 0.0 0.0\n",
      "after 0.0 2.0 0.0 0.0\n",
      "Found entity: USA\n",
      "before 0.0 1.0 0.0 0.0\n",
      "after 0.0 2.0 0.0 0.0\n",
      "Found entity: USA\n",
      "before 0.0 1.0 0.0 0.0\n",
      "after 0.0 2.0 0.0 0.0\n",
      "Found entity: USA\n",
      "before 0.0 1.0 0.0 0.0\n",
      "after 0.0 2.0 0.0 0.0\n"
     ]
    },
    {
     "name": "stderr",
     "output_type": "stream",
     "text": [
      "47it [04:25,  5.27s/it]"
     ]
    },
    {
     "name": "stdout",
     "output_type": "stream",
     "text": [
      "Currently at df: 48 | 2020-04-19\n",
      "Found entity: China\n",
      "before 0.0 1.0 0.0 0.0\n",
      "after 0.0 2.0 0.0 0.0\n",
      "Found entity: China\n",
      "before 0.177 0.823 0.0 -0.6249\n",
      "after 0.177 1.646 0.0 -0.6249\n"
     ]
    },
    {
     "name": "stderr",
     "output_type": "stream",
     "text": [
      "48it [04:29,  4.93s/it]"
     ]
    },
    {
     "name": "stdout",
     "output_type": "stream",
     "text": [
      "Currently at df: 49 | 2021-11-24\n",
      "Found entity: Tesla\n",
      "before 0.043 0.851 0.106 0.4767\n",
      "after 0.043 1.702 0.106 0.4767\n",
      "Found entity: USA\n",
      "before 0.186 0.772 0.042 -0.7876\n",
      "after 0.186 1.544 0.042 -0.7876\n",
      "Found entity: Japan\n",
      "before 0.0 0.778 0.222 0.8402\n",
      "after 0.0 1.556 0.222 0.8402\n",
      "Found entity: China\n",
      "before 0.0 0.846 0.154 0.6369\n",
      "after 0.0 1.692 0.154 0.6369\n",
      "Found entity: China\n",
      "before 0.0 1.0 0.0 0.0\n",
      "after 0.0 2.0 0.0 0.0\n",
      "Found user: Adam Back\n",
      "\n",
      "Found name: \n",
      "\n",
      "before 0.0 0.857 0.143 0.7713\n",
      "after 0.0 1.714 0.143 0.7713\n",
      "Found entity: ElonMusk\n",
      "before 0.0 0.855 0.145 0.6669\n",
      "after 0.0 1.71 0.145 0.6669\n",
      "Found entity: Tesla\n",
      "before 0.068 0.642 0.29 0.9151\n",
      "after 0.068 1.284 0.29 0.9151\n"
     ]
    },
    {
     "name": "stderr",
     "output_type": "stream",
     "text": [
      "49it [04:36,  5.46s/it]"
     ]
    },
    {
     "name": "stdout",
     "output_type": "stream",
     "text": [
      "Currently at df: 50 | 2018-05-27\n",
      "Found entity: USA\n",
      "before 0.0 1.0 0.0 0.0\n",
      "after 0.0 2.0 0.0 0.0\n",
      "Found entity: UK\n",
      "before 0.0 1.0 0.0 0.0\n",
      "after 0.0 2.0 0.0 0.0\n"
     ]
    },
    {
     "name": "stderr",
     "output_type": "stream",
     "text": [
      "50it [04:42,  5.82s/it]"
     ]
    },
    {
     "name": "stdout",
     "output_type": "stream",
     "text": [
      "Found entity: USA\n",
      "before 0.0 1.0 0.0 0.0\n",
      "after 0.0 2.0 0.0 0.0\n",
      "Currently at df: 51 | 2014-05-05\n"
     ]
    },
    {
     "name": "stderr",
     "output_type": "stream",
     "text": [
      "51it [04:48,  5.83s/it]"
     ]
    },
    {
     "name": "stdout",
     "output_type": "stream",
     "text": [
      "Currently at df: 52 | 2017-09-24\n",
      "Found entity: China\n",
      "before 0.0 1.0 0.0 0.0\n",
      "after 0.0 2.0 0.0 0.0\n",
      "Found entity: USA\n",
      "before 0.165 0.835 0.0 -0.5216\n",
      "after 0.165 1.67 0.0 -0.5216\n"
     ]
    },
    {
     "name": "stderr",
     "output_type": "stream",
     "text": [
      "52it [04:54,  5.71s/it]"
     ]
    },
    {
     "name": "stdout",
     "output_type": "stream",
     "text": [
      "Currently at df: 53 | 2016-06-11\n",
      "Found entity: UK\n",
      "before 0.0 1.0 0.0 0.0\n",
      "after 0.0 2.0 0.0 0.0\n",
      "Found entity: UK\n",
      "before 0.0 1.0 0.0 0.0\n",
      "after 0.0 2.0 0.0 0.0\n",
      "Found entity: UK\n",
      "before 0.0 1.0 0.0 0.0\n",
      "after 0.0 2.0 0.0 0.0\n",
      "Found entity: UK\n",
      "before 0.0 1.0 0.0 0.0\n",
      "after 0.0 2.0 0.0 0.0\n",
      "Found entity: UK\n",
      "before 0.0 1.0 0.0 0.0\n",
      "after 0.0 2.0 0.0 0.0\n",
      "Found entity: UK\n",
      "before 0.0 1.0 0.0 0.0\n",
      "after 0.0 2.0 0.0 0.0\n",
      "Found entity: UK\n",
      "before 0.0 1.0 0.0 0.0\n",
      "after 0.0 2.0 0.0 0.0\n",
      "Found entity: UK\n",
      "before 0.0 1.0 0.0 0.0\n",
      "after 0.0 2.0 0.0 0.0\n",
      "Found entity: UK\n",
      "before 0.0 1.0 0.0 0.0\n",
      "after 0.0 2.0 0.0 0.0\n",
      "Found entity: UK\n",
      "before 0.0 1.0 0.0 0.0\n",
      "after 0.0 2.0 0.0 0.0\n",
      "Found entity: UK\n",
      "before 0.0 1.0 0.0 0.0\n",
      "after 0.0 2.0 0.0 0.0\n",
      "Found entity: UK\n",
      "before 0.0 1.0 0.0 0.0\n",
      "after 0.0 2.0 0.0 0.0\n",
      "Found entity: UK\n",
      "before 0.0 1.0 0.0 0.0\n",
      "after 0.0 2.0 0.0 0.0\n",
      "Found entity: UK\n",
      "before 0.0 1.0 0.0 0.0\n",
      "after 0.0 2.0 0.0 0.0\n",
      "Found entity: UK\n",
      "before 0.0 1.0 0.0 0.0\n",
      "after 0.0 2.0 0.0 0.0\n",
      "Found entity: UK\n",
      "before 0.0 1.0 0.0 0.0\n",
      "after 0.0 2.0 0.0 0.0\n",
      "Found entity: UK\n",
      "before 0.0 1.0 0.0 0.0\n",
      "after 0.0 2.0 0.0 0.0\n",
      "Found entity: UK\n",
      "before 0.0 1.0 0.0 0.0\n",
      "after 0.0 2.0 0.0 0.0\n",
      "Found entity: UK\n",
      "before 0.0 1.0 0.0 0.0\n",
      "after 0.0 2.0 0.0 0.0\n",
      "Found entity: UK\n",
      "before 0.0 1.0 0.0 0.0\n",
      "after 0.0 2.0 0.0 0.0\n"
     ]
    },
    {
     "name": "stderr",
     "output_type": "stream",
     "text": [
      "53it [04:57,  4.92s/it]"
     ]
    },
    {
     "name": "stdout",
     "output_type": "stream",
     "text": [
      "Found entity: UK\n",
      "before 0.0 1.0 0.0 0.0\n",
      "after 0.0 2.0 0.0 0.0\n",
      "Found entity: UK\n",
      "before 0.0 1.0 0.0 0.0\n",
      "after 0.0 2.0 0.0 0.0\n",
      "Currently at df: 54 | 2019-06-01\n",
      "Found entity: Japan\n",
      "before 0.0 1.0 0.0 0.0\n",
      "after 0.0 2.0 0.0 0.0\n",
      "Found entity: United Kingdom\n",
      "before 0.0 0.917 0.083 0.4215\n",
      "after 0.0 1.834 0.083 0.4215\n",
      "Found entity: United Kingdom\n",
      "before 0.0 0.761 0.239 0.8176\n",
      "after 0.0 1.522 0.239 0.8176\n",
      "Found entity: United Kingdom\n",
      "before 0.0 0.912 0.088 0.4215\n",
      "after 0.0 1.824 0.088 0.4215\n",
      "Found entity: United Kingdom\n",
      "before 0.0 0.909 0.091 0.4215\n",
      "after 0.0 1.818 0.091 0.4215\n",
      "Found entity: United Kingdom\n",
      "before 0.0 0.838 0.162 0.6808\n",
      "after 0.0 1.676 0.162 0.6808\n",
      "Found entity: Japan\n",
      "before 0.036 0.838 0.126 0.7394\n",
      "after 0.036 1.676 0.126 0.7394\n",
      "Found entity: America\n",
      "before 0.0 1.0 0.0 0.0\n",
      "after 0.0 2.0 0.0 0.0\n",
      "Found entity: Tesla\n",
      "before 0.046 0.84 0.113 0.4939\n",
      "after 0.046 1.68 0.113 0.4939\n",
      "Found entity: Japan\n",
      "before 0.033 0.849 0.118 0.7394\n",
      "after 0.033 1.698 0.118 0.7394\n",
      "Found entity: Central Bank\n",
      "before 0.0 0.882 0.118 0.34\n",
      "after 0.0 1.764 0.118 0.34\n"
     ]
    },
    {
     "name": "stderr",
     "output_type": "stream",
     "text": [
      "54it [05:03,  5.45s/it]"
     ]
    },
    {
     "name": "stdout",
     "output_type": "stream",
     "text": [
      "Currently at df: 55 | 2016-02-19\n"
     ]
    },
    {
     "name": "stderr",
     "output_type": "stream",
     "text": [
      "55it [05:09,  5.65s/it]"
     ]
    },
    {
     "name": "stdout",
     "output_type": "stream",
     "text": [
      "Currently at df: 56 | 2016-08-01\n"
     ]
    },
    {
     "name": "stderr",
     "output_type": "stream",
     "text": [
      "56it [05:12,  4.84s/it]"
     ]
    },
    {
     "name": "stdout",
     "output_type": "stream",
     "text": [
      "Currently at df: 57 | 2016-02-03\n"
     ]
    },
    {
     "name": "stderr",
     "output_type": "stream",
     "text": [
      "57it [05:18,  5.11s/it]"
     ]
    },
    {
     "name": "stdout",
     "output_type": "stream",
     "text": [
      "Currently at df: 58 | 2020-09-23\n",
      "Found entity: Japan\n",
      "before 0.035 0.819 0.146 0.8229\n",
      "after 0.035 1.638 0.146 0.8229\n",
      "Found entity: America\n",
      "before 0.111 0.674 0.215 0.5215\n",
      "after 0.111 1.348 0.215 0.5215\n",
      "Found entity: America\n",
      "before 0.05 0.856 0.094 0.3818\n",
      "after 0.05 1.712 0.094 0.3818\n",
      "Found entity: MicroStrategy\n",
      "before 0.0 1.0 0.0 0.0\n",
      "after 0.0 2.0 0.0 0.0\n",
      "Found entity: France\n",
      "before 0.0 0.829 0.171 0.7644\n",
      "after 0.0 1.658 0.171 0.7644\n",
      "Found entity: Microstrategy\n",
      "before 0.0 0.881 0.119 0.3182\n",
      "after 0.0 1.762 0.119 0.3182\n",
      "Found entity: USA\n",
      "before 0.244 0.69 0.066 -0.8271\n",
      "after 0.244 1.38 0.066 -0.8271\n"
     ]
    },
    {
     "name": "stderr",
     "output_type": "stream",
     "text": [
      "58it [05:23,  5.04s/it]"
     ]
    },
    {
     "name": "stdout",
     "output_type": "stream",
     "text": [
      "Currently at df: 59 | 2014-02-06\n"
     ]
    },
    {
     "name": "stderr",
     "output_type": "stream",
     "text": [
      "59it [05:28,  5.18s/it]"
     ]
    },
    {
     "name": "stdout",
     "output_type": "stream",
     "text": [
      "Currently at df: 60 | 2014-03-19\n"
     ]
    },
    {
     "name": "stderr",
     "output_type": "stream",
     "text": [
      "60it [05:34,  5.32s/it]"
     ]
    },
    {
     "name": "stdout",
     "output_type": "stream",
     "text": [
      "Currently at df: 61 | 2016-06-25\n",
      "Found entity: UK\n",
      "before 0.0 1.0 0.0 0.0\n",
      "after 0.0 2.0 0.0 0.0\n",
      "Found entity: USA\n",
      "before 0.0 1.0 0.0 0.0\n",
      "after 0.0 2.0 0.0 0.0\n",
      "Found entity: UK\n",
      "before 0.0 1.0 0.0 0.0\n",
      "after 0.0 2.0 0.0 0.0\n",
      "Found entity: UK\n",
      "before 0.133 0.867 0.0 -0.3818\n",
      "after 0.133 1.734 0.0 -0.3818\n",
      "Found entity: China\n",
      "before 0.0 1.0 0.0 0.0\n",
      "after 0.0 2.0 0.0 0.0\n",
      "Found entity: UK\n",
      "before 0.0 1.0 0.0 0.0\n",
      "after 0.0 2.0 0.0 0.0\n",
      "Found entity: UK\n",
      "before 0.0 1.0 0.0 0.0\n",
      "after 0.0 2.0 0.0 0.0\n",
      "Found entity: UK\n",
      "before 0.0 1.0 0.0 0.0\n",
      "after 0.0 2.0 0.0 0.0\n",
      "Found entity: UK\n",
      "before 0.0 1.0 0.0 0.0\n",
      "after 0.0 2.0 0.0 0.0\n",
      "Found entity: UK\n",
      "before 0.0 1.0 0.0 0.0\n",
      "after 0.0 2.0 0.0 0.0\n",
      "Found entity: UK\n",
      "before 0.0 1.0 0.0 0.0\n",
      "after 0.0 2.0 0.0 0.0\n",
      "Found entity: UK\n",
      "before 0.0 1.0 0.0 0.0\n",
      "after 0.0 2.0 0.0 0.0\n",
      "Found entity: UK\n",
      "before 0.0 1.0 0.0 0.0\n",
      "after 0.0 2.0 0.0 0.0\n",
      "Found entity: UK\n",
      "before 0.0 1.0 0.0 0.0\n",
      "after 0.0 2.0 0.0 0.0\n"
     ]
    },
    {
     "name": "stderr",
     "output_type": "stream",
     "text": [
      "61it [05:40,  5.41s/it]"
     ]
    },
    {
     "name": "stdout",
     "output_type": "stream",
     "text": [
      "Currently at df: 62 | 2022-04-11\n",
      "Found entity: Microstrategy\n",
      "before 0.219 0.781 0.0 -0.4215\n",
      "after 0.219 1.562 0.0 -0.4215\n",
      "Found entity: China\n",
      "before 0.224 0.776 0.0 -0.7574\n",
      "after 0.224 1.552 0.0 -0.7574\n"
     ]
    },
    {
     "name": "stderr",
     "output_type": "stream",
     "text": [
      "62it [05:45,  5.26s/it]"
     ]
    },
    {
     "name": "stdout",
     "output_type": "stream",
     "text": [
      "Currently at df: 63 | 2018-05-02\n",
      "Found entity: JAPAN\n",
      "before 0.0 0.961 0.039 0.3182\n",
      "after 0.0 1.922 0.039 0.3182\n",
      "Found entity: CHINA\n",
      "before 0.0 1.0 0.0 0.0\n",
      "after 0.0 2.0 0.0 0.0\n",
      "Found entity: USA\n",
      "before 0.0 1.0 0.0 0.0\n",
      "after 0.0 2.0 0.0 0.0\n",
      "Found entity: USA\n",
      "before 0.0 1.0 0.0 0.0\n",
      "after 0.0 2.0 0.0 0.0\n",
      "Found entity: USA\n",
      "before 0.0 1.0 0.0 0.0\n",
      "after 0.0 2.0 0.0 0.0\n",
      "Found entity: Japan\n",
      "before 0.0 0.909 0.091 0.3612\n",
      "after 0.0 1.818 0.091 0.3612\n",
      "Found entity: France\n",
      "before 0.096 0.904 0.0 -0.5719\n",
      "after 0.096 1.808 0.0 -0.5719\n"
     ]
    },
    {
     "name": "stderr",
     "output_type": "stream",
     "text": [
      "63it [05:51,  5.70s/it]"
     ]
    },
    {
     "name": "stdout",
     "output_type": "stream",
     "text": [
      "Currently at df: 64 | 2016-05-12\n",
      "Found entity: USA\n",
      "before 0.0 1.0 0.0 0.0\n",
      "after 0.0 2.0 0.0 0.0\n"
     ]
    },
    {
     "name": "stderr",
     "output_type": "stream",
     "text": [
      "64it [05:56,  5.34s/it]"
     ]
    },
    {
     "name": "stdout",
     "output_type": "stream",
     "text": [
      "Currently at df: 65 | 2022-11-05\n"
     ]
    },
    {
     "name": "stderr",
     "output_type": "stream",
     "text": [
      "65it [06:01,  5.43s/it]"
     ]
    },
    {
     "name": "stdout",
     "output_type": "stream",
     "text": [
      "Currently at df: 66 | 2016-12-21\n"
     ]
    },
    {
     "name": "stderr",
     "output_type": "stream",
     "text": [
      "66it [06:05,  4.86s/it]"
     ]
    },
    {
     "name": "stdout",
     "output_type": "stream",
     "text": [
      "Currently at df: 67 | 2015-11-21\n",
      "Found entity: UK\n",
      "before 0.087 0.751 0.162 0.4404\n",
      "after 0.087 1.502 0.162 0.4404\n",
      "Found entity: UK\n",
      "before 0.087 0.751 0.162 0.4404\n",
      "after 0.087 1.502 0.162 0.4404\n"
     ]
    },
    {
     "name": "stderr",
     "output_type": "stream",
     "text": [
      "67it [06:10,  5.04s/it]"
     ]
    },
    {
     "name": "stdout",
     "output_type": "stream",
     "text": [
      "Currently at df: 68 | 2019-03-23\n",
      "Found entity: China\n",
      "before 0.0 0.886 0.114 0.4019\n",
      "after 0.0 1.772 0.114 0.4019\n",
      "Found entity: Vitalik Buterin\n",
      "before 0.0 0.955 0.045 0.1531\n",
      "after 0.0 1.91 0.045 0.1531\n"
     ]
    },
    {
     "name": "stderr",
     "output_type": "stream",
     "text": [
      "68it [06:18,  5.70s/it]"
     ]
    },
    {
     "name": "stdout",
     "output_type": "stream",
     "text": [
      "Currently at df: 69 | 2015-02-23\n"
     ]
    },
    {
     "name": "stderr",
     "output_type": "stream",
     "text": [
      "69it [06:22,  5.35s/it]"
     ]
    },
    {
     "name": "stdout",
     "output_type": "stream",
     "text": [
      "Currently at df: 70 | 2014-08-17\n",
      "Found entity: UK\n",
      "before 0.0 0.851 0.149 0.2732\n",
      "after 0.0 1.702 0.149 0.2732\n"
     ]
    },
    {
     "name": "stderr",
     "output_type": "stream",
     "text": [
      "70it [06:28,  5.57s/it]"
     ]
    },
    {
     "name": "stdout",
     "output_type": "stream",
     "text": [
      "Currently at df: 71 | 2015-07-07\n"
     ]
    },
    {
     "name": "stderr",
     "output_type": "stream",
     "text": [
      "71it [06:33,  5.16s/it]"
     ]
    },
    {
     "name": "stdout",
     "output_type": "stream",
     "text": [
      "Currently at df: 72 | 2014-01-15\n"
     ]
    },
    {
     "name": "stderr",
     "output_type": "stream",
     "text": [
      "72it [06:38,  5.36s/it]"
     ]
    },
    {
     "name": "stdout",
     "output_type": "stream",
     "text": [
      "Currently at df: 73 | 2014-04-02\n"
     ]
    },
    {
     "name": "stderr",
     "output_type": "stream",
     "text": [
      "73it [06:44,  5.49s/it]"
     ]
    },
    {
     "name": "stdout",
     "output_type": "stream",
     "text": [
      "Currently at df: 74 | 2014-03-29\n",
      "Found entity: China\n",
      "before 0.277 0.538 0.185 -0.296\n",
      "after 0.277 1.076 0.185 -0.296\n",
      "Found entity: China\n",
      "before 0.0 1.0 0.0 0.0\n",
      "after 0.0 2.0 0.0 0.0\n"
     ]
    },
    {
     "name": "stderr",
     "output_type": "stream",
     "text": [
      "74it [06:50,  5.56s/it]"
     ]
    },
    {
     "name": "stdout",
     "output_type": "stream",
     "text": [
      "Currently at df: 75 | 2021-02-05\n",
      "Found entity: ElonMusk\n",
      "before 0.0 0.805 0.195 0.5972\n",
      "after 0.0 1.61 0.195 0.5972\n",
      "Found entity: China\n",
      "before 0.0 1.0 0.0 0.0\n",
      "after 0.0 2.0 0.0 0.0\n",
      "Found entity: ElonMusk\n",
      "before 0.0 0.588 0.412 0.8442\n",
      "after 0.0 1.176 0.412 0.8442\n",
      "Found entity: Japan\n",
      "before 0.286 0.565 0.149 -0.658\n",
      "after 0.286 1.13 0.149 -0.658\n",
      "Found entity: Central Bank\n",
      "before 0.0 0.807 0.193 0.3305\n",
      "after 0.0 1.614 0.193 0.3305\n"
     ]
    },
    {
     "name": "stderr",
     "output_type": "stream",
     "text": [
      "75it [06:55,  5.54s/it]"
     ]
    },
    {
     "name": "stdout",
     "output_type": "stream",
     "text": [
      "Currently at df: 76 | 2014-02-02\n"
     ]
    },
    {
     "name": "stderr",
     "output_type": "stream",
     "text": [
      "76it [07:01,  5.51s/it]"
     ]
    },
    {
     "name": "stdout",
     "output_type": "stream",
     "text": [
      "Currently at df: 77 | 2015-11-11\n"
     ]
    },
    {
     "name": "stderr",
     "output_type": "stream",
     "text": [
      "77it [07:07,  5.60s/it]"
     ]
    },
    {
     "name": "stdout",
     "output_type": "stream",
     "text": [
      "Currently at df: 78 | 2022-04-22\n",
      "Found entity: Tesla\n",
      "before 0.0 0.906 0.094 0.4939\n",
      "after 0.0 1.812 0.094 0.4939\n",
      "Found entity: ElonMusk\n",
      "before 0.0 1.0 0.0 0.0\n",
      "after 0.0 2.0 0.0 0.0\n",
      "Found entity: ElonMusk\n",
      "before 0.0 1.0 0.0 0.0\n",
      "after 0.0 2.0 0.0 0.0\n",
      "Found entity: ElonMusk\n",
      "before 0.0 1.0 0.0 0.0\n",
      "after 0.0 2.0 0.0 0.0\n",
      "Found entity: ElonMusk\n",
      "before 0.0 1.0 0.0 0.0\n",
      "after 0.0 2.0 0.0 0.0\n",
      "Found entity: ElonMusk\n",
      "before 0.0 1.0 0.0 0.0\n",
      "after 0.0 2.0 0.0 0.0\n",
      "Found entity: ElonMusk\n",
      "before 0.0 1.0 0.0 0.0\n",
      "after 0.0 2.0 0.0 0.0\n",
      "Found entity: Tesla\n",
      "before 0.043 0.851 0.106 0.4767\n",
      "after 0.043 1.702 0.106 0.4767\n",
      "Found entity: ElonMusk\n",
      "before 0.0 1.0 0.0 0.0\n",
      "after 0.0 2.0 0.0 0.0\n",
      "Found entity: ElonMusk\n",
      "before 0.0 1.0 0.0 0.0\n",
      "after 0.0 2.0 0.0 0.0\n"
     ]
    },
    {
     "name": "stderr",
     "output_type": "stream",
     "text": [
      "78it [07:13,  5.84s/it]"
     ]
    },
    {
     "name": "stdout",
     "output_type": "stream",
     "text": [
      "Found entity: Microstrategy\n",
      "before 0.0 0.857 0.143 0.3612\n",
      "after 0.0 1.714 0.143 0.3612\n",
      "Currently at df: 79 | 2018-10-30\n",
      "Found entity: USA\n",
      "before 0.0 1.0 0.0 0.0\n",
      "after 0.0 2.0 0.0 0.0\n",
      "Found entity: France\n",
      "before 0.0 0.942 0.058 0.2023\n",
      "after 0.0 1.884 0.058 0.2023\n"
     ]
    },
    {
     "name": "stderr",
     "output_type": "stream",
     "text": [
      "79it [07:20,  6.23s/it]"
     ]
    },
    {
     "name": "stdout",
     "output_type": "stream",
     "text": [
      "Currently at df: 80 | 2015-06-25\n"
     ]
    },
    {
     "name": "stderr",
     "output_type": "stream",
     "text": [
      "80it [07:25,  5.69s/it]"
     ]
    },
    {
     "name": "stdout",
     "output_type": "stream",
     "text": [
      "Currently at df: 81 | 2021-02-06\n",
      "Found entity: China\n",
      "before 0.0 0.901 0.099 0.296\n",
      "after 0.0 1.802 0.099 0.296\n",
      "Found entity: America\n",
      "before 0.0 0.82 0.18 0.6588\n",
      "after 0.0 1.64 0.18 0.6588\n",
      "Found entity: Elon Musk\n",
      "before 0.0 0.896 0.104 0.2732\n",
      "after 0.0 1.792 0.104 0.2732\n",
      "Found entity: ElonMusk\n",
      "before 0.0 1.0 0.0 0.0\n",
      "after 0.0 2.0 0.0 0.0\n"
     ]
    },
    {
     "name": "stderr",
     "output_type": "stream",
     "text": [
      "81it [07:30,  5.68s/it]"
     ]
    },
    {
     "name": "stdout",
     "output_type": "stream",
     "text": [
      "Currently at df: 82 | 2021-12-16\n",
      "Found entity: Central Bank\n",
      "before 0.063 0.828 0.11 0.2732\n",
      "after 0.063 1.656 0.11 0.2732\n",
      "Found entity: America\n",
      "before 0.0 0.792 0.208 0.8658\n",
      "after 0.0 1.584 0.208 0.8658\n",
      "Found entity: Tesla\n",
      "before 0.043 0.851 0.106 0.4767\n",
      "after 0.043 1.702 0.106 0.4767\n"
     ]
    },
    {
     "name": "stderr",
     "output_type": "stream",
     "text": [
      "82it [07:35,  5.33s/it]"
     ]
    },
    {
     "name": "stdout",
     "output_type": "stream",
     "text": [
      "Found entity: China\n",
      "before 0.191 0.638 0.17 -0.1027\n",
      "after 0.191 1.276 0.17 -0.1027\n",
      "Currently at df: 83 | 2015-08-24\n"
     ]
    },
    {
     "name": "stderr",
     "output_type": "stream",
     "text": [
      "83it [07:37,  4.52s/it]"
     ]
    },
    {
     "name": "stdout",
     "output_type": "stream",
     "text": [
      "Found entity: China\n",
      "before 0.0 0.746 0.254 0.7319\n",
      "after 0.0 1.492 0.254 0.7319\n",
      "Currently at df: 84 | 2015-06-13\n"
     ]
    },
    {
     "name": "stderr",
     "output_type": "stream",
     "text": [
      "84it [07:40,  3.99s/it]"
     ]
    },
    {
     "name": "stdout",
     "output_type": "stream",
     "text": [
      "Currently at df: 85 | 2018-08-12\n",
      "Found entity: USA\n",
      "before 0.0 1.0 0.0 0.0\n",
      "after 0.0 2.0 0.0 0.0\n",
      "Found entity: USA\n",
      "before 0.0 0.9 0.1 0.5983\n",
      "after 0.0 1.8 0.1 0.5983\n"
     ]
    },
    {
     "name": "stderr",
     "output_type": "stream",
     "text": [
      "85it [07:47,  4.94s/it]"
     ]
    },
    {
     "name": "stdout",
     "output_type": "stream",
     "text": [
      "Currently at df: 86 | 2020-06-13\n",
      "Found entity: France\n",
      "before 0.0 0.723 0.277 0.9245\n",
      "after 0.0 1.446 0.277 0.9245\n",
      "Found entity: America\n",
      "before 0.0 0.855 0.145 0.7149\n",
      "after 0.0 1.71 0.145 0.7149\n",
      "Found entity: France\n",
      "before 0.0 0.831 0.169 0.6486\n",
      "after 0.0 1.662 0.169 0.6486\n",
      "Found entity: USA\n",
      "before 0.0 0.837 0.163 0.8034\n",
      "after 0.0 1.674 0.163 0.8034\n"
     ]
    },
    {
     "name": "stderr",
     "output_type": "stream",
     "text": [
      "86it [07:52,  4.87s/it]"
     ]
    },
    {
     "name": "stdout",
     "output_type": "stream",
     "text": [
      "Currently at df: 87 | 2017-03-19\n"
     ]
    },
    {
     "name": "stderr",
     "output_type": "stream",
     "text": [
      "87it [07:55,  4.17s/it]"
     ]
    },
    {
     "name": "stdout",
     "output_type": "stream",
     "text": [
      "Currently at df: 88 | 2017-06-04\n"
     ]
    },
    {
     "name": "stderr",
     "output_type": "stream",
     "text": [
      "88it [07:57,  3.69s/it]"
     ]
    },
    {
     "name": "stdout",
     "output_type": "stream",
     "text": [
      "Currently at df: 89 | 2018-06-16\n",
      "Found entity: USA\n",
      "before 0.0 1.0 0.0 0.0\n",
      "after 0.0 2.0 0.0 0.0\n",
      "Found entity: China\n",
      "before 0.0 1.0 0.0 0.0\n",
      "after 0.0 2.0 0.0 0.0\n"
     ]
    },
    {
     "name": "stderr",
     "output_type": "stream",
     "text": [
      "89it [08:04,  4.57s/it]"
     ]
    },
    {
     "name": "stdout",
     "output_type": "stream",
     "text": [
      "Currently at df: 90 | 2020-01-05\n",
      "Found entity: China\n",
      "before 0.159 0.715 0.126 -0.4767\n",
      "after 0.159 1.43 0.126 -0.4767\n",
      "Found entity: USA\n",
      "before 0.23 0.77 0.0 -0.636\n",
      "after 0.23 1.54 0.0 -0.636\n",
      "Found entity: Japan\n",
      "before 0.0 0.867 0.133 0.5216\n",
      "after 0.0 1.734 0.133 0.5216\n",
      "Found entity: China\n",
      "before 0.0 1.0 0.0 0.0\n",
      "after 0.0 2.0 0.0 0.0\n",
      "Found entity: USA\n",
      "before 0.0 0.685 0.315 0.9081\n",
      "after 0.0 1.37 0.315 0.9081\n"
     ]
    },
    {
     "name": "stderr",
     "output_type": "stream",
     "text": [
      "90it [08:09,  4.74s/it]"
     ]
    },
    {
     "name": "stdout",
     "output_type": "stream",
     "text": [
      "Currently at df: 91 | 2018-07-20\n",
      "Found entity: USA\n",
      "before 0.0 0.795 0.205 0.8176\n",
      "after 0.0 1.59 0.205 0.8176\n",
      "Found entity: USA\n",
      "before 0.0 0.73 0.27 0.8779\n",
      "after 0.0 1.46 0.27 0.8779\n"
     ]
    },
    {
     "name": "stderr",
     "output_type": "stream",
     "text": [
      "91it [08:16,  5.38s/it]"
     ]
    },
    {
     "name": "stdout",
     "output_type": "stream",
     "text": [
      "Currently at df: 92 | 2015-07-16\n"
     ]
    },
    {
     "name": "stderr",
     "output_type": "stream",
     "text": [
      "92it [08:20,  5.10s/it]"
     ]
    },
    {
     "name": "stdout",
     "output_type": "stream",
     "text": [
      "Currently at df: 93 | 2015-03-30\n"
     ]
    },
    {
     "name": "stderr",
     "output_type": "stream",
     "text": [
      "93it [08:26,  5.32s/it]"
     ]
    },
    {
     "name": "stdout",
     "output_type": "stream",
     "text": [
      "Currently at df: 94 | 2019-05-11\n",
      "Found entity: France\n",
      "before 0.0 0.804 0.196 0.6808\n",
      "after 0.0 1.608 0.196 0.6808\n",
      "Found entity: Japan\n",
      "before 0.172 0.686 0.142 -0.3919\n",
      "after 0.172 1.372 0.142 -0.3919\n",
      "Found entity: USA\n",
      "before 0.186 0.814 0.0 -0.7351\n",
      "after 0.186 1.628 0.0 -0.7351\n",
      "Found entity: France\n",
      "before 0.04 0.96 0.0 -0.1027\n",
      "after 0.04 1.92 0.0 -0.1027\n",
      "Found entity: China\n",
      "before 0.0 1.0 0.0 0.0\n",
      "after 0.0 2.0 0.0 0.0\n"
     ]
    },
    {
     "name": "stderr",
     "output_type": "stream",
     "text": [
      "94it [08:32,  5.57s/it]"
     ]
    },
    {
     "name": "stdout",
     "output_type": "stream",
     "text": [
      "Currently at df: 95 | 2014-10-30\n"
     ]
    },
    {
     "name": "stderr",
     "output_type": "stream",
     "text": [
      "95it [08:38,  5.71s/it]"
     ]
    },
    {
     "name": "stdout",
     "output_type": "stream",
     "text": [
      "Currently at df: 96 | 2014-12-20\n"
     ]
    },
    {
     "name": "stderr",
     "output_type": "stream",
     "text": [
      "96it [08:44,  5.77s/it]"
     ]
    },
    {
     "name": "stdout",
     "output_type": "stream",
     "text": [
      "Currently at df: 97 | 2017-02-16\n",
      "Found entity: China\n",
      "before 0.147 0.734 0.119 -0.1531\n",
      "after 0.147 1.468 0.119 -0.1531\n",
      "Found entity: China\n",
      "before 0.0 1.0 0.0 0.0\n",
      "after 0.0 2.0 0.0 0.0\n",
      "Found entity: China\n",
      "before 0.147 0.734 0.119 -0.1531\n",
      "after 0.147 1.468 0.119 -0.1531\n",
      "Found entity: China\n",
      "before 0.0 1.0 0.0 0.0\n",
      "after 0.0 2.0 0.0 0.0\n",
      "Found entity: China\n",
      "before 0.0 1.0 0.0 0.0\n",
      "after 0.0 2.0 0.0 0.0\n",
      "Found entity: Central Bank\n",
      "before 0.0 0.872 0.128 0.2263\n",
      "after 0.0 1.744 0.128 0.2263\n",
      "Found entity: China\n",
      "before 0.0 1.0 0.0 0.0\n",
      "after 0.0 2.0 0.0 0.0\n"
     ]
    },
    {
     "name": "stderr",
     "output_type": "stream",
     "text": [
      "97it [08:49,  5.63s/it]"
     ]
    },
    {
     "name": "stdout",
     "output_type": "stream",
     "text": [
      "Found entity: China\n",
      "before 0.0 0.882 0.118 0.0516\n",
      "after 0.0 1.764 0.118 0.0516\n",
      "Currently at df: 98 | 2019-05-01\n",
      "Found entity: UK\n",
      "before 0.135 0.76 0.105 -0.128\n",
      "after 0.135 1.52 0.105 -0.128\n"
     ]
    },
    {
     "name": "stderr",
     "output_type": "stream",
     "text": [
      "98it [08:56,  6.04s/it]"
     ]
    },
    {
     "name": "stdout",
     "output_type": "stream",
     "text": [
      "Currently at df: 99 | 2019-02-09\n",
      "Found entity: Central Bank\n",
      "before 0.0 1.0 0.0 0.0\n",
      "after 0.0 2.0 0.0 0.0\n"
     ]
    },
    {
     "name": "stderr",
     "output_type": "stream",
     "text": [
      "99it [09:04,  6.52s/it]"
     ]
    },
    {
     "name": "stdout",
     "output_type": "stream",
     "text": [
      "Currently at df: 100 | 2014-03-04\n"
     ]
    },
    {
     "name": "stderr",
     "output_type": "stream",
     "text": [
      "100it [09:10,  6.41s/it]"
     ]
    },
    {
     "name": "stdout",
     "output_type": "stream",
     "text": [
      "Currently at df: 101 | 2016-11-07\n",
      "Found entity: USA\n",
      "before 0.0 1.0 0.0 0.0\n",
      "after 0.0 2.0 0.0 0.0\n"
     ]
    },
    {
     "name": "stderr",
     "output_type": "stream",
     "text": [
      "101it [09:13,  5.28s/it]"
     ]
    },
    {
     "name": "stdout",
     "output_type": "stream",
     "text": [
      "Currently at df: 102 | 2021-05-01\n",
      "Found entity: Elon Musk\n",
      "before 0.0 0.899 0.101 0.504\n",
      "after 0.0 1.798 0.101 0.504\n",
      "Found entity: Tesla\n",
      "before 0.0 0.706 0.294 0.944\n",
      "after 0.0 1.412 0.294 0.944\n",
      "Found entity: USA\n",
      "before 0.0 1.0 0.0 0.0\n",
      "after 0.0 2.0 0.0 0.0\n",
      "Found entity: ElonMusk\n",
      "before 0.0 1.0 0.0 0.0\n",
      "after 0.0 2.0 0.0 0.0\n",
      "Found entity: Tesla\n",
      "before 0.047 0.872 0.081 0.4215\n",
      "after 0.047 1.744 0.081 0.4215\n"
     ]
    },
    {
     "name": "stderr",
     "output_type": "stream",
     "text": [
      "102it [09:19,  5.58s/it]"
     ]
    },
    {
     "name": "stdout",
     "output_type": "stream",
     "text": [
      "Currently at df: 103 | 2016-08-02\n"
     ]
    },
    {
     "name": "stderr",
     "output_type": "stream",
     "text": [
      "103it [09:23,  5.03s/it]"
     ]
    },
    {
     "name": "stdout",
     "output_type": "stream",
     "text": [
      "Currently at df: 104 | 2020-02-23\n",
      "Found user: adam3us\n",
      "\n",
      "Found name: \n",
      "\n",
      "before 0.0 0.842 0.158 0.6297\n",
      "after 0.0 1.684 0.158 0.6297\n",
      "Found entity: Vitalik Buterin\n",
      "before 0.062 0.938 0.0 -0.2732\n",
      "after 0.062 1.876 0.0 -0.2732\n"
     ]
    },
    {
     "name": "stderr",
     "output_type": "stream",
     "text": [
      "104it [09:28,  5.16s/it]"
     ]
    },
    {
     "name": "stdout",
     "output_type": "stream",
     "text": [
      "Currently at df: 105 | 2016-09-20\n"
     ]
    },
    {
     "name": "stderr",
     "output_type": "stream",
     "text": [
      "105it [09:33,  4.86s/it]"
     ]
    },
    {
     "name": "stdout",
     "output_type": "stream",
     "text": [
      "Currently at df: 106 | 2021-01-14\n",
      "Found entity: china\n",
      "before 0.265 0.735 0.0 -0.6072\n",
      "after 0.265 1.47 0.0 -0.6072\n",
      "Found entity: America\n",
      "before 0.0 0.922 0.078 0.2449\n",
      "after 0.0 1.844 0.078 0.2449\n"
     ]
    },
    {
     "name": "stderr",
     "output_type": "stream",
     "text": [
      "106it [09:39,  5.30s/it]"
     ]
    },
    {
     "name": "stdout",
     "output_type": "stream",
     "text": [
      "Currently at df: 107 | 2022-10-10\n",
      "Found entity: MicroStrategy\n",
      "before 0.0 0.88 0.12 0.6808\n",
      "after 0.0 1.76 0.12 0.6808\n",
      "Found entity: China\n",
      "before 0.152 0.848 0.0 -0.6774\n",
      "after 0.152 1.696 0.0 -0.6774\n",
      "Found entity: America\n",
      "before 0.0 0.789 0.211 0.8658\n",
      "after 0.0 1.578 0.211 0.8658\n",
      "Found entity: UK\n",
      "before 0.0 0.642 0.358 0.6908\n",
      "after 0.0 1.284 0.358 0.6908\n"
     ]
    },
    {
     "name": "stderr",
     "output_type": "stream",
     "text": [
      "107it [09:47,  6.06s/it]"
     ]
    },
    {
     "name": "stdout",
     "output_type": "stream",
     "text": [
      "Found entity: China\n",
      "before 0.172 0.828 0.0 -0.7003\n",
      "after 0.172 1.656 0.0 -0.7003\n",
      "Found entity: MicroStrategy\n",
      "before 0.0 1.0 0.0 0.0\n",
      "after 0.0 2.0 0.0 0.0\n",
      "Found entity: Elonmusk\n",
      "before 0.0 1.0 0.0 0.0\n",
      "after 0.0 2.0 0.0 0.0\n",
      "Currently at df: 108 | 2021-09-12\n",
      "Found entity: Tesla\n",
      "before 0.043 0.851 0.106 0.4767\n",
      "after 0.043 1.702 0.106 0.4767\n"
     ]
    },
    {
     "name": "stderr",
     "output_type": "stream",
     "text": [
      "108it [09:52,  5.97s/it]"
     ]
    },
    {
     "name": "stdout",
     "output_type": "stream",
     "text": [
      "Currently at df: 109 | 2022-03-30\n",
      "Found entity: MicroStrategy\n",
      "before 0.0 0.89 0.11 0.4019\n",
      "after 0.0 1.78 0.11 0.4019\n",
      "Found entity: Tesla\n",
      "before 0.043 0.851 0.106 0.4767\n",
      "after 0.043 1.702 0.106 0.4767\n"
     ]
    },
    {
     "name": "stderr",
     "output_type": "stream",
     "text": [
      "109it [09:58,  5.91s/it]"
     ]
    },
    {
     "name": "stdout",
     "output_type": "stream",
     "text": [
      "Currently at df: 110 | 2014-12-10\n"
     ]
    },
    {
     "name": "stderr",
     "output_type": "stream",
     "text": [
      "110it [10:05,  6.20s/it]"
     ]
    },
    {
     "name": "stdout",
     "output_type": "stream",
     "text": [
      "Currently at df: 111 | 2022-09-14\n",
      "Found entity: VitalikButerin\n",
      "before 0.158 0.773 0.069 -0.5267\n",
      "after 0.158 1.546 0.069 -0.5267\n",
      "Found entity: China\n",
      "before 0.0 0.886 0.114 0.2023\n",
      "after 0.0 1.772 0.114 0.2023\n"
     ]
    },
    {
     "name": "stderr",
     "output_type": "stream",
     "text": [
      "111it [10:12,  6.53s/it]"
     ]
    },
    {
     "name": "stdout",
     "output_type": "stream",
     "text": [
      "Currently at df: 112 | 2021-04-01\n",
      "Found entity: Tesla\n",
      "before 0.0 0.857 0.143 0.6705\n",
      "after 0.0 1.714 0.143 0.6705\n",
      "Found entity: Tesla\n",
      "before 0.0 0.857 0.143 0.6705\n",
      "after 0.0 1.714 0.143 0.6705\n",
      "Found entity: Tesla\n",
      "before 0.0 0.857 0.143 0.6705\n",
      "after 0.0 1.714 0.143 0.6705\n",
      "Found entity: Tesla\n",
      "before 0.0 1.0 0.0 0.0\n",
      "after 0.0 2.0 0.0 0.0\n",
      "Found entity: Tesla\n",
      "before 0.0 0.857 0.143 0.6705\n",
      "after 0.0 1.714 0.143 0.6705\n",
      "Found entity: ElonMusk\n",
      "before 0.064 0.842 0.094 0.126\n",
      "after 0.064 1.684 0.094 0.126\n",
      "Found entity: Tesla\n",
      "before 0.0 0.857 0.143 0.6705\n",
      "after 0.0 1.714 0.143 0.6705\n",
      "Found entity: Tesla\n",
      "before 0.0 0.857 0.143 0.6705\n",
      "after 0.0 1.714 0.143 0.6705\n",
      "Found entity: ElonMusk\n",
      "before 0.0 1.0 0.0 0.0\n",
      "after 0.0 2.0 0.0 0.0\n",
      "Found entity: Tesla\n",
      "before 0.0 0.857 0.143 0.6705\n",
      "after 0.0 1.714 0.143 0.6705\n",
      "Found entity: Tesla\n",
      "before 0.0 0.857 0.143 0.6705\n",
      "after 0.0 1.714 0.143 0.6705\n",
      "Found entity: Tesla\n",
      "before 0.0 0.857 0.143 0.6705\n",
      "after 0.0 1.714 0.143 0.6705\n",
      "Found entity: Tesla\n",
      "before 0.0 0.857 0.143 0.6705\n",
      "after 0.0 1.714 0.143 0.6705\n",
      "Found entity: Tesla\n",
      "before 0.0 0.857 0.143 0.6705\n",
      "after 0.0 1.714 0.143 0.6705\n",
      "Found entity: Tesla\n",
      "before 0.0 0.857 0.143 0.6705\n",
      "after 0.0 1.714 0.143 0.6705\n",
      "Found entity: Tesla\n",
      "before 0.0 0.857 0.143 0.6705\n",
      "after 0.0 1.714 0.143 0.6705\n",
      "Found entity: Tesla\n",
      "before 0.0 0.861 0.139 0.6705\n",
      "after 0.0 1.722 0.139 0.6705\n",
      "Found entity: Tesla\n",
      "before 0.0 0.857 0.143 0.6705\n",
      "after 0.0 1.714 0.143 0.6705\n",
      "Found entity: Tesla\n",
      "before 0.0 0.857 0.143 0.6705\n",
      "after 0.0 1.714 0.143 0.6705\n",
      "Found entity: Tesla\n",
      "before 0.0 0.861 0.139 0.6705\n",
      "after 0.0 1.722 0.139 0.6705\n",
      "Found entity: Tesla\n",
      "before 0.0 0.861 0.139 0.6705\n",
      "after 0.0 1.722 0.139 0.6705\n",
      "Found entity: Tesla\n",
      "before 0.0 0.857 0.143 0.6705\n",
      "after 0.0 1.714 0.143 0.6705\n",
      "Found entity: America\n",
      "before 0.0 0.883 0.117 0.5562\n",
      "after 0.0 1.766 0.117 0.5562\n",
      "Found entity: Tesla\n",
      "before 0.0 0.857 0.143 0.6705\n",
      "after 0.0 1.714 0.143 0.6705\n",
      "Found entity: Tesla\n",
      "before 0.0 0.857 0.143 0.6705\n",
      "after 0.0 1.714 0.143 0.6705\n",
      "Found entity: Tesla\n",
      "before 0.048 0.83 0.121 0.4767\n",
      "after 0.048 1.66 0.121 0.4767\n",
      "Found entity: Tesla\n",
      "before 0.0 0.857 0.143 0.6705\n",
      "after 0.0 1.714 0.143 0.6705\n",
      "Found entity: Tesla\n",
      "before 0.0 0.857 0.143 0.6705\n",
      "after 0.0 1.714 0.143 0.6705\n"
     ]
    },
    {
     "name": "stderr",
     "output_type": "stream",
     "text": [
      "112it [10:18,  6.29s/it]"
     ]
    },
    {
     "name": "stdout",
     "output_type": "stream",
     "text": [
      "Currently at df: 113 | 2018-03-14\n",
      "Found entity: USA\n",
      "before 0.0 1.0 0.0 0.0\n",
      "after 0.0 2.0 0.0 0.0\n",
      "Found entity: USA\n",
      "before 0.0 1.0 0.0 0.0\n",
      "after 0.0 2.0 0.0 0.0\n",
      "Found entity: USA\n",
      "before 0.0 0.846 0.154 0.5882\n",
      "after 0.0 1.692 0.154 0.5882\n"
     ]
    },
    {
     "name": "stderr",
     "output_type": "stream",
     "text": [
      "113it [10:25,  6.46s/it]"
     ]
    },
    {
     "name": "stdout",
     "output_type": "stream",
     "text": [
      "Currently at df: 114 | 2017-08-27\n"
     ]
    },
    {
     "name": "stderr",
     "output_type": "stream",
     "text": [
      "114it [10:29,  5.83s/it]"
     ]
    },
    {
     "name": "stdout",
     "output_type": "stream",
     "text": [
      "Currently at df: 115 | 2018-04-14\n",
      "Found entity: USA\n",
      "before 0.0 1.0 0.0 0.0\n",
      "after 0.0 2.0 0.0 0.0\n",
      "Found user: aantonop\n",
      "\n",
      "Found name: Andreas M. Antonopoulos\n",
      "\n",
      "before 0.0 1.0 0.0 0.0\n",
      "after 0.0 2.0 0.0 0.0\n",
      "Found entity: USA\n",
      "before 0.0 1.0 0.0 0.0\n",
      "after 0.0 2.0 0.0 0.0\n",
      "Found entity: USA\n",
      "before 0.0 1.0 0.0 0.0\n",
      "after 0.0 2.0 0.0 0.0\n",
      "Found entity: USA\n",
      "before 0.0 1.0 0.0 0.0\n",
      "after 0.0 2.0 0.0 0.0\n"
     ]
    },
    {
     "name": "stderr",
     "output_type": "stream",
     "text": [
      "115it [10:36,  6.16s/it]"
     ]
    },
    {
     "name": "stdout",
     "output_type": "stream",
     "text": [
      "Currently at df: 116 | 2015-04-22\n"
     ]
    },
    {
     "name": "stderr",
     "output_type": "stream",
     "text": [
      "116it [10:42,  6.10s/it]"
     ]
    },
    {
     "name": "stdout",
     "output_type": "stream",
     "text": [
      "Currently at df: 117 | 2022-01-09\n",
      "Found entity: Andreas Antonopoulos\n",
      "before 0.0 0.717 0.283 0.8351\n",
      "after 0.0 1.434 0.283 0.8351\n",
      "Found entity: USA\n",
      "before 0.0 1.0 0.0 0.0\n",
      "after 0.0 2.0 0.0 0.0\n",
      "Found entity: China\n",
      "before 0.328 0.672 0.0 -0.5994\n",
      "after 0.328 1.344 0.0 -0.5994\n",
      "Found entity: Tesla\n",
      "before 0.043 0.851 0.106 0.4767\n",
      "after 0.043 1.702 0.106 0.4767\n"
     ]
    },
    {
     "name": "stderr",
     "output_type": "stream",
     "text": [
      "117it [10:47,  5.67s/it]"
     ]
    },
    {
     "name": "stdout",
     "output_type": "stream",
     "text": [
      "Currently at df: 118 | 2017-07-24\n",
      "Found entity: China\n",
      "before 0.0 0.901 0.099 0.3182\n",
      "after 0.0 1.802 0.099 0.3182\n",
      "Found entity: USA\n",
      "before 0.0 1.0 0.0 0.0\n",
      "after 0.0 2.0 0.0 0.0\n",
      "Found entity: USA\n",
      "before 0.0 1.0 0.0 0.0\n",
      "after 0.0 2.0 0.0 0.0\n",
      "Found entity: China\n",
      "before 0.0 0.901 0.099 0.3182\n",
      "after 0.0 1.802 0.099 0.3182\n",
      "Found entity: USA\n",
      "before 0.0 1.0 0.0 0.0\n",
      "after 0.0 2.0 0.0 0.0\n"
     ]
    },
    {
     "name": "stderr",
     "output_type": "stream",
     "text": [
      "118it [10:52,  5.40s/it]"
     ]
    },
    {
     "name": "stdout",
     "output_type": "stream",
     "text": [
      "Currently at df: 119 | 2014-07-09\n",
      "Found entity: UK\n",
      "before 0.168 0.722 0.11 -0.1779\n",
      "after 0.168 1.444 0.11 -0.1779\n"
     ]
    },
    {
     "name": "stderr",
     "output_type": "stream",
     "text": [
      "119it [10:58,  5.54s/it]"
     ]
    },
    {
     "name": "stdout",
     "output_type": "stream",
     "text": [
      "Currently at df: 120 | 2017-09-18\n",
      "Found entity: USA\n",
      "before 0.0 1.0 0.0 0.0\n",
      "after 0.0 2.0 0.0 0.0\n"
     ]
    },
    {
     "name": "stderr",
     "output_type": "stream",
     "text": [
      "120it [11:04,  5.67s/it]"
     ]
    },
    {
     "name": "stdout",
     "output_type": "stream",
     "text": [
      "Found entity: USA\n",
      "before 0.0 1.0 0.0 0.0\n",
      "after 0.0 2.0 0.0 0.0\n",
      "Currently at df: 121 | 2018-01-11\n",
      "Found entity: China\n",
      "before 0.047 0.83 0.123 0.5574\n",
      "after 0.047 1.66 0.123 0.5574\n",
      "Found entity: USA\n",
      "before 0.0 1.0 0.0 0.0\n",
      "after 0.0 2.0 0.0 0.0\n",
      "Found entity: USA\n",
      "before 0.0 0.746 0.254 0.836\n",
      "after 0.0 1.492 0.254 0.836\n",
      "Found entity: USA\n",
      "before 0.0 1.0 0.0 0.0\n",
      "after 0.0 2.0 0.0 0.0\n",
      "Found entity: China\n",
      "before 0.0 0.918 0.082 0.3595\n",
      "after 0.0 1.836 0.082 0.3595\n"
     ]
    },
    {
     "name": "stderr",
     "output_type": "stream",
     "text": [
      "121it [11:10,  5.94s/it]"
     ]
    },
    {
     "name": "stdout",
     "output_type": "stream",
     "text": [
      "Currently at df: 122 | 2014-07-13\n"
     ]
    },
    {
     "name": "stderr",
     "output_type": "stream",
     "text": [
      "122it [11:16,  5.90s/it]"
     ]
    },
    {
     "name": "stdout",
     "output_type": "stream",
     "text": [
      "Currently at df: 123 | 2017-01-27\n"
     ]
    },
    {
     "name": "stderr",
     "output_type": "stream",
     "text": [
      "123it [11:19,  4.96s/it]"
     ]
    },
    {
     "name": "stdout",
     "output_type": "stream",
     "text": [
      "Currently at df: 124 | 2018-04-05\n",
      "Found entity: America\n",
      "before 0.31 0.69 0.0 -0.6597\n",
      "after 0.31 1.38 0.0 -0.6597\n",
      "Found entity: America\n",
      "before 0.31 0.69 0.0 -0.6597\n",
      "after 0.31 1.38 0.0 -0.6597\n",
      "Found entity: China\n",
      "before 0.0 0.903 0.097 0.5574\n",
      "after 0.0 1.806 0.097 0.5574\n",
      "Found entity: China\n",
      "before 0.0 0.94 0.06 0.2481\n",
      "after 0.0 1.88 0.06 0.2481\n",
      "Found entity: China\n",
      "before 0.0 0.773 0.227 0.6249\n",
      "after 0.0 1.546 0.227 0.6249\n",
      "Found entity: UK\n",
      "before 0.026 0.948 0.026 0.0\n",
      "after 0.026 1.896 0.026 0.0\n",
      "Found entity: China\n",
      "before 0.211 0.649 0.14 -0.296\n",
      "after 0.211 1.298 0.14 -0.296\n",
      "Found entity: UK\n",
      "before 0.0 1.0 0.0 0.0\n",
      "after 0.0 2.0 0.0 0.0\n"
     ]
    },
    {
     "name": "stderr",
     "output_type": "stream",
     "text": [
      "124it [11:25,  5.30s/it]"
     ]
    },
    {
     "name": "stdout",
     "output_type": "stream",
     "text": [
      "Currently at df: 125 | 2015-12-26\n"
     ]
    },
    {
     "name": "stderr",
     "output_type": "stream",
     "text": [
      "125it [11:31,  5.47s/it]"
     ]
    },
    {
     "name": "stdout",
     "output_type": "stream",
     "text": [
      "Currently at df: 126 | 2021-05-11\n",
      "Found entity: Tesla\n",
      "before 0.0 0.543 0.457 0.9872\n",
      "after 0.0 1.086 0.457 0.9872\n",
      "Found entity: Tesla\n",
      "before 0.0 0.555 0.445 0.9857\n",
      "after 0.0 1.11 0.445 0.9857\n",
      "Found entity: ElonMusk\n",
      "before 0.0 0.522 0.478 0.9897\n",
      "after 0.0 1.044 0.478 0.9897\n",
      "Found entity: Tesla\n",
      "before 0.103 0.897 0.0 -0.4588\n",
      "after 0.103 1.794 0.0 -0.4588\n",
      "Found entity: Tesla\n",
      "before 0.043 0.851 0.106 0.4767\n",
      "after 0.043 1.702 0.106 0.4767\n"
     ]
    },
    {
     "name": "stderr",
     "output_type": "stream",
     "text": [
      "126it [11:36,  5.40s/it]"
     ]
    },
    {
     "name": "stdout",
     "output_type": "stream",
     "text": [
      "Currently at df: 127 | 2017-06-10\n",
      "Found entity: USA\n",
      "before 0.0 1.0 0.0 0.0\n",
      "after 0.0 2.0 0.0 0.0\n"
     ]
    },
    {
     "name": "stderr",
     "output_type": "stream",
     "text": [
      "127it [11:39,  4.72s/it]"
     ]
    },
    {
     "name": "stdout",
     "output_type": "stream",
     "text": [
      "Currently at df: 128 | 2015-06-01\n"
     ]
    },
    {
     "name": "stderr",
     "output_type": "stream",
     "text": [
      "128it [11:45,  5.02s/it]"
     ]
    },
    {
     "name": "stdout",
     "output_type": "stream",
     "text": [
      "Currently at df: 129 | 2019-09-05\n",
      "Found entity: China\n",
      "before 0.284 0.716 0.0 -0.8668\n",
      "after 0.284 1.432 0.0 -0.8668\n",
      "Found entity: America\n",
      "before 0.263 0.737 0.0 -0.7987\n",
      "after 0.263 1.474 0.0 -0.7987\n"
     ]
    },
    {
     "name": "stderr",
     "output_type": "stream",
     "text": [
      "129it [11:51,  5.40s/it]"
     ]
    },
    {
     "name": "stdout",
     "output_type": "stream",
     "text": [
      "Currently at df: 130 | 2019-02-14\n"
     ]
    },
    {
     "name": "stderr",
     "output_type": "stream",
     "text": [
      "130it [11:58,  5.93s/it]"
     ]
    },
    {
     "name": "stdout",
     "output_type": "stream",
     "text": [
      "Currently at df: 131 | 2022-07-06\n",
      "Found entity: Tesla\n",
      "before 0.0 0.958 0.042 0.1779\n",
      "after 0.0 1.916 0.042 0.1779\n",
      "Found entity: Riot Blockchain\n",
      "before 0.222 0.778 0.0 -0.6908\n",
      "after 0.222 1.556 0.0 -0.6908\n"
     ]
    },
    {
     "name": "stderr",
     "output_type": "stream",
     "text": [
      "131it [12:03,  5.70s/it]"
     ]
    },
    {
     "name": "stdout",
     "output_type": "stream",
     "text": [
      "Currently at df: 132 | 2014-06-02\n"
     ]
    },
    {
     "name": "stderr",
     "output_type": "stream",
     "text": [
      "132it [12:09,  5.75s/it]"
     ]
    },
    {
     "name": "stdout",
     "output_type": "stream",
     "text": [
      "Currently at df: 133 | 2019-05-26\n",
      "Found entity: uk\n",
      "before 0.0 0.786 0.214 0.824\n",
      "after 0.0 1.572 0.214 0.824\n",
      "Found entity: Adam Back\n",
      "before 0.134 0.866 0.0 -0.4767\n",
      "after 0.134 1.732 0.0 -0.4767\n",
      "Found entity: usa\n",
      "before 0.0 0.921 0.079 0.34\n",
      "after 0.0 1.842 0.079 0.34\n",
      "Found entity: America\n",
      "before 0.066 0.863 0.071 -0.1828\n",
      "after 0.066 1.726 0.071 -0.1828\n",
      "Found entity: ElonMusk\n",
      "before 0.0 1.0 0.0 0.0\n",
      "after 0.0 2.0 0.0 0.0\n",
      "Found entity: UK\n",
      "before 0.048 0.952 0.0 -0.1027\n",
      "after 0.048 1.904 0.0 -0.1027\n",
      "Found user: WhalePanda\n",
      "\n",
      "Found name: WhalePanda\n",
      "\n",
      "before 0.0 0.798 0.202 0.4199\n",
      "after 0.0 1.596 0.202 0.4199\n"
     ]
    },
    {
     "name": "stderr",
     "output_type": "stream",
     "text": [
      "133it [12:16,  6.04s/it]"
     ]
    },
    {
     "name": "stdout",
     "output_type": "stream",
     "text": [
      "Currently at df: 134 | 2015-01-19\n",
      "Found entity: adam3us\n",
      "before 0.0 1.0 0.0 0.0\n",
      "after 0.0 2.0 0.0 0.0\n"
     ]
    },
    {
     "name": "stderr",
     "output_type": "stream",
     "text": [
      "134it [12:22,  6.00s/it]"
     ]
    },
    {
     "name": "stdout",
     "output_type": "stream",
     "text": [
      "Currently at df: 135 | 2017-08-29\n",
      "Found entity: USA\n",
      "before 0.0 1.0 0.0 0.0\n",
      "after 0.0 2.0 0.0 0.0\n",
      "Found entity: USA\n",
      "before 0.0 1.0 0.0 0.0\n",
      "after 0.0 2.0 0.0 0.0\n",
      "Found entity: USA\n",
      "before 0.0 1.0 0.0 0.0\n",
      "after 0.0 2.0 0.0 0.0\n",
      "Found entity: USA\n",
      "before 0.0 1.0 0.0 0.0\n",
      "after 0.0 2.0 0.0 0.0\n"
     ]
    },
    {
     "name": "stderr",
     "output_type": "stream",
     "text": [
      "135it [12:27,  5.70s/it]"
     ]
    },
    {
     "name": "stdout",
     "output_type": "stream",
     "text": [
      "Currently at df: 136 | 2022-01-25\n",
      "Found entity: USA\n",
      "before 0.0 0.87 0.13 0.2714\n",
      "after 0.0 1.74 0.13 0.2714\n",
      "Found entity: Japan\n",
      "before 0.0 0.871 0.129 0.4767\n",
      "after 0.0 1.742 0.129 0.4767\n",
      "Found entity: China\n",
      "before 0.0 1.0 0.0 0.0\n",
      "after 0.0 2.0 0.0 0.0\n",
      "Found entity: Tesla\n",
      "before 0.043 0.851 0.106 0.4767\n",
      "after 0.043 1.702 0.106 0.4767\n",
      "Found entity: USA\n",
      "before 0.176 0.747 0.077 -0.6654\n",
      "after 0.176 1.494 0.077 -0.6654\n"
     ]
    },
    {
     "name": "stderr",
     "output_type": "stream",
     "text": [
      "136it [12:32,  5.49s/it]"
     ]
    },
    {
     "name": "stdout",
     "output_type": "stream",
     "text": [
      "Currently at df: 137 | 2020-02-08\n",
      "Found entity: China\n",
      "before 0.0 1.0 0.0 0.0\n",
      "after 0.0 2.0 0.0 0.0\n",
      "Found entity: Tesla\n",
      "before 0.0 0.852 0.148 0.5187\n",
      "after 0.0 1.704 0.148 0.5187\n",
      "Found entity: UK\n",
      "before 0.0 1.0 0.0 0.0\n",
      "after 0.0 2.0 0.0 0.0\n",
      "Found entity: China\n",
      "before 0.0 1.0 0.0 0.0\n",
      "after 0.0 2.0 0.0 0.0\n",
      "Found entity: America\n",
      "before 0.0 0.901 0.099 0.3182\n",
      "after 0.0 1.802 0.099 0.3182\n"
     ]
    },
    {
     "name": "stderr",
     "output_type": "stream",
     "text": [
      "137it [12:37,  5.37s/it]"
     ]
    },
    {
     "name": "stdout",
     "output_type": "stream",
     "text": [
      "Currently at df: 138 | 2018-05-29\n",
      "Found entity: USA\n",
      "before 0.0 1.0 0.0 0.0\n",
      "after 0.0 2.0 0.0 0.0\n",
      "Found entity: USA\n",
      "before 0.0 0.842 0.158 0.6037\n",
      "after 0.0 1.684 0.158 0.6037\n",
      "Found entity: USA\n",
      "before 0.0 1.0 0.0 0.0\n",
      "after 0.0 2.0 0.0 0.0\n",
      "Found entity: USA\n",
      "before 0.0 0.837 0.163 0.5106\n",
      "after 0.0 1.674 0.163 0.5106\n",
      "Found entity: China\n",
      "before 0.055 0.899 0.046 -0.128\n",
      "after 0.055 1.798 0.046 -0.128\n"
     ]
    },
    {
     "name": "stderr",
     "output_type": "stream",
     "text": [
      "138it [12:44,  5.76s/it]"
     ]
    },
    {
     "name": "stdout",
     "output_type": "stream",
     "text": [
      "Currently at df: 139 | 2015-11-18\n",
      "Found user: aantonop\n",
      "\n",
      "Found name: Andreas M. Antonopoulos\n",
      "\n",
      "before 0.0 0.89 0.11 0.2716\n",
      "after 0.0 1.78 0.11 0.2716\n",
      "Found entity: UK\n",
      "before 0.511 0.489 0.0 -0.8885\n",
      "after 1.022 0.489 0.0 -0.8885\n"
     ]
    },
    {
     "name": "stderr",
     "output_type": "stream",
     "text": [
      "139it [12:48,  5.41s/it]"
     ]
    },
    {
     "name": "stdout",
     "output_type": "stream",
     "text": [
      "Currently at df: 140 | 2015-08-13\n"
     ]
    },
    {
     "name": "stderr",
     "output_type": "stream",
     "text": [
      "140it [12:53,  5.20s/it]"
     ]
    },
    {
     "name": "stdout",
     "output_type": "stream",
     "text": [
      "Currently at df: 141 | 2015-06-23\n"
     ]
    },
    {
     "name": "stderr",
     "output_type": "stream",
     "text": [
      "141it [12:57,  4.79s/it]"
     ]
    },
    {
     "name": "stdout",
     "output_type": "stream",
     "text": [
      "Currently at df: 142 | 2020-12-26\n",
      "Found entity: Tesla\n",
      "before 0.041 0.795 0.164 0.5848\n",
      "after 0.041 1.59 0.164 0.5848\n",
      "Found entity: ElonMusk\n",
      "before 0.141 0.859 0.0 -0.5574\n",
      "after 0.141 1.718 0.0 -0.5574\n",
      "Found entity: China\n",
      "before 0.0 0.794 0.206 0.6662\n",
      "after 0.0 1.588 0.206 0.6662\n",
      "Found entity: China\n",
      "before 0.217 0.676 0.106 -0.3182\n",
      "after 0.217 1.352 0.106 -0.3182\n"
     ]
    },
    {
     "name": "stderr",
     "output_type": "stream",
     "text": [
      "142it [13:02,  4.85s/it]"
     ]
    },
    {
     "name": "stdout",
     "output_type": "stream",
     "text": [
      "Currently at df: 143 | 2022-08-18\n",
      "Found entity: Tesla\n",
      "before 0.091 0.909 0.0 -0.3182\n",
      "after 0.091 1.818 0.0 -0.3182\n",
      "Found entity: America\n",
      "before 0.0 0.705 0.295 0.8481\n",
      "after 0.0 1.41 0.295 0.8481\n",
      "Found entity: America\n",
      "before 0.0 0.801 0.199 0.8481\n",
      "after 0.0 1.602 0.199 0.8481\n",
      "Found entity: America\n",
      "before 0.0 0.805 0.195 0.8481\n",
      "after 0.0 1.61 0.195 0.8481\n",
      "Found entity: China\n",
      "before 0.0 1.0 0.0 0.0\n",
      "after 0.0 2.0 0.0 0.0\n",
      "Found entity: ElonMusk\n",
      "before 0.221 0.779 0.0 -0.796\n",
      "after 0.221 1.558 0.0 -0.796\n",
      "Found entity: ElonMusk\n",
      "before 0.146 0.854 0.0 -0.5859\n",
      "after 0.146 1.708 0.0 -0.5859\n"
     ]
    },
    {
     "name": "stderr",
     "output_type": "stream",
     "text": [
      "143it [13:07,  5.09s/it]"
     ]
    },
    {
     "name": "stdout",
     "output_type": "stream",
     "text": [
      "Currently at df: 144 | 2017-08-09\n",
      "Found entity: USA\n",
      "before 0.0 1.0 0.0 0.0\n",
      "after 0.0 2.0 0.0 0.0\n",
      "Found entity: USA\n",
      "before 0.0 1.0 0.0 0.0\n",
      "after 0.0 2.0 0.0 0.0\n"
     ]
    },
    {
     "name": "stderr",
     "output_type": "stream",
     "text": [
      "144it [13:13,  5.33s/it]"
     ]
    },
    {
     "name": "stdout",
     "output_type": "stream",
     "text": [
      "Currently at df: 145 | 2016-03-17\n",
      "Found entity: UK\n",
      "before 0.0 1.0 0.0 0.0\n",
      "after 0.0 2.0 0.0 0.0\n"
     ]
    },
    {
     "name": "stderr",
     "output_type": "stream",
     "text": [
      "145it [13:19,  5.37s/it]"
     ]
    },
    {
     "name": "stdout",
     "output_type": "stream",
     "text": [
      "Currently at df: 146 | 2014-11-10\n",
      "Found user: aantonop\n",
      "\n",
      "Found name: Andreas M. Antonopoulos\n",
      "\n",
      "before 0.0 0.84 0.16 0.6588\n",
      "after 0.0 1.68 0.16 0.6588\n"
     ]
    },
    {
     "name": "stderr",
     "output_type": "stream",
     "text": [
      "146it [13:25,  5.61s/it]"
     ]
    },
    {
     "name": "stdout",
     "output_type": "stream",
     "text": [
      "Currently at df: 147 | 2015-08-16\n"
     ]
    },
    {
     "name": "stderr",
     "output_type": "stream",
     "text": [
      "147it [13:29,  5.13s/it]"
     ]
    },
    {
     "name": "stdout",
     "output_type": "stream",
     "text": [
      "Currently at df: 148 | 2022-07-31\n",
      "Found entity: ElonMusk\n",
      "before 0.075 0.925 0.0 -0.2755\n",
      "after 0.075 1.85 0.0 -0.2755\n",
      "Found entity: ElonMusk\n",
      "before 0.069 0.836 0.096 0.2263\n",
      "after 0.069 1.672 0.096 0.2263\n",
      "Found entity: ElonMusk\n",
      "before 0.0 1.0 0.0 0.0\n",
      "after 0.0 2.0 0.0 0.0\n",
      "Found entity: ElonMusk\n",
      "before 0.0 0.857 0.143 0.6124\n",
      "after 0.0 1.714 0.143 0.6124\n",
      "Found entity: Tesla\n",
      "before 0.0 0.913 0.087 0.431\n",
      "after 0.0 1.826 0.087 0.431\n"
     ]
    },
    {
     "name": "stderr",
     "output_type": "stream",
     "text": [
      "148it [13:35,  5.35s/it]"
     ]
    },
    {
     "name": "stdout",
     "output_type": "stream",
     "text": [
      "Currently at df: 149 | 2021-11-30\n",
      "Found entity: USA\n",
      "before 0.1 0.812 0.087 -0.1027\n",
      "after 0.1 1.624 0.087 -0.1027\n",
      "Found entity: MicroStrategy\n",
      "before 0.109 0.891 0.0 -0.6016\n",
      "after 0.109 1.782 0.0 -0.6016\n",
      "Found entity: China\n",
      "before 0.227 0.678 0.095 -0.7684\n",
      "after 0.227 1.356 0.095 -0.7684\n",
      "Found entity: Tesla\n",
      "before 0.043 0.851 0.106 0.4767\n",
      "after 0.043 1.702 0.106 0.4767\n"
     ]
    },
    {
     "name": "stderr",
     "output_type": "stream",
     "text": [
      "149it [13:40,  5.31s/it]"
     ]
    },
    {
     "name": "stdout",
     "output_type": "stream",
     "text": [
      "Currently at df: 150 | 2019-09-04\n",
      "Found entity: China\n",
      "before 0.0 1.0 0.0 0.0\n",
      "after 0.0 2.0 0.0 0.0\n",
      "Found entity: China\n",
      "before 0.0 1.0 0.0 0.0\n",
      "after 0.0 2.0 0.0 0.0\n",
      "Found entity: China\n",
      "before 0.094 0.906 0.0 -0.3818\n",
      "after 0.094 1.812 0.0 -0.3818\n",
      "Found entity: China\n",
      "before 0.0 1.0 0.0 0.0\n",
      "after 0.0 2.0 0.0 0.0\n",
      "Found entity: China\n",
      "before 0.0 1.0 0.0 0.0\n",
      "after 0.0 2.0 0.0 0.0\n",
      "Found entity: france\n",
      "before 0.0 1.0 0.0 0.0\n",
      "after 0.0 2.0 0.0 0.0\n"
     ]
    },
    {
     "name": "stderr",
     "output_type": "stream",
     "text": [
      "150it [13:47,  5.75s/it]"
     ]
    },
    {
     "name": "stdout",
     "output_type": "stream",
     "text": [
      "Currently at df: 151 | 2016-02-16\n"
     ]
    },
    {
     "name": "stderr",
     "output_type": "stream",
     "text": [
      "151it [13:53,  5.85s/it]"
     ]
    },
    {
     "name": "stdout",
     "output_type": "stream",
     "text": [
      "Currently at df: 152 | 2016-04-07\n",
      "Found entity: China\n",
      "before 0.0 0.777 0.223 0.6808\n",
      "after 0.0 1.554 0.223 0.6808\n"
     ]
    },
    {
     "name": "stderr",
     "output_type": "stream",
     "text": [
      "152it [13:59,  5.88s/it]"
     ]
    },
    {
     "name": "stdout",
     "output_type": "stream",
     "text": [
      "Currently at df: 153 | 2017-12-12\n",
      "Found entity: USA\n",
      "before 0.0 1.0 0.0 0.0\n",
      "after 0.0 2.0 0.0 0.0\n",
      "Found entity: USA\n",
      "before 0.0 1.0 0.0 0.0\n",
      "after 0.0 2.0 0.0 0.0\n",
      "Found entity: USA\n",
      "before 0.0 1.0 0.0 0.0\n",
      "after 0.0 2.0 0.0 0.0\n"
     ]
    },
    {
     "name": "stderr",
     "output_type": "stream",
     "text": [
      "153it [14:05,  6.09s/it]"
     ]
    },
    {
     "name": "stdout",
     "output_type": "stream",
     "text": [
      "Currently at df: 154 | 2020-01-04\n",
      "Found entity: USA\n",
      "before 0.0 0.714 0.286 0.9081\n",
      "after 0.0 1.428 0.286 0.9081\n",
      "Found entity: China\n",
      "before 0.108 0.661 0.231 0.5678\n",
      "after 0.108 1.322 0.231 0.5678\n",
      "Found entity: usa\n",
      "before 0.0 1.0 0.0 0.0\n",
      "after 0.0 2.0 0.0 0.0\n",
      "Found entity: America\n",
      "before 0.202 0.798 0.0 -0.6199\n",
      "after 0.202 1.596 0.0 -0.6199\n"
     ]
    },
    {
     "name": "stderr",
     "output_type": "stream",
     "text": [
      "154it [14:10,  5.76s/it]"
     ]
    },
    {
     "name": "stdout",
     "output_type": "stream",
     "text": [
      "Currently at df: 155 | 2019-05-04\n",
      "Found entity: Japan\n",
      "before 0.0 1.0 0.0 0.0\n",
      "after 0.0 2.0 0.0 0.0\n",
      "Found entity: UK\n",
      "before 0.0 0.874 0.126 0.7096\n",
      "after 0.0 1.748 0.126 0.7096\n"
     ]
    },
    {
     "name": "stderr",
     "output_type": "stream",
     "text": [
      "155it [14:18,  6.25s/it]"
     ]
    },
    {
     "name": "stdout",
     "output_type": "stream",
     "text": [
      "Currently at df: 156 | 2016-09-06\n"
     ]
    },
    {
     "name": "stderr",
     "output_type": "stream",
     "text": [
      "156it [14:22,  5.60s/it]"
     ]
    },
    {
     "name": "stdout",
     "output_type": "stream",
     "text": [
      "Currently at df: 157 | 2020-07-11\n",
      "Found entity: France\n",
      "before 0.0 0.847 0.153 0.743\n",
      "after 0.0 1.694 0.153 0.743\n",
      "Found entity: Tesla\n",
      "before 0.081 0.727 0.192 0.5859\n",
      "after 0.081 1.454 0.192 0.5859\n",
      "Found entity: France\n",
      "before 0.0 0.659 0.341 0.9524\n",
      "after 0.0 1.318 0.341 0.9524\n",
      "Found entity: USA\n",
      "before 0.0 1.0 0.0 0.0\n",
      "after 0.0 2.0 0.0 0.0\n",
      "Found entity: Japan\n",
      "before 0.0 0.753 0.247 0.7845\n",
      "after 0.0 1.506 0.247 0.7845\n"
     ]
    },
    {
     "name": "stderr",
     "output_type": "stream",
     "text": [
      "157it [14:27,  5.43s/it]"
     ]
    },
    {
     "name": "stdout",
     "output_type": "stream",
     "text": [
      "Currently at df: 158 | 2018-02-14\n",
      "Found entity: USA\n",
      "before 0.0 1.0 0.0 0.0\n",
      "after 0.0 2.0 0.0 0.0\n",
      "Found entity: USA\n",
      "before 0.0 1.0 0.0 0.0\n",
      "after 0.0 2.0 0.0 0.0\n",
      "Found entity: USA\n",
      "before 0.0 1.0 0.0 0.0\n",
      "after 0.0 2.0 0.0 0.0\n",
      "Found entity: USA\n",
      "before 0.0 1.0 0.0 0.0\n",
      "after 0.0 2.0 0.0 0.0\n",
      "Found entity: USA\n",
      "before 0.0 1.0 0.0 0.0\n",
      "after 0.0 2.0 0.0 0.0\n"
     ]
    },
    {
     "name": "stderr",
     "output_type": "stream",
     "text": [
      "158it [14:34,  6.00s/it]"
     ]
    },
    {
     "name": "stdout",
     "output_type": "stream",
     "text": [
      "Found entity: Japan\n",
      "before 0.096 0.85 0.054 -0.2263\n",
      "after 0.096 1.7 0.054 -0.2263\n",
      "Currently at df: 159 | 2019-08-20\n",
      "Found entity: Vitalik Buterin\n",
      "before 0.0 0.805 0.195 0.4404\n",
      "after 0.0 1.61 0.195 0.4404\n",
      "Found entity: United Kingdom\n",
      "before 0.057 0.79 0.153 0.5423\n",
      "after 0.057 1.58 0.153 0.5423\n",
      "Found entity: United Kingdom\n",
      "before 0.0 0.828 0.172 0.6808\n",
      "after 0.0 1.656 0.172 0.6808\n",
      "Found entity: United Kingdom\n",
      "before 0.0 0.828 0.172 0.6808\n",
      "after 0.0 1.656 0.172 0.6808\n",
      "Found entity: United Kingdom\n",
      "before 0.0 0.828 0.172 0.6808\n",
      "after 0.0 1.656 0.172 0.6808\n",
      "Found entity: USA\n",
      "before 0.0 0.875 0.125 0.4588\n",
      "after 0.0 1.75 0.125 0.4588\n",
      "Found entity: Vitalik Buterin\n",
      "before 0.0 0.838 0.162 0.4404\n",
      "after 0.0 1.676 0.162 0.4404\n",
      "Found entity: China\n",
      "before 0.0 1.0 0.0 0.0\n",
      "after 0.0 2.0 0.0 0.0\n"
     ]
    },
    {
     "name": "stderr",
     "output_type": "stream",
     "text": [
      "159it [14:41,  6.22s/it]"
     ]
    },
    {
     "name": "stdout",
     "output_type": "stream",
     "text": [
      "Currently at df: 160 | 2016-01-14\n"
     ]
    },
    {
     "name": "stderr",
     "output_type": "stream",
     "text": [
      "160it [14:47,  6.14s/it]"
     ]
    },
    {
     "name": "stdout",
     "output_type": "stream",
     "text": [
      "Currently at df: 161 | 2016-09-10\n"
     ]
    },
    {
     "name": "stderr",
     "output_type": "stream",
     "text": [
      "161it [14:50,  5.08s/it]"
     ]
    },
    {
     "name": "stdout",
     "output_type": "stream",
     "text": [
      "Currently at df: 162 | 2020-12-19\n",
      "Found entity: China\n",
      "before 0.0 1.0 0.0 0.0\n",
      "after 0.0 2.0 0.0 0.0\n",
      "Found entity: UK\n",
      "before 0.269 0.689 0.043 -0.9038\n",
      "after 0.269 1.378 0.043 -0.9038\n",
      "Found entity: China\n",
      "before 0.197 0.803 0.0 -0.8433\n",
      "after 0.197 1.606 0.0 -0.8433\n",
      "Found entity: Tesla\n",
      "before 0.0 1.0 0.0 0.0\n",
      "after 0.0 2.0 0.0 0.0\n"
     ]
    },
    {
     "name": "stderr",
     "output_type": "stream",
     "text": [
      "162it [14:55,  5.30s/it]"
     ]
    },
    {
     "name": "stdout",
     "output_type": "stream",
     "text": [
      "Found entity: Tesla\n",
      "before 0.0 1.0 0.0 0.0\n",
      "after 0.0 2.0 0.0 0.0\n",
      "Currently at df: 163 | 2014-08-30\n"
     ]
    },
    {
     "name": "stderr",
     "output_type": "stream",
     "text": [
      "163it [15:01,  5.53s/it]"
     ]
    },
    {
     "name": "stdout",
     "output_type": "stream",
     "text": [
      "Currently at df: 164 | 2017-04-19\n",
      "Found entity: UK\n",
      "before 0.0 1.0 0.0 0.0\n",
      "after 0.0 2.0 0.0 0.0\n"
     ]
    },
    {
     "name": "stderr",
     "output_type": "stream",
     "text": [
      "164it [15:05,  4.83s/it]"
     ]
    },
    {
     "name": "stdout",
     "output_type": "stream",
     "text": [
      "Currently at df: 165 | 2019-09-19\n",
      "Found entity: China\n",
      "before 0.272 0.728 0.0 -0.8807\n",
      "after 0.272 1.456 0.0 -0.8807\n",
      "Found entity: Central Bank\n",
      "before 0.0 0.881 0.119 0.3182\n",
      "after 0.0 1.762 0.119 0.3182\n",
      "Found entity: Central Bank\n",
      "before 0.0 0.881 0.119 0.3182\n",
      "after 0.0 1.762 0.119 0.3182\n",
      "Found entity: Central Bank\n",
      "before 0.0 0.899 0.101 0.5267\n",
      "after 0.0 1.798 0.101 0.5267\n",
      "Found entity: USA\n",
      "before 0.0 1.0 0.0 0.0\n",
      "after 0.0 2.0 0.0 0.0\n",
      "Found entity: UK\n",
      "before 0.0 0.881 0.119 0.2263\n",
      "after 0.0 1.762 0.119 0.2263\n"
     ]
    },
    {
     "name": "stderr",
     "output_type": "stream",
     "text": [
      "165it [15:11,  5.30s/it]"
     ]
    },
    {
     "name": "stdout",
     "output_type": "stream",
     "text": [
      "Currently at df: 166 | 2019-04-13\n",
      "Found entity: Tesla\n",
      "before 0.0 0.917 0.083 0.5719\n",
      "after 0.0 1.834 0.083 0.5719\n"
     ]
    },
    {
     "name": "stderr",
     "output_type": "stream",
     "text": [
      "166it [15:18,  5.91s/it]"
     ]
    },
    {
     "name": "stdout",
     "output_type": "stream",
     "text": [
      "Found entity: China\n",
      "before 0.153 0.847 0.0 -0.5574\n",
      "after 0.153 1.694 0.0 -0.5574\n",
      "Currently at df: 167 | 2022-02-27\n",
      "Found entity: USA\n",
      "before 0.033 0.733 0.233 0.8605\n",
      "after 0.033 1.466 0.233 0.8605\n",
      "Found entity: USA\n",
      "before 0.0 0.711 0.289 0.7263\n",
      "after 0.0 1.422 0.289 0.7263\n",
      "Found entity: Tesla\n",
      "before 0.043 0.851 0.106 0.4767\n",
      "after 0.043 1.702 0.106 0.4767\n",
      "Found entity: China\n",
      "before 0.0 1.0 0.0 0.0\n",
      "after 0.0 2.0 0.0 0.0\n"
     ]
    },
    {
     "name": "stderr",
     "output_type": "stream",
     "text": [
      "167it [15:23,  5.59s/it]"
     ]
    },
    {
     "name": "stdout",
     "output_type": "stream",
     "text": [
      "Currently at df: 168 | 2021-03-04\n",
      "Found entity: ElonMusk\n",
      "before 0.0 1.0 0.0 0.0\n",
      "after 0.0 2.0 0.0 0.0\n",
      "Found entity: FRANCE\n",
      "before 0.0 1.0 0.0 0.0\n",
      "after 0.0 2.0 0.0 0.0\n",
      "Found entity: Tesla\n",
      "before 0.0 0.706 0.294 0.3612\n",
      "after 0.0 1.412 0.294 0.3612\n",
      "Found entity: Tesla\n",
      "before 0.048 0.83 0.121 0.4767\n",
      "after 0.048 1.66 0.121 0.4767\n",
      "Found entity: Tesla\n",
      "before 0.0 0.722 0.278 0.4019\n",
      "after 0.0 1.444 0.278 0.4019\n"
     ]
    },
    {
     "name": "stderr",
     "output_type": "stream",
     "text": [
      "168it [15:29,  5.61s/it]"
     ]
    },
    {
     "name": "stdout",
     "output_type": "stream",
     "text": [
      "Found entity: China\n",
      "before 0.0 1.0 0.0 0.0\n",
      "after 0.0 2.0 0.0 0.0\n",
      "Currently at df: 169 | 2021-10-30\n",
      "Found entity: Tesla\n",
      "before 0.0 1.0 0.0 0.0\n",
      "after 0.0 2.0 0.0 0.0\n",
      "Found entity: China\n",
      "before 0.154 0.769 0.077 -0.4215\n",
      "after 0.154 1.538 0.077 -0.4215\n",
      "Found entity: Tesla\n",
      "before 0.0 1.0 0.0 0.0\n",
      "after 0.0 2.0 0.0 0.0\n",
      "Found entity: Tesla\n",
      "before 0.043 0.851 0.106 0.4767\n",
      "after 0.043 1.702 0.106 0.4767\n",
      "Found entity: ElonMusk\n",
      "before 0.0 1.0 0.0 0.0\n",
      "after 0.0 2.0 0.0 0.0\n",
      "Found entity: MicroStrategy\n",
      "before 0.0 0.881 0.119 0.4215\n",
      "after 0.0 1.762 0.119 0.4215\n"
     ]
    },
    {
     "name": "stderr",
     "output_type": "stream",
     "text": [
      "169it [15:34,  5.53s/it]"
     ]
    },
    {
     "name": "stdout",
     "output_type": "stream",
     "text": [
      "Currently at df: 170 | 2015-04-26\n"
     ]
    },
    {
     "name": "stderr",
     "output_type": "stream",
     "text": [
      "170it [15:40,  5.68s/it]"
     ]
    },
    {
     "name": "stdout",
     "output_type": "stream",
     "text": [
      "Currently at df: 171 | 2014-09-19\n"
     ]
    },
    {
     "name": "stderr",
     "output_type": "stream",
     "text": [
      "171it [15:46,  5.77s/it]"
     ]
    },
    {
     "name": "stdout",
     "output_type": "stream",
     "text": [
      "Currently at df: 172 | 2020-07-30\n",
      "Found entity: China\n",
      "before 0.0 0.812 0.188 0.5267\n",
      "after 0.0 1.624 0.188 0.5267\n",
      "Found entity: UK\n",
      "before 0.0 1.0 0.0 0.0\n",
      "after 0.0 2.0 0.0 0.0\n"
     ]
    },
    {
     "name": "stderr",
     "output_type": "stream",
     "text": [
      "172it [15:51,  5.54s/it]"
     ]
    },
    {
     "name": "stdout",
     "output_type": "stream",
     "text": [
      "Currently at df: 173 | 2016-07-31\n",
      "Found entity: China\n",
      "before 0.0 1.0 0.0 0.0\n",
      "after 0.0 2.0 0.0 0.0\n"
     ]
    },
    {
     "name": "stderr",
     "output_type": "stream",
     "text": [
      "173it [15:54,  4.73s/it]"
     ]
    },
    {
     "name": "stdout",
     "output_type": "stream",
     "text": [
      "Currently at df: 174 | 2018-07-17\n",
      "Found entity: USA\n",
      "before 0.0 1.0 0.0 0.0\n",
      "after 0.0 2.0 0.0 0.0\n",
      "Found entity: USA\n",
      "before 0.0 1.0 0.0 0.0\n",
      "after 0.0 2.0 0.0 0.0\n"
     ]
    },
    {
     "name": "stderr",
     "output_type": "stream",
     "text": [
      "174it [16:01,  5.44s/it]"
     ]
    },
    {
     "name": "stdout",
     "output_type": "stream",
     "text": [
      "Currently at df: 175 | 2020-10-20\n",
      "Found entity: America\n",
      "before 0.0 0.78 0.22 0.5859\n",
      "after 0.0 1.56 0.22 0.5859\n",
      "Found entity: china\n",
      "before 0.0 0.921 0.079 0.5859\n",
      "after 0.0 1.842 0.079 0.5859\n"
     ]
    },
    {
     "name": "stderr",
     "output_type": "stream",
     "text": [
      "175it [16:06,  5.43s/it]"
     ]
    },
    {
     "name": "stdout",
     "output_type": "stream",
     "text": [
      "Currently at df: 176 | 2018-03-31\n",
      "Found entity: USA\n",
      "before 0.0 1.0 0.0 0.0\n",
      "after 0.0 2.0 0.0 0.0\n",
      "Found entity: USA\n",
      "before 0.0 1.0 0.0 0.0\n",
      "after 0.0 2.0 0.0 0.0\n",
      "Found entity: USA\n",
      "before 0.0 1.0 0.0 0.0\n",
      "after 0.0 2.0 0.0 0.0\n",
      "Found entity: USA\n",
      "before 0.0 1.0 0.0 0.0\n",
      "after 0.0 2.0 0.0 0.0\n"
     ]
    },
    {
     "name": "stderr",
     "output_type": "stream",
     "text": [
      "176it [16:14,  5.95s/it]"
     ]
    },
    {
     "name": "stdout",
     "output_type": "stream",
     "text": [
      "Currently at df: 177 | 2015-12-14\n"
     ]
    },
    {
     "name": "stderr",
     "output_type": "stream",
     "text": [
      "177it [16:20,  6.03s/it]"
     ]
    },
    {
     "name": "stdout",
     "output_type": "stream",
     "text": [
      "Currently at df: 178 | 2015-10-10\n"
     ]
    },
    {
     "name": "stderr",
     "output_type": "stream",
     "text": [
      "178it [16:22,  4.86s/it]"
     ]
    },
    {
     "name": "stdout",
     "output_type": "stream",
     "text": [
      "Currently at df: 179 | 2018-11-13\n",
      "Found user: WhalePanda\n",
      "\n",
      "Found name: WhalePanda\n",
      "\n",
      "before 0.0 0.946 0.054 0.25\n",
      "after 0.0 1.892 0.054 0.25\n",
      "Found entity: USA\n",
      "before 0.0 1.0 0.0 0.0\n",
      "after 0.0 2.0 0.0 0.0\n"
     ]
    },
    {
     "name": "stderr",
     "output_type": "stream",
     "text": [
      "179it [16:29,  5.55s/it]"
     ]
    },
    {
     "name": "stdout",
     "output_type": "stream",
     "text": [
      "Currently at df: 180 | 2022-06-13\n",
      "Found entity: Microstrategy\n",
      "before 0.23 0.661 0.11 -0.836\n",
      "after 0.23 1.322 0.11 -0.836\n",
      "Found entity: MicroStrategy\n",
      "before 0.231 0.769 0.0 -0.4019\n",
      "after 0.231 1.538 0.0 -0.4019\n",
      "Found entity: MicroStrategy\n",
      "before 0.0 1.0 0.0 0.0\n",
      "after 0.0 2.0 0.0 0.0\n",
      "Found entity: Japan\n",
      "before 0.0 1.0 0.0 0.0\n",
      "after 0.0 2.0 0.0 0.0\n",
      "Found entity: Tesla\n",
      "before 0.166 0.775 0.059 -0.6767\n",
      "after 0.166 1.55 0.059 -0.6767\n"
     ]
    },
    {
     "name": "stderr",
     "output_type": "stream",
     "text": [
      "180it [16:34,  5.45s/it]"
     ]
    },
    {
     "name": "stdout",
     "output_type": "stream",
     "text": [
      "Currently at df: 181 | 2020-04-10\n",
      "Found entity: China\n",
      "before 0.105 0.691 0.205 0.4404\n",
      "after 0.105 1.382 0.205 0.4404\n",
      "Found entity: China\n",
      "before 0.0 0.833 0.167 0.3818\n",
      "after 0.0 1.666 0.167 0.3818\n",
      "Found entity: China\n",
      "before 0.0 0.87 0.13 0.5859\n",
      "after 0.0 1.74 0.13 0.5859\n",
      "Found entity: France\n",
      "before 0.0 1.0 0.0 0.0\n",
      "after 0.0 2.0 0.0 0.0\n",
      "Found entity: UK\n",
      "before 0.0 0.747 0.253 0.8316\n",
      "after 0.0 1.494 0.253 0.8316\n",
      "Found entity: America\n",
      "before 0.148 0.718 0.134 -0.0772\n",
      "after 0.148 1.436 0.134 -0.0772\n"
     ]
    },
    {
     "name": "stderr",
     "output_type": "stream",
     "text": [
      "181it [16:40,  5.35s/it]"
     ]
    },
    {
     "name": "stdout",
     "output_type": "stream",
     "text": [
      "Currently at df: 182 | 2020-06-20\n",
      "Found entity: UK\n",
      "before 0.046 0.707 0.247 0.8658\n",
      "after 0.046 1.414 0.247 0.8658\n",
      "Found entity: China\n",
      "before 0.113 0.83 0.057 -0.3374\n",
      "after 0.113 1.66 0.057 -0.3374\n"
     ]
    },
    {
     "name": "stderr",
     "output_type": "stream",
     "text": [
      "182it [16:45,  5.26s/it]"
     ]
    },
    {
     "name": "stdout",
     "output_type": "stream",
     "text": [
      "Currently at df: 183 | 2021-04-24\n",
      "Found entity: ElonMusk\n",
      "before 0.07 0.93 0.0 -0.34\n",
      "after 0.07 1.86 0.0 -0.34\n",
      "Found entity: UK\n",
      "before 0.0 0.891 0.109 0.6808\n",
      "after 0.0 1.782 0.109 0.6808\n",
      "Found entity: Tesla\n",
      "before 0.045 0.841 0.113 0.4767\n",
      "after 0.045 1.682 0.113 0.4767\n",
      "Found entity: Tesla\n",
      "before 0.045 0.841 0.113 0.4767\n",
      "after 0.045 1.682 0.113 0.4767\n"
     ]
    },
    {
     "name": "stderr",
     "output_type": "stream",
     "text": [
      "183it [16:52,  5.78s/it]"
     ]
    },
    {
     "name": "stdout",
     "output_type": "stream",
     "text": [
      "Found entity: Tesla\n",
      "before 0.117 0.883 0.0 -0.5037\n",
      "after 0.117 1.766 0.0 -0.5037\n",
      "Currently at df: 184 | 2015-01-04\n"
     ]
    },
    {
     "name": "stderr",
     "output_type": "stream",
     "text": [
      "184it [16:57,  5.80s/it]"
     ]
    },
    {
     "name": "stdout",
     "output_type": "stream",
     "text": [
      "Currently at df: 185 | 2019-10-10\n",
      "Found entity: france\n",
      "before 0.0 1.0 0.0 0.0\n",
      "after 0.0 2.0 0.0 0.0\n",
      "Found entity: China\n",
      "before 0.286 0.714 0.0 -0.5574\n",
      "after 0.286 1.428 0.0 -0.5574\n",
      "Found entity: United Kingdom\n",
      "before 0.0 0.917 0.083 0.4215\n",
      "after 0.0 1.834 0.083 0.4215\n",
      "Found entity: UK\n",
      "before 0.0 0.798 0.202 0.8221\n",
      "after 0.0 1.596 0.202 0.8221\n",
      "Found entity: UK\n",
      "before 0.0 1.0 0.0 0.0\n",
      "after 0.0 2.0 0.0 0.0\n",
      "Found entity: USA\n",
      "before 0.0 1.0 0.0 0.0\n",
      "after 0.0 2.0 0.0 0.0\n",
      "Found entity: usa\n",
      "before 0.0 0.665 0.335 0.9395\n",
      "after 0.0 1.33 0.335 0.9395\n"
     ]
    },
    {
     "name": "stderr",
     "output_type": "stream",
     "text": [
      "185it [17:04,  5.98s/it]"
     ]
    },
    {
     "name": "stdout",
     "output_type": "stream",
     "text": [
      "Currently at df: 186 | 2019-09-26\n",
      "Found entity: Andreas Antonopoulos\n",
      "before 0.189 0.811 0.0 -0.5423\n",
      "after 0.189 1.622 0.0 -0.5423\n",
      "Found entity: UK\n",
      "before 0.0 0.917 0.083 0.2023\n",
      "after 0.0 1.834 0.083 0.2023\n",
      "Found entity: France\n",
      "before 0.0 0.854 0.146 0.6289\n",
      "after 0.0 1.708 0.146 0.6289\n"
     ]
    },
    {
     "name": "stderr",
     "output_type": "stream",
     "text": [
      "186it [17:10,  5.99s/it]"
     ]
    },
    {
     "name": "stdout",
     "output_type": "stream",
     "text": [
      "Currently at df: 187 | 2015-02-09\n"
     ]
    },
    {
     "name": "stderr",
     "output_type": "stream",
     "text": [
      "187it [17:16,  5.93s/it]"
     ]
    },
    {
     "name": "stdout",
     "output_type": "stream",
     "text": [
      "Currently at df: 188 | 2020-01-21\n",
      "Found entity: China\n",
      "before 0.0 1.0 0.0 0.0\n",
      "after 0.0 2.0 0.0 0.0\n",
      "Found entity: China\n",
      "before 0.108 0.892 0.0 -0.5423\n",
      "after 0.108 1.784 0.0 -0.5423\n",
      "Found entity: UK\n",
      "before 0.0 0.929 0.071 0.3818\n",
      "after 0.0 1.858 0.071 0.3818\n",
      "Found entity: China\n",
      "before 0.0 0.895 0.105 0.6249\n",
      "after 0.0 1.79 0.105 0.6249\n",
      "Found entity: USA\n",
      "before 0.0 0.745 0.255 0.8622\n",
      "after 0.0 1.49 0.255 0.8622\n",
      "Found entity: UK\n",
      "before 0.0 0.897 0.103 0.4404\n",
      "after 0.0 1.794 0.103 0.4404\n",
      "Found entity: france\n",
      "before 0.0 1.0 0.0 0.0\n",
      "after 0.0 2.0 0.0 0.0\n",
      "Found entity: China\n",
      "before 0.0 1.0 0.0 0.0\n",
      "after 0.0 2.0 0.0 0.0\n",
      "Found entity: China\n",
      "before 0.0 0.949 0.051 0.34\n",
      "after 0.0 1.898 0.051 0.34\n",
      "Found entity: China\n",
      "before 0.027 0.862 0.112 0.652\n",
      "after 0.027 1.724 0.112 0.652\n"
     ]
    },
    {
     "name": "stderr",
     "output_type": "stream",
     "text": [
      "188it [17:20,  5.59s/it]"
     ]
    },
    {
     "name": "stdout",
     "output_type": "stream",
     "text": [
      "Currently at df: 189 | 2016-04-28\n"
     ]
    },
    {
     "name": "stderr",
     "output_type": "stream",
     "text": [
      "189it [17:26,  5.63s/it]"
     ]
    },
    {
     "name": "stdout",
     "output_type": "stream",
     "text": [
      "Currently at df: 190 | 2020-01-08\n",
      "Found entity: China\n",
      "before 0.0 1.0 0.0 0.0\n",
      "after 0.0 2.0 0.0 0.0\n",
      "Found entity: Tesla\n",
      "before 0.0 0.857 0.143 0.4588\n",
      "after 0.0 1.714 0.143 0.4588\n",
      "Found entity: China\n",
      "before 0.0 0.84 0.16 0.6369\n",
      "after 0.0 1.68 0.16 0.6369\n",
      "Found entity: France\n",
      "before 0.0 0.894 0.106 0.6557\n",
      "after 0.0 1.788 0.106 0.6557\n",
      "Found entity: China\n",
      "before 0.0 1.0 0.0 0.0\n",
      "after 0.0 2.0 0.0 0.0\n"
     ]
    },
    {
     "name": "stderr",
     "output_type": "stream",
     "text": [
      "190it [17:31,  5.38s/it]"
     ]
    },
    {
     "name": "stdout",
     "output_type": "stream",
     "text": [
      "Currently at df: 191 | 2015-06-10\n"
     ]
    },
    {
     "name": "stderr",
     "output_type": "stream",
     "text": [
      "191it [17:35,  4.90s/it]"
     ]
    },
    {
     "name": "stdout",
     "output_type": "stream",
     "text": [
      "Currently at df: 192 | 2016-01-09\n"
     ]
    },
    {
     "name": "stderr",
     "output_type": "stream",
     "text": [
      "192it [17:41,  5.19s/it]"
     ]
    },
    {
     "name": "stdout",
     "output_type": "stream",
     "text": [
      "Currently at df: 193 | 2021-06-22\n",
      "Found entity: China\n",
      "before 0.087 0.777 0.137 0.2911\n",
      "after 0.087 1.554 0.137 0.2911\n",
      "Found entity: China\n",
      "before 0.104 0.896 0.0 -0.481\n",
      "after 0.104 1.792 0.0 -0.481\n",
      "Found entity: MicroStrategy\n",
      "before 0.0 0.806 0.194 0.4389\n",
      "after 0.0 1.612 0.194 0.4389\n",
      "Found entity: China\n",
      "before 0.052 0.788 0.16 0.6597\n",
      "after 0.052 1.576 0.16 0.6597\n",
      "Found entity: USA\n",
      "before 0.0 1.0 0.0 0.0\n",
      "after 0.0 2.0 0.0 0.0\n",
      "Found entity: USA\n",
      "before 0.0 0.805 0.195 0.4404\n",
      "after 0.0 1.61 0.195 0.4404\n",
      "Found entity: China\n",
      "before 0.0 1.0 0.0 0.0\n",
      "after 0.0 2.0 0.0 0.0\n",
      "Found entity: China\n",
      "before 0.0 1.0 0.0 0.0\n",
      "after 0.0 2.0 0.0 0.0\n",
      "Found entity: China\n",
      "before 0.0 0.718 0.282 0.7696\n",
      "after 0.0 1.436 0.282 0.7696\n",
      "Found entity: China\n",
      "before 0.129 0.871 0.0 -0.5719\n",
      "after 0.129 1.742 0.0 -0.5719\n",
      "Found entity: MicroStrategy\n",
      "before 0.0 0.909 0.091 0.2263\n",
      "after 0.0 1.818 0.091 0.2263\n",
      "Found entity: China\n",
      "before 0.333 0.667 0.0 -0.4588\n",
      "after 0.333 1.334 0.0 -0.4588\n",
      "Found entity: MicroStrategy\n",
      "before 0.0 1.0 0.0 0.0\n",
      "after 0.0 2.0 0.0 0.0\n",
      "Found entity: MicroStrategy\n",
      "before 0.0 0.943 0.057 0.25\n",
      "after 0.0 1.886 0.057 0.25\n",
      "Found entity: China\n",
      "before 0.204 0.796 0.0 -0.7096\n",
      "after 0.204 1.592 0.0 -0.7096\n",
      "Found entity: China\n",
      "before 0.11 0.714 0.176 0.296\n",
      "after 0.11 1.428 0.176 0.296\n",
      "Found entity: ElonMusk\n",
      "before 0.049 0.886 0.065 0.1701\n",
      "after 0.049 1.772 0.065 0.1701\n",
      "Found entity: UK\n",
      "before 0.0 1.0 0.0 0.0\n",
      "after 0.0 2.0 0.0 0.0\n",
      "Found entity: MicroStrategy\n",
      "before 0.075 0.857 0.068 -0.0922\n",
      "after 0.075 1.714 0.068 -0.0922\n",
      "Found entity: ElonMusk\n",
      "before 0.084 0.916 0.0 -0.2732\n",
      "after 0.084 1.832 0.0 -0.2732\n",
      "Found entity: China\n",
      "before 0.0 0.922 0.078 0.4404\n",
      "after 0.0 1.844 0.078 0.4404\n",
      "Found entity: China\n",
      "before 0.0 0.861 0.139 0.6697\n",
      "after 0.0 1.722 0.139 0.6697\n",
      "Found entity: China\n",
      "before 0.107 0.63 0.263 0.4939\n",
      "after 0.107 1.26 0.263 0.4939\n",
      "Found entity: Microstrategy\n",
      "before 0.125 0.808 0.067 -0.3612\n",
      "after 0.125 1.616 0.067 -0.3612\n",
      "Found entity: Tesla\n",
      "before 0.053 0.87 0.078 0.0772\n",
      "after 0.053 1.74 0.078 0.0772\n",
      "Found entity: China\n",
      "before 0.047 0.907 0.046 -0.0072\n",
      "after 0.047 1.814 0.046 -0.0072\n",
      "Found entity: China\n",
      "before 0.069 0.833 0.098 0.3818\n",
      "after 0.069 1.666 0.098 0.3818\n",
      "Found entity: China\n",
      "before 0.0 0.854 0.146 0.4404\n",
      "after 0.0 1.708 0.146 0.4404\n",
      "Found entity: China\n",
      "before 0.148 0.777 0.075 -0.4215\n",
      "after 0.148 1.554 0.075 -0.4215\n",
      "Found entity: MicroStrategy\n",
      "before 0.0 1.0 0.0 0.0\n",
      "after 0.0 2.0 0.0 0.0\n",
      "Found entity: China\n",
      "before 0.052 0.879 0.069 0.1779\n",
      "after 0.052 1.758 0.069 0.1779\n",
      "Found entity: China\n",
      "before 0.0 0.791 0.209 0.4404\n",
      "after 0.0 1.582 0.209 0.4404\n",
      "Found entity: USA\n",
      "before 0.0 0.703 0.297 0.9242\n",
      "after 0.0 1.406 0.297 0.9242\n",
      "Found entity: China\n",
      "before 0.127 0.73 0.143 -0.2558\n",
      "after 0.127 1.46 0.143 -0.2558\n",
      "Found entity: China\n",
      "before 0.358 0.642 0.0 -0.5994\n",
      "after 0.358 1.284 0.0 -0.5994\n"
     ]
    },
    {
     "name": "stderr",
     "output_type": "stream",
     "text": [
      "193it [17:47,  5.59s/it]"
     ]
    },
    {
     "name": "stdout",
     "output_type": "stream",
     "text": [
      "Found entity: China\n",
      "before 0.0 0.867 0.133 0.3182\n",
      "after 0.0 1.734 0.133 0.3182\n",
      "Currently at df: 194 | 2017-07-08\n"
     ]
    },
    {
     "name": "stderr",
     "output_type": "stream",
     "text": [
      "194it [17:51,  5.18s/it]"
     ]
    },
    {
     "name": "stdout",
     "output_type": "stream",
     "text": [
      "Currently at df: 195 | 2020-12-28\n",
      "Found entity: Central Bank\n",
      "before 0.089 0.785 0.127 0.128\n",
      "after 0.089 1.57 0.127 0.128\n",
      "Found entity: China\n",
      "before 0.036 0.76 0.204 0.8868\n",
      "after 0.036 1.52 0.204 0.8868\n"
     ]
    },
    {
     "name": "stderr",
     "output_type": "stream",
     "text": [
      "195it [17:57,  5.23s/it]"
     ]
    },
    {
     "name": "stdout",
     "output_type": "stream",
     "text": [
      "Currently at df: 196 | 2019-05-14\n",
      "Found entity: China\n",
      "before 0.0 0.812 0.188 0.6249\n",
      "after 0.0 1.624 0.188 0.6249\n",
      "Found entity: China\n",
      "before 0.065 0.816 0.119 0.6058\n",
      "after 0.065 1.632 0.119 0.6058\n",
      "Found entity: China\n",
      "before 0.178 0.682 0.139 -0.3612\n",
      "after 0.178 1.364 0.139 -0.3612\n",
      "Found entity: China\n",
      "before 0.206 0.699 0.095 -0.6949\n",
      "after 0.206 1.398 0.095 -0.6949\n",
      "Found entity: China\n",
      "before 0.178 0.682 0.139 -0.3612\n",
      "after 0.178 1.364 0.139 -0.3612\n"
     ]
    },
    {
     "name": "stderr",
     "output_type": "stream",
     "text": [
      "196it [18:03,  5.51s/it]"
     ]
    },
    {
     "name": "stdout",
     "output_type": "stream",
     "text": [
      "Currently at df: 197 | 2014-05-26\n"
     ]
    },
    {
     "name": "stderr",
     "output_type": "stream",
     "text": [
      "197it [18:09,  5.59s/it]"
     ]
    },
    {
     "name": "stdout",
     "output_type": "stream",
     "text": [
      "Currently at df: 198 | 2022-02-11\n",
      "Found entity: America\n",
      "before 0.0 1.0 0.0 0.0\n",
      "after 0.0 2.0 0.0 0.0\n",
      "Found entity: Tesla\n",
      "before 0.043 0.851 0.106 0.4767\n",
      "after 0.043 1.702 0.106 0.4767\n",
      "Found entity: ElonMusk\n",
      "before 0.211 0.789 0.0 -0.8625\n",
      "after 0.211 1.578 0.0 -0.8625\n"
     ]
    },
    {
     "name": "stderr",
     "output_type": "stream",
     "text": [
      "198it [18:13,  5.33s/it]"
     ]
    },
    {
     "name": "stdout",
     "output_type": "stream",
     "text": [
      "Currently at df: 199 | 2022-03-06\n",
      "Found entity: America\n",
      "before 0.0 0.859 0.141 0.6808\n",
      "after 0.0 1.718 0.141 0.6808\n",
      "Found entity: America\n",
      "before 0.0 0.859 0.141 0.6808\n",
      "after 0.0 1.718 0.141 0.6808\n",
      "Found entity: USA\n",
      "before 0.098 0.902 0.0 -0.34\n",
      "after 0.098 1.804 0.0 -0.34\n",
      "Found entity: ElonMusk\n",
      "before 0.073 0.927 0.0 -0.4003\n",
      "after 0.073 1.854 0.0 -0.4003\n",
      "Found entity: ElonMusk\n",
      "before 0.078 0.922 0.0 -0.4003\n",
      "after 0.078 1.844 0.0 -0.4003\n"
     ]
    },
    {
     "name": "stderr",
     "output_type": "stream",
     "text": [
      "199it [18:20,  5.79s/it]"
     ]
    },
    {
     "name": "stdout",
     "output_type": "stream",
     "text": [
      "Currently at df: 200 | 2019-03-12\n",
      "Found entity: Japan\n",
      "before 0.075 0.607 0.318 0.8997\n",
      "after 0.075 1.214 0.318 0.8997\n",
      "Found entity: france\n",
      "before 0.0 0.821 0.179 0.807\n",
      "after 0.0 1.642 0.179 0.807\n"
     ]
    },
    {
     "name": "stderr",
     "output_type": "stream",
     "text": [
      "200it [18:28,  6.28s/it]"
     ]
    },
    {
     "name": "stdout",
     "output_type": "stream",
     "text": [
      "Currently at df: 201 | 2019-10-12\n",
      "Found entity: USA\n",
      "before 0.0 0.925 0.075 0.3818\n",
      "after 0.0 1.85 0.075 0.3818\n",
      "Found entity: china\n",
      "before 0.0 1.0 0.0 0.0\n",
      "after 0.0 2.0 0.0 0.0\n",
      "Found entity: Vitalik Buterin\n",
      "before 0.0 0.839 0.161 0.4005\n",
      "after 0.0 1.678 0.161 0.4005\n",
      "Found entity: America\n",
      "before 0.167 0.708 0.125 -0.5805\n",
      "after 0.167 1.416 0.125 -0.5805\n",
      "Found entity: China\n",
      "before 0.0 1.0 0.0 0.0\n",
      "after 0.0 2.0 0.0 0.0\n",
      "Found entity: france\n",
      "before 0.0 1.0 0.0 0.0\n",
      "after 0.0 2.0 0.0 0.0\n",
      "Found entity: Vitalik Buterin\n",
      "before 0.0 0.848 0.152 0.4005\n",
      "after 0.0 1.696 0.152 0.4005\n",
      "Found entity: america\n",
      "before 0.068 0.859 0.073 0.0516\n",
      "after 0.068 1.718 0.073 0.0516\n",
      "Found entity: Vitalik Buterin\n",
      "before 0.0 0.848 0.152 0.4005\n",
      "after 0.0 1.696 0.152 0.4005\n",
      "Found entity: USA\n",
      "before 0.0 1.0 0.0 0.0\n",
      "after 0.0 2.0 0.0 0.0\n",
      "Found entity: Vitalik Buterin\n",
      "before 0.0 0.886 0.114 0.4005\n",
      "after 0.0 1.772 0.114 0.4005\n",
      "Found entity: USA\n",
      "before 0.0 1.0 0.0 0.0\n",
      "after 0.0 2.0 0.0 0.0\n",
      "Found entity: USA\n",
      "before 0.0 1.0 0.0 0.0\n",
      "after 0.0 2.0 0.0 0.0\n",
      "Found entity: China\n",
      "before 0.0 0.809 0.191 0.3818\n",
      "after 0.0 1.618 0.191 0.3818\n"
     ]
    },
    {
     "name": "stderr",
     "output_type": "stream",
     "text": [
      "201it [18:34,  6.32s/it]"
     ]
    },
    {
     "name": "stdout",
     "output_type": "stream",
     "text": [
      "Currently at df: 202 | 2018-06-11\n",
      "Found entity: USA\n",
      "before 0.0 1.0 0.0 0.0\n",
      "after 0.0 2.0 0.0 0.0\n",
      "Found entity: USA\n",
      "before 0.0 1.0 0.0 0.0\n",
      "after 0.0 2.0 0.0 0.0\n"
     ]
    },
    {
     "name": "stderr",
     "output_type": "stream",
     "text": [
      "202it [18:41,  6.43s/it]"
     ]
    },
    {
     "name": "stdout",
     "output_type": "stream",
     "text": [
      "Currently at df: 203 | 2018-12-25\n",
      "Found user: VitalikButerin\n",
      "\n",
      "Found name: Vitalik Non-giver of Ether\n",
      "\n",
      "before 0.041 0.862 0.097 0.3895\n",
      "after 0.041 1.724 0.097 0.3895\n",
      "Found entity: Japan\n",
      "before 0.101 0.899 0.0 -0.5719\n",
      "after 0.101 1.798 0.0 -0.5719\n",
      "Found entity: Japan\n",
      "before 0.101 0.899 0.0 -0.5719\n",
      "after 0.101 1.798 0.0 -0.5719\n",
      "Found entity: Japan\n",
      "before 0.101 0.899 0.0 -0.5719\n",
      "after 0.101 1.798 0.0 -0.5719\n",
      "Found user: VitalikButerin\n",
      "\n",
      "Found name: Vitalik Non-giver of Ether\n",
      "\n",
      "before 0.189 0.686 0.125 -0.3291\n",
      "after 0.189 1.372 0.125 -0.3291\n"
     ]
    },
    {
     "name": "stderr",
     "output_type": "stream",
     "text": [
      "203it [18:48,  6.57s/it]"
     ]
    },
    {
     "name": "stdout",
     "output_type": "stream",
     "text": [
      "Currently at df: 204 | 2016-10-04\n"
     ]
    },
    {
     "name": "stderr",
     "output_type": "stream",
     "text": [
      "204it [18:50,  5.39s/it]"
     ]
    },
    {
     "name": "stdout",
     "output_type": "stream",
     "text": [
      "Currently at df: 205 | 2016-08-15\n"
     ]
    },
    {
     "name": "stderr",
     "output_type": "stream",
     "text": [
      "205it [18:52,  4.37s/it]"
     ]
    },
    {
     "name": "stdout",
     "output_type": "stream",
     "text": [
      "Currently at df: 206 | 2021-08-10\n",
      "Found entity: China\n",
      "before 0.275 0.725 0.0 -0.4215\n",
      "after 0.275 1.45 0.0 -0.4215\n",
      "Found entity: China\n",
      "before 0.066 0.859 0.074 0.0516\n",
      "after 0.066 1.718 0.074 0.0516\n",
      "Found entity: ElonMusk\n",
      "before 0.0 1.0 0.0 0.0\n",
      "after 0.0 2.0 0.0 0.0\n",
      "Found entity: America\n",
      "before 0.036 0.964 0.0 -0.1027\n",
      "after 0.036 1.928 0.0 -0.1027\n",
      "Found entity: Tesla\n",
      "before 0.043 0.851 0.106 0.4767\n",
      "after 0.043 1.702 0.106 0.4767\n"
     ]
    },
    {
     "name": "stderr",
     "output_type": "stream",
     "text": [
      "206it [18:58,  4.68s/it]"
     ]
    },
    {
     "name": "stdout",
     "output_type": "stream",
     "text": [
      "Found entity: France\n",
      "before 0.0 0.688 0.312 0.9371\n",
      "after 0.0 1.376 0.312 0.9371\n",
      "Currently at df: 207 | 2014-06-28\n"
     ]
    },
    {
     "name": "stderr",
     "output_type": "stream",
     "text": [
      "207it [19:04,  5.06s/it]"
     ]
    },
    {
     "name": "stdout",
     "output_type": "stream",
     "text": [
      "Currently at df: 208 | 2014-04-28\n"
     ]
    },
    {
     "name": "stderr",
     "output_type": "stream",
     "text": [
      "208it [19:09,  5.27s/it]"
     ]
    },
    {
     "name": "stdout",
     "output_type": "stream",
     "text": [
      "Currently at df: 209 | 2015-09-04\n"
     ]
    },
    {
     "name": "stderr",
     "output_type": "stream",
     "text": [
      "209it [19:11,  4.18s/it]"
     ]
    },
    {
     "name": "stdout",
     "output_type": "stream",
     "text": [
      "Currently at df: 210 | 2016-04-02\n"
     ]
    },
    {
     "name": "stderr",
     "output_type": "stream",
     "text": [
      "210it [19:17,  4.67s/it]"
     ]
    },
    {
     "name": "stdout",
     "output_type": "stream",
     "text": [
      "Currently at df: 211 | 2019-12-25\n",
      "Found entity: uk\n",
      "before 0.0 0.889 0.111 0.5423\n",
      "after 0.0 1.778 0.111 0.5423\n",
      "Found entity: USA\n",
      "before 0.075 0.847 0.078 0.0459\n",
      "after 0.075 1.694 0.078 0.0459\n",
      "Found entity: Facebook\n",
      "before 0.0 0.865 0.135 0.3612\n",
      "after 0.0 1.73 0.135 0.3612\n",
      "Found entity: china\n",
      "before 0.0 1.0 0.0 0.0\n",
      "after 0.0 2.0 0.0 0.0\n",
      "Found entity: uk\n",
      "before 0.0 1.0 0.0 0.0\n",
      "after 0.0 2.0 0.0 0.0\n",
      "Found entity: uk\n",
      "before 0.0 1.0 0.0 0.0\n",
      "after 0.0 2.0 0.0 0.0\n",
      "Found entity: China\n",
      "before 0.0 1.0 0.0 0.0\n",
      "after 0.0 2.0 0.0 0.0\n",
      "Found entity: uk\n",
      "before 0.0 1.0 0.0 0.0\n",
      "after 0.0 2.0 0.0 0.0\n",
      "Found entity: uk\n",
      "before 0.0 1.0 0.0 0.0\n",
      "after 0.0 2.0 0.0 0.0\n",
      "Found entity: france\n",
      "before 0.0 1.0 0.0 0.0\n",
      "after 0.0 2.0 0.0 0.0\n"
     ]
    },
    {
     "name": "stderr",
     "output_type": "stream",
     "text": [
      "211it [19:22,  4.87s/it]"
     ]
    },
    {
     "name": "stdout",
     "output_type": "stream",
     "text": [
      "Currently at df: 212 | 2014-11-01\n"
     ]
    },
    {
     "name": "stderr",
     "output_type": "stream",
     "text": [
      "212it [19:28,  5.23s/it]"
     ]
    },
    {
     "name": "stdout",
     "output_type": "stream",
     "text": [
      "Currently at df: 213 | 2020-12-14\n",
      "Found entity: America\n",
      "before 0.0 1.0 0.0 0.0\n",
      "after 0.0 2.0 0.0 0.0\n",
      "Found entity: USA\n",
      "before 0.292 0.544 0.163 -0.638\n",
      "after 0.292 1.088 0.163 -0.638\n"
     ]
    },
    {
     "name": "stderr",
     "output_type": "stream",
     "text": [
      "213it [19:33,  5.17s/it]"
     ]
    },
    {
     "name": "stdout",
     "output_type": "stream",
     "text": [
      "Currently at df: 214 | 2014-01-22\n"
     ]
    },
    {
     "name": "stderr",
     "output_type": "stream",
     "text": [
      "214it [19:39,  5.40s/it]"
     ]
    },
    {
     "name": "stdout",
     "output_type": "stream",
     "text": [
      "Currently at df: 215 | 2018-02-07\n",
      "Found entity: USA\n",
      "before 0.0 1.0 0.0 0.0\n",
      "after 0.0 2.0 0.0 0.0\n",
      "Found entity: USA\n",
      "before 0.0 1.0 0.0 0.0\n",
      "after 0.0 2.0 0.0 0.0\n",
      "Found entity: USA\n",
      "before 0.0 1.0 0.0 0.0\n",
      "after 0.0 2.0 0.0 0.0\n"
     ]
    },
    {
     "name": "stderr",
     "output_type": "stream",
     "text": [
      "215it [19:46,  5.79s/it]"
     ]
    },
    {
     "name": "stdout",
     "output_type": "stream",
     "text": [
      "Currently at df: 216 | 2015-06-20\n"
     ]
    },
    {
     "name": "stderr",
     "output_type": "stream",
     "text": [
      "216it [19:50,  5.41s/it]"
     ]
    },
    {
     "name": "stdout",
     "output_type": "stream",
     "text": [
      "Currently at df: 217 | 2014-12-06\n",
      "Found entity: Andreas Antonopoulos\n",
      "before 0.0 0.894 0.106 0.0772\n",
      "after 0.0 1.788 0.106 0.0772\n"
     ]
    },
    {
     "name": "stderr",
     "output_type": "stream",
     "text": [
      "217it [19:56,  5.61s/it]"
     ]
    },
    {
     "name": "stdout",
     "output_type": "stream",
     "text": [
      "Currently at df: 218 | 2020-08-04\n",
      "Found entity: UK\n",
      "before 0.05 0.731 0.219 0.8126\n",
      "after 0.05 1.462 0.219 0.8126\n",
      "Found entity: UK\n",
      "before 0.042 0.612 0.346 0.9423\n",
      "after 0.042 1.224 0.346 0.9423\n",
      "Found entity: France\n",
      "before 0.0 0.82 0.18 0.7644\n",
      "after 0.0 1.64 0.18 0.7644\n"
     ]
    },
    {
     "name": "stderr",
     "output_type": "stream",
     "text": [
      "218it [20:02,  5.47s/it]"
     ]
    },
    {
     "name": "stdout",
     "output_type": "stream",
     "text": [
      "Currently at df: 219 | 2022-04-08\n",
      "Found entity: ElonMusk\n",
      "before 0.0 1.0 0.0 0.0\n",
      "after 0.0 2.0 0.0 0.0\n",
      "Found entity: Tesla\n",
      "before 0.153 0.847 0.0 -0.4404\n",
      "after 0.153 1.694 0.0 -0.4404\n",
      "Found entity: ElonMusk\n",
      "before 0.138 0.862 0.0 -0.34\n",
      "after 0.138 1.724 0.0 -0.34\n",
      "Found entity: USA\n",
      "before 0.0 1.0 0.0 0.0\n",
      "after 0.0 2.0 0.0 0.0\n",
      "Found entity: UK\n",
      "before 0.0 0.925 0.075 0.0772\n",
      "after 0.0 1.85 0.075 0.0772\n",
      "Found entity: USA\n",
      "before 0.0 1.0 0.0 0.0\n",
      "after 0.0 2.0 0.0 0.0\n",
      "Found entity: Central Bank\n",
      "before 0.087 0.913 0.0 -0.2023\n",
      "after 0.087 1.826 0.0 -0.2023\n"
     ]
    },
    {
     "name": "stderr",
     "output_type": "stream",
     "text": [
      "219it [20:07,  5.34s/it]"
     ]
    },
    {
     "name": "stdout",
     "output_type": "stream",
     "text": [
      "Currently at df: 220 | 2018-06-04\n",
      "Found entity: China\n",
      "before 0.0 0.952 0.048 0.3695\n",
      "after 0.0 1.904 0.048 0.3695\n",
      "Found entity: Japan\n",
      "before 0.0 1.0 0.0 0.0\n",
      "after 0.0 2.0 0.0 0.0\n",
      "Found entity: China\n",
      "before 0.158 0.748 0.094 -0.5719\n",
      "after 0.158 1.496 0.094 -0.5719\n",
      "Found entity: France\n",
      "before 0.0 0.912 0.088 0.3907\n",
      "after 0.0 1.824 0.088 0.3907\n",
      "Found entity: USA\n",
      "before 0.0 1.0 0.0 0.0\n",
      "after 0.0 2.0 0.0 0.0\n",
      "Found entity: Japan\n",
      "before 0.0 0.784 0.216 0.5106\n",
      "after 0.0 1.568 0.216 0.5106\n",
      "Found entity: Japan\n",
      "before 0.0 0.84 0.16 0.2732\n",
      "after 0.0 1.68 0.16 0.2732\n",
      "Found entity: Japan\n",
      "before 0.0 0.84 0.16 0.2732\n",
      "after 0.0 1.68 0.16 0.2732\n"
     ]
    },
    {
     "name": "stderr",
     "output_type": "stream",
     "text": [
      "220it [20:13,  5.63s/it]"
     ]
    },
    {
     "name": "stdout",
     "output_type": "stream",
     "text": [
      "Found entity: China\n",
      "before 0.0 1.0 0.0 0.0\n",
      "after 0.0 2.0 0.0 0.0\n",
      "Currently at df: 221 | 2022-11-02\n"
     ]
    },
    {
     "name": "stderr",
     "output_type": "stream",
     "text": [
      "221it [20:18,  5.59s/it]"
     ]
    },
    {
     "name": "stdout",
     "output_type": "stream",
     "text": [
      "Currently at df: 222 | 2014-08-22\n"
     ]
    },
    {
     "name": "stderr",
     "output_type": "stream",
     "text": [
      "222it [20:24,  5.71s/it]"
     ]
    },
    {
     "name": "stdout",
     "output_type": "stream",
     "text": [
      "Currently at df: 223 | 2016-11-12\n"
     ]
    },
    {
     "name": "stderr",
     "output_type": "stream",
     "text": [
      "223it [20:27,  4.86s/it]"
     ]
    },
    {
     "name": "stdout",
     "output_type": "stream",
     "text": [
      "Currently at df: 224 | 2021-09-09\n",
      "Found entity: China\n",
      "before 0.0 0.909 0.091 0.5267\n",
      "after 0.0 1.818 0.091 0.5267\n",
      "Found entity: Tesla\n",
      "before 0.043 0.851 0.106 0.4767\n",
      "after 0.043 1.702 0.106 0.4767\n"
     ]
    },
    {
     "name": "stderr",
     "output_type": "stream",
     "text": [
      "224it [20:32,  4.95s/it]"
     ]
    },
    {
     "name": "stdout",
     "output_type": "stream",
     "text": [
      "Currently at df: 225 | 2017-07-19\n",
      "Found entity: USA\n",
      "before 0.0 1.0 0.0 0.0\n",
      "after 0.0 2.0 0.0 0.0\n",
      "Found entity: USA\n",
      "before 0.0 1.0 0.0 0.0\n",
      "after 0.0 2.0 0.0 0.0\n"
     ]
    },
    {
     "name": "stderr",
     "output_type": "stream",
     "text": [
      "225it [20:36,  4.64s/it]"
     ]
    },
    {
     "name": "stdout",
     "output_type": "stream",
     "text": [
      "Currently at df: 226 | 2021-08-23\n",
      "Found entity: China\n",
      "before 0.058 0.942 0.0 -0.4003\n",
      "after 0.058 1.884 0.0 -0.4003\n",
      "Found entity: UK\n",
      "before 0.036 0.918 0.046 0.1027\n",
      "after 0.036 1.836 0.046 0.1027\n",
      "Found entity: ElonMusk\n",
      "before 0.073 0.927 0.0 -0.25\n",
      "after 0.073 1.854 0.0 -0.25\n",
      "Found entity: ElonMusk\n",
      "before 0.0 0.938 0.062 0.3612\n",
      "after 0.0 1.876 0.062 0.3612\n",
      "Found entity: ElonMusk\n",
      "before 0.305 0.59 0.105 -0.9108\n",
      "after 0.305 1.18 0.105 -0.9108\n",
      "Found entity: elonmusk\n",
      "before 0.0 0.839 0.161 0.6369\n",
      "after 0.0 1.678 0.161 0.6369\n",
      "Found entity: elonmusk\n",
      "before 0.0 0.839 0.161 0.6369\n",
      "after 0.0 1.678 0.161 0.6369\n",
      "Found entity: elonmusk\n",
      "before 0.0 0.839 0.161 0.6369\n",
      "after 0.0 1.678 0.161 0.6369\n",
      "Found entity: elonmusk\n",
      "before 0.0 0.839 0.161 0.6369\n",
      "after 0.0 1.678 0.161 0.6369\n",
      "Found entity: MicroStrategy\n",
      "before 0.0 0.919 0.081 0.3182\n",
      "after 0.0 1.838 0.081 0.3182\n",
      "Found entity: USA\n",
      "before 0.0 0.897 0.103 0.5859\n",
      "after 0.0 1.794 0.103 0.5859\n"
     ]
    },
    {
     "name": "stderr",
     "output_type": "stream",
     "text": [
      "226it [20:43,  5.26s/it]"
     ]
    },
    {
     "name": "stdout",
     "output_type": "stream",
     "text": [
      "Currently at df: 227 | 2016-06-22\n",
      "Found entity: UK\n",
      "before 0.0 1.0 0.0 0.0\n",
      "after 0.0 2.0 0.0 0.0\n",
      "Found entity: UK\n",
      "before 0.0 1.0 0.0 0.0\n",
      "after 0.0 2.0 0.0 0.0\n",
      "Found entity: UK\n",
      "before 0.0 1.0 0.0 0.0\n",
      "after 0.0 2.0 0.0 0.0\n",
      "Found entity: UK\n",
      "before 0.0 1.0 0.0 0.0\n",
      "after 0.0 2.0 0.0 0.0\n",
      "Found entity: UK\n",
      "before 0.0 1.0 0.0 0.0\n",
      "after 0.0 2.0 0.0 0.0\n",
      "Found entity: UK\n",
      "before 0.0 1.0 0.0 0.0\n",
      "after 0.0 2.0 0.0 0.0\n",
      "Found entity: UK\n",
      "before 0.0 1.0 0.0 0.0\n",
      "after 0.0 2.0 0.0 0.0\n",
      "Found entity: UK\n",
      "before 0.0 1.0 0.0 0.0\n",
      "after 0.0 2.0 0.0 0.0\n",
      "Found entity: UK\n",
      "before 0.0 1.0 0.0 0.0\n",
      "after 0.0 2.0 0.0 0.0\n",
      "Found entity: UK\n",
      "before 0.0 1.0 0.0 0.0\n",
      "after 0.0 2.0 0.0 0.0\n",
      "Found entity: UK\n",
      "before 0.0 1.0 0.0 0.0\n",
      "after 0.0 2.0 0.0 0.0\n",
      "Found entity: UK\n",
      "before 0.0 1.0 0.0 0.0\n",
      "after 0.0 2.0 0.0 0.0\n"
     ]
    },
    {
     "name": "stderr",
     "output_type": "stream",
     "text": [
      "227it [20:48,  5.06s/it]"
     ]
    },
    {
     "name": "stdout",
     "output_type": "stream",
     "text": [
      "Currently at df: 228 | 2015-12-17\n"
     ]
    },
    {
     "name": "stderr",
     "output_type": "stream",
     "text": [
      "228it [20:54,  5.32s/it]"
     ]
    },
    {
     "name": "stdout",
     "output_type": "stream",
     "text": [
      "Currently at df: 229 | 2015-01-08\n"
     ]
    },
    {
     "name": "stderr",
     "output_type": "stream",
     "text": [
      "229it [20:59,  5.44s/it]"
     ]
    },
    {
     "name": "stdout",
     "output_type": "stream",
     "text": [
      "Currently at df: 230 | 2022-08-19\n",
      "Found entity: UK\n",
      "before 0.066 0.868 0.066 0.0\n",
      "after 0.066 1.736 0.066 0.0\n",
      "Found entity: UK\n",
      "before 0.0 0.89 0.11 0.3818\n",
      "after 0.0 1.78 0.11 0.3818\n"
     ]
    },
    {
     "name": "stderr",
     "output_type": "stream",
     "text": [
      "230it [21:05,  5.51s/it]"
     ]
    },
    {
     "name": "stdout",
     "output_type": "stream",
     "text": [
      "Currently at df: 231 | 2014-03-03\n"
     ]
    },
    {
     "name": "stderr",
     "output_type": "stream",
     "text": [
      "231it [21:11,  5.55s/it]"
     ]
    },
    {
     "name": "stdout",
     "output_type": "stream",
     "text": [
      "Currently at df: 232 | 2017-02-01\n"
     ]
    },
    {
     "name": "stderr",
     "output_type": "stream",
     "text": [
      "232it [21:14,  4.78s/it]"
     ]
    },
    {
     "name": "stdout",
     "output_type": "stream",
     "text": [
      "Currently at df: 233 | 2014-11-11\n"
     ]
    },
    {
     "name": "stderr",
     "output_type": "stream",
     "text": [
      "233it [21:20,  5.14s/it]"
     ]
    },
    {
     "name": "stdout",
     "output_type": "stream",
     "text": [
      "Currently at df: 234 | 2019-10-24\n",
      "Found entity: United Kingdom\n",
      "before 0.0 0.828 0.172 0.6808\n",
      "after 0.0 1.656 0.172 0.6808\n",
      "Found entity: United Kingdom\n",
      "before 0.0 0.823 0.177 0.6808\n",
      "after 0.0 1.646 0.177 0.6808\n",
      "Found entity: USA\n",
      "before 0.0 1.0 0.0 0.0\n",
      "after 0.0 2.0 0.0 0.0\n",
      "Found entity: China\n",
      "before 0.094 0.906 0.0 -0.34\n",
      "after 0.094 1.812 0.0 -0.34\n",
      "Found entity: United Kingdom\n",
      "before 0.076 0.843 0.081 0.0516\n",
      "after 0.076 1.686 0.081 0.0516\n",
      "Found entity: China\n",
      "before 0.0 0.947 0.053 0.489\n",
      "after 0.0 1.894 0.053 0.489\n"
     ]
    },
    {
     "name": "stderr",
     "output_type": "stream",
     "text": [
      "234it [21:26,  5.48s/it]"
     ]
    },
    {
     "name": "stdout",
     "output_type": "stream",
     "text": [
      "Currently at df: 235 | 2020-04-02\n",
      "Found entity: France\n",
      "before 0.0 0.766 0.234 0.8689\n",
      "after 0.0 1.532 0.234 0.8689\n",
      "Found entity: America\n",
      "before 0.057 0.943 0.0 -0.2732\n",
      "after 0.057 1.886 0.0 -0.2732\n",
      "Found entity: USA\n",
      "before 0.0 1.0 0.0 0.0\n",
      "after 0.0 2.0 0.0 0.0\n",
      "Found entity: China\n",
      "before 0.062 0.711 0.227 0.7627\n",
      "after 0.062 1.422 0.227 0.7627\n"
     ]
    },
    {
     "name": "stderr",
     "output_type": "stream",
     "text": [
      "235it [21:31,  5.39s/it]"
     ]
    },
    {
     "name": "stdout",
     "output_type": "stream",
     "text": [
      "Currently at df: 236 | 2017-11-10\n",
      "Found entity: USA\n",
      "before 0.0 1.0 0.0 0.0\n",
      "after 0.0 2.0 0.0 0.0\n",
      "Found entity: USA\n",
      "before 0.0 1.0 0.0 0.0\n",
      "after 0.0 2.0 0.0 0.0\n",
      "Found entity: USA\n",
      "before 0.0 1.0 0.0 0.0\n",
      "after 0.0 2.0 0.0 0.0\n"
     ]
    },
    {
     "name": "stderr",
     "output_type": "stream",
     "text": [
      "236it [21:37,  5.54s/it]"
     ]
    },
    {
     "name": "stdout",
     "output_type": "stream",
     "text": [
      "Currently at df: 237 | 2019-01-14\n",
      "Found entity: China\n",
      "before 0.108 0.817 0.075 -0.4404\n",
      "after 0.108 1.634 0.075 -0.4404\n",
      "Found entity: USA\n",
      "before 0.0 0.883 0.117 0.5242\n",
      "after 0.0 1.766 0.117 0.5242\n"
     ]
    },
    {
     "name": "stderr",
     "output_type": "stream",
     "text": [
      "237it [21:44,  6.09s/it]"
     ]
    },
    {
     "name": "stdout",
     "output_type": "stream",
     "text": [
      "Currently at df: 238 | 2016-10-02\n",
      "Found entity: france\n",
      "before 0.141 0.859 0.0 -0.4215\n",
      "after 0.141 1.718 0.0 -0.4215\n",
      "Found entity: france\n",
      "before 0.141 0.859 0.0 -0.4215\n",
      "after 0.141 1.718 0.0 -0.4215\n",
      "Found entity: france\n",
      "before 0.141 0.859 0.0 -0.4215\n",
      "after 0.141 1.718 0.0 -0.4215\n",
      "Found entity: france\n",
      "before 0.141 0.859 0.0 -0.4215\n",
      "after 0.141 1.718 0.0 -0.4215\n",
      "Found entity: france\n",
      "before 0.141 0.859 0.0 -0.4215\n",
      "after 0.141 1.718 0.0 -0.4215\n",
      "Found entity: france\n",
      "before 0.141 0.859 0.0 -0.4215\n",
      "after 0.141 1.718 0.0 -0.4215\n",
      "Found entity: france\n",
      "before 0.141 0.859 0.0 -0.4215\n",
      "after 0.141 1.718 0.0 -0.4215\n",
      "Found entity: france\n",
      "before 0.141 0.859 0.0 -0.4215\n",
      "after 0.141 1.718 0.0 -0.4215\n",
      "Found entity: france\n",
      "before 0.141 0.859 0.0 -0.4215\n",
      "after 0.141 1.718 0.0 -0.4215\n",
      "Found entity: france\n",
      "before 0.141 0.859 0.0 -0.4215\n",
      "after 0.141 1.718 0.0 -0.4215\n",
      "Found entity: france\n",
      "before 0.141 0.859 0.0 -0.4215\n",
      "after 0.141 1.718 0.0 -0.4215\n"
     ]
    },
    {
     "name": "stderr",
     "output_type": "stream",
     "text": [
      "238it [21:47,  5.18s/it]"
     ]
    },
    {
     "name": "stdout",
     "output_type": "stream",
     "text": [
      "Found entity: france\n",
      "before 0.141 0.859 0.0 -0.4215\n",
      "after 0.141 1.718 0.0 -0.4215\n",
      "Found entity: france\n",
      "before 0.141 0.859 0.0 -0.4215\n",
      "after 0.141 1.718 0.0 -0.4215\n",
      "Currently at df: 239 | 2021-02-21\n",
      "Found entity: Tesla\n",
      "before 0.0 1.0 0.0 0.0\n",
      "after 0.0 2.0 0.0 0.0\n",
      "Found entity: Andreas Antonopoulos\n",
      "before 0.04 0.804 0.156 0.7345\n",
      "after 0.04 1.608 0.156 0.7345\n",
      "Found entity: MicroStrategy\n",
      "before 0.0 0.957 0.043 0.3054\n",
      "after 0.0 1.914 0.043 0.3054\n",
      "Found entity: Tesla\n",
      "before 0.048 0.83 0.121 0.4767\n",
      "after 0.048 1.66 0.121 0.4767\n"
     ]
    },
    {
     "name": "stderr",
     "output_type": "stream",
     "text": [
      "239it [21:53,  5.23s/it]"
     ]
    },
    {
     "name": "stdout",
     "output_type": "stream",
     "text": [
      "Currently at df: 240 | 2015-01-15\n"
     ]
    },
    {
     "name": "stderr",
     "output_type": "stream",
     "text": [
      "240it [21:59,  5.46s/it]"
     ]
    },
    {
     "name": "stdout",
     "output_type": "stream",
     "text": [
      "Currently at df: 241 | 2016-07-17\n"
     ]
    },
    {
     "name": "stderr",
     "output_type": "stream",
     "text": [
      "241it [22:02,  4.79s/it]"
     ]
    },
    {
     "name": "stdout",
     "output_type": "stream",
     "text": [
      "Currently at df: 242 | 2019-07-16\n",
      "Found entity: USA\n",
      "before 0.052 0.851 0.098 0.4199\n",
      "after 0.052 1.702 0.098 0.4199\n",
      "Found entity: UK\n",
      "before 0.0 0.888 0.112 0.4404\n",
      "after 0.0 1.776 0.112 0.4404\n",
      "Found entity: China\n",
      "before 0.0 0.909 0.091 0.6369\n",
      "after 0.0 1.818 0.091 0.6369\n",
      "Found entity: America\n",
      "before 0.13 0.743 0.126 -0.0258\n",
      "after 0.13 1.486 0.126 -0.0258\n"
     ]
    },
    {
     "name": "stderr",
     "output_type": "stream",
     "text": [
      "242it [22:08,  5.27s/it]"
     ]
    },
    {
     "name": "stdout",
     "output_type": "stream",
     "text": [
      "Found entity: Vitalik Buterin\n",
      "before 0.0 0.935 0.065 0.3182\n",
      "after 0.0 1.87 0.065 0.3182\n",
      "Currently at df: 243 | 2015-08-02\n"
     ]
    },
    {
     "name": "stderr",
     "output_type": "stream",
     "text": [
      "242it [22:10,  5.50s/it]\n"
     ]
    },
    {
     "ename": "KeyboardInterrupt",
     "evalue": "",
     "output_type": "error",
     "traceback": [
      "\u001b[0;31m---------------------------------------------------------------------------\u001b[0m",
      "\u001b[0;31mKeyboardInterrupt\u001b[0m                         Traceback (most recent call last)",
      "\u001b[0;32m/tmp/ipykernel_27/436468243.py\u001b[0m in \u001b[0;36m<module>\u001b[0;34m\u001b[0m\n\u001b[0;32m----> 1\u001b[0;31m \u001b[0mweight_sentiments\u001b[0m\u001b[0;34m(\u001b[0m\u001b[0;34m)\u001b[0m\u001b[0;34m\u001b[0m\u001b[0;34m\u001b[0m\u001b[0m\n\u001b[0m",
      "\u001b[0;32m/tmp/ipykernel_27/517827396.py\u001b[0m in \u001b[0;36mweight_sentiments\u001b[0;34m()\u001b[0m\n\u001b[1;32m     54\u001b[0m                 \u001b[0;32melse\u001b[0m\u001b[0;34m:\u001b[0m\u001b[0;34m\u001b[0m\u001b[0;34m\u001b[0m\u001b[0m\n\u001b[1;32m     55\u001b[0m                     \u001b[0;31m# Get all entities from tweet\u001b[0m\u001b[0;34m\u001b[0m\u001b[0;34m\u001b[0m\u001b[0;34m\u001b[0m\u001b[0m\n\u001b[0;32m---> 56\u001b[0;31m                     \u001b[0mtext_entities\u001b[0m \u001b[0;34m=\u001b[0m \u001b[0mlist\u001b[0m\u001b[0;34m(\u001b[0m\u001b[0mNER\u001b[0m\u001b[0;34m(\u001b[0m\u001b[0mrow\u001b[0m\u001b[0;34m[\u001b[0m\u001b[0;34m'text'\u001b[0m\u001b[0;34m]\u001b[0m\u001b[0;34m)\u001b[0m\u001b[0;34m.\u001b[0m\u001b[0ments\u001b[0m\u001b[0;34m)\u001b[0m\u001b[0;34m\u001b[0m\u001b[0;34m\u001b[0m\u001b[0m\n\u001b[0m\u001b[1;32m     57\u001b[0m \u001b[0;34m\u001b[0m\u001b[0m\n\u001b[1;32m     58\u001b[0m                     \u001b[0;31m# Check if entity exists in impactful index\u001b[0m\u001b[0;34m\u001b[0m\u001b[0;34m\u001b[0m\u001b[0;34m\u001b[0m\u001b[0m\n",
      "\u001b[0;32m/opt/conda/lib/python3.7/site-packages/spacy/language.py\u001b[0m in \u001b[0;36m__call__\u001b[0;34m(self, text, disable, component_cfg)\u001b[0m\n\u001b[1;32m   1018\u001b[0m                 \u001b[0merror_handler\u001b[0m \u001b[0;34m=\u001b[0m \u001b[0mproc\u001b[0m\u001b[0;34m.\u001b[0m\u001b[0mget_error_handler\u001b[0m\u001b[0;34m(\u001b[0m\u001b[0;34m)\u001b[0m\u001b[0;34m\u001b[0m\u001b[0;34m\u001b[0m\u001b[0m\n\u001b[1;32m   1019\u001b[0m             \u001b[0;32mtry\u001b[0m\u001b[0;34m:\u001b[0m\u001b[0;34m\u001b[0m\u001b[0;34m\u001b[0m\u001b[0m\n\u001b[0;32m-> 1020\u001b[0;31m                 \u001b[0mdoc\u001b[0m \u001b[0;34m=\u001b[0m \u001b[0mproc\u001b[0m\u001b[0;34m(\u001b[0m\u001b[0mdoc\u001b[0m\u001b[0;34m,\u001b[0m \u001b[0;34m**\u001b[0m\u001b[0mcomponent_cfg\u001b[0m\u001b[0;34m.\u001b[0m\u001b[0mget\u001b[0m\u001b[0;34m(\u001b[0m\u001b[0mname\u001b[0m\u001b[0;34m,\u001b[0m \u001b[0;34m{\u001b[0m\u001b[0;34m}\u001b[0m\u001b[0;34m)\u001b[0m\u001b[0;34m)\u001b[0m  \u001b[0;31m# type: ignore[call-arg]\u001b[0m\u001b[0;34m\u001b[0m\u001b[0;34m\u001b[0m\u001b[0m\n\u001b[0m\u001b[1;32m   1021\u001b[0m             \u001b[0;32mexcept\u001b[0m \u001b[0mKeyError\u001b[0m \u001b[0;32mas\u001b[0m \u001b[0me\u001b[0m\u001b[0;34m:\u001b[0m\u001b[0;34m\u001b[0m\u001b[0;34m\u001b[0m\u001b[0m\n\u001b[1;32m   1022\u001b[0m                 \u001b[0;31m# This typically happens if a component is not initialized\u001b[0m\u001b[0;34m\u001b[0m\u001b[0;34m\u001b[0m\u001b[0;34m\u001b[0m\u001b[0m\n",
      "\u001b[0;32m/opt/conda/lib/python3.7/site-packages/spacy/pipeline/trainable_pipe.pyx\u001b[0m in \u001b[0;36mspacy.pipeline.trainable_pipe.TrainablePipe.__call__\u001b[0;34m()\u001b[0m\n",
      "\u001b[0;32m/opt/conda/lib/python3.7/site-packages/spacy/pipeline/transition_parser.pyx\u001b[0m in \u001b[0;36mspacy.pipeline.transition_parser.Parser.set_annotations\u001b[0;34m()\u001b[0m\n",
      "\u001b[0;32m/opt/conda/lib/python3.7/site-packages/spacy/pipeline/_parser_internals/ner.pyx\u001b[0m in \u001b[0;36mspacy.pipeline._parser_internals.ner.BiluoPushDown.set_annotations\u001b[0;34m()\u001b[0m\n",
      "\u001b[0;32m/opt/conda/lib/python3.7/site-packages/spacy/tokens/doc.pyx\u001b[0m in \u001b[0;36mspacy.tokens.doc.Doc.set_ents\u001b[0;34m()\u001b[0m\n",
      "\u001b[0;32m/opt/conda/lib/python3.7/site-packages/spacy/tokens/doc.pyx\u001b[0m in \u001b[0;36mspacy.tokens.doc.SetEntsDefault.values\u001b[0;34m()\u001b[0m\n",
      "\u001b[0;32m/opt/conda/lib/python3.7/enum.py\u001b[0m in \u001b[0;36m__members__\u001b[0;34m(cls)\u001b[0m\n\u001b[1;32m    363\u001b[0m         \u001b[0;32mreturn\u001b[0m \u001b[0mlen\u001b[0m\u001b[0;34m(\u001b[0m\u001b[0mcls\u001b[0m\u001b[0;34m.\u001b[0m\u001b[0m_member_names_\u001b[0m\u001b[0;34m)\u001b[0m\u001b[0;34m\u001b[0m\u001b[0;34m\u001b[0m\u001b[0m\n\u001b[1;32m    364\u001b[0m \u001b[0;34m\u001b[0m\u001b[0m\n\u001b[0;32m--> 365\u001b[0;31m     \u001b[0;34m@\u001b[0m\u001b[0mproperty\u001b[0m\u001b[0;34m\u001b[0m\u001b[0;34m\u001b[0m\u001b[0m\n\u001b[0m\u001b[1;32m    366\u001b[0m     \u001b[0;32mdef\u001b[0m \u001b[0m__members__\u001b[0m\u001b[0;34m(\u001b[0m\u001b[0mcls\u001b[0m\u001b[0;34m)\u001b[0m\u001b[0;34m:\u001b[0m\u001b[0;34m\u001b[0m\u001b[0;34m\u001b[0m\u001b[0m\n\u001b[1;32m    367\u001b[0m         \"\"\"Returns a mapping of member name->value.\n",
      "\u001b[0;31mKeyboardInterrupt\u001b[0m: "
     ]
    }
   ],
   "source": [
    "weight_sentiments()"
   ]
  },
  {
   "cell_type": "code",
   "execution_count": 121,
   "metadata": {
    "execution": {
     "iopub.execute_input": "2022-12-08T08:33:23.551364Z",
     "iopub.status.busy": "2022-12-08T08:33:23.550937Z",
     "iopub.status.idle": "2022-12-08T08:33:25.955204Z",
     "shell.execute_reply": "2022-12-08T08:33:25.953036Z",
     "shell.execute_reply.started": "2022-12-08T08:33:23.551331Z"
    }
   },
   "outputs": [
    {
     "name": "stdout",
     "output_type": "stream",
     "text": [
      "  adding: kaggle/working/outputs_weighed/ (stored 0%)\n",
      "  adding: kaggle/working/outputs_weighed/2018-04-02.csv (deflated 71%)\n",
      "  adding: kaggle/working/outputs_weighed/2018-08-14.csv (deflated 70%)\n",
      "  adding: kaggle/working/outputs_weighed/2019-12-07.csv (deflated 61%)\n",
      "  adding: kaggle/working/outputs_weighed/2022-02-13.csv (deflated 59%)\n",
      "  adding: kaggle/working/outputs_weighed/2022-09-01.csv (deflated 65%)\n",
      "  adding: kaggle/working/outputs_weighed/2018-05-23.csv (deflated 68%)\n",
      "  adding: kaggle/working/outputs_weighed/2022-02-21.csv (deflated 58%)\n",
      "  adding: kaggle/working/outputs_weighed/2017-05-15.csv (deflated 74%)\n",
      "  adding: kaggle/working/outputs_weighed/2022-05-21.csv (deflated 64%)\n",
      "  adding: kaggle/working/outputs_weighed/2014-10-17.csv (deflated 85%)\n",
      "  adding: kaggle/working/outputs_weighed/2018-01-13.csv (deflated 72%)\n",
      "  adding: kaggle/working/outputs_weighed/2022-05-10.csv (deflated 61%)\n",
      "  adding: kaggle/working/outputs_weighed/2014-01-20.csv (deflated 85%)\n",
      "  adding: kaggle/working/outputs_weighed/2022-06-20.csv (deflated 64%)\n",
      "  adding: kaggle/working/outputs_weighed/2021-10-25.csv (deflated 62%)\n",
      "  adding: kaggle/working/outputs_weighed/2019-05-20.csv (deflated 58%)\n",
      "  adding: kaggle/working/outputs_weighed/2019-01-18.csv (deflated 59%)\n",
      "  adding: kaggle/working/outputs_weighed/2017-03-11.csv (deflated 77%)\n",
      "  adding: kaggle/working/outputs_weighed/2022-02-07.csv (deflated 59%)\n",
      "  adding: kaggle/working/outputs_weighed/2020-11-28.csv (deflated 59%)\n",
      "  adding: kaggle/working/outputs_weighed/2020-11-07.csv (deflated 65%)\n",
      "  adding: kaggle/working/outputs_weighed/2015-10-23.csv (deflated 81%)\n",
      "  adding: kaggle/working/outputs_weighed/2020-04-28.csv (deflated 60%)\n",
      "  adding: kaggle/working/outputs_weighed/2014-04-12.csv (deflated 84%)\n",
      "  adding: kaggle/working/outputs_weighed/2017-05-30.csv (deflated 75%)\n",
      "  adding: kaggle/working/outputs_weighed/2020-01-09.csv (deflated 58%)\n",
      "  adding: kaggle/working/outputs_weighed/2018-04-25.csv (deflated 70%)\n",
      "  adding: kaggle/working/outputs_weighed/2016-06-12.csv (deflated 79%)\n",
      "  adding: kaggle/working/outputs_weighed/2020-01-17.csv (deflated 58%)\n",
      "  adding: kaggle/working/outputs_weighed/2020-03-27.csv (deflated 58%)\n",
      "  adding: kaggle/working/outputs_weighed/2019-09-11.csv (deflated 57%)\n",
      "  adding: kaggle/working/outputs_weighed/2021-11-22.csv (deflated 60%)\n",
      "  adding: kaggle/working/outputs_weighed/2018-06-08.csv (deflated 70%)\n",
      "  adding: kaggle/working/outputs_weighed/2017-01-01.csv (deflated 77%)\n",
      "  adding: kaggle/working/outputs_weighed/2018-02-15.csv (deflated 67%)\n",
      "  adding: kaggle/working/outputs_weighed/2017-08-18.csv (deflated 74%)\n",
      "  adding: kaggle/working/outputs_weighed/2015-04-13.csv (deflated 85%)\n",
      "  adding: kaggle/working/outputs_weighed/2018-03-15.csv (deflated 68%)\n",
      "  adding: kaggle/working/outputs_weighed/2015-11-12.csv (deflated 82%)\n",
      "  adding: kaggle/working/outputs_weighed/2022-01-22.csv (deflated 61%)\n",
      "  adding: kaggle/working/outputs_weighed/2016-11-18.csv (deflated 78%)\n",
      "  adding: kaggle/working/outputs_weighed/2018-01-28.csv (deflated 71%)\n",
      "  adding: kaggle/working/outputs_weighed/2014-07-24.csv (deflated 85%)\n",
      "  adding: kaggle/working/outputs_weighed/2017-08-07.csv (deflated 76%)\n",
      "  adding: kaggle/working/outputs_weighed/2015-04-30.csv (deflated 85%)\n",
      "  adding: kaggle/working/outputs_weighed/2016-12-25.csv (deflated 78%)\n",
      "  adding: kaggle/working/outputs_weighed/2017-08-02.csv (deflated 73%)\n",
      "  adding: kaggle/working/outputs_weighed/2019-05-03.csv (deflated 65%)\n",
      "  adding: kaggle/working/outputs_weighed/2021-03-07.csv (deflated 62%)\n",
      "  adding: kaggle/working/outputs_weighed/2022-04-13.csv (deflated 76%)\n",
      "  adding: kaggle/working/outputs_weighed/2018-08-25.csv (deflated 74%)\n",
      "  adding: kaggle/working/outputs_weighed/2015-12-07.csv (deflated 82%)\n",
      "  adding: kaggle/working/outputs_weighed/2022-05-05.csv (deflated 65%)\n",
      "  adding: kaggle/working/outputs_weighed/2021-09-04.csv (deflated 64%)\n",
      "  adding: kaggle/working/outputs_weighed/2015-10-27.csv (deflated 80%)\n",
      "  adding: kaggle/working/outputs_weighed/2020-03-10.csv (deflated 59%)\n",
      "  adding: kaggle/working/outputs_weighed/2022-03-15.csv (deflated 65%)\n",
      "  adding: kaggle/working/outputs_weighed/2020-03-23.csv (deflated 58%)\n",
      "  adding: kaggle/working/outputs_weighed/2022-07-03.csv (deflated 64%)\n",
      "  adding: kaggle/working/outputs_weighed/2020-03-06.csv (deflated 58%)\n",
      "  adding: kaggle/working/outputs_weighed/2022-03-29.csv (deflated 63%)\n",
      "  adding: kaggle/working/outputs_weighed/2018-11-17.csv (deflated 75%)\n",
      "  adding: kaggle/working/outputs_weighed/2015-06-06.csv (deflated 84%)\n",
      "  adding: kaggle/working/outputs_weighed/2017-01-15.csv (deflated 78%)\n",
      "  adding: kaggle/working/outputs_weighed/2019-06-12.csv (deflated 59%)\n",
      "  adding: kaggle/working/outputs_weighed/2021-09-21.csv (deflated 60%)\n",
      "  adding: kaggle/working/outputs_weighed/2022-01-21.csv (deflated 70%)\n",
      "  adding: kaggle/working/outputs_weighed/2019-03-06.csv (deflated 70%)\n",
      "  adding: kaggle/working/outputs_weighed/2020-12-30.csv (deflated 57%)\n",
      "  adding: kaggle/working/outputs_weighed/2017-03-23.csv (deflated 75%)\n",
      "  adding: kaggle/working/outputs_weighed/2017-01-02.csv (deflated 76%)\n",
      "  adding: kaggle/working/outputs_weighed/2018-10-27.csv (deflated 73%)\n",
      "  adding: kaggle/working/outputs_weighed/2015-01-11.csv (deflated 86%)\n",
      "  adding: kaggle/working/outputs_weighed/2022-05-09.csv (deflated 60%)\n",
      "  adding: kaggle/working/outputs_weighed/2021-03-31.csv (deflated 70%)\n",
      "  adding: kaggle/working/outputs_weighed/2020-06-22.csv (deflated 59%)\n",
      "  adding: kaggle/working/outputs_weighed/2021-12-17.csv (deflated 72%)\n",
      "  adding: kaggle/working/outputs_weighed/2014-06-03.csv (deflated 83%)\n",
      "  adding: kaggle/working/outputs_weighed/2015-04-12.csv (deflated 86%)\n",
      "  adding: kaggle/working/outputs_weighed/2022-08-01.csv (deflated 68%)\n",
      "  adding: kaggle/working/outputs_weighed/2017-07-31.csv (deflated 73%)\n",
      "  adding: kaggle/working/outputs_weighed/2014-08-13.csv (deflated 84%)\n",
      "  adding: kaggle/working/outputs_weighed/2020-09-13.csv (deflated 61%)\n",
      "  adding: kaggle/working/outputs_weighed/2021-08-03.csv (deflated 61%)\n",
      "  adding: kaggle/working/outputs_weighed/2015-11-08.csv (deflated 83%)\n",
      "  adding: kaggle/working/outputs_weighed/2016-08-06.csv (deflated 77%)\n",
      "  adding: kaggle/working/outputs_weighed/2021-03-08.csv (deflated 62%)\n",
      "  adding: kaggle/working/outputs_weighed/2021-12-13.csv (deflated 61%)\n",
      "  adding: kaggle/working/outputs_weighed/2017-02-14.csv (deflated 77%)\n",
      "  adding: kaggle/working/outputs_weighed/2016-02-13.csv (deflated 85%)\n",
      "  adding: kaggle/working/outputs_weighed/2018-12-21.csv (deflated 72%)\n",
      "  adding: kaggle/working/outputs_weighed/2020-10-31.csv (deflated 64%)\n",
      "  adding: kaggle/working/outputs_weighed/2022-08-24.csv (deflated 65%)\n",
      "  adding: kaggle/working/outputs_weighed/2020-12-01.csv (deflated 58%)\n",
      "  adding: kaggle/working/outputs_weighed/2020-07-20.csv (deflated 59%)\n",
      "  adding: kaggle/working/outputs_weighed/2018-08-16.csv (deflated 70%)\n",
      "  adding: kaggle/working/outputs_weighed/2022-06-07.csv (deflated 65%)\n",
      "  adding: kaggle/working/outputs_weighed/2019-11-30.csv (deflated 60%)\n",
      "  adding: kaggle/working/outputs_weighed/2020-06-30.csv (deflated 59%)\n",
      "  adding: kaggle/working/outputs_weighed/2016-10-19.csv (deflated 78%)\n",
      "  adding: kaggle/working/outputs_weighed/2018-10-28.csv (deflated 74%)\n",
      "  adding: kaggle/working/outputs_weighed/2022-04-25.csv (deflated 61%)\n",
      "  adding: kaggle/working/outputs_weighed/2014-09-14.csv (deflated 84%)\n",
      "  adding: kaggle/working/outputs_weighed/2021-12-24.csv (deflated 65%)\n",
      "  adding: kaggle/working/outputs_weighed/2017-12-03.csv (deflated 69%)\n",
      "  adding: kaggle/working/outputs_weighed/2019-01-26.csv (deflated 59%)\n",
      "  adding: kaggle/working/outputs_weighed/2016-06-23.csv (deflated 78%)\n",
      "  adding: kaggle/working/outputs_weighed/2014-04-13.csv (deflated 84%)\n",
      "  adding: kaggle/working/outputs_weighed/2020-11-20.csv (deflated 61%)\n",
      "  adding: kaggle/working/outputs_weighed/2019-09-30.csv (deflated 57%)\n",
      "  adding: kaggle/working/outputs_weighed/2016-11-26.csv (deflated 76%)\n",
      "  adding: kaggle/working/outputs_weighed/2014-03-01.csv (deflated 83%)\n",
      "  adding: kaggle/working/outputs_weighed/2014-10-09.csv (deflated 84%)\n",
      "  adding: kaggle/working/outputs_weighed/2018-11-26.csv (deflated 68%)\n",
      "  adding: kaggle/working/outputs_weighed/2018-05-10.csv (deflated 69%)\n",
      "  adding: kaggle/working/outputs_weighed/2018-11-21.csv (deflated 70%)\n",
      "  adding: kaggle/working/outputs_weighed/2019-03-21.csv (deflated 68%)\n",
      "  adding: kaggle/working/outputs_weighed/2018-08-26.csv (deflated 74%)\n",
      "  adding: kaggle/working/outputs_weighed/2014-06-21.csv (deflated 84%)\n",
      "  adding: kaggle/working/outputs_weighed/2016-09-27.csv (deflated 76%)\n",
      "  adding: kaggle/working/outputs_weighed/2021-09-08.csv (deflated 61%)\n",
      "  adding: kaggle/working/outputs_weighed/2016-12-18.csv (deflated 64%)\n",
      "  adding: kaggle/working/outputs_weighed/2022-09-16.csv (deflated 63%)\n",
      "  adding: kaggle/working/outputs_weighed/2020-01-12.csv (deflated 58%)\n",
      "  adding: kaggle/working/outputs_weighed/2017-12-23.csv (deflated 68%)\n",
      "  adding: kaggle/working/outputs_weighed/2021-01-29.csv (deflated 59%)\n",
      "  adding: kaggle/working/outputs_weighed/2022-07-14.csv (deflated 66%)\n",
      "  adding: kaggle/working/outputs_weighed/2021-05-20.csv (deflated 62%)\n",
      "  adding: kaggle/working/outputs_weighed/2021-05-03.csv (deflated 61%)\n",
      "  adding: kaggle/working/outputs_weighed/2014-12-23.csv (deflated 86%)\n",
      "  adding: kaggle/working/outputs_weighed/2022-01-13.csv (deflated 62%)\n",
      "  adding: kaggle/working/outputs_weighed/2021-08-24.csv (deflated 60%)\n",
      "  adding: kaggle/working/outputs_weighed/2021-07-27.csv (deflated 62%)\n",
      "  adding: kaggle/working/outputs_weighed/2022-05-28.csv (deflated 63%)\n",
      "  adding: kaggle/working/outputs_weighed/2019-12-27.csv (deflated 60%)\n",
      "  adding: kaggle/working/outputs_weighed/2020-07-22.csv (deflated 58%)\n",
      "  adding: kaggle/working/outputs_weighed/2014-03-16.csv (deflated 84%)\n",
      "  adding: kaggle/working/outputs_weighed/2020-07-18.csv (deflated 62%)\n",
      "  adding: kaggle/working/outputs_weighed/2014-04-15.csv (deflated 84%)\n",
      "  adding: kaggle/working/outputs_weighed/2018-04-26.csv (deflated 69%)\n",
      "  adding: kaggle/working/outputs_weighed/2020-09-16.csv (deflated 59%)\n",
      "  adding: kaggle/working/outputs_weighed/2015-10-29.csv (deflated 80%)\n",
      "  adding: kaggle/working/outputs_weighed/2019-06-23.csv (deflated 55%)\n",
      "  adding: kaggle/working/outputs_weighed/2022-10-04.csv (deflated 65%)\n",
      "  adding: kaggle/working/outputs_weighed/2021-01-20.csv (deflated 70%)\n",
      "  adding: kaggle/working/outputs_weighed/2020-11-03.csv (deflated 60%)\n",
      "  adding: kaggle/working/outputs_weighed/2021-01-03.csv (deflated 58%)\n",
      "  adding: kaggle/working/outputs_weighed/2018-03-16.csv (deflated 69%)\n",
      "  adding: kaggle/working/outputs_weighed/2018-05-08.csv (deflated 71%)\n",
      "  adding: kaggle/working/outputs_weighed/2022-09-27.csv (deflated 63%)\n",
      "  adding: kaggle/working/outputs_weighed/2017-12-17.csv (deflated 66%)\n",
      "  adding: kaggle/working/outputs_weighed/2015-03-17.csv (deflated 85%)\n",
      "  adding: kaggle/working/outputs_weighed/2022-10-18.csv (deflated 66%)\n",
      "  adding: kaggle/working/outputs_weighed/2017-01-09.csv (deflated 78%)\n",
      "  adding: kaggle/working/outputs_weighed/2019-06-06.csv (deflated 58%)\n",
      "  adding: kaggle/working/outputs_weighed/2017-11-26.csv (deflated 68%)\n",
      "  adding: kaggle/working/outputs_weighed/2021-02-04.csv (deflated 61%)\n",
      "  adding: kaggle/working/outputs_weighed/2022-03-20.csv (deflated 66%)\n",
      "  adding: kaggle/working/outputs_weighed/2020-06-11.csv (deflated 62%)\n",
      "  adding: kaggle/working/outputs_weighed/2022-04-17.csv (deflated 63%)\n",
      "  adding: kaggle/working/outputs_weighed/2020-01-28.csv (deflated 58%)\n",
      "  adding: kaggle/working/outputs_weighed/2020-06-03.csv (deflated 60%)\n",
      "  adding: kaggle/working/outputs_weighed/2016-04-15.csv (deflated 82%)\n",
      "  adding: kaggle/working/outputs_weighed/2019-05-29.csv (deflated 61%)\n",
      "  adding: kaggle/working/outputs_weighed/2020-04-08.csv (deflated 58%)\n",
      "  adding: kaggle/working/outputs_weighed/2021-12-07.csv (deflated 61%)\n",
      "  adding: kaggle/working/outputs_weighed/2020-03-21.csv (deflated 58%)\n",
      "  adding: kaggle/working/outputs_weighed/2022-05-29.csv (deflated 61%)\n",
      "  adding: kaggle/working/outputs_weighed/2019-01-08.csv (deflated 71%)\n",
      "  adding: kaggle/working/outputs_weighed/2015-05-06.csv (deflated 86%)\n",
      "  adding: kaggle/working/outputs_weighed/2014-10-07.csv (deflated 84%)\n",
      "  adding: kaggle/working/outputs_weighed/2016-09-09.csv (deflated 75%)\n",
      "  adding: kaggle/working/outputs_weighed/2021-03-29.csv (deflated 65%)\n",
      "  adding: kaggle/working/outputs_weighed/2018-08-05.csv (deflated 76%)\n",
      "  adding: kaggle/working/outputs_weighed/2020-06-01.csv (deflated 60%)\n",
      "  adding: kaggle/working/outputs_weighed/2017-06-20.csv (deflated 74%)\n",
      "  adding: kaggle/working/outputs_weighed/2017-04-14.csv (deflated 76%)\n",
      "  adding: kaggle/working/outputs_weighed/2015-08-06.csv (deflated 85%)\n",
      "  adding: kaggle/working/outputs_weighed/2020-04-21.csv (deflated 59%)\n",
      "  adding: kaggle/working/outputs_weighed/2019-10-04.csv (deflated 58%)\n",
      "  adding: kaggle/working/outputs_weighed/2015-05-02.csv (deflated 88%)\n",
      "  adding: kaggle/working/outputs_weighed/2016-10-12.csv (deflated 78%)\n",
      "  adding: kaggle/working/outputs_weighed/2016-07-10.csv (deflated 78%)\n",
      "  adding: kaggle/working/outputs_weighed/2015-01-10.csv (deflated 85%)\n",
      "  adding: kaggle/working/outputs_weighed/2018-01-20.csv (deflated 70%)\n",
      "  adding: kaggle/working/outputs_weighed/2018-09-29.csv (deflated 73%)\n",
      "  adding: kaggle/working/outputs_weighed/2020-06-18.csv (deflated 59%)\n",
      "  adding: kaggle/working/outputs_weighed/2019-07-13.csv (deflated 62%)\n",
      "  adding: kaggle/working/outputs_weighed/2015-06-16.csv (deflated 84%)\n",
      "  adding: kaggle/working/outputs_weighed/2021-06-02.csv (deflated 61%)\n",
      "  adding: kaggle/working/outputs_weighed/2020-03-31.csv (deflated 58%)\n",
      "  adding: kaggle/working/outputs_weighed/2015-09-01.csv (deflated 79%)\n",
      "  adding: kaggle/working/outputs_weighed/2017-01-14.csv (deflated 78%)\n",
      "  adding: kaggle/working/outputs_weighed/2021-12-01.csv (deflated 59%)\n",
      "  adding: kaggle/working/outputs_weighed/2016-03-25.csv (deflated 84%)\n",
      "  adding: kaggle/working/outputs_weighed/2018-07-14.csv (deflated 76%)\n",
      "  adding: kaggle/working/outputs_weighed/2017-11-28.csv (deflated 67%)\n",
      "  adding: kaggle/working/outputs_weighed/2015-10-05.csv (deflated 81%)\n",
      "  adding: kaggle/working/outputs_weighed/2022-07-30.csv (deflated 66%)\n",
      "  adding: kaggle/working/outputs_weighed/2019-10-28.csv (deflated 58%)\n",
      "  adding: kaggle/working/outputs_weighed/2014-02-17.csv (deflated 83%)\n",
      "  adding: kaggle/working/outputs_weighed/2016-09-18.csv (deflated 79%)\n",
      "  adding: kaggle/working/outputs_weighed/2020-08-20.csv (deflated 62%)\n",
      "  adding: kaggle/working/outputs_weighed/2018-03-18.csv (deflated 70%)\n",
      "  adding: kaggle/working/outputs_weighed/2016-01-21.csv (deflated 85%)\n",
      "  adding: kaggle/working/outputs_weighed/2018-07-11.csv (deflated 73%)\n",
      "  adding: kaggle/working/outputs_weighed/2017-06-23.csv (deflated 76%)\n",
      "  adding: kaggle/working/outputs_weighed/2020-12-20.csv (deflated 59%)\n",
      "  adding: kaggle/working/outputs_weighed/2019-01-04.csv (deflated 72%)\n",
      "  adding: kaggle/working/outputs_weighed/2022-05-30.csv (deflated 66%)\n",
      "  adding: kaggle/working/outputs_weighed/2015-05-11.csv (deflated 86%)\n",
      "  adding: kaggle/working/outputs_weighed/2016-12-11.csv (deflated 77%)\n",
      "  adding: kaggle/working/outputs_weighed/2017-10-13.csv (deflated 71%)\n",
      "  adding: kaggle/working/outputs_weighed/2021-08-13.csv (deflated 60%)\n",
      "  adding: kaggle/working/outputs_weighed/2020-01-01.csv (deflated 64%)\n",
      "  adding: kaggle/working/outputs_weighed/2020-07-09.csv (deflated 59%)\n",
      "  adding: kaggle/working/outputs_weighed/2020-09-19.csv (deflated 61%)\n",
      "  adding: kaggle/working/outputs_weighed/2020-04-25.csv (deflated 60%)\n",
      "  adding: kaggle/working/outputs_weighed/2021-06-18.csv (deflated 61%)\n",
      "  adding: kaggle/working/outputs_weighed/2019-03-07.csv (deflated 71%)\n",
      "  adding: kaggle/working/outputs_weighed/2017-12-09.csv (deflated 61%)\n",
      "  adding: kaggle/working/outputs_weighed/2021-06-09.csv (deflated 59%)\n",
      "  adding: kaggle/working/outputs_weighed/2016-12-24.csv (deflated 77%)\n",
      "  adding: kaggle/working/outputs_weighed/2019-07-11.csv (deflated 59%)\n",
      "  adding: kaggle/working/outputs_weighed/2020-10-19.csv (deflated 64%)\n",
      "  adding: kaggle/working/outputs_weighed/2020-07-01.csv (deflated 64%)\n",
      "  adding: kaggle/working/outputs_weighed/2020-10-12.csv (deflated 64%)\n",
      "  adding: kaggle/working/outputs_weighed/2022-07-27.csv (deflated 64%)\n",
      "  adding: kaggle/working/outputs_weighed/2022-05-08.csv (deflated 64%)\n",
      "  adding: kaggle/working/outputs_weighed/2020-12-12.csv (deflated 58%)\n",
      "  adding: kaggle/working/outputs_weighed/2022-01-15.csv (deflated 61%)\n",
      "  adding: kaggle/working/outputs_weighed/2018-04-03.csv (deflated 59%)\n",
      "  adding: kaggle/working/outputs_weighed/2018-06-26.csv (deflated 72%)\n",
      "  adding: kaggle/working/outputs_weighed/2018-06-19.csv (deflated 72%)\n",
      "  adding: kaggle/working/outputs_weighed/2018-12-23.csv (deflated 73%)\n",
      "  adding: kaggle/working/outputs_weighed/2018-11-18.csv (deflated 74%)\n",
      "  adding: kaggle/working/outputs_weighed/2020-03-25.csv (deflated 58%)\n",
      "  adding: kaggle/working/outputs_weighed/2020-12-31.csv (deflated 58%)\n",
      "  adding: kaggle/working/outputs_weighed/2017-07-21.csv (deflated 74%)\n",
      "  adding: kaggle/working/outputs_weighed/2018-07-08.csv (deflated 75%)\n",
      "  adding: kaggle/working/outputs_weighed/2016-12-29.csv (deflated 75%)\n",
      "  adding: kaggle/working/outputs_weighed/2021-12-18.csv (deflated 62%)\n",
      "  adding: kaggle/working/outputs_weighed/2018-12-16.csv (deflated 73%)\n",
      "  adding: kaggle/working/outputs_weighed/2018-04-27.csv (deflated 69%)\n",
      "  adding: kaggle/working/outputs_weighed/2017-09-10.csv (deflated 78%)\n",
      "  adding: kaggle/working/outputs_weighed/2022-02-17.csv (deflated 64%)\n",
      "  adding: kaggle/working/outputs_weighed/2016-03-12.csv (deflated 84%)\n",
      "  adding: kaggle/working/outputs_weighed/2018-10-12.csv (deflated 72%)\n",
      "  adding: kaggle/working/outputs_weighed/2017-11-19.csv (deflated 71%)\n",
      "  adding: kaggle/working/outputs_weighed/2022-01-26.csv (deflated 60%)\n",
      "  adding: kaggle/working/outputs_weighed/2017-12-31.csv (deflated 71%)\n",
      "  adding: kaggle/working/outputs_weighed/2015-04-16.csv (deflated 87%)\n",
      "  adding: kaggle/working/outputs_weighed/2014-10-05.csv (deflated 83%)\n",
      "  adding: kaggle/working/outputs_weighed/2016-07-23.csv (deflated 80%)\n",
      "  adding: kaggle/working/outputs_weighed/2021-05-18.csv (deflated 61%)\n",
      "  adding: kaggle/working/outputs_weighed/2015-05-31.csv (deflated 86%)\n",
      "  adding: kaggle/working/outputs_weighed/2019-07-15.csv (deflated 57%)\n",
      "  adding: kaggle/working/outputs_weighed/2019-03-05.csv (deflated 68%)\n",
      "  adding: kaggle/working/outputs_weighed/2021-08-27.csv (deflated 61%)\n",
      "  adding: kaggle/working/outputs_weighed/2022-04-20.csv (deflated 64%)\n",
      "  adding: kaggle/working/outputs_weighed/2022-09-03.csv (deflated 65%)\n",
      "  adding: kaggle/working/outputs_weighed/2018-02-09.csv (deflated 69%)\n",
      "  adding: kaggle/working/outputs_weighed/2015-07-02.csv (deflated 86%)\n",
      "  adding: kaggle/working/outputs_weighed/2017-05-22.csv (deflated 70%)\n",
      "  adding: kaggle/working/outputs_weighed/2014-10-03.csv (deflated 83%)\n",
      "  adding: kaggle/working/outputs_weighed/2015-05-22.csv (deflated 85%)\n",
      "  adding: kaggle/working/outputs_weighed/2022-06-09.csv (deflated 66%)\n",
      "  adding: kaggle/working/outputs_weighed/2020-04-05.csv (deflated 60%)\n",
      "  adding: kaggle/working/outputs_weighed/2015-02-18.csv (deflated 85%)\n",
      "  adding: kaggle/working/outputs_weighed/2018-03-20.csv (deflated 70%)\n",
      "  adding: kaggle/working/outputs_weighed/2016-07-19.csv (deflated 79%)\n",
      "  adding: kaggle/working/outputs_weighed/2014-01-09.csv (deflated 84%)\n",
      "  adding: kaggle/working/outputs_weighed/2016-12-10.csv (deflated 76%)\n",
      "  adding: kaggle/working/outputs_weighed/2020-10-06.csv (deflated 65%)\n",
      "  adding: kaggle/working/outputs_weighed/2015-05-17.csv (deflated 87%)\n",
      "  adding: kaggle/working/outputs_weighed/2020-11-14.csv (deflated 59%)\n",
      "  adding: kaggle/working/outputs_weighed/2020-10-27.csv (deflated 60%)\n",
      "  adding: kaggle/working/outputs_weighed/2019-03-27.csv (deflated 68%)\n",
      "  adding: kaggle/working/outputs_weighed/2014-09-28.csv (deflated 85%)\n",
      "  adding: kaggle/working/outputs_weighed/2014-09-30.csv (deflated 84%)\n",
      "  adding: kaggle/working/outputs_weighed/2021-08-07.csv (deflated 59%)\n",
      "  adding: kaggle/working/outputs_weighed/2020-06-16.csv (deflated 61%)\n",
      "  adding: kaggle/working/outputs_weighed/2015-05-24.csv (deflated 87%)\n",
      "  adding: kaggle/working/outputs_weighed/2019-09-01.csv (deflated 60%)\n",
      "  adding: kaggle/working/outputs_weighed/2018-06-03.csv (deflated 62%)\n",
      "  adding: kaggle/working/outputs_weighed/2016-12-02.csv (deflated 77%)\n",
      "  adding: kaggle/working/outputs_weighed/2022-07-26.csv (deflated 68%)\n",
      "  adding: kaggle/working/outputs_weighed/2018-03-24.csv (deflated 70%)\n",
      "  adding: kaggle/working/outputs_weighed/2016-09-03.csv (deflated 77%)\n",
      "  adding: kaggle/working/outputs_weighed/2019-02-11.csv (deflated 74%)\n",
      "  adding: kaggle/working/outputs_weighed/2022-08-22.csv (deflated 63%)\n",
      "  adding: kaggle/working/outputs_weighed/2017-11-30.csv (deflated 69%)\n",
      "  adding: kaggle/working/outputs_weighed/2015-06-28.csv (deflated 86%)\n",
      "  adding: kaggle/working/outputs_weighed/2021-01-01.csv (deflated 58%)\n",
      "  adding: kaggle/working/outputs_weighed/2015-05-30.csv (deflated 86%)\n",
      "  adding: kaggle/working/outputs_weighed/2014-09-07.csv (deflated 86%)\n",
      "  adding: kaggle/working/outputs_weighed/2022-06-30.csv (deflated 63%)\n",
      "  adding: kaggle/working/outputs_weighed/2014-09-16.csv (deflated 84%)\n",
      "  adding: kaggle/working/outputs_weighed/2016-01-01.csv (deflated 85%)\n",
      "  adding: kaggle/working/outputs_weighed/2017-04-18.csv (deflated 75%)\n",
      "  adding: kaggle/working/outputs_weighed/2016-01-16.csv (deflated 84%)\n",
      "  adding: kaggle/working/outputs_weighed/2020-04-07.csv (deflated 59%)\n",
      "  adding: kaggle/working/outputs_weighed/2014-07-21.csv (deflated 85%)\n",
      "  adding: kaggle/working/outputs_weighed/2018-06-05.csv (deflated 61%)\n",
      "  adding: kaggle/working/outputs_weighed/2018-11-16.csv (deflated 71%)\n",
      "  adding: kaggle/working/outputs_weighed/2018-04-16.csv (deflated 70%)\n",
      "  adding: kaggle/working/outputs_weighed/2015-04-08.csv (deflated 85%)\n",
      "  adding: kaggle/working/outputs_weighed/2019-04-04.csv (deflated 65%)\n",
      "  adding: kaggle/working/outputs_weighed/2019-08-07.csv (deflated 57%)\n",
      "  adding: kaggle/working/outputs_weighed/2019-12-31.csv (deflated 59%)\n",
      "  adding: kaggle/working/outputs_weighed/2015-08-19.csv (deflated 81%)\n",
      "  adding: kaggle/working/outputs_weighed/2014-01-27.csv (deflated 85%)\n",
      "  adding: kaggle/working/outputs_weighed/2014-05-14.csv (deflated 86%)\n",
      "  adding: kaggle/working/outputs_weighed/2022-06-22.csv (deflated 62%)\n",
      "  adding: kaggle/working/outputs_weighed/2021-09-13.csv (deflated 63%)\n",
      "  adding: kaggle/working/outputs_weighed/2019-10-20.csv (deflated 58%)\n",
      "  adding: kaggle/working/outputs_weighed/2021-07-12.csv (deflated 68%)\n",
      "  adding: kaggle/working/outputs_weighed/2021-05-05.csv (deflated 62%)\n",
      "  adding: kaggle/working/outputs_weighed/2014-01-06.csv (deflated 84%)\n",
      "  adding: kaggle/working/outputs_weighed/2016-11-30.csv (deflated 77%)\n",
      "  adding: kaggle/working/outputs_weighed/2019-12-10.csv (deflated 60%)\n",
      "  adding: kaggle/working/outputs_weighed/2014-11-20.csv (deflated 85%)\n",
      "  adding: kaggle/working/outputs_weighed/2015-06-27.csv (deflated 83%)\n",
      "  adding: kaggle/working/outputs_weighed/2017-10-29.csv (deflated 75%)\n",
      "  adding: kaggle/working/outputs_weighed/2017-11-22.csv (deflated 70%)\n",
      "  adding: kaggle/working/outputs_weighed/2021-09-11.csv (deflated 62%)\n",
      "  adding: kaggle/working/outputs_weighed/2022-02-04.csv (deflated 58%)\n",
      "  adding: kaggle/working/outputs_weighed/2021-09-10.csv (deflated 65%)\n",
      "  adding: kaggle/working/outputs_weighed/2016-02-06.csv (deflated 83%)\n",
      "  adding: kaggle/working/outputs_weighed/2018-01-02.csv (deflated 70%)\n",
      "  adding: kaggle/working/outputs_weighed/2019-04-14.csv (deflated 70%)\n",
      "  adding: kaggle/working/outputs_weighed/2021-05-17.csv (deflated 60%)\n",
      "  adding: kaggle/working/outputs_weighed/2020-10-13.csv (deflated 65%)\n",
      "  adding: kaggle/working/outputs_weighed/2018-11-05.csv (deflated 75%)\n",
      "  adding: kaggle/working/outputs_weighed/2018-02-20.csv (deflated 69%)\n",
      "  adding: kaggle/working/outputs_weighed/2019-07-21.csv (deflated 60%)\n",
      "  adding: kaggle/working/outputs_weighed/2022-02-22.csv (deflated 58%)\n",
      "  adding: kaggle/working/outputs_weighed/2016-06-15.csv (deflated 79%)\n",
      "  adding: kaggle/working/outputs_weighed/2014-02-27.csv (deflated 84%)\n",
      "  adding: kaggle/working/outputs_weighed/2015-08-01.csv (deflated 85%)\n",
      "  adding: kaggle/working/outputs_weighed/2020-03-08.csv (deflated 57%)\n",
      "  adding: kaggle/working/outputs_weighed/2022-04-30.csv (deflated 63%)\n",
      "  adding: kaggle/working/outputs_weighed/2015-05-05.csv (deflated 85%)\n",
      "  adding: kaggle/working/outputs_weighed/2018-09-01.csv (deflated 74%)\n",
      "  adding: kaggle/working/outputs_weighed/2017-02-09.csv (deflated 75%)\n",
      "  adding: kaggle/working/outputs_weighed/2020-07-25.csv (deflated 58%)\n",
      "  adding: kaggle/working/outputs_weighed/2019-04-03.csv (deflated 65%)\n",
      "  adding: kaggle/working/outputs_weighed/2020-04-20.csv (deflated 58%)\n",
      "  adding: kaggle/working/outputs_weighed/2021-12-19.csv (deflated 63%)\n",
      "  adding: kaggle/working/outputs_weighed/2017-06-02.csv (deflated 73%)\n",
      "  adding: kaggle/working/outputs_weighed/2014-03-20.csv (deflated 84%)\n",
      "  adding: kaggle/working/outputs_weighed/2014-03-09.csv (deflated 84%)\n",
      "  adding: kaggle/working/outputs_weighed/2014-03-21.csv (deflated 83%)\n",
      "  adding: kaggle/working/outputs_weighed/2022-09-28.csv (deflated 62%)\n",
      "  adding: kaggle/working/outputs_weighed/2017-10-19.csv (deflated 75%)\n",
      "  adding: kaggle/working/outputs_weighed/2019-11-14.csv (deflated 59%)\n",
      "  adding: kaggle/working/outputs_weighed/2020-09-24.csv (deflated 60%)\n",
      "  adding: kaggle/working/outputs_weighed/2020-03-11.csv (deflated 59%)\n",
      "  adding: kaggle/working/outputs_weighed/2017-09-14.csv (deflated 73%)\n",
      "  adding: kaggle/working/outputs_weighed/2020-04-24.csv (deflated 58%)\n",
      "  adding: kaggle/working/outputs_weighed/2019-09-06.csv (deflated 55%)\n",
      "  adding: kaggle/working/outputs_weighed/2022-03-13.csv (deflated 59%)\n",
      "  adding: kaggle/working/outputs_weighed/2015-02-10.csv (deflated 85%)\n",
      "  adding: kaggle/working/outputs_weighed/2015-08-14.csv (deflated 85%)\n",
      "  adding: kaggle/working/outputs_weighed/2014-01-30.csv (deflated 84%)\n",
      "  adding: kaggle/working/outputs_weighed/2014-02-10.csv (deflated 83%)\n",
      "  adding: kaggle/working/outputs_weighed/2018-09-02.csv (deflated 74%)\n",
      "  adding: kaggle/working/outputs_weighed/2021-07-18.csv (deflated 63%)\n",
      "  adding: kaggle/working/outputs_weighed/2020-06-07.csv (deflated 60%)\n",
      "  adding: kaggle/working/outputs_weighed/2015-04-23.csv (deflated 87%)\n",
      "  adding: kaggle/working/outputs_weighed/2020-06-23.csv (deflated 59%)\n",
      "  adding: kaggle/working/outputs_weighed/2014-01-08.csv (deflated 84%)\n",
      "  adding: kaggle/working/outputs_weighed/2018-06-01.csv (deflated 71%)\n",
      "  adding: kaggle/working/outputs_weighed/2019-05-16.csv (deflated 55%)\n",
      "  adding: kaggle/working/outputs_weighed/2022-05-01.csv (deflated 68%)\n",
      "  adding: kaggle/working/outputs_weighed/2016-12-17.csv (deflated 66%)\n",
      "  adding: kaggle/working/outputs_weighed/2018-01-07.csv (deflated 69%)\n",
      "  adding: kaggle/working/outputs_weighed/2020-02-12.csv (deflated 59%)\n",
      "  adding: kaggle/working/outputs_weighed/2021-08-25.csv (deflated 62%)\n",
      "  adding: kaggle/working/outputs_weighed/2018-08-08.csv (deflated 72%)\n",
      "  adding: kaggle/working/outputs_weighed/2022-04-01.csv (deflated 64%)\n",
      "  adding: kaggle/working/outputs_weighed/2014-04-10.csv (deflated 84%)\n",
      "  adding: kaggle/working/outputs_weighed/2015-10-06.csv (deflated 82%)\n",
      "  adding: kaggle/working/outputs_weighed/2020-08-11.csv (deflated 62%)\n",
      "  adding: kaggle/working/outputs_weighed/2021-01-02.csv (deflated 62%)\n",
      "  adding: kaggle/working/outputs_weighed/2018-11-07.csv (deflated 73%)\n",
      "  adding: kaggle/working/outputs_weighed/2018-07-02.csv (deflated 73%)\n",
      "  adding: kaggle/working/outputs_weighed/2022-10-27.csv (deflated 67%)\n",
      "  adding: kaggle/working/outputs_weighed/2018-10-29.csv (deflated 69%)\n",
      "  adding: kaggle/working/outputs_weighed/2018-05-15.csv (deflated 69%)\n",
      "  adding: kaggle/working/outputs_weighed/2021-10-01.csv (deflated 62%)\n",
      "  adding: kaggle/working/outputs_weighed/2017-12-26.csv (deflated 70%)\n",
      "  adding: kaggle/working/outputs_weighed/2015-08-11.csv (deflated 85%)\n",
      "  adding: kaggle/working/outputs_weighed/2019-05-21.csv (deflated 57%)\n",
      "  adding: kaggle/working/outputs_weighed/2018-12-08.csv (deflated 70%)\n",
      "  adding: kaggle/working/outputs_weighed/2016-08-13.csv (deflated 76%)\n",
      "  adding: kaggle/working/outputs_weighed/2021-10-18.csv (deflated 61%)\n",
      "  adding: kaggle/working/outputs_weighed/2016-05-15.csv (deflated 82%)\n",
      "  adding: kaggle/working/outputs_weighed/2014-07-17.csv (deflated 85%)\n",
      "  adding: kaggle/working/outputs_weighed/2016-02-21.csv (deflated 83%)\n",
      "  adding: kaggle/working/outputs_weighed/2021-12-03.csv (deflated 59%)\n",
      "  adding: kaggle/working/outputs_weighed/2016-07-30.csv (deflated 79%)\n",
      "  adding: kaggle/working/outputs_weighed/2019-07-09.csv (deflated 57%)\n",
      "  adding: kaggle/working/outputs_weighed/2018-10-10.csv (deflated 70%)\n",
      "  adding: kaggle/working/outputs_weighed/2022-10-30.csv (deflated 63%)\n",
      "  adding: kaggle/working/outputs_weighed/2016-05-20.csv (deflated 83%)\n",
      "  adding: kaggle/working/outputs_weighed/2021-03-14.csv (deflated 71%)\n",
      "  adding: kaggle/working/outputs_weighed/2019-01-24.csv (deflated 58%)\n",
      "  adding: kaggle/working/outputs_weighed/2017-06-06.csv (deflated 71%)\n",
      "  adding: kaggle/working/outputs_weighed/2022-05-14.csv (deflated 64%)\n",
      "  adding: kaggle/working/outputs_weighed/2020-04-27.csv (deflated 58%)\n",
      "  adding: kaggle/working/outputs_weighed/2019-12-17.csv (deflated 59%)\n",
      "  adding: kaggle/working/outputs_weighed/2022-11-08.csv (deflated 61%)\n",
      "  adding: kaggle/working/outputs_weighed/2018-07-15.csv (deflated 75%)\n",
      "  adding: kaggle/working/outputs_weighed/2017-10-21.csv (deflated 73%)\n",
      "  adding: kaggle/working/outputs_weighed/2019-07-31.csv (deflated 59%)\n",
      "  adding: kaggle/working/outputs_weighed/2016-11-29.csv (deflated 80%)\n",
      "  adding: kaggle/working/outputs_weighed/2016-09-25.csv (deflated 78%)\n",
      "  adding: kaggle/working/outputs_weighed/2019-05-28.csv (deflated 57%)\n",
      "  adding: kaggle/working/outputs_weighed/2014-08-04.csv (deflated 84%)\n",
      "  adding: kaggle/working/outputs_weighed/2017-06-08.csv (deflated 72%)\n",
      "  adding: kaggle/working/outputs_weighed/2021-07-05.csv (deflated 62%)\n",
      "  adding: kaggle/working/outputs_weighed/2020-08-08.csv (deflated 68%)\n",
      "  adding: kaggle/working/outputs_weighed/2014-06-25.csv (deflated 85%)\n",
      "  adding: kaggle/working/outputs_weighed/2022-10-24.csv (deflated 67%)\n",
      "  adding: kaggle/working/outputs_weighed/2020-02-20.csv (deflated 59%)\n",
      "  adding: kaggle/working/outputs_weighed/2020-05-07.csv (deflated 58%)\n",
      "  adding: kaggle/working/outputs_weighed/2020-05-25.csv (deflated 60%)\n",
      "  adding: kaggle/working/outputs_weighed/2017-02-27.csv (deflated 74%)\n",
      "  adding: kaggle/working/outputs_weighed/2014-11-27.csv (deflated 85%)\n",
      "  adding: kaggle/working/outputs_weighed/2022-06-24.csv (deflated 64%)\n",
      "  adding: kaggle/working/outputs_weighed/2017-06-12.csv (deflated 73%)\n",
      "  adding: kaggle/working/outputs_weighed/2020-05-22.csv (deflated 59%)\n",
      "  adding: kaggle/working/outputs_weighed/2018-11-15.csv (deflated 70%)\n",
      "  adding: kaggle/working/outputs_weighed/2015-01-03.csv (deflated 86%)\n",
      "  adding: kaggle/working/outputs_weighed/2016-06-27.csv (deflated 77%)\n",
      "  adding: kaggle/working/outputs_weighed/2018-03-05.csv (deflated 70%)\n",
      "  adding: kaggle/working/outputs_weighed/2020-07-16.csv (deflated 60%)\n",
      "  adding: kaggle/working/outputs_weighed/2021-07-06.csv (deflated 63%)\n",
      "  adding: kaggle/working/outputs_weighed/2016-12-01.csv (deflated 78%)\n",
      "  adding: kaggle/working/outputs_weighed/2020-07-19.csv (deflated 59%)\n",
      "  adding: kaggle/working/outputs_weighed/2019-08-21.csv (deflated 59%)\n",
      "  adding: kaggle/working/outputs_weighed/2022-10-28.csv (deflated 62%)\n",
      "  adding: kaggle/working/outputs_weighed/2015-04-20.csv (deflated 87%)\n",
      "  adding: kaggle/working/outputs_weighed/2016-06-02.csv (deflated 80%)\n",
      "  adding: kaggle/working/outputs_weighed/2017-06-09.csv (deflated 74%)\n",
      "  adding: kaggle/working/outputs_weighed/2014-03-17.csv (deflated 83%)\n",
      "  adding: kaggle/working/outputs_weighed/2016-03-26.csv (deflated 84%)\n",
      "  adding: kaggle/working/outputs_weighed/2021-11-09.csv (deflated 62%)\n",
      "  adding: kaggle/working/outputs_weighed/2018-11-04.csv (deflated 75%)\n",
      "  adding: kaggle/working/outputs_weighed/2015-01-17.csv (deflated 85%)\n",
      "  adding: kaggle/working/outputs_weighed/2017-03-09.csv (deflated 74%)\n",
      "  adding: kaggle/working/outputs_weighed/2018-07-28.csv (deflated 73%)\n",
      "  adding: kaggle/working/outputs_weighed/2021-10-15.csv (deflated 59%)\n",
      "  adding: kaggle/working/outputs_weighed/2019-11-29.csv (deflated 60%)\n",
      "  adding: kaggle/working/outputs_weighed/2019-03-03.csv (deflated 75%)\n",
      "  adding: kaggle/working/outputs_weighed/2020-03-24.csv (deflated 57%)\n",
      "  adding: kaggle/working/outputs_weighed/2021-05-04.csv (deflated 62%)\n",
      "  adding: kaggle/working/outputs_weighed/2018-06-20.csv (deflated 71%)\n",
      "  adding: kaggle/working/outputs_weighed/2018-07-26.csv (deflated 70%)\n",
      "  adding: kaggle/working/outputs_weighed/2015-07-25.csv (deflated 86%)\n",
      "  adding: kaggle/working/outputs_weighed/2016-02-04.csv (deflated 84%)\n",
      "  adding: kaggle/working/outputs_weighed/2020-03-19.csv (deflated 58%)\n",
      "  adding: kaggle/working/outputs_weighed/2021-06-13.csv (deflated 60%)\n",
      "  adding: kaggle/working/outputs_weighed/2020-04-06.csv (deflated 58%)\n",
      "  adding: kaggle/working/outputs_weighed/2018-09-27.csv (deflated 71%)\n",
      "  adding: kaggle/working/outputs_weighed/2021-03-20.csv (deflated 64%)\n",
      "  adding: kaggle/working/outputs_weighed/2021-07-23.csv (deflated 60%)\n",
      "  adding: kaggle/working/outputs_weighed/2019-01-01.csv (deflated 74%)\n",
      "  adding: kaggle/working/outputs_weighed/2018-10-31.csv (deflated 69%)\n",
      "  adding: kaggle/working/outputs_weighed/2017-12-18.csv (deflated 66%)\n",
      "  adding: kaggle/working/outputs_weighed/2018-03-04.csv (deflated 71%)\n",
      "  adding: kaggle/working/outputs_weighed/2017-01-20.csv (deflated 79%)\n",
      "  adding: kaggle/working/outputs_weighed/2016-01-29.csv (deflated 83%)\n",
      "  adding: kaggle/working/outputs_weighed/2020-02-11.csv (deflated 57%)\n",
      "  adding: kaggle/working/outputs_weighed/2016-05-09.csv (deflated 81%)\n",
      "  adding: kaggle/working/outputs_weighed/2016-12-13.csv (deflated 79%)\n",
      "  adding: kaggle/working/outputs_weighed/2021-11-17.csv (deflated 59%)\n",
      "  adding: kaggle/working/outputs_weighed/2017-02-11.csv (deflated 78%)\n",
      "  adding: kaggle/working/outputs_weighed/2020-03-18.csv (deflated 58%)\n",
      "  adding: kaggle/working/outputs_weighed/2020-10-14.csv (deflated 71%)\n",
      "  adding: kaggle/working/outputs_weighed/2015-09-28.csv (deflated 81%)\n",
      "  adding: kaggle/working/outputs_weighed/2015-11-24.csv (deflated 84%)\n",
      "  adding: kaggle/working/outputs_weighed/2018-12-04.csv (deflated 68%)\n",
      "  adding: kaggle/working/outputs_weighed/2018-10-07.csv (deflated 72%)\n",
      "  adding: kaggle/working/outputs_weighed/2017-12-15.csv (deflated 69%)\n",
      "  adding: kaggle/working/outputs_weighed/2022-09-21.csv (deflated 61%)\n",
      "  adding: kaggle/working/outputs_weighed/2020-05-24.csv (deflated 58%)\n",
      "  adding: kaggle/working/outputs_weighed/2018-02-12.csv (deflated 69%)\n",
      "  adding: kaggle/working/outputs_weighed/2021-01-23.csv (deflated 61%)\n",
      "  adding: kaggle/working/outputs_weighed/2016-01-18.csv (deflated 85%)\n",
      "  adding: kaggle/working/outputs_weighed/2021-04-17.csv (deflated 66%)\n",
      "  adding: kaggle/working/outputs_weighed/2015-05-12.csv (deflated 86%)\n",
      "  adding: kaggle/working/outputs_weighed/2016-08-09.csv (deflated 78%)\n",
      "  adding: kaggle/working/outputs_weighed/2020-09-12.csv (deflated 63%)\n",
      "  adding: kaggle/working/outputs_weighed/2019-06-07.csv (deflated 57%)\n",
      "  adding: kaggle/working/outputs_weighed/2015-11-17.csv (deflated 83%)\n",
      "  adding: kaggle/working/outputs_weighed/2018-01-14.csv (deflated 70%)\n",
      "  adding: kaggle/working/outputs_weighed/2020-06-25.csv (deflated 59%)\n",
      "  adding: kaggle/working/outputs_weighed/2019-09-02.csv (deflated 57%)\n"
     ]
    },
    {
     "data": {
      "text/html": [
       "<a href='file.zip' target='_blank'>file.zip</a><br>"
      ],
      "text/plain": [
       "/kaggle/working/file.zip"
      ]
     },
     "execution_count": 121,
     "metadata": {},
     "output_type": "execute_result"
    }
   ],
   "source": [
    "from IPython.display import FileLink\n",
    "\n",
    "!zip -r file_1.zip '/kaggle/working/outputs_weighed'\n",
    "FileLink(r'file_1.zip')"
   ]
  },
  {
   "cell_type": "code",
   "execution_count": 9,
   "metadata": {},
   "outputs": [
    {
     "name": "stdout",
     "output_type": "stream",
     "text": [
      "Name: lingua-language-detector\n",
      "Version: 1.3.2\n",
      "Summary: An accurate natural language detection library, suitable for long and short text alike\n",
      "Home-page: https://pemistahl.github.io/lingua-py\n",
      "Author: Peter M. Stahl\n",
      "Author-email: pemistahl@gmail.com\n",
      "License: Apache-2.0\n",
      "Location: c:\\users\\acer\\appdata\\roaming\\python\\python310\\site-packages\n",
      "Requires: numpy, regex\n",
      "Required-by: \n"
     ]
    }
   ],
   "source": [
    "!pip show lingua-language-detector"
   ]
  },
  {
   "cell_type": "code",
   "execution_count": 39,
   "metadata": {},
   "outputs": [],
   "source": [
    "import sys\n",
    "sys.path.insert(0, 'D:/Uni/FYP/GitHub/BitForecast/server')\n",
    "\n",
    "import snscrape.modules.twitter as sntwitter\n",
    "import pandas as pd\n",
    "\n",
    "import datetime\n",
    "import os\n",
    "from tqdm import tqdm\n",
    "\n",
    "FOLDER_PATH = 'D:/Uni/FYP/GitHub/BitForecast/ml/data/Tweets/tweets_complete'\n",
    "\n",
    "def dt(x):\n",
    "    '''\n",
    "    helper function to create pandas date\n",
    "    '''\n",
    "\n",
    "    t = pd.Timestamp(x)\n",
    "    return pd.Timestamp.date(t)\n",
    "\n",
    "def get_dates():\n",
    "    '''\n",
    "    Get list of dates that must be scraped\n",
    "    '''\n",
    "\n",
    "    today =  datetime.datetime.today().strftime('%Y-%m-%d')\n",
    "    latest_date = max([i.replace('.csv', '') for i in os.listdir(FOLDER_PATH)[:-1]])\n",
    "\n",
    "    # From dates after including date (don't refetch latest date)\n",
    "    from_date = pd.Timestamp(latest_date) + datetime.timedelta(days=1)\n",
    "\n",
    "    # Include fetching today's data\n",
    "    till_date = pd.Timestamp(today) + datetime.timedelta(days=1)\n",
    "\n",
    "    dates = pd.date_range(\n",
    "        from_date.date(),\n",
    "        till_date.date()-datetime.timedelta(days=1),freq='d'\n",
    "    )\n",
    "\n",
    "    return today, latest_date, dates\n",
    "\n",
    "def scrape_tweets(dates):\n",
    "    '''\n",
    "    Scrape tweets of the specified dates\n",
    "    '''\n",
    "\n",
    "    tweets_list = {}\n",
    "    for i, date in tqdm(enumerate(dates)):\n",
    "        print(f'Trying date: {date} | Currently at index: {i}')\n",
    "        try:\n",
    "            next_day = pd.Timestamp(date) + datetime.timedelta(days=1)\n",
    "            for j, tweet in tqdm(enumerate(sntwitter.TwitterSearchScraper(\n",
    "                f'#bitcoin -filter:retweets since:{dt(date).strftime(\"%Y-%m-%d\")} until:{dt(next_day).strftime(\"%Y-%m-%d\")}'\n",
    "            ).get_items())):\n",
    "                if j > 5:\n",
    "                    break\n",
    "                if not tweets_list.get(date):\n",
    "                    tweets_list[date] = []\n",
    "                tweets_list[date].append([tweet.date, tweet.user, tweet.retweetCount, tweet.likeCount, tweet.rawContent])\n",
    "        except Exception as e:\n",
    "            print(f'Error: {e}')\n",
    "\n",
    "    return tweets_list"
   ]
  },
  {
   "cell_type": "code",
   "execution_count": 40,
   "metadata": {},
   "outputs": [],
   "source": [
    "dates = get_dates()"
   ]
  },
  {
   "cell_type": "code",
   "execution_count": 41,
   "metadata": {
    "scrolled": true
   },
   "outputs": [
    {
     "name": "stderr",
     "output_type": "stream",
     "text": [
      "\r",
      "0it [00:00, ?it/s]"
     ]
    },
    {
     "name": "stdout",
     "output_type": "stream",
     "text": [
      "Trying date: 2023-03-19 | Currently at index: 0\n"
     ]
    },
    {
     "name": "stderr",
     "output_type": "stream",
     "text": [
      "\n",
      "0it [00:00, ?it/s]\u001b[A\n",
      "6it [00:01,  3.53it/s]\u001b[A\n",
      "1it [00:01,  1.71s/it]"
     ]
    },
    {
     "name": "stdout",
     "output_type": "stream",
     "text": [
      "Trying date: 2023-03-10 | Currently at index: 1\n"
     ]
    },
    {
     "name": "stderr",
     "output_type": "stream",
     "text": [
      "\n",
      "0it [00:00, ?it/s]\u001b[A\n",
      "6it [00:01,  3.59it/s]\u001b[A\n",
      "3it [00:03,  1.14s/it]"
     ]
    },
    {
     "name": "stdout",
     "output_type": "stream",
     "text": [
      "Trying date: DatetimeIndex(['2023-03-11', '2023-03-12', '2023-03-13', '2023-03-14',\n",
      "               '2023-03-15', '2023-03-16', '2023-03-17', '2023-03-18',\n",
      "               '2023-03-19'],\n",
      "              dtype='datetime64[ns]', freq='D') | Currently at index: 2\n",
      "Error: Cannot convert input [DatetimeIndex(['2023-03-11', '2023-03-12', '2023-03-13', '2023-03-14',\n",
      "               '2023-03-15', '2023-03-16', '2023-03-17', '2023-03-18',\n",
      "               '2023-03-19'],\n",
      "              dtype='datetime64[ns]', freq='D')] of type <class 'pandas.core.indexes.datetimes.DatetimeIndex'> to Timestamp\n"
     ]
    },
    {
     "name": "stderr",
     "output_type": "stream",
     "text": [
      "\n"
     ]
    }
   ],
   "source": [
    "t_w = scrape_tweets(dates)"
   ]
  },
  {
   "cell_type": "code",
   "execution_count": 56,
   "metadata": {
    "scrolled": true
   },
   "outputs": [
    {
     "data": {
      "text/plain": [
       "User(username='positivebitcoin', id=2905303429, displayname='crypto', rawDescription='毎日Bitcoin,Ethereum,BNBChainまわりの情報収集してます #BTC #ETH #BNB トークンを軸にコミュニティが形成されるのが当たり前になる社会が長期的にはくると思っている', renderedDescription='毎日Bitcoin,Ethereum,BNBChainまわりの情報収集してます #BTC #ETH #BNB トークンを軸にコミュニティが形成されるのが当たり前になる社会が長期的にはくると思っている', descriptionLinks=None, verified=False, created=datetime.datetime(2014, 11, 20, 15, 39, 28, tzinfo=datetime.timezone.utc), followersCount=2370, friendsCount=203, statusesCount=9135, favouritesCount=5415, listedCount=38, mediaCount=615, location='', protected=False, link=None, profileImageUrl='https://pbs.twimg.com/profile_images/1446049605263577090/Q9ryJT3x_normal.jpg', profileBannerUrl='https://pbs.twimg.com/profile_banners/2905303429/1676429141', label=None)"
      ]
     },
     "execution_count": 56,
     "metadata": {},
     "output_type": "execute_result"
    }
   ],
   "source": [
    "t_w['2023-03-19'][1][1]"
   ]
  },
  {
   "cell_type": "code",
   "execution_count": 59,
   "metadata": {},
   "outputs": [
    {
     "data": {
      "text/plain": [
       "(0, 0)"
      ]
     },
     "execution_count": 59,
     "metadata": {},
     "output_type": "execute_result"
    }
   ],
   "source": [
    "t_w['2023-03-19'][1][2], t_w['2023-03-19'][1][3]"
   ]
  },
  {
   "cell_type": "markdown",
   "metadata": {},
   "source": [
    "### Ditching NER and using a set formula for all tweets"
   ]
  },
  {
   "cell_type": "markdown",
   "metadata": {},
   "source": [
    "Total influence score = (α * Total number of followers) + (β * Total number of lists the user is a member of) + (γ * Number of retweets for the specific tweet) + (δ * Number of likes for the specific tweet)\n",
    "\n",
    "α = 0.5 (weight for the total number of followers)\n",
    "β = 0.3 (weight for the total number of lists the user is a member of)\n",
    "γ = 0.1 (weight for the number of retweets for the specific tweet)\n",
    "δ = 0.1 (weight for the number of likes for the specific tweet)"
   ]
  },
  {
   "cell_type": "code",
   "execution_count": 79,
   "metadata": {},
   "outputs": [],
   "source": [
    "import math\n",
    "\n",
    "compound_score = 1\n",
    "followers = 5415000\n",
    "lists = 38\n",
    "retweets = 0\n",
    "likes = 0\n",
    "\n",
    "log_followers = math.log10(followers + 1)\n",
    "log_lists = math.log10(lists + 1)\n",
    "log_retweets = math.log10(retweets + 1)\n",
    "log_likes = math.log10(likes + 1)\n",
    "\n",
    "weighted_followers = 0.5 * log_followers\n",
    "weighted_lists = 0.3 * log_lists\n",
    "weighted_retweets = 0.1 * log_retweets\n",
    "weighted_likes = 0.1 * log_likes\n",
    "\n",
    "weighted_sum = weighted_followers + weighted_lists + weighted_retweets + weighted_likes\n",
    "\n",
    "influencer_score = weighted_sum / (weighted_sum + 1)\n"
   ]
  },
  {
   "cell_type": "code",
   "execution_count": 80,
   "metadata": {},
   "outputs": [
    {
     "data": {
      "text/plain": [
       "0.7935640987148912"
      ]
     },
     "execution_count": 80,
     "metadata": {},
     "output_type": "execute_result"
    }
   ],
   "source": [
    "compound_score * influencer_score"
   ]
  },
  {
   "cell_type": "code",
   "execution_count": null,
   "metadata": {},
   "outputs": [],
   "source": []
  }
 ],
 "metadata": {
  "kernelspec": {
   "display_name": "Python 3 (ipykernel)",
   "language": "python",
   "name": "python3"
  },
  "language_info": {
   "codemirror_mode": {
    "name": "ipython",
    "version": 3
   },
   "file_extension": ".py",
   "mimetype": "text/x-python",
   "name": "python",
   "nbconvert_exporter": "python",
   "pygments_lexer": "ipython3",
   "version": "3.10.7"
  }
 },
 "nbformat": 4,
 "nbformat_minor": 4
}
