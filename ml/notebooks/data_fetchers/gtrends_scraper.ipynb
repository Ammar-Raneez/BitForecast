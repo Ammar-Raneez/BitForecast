{
 "cells": [
  {
   "cell_type": "code",
   "execution_count": 39,
   "id": "b7ea2f7d",
   "metadata": {},
   "outputs": [],
   "source": [
    "from pytrends.request import TrendReq\n",
    "from pytrends import dailydata\n",
    "\n",
    "import pandas as pd"
   ]
  },
  {
   "cell_type": "code",
   "execution_count": 11,
   "id": "59cf4e0d",
   "metadata": {},
   "outputs": [],
   "source": [
    "pytrends = TrendReq()"
   ]
  },
  {
   "cell_type": "code",
   "execution_count": 19,
   "id": "7eeb8b11",
   "metadata": {},
   "outputs": [],
   "source": [
    "kw_list = ['bitcoin', 'btc']\n",
    "\n",
    "pytrends.build_payload(\n",
    "    kw_list,\n",
    "    cat=0,\n",
    "    timeframe='2014-01-01 2022-11-06',\n",
    "    geo='',\n",
    "    gprop=''\n",
    ")"
   ]
  },
  {
   "cell_type": "markdown",
   "id": "459d0102",
   "metadata": {},
   "source": [
    "### Attempt direct method"
   ]
  },
  {
   "cell_type": "code",
   "execution_count": 20,
   "id": "7fbb9b56",
   "metadata": {},
   "outputs": [],
   "source": [
    "df = pytrends.interest_over_time()"
   ]
  },
  {
   "cell_type": "code",
   "execution_count": 21,
   "id": "04ed036e",
   "metadata": {},
   "outputs": [
    {
     "data": {
      "text/html": [
       "<div>\n",
       "<style scoped>\n",
       "    .dataframe tbody tr th:only-of-type {\n",
       "        vertical-align: middle;\n",
       "    }\n",
       "\n",
       "    .dataframe tbody tr th {\n",
       "        vertical-align: top;\n",
       "    }\n",
       "\n",
       "    .dataframe thead th {\n",
       "        text-align: right;\n",
       "    }\n",
       "</style>\n",
       "<table border=\"1\" class=\"dataframe\">\n",
       "  <thead>\n",
       "    <tr style=\"text-align: right;\">\n",
       "      <th></th>\n",
       "      <th>bitcoin</th>\n",
       "      <th>btc</th>\n",
       "      <th>isPartial</th>\n",
       "    </tr>\n",
       "    <tr>\n",
       "      <th>date</th>\n",
       "      <th></th>\n",
       "      <th></th>\n",
       "      <th></th>\n",
       "    </tr>\n",
       "  </thead>\n",
       "  <tbody>\n",
       "    <tr>\n",
       "      <th>2014-01-01</th>\n",
       "      <td>8</td>\n",
       "      <td>1</td>\n",
       "      <td>False</td>\n",
       "    </tr>\n",
       "    <tr>\n",
       "      <th>2014-02-01</th>\n",
       "      <td>9</td>\n",
       "      <td>1</td>\n",
       "      <td>False</td>\n",
       "    </tr>\n",
       "    <tr>\n",
       "      <th>2014-03-01</th>\n",
       "      <td>6</td>\n",
       "      <td>1</td>\n",
       "      <td>False</td>\n",
       "    </tr>\n",
       "    <tr>\n",
       "      <th>2014-04-01</th>\n",
       "      <td>4</td>\n",
       "      <td>1</td>\n",
       "      <td>False</td>\n",
       "    </tr>\n",
       "    <tr>\n",
       "      <th>2014-05-01</th>\n",
       "      <td>3</td>\n",
       "      <td>1</td>\n",
       "      <td>False</td>\n",
       "    </tr>\n",
       "  </tbody>\n",
       "</table>\n",
       "</div>"
      ],
      "text/plain": [
       "            bitcoin  btc  isPartial\n",
       "date                               \n",
       "2014-01-01        8    1      False\n",
       "2014-02-01        9    1      False\n",
       "2014-03-01        6    1      False\n",
       "2014-04-01        4    1      False\n",
       "2014-05-01        3    1      False"
      ]
     },
     "execution_count": 21,
     "metadata": {},
     "output_type": "execute_result"
    }
   ],
   "source": [
    "df.head()"
   ]
  },
  {
   "cell_type": "markdown",
   "id": "f6d8171a",
   "metadata": {},
   "source": [
    "**Data returned is in monthly format**"
   ]
  },
  {
   "cell_type": "markdown",
   "id": "29bd64a3",
   "metadata": {},
   "source": [
    "### Attempt daily method"
   ]
  },
  {
   "cell_type": "code",
   "execution_count": 31,
   "id": "c0f2f48b",
   "metadata": {
    "scrolled": true
   },
   "outputs": [
    {
     "name": "stdout",
     "output_type": "stream",
     "text": [
      "bitcoin:2014-01-01 2014-01-31\n",
      "bitcoin:2014-02-01 2014-02-28\n",
      "bitcoin:2014-03-01 2014-03-31\n",
      "bitcoin:2014-04-01 2014-04-30\n",
      "bitcoin:2014-05-01 2014-05-31\n",
      "bitcoin:2014-06-01 2014-06-30\n",
      "bitcoin:2014-07-01 2014-07-31\n",
      "bitcoin:2014-08-01 2014-08-31\n",
      "bitcoin:2014-09-01 2014-09-30\n",
      "bitcoin:2014-10-01 2014-10-31\n",
      "bitcoin:2014-11-01 2014-11-30\n",
      "bitcoin:2014-12-01 2014-12-31\n",
      "bitcoin:2015-01-01 2015-01-31\n",
      "bitcoin:2015-02-01 2015-02-28\n",
      "bitcoin:2015-03-01 2015-03-31\n",
      "bitcoin:2015-04-01 2015-04-30\n",
      "bitcoin:2015-05-01 2015-05-31\n",
      "bitcoin:2015-06-01 2015-06-30\n",
      "bitcoin:2015-07-01 2015-07-31\n",
      "bitcoin:2015-08-01 2015-08-31\n",
      "bitcoin:2015-09-01 2015-09-30\n",
      "bitcoin:2015-10-01 2015-10-31\n",
      "bitcoin:2015-11-01 2015-11-30\n",
      "bitcoin:2015-12-01 2015-12-31\n",
      "bitcoin:2016-01-01 2016-01-31\n",
      "bitcoin:2016-02-01 2016-02-29\n",
      "bitcoin:2016-03-01 2016-03-31\n"
     ]
    },
    {
     "ename": "ResponseError",
     "evalue": "The request failed: Google returned a response with code 429.",
     "output_type": "error",
     "traceback": [
      "\u001b[1;31m---------------------------------------------------------------------------\u001b[0m",
      "\u001b[1;31mResponseError\u001b[0m                             Traceback (most recent call last)",
      "\u001b[1;32m~\\AppData\\Local\\Temp\\ipykernel_17992\\2157454601.py\u001b[0m in \u001b[0;36m<module>\u001b[1;34m\u001b[0m\n\u001b[1;32m----> 1\u001b[1;33m \u001b[0mdf_3\u001b[0m \u001b[1;33m=\u001b[0m \u001b[0mdailydata\u001b[0m\u001b[1;33m.\u001b[0m\u001b[0mget_daily_data\u001b[0m\u001b[1;33m(\u001b[0m\u001b[1;34m'bitcoin'\u001b[0m\u001b[1;33m,\u001b[0m \u001b[1;36m2014\u001b[0m\u001b[1;33m,\u001b[0m \u001b[1;36m1\u001b[0m\u001b[1;33m,\u001b[0m \u001b[1;36m2022\u001b[0m\u001b[1;33m,\u001b[0m \u001b[1;36m12\u001b[0m\u001b[1;33m)\u001b[0m\u001b[1;33m\u001b[0m\u001b[1;33m\u001b[0m\u001b[0m\n\u001b[0m",
      "\u001b[1;32mc:\\users\\acer\\appdata\\local\\programs\\python\\python37\\lib\\site-packages\\pytrends\\dailydata.py\u001b[0m in \u001b[0;36mget_daily_data\u001b[1;34m(word, start_year, start_mon, stop_year, stop_mon, geo, verbose, wait_time)\u001b[0m\n\u001b[0;32m    113\u001b[0m         \u001b[1;32mif\u001b[0m \u001b[0mverbose\u001b[0m\u001b[1;33m:\u001b[0m\u001b[1;33m\u001b[0m\u001b[1;33m\u001b[0m\u001b[0m\n\u001b[0;32m    114\u001b[0m             \u001b[0mprint\u001b[0m\u001b[1;33m(\u001b[0m\u001b[1;34mf'{word}:{timeframe}'\u001b[0m\u001b[1;33m)\u001b[0m\u001b[1;33m\u001b[0m\u001b[1;33m\u001b[0m\u001b[0m\n\u001b[1;32m--> 115\u001b[1;33m         \u001b[0mresults\u001b[0m\u001b[1;33m[\u001b[0m\u001b[0mcurrent\u001b[0m\u001b[1;33m]\u001b[0m \u001b[1;33m=\u001b[0m \u001b[0m_fetch_data\u001b[0m\u001b[1;33m(\u001b[0m\u001b[0mpytrends\u001b[0m\u001b[1;33m,\u001b[0m \u001b[0mbuild_payload\u001b[0m\u001b[1;33m,\u001b[0m \u001b[0mtimeframe\u001b[0m\u001b[1;33m)\u001b[0m\u001b[1;33m\u001b[0m\u001b[1;33m\u001b[0m\u001b[0m\n\u001b[0m\u001b[0;32m    116\u001b[0m         \u001b[0mcurrent\u001b[0m \u001b[1;33m=\u001b[0m \u001b[0mlast_date_of_month\u001b[0m \u001b[1;33m+\u001b[0m \u001b[0mtimedelta\u001b[0m\u001b[1;33m(\u001b[0m\u001b[0mdays\u001b[0m\u001b[1;33m=\u001b[0m\u001b[1;36m1\u001b[0m\u001b[1;33m)\u001b[0m\u001b[1;33m\u001b[0m\u001b[1;33m\u001b[0m\u001b[0m\n\u001b[0;32m    117\u001b[0m         \u001b[0msleep\u001b[0m\u001b[1;33m(\u001b[0m\u001b[0mwait_time\u001b[0m\u001b[1;33m)\u001b[0m  \u001b[1;31m# don't go too fast or Google will send 429s\u001b[0m\u001b[1;33m\u001b[0m\u001b[1;33m\u001b[0m\u001b[0m\n",
      "\u001b[1;32mc:\\users\\acer\\appdata\\local\\programs\\python\\python37\\lib\\site-packages\\pytrends\\dailydata.py\u001b[0m in \u001b[0;36m_fetch_data\u001b[1;34m(pytrends, build_payload, timeframe)\u001b[0m\n\u001b[0;32m     43\u001b[0m         \u001b[1;32melse\u001b[0m\u001b[1;33m:\u001b[0m\u001b[1;33m\u001b[0m\u001b[1;33m\u001b[0m\u001b[0m\n\u001b[0;32m     44\u001b[0m             \u001b[0mfetched\u001b[0m \u001b[1;33m=\u001b[0m \u001b[1;32mTrue\u001b[0m\u001b[1;33m\u001b[0m\u001b[1;33m\u001b[0m\u001b[0m\n\u001b[1;32m---> 45\u001b[1;33m     \u001b[1;32mreturn\u001b[0m \u001b[0mpytrends\u001b[0m\u001b[1;33m.\u001b[0m\u001b[0minterest_over_time\u001b[0m\u001b[1;33m(\u001b[0m\u001b[1;33m)\u001b[0m\u001b[1;33m\u001b[0m\u001b[1;33m\u001b[0m\u001b[0m\n\u001b[0m\u001b[0;32m     46\u001b[0m \u001b[1;33m\u001b[0m\u001b[0m\n\u001b[0;32m     47\u001b[0m \u001b[1;33m\u001b[0m\u001b[0m\n",
      "\u001b[1;32mc:\\users\\acer\\appdata\\local\\programs\\python\\python37\\lib\\site-packages\\pytrends\\request.py\u001b[0m in \u001b[0;36minterest_over_time\u001b[1;34m(self)\u001b[0m\n\u001b[0;32m    228\u001b[0m             \u001b[0mmethod\u001b[0m\u001b[1;33m=\u001b[0m\u001b[0mTrendReq\u001b[0m\u001b[1;33m.\u001b[0m\u001b[0mGET_METHOD\u001b[0m\u001b[1;33m,\u001b[0m\u001b[1;33m\u001b[0m\u001b[1;33m\u001b[0m\u001b[0m\n\u001b[0;32m    229\u001b[0m             \u001b[0mtrim_chars\u001b[0m\u001b[1;33m=\u001b[0m\u001b[1;36m5\u001b[0m\u001b[1;33m,\u001b[0m\u001b[1;33m\u001b[0m\u001b[1;33m\u001b[0m\u001b[0m\n\u001b[1;32m--> 230\u001b[1;33m             \u001b[0mparams\u001b[0m\u001b[1;33m=\u001b[0m\u001b[0mover_time_payload\u001b[0m\u001b[1;33m,\u001b[0m\u001b[1;33m\u001b[0m\u001b[1;33m\u001b[0m\u001b[0m\n\u001b[0m\u001b[0;32m    231\u001b[0m         )\n\u001b[0;32m    232\u001b[0m \u001b[1;33m\u001b[0m\u001b[0m\n",
      "\u001b[1;32mc:\\users\\acer\\appdata\\local\\programs\\python\\python37\\lib\\site-packages\\pytrends\\request.py\u001b[0m in \u001b[0;36m_get_data\u001b[1;34m(self, url, method, trim_chars, **kwargs)\u001b[0m\n\u001b[0;32m    158\u001b[0m                 \u001b[1;34m'The request failed: Google returned a '\u001b[0m\u001b[1;33m\u001b[0m\u001b[1;33m\u001b[0m\u001b[0m\n\u001b[0;32m    159\u001b[0m                 \u001b[1;34m'response with code {0}.'\u001b[0m\u001b[1;33m.\u001b[0m\u001b[0mformat\u001b[0m\u001b[1;33m(\u001b[0m\u001b[0mresponse\u001b[0m\u001b[1;33m.\u001b[0m\u001b[0mstatus_code\u001b[0m\u001b[1;33m)\u001b[0m\u001b[1;33m,\u001b[0m\u001b[1;33m\u001b[0m\u001b[1;33m\u001b[0m\u001b[0m\n\u001b[1;32m--> 160\u001b[1;33m                 response=response)\n\u001b[0m\u001b[0;32m    161\u001b[0m \u001b[1;33m\u001b[0m\u001b[0m\n\u001b[0;32m    162\u001b[0m     def build_payload(self, kw_list, cat=0, timeframe='today 5-y', geo='',\n",
      "\u001b[1;31mResponseError\u001b[0m: The request failed: Google returned a response with code 429."
     ]
    }
   ],
   "source": [
    "df_daily = dailydata.get_daily_data('bitcoin', 2014, 1, 2022, 12)"
   ]
  },
  {
   "cell_type": "markdown",
   "id": "fb85b74d",
   "metadata": {},
   "source": [
    "**Google blocks request as it believes there's a spam request occuring**"
   ]
  },
  {
   "cell_type": "markdown",
   "id": "b35b4881",
   "metadata": {},
   "source": [
    "### Attempt daily method, but broken yearly"
   ]
  },
  {
   "cell_type": "code",
   "execution_count": 27,
   "id": "f3b03a6b",
   "metadata": {
    "scrolled": true
   },
   "outputs": [
    {
     "name": "stdout",
     "output_type": "stream",
     "text": [
      "bitcoin:2014-01-01 2014-01-31\n",
      "bitcoin:2014-02-01 2014-02-28\n",
      "bitcoin:2014-03-01 2014-03-31\n",
      "bitcoin:2014-04-01 2014-04-30\n",
      "bitcoin:2014-05-01 2014-05-31\n",
      "bitcoin:2014-06-01 2014-06-30\n",
      "bitcoin:2014-07-01 2014-07-31\n",
      "bitcoin:2014-08-01 2014-08-31\n",
      "bitcoin:2014-09-01 2014-09-30\n",
      "bitcoin:2014-10-01 2014-10-31\n",
      "bitcoin:2014-11-01 2014-11-30\n",
      "bitcoin:2014-12-01 2014-12-31\n",
      "bitcoin:2015-01-01 2015-01-31\n"
     ]
    }
   ],
   "source": [
    "df_1 = dailydata.get_daily_data('bitcoin', 2014, 1, 2015, 1)"
   ]
  },
  {
   "cell_type": "code",
   "execution_count": 29,
   "id": "92c94c62",
   "metadata": {},
   "outputs": [
    {
     "name": "stdout",
     "output_type": "stream",
     "text": [
      "bitcoin:2015-01-01 2015-01-31\n",
      "bitcoin:2015-02-01 2015-02-28\n",
      "bitcoin:2015-03-01 2015-03-31\n",
      "bitcoin:2015-04-01 2015-04-30\n",
      "bitcoin:2015-05-01 2015-05-31\n",
      "bitcoin:2015-06-01 2015-06-30\n",
      "bitcoin:2015-07-01 2015-07-31\n",
      "bitcoin:2015-08-01 2015-08-31\n",
      "bitcoin:2015-09-01 2015-09-30\n",
      "bitcoin:2015-10-01 2015-10-31\n",
      "bitcoin:2015-11-01 2015-11-30\n",
      "bitcoin:2015-12-01 2015-12-31\n",
      "bitcoin:2016-01-01 2016-01-31\n"
     ]
    }
   ],
   "source": [
    "df_2 = dailydata.get_daily_data('bitcoin', 2015, 1, 2016, 1)"
   ]
  },
  {
   "cell_type": "code",
   "execution_count": 35,
   "id": "7d596fae",
   "metadata": {
    "scrolled": true
   },
   "outputs": [
    {
     "name": "stdout",
     "output_type": "stream",
     "text": [
      "bitcoin:2016-01-01 2016-01-31\n",
      "bitcoin:2016-02-01 2016-02-29\n",
      "bitcoin:2016-03-01 2016-03-31\n",
      "bitcoin:2016-04-01 2016-04-30\n",
      "bitcoin:2016-05-01 2016-05-31\n",
      "bitcoin:2016-06-01 2016-06-30\n",
      "bitcoin:2016-07-01 2016-07-31\n",
      "bitcoin:2016-08-01 2016-08-31\n",
      "bitcoin:2016-09-01 2016-09-30\n",
      "bitcoin:2016-10-01 2016-10-31\n",
      "bitcoin:2016-11-01 2016-11-30\n",
      "bitcoin:2016-12-01 2016-12-31\n",
      "bitcoin:2017-01-01 2017-01-31\n"
     ]
    }
   ],
   "source": [
    "df_3 = dailydata.get_daily_data('bitcoin', 2016, 1, 2017, 1)"
   ]
  },
  {
   "cell_type": "markdown",
   "id": "e5eff4bc",
   "metadata": {},
   "source": [
    "*Create checkpoint*"
   ]
  },
  {
   "cell_type": "code",
   "execution_count": 41,
   "id": "70d09d83",
   "metadata": {},
   "outputs": [],
   "source": [
    "df_2014_2017 = pd.concat([df_1, df_2, df_3])"
   ]
  },
  {
   "cell_type": "code",
   "execution_count": 44,
   "id": "28fdfd2f",
   "metadata": {},
   "outputs": [
    {
     "data": {
      "text/html": [
       "<div>\n",
       "<style scoped>\n",
       "    .dataframe tbody tr th:only-of-type {\n",
       "        vertical-align: middle;\n",
       "    }\n",
       "\n",
       "    .dataframe tbody tr th {\n",
       "        vertical-align: top;\n",
       "    }\n",
       "\n",
       "    .dataframe thead th {\n",
       "        text-align: right;\n",
       "    }\n",
       "</style>\n",
       "<table border=\"1\" class=\"dataframe\">\n",
       "  <thead>\n",
       "    <tr style=\"text-align: right;\">\n",
       "      <th></th>\n",
       "      <th>bitcoin_unscaled</th>\n",
       "      <th>bitcoin_monthly</th>\n",
       "      <th>isPartial</th>\n",
       "      <th>scale</th>\n",
       "      <th>bitcoin</th>\n",
       "    </tr>\n",
       "    <tr>\n",
       "      <th>date</th>\n",
       "      <th></th>\n",
       "      <th></th>\n",
       "      <th></th>\n",
       "      <th></th>\n",
       "      <th></th>\n",
       "    </tr>\n",
       "  </thead>\n",
       "  <tbody>\n",
       "    <tr>\n",
       "      <th>2014-01-01</th>\n",
       "      <td>46</td>\n",
       "      <td>NaN</td>\n",
       "      <td>NaN</td>\n",
       "      <td>NaN</td>\n",
       "      <td>NaN</td>\n",
       "    </tr>\n",
       "    <tr>\n",
       "      <th>2014-01-02</th>\n",
       "      <td>50</td>\n",
       "      <td>NaN</td>\n",
       "      <td>NaN</td>\n",
       "      <td>NaN</td>\n",
       "      <td>NaN</td>\n",
       "    </tr>\n",
       "    <tr>\n",
       "      <th>2014-01-03</th>\n",
       "      <td>52</td>\n",
       "      <td>NaN</td>\n",
       "      <td>NaN</td>\n",
       "      <td>NaN</td>\n",
       "      <td>NaN</td>\n",
       "    </tr>\n",
       "    <tr>\n",
       "      <th>2014-01-04</th>\n",
       "      <td>45</td>\n",
       "      <td>NaN</td>\n",
       "      <td>NaN</td>\n",
       "      <td>NaN</td>\n",
       "      <td>NaN</td>\n",
       "    </tr>\n",
       "    <tr>\n",
       "      <th>2014-01-05</th>\n",
       "      <td>52</td>\n",
       "      <td>50.0</td>\n",
       "      <td>False</td>\n",
       "      <td>0.5</td>\n",
       "      <td>26.0</td>\n",
       "    </tr>\n",
       "  </tbody>\n",
       "</table>\n",
       "</div>"
      ],
      "text/plain": [
       "            bitcoin_unscaled  bitcoin_monthly isPartial  scale  bitcoin\n",
       "date                                                                   \n",
       "2014-01-01                46              NaN       NaN    NaN      NaN\n",
       "2014-01-02                50              NaN       NaN    NaN      NaN\n",
       "2014-01-03                52              NaN       NaN    NaN      NaN\n",
       "2014-01-04                45              NaN       NaN    NaN      NaN\n",
       "2014-01-05                52             50.0     False    0.5     26.0"
      ]
     },
     "execution_count": 44,
     "metadata": {},
     "output_type": "execute_result"
    }
   ],
   "source": [
    "df_2014_2017.head()"
   ]
  },
  {
   "cell_type": "code",
   "execution_count": 43,
   "id": "c2d2bf12",
   "metadata": {
    "scrolled": true
   },
   "outputs": [
    {
     "data": {
      "text/html": [
       "<div>\n",
       "<style scoped>\n",
       "    .dataframe tbody tr th:only-of-type {\n",
       "        vertical-align: middle;\n",
       "    }\n",
       "\n",
       "    .dataframe tbody tr th {\n",
       "        vertical-align: top;\n",
       "    }\n",
       "\n",
       "    .dataframe thead th {\n",
       "        text-align: right;\n",
       "    }\n",
       "</style>\n",
       "<table border=\"1\" class=\"dataframe\">\n",
       "  <thead>\n",
       "    <tr style=\"text-align: right;\">\n",
       "      <th></th>\n",
       "      <th>bitcoin_unscaled</th>\n",
       "      <th>bitcoin_monthly</th>\n",
       "      <th>isPartial</th>\n",
       "      <th>scale</th>\n",
       "      <th>bitcoin</th>\n",
       "    </tr>\n",
       "    <tr>\n",
       "      <th>date</th>\n",
       "      <th></th>\n",
       "      <th></th>\n",
       "      <th></th>\n",
       "      <th></th>\n",
       "      <th></th>\n",
       "    </tr>\n",
       "  </thead>\n",
       "  <tbody>\n",
       "    <tr>\n",
       "      <th>2017-01-27</th>\n",
       "      <td>36</td>\n",
       "      <td>48.0</td>\n",
       "      <td>NaN</td>\n",
       "      <td>0.48</td>\n",
       "      <td>17.28</td>\n",
       "    </tr>\n",
       "    <tr>\n",
       "      <th>2017-01-28</th>\n",
       "      <td>35</td>\n",
       "      <td>48.0</td>\n",
       "      <td>NaN</td>\n",
       "      <td>0.48</td>\n",
       "      <td>16.80</td>\n",
       "    </tr>\n",
       "    <tr>\n",
       "      <th>2017-01-29</th>\n",
       "      <td>37</td>\n",
       "      <td>52.0</td>\n",
       "      <td>False</td>\n",
       "      <td>0.52</td>\n",
       "      <td>19.24</td>\n",
       "    </tr>\n",
       "    <tr>\n",
       "      <th>2017-01-30</th>\n",
       "      <td>37</td>\n",
       "      <td>52.0</td>\n",
       "      <td>NaN</td>\n",
       "      <td>0.52</td>\n",
       "      <td>19.24</td>\n",
       "    </tr>\n",
       "    <tr>\n",
       "      <th>2017-01-31</th>\n",
       "      <td>38</td>\n",
       "      <td>52.0</td>\n",
       "      <td>NaN</td>\n",
       "      <td>0.52</td>\n",
       "      <td>19.76</td>\n",
       "    </tr>\n",
       "  </tbody>\n",
       "</table>\n",
       "</div>"
      ],
      "text/plain": [
       "            bitcoin_unscaled  bitcoin_monthly isPartial  scale  bitcoin\n",
       "date                                                                   \n",
       "2017-01-27                36             48.0       NaN   0.48    17.28\n",
       "2017-01-28                35             48.0       NaN   0.48    16.80\n",
       "2017-01-29                37             52.0     False   0.52    19.24\n",
       "2017-01-30                37             52.0       NaN   0.52    19.24\n",
       "2017-01-31                38             52.0       NaN   0.52    19.76"
      ]
     },
     "execution_count": 43,
     "metadata": {},
     "output_type": "execute_result"
    }
   ],
   "source": [
    "df_2014_2017.tail()"
   ]
  },
  {
   "cell_type": "code",
   "execution_count": 46,
   "id": "c1a8caa1",
   "metadata": {},
   "outputs": [],
   "source": [
    "df_2014_2017.to_csv('../../data/BTC_GTrends_2014_2017.csv')"
   ]
  },
  {
   "cell_type": "markdown",
   "id": "3fa1c60f",
   "metadata": {},
   "source": [
    "*Continue fetch*"
   ]
  },
  {
   "cell_type": "code",
   "execution_count": 49,
   "id": "c027bb07",
   "metadata": {
    "scrolled": false
   },
   "outputs": [
    {
     "name": "stdout",
     "output_type": "stream",
     "text": [
      "bitcoin:2017-01-01 2017-01-31\n",
      "bitcoin:2017-02-01 2017-02-28\n",
      "bitcoin:2017-03-01 2017-03-31\n",
      "bitcoin:2017-04-01 2017-04-30\n",
      "bitcoin:2017-05-01 2017-05-31\n",
      "bitcoin:2017-06-01 2017-06-30\n",
      "bitcoin:2017-07-01 2017-07-31\n",
      "bitcoin:2017-08-01 2017-08-31\n",
      "bitcoin:2017-09-01 2017-09-30\n",
      "bitcoin:2017-10-01 2017-10-31\n",
      "bitcoin:2017-11-01 2017-11-30\n",
      "bitcoin:2017-12-01 2017-12-31\n",
      "bitcoin:2018-01-01 2018-01-31\n"
     ]
    }
   ],
   "source": [
    "df_4 = dailydata.get_daily_data('bitcoin', 2017, 1, 2018, 1)"
   ]
  },
  {
   "cell_type": "code",
   "execution_count": 53,
   "id": "86e7af35",
   "metadata": {},
   "outputs": [
    {
     "name": "stdout",
     "output_type": "stream",
     "text": [
      "bitcoin:2018-01-01 2018-01-31\n",
      "bitcoin:2018-02-01 2018-02-28\n",
      "bitcoin:2018-03-01 2018-03-31\n",
      "bitcoin:2018-04-01 2018-04-30\n",
      "bitcoin:2018-05-01 2018-05-31\n",
      "bitcoin:2018-06-01 2018-06-30\n",
      "bitcoin:2018-07-01 2018-07-31\n",
      "bitcoin:2018-08-01 2018-08-31\n",
      "bitcoin:2018-09-01 2018-09-30\n",
      "bitcoin:2018-10-01 2018-10-31\n",
      "bitcoin:2018-11-01 2018-11-30\n",
      "bitcoin:2018-12-01 2018-12-31\n",
      "bitcoin:2019-01-01 2019-01-31\n"
     ]
    }
   ],
   "source": [
    "df_5 = dailydata.get_daily_data('bitcoin', 2018, 1, 2019, 1)"
   ]
  },
  {
   "cell_type": "code",
   "execution_count": 55,
   "id": "54bd1d2b",
   "metadata": {},
   "outputs": [
    {
     "name": "stdout",
     "output_type": "stream",
     "text": [
      "bitcoin:2019-01-01 2019-01-31\n",
      "bitcoin:2019-02-01 2019-02-28\n",
      "bitcoin:2019-03-01 2019-03-31\n",
      "bitcoin:2019-04-01 2019-04-30\n",
      "bitcoin:2019-05-01 2019-05-31\n",
      "bitcoin:2019-06-01 2019-06-30\n",
      "bitcoin:2019-07-01 2019-07-31\n",
      "bitcoin:2019-08-01 2019-08-31\n",
      "bitcoin:2019-09-01 2019-09-30\n",
      "bitcoin:2019-10-01 2019-10-31\n",
      "bitcoin:2019-11-01 2019-11-30\n",
      "bitcoin:2019-12-01 2019-12-31\n",
      "bitcoin:2020-01-01 2020-01-31\n"
     ]
    }
   ],
   "source": [
    "df_6 = dailydata.get_daily_data('bitcoin', 2019, 1, 2020, 1)"
   ]
  },
  {
   "cell_type": "markdown",
   "id": "acbb1d6c",
   "metadata": {},
   "source": [
    "*Create checkpoint*"
   ]
  },
  {
   "cell_type": "code",
   "execution_count": 56,
   "id": "09e0c6e6",
   "metadata": {},
   "outputs": [],
   "source": [
    "df_2017_2020 = pd.concat([df_4, df_5, df_6])"
   ]
  },
  {
   "cell_type": "code",
   "execution_count": 57,
   "id": "4f46a981",
   "metadata": {},
   "outputs": [],
   "source": [
    "df_2017_2020.to_csv('../../data/BTC_GTrends_2017_2020.csv')"
   ]
  },
  {
   "cell_type": "markdown",
   "id": "469293c9",
   "metadata": {},
   "source": [
    "*Continue fetch*"
   ]
  },
  {
   "cell_type": "code",
   "execution_count": 63,
   "id": "b33b6ec6",
   "metadata": {
    "scrolled": true
   },
   "outputs": [
    {
     "name": "stdout",
     "output_type": "stream",
     "text": [
      "bitcoin:2020-01-01 2020-01-31\n",
      "bitcoin:2020-02-01 2020-02-29\n",
      "bitcoin:2020-03-01 2020-03-31\n",
      "bitcoin:2020-04-01 2020-04-30\n",
      "bitcoin:2020-05-01 2020-05-31\n",
      "bitcoin:2020-06-01 2020-06-30\n",
      "bitcoin:2020-07-01 2020-07-31\n",
      "bitcoin:2020-08-01 2020-08-31\n",
      "bitcoin:2020-09-01 2020-09-30\n",
      "bitcoin:2020-10-01 2020-10-31\n",
      "bitcoin:2020-11-01 2020-11-30\n",
      "bitcoin:2020-12-01 2020-12-31\n",
      "bitcoin:2021-01-01 2021-01-31\n"
     ]
    }
   ],
   "source": [
    "df_7 = dailydata.get_daily_data('bitcoin', 2020, 1, 2021, 1)"
   ]
  },
  {
   "cell_type": "code",
   "execution_count": 66,
   "id": "d2be757e",
   "metadata": {},
   "outputs": [
    {
     "name": "stdout",
     "output_type": "stream",
     "text": [
      "bitcoin:2021-01-01 2021-01-31\n",
      "bitcoin:2021-02-01 2021-02-28\n",
      "bitcoin:2021-03-01 2021-03-31\n",
      "bitcoin:2021-04-01 2021-04-30\n",
      "bitcoin:2021-05-01 2021-05-31\n",
      "bitcoin:2021-06-01 2021-06-30\n",
      "bitcoin:2021-07-01 2021-07-31\n",
      "bitcoin:2021-08-01 2021-08-31\n",
      "bitcoin:2021-09-01 2021-09-30\n",
      "bitcoin:2021-10-01 2021-10-31\n",
      "bitcoin:2021-11-01 2021-11-30\n",
      "bitcoin:2021-12-01 2021-12-31\n",
      "bitcoin:2022-01-01 2022-01-31\n"
     ]
    }
   ],
   "source": [
    "df_8 = dailydata.get_daily_data('bitcoin', 2021, 1, 2022, 1)"
   ]
  },
  {
   "cell_type": "markdown",
   "id": "a972dbe3",
   "metadata": {},
   "source": [
    "*Create checkpoint*"
   ]
  },
  {
   "cell_type": "code",
   "execution_count": 70,
   "id": "461da5a3",
   "metadata": {},
   "outputs": [],
   "source": [
    "df_2020_2022 = pd.concat([df_7, df_8])"
   ]
  },
  {
   "cell_type": "code",
   "execution_count": 72,
   "id": "9f95f096",
   "metadata": {},
   "outputs": [],
   "source": [
    "df_2020_2022.to_csv('../../data/BTC_GTrends_2020_2022.csv')"
   ]
  },
  {
   "cell_type": "markdown",
   "id": "6d29e84e",
   "metadata": {},
   "source": [
    "*Fetch last bit*"
   ]
  },
  {
   "cell_type": "code",
   "execution_count": 79,
   "id": "1d2abd3f",
   "metadata": {
    "scrolled": true
   },
   "outputs": [
    {
     "name": "stdout",
     "output_type": "stream",
     "text": [
      "bitcoin:2022-01-01 2022-01-31\n",
      "bitcoin:2022-02-01 2022-02-28\n",
      "bitcoin:2022-03-01 2022-03-31\n",
      "bitcoin:2022-04-01 2022-04-30\n",
      "bitcoin:2022-05-01 2022-05-31\n",
      "bitcoin:2022-06-01 2022-06-30\n",
      "bitcoin:2022-07-01 2022-07-31\n",
      "bitcoin:2022-08-01 2022-08-31\n",
      "bitcoin:2022-09-01 2022-09-30\n",
      "bitcoin:2022-10-01 2022-10-31\n",
      "bitcoin:2022-11-01 2022-11-30\n"
     ]
    }
   ],
   "source": [
    "df_9 = dailydata.get_daily_data('bitcoin', 2022, 1, 2022, 11)"
   ]
  },
  {
   "cell_type": "markdown",
   "id": "44acadff",
   "metadata": {},
   "source": [
    "*Create combined trend dataset*"
   ]
  },
  {
   "cell_type": "code",
   "execution_count": 80,
   "id": "1c320759",
   "metadata": {},
   "outputs": [],
   "source": [
    "df_total = pd.concat([df_1, df_2, df_3, df_4, df_5, df_6, df_7, df_8, df_9])"
   ]
  },
  {
   "cell_type": "code",
   "execution_count": 82,
   "id": "e5dd1af5",
   "metadata": {},
   "outputs": [],
   "source": [
    "df_total.to_csv('../../data/BTC_GTrends_2014_2022.csv')"
   ]
  },
  {
   "cell_type": "code",
   "execution_count": null,
   "id": "cd939aba",
   "metadata": {},
   "outputs": [],
   "source": []
  }
 ],
 "metadata": {
  "kernelspec": {
   "display_name": "Python 3 (ipykernel)",
   "language": "python",
   "name": "python3"
  },
  "language_info": {
   "codemirror_mode": {
    "name": "ipython",
    "version": 3
   },
   "file_extension": ".py",
   "mimetype": "text/x-python",
   "name": "python",
   "nbconvert_exporter": "python",
   "pygments_lexer": "ipython3",
   "version": "3.7.4"
  }
 },
 "nbformat": 4,
 "nbformat_minor": 5
}
