{
 "cells": [
  {
   "cell_type": "markdown",
   "id": "049399a9",
   "metadata": {},
   "source": [
    "### Scrapes historical price values"
   ]
  },
  {
   "cell_type": "code",
   "execution_count": 1,
   "id": "b30b7844",
   "metadata": {},
   "outputs": [],
   "source": [
    "import requests\n",
    "import json\n",
    "import pandas as pd"
   ]
  },
  {
   "cell_type": "code",
   "execution_count": 2,
   "id": "64b6cb1a",
   "metadata": {},
   "outputs": [],
   "source": [
    "# API reference: http://api.scraperlink.com/investpy/\n",
    "BASE_URL = 'http://api.scraperlink.com/investpy/?email=your@email.com&type=historical_data&product=cryptos&symbol=BTC'"
   ]
  },
  {
   "cell_type": "code",
   "execution_count": 3,
   "id": "9774540f",
   "metadata": {
    "scrolled": false
   },
   "outputs": [],
   "source": [
    "def get_crypto_data(start, end):\n",
    "    '''\n",
    "    Scrape data current solution\n",
    "    Possible to break in future, therefore must create a dedicated scraper, if time permits\n",
    "    '''\n",
    "    response = requests.request(\n",
    "        'GET',\n",
    "        f'{BASE_URL}&from_date={start}&to_date={end}'\n",
    "    )\n",
    "    return response.json()['data']\n",
    "\n",
    "def create_dataframe(prices):\n",
    "    '''\n",
    "    Create dataframe of fetched prices\n",
    "    '''\n",
    "    return pd.DataFrame(prices)\n",
    "\n",
    "def clean_data(df):\n",
    "    '''\n",
    "    Clean data and remove unneeded columns\n",
    "    '''\n",
    "    df.drop(['direction_color', 'rowDateRaw', 'last_close', 'last_open', 'last_max', 'last_min', 'volume', 'change_precent'], axis=1, inplace=True)\n",
    "    df.rename(columns={'volumeRaw': 'volume', 'last_closeRaw': 'close', 'last_openRaw': 'open', 'last_maxRaw': 'max', 'last_minRaw': 'min', 'change_precentRaw': 'change_percent'}, inplace=True)\n",
    "    df['date'] = pd.to_datetime(df['rowDate'])\n",
    "    df.drop(['rowDate', 'rowDateTimestamp'], axis=1, inplace=True)\n",
    "    df.sort_values(['date'], inplace=True)\n",
    "    df.set_index('date', inplace=True)\n",
    "    return df\n",
    "\n",
    "def export_data(df):\n",
    "    '''\n",
    "    Save data\n",
    "    '''\n",
    "    df.to_csv('../../data/BTC_Prices.csv')"
   ]
  },
  {
   "cell_type": "code",
   "execution_count": 4,
   "id": "3b0aac0e",
   "metadata": {},
   "outputs": [],
   "source": [
    "prices = get_crypto_data('09/27/2017', '09/28/2022')"
   ]
  },
  {
   "cell_type": "code",
   "execution_count": 22,
   "id": "6577242b",
   "metadata": {},
   "outputs": [],
   "source": [
    "df = create_dataframe(prices)"
   ]
  },
  {
   "cell_type": "code",
   "execution_count": null,
   "id": "c963ca45",
   "metadata": {},
   "outputs": [],
   "source": [
    "export_data(df)"
   ]
  },
  {
   "cell_type": "code",
   "execution_count": null,
   "id": "65976682",
   "metadata": {},
   "outputs": [],
   "source": []
  }
 ],
 "metadata": {
  "kernelspec": {
   "display_name": "Python 3 (ipykernel)",
   "language": "python",
   "name": "python3"
  },
  "language_info": {
   "codemirror_mode": {
    "name": "ipython",
    "version": 3
   },
   "file_extension": ".py",
   "mimetype": "text/x-python",
   "name": "python",
   "nbconvert_exporter": "python",
   "pygments_lexer": "ipython3",
   "version": "3.7.4"
  }
 },
 "nbformat": 4,
 "nbformat_minor": 5
}
