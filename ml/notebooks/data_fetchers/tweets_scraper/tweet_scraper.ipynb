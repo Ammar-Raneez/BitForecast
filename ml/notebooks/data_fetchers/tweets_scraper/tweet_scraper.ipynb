{
 "cells": [
  {
   "cell_type": "markdown",
   "metadata": {},
   "source": [
    "### Scrape tweets of missing dates"
   ]
  },
  {
   "cell_type": "code",
   "execution_count": 23,
   "metadata": {
    "execution": {
     "iopub.execute_input": "2022-11-10T14:47:26.603753Z",
     "iopub.status.busy": "2022-11-10T14:47:26.602479Z",
     "iopub.status.idle": "2022-11-10T14:47:38.897934Z",
     "shell.execute_reply": "2022-11-10T14:47:38.896560Z",
     "shell.execute_reply.started": "2022-11-10T14:47:26.603689Z"
    }
   },
   "outputs": [
    {
     "name": "stdout",
     "output_type": "stream",
     "text": [
      "Collecting snscrape\n",
      "  Downloading snscrape-0.3.4-py3-none-any.whl (35 kB)\n",
      "Requirement already satisfied: lxml in /opt/conda/lib/python3.7/site-packages (from snscrape) (4.9.1)\n",
      "Requirement already satisfied: beautifulsoup4 in /opt/conda/lib/python3.7/site-packages (from snscrape) (4.11.1)\n",
      "Requirement already satisfied: requests[socks] in /opt/conda/lib/python3.7/site-packages (from snscrape) (2.28.1)\n",
      "Requirement already satisfied: soupsieve>1.2 in /opt/conda/lib/python3.7/site-packages (from beautifulsoup4->snscrape) (2.3.1)\n",
      "Requirement already satisfied: certifi>=2017.4.17 in /opt/conda/lib/python3.7/site-packages (from requests[socks]->snscrape) (2022.9.24)\n",
      "Requirement already satisfied: charset-normalizer<3,>=2 in /opt/conda/lib/python3.7/site-packages (from requests[socks]->snscrape) (2.1.0)\n",
      "Requirement already satisfied: urllib3<1.27,>=1.21.1 in /opt/conda/lib/python3.7/site-packages (from requests[socks]->snscrape) (1.26.12)\n",
      "Requirement already satisfied: idna<4,>=2.5 in /opt/conda/lib/python3.7/site-packages (from requests[socks]->snscrape) (3.3)\n",
      "Requirement already satisfied: PySocks!=1.5.7,>=1.5.6 in /opt/conda/lib/python3.7/site-packages (from requests[socks]->snscrape) (1.7.1)\n",
      "Installing collected packages: snscrape\n",
      "Successfully installed snscrape-0.3.4\n",
      "\u001b[33mWARNING: Running pip as the 'root' user can result in broken permissions and conflicting behaviour with the system package manager. It is recommended to use a virtual environment instead: https://pip.pypa.io/warnings/venv\u001b[0m\u001b[33m\n",
      "\u001b[0m"
     ]
    }
   ],
   "source": [
    "!pip install snscrape"
   ]
  },
  {
   "cell_type": "code",
   "execution_count": 24,
   "metadata": {
    "_cell_guid": "b1076dfc-b9ad-4769-8c92-a6c4dae69d19",
    "_uuid": "8f2839f25d086af736a60e9eeb907d3b93b6e0e5",
    "execution": {
     "iopub.execute_input": "2022-11-10T14:47:38.903929Z",
     "iopub.status.busy": "2022-11-10T14:47:38.903432Z",
     "iopub.status.idle": "2022-11-10T14:47:39.097227Z",
     "shell.execute_reply": "2022-11-10T14:47:39.096092Z",
     "shell.execute_reply.started": "2022-11-10T14:47:38.903883Z"
    }
   },
   "outputs": [],
   "source": [
    "import snscrape.modules.twitter as sntwitter\n",
    "import pandas as pd\n",
    "from tqdm import tqdm\n",
    "from whatthelang import WhatTheLang\n",
    "\n",
    "import traceback\n",
    "import os\n",
    "import datetime\n",
    "from IPython.display import FileLink"
   ]
  },
  {
   "cell_type": "code",
   "execution_count": 3,
   "metadata": {
    "execution": {
     "iopub.execute_input": "2022-11-10T12:49:13.160859Z",
     "iopub.status.busy": "2022-11-10T12:49:13.160450Z",
     "iopub.status.idle": "2022-11-10T12:49:13.179933Z",
     "shell.execute_reply": "2022-11-10T12:49:13.178957Z",
     "shell.execute_reply.started": "2022-11-10T12:49:13.160827Z"
    }
   },
   "outputs": [
    {
     "name": "stdout",
     "output_type": "stream",
     "text": [
      "/kaggle/input/missing-days/missing_days.txt\n",
      "/kaggle/input/still-missing-days/still_missing_days.txt\n"
     ]
    }
   ],
   "source": [
    "for dirname, _, filenames in os.walk('/kaggle/input'):\n",
    "    for filename in filenames:\n",
    "        print(os.path.join(dirname, filename))"
   ]
  },
  {
   "cell_type": "code",
   "execution_count": 29,
   "metadata": {
    "execution": {
     "iopub.execute_input": "2022-11-10T09:41:28.580770Z",
     "iopub.status.busy": "2022-11-10T09:41:28.580040Z",
     "iopub.status.idle": "2022-11-10T09:41:28.588712Z",
     "shell.execute_reply": "2022-11-10T09:41:28.587635Z",
     "shell.execute_reply.started": "2022-11-10T09:41:28.580706Z"
    }
   },
   "outputs": [],
   "source": [
    "with open('/kaggle/input/missing-days/missing_days.txt') as f:\n",
    "    missing_days = [line.replace('\\n', '') for line in f.readlines()]"
   ]
  },
  {
   "cell_type": "code",
   "execution_count": 6,
   "metadata": {
    "execution": {
     "iopub.execute_input": "2022-11-10T05:22:18.249295Z",
     "iopub.status.busy": "2022-11-10T05:22:18.246285Z",
     "iopub.status.idle": "2022-11-10T05:22:18.263260Z",
     "shell.execute_reply": "2022-11-10T05:22:18.261942Z",
     "shell.execute_reply.started": "2022-11-10T05:22:18.249239Z"
    }
   },
   "outputs": [
    {
     "data": {
      "text/plain": [
       "['2019-11-24',\n",
       " '2019-11-25',\n",
       " '2019-11-26',\n",
       " '2019-11-27',\n",
       " '2019-11-28',\n",
       " '2019-11-29',\n",
       " '2019-11-30',\n",
       " '2019-12-01',\n",
       " '2019-12-02',\n",
       " '2019-12-03']"
      ]
     },
     "execution_count": 6,
     "metadata": {},
     "output_type": "execute_result"
    }
   ],
   "source": [
    "missing_days[:10]"
   ]
  },
  {
   "cell_type": "code",
   "execution_count": null,
   "metadata": {
    "execution": {
     "iopub.execute_input": "2022-11-10T05:23:19.636533Z",
     "iopub.status.busy": "2022-11-10T05:23:19.636060Z"
    }
   },
   "outputs": [
    {
     "name": "stderr",
     "output_type": "stream",
     "text": [
      "0it [00:00, ?it/s]"
     ]
    },
    {
     "name": "stdout",
     "output_type": "stream",
     "text": [
      "Trying date: 2021-05-08 | Currently at index: 0\n"
     ]
    },
    {
     "name": "stderr",
     "output_type": "stream",
     "text": [
      "\n",
      "0it [00:00, ?it/s]\u001b[A\n",
      "1it [00:00,  1.31it/s]\u001b[A\n",
      "13it [00:01, 13.90it/s]\u001b[A\n",
      "30it [00:01, 24.69it/s]\u001b[A\n",
      "43it [00:01, 27.51it/s]\u001b[A\n",
      "56it [00:02, 26.35it/s]\u001b[A\n",
      "73it [00:02, 29.21it/s]\u001b[A\n",
      "91it [00:03, 34.33it/s]\u001b[A\n",
      "102it [00:03, 28.99it/s]\u001b[A\n",
      "122it [00:04, 35.80it/s]\u001b[A\n",
      "136it [00:04, 33.26it/s]\u001b[A\n",
      "154it [00:05, 35.99it/s]\u001b[A\n",
      "169it [00:05, 35.74it/s]\u001b[A\n",
      "181it [00:06, 33.39it/s]\u001b[A\n",
      "192it [00:06, 32.88it/s]\u001b[A\n",
      "203it [00:06, 33.13it/s]\u001b[A\n",
      "209it [00:07, 28.48it/s]\u001b[A\n",
      "220it [00:07, 30.02it/s]\u001b[A\n",
      "231it [00:07, 31.29it/s]\u001b[A\n",
      "240it [00:08, 29.91it/s]\u001b[A\n",
      "250it [00:08, 30.12it/s]\u001b[A\n",
      "262it [00:08, 29.52it/s]\u001b[A\n",
      "273it [00:09, 28.88it/s]\u001b[A\n",
      "283it [00:09, 26.03it/s]\u001b[A\n",
      "297it [00:10, 29.52it/s]\u001b[A\n",
      "309it [00:10, 29.02it/s]\u001b[A\n",
      "323it [00:10, 30.93it/s]\u001b[A\n",
      "333it [00:11, 29.49it/s]\u001b[A\n",
      "345it [00:11, 27.86it/s]\u001b[A\n",
      "358it [00:12, 30.00it/s]\u001b[A\n",
      "369it [00:12, 30.25it/s]\u001b[A\n",
      "379it [00:12, 29.12it/s]\u001b[A\n",
      "391it [00:13, 29.02it/s]\u001b[A\n",
      "407it [00:13, 34.32it/s]\u001b[A\n",
      "417it [00:13, 32.35it/s]\u001b[A\n",
      "430it [00:14, 31.25it/s]\u001b[A\n",
      "445it [00:14, 34.74it/s]\u001b[A\n",
      "455it [00:15, 32.57it/s]\u001b[A\n",
      "472it [00:15, 34.64it/s]\u001b[A\n",
      "485it [00:15, 34.87it/s]\u001b[A\n",
      "501it [00:16, 30.85it/s]\u001b[A\n",
      "1it [00:16, 16.25s/it]"
     ]
    },
    {
     "name": "stdout",
     "output_type": "stream",
     "text": [
      "Trying date: 2021-05-09 | Currently at index: 1\n"
     ]
    },
    {
     "name": "stderr",
     "output_type": "stream",
     "text": [
      "\n",
      "0it [00:00, ?it/s]\u001b[A\n",
      "1it [00:00,  1.36it/s]\u001b[A\n",
      "21it [00:01, 20.44it/s]\u001b[A\n",
      "41it [00:01, 29.33it/s]\u001b[A\n",
      "58it [00:02, 33.95it/s]\u001b[A\n",
      "72it [00:02, 36.09it/s]\u001b[A\n",
      "87it [00:02, 37.04it/s]\u001b[A\n",
      "98it [00:03, 35.97it/s]\u001b[A\n",
      "111it [00:03, 37.53it/s]\u001b[A\n",
      "119it [00:03, 30.19it/s]\u001b[A\n",
      "138it [00:04, 35.53it/s]\u001b[A"
     ]
    }
   ],
   "source": [
    "missing_days_500 = missing_days[500:700]\n",
    "tweets_list_500 = {}\n",
    "\n",
    "for index, missing_date in tqdm(enumerate(missing_days_500)):\n",
    "    print(f'Trying date: {missing_date} | Currently at index: {index}')\n",
    "    try:\n",
    "        for i, tweet in tqdm(enumerate(sntwitter.TwitterSearchScraper(\n",
    "            f'#bitcoin -filter:retweets since:{missing_date} until:{missing_days_500[index + 1]}'\n",
    "        ).get_items())):\n",
    "            if i > 500:\n",
    "                break\n",
    "            if not tweets_list_500.get(missing_date):\n",
    "                tweets_list_500[missing_date] = []\n",
    "\n",
    "            tweets_list_500[missing_date].append([tweet.date, tweet.username, tweet.content])\n",
    "    except Exception as e:\n",
    "        print(f'Error: {e}')\n",
    "        traceback.print_exc()\n",
    "        "
   ]
  },
  {
   "cell_type": "code",
   "execution_count": 41,
   "metadata": {
    "execution": {
     "iopub.execute_input": "2022-11-10T03:29:58.895868Z",
     "iopub.status.busy": "2022-11-10T03:29:58.895468Z",
     "iopub.status.idle": "2022-11-10T03:29:58.903177Z",
     "shell.execute_reply": "2022-11-10T03:29:58.901360Z",
     "shell.execute_reply.started": "2022-11-10T03:29:58.895838Z"
    }
   },
   "outputs": [
    {
     "data": {
      "text/plain": [
       "199"
      ]
     },
     "execution_count": 41,
     "metadata": {},
     "output_type": "execute_result"
    }
   ],
   "source": [
    "len(tweets_list_300)"
   ]
  },
  {
   "cell_type": "code",
   "execution_count": 42,
   "metadata": {
    "execution": {
     "iopub.execute_input": "2022-11-10T03:30:03.375310Z",
     "iopub.status.busy": "2022-11-10T03:30:03.374937Z",
     "iopub.status.idle": "2022-11-10T03:30:03.382528Z",
     "shell.execute_reply": "2022-11-10T03:30:03.381111Z",
     "shell.execute_reply.started": "2022-11-10T03:30:03.375280Z"
    }
   },
   "outputs": [
    {
     "data": {
      "text/plain": [
       "[datetime.datetime(2020, 9, 19, 23, 59, 28, tzinfo=datetime.timezone.utc),\n",
       " 'Cryptoniiiite',\n",
       " '#Horizen offers you its official #Faucet to earn coins for free. Affiliation on 4 levels.\\n👉https://t.co/mLUBbVfqgB\\n\\n#cryptocurrency #Bitcoin #FreeBitcoin #Zencoin #opportunity #GetZen https://t.co/FiL68RXu1k']"
      ]
     },
     "execution_count": 42,
     "metadata": {},
     "output_type": "execute_result"
    }
   ],
   "source": [
    "list(tweets_list_300.values())[0][0]"
   ]
  },
  {
   "cell_type": "code",
   "execution_count": 43,
   "metadata": {
    "execution": {
     "iopub.execute_input": "2022-11-10T03:30:14.776428Z",
     "iopub.status.busy": "2022-11-10T03:30:14.776027Z",
     "iopub.status.idle": "2022-11-10T03:30:14.784733Z",
     "shell.execute_reply": "2022-11-10T03:30:14.783512Z",
     "shell.execute_reply.started": "2022-11-10T03:30:14.776393Z"
    }
   },
   "outputs": [
    {
     "data": {
      "text/plain": [
       "(datetime.datetime(2020, 9, 19, 23, 59, 28, tzinfo=datetime.timezone.utc),\n",
       " 'Cryptoniiiite',\n",
       " '#Horizen offers you its official #Faucet to earn coins for free. Affiliation on 4 levels.\\n👉https://t.co/mLUBbVfqgB\\n\\n#cryptocurrency #Bitcoin #FreeBitcoin #Zencoin #opportunity #GetZen https://t.co/FiL68RXu1k')"
      ]
     },
     "execution_count": 43,
     "metadata": {},
     "output_type": "execute_result"
    }
   ],
   "source": [
    "list(tweets_list_300.values())[0][0][0], list(tweets_list_300.values())[0][0][1], list(tweets_list_300.values())[0][0][2]"
   ]
  },
  {
   "cell_type": "code",
   "execution_count": 44,
   "metadata": {
    "execution": {
     "iopub.execute_input": "2022-11-10T03:30:17.915820Z",
     "iopub.status.busy": "2022-11-10T03:30:17.915460Z",
     "iopub.status.idle": "2022-11-10T03:30:17.999761Z",
     "shell.execute_reply": "2022-11-10T03:30:17.998581Z",
     "shell.execute_reply.started": "2022-11-10T03:30:17.915785Z"
    }
   },
   "outputs": [],
   "source": [
    "dates = []\n",
    "usernames = []\n",
    "texts = []\n",
    "\n",
    "for i, val in enumerate(tweets_list_300.values()):\n",
    "    for j in val:\n",
    "        dates.append(j[0])\n",
    "        usernames.append(j[1])\n",
    "        texts.append(j[2])"
   ]
  },
  {
   "cell_type": "code",
   "execution_count": 45,
   "metadata": {
    "execution": {
     "iopub.execute_input": "2022-11-10T03:30:19.645720Z",
     "iopub.status.busy": "2022-11-10T03:30:19.645366Z",
     "iopub.status.idle": "2022-11-10T03:30:19.659814Z",
     "shell.execute_reply": "2022-11-10T03:30:19.658584Z",
     "shell.execute_reply.started": "2022-11-10T03:30:19.645690Z"
    }
   },
   "outputs": [],
   "source": [
    "df_details = {\n",
    "    'user_name': usernames,\n",
    "    'date': dates,\n",
    "    'text': texts\n",
    "}"
   ]
  },
  {
   "cell_type": "code",
   "execution_count": 46,
   "metadata": {
    "execution": {
     "iopub.execute_input": "2022-11-10T03:30:21.429571Z",
     "iopub.status.busy": "2022-11-10T03:30:21.429221Z",
     "iopub.status.idle": "2022-11-10T03:30:21.600838Z",
     "shell.execute_reply": "2022-11-10T03:30:21.599953Z",
     "shell.execute_reply.started": "2022-11-10T03:30:21.429544Z"
    }
   },
   "outputs": [],
   "source": [
    "df = pd.DataFrame(df_details)"
   ]
  },
  {
   "cell_type": "code",
   "execution_count": 47,
   "metadata": {
    "execution": {
     "iopub.execute_input": "2022-11-10T03:30:22.995619Z",
     "iopub.status.busy": "2022-11-10T03:30:22.995271Z",
     "iopub.status.idle": "2022-11-10T03:30:23.007498Z",
     "shell.execute_reply": "2022-11-10T03:30:23.006145Z",
     "shell.execute_reply.started": "2022-11-10T03:30:22.995592Z"
    }
   },
   "outputs": [
    {
     "data": {
      "text/html": [
       "<div>\n",
       "<style scoped>\n",
       "    .dataframe tbody tr th:only-of-type {\n",
       "        vertical-align: middle;\n",
       "    }\n",
       "\n",
       "    .dataframe tbody tr th {\n",
       "        vertical-align: top;\n",
       "    }\n",
       "\n",
       "    .dataframe thead th {\n",
       "        text-align: right;\n",
       "    }\n",
       "</style>\n",
       "<table border=\"1\" class=\"dataframe\">\n",
       "  <thead>\n",
       "    <tr style=\"text-align: right;\">\n",
       "      <th></th>\n",
       "      <th>user_name</th>\n",
       "      <th>date</th>\n",
       "      <th>text</th>\n",
       "    </tr>\n",
       "  </thead>\n",
       "  <tbody>\n",
       "    <tr>\n",
       "      <th>0</th>\n",
       "      <td>Cryptoniiiite</td>\n",
       "      <td>2020-09-19 23:59:28+00:00</td>\n",
       "      <td>#Horizen offers you its official #Faucet to ea...</td>\n",
       "    </tr>\n",
       "    <tr>\n",
       "      <th>1</th>\n",
       "      <td>cochrane_isobel</td>\n",
       "      <td>2020-09-19 23:59:19+00:00</td>\n",
       "      <td>#Bitcoin: BTC-USD ( $BTC-USD) UP 1.3069%! Last...</td>\n",
       "    </tr>\n",
       "    <tr>\n",
       "      <th>2</th>\n",
       "      <td>FxgolgoB</td>\n",
       "      <td>2020-09-19 23:59:12+00:00</td>\n",
       "      <td>そのポジションは順張りか逆張りか #fx,#bitcoin</td>\n",
       "    </tr>\n",
       "    <tr>\n",
       "      <th>3</th>\n",
       "      <td>wasty1</td>\n",
       "      <td>2020-09-19 23:59:10+00:00</td>\n",
       "      <td>#Bitcoin: BTC-USD ( $BTC-USD) UP 1.3069%! Last...</td>\n",
       "    </tr>\n",
       "    <tr>\n",
       "      <th>4</th>\n",
       "      <td>TT20628127</td>\n",
       "      <td>2020-09-19 23:59:08+00:00</td>\n",
       "      <td>価格が高騰しても大半は法定通貨に替えるだろうが、それでは暗号資産民ではない様な気がする…莫大...</td>\n",
       "    </tr>\n",
       "  </tbody>\n",
       "</table>\n",
       "</div>"
      ],
      "text/plain": [
       "         user_name                      date  \\\n",
       "0    Cryptoniiiite 2020-09-19 23:59:28+00:00   \n",
       "1  cochrane_isobel 2020-09-19 23:59:19+00:00   \n",
       "2         FxgolgoB 2020-09-19 23:59:12+00:00   \n",
       "3           wasty1 2020-09-19 23:59:10+00:00   \n",
       "4       TT20628127 2020-09-19 23:59:08+00:00   \n",
       "\n",
       "                                                text  \n",
       "0  #Horizen offers you its official #Faucet to ea...  \n",
       "1  #Bitcoin: BTC-USD ( $BTC-USD) UP 1.3069%! Last...  \n",
       "2                      そのポジションは順張りか逆張りか #fx,#bitcoin  \n",
       "3  #Bitcoin: BTC-USD ( $BTC-USD) UP 1.3069%! Last...  \n",
       "4  価格が高騰しても大半は法定通貨に替えるだろうが、それでは暗号資産民ではない様な気がする…莫大...  "
      ]
     },
     "execution_count": 47,
     "metadata": {},
     "output_type": "execute_result"
    }
   ],
   "source": [
    "df.head()"
   ]
  },
  {
   "cell_type": "code",
   "execution_count": 48,
   "metadata": {
    "execution": {
     "iopub.execute_input": "2022-11-10T03:30:24.830909Z",
     "iopub.status.busy": "2022-11-10T03:30:24.830563Z",
     "iopub.status.idle": "2022-11-10T03:30:24.841417Z",
     "shell.execute_reply": "2022-11-10T03:30:24.840343Z",
     "shell.execute_reply.started": "2022-11-10T03:30:24.830880Z"
    }
   },
   "outputs": [
    {
     "data": {
      "text/html": [
       "<div>\n",
       "<style scoped>\n",
       "    .dataframe tbody tr th:only-of-type {\n",
       "        vertical-align: middle;\n",
       "    }\n",
       "\n",
       "    .dataframe tbody tr th {\n",
       "        vertical-align: top;\n",
       "    }\n",
       "\n",
       "    .dataframe thead th {\n",
       "        text-align: right;\n",
       "    }\n",
       "</style>\n",
       "<table border=\"1\" class=\"dataframe\">\n",
       "  <thead>\n",
       "    <tr style=\"text-align: right;\">\n",
       "      <th></th>\n",
       "      <th>user_name</th>\n",
       "      <th>date</th>\n",
       "      <th>text</th>\n",
       "    </tr>\n",
       "  </thead>\n",
       "  <tbody>\n",
       "    <tr>\n",
       "      <th>99694</th>\n",
       "      <td>kev_naranjo</td>\n",
       "      <td>2021-05-06 23:23:52+00:00</td>\n",
       "      <td>#SafeBTC Join safeBTC Rocket to the moon @FaZe...</td>\n",
       "    </tr>\n",
       "    <tr>\n",
       "      <th>99695</th>\n",
       "      <td>LifeGamma</td>\n",
       "      <td>2021-05-06 23:23:49+00:00</td>\n",
       "      <td>@saxena_puru If you had followed #bitcoin char...</td>\n",
       "    </tr>\n",
       "    <tr>\n",
       "      <th>99696</th>\n",
       "      <td>matthew07737586</td>\n",
       "      <td>2021-05-06 23:23:43+00:00</td>\n",
       "      <td>I found #bitcoin in a Green vault at this loca...</td>\n",
       "    </tr>\n",
       "    <tr>\n",
       "      <th>99697</th>\n",
       "      <td>blockchain731</td>\n",
       "      <td>2021-05-06 23:23:35+00:00</td>\n",
       "      <td>Bitcoin: Utility Trumps Speculation https://t....</td>\n",
       "    </tr>\n",
       "    <tr>\n",
       "      <th>99698</th>\n",
       "      <td>eBargainsToday</td>\n",
       "      <td>2021-05-06 23:23:35+00:00</td>\n",
       "      <td>Invictus Capital AUM reaches $112M as crypto a...</td>\n",
       "    </tr>\n",
       "  </tbody>\n",
       "</table>\n",
       "</div>"
      ],
      "text/plain": [
       "             user_name                      date  \\\n",
       "99694      kev_naranjo 2021-05-06 23:23:52+00:00   \n",
       "99695        LifeGamma 2021-05-06 23:23:49+00:00   \n",
       "99696  matthew07737586 2021-05-06 23:23:43+00:00   \n",
       "99697    blockchain731 2021-05-06 23:23:35+00:00   \n",
       "99698   eBargainsToday 2021-05-06 23:23:35+00:00   \n",
       "\n",
       "                                                    text  \n",
       "99694  #SafeBTC Join safeBTC Rocket to the moon @FaZe...  \n",
       "99695  @saxena_puru If you had followed #bitcoin char...  \n",
       "99696  I found #bitcoin in a Green vault at this loca...  \n",
       "99697  Bitcoin: Utility Trumps Speculation https://t....  \n",
       "99698  Invictus Capital AUM reaches $112M as crypto a...  "
      ]
     },
     "execution_count": 48,
     "metadata": {},
     "output_type": "execute_result"
    }
   ],
   "source": [
    "df.tail()"
   ]
  },
  {
   "cell_type": "code",
   "execution_count": 8,
   "metadata": {
    "execution": {
     "iopub.execute_input": "2022-11-10T12:50:18.472270Z",
     "iopub.status.busy": "2022-11-10T12:50:18.471819Z",
     "iopub.status.idle": "2022-11-10T12:50:18.478711Z",
     "shell.execute_reply": "2022-11-10T12:50:18.477282Z",
     "shell.execute_reply.started": "2022-11-10T12:50:18.472237Z"
    }
   },
   "outputs": [],
   "source": [
    "def dt(x):\n",
    "    t = pd.Timestamp(x)\n",
    "    return pd.Timestamp.date(t)"
   ]
  },
  {
   "cell_type": "code",
   "execution_count": 53,
   "metadata": {
    "execution": {
     "iopub.execute_input": "2022-11-10T03:31:30.575940Z",
     "iopub.status.busy": "2022-11-10T03:31:30.575571Z",
     "iopub.status.idle": "2022-11-10T03:31:30.580912Z",
     "shell.execute_reply": "2022-11-10T03:31:30.579831Z",
     "shell.execute_reply.started": "2022-11-10T03:31:30.575910Z"
    }
   },
   "outputs": [],
   "source": [
    "df.date = df.date.apply(dt)\n",
    "os.makedirs('/kaggle/working/outputs_2')"
   ]
  },
  {
   "cell_type": "code",
   "execution_count": 54,
   "metadata": {
    "execution": {
     "iopub.execute_input": "2022-11-10T03:31:35.965918Z",
     "iopub.status.busy": "2022-11-10T03:31:35.965496Z",
     "iopub.status.idle": "2022-11-10T03:31:36.484184Z",
     "shell.execute_reply": "2022-11-10T03:31:36.483267Z",
     "shell.execute_reply.started": "2022-11-10T03:31:35.965882Z"
    }
   },
   "outputs": [],
   "source": [
    "# Create checkpoint file\n",
    "df.to_csv('/kaggle/working/outputs_2/tweets_300_500.csv')"
   ]
  },
  {
   "cell_type": "code",
   "execution_count": 55,
   "metadata": {
    "execution": {
     "iopub.execute_input": "2022-11-10T03:31:40.841350Z",
     "iopub.status.busy": "2022-11-10T03:31:40.840939Z",
     "iopub.status.idle": "2022-11-10T03:31:42.251575Z",
     "shell.execute_reply": "2022-11-10T03:31:42.250270Z",
     "shell.execute_reply.started": "2022-11-10T03:31:40.841316Z"
    }
   },
   "outputs": [
    {
     "name": "stdout",
     "output_type": "stream",
     "text": [
      "  adding: outputs_2/ (stored 0%)\n",
      "  adding: outputs_2/tweets_300_500.csv (deflated 61%)\n"
     ]
    },
    {
     "data": {
      "text/html": [
       "<a href='file.zip' target='_blank'>file.zip</a><br>"
      ],
      "text/plain": [
       "/kaggle/working/file.zip"
      ]
     },
     "execution_count": 55,
     "metadata": {},
     "output_type": "execute_result"
    }
   ],
   "source": [
    "!zip -r file.zip './outputs_2'\n",
    "FileLink(r'file.zip')"
   ]
  },
  {
   "cell_type": "code",
   "execution_count": 56,
   "metadata": {
    "execution": {
     "iopub.execute_input": "2022-11-10T03:31:46.010894Z",
     "iopub.status.busy": "2022-11-10T03:31:46.010530Z",
     "iopub.status.idle": "2022-11-10T03:31:46.067161Z",
     "shell.execute_reply": "2022-11-10T03:31:46.065952Z",
     "shell.execute_reply.started": "2022-11-10T03:31:46.010858Z"
    }
   },
   "outputs": [
    {
     "data": {
      "text/html": [
       "<div>\n",
       "<style scoped>\n",
       "    .dataframe tbody tr th:only-of-type {\n",
       "        vertical-align: middle;\n",
       "    }\n",
       "\n",
       "    .dataframe tbody tr th {\n",
       "        vertical-align: top;\n",
       "    }\n",
       "\n",
       "    .dataframe thead th {\n",
       "        text-align: right;\n",
       "    }\n",
       "</style>\n",
       "<table border=\"1\" class=\"dataframe\">\n",
       "  <thead>\n",
       "    <tr style=\"text-align: right;\">\n",
       "      <th></th>\n",
       "      <th>user_name</th>\n",
       "      <th>date</th>\n",
       "      <th>text</th>\n",
       "    </tr>\n",
       "  </thead>\n",
       "  <tbody>\n",
       "    <tr>\n",
       "      <th>0</th>\n",
       "      <td>Cryptoniiiite</td>\n",
       "      <td>2020-09-19</td>\n",
       "      <td>#Horizen offers you its official #Faucet to ea...</td>\n",
       "    </tr>\n",
       "    <tr>\n",
       "      <th>1</th>\n",
       "      <td>cochrane_isobel</td>\n",
       "      <td>2020-09-19</td>\n",
       "      <td>#Bitcoin: BTC-USD ( $BTC-USD) UP 1.3069%! Last...</td>\n",
       "    </tr>\n",
       "    <tr>\n",
       "      <th>2</th>\n",
       "      <td>FxgolgoB</td>\n",
       "      <td>2020-09-19</td>\n",
       "      <td>そのポジションは順張りか逆張りか #fx,#bitcoin</td>\n",
       "    </tr>\n",
       "    <tr>\n",
       "      <th>3</th>\n",
       "      <td>wasty1</td>\n",
       "      <td>2020-09-19</td>\n",
       "      <td>#Bitcoin: BTC-USD ( $BTC-USD) UP 1.3069%! Last...</td>\n",
       "    </tr>\n",
       "    <tr>\n",
       "      <th>4</th>\n",
       "      <td>TT20628127</td>\n",
       "      <td>2020-09-19</td>\n",
       "      <td>価格が高騰しても大半は法定通貨に替えるだろうが、それでは暗号資産民ではない様な気がする…莫大...</td>\n",
       "    </tr>\n",
       "    <tr>\n",
       "      <th>...</th>\n",
       "      <td>...</td>\n",
       "      <td>...</td>\n",
       "      <td>...</td>\n",
       "    </tr>\n",
       "    <tr>\n",
       "      <th>496</th>\n",
       "      <td>EaglesOfManwe</td>\n",
       "      <td>2020-09-19</td>\n",
       "      <td>The amount of awesome #bitcoin content scrolli...</td>\n",
       "    </tr>\n",
       "    <tr>\n",
       "      <th>497</th>\n",
       "      <td>ERIGuide</td>\n",
       "      <td>2020-09-19</td>\n",
       "      <td>CAB Kiosk (Cynthia Abrafi Bitcoin) - Virtual\\n...</td>\n",
       "    </tr>\n",
       "    <tr>\n",
       "      <th>498</th>\n",
       "      <td>BobLoukas</td>\n",
       "      <td>2020-09-19</td>\n",
       "      <td>Main street will not want to own #bitcoin unti...</td>\n",
       "    </tr>\n",
       "    <tr>\n",
       "      <th>499</th>\n",
       "      <td>stillnoob200</td>\n",
       "      <td>2020-09-19</td>\n",
       "      <td>Forget about mining crypto with real hardware ...</td>\n",
       "    </tr>\n",
       "    <tr>\n",
       "      <th>500</th>\n",
       "      <td>bmurphypointman</td>\n",
       "      <td>2020-09-19</td>\n",
       "      <td>#socialmedia #crypto #cryptonews #bitcoin #twi...</td>\n",
       "    </tr>\n",
       "  </tbody>\n",
       "</table>\n",
       "<p>501 rows × 3 columns</p>\n",
       "</div>"
      ],
      "text/plain": [
       "           user_name        date  \\\n",
       "0      Cryptoniiiite  2020-09-19   \n",
       "1    cochrane_isobel  2020-09-19   \n",
       "2           FxgolgoB  2020-09-19   \n",
       "3             wasty1  2020-09-19   \n",
       "4         TT20628127  2020-09-19   \n",
       "..               ...         ...   \n",
       "496    EaglesOfManwe  2020-09-19   \n",
       "497         ERIGuide  2020-09-19   \n",
       "498        BobLoukas  2020-09-19   \n",
       "499     stillnoob200  2020-09-19   \n",
       "500  bmurphypointman  2020-09-19   \n",
       "\n",
       "                                                  text  \n",
       "0    #Horizen offers you its official #Faucet to ea...  \n",
       "1    #Bitcoin: BTC-USD ( $BTC-USD) UP 1.3069%! Last...  \n",
       "2                        そのポジションは順張りか逆張りか #fx,#bitcoin  \n",
       "3    #Bitcoin: BTC-USD ( $BTC-USD) UP 1.3069%! Last...  \n",
       "4    価格が高騰しても大半は法定通貨に替えるだろうが、それでは暗号資産民ではない様な気がする…莫大...  \n",
       "..                                                 ...  \n",
       "496  The amount of awesome #bitcoin content scrolli...  \n",
       "497  CAB Kiosk (Cynthia Abrafi Bitcoin) - Virtual\\n...  \n",
       "498  Main street will not want to own #bitcoin unti...  \n",
       "499  Forget about mining crypto with real hardware ...  \n",
       "500  #socialmedia #crypto #cryptonews #bitcoin #twi...  \n",
       "\n",
       "[501 rows x 3 columns]"
      ]
     },
     "execution_count": 56,
     "metadata": {},
     "output_type": "execute_result"
    }
   ],
   "source": [
    "df_days = [y for x, y in df.groupby('date')]\n",
    "df_days[0]"
   ]
  },
  {
   "cell_type": "code",
   "execution_count": 57,
   "metadata": {
    "execution": {
     "iopub.execute_input": "2022-11-10T03:31:50.451643Z",
     "iopub.status.busy": "2022-11-10T03:31:50.451300Z",
     "iopub.status.idle": "2022-11-10T03:31:51.111554Z",
     "shell.execute_reply": "2022-11-10T03:31:51.110467Z",
     "shell.execute_reply.started": "2022-11-10T03:31:50.451615Z"
    }
   },
   "outputs": [
    {
     "name": "stderr",
     "output_type": "stream",
     "text": [
      "100%|██████████| 199/199 [00:00<00:00, 306.86it/s]\n"
     ]
    }
   ],
   "source": [
    "# Create individual CSVs for each day\n",
    "for i in tqdm(df_days):\n",
    "    filename = str(i.iloc[0]['date'])\n",
    "    i.to_csv(f'/kaggle/working/outputs_2/{filename}.csv')"
   ]
  },
  {
   "cell_type": "code",
   "execution_count": 58,
   "metadata": {
    "execution": {
     "iopub.execute_input": "2022-11-10T03:31:55.026275Z",
     "iopub.status.busy": "2022-11-10T03:31:55.025877Z",
     "iopub.status.idle": "2022-11-10T03:31:57.422328Z",
     "shell.execute_reply": "2022-11-10T03:31:57.421434Z",
     "shell.execute_reply.started": "2022-11-10T03:31:55.026244Z"
    }
   },
   "outputs": [
    {
     "name": "stdout",
     "output_type": "stream",
     "text": [
      "updating: outputs_2/ (stored 0%)\n",
      "updating: outputs_2/tweets_300_500.csv (deflated 61%)\n",
      "  adding: outputs_2/2020-12-08.csv (deflated 56%)\n",
      "  adding: outputs_2/2021-02-23.csv (deflated 64%)\n",
      "  adding: outputs_2/2021-03-23.csv (deflated 58%)\n",
      "  adding: outputs_2/2020-12-17.csv (deflated 54%)\n",
      "  adding: outputs_2/2020-11-08.csv (deflated 58%)\n",
      "  adding: outputs_2/2021-02-02.csv (deflated 61%)\n",
      "  adding: outputs_2/2021-04-28.csv (deflated 59%)\n",
      "  adding: outputs_2/2021-01-08.csv (deflated 58%)\n",
      "  adding: outputs_2/2020-12-13.csv (deflated 57%)\n",
      "  adding: outputs_2/2021-02-25.csv (deflated 63%)\n",
      "  adding: outputs_2/2020-10-24.csv (deflated 60%)\n",
      "  adding: outputs_2/2021-04-30.csv (deflated 57%)\n",
      "  adding: outputs_2/2021-03-29.csv (deflated 62%)\n",
      "  adding: outputs_2/2021-01-31.csv (deflated 60%)\n",
      "  adding: outputs_2/2021-02-16.csv (deflated 56%)\n",
      "  adding: outputs_2/2020-12-29.csv (deflated 55%)\n",
      "  adding: outputs_2/2020-12-14.csv (deflated 56%)\n",
      "  adding: outputs_2/2021-03-06.csv (deflated 60%)\n",
      "  adding: outputs_2/2021-02-28.csv (deflated 59%)\n",
      "  adding: outputs_2/2020-11-26.csv (deflated 56%)\n",
      "  adding: outputs_2/2021-03-24.csv (deflated 61%)\n",
      "  adding: outputs_2/2021-01-24.csv (deflated 58%)\n",
      "  adding: outputs_2/2021-03-03.csv (deflated 59%)\n",
      "  adding: outputs_2/2020-11-10.csv (deflated 62%)\n",
      "  adding: outputs_2/2020-11-29.csv (deflated 56%)\n",
      "  adding: outputs_2/2020-09-21.csv (deflated 57%)\n",
      "  adding: outputs_2/2020-12-28.csv (deflated 58%)\n",
      "  adding: outputs_2/2021-01-09.csv (deflated 57%)\n",
      "  adding: outputs_2/2021-03-19.csv (deflated 65%)\n",
      "  adding: outputs_2/2020-12-27.csv (deflated 54%)\n",
      "  adding: outputs_2/2021-04-14.csv (deflated 58%)\n",
      "  adding: outputs_2/2020-09-20.csv (deflated 57%)\n",
      "  adding: outputs_2/2021-04-12.csv (deflated 58%)\n",
      "  adding: outputs_2/2020-10-30.csv (deflated 60%)\n",
      "  adding: outputs_2/2021-01-15.csv (deflated 55%)\n",
      "  adding: outputs_2/2021-04-26.csv (deflated 56%)\n",
      "  adding: outputs_2/2021-01-06.csv (deflated 54%)\n",
      "  adding: outputs_2/2021-02-15.csv (deflated 60%)\n",
      "  adding: outputs_2/2020-12-25.csv (deflated 55%)\n",
      "  adding: outputs_2/2020-12-06.csv (deflated 58%)\n",
      "  adding: outputs_2/2020-11-15.csv (deflated 57%)\n",
      "  adding: outputs_2/2020-11-09.csv (deflated 59%)\n",
      "  adding: outputs_2/2020-12-16.csv (deflated 55%)\n",
      "  adding: outputs_2/2021-03-13.csv (deflated 57%)\n",
      "  adding: outputs_2/2021-03-04.csv (deflated 59%)\n",
      "  adding: outputs_2/2020-10-23.csv (deflated 62%)\n",
      "  adding: outputs_2/2020-10-18.csv (deflated 66%)\n",
      "  adding: outputs_2/2021-01-17.csv (deflated 56%)\n",
      "  adding: outputs_2/2021-03-07.csv (deflated 58%)\n",
      "  adding: outputs_2/2020-11-05.csv (deflated 57%)\n",
      "  adding: outputs_2/2020-11-07.csv (deflated 62%)\n",
      "  adding: outputs_2/2021-02-19.csv (deflated 56%)\n",
      "  adding: outputs_2/2021-03-21.csv (deflated 59%)\n",
      "  adding: outputs_2/2020-10-15.csv (deflated 64%)\n",
      "  adding: outputs_2/2020-12-03.csv (deflated 56%)\n",
      "  adding: outputs_2/2020-10-29.csv (deflated 62%)\n",
      "  adding: outputs_2/2021-01-01.csv (deflated 56%)\n",
      "  adding: outputs_2/2021-05-01.csv (deflated 59%)\n",
      "  adding: outputs_2/2021-01-04.csv (deflated 56%)\n",
      "  adding: outputs_2/2020-09-22.csv (deflated 58%)\n",
      "  adding: outputs_2/2020-12-31.csv (deflated 56%)\n",
      "  adding: outputs_2/2021-05-03.csv (deflated 57%)\n",
      "  adding: outputs_2/2020-12-12.csv (deflated 56%)\n",
      "  adding: outputs_2/2020-11-22.csv (deflated 54%)\n",
      "  adding: outputs_2/2020-11-04.csv (deflated 62%)\n",
      "  adding: outputs_2/2020-10-25.csv (deflated 59%)\n",
      "  adding: outputs_2/2021-01-13.csv (deflated 57%)\n",
      "  adding: outputs_2/2021-03-05.csv (deflated 58%)\n",
      "  adding: outputs_2/2021-04-25.csv (deflated 57%)\n",
      "  adding: outputs_2/2021-01-21.csv (deflated 58%)\n",
      "  adding: outputs_2/2020-11-14.csv (deflated 55%)\n",
      "  adding: outputs_2/2020-12-22.csv (deflated 57%)\n",
      "  adding: outputs_2/2020-12-09.csv (deflated 56%)\n",
      "  adding: outputs_2/2021-05-06.csv (deflated 58%)\n",
      "  adding: outputs_2/2020-10-31.csv (deflated 63%)\n",
      "  adding: outputs_2/2021-02-03.csv (deflated 58%)\n",
      "  adding: outputs_2/2020-11-12.csv (deflated 62%)\n",
      "  adding: outputs_2/2020-12-15.csv (deflated 69%)\n",
      "  adding: outputs_2/2020-12-07.csv (deflated 72%)\n",
      "  adding: outputs_2/2021-03-15.csv (deflated 62%)\n",
      "  adding: outputs_2/2021-03-18.csv (deflated 61%)\n",
      "  adding: outputs_2/2021-01-16.csv (deflated 57%)\n",
      "  adding: outputs_2/2021-02-24.csv (deflated 59%)\n",
      "  adding: outputs_2/2020-11-16.csv (deflated 63%)\n",
      "  adding: outputs_2/2020-09-26.csv (deflated 58%)\n",
      "  adding: outputs_2/2020-10-14.csv (deflated 69%)\n",
      "  adding: outputs_2/2021-01-25.csv (deflated 57%)\n",
      "  adding: outputs_2/2020-11-01.csv (deflated 62%)\n",
      "  adding: outputs_2/2021-03-08.csv (deflated 59%)\n",
      "  adding: outputs_2/2020-10-17.csv (deflated 66%)\n",
      "  adding: outputs_2/2020-12-26.csv (deflated 57%)\n",
      "  adding: outputs_2/2020-12-02.csv (deflated 56%)\n",
      "  adding: outputs_2/2020-09-23.csv (deflated 56%)\n",
      "  adding: outputs_2/2020-11-17.csv (deflated 54%)\n",
      "  adding: outputs_2/2021-01-26.csv (deflated 60%)\n",
      "  adding: outputs_2/2020-11-28.csv (deflated 56%)\n",
      "  adding: outputs_2/2021-01-23.csv (deflated 59%)\n",
      "  adding: outputs_2/2020-12-20.csv (deflated 57%)\n",
      "  adding: outputs_2/2021-04-15.csv (deflated 56%)\n",
      "  adding: outputs_2/2020-10-05.csv (deflated 63%)\n",
      "  adding: outputs_2/2021-04-29.csv (deflated 58%)\n",
      "  adding: outputs_2/2020-09-19.csv (deflated 58%)\n",
      "  adding: outputs_2/2020-09-24.csv (deflated 58%)\n",
      "  adding: outputs_2/2021-03-30.csv (deflated 65%)\n",
      "  adding: outputs_2/2021-03-22.csv (deflated 62%)\n",
      "  adding: outputs_2/2021-02-22.csv (deflated 56%)\n",
      "  adding: outputs_2/2020-11-02.csv (deflated 62%)\n",
      "  adding: outputs_2/2021-01-30.csv (deflated 58%)\n",
      "  adding: outputs_2/2020-12-11.csv (deflated 59%)\n",
      "  adding: outputs_2/2021-04-03.csv (deflated 59%)\n",
      "  adding: outputs_2/2021-01-22.csv (deflated 57%)\n",
      "  adding: outputs_2/2020-11-21.csv (deflated 55%)\n",
      "  adding: outputs_2/2020-10-09.csv (deflated 69%)\n",
      "  adding: outputs_2/2021-01-02.csv (deflated 59%)\n",
      "  adding: outputs_2/2020-12-10.csv (deflated 57%)\n",
      "  adding: outputs_2/2021-02-01.csv (deflated 59%)\n",
      "  adding: outputs_2/2020-10-02.csv (deflated 74%)\n",
      "  adding: outputs_2/2020-12-21.csv (deflated 56%)\n",
      "  adding: outputs_2/2021-01-20.csv (deflated 68%)\n",
      "  adding: outputs_2/2021-03-20.csv (deflated 60%)\n",
      "  adding: outputs_2/2020-10-08.csv (deflated 70%)\n",
      "  adding: outputs_2/2020-10-12.csv (deflated 60%)\n",
      "  adding: outputs_2/2020-10-26.csv (deflated 59%)\n",
      "  adding: outputs_2/2021-04-27.csv (deflated 58%)\n",
      "  adding: outputs_2/2021-03-26.csv (deflated 63%)\n",
      "  adding: outputs_2/2020-10-11.csv (deflated 63%)\n",
      "  adding: outputs_2/2020-12-23.csv (deflated 55%)\n",
      "  adding: outputs_2/2021-01-10.csv (deflated 56%)\n",
      "  adding: outputs_2/2021-02-11.csv (deflated 54%)\n",
      "  adding: outputs_2/2020-11-03.csv (deflated 57%)\n",
      "  adding: outputs_2/2020-11-06.csv (deflated 65%)\n",
      "  adding: outputs_2/2020-11-30.csv (deflated 56%)\n",
      "  adding: outputs_2/2020-11-11.csv (deflated 57%)\n",
      "  adding: outputs_2/2020-10-28.csv (deflated 58%)\n",
      "  adding: outputs_2/2020-12-19.csv (deflated 65%)\n",
      "  adding: outputs_2/2021-03-02.csv (deflated 62%)\n",
      "  adding: outputs_2/2020-10-22.csv (deflated 63%)\n",
      "  adding: outputs_2/2021-04-02.csv (deflated 58%)\n",
      "  adding: outputs_2/2021-03-09.csv (deflated 58%)\n",
      "  adding: outputs_2/2021-03-25.csv (deflated 65%)\n",
      "  adding: outputs_2/2020-09-28.csv (deflated 57%)\n",
      "  adding: outputs_2/2021-01-28.csv (deflated 60%)\n",
      "  adding: outputs_2/2021-03-14.csv (deflated 69%)\n",
      "  adding: outputs_2/2020-12-30.csv (deflated 55%)\n",
      "  adding: outputs_2/2020-10-07.csv (deflated 64%)\n",
      "  adding: outputs_2/2020-11-24.csv (deflated 55%)\n",
      "  adding: outputs_2/2021-03-01.csv (deflated 57%)\n",
      "  adding: outputs_2/2020-10-10.csv (deflated 67%)\n",
      "  adding: outputs_2/2021-01-12.csv (deflated 56%)\n",
      "  adding: outputs_2/2021-02-20.csv (deflated 58%)\n",
      "  adding: outputs_2/2020-10-03.csv (deflated 67%)\n",
      "  adding: outputs_2/2021-05-04.csv (deflated 59%)\n",
      "  adding: outputs_2/2021-01-29.csv (deflated 57%)\n",
      "  adding: outputs_2/2021-01-11.csv (deflated 59%)\n",
      "  adding: outputs_2/2021-05-02.csv (deflated 59%)\n",
      "  adding: outputs_2/2020-10-13.csv (deflated 62%)\n",
      "  adding: outputs_2/2020-12-24.csv (deflated 55%)\n",
      "  adding: outputs_2/2021-01-27.csv (deflated 57%)\n",
      "  adding: outputs_2/2020-10-01.csv (deflated 74%)\n",
      "  adding: outputs_2/2020-10-20.csv (deflated 60%)\n",
      "  adding: outputs_2/2021-02-26.csv (deflated 58%)\n",
      "  adding: outputs_2/2021-01-03.csv (deflated 55%)\n",
      "  adding: outputs_2/2021-03-17.csv (deflated 59%)\n",
      "  adding: outputs_2/2020-11-23.csv (deflated 55%)\n",
      "  adding: outputs_2/2020-11-13.csv (deflated 56%)\n",
      "  adding: outputs_2/2020-10-06.csv (deflated 61%)\n",
      "  adding: outputs_2/2020-11-25.csv (deflated 55%)\n",
      "  adding: outputs_2/2021-01-07.csv (deflated 54%)\n",
      "  adding: outputs_2/2020-09-29.csv (deflated 59%)\n",
      "  adding: outputs_2/2021-05-05.csv (deflated 59%)\n",
      "  adding: outputs_2/2021-03-12.csv (deflated 59%)\n",
      "  adding: outputs_2/2021-01-19.csv (deflated 60%)\n",
      "  adding: outputs_2/2021-04-13.csv (deflated 57%)\n",
      "  adding: outputs_2/2020-12-01.csv (deflated 56%)\n",
      "  adding: outputs_2/2020-12-05.csv (deflated 56%)\n",
      "  adding: outputs_2/2020-11-19.csv (deflated 56%)\n",
      "  adding: outputs_2/2020-09-30.csv (deflated 73%)\n",
      "  adding: outputs_2/2021-01-05.csv (deflated 62%)\n",
      "  adding: outputs_2/2020-09-27.csv (deflated 63%)\n",
      "  adding: outputs_2/2020-11-27.csv (deflated 56%)\n",
      "  adding: outputs_2/2020-11-18.csv (deflated 56%)\n",
      "  adding: outputs_2/2021-03-16.csv (deflated 58%)\n",
      "  adding: outputs_2/2020-10-21.csv (deflated 67%)\n",
      "  adding: outputs_2/2020-11-20.csv (deflated 59%)\n",
      "  adding: outputs_2/2020-10-04.csv (deflated 66%)\n",
      "  adding: outputs_2/2021-03-27.csv (deflated 61%)\n",
      "  adding: outputs_2/2020-10-19.csv (deflated 61%)\n",
      "  adding: outputs_2/2021-02-10.csv (deflated 53%)\n",
      "  adding: outputs_2/2020-12-04.csv (deflated 56%)\n",
      "  adding: outputs_2/2021-03-31.csv (deflated 68%)\n",
      "  adding: outputs_2/2020-09-25.csv (deflated 58%)\n",
      "  adding: outputs_2/2021-01-18.csv (deflated 58%)\n",
      "  adding: outputs_2/2021-04-01.csv (deflated 65%)\n",
      "  adding: outputs_2/2020-10-27.csv (deflated 58%)\n",
      "  adding: outputs_2/2021-01-14.csv (deflated 59%)\n",
      "  adding: outputs_2/2020-12-18.csv (deflated 66%)\n",
      "  adding: outputs_2/2021-03-28.csv (deflated 62%)\n",
      "  adding: outputs_2/2020-10-16.csv (deflated 67%)\n",
      "  adding: outputs_2/2021-04-24.csv (deflated 58%)\n"
     ]
    },
    {
     "data": {
      "text/html": [
       "<a href='file.zip' target='_blank'>file.zip</a><br>"
      ],
      "text/plain": [
       "/kaggle/working/file.zip"
      ]
     },
     "execution_count": 58,
     "metadata": {},
     "output_type": "execute_result"
    }
   ],
   "source": [
    "!zip -r file.zip './outputs_2'\n",
    "FileLink(r'file.zip')"
   ]
  },
  {
   "cell_type": "markdown",
   "metadata": {},
   "source": [
    "Fetch remaining dates"
   ]
  },
  {
   "cell_type": "code",
   "execution_count": 4,
   "metadata": {
    "execution": {
     "iopub.execute_input": "2022-11-10T12:49:42.427110Z",
     "iopub.status.busy": "2022-11-10T12:49:42.426714Z",
     "iopub.status.idle": "2022-11-10T12:49:42.437012Z",
     "shell.execute_reply": "2022-11-10T12:49:42.435813Z",
     "shell.execute_reply.started": "2022-11-10T12:49:42.427080Z"
    }
   },
   "outputs": [],
   "source": [
    "with open('/kaggle/input/still-missing-days/still_missing_days.txt') as f:\n",
    "    still_missing_days = [line.replace('\\n', '') for line in f.readlines()]"
   ]
  },
  {
   "cell_type": "code",
   "execution_count": 5,
   "metadata": {
    "execution": {
     "iopub.execute_input": "2022-11-10T12:49:44.191664Z",
     "iopub.status.busy": "2022-11-10T12:49:44.191165Z",
     "iopub.status.idle": "2022-11-10T12:49:44.201855Z",
     "shell.execute_reply": "2022-11-10T12:49:44.200937Z",
     "shell.execute_reply.started": "2022-11-10T12:49:44.191628Z"
    }
   },
   "outputs": [
    {
     "data": {
      "text/plain": [
       "['2020-09-18',\n",
       " '2021-02-04',\n",
       " '2021-02-12',\n",
       " '2021-02-17',\n",
       " '2021-02-21',\n",
       " '2021-02-27',\n",
       " '2021-03-10',\n",
       " '2021-04-04',\n",
       " '2021-04-16',\n",
       " '2021-05-07']"
      ]
     },
     "execution_count": 5,
     "metadata": {},
     "output_type": "execute_result"
    }
   ],
   "source": [
    "still_missing_days[:10]"
   ]
  },
  {
   "cell_type": "code",
   "execution_count": 6,
   "metadata": {
    "execution": {
     "iopub.execute_input": "2022-11-10T12:49:45.781778Z",
     "iopub.status.busy": "2022-11-10T12:49:45.781332Z",
     "iopub.status.idle": "2022-11-10T12:49:45.788483Z",
     "shell.execute_reply": "2022-11-10T12:49:45.787542Z",
     "shell.execute_reply.started": "2022-11-10T12:49:45.781741Z"
    }
   },
   "outputs": [
    {
     "data": {
      "text/plain": [
       "48"
      ]
     },
     "execution_count": 6,
     "metadata": {},
     "output_type": "execute_result"
    }
   ],
   "source": [
    "len(still_missing_days)"
   ]
  },
  {
   "cell_type": "code",
   "execution_count": 9,
   "metadata": {
    "execution": {
     "iopub.execute_input": "2022-11-10T12:50:35.065398Z",
     "iopub.status.busy": "2022-11-10T12:50:35.064995Z",
     "iopub.status.idle": "2022-11-10T12:50:35.073720Z",
     "shell.execute_reply": "2022-11-10T12:50:35.072588Z",
     "shell.execute_reply.started": "2022-11-10T12:50:35.065366Z"
    }
   },
   "outputs": [
    {
     "data": {
      "text/plain": [
       "('2020-09-18', '2020-09-19')"
      ]
     },
     "execution_count": 9,
     "metadata": {},
     "output_type": "execute_result"
    }
   ],
   "source": [
    "next_day = pd.Timestamp(still_missing_days[0]) + datetime.timedelta(days=1)\n",
    "still_missing_days[0], dt(next_day).strftime(\"%Y-%m-%d\")"
   ]
  },
  {
   "cell_type": "code",
   "execution_count": 10,
   "metadata": {
    "execution": {
     "iopub.execute_input": "2022-11-10T12:50:37.165780Z",
     "iopub.status.busy": "2022-11-10T12:50:37.165375Z",
     "iopub.status.idle": "2022-11-10T13:08:30.646735Z",
     "shell.execute_reply": "2022-11-10T13:08:30.645632Z",
     "shell.execute_reply.started": "2022-11-10T12:50:37.165749Z"
    }
   },
   "outputs": [
    {
     "name": "stderr",
     "output_type": "stream",
     "text": [
      "0it [00:00, ?it/s]"
     ]
    },
    {
     "name": "stdout",
     "output_type": "stream",
     "text": [
      "Trying date: 2020-09-18 | Currently at index: 0\n"
     ]
    },
    {
     "name": "stderr",
     "output_type": "stream",
     "text": [
      "\n",
      "0it [00:00, ?it/s]\u001b[A\n",
      "1it [00:01,  1.18s/it]\u001b[A\n",
      "18it [00:01, 14.28it/s]\u001b[A\n",
      "34it [00:02, 19.67it/s]\u001b[A\n",
      "54it [00:02, 23.44it/s]\u001b[A\n",
      "74it [00:03, 25.72it/s]\u001b[A\n",
      "94it [00:04, 28.13it/s]\u001b[A\n",
      "113it [00:04, 30.87it/s]\u001b[A\n",
      "132it [00:05, 30.47it/s]\u001b[A\n",
      "151it [00:06, 24.32it/s]\u001b[A\n",
      "169it [00:06, 26.11it/s]\u001b[A\n",
      "186it [00:07, 27.99it/s]\u001b[A\n",
      "206it [00:07, 31.94it/s]\u001b[A\n",
      "226it [00:08, 30.54it/s]\u001b[A\n",
      "246it [00:09, 32.32it/s]\u001b[A\n",
      "266it [00:09, 35.19it/s]\u001b[A\n",
      "286it [00:10, 33.86it/s]\u001b[A\n",
      "306it [00:10, 36.80it/s]\u001b[A\n",
      "326it [00:11, 34.75it/s]\u001b[A\n",
      "346it [00:11, 37.66it/s]\u001b[A\n",
      "364it [00:12, 37.36it/s]\u001b[A\n",
      "383it [00:12, 37.44it/s]\u001b[A\n",
      "401it [00:13, 39.11it/s]\u001b[A\n",
      "416it [00:13, 36.76it/s]\u001b[A\n",
      "431it [00:14, 33.89it/s]\u001b[A\n",
      "449it [00:14, 37.05it/s]\u001b[A\n",
      "460it [00:15, 32.48it/s]\u001b[A\n",
      "470it [00:15, 26.54it/s]\u001b[A\n",
      "501it [00:16, 29.93it/s]\u001b[A\n",
      "1it [00:16, 16.75s/it]"
     ]
    },
    {
     "name": "stdout",
     "output_type": "stream",
     "text": [
      "Trying date: 2021-02-04 | Currently at index: 1\n"
     ]
    },
    {
     "name": "stderr",
     "output_type": "stream",
     "text": [
      "\n",
      "0it [00:00, ?it/s]\u001b[A\n",
      "1it [00:01,  1.15s/it]\u001b[A\n",
      "19it [00:01, 13.81it/s]\u001b[A\n",
      "39it [00:02, 21.09it/s]\u001b[A\n",
      "58it [00:02, 27.21it/s]\u001b[A\n",
      "73it [00:03, 23.40it/s]\u001b[A\n",
      "90it [00:03, 27.79it/s]\u001b[A\n",
      "104it [00:04, 26.90it/s]\u001b[A\n",
      "122it [00:05, 27.55it/s]\u001b[A\n",
      "138it [00:05, 27.47it/s]\u001b[A\n",
      "157it [00:06, 28.17it/s]\u001b[A\n",
      "175it [00:07, 27.01it/s]\u001b[A\n",
      "193it [00:07, 28.69it/s]\u001b[A\n",
      "209it [00:08, 26.94it/s]\u001b[A\n",
      "226it [00:08, 28.04it/s]\u001b[A\n",
      "240it [00:09, 26.40it/s]\u001b[A\n",
      "259it [00:10, 28.57it/s]\u001b[A\n",
      "276it [00:10, 29.49it/s]\u001b[A\n",
      "293it [00:11, 28.99it/s]\u001b[A\n",
      "313it [00:11, 32.92it/s]\u001b[A\n",
      "327it [00:12, 28.96it/s]\u001b[A\n",
      "347it [00:12, 29.49it/s]\u001b[A\n",
      "365it [00:13, 31.91it/s]\u001b[A\n",
      "381it [00:13, 32.91it/s]\u001b[A\n",
      "393it [00:14, 30.49it/s]\u001b[A\n",
      "411it [00:14, 34.80it/s]\u001b[A\n",
      "426it [00:15, 30.31it/s]\u001b[A\n",
      "441it [00:15, 30.60it/s]\u001b[A\n",
      "456it [00:16, 32.15it/s]\u001b[A\n",
      "468it [00:16, 26.88it/s]\u001b[A\n",
      "481it [00:17, 26.95it/s]\u001b[A\n",
      "501it [00:18, 27.76it/s]\u001b[A\n",
      "2it [00:34, 17.52s/it]"
     ]
    },
    {
     "name": "stdout",
     "output_type": "stream",
     "text": [
      "Trying date: 2021-02-12 | Currently at index: 2\n"
     ]
    },
    {
     "name": "stderr",
     "output_type": "stream",
     "text": [
      "\n",
      "0it [00:00, ?it/s]\u001b[A\n",
      "1it [00:01,  1.25s/it]\u001b[A\n",
      "20it [00:01, 12.53it/s]\u001b[A\n",
      "34it [00:02, 18.27it/s]\u001b[A\n",
      "45it [00:02, 20.62it/s]\u001b[A\n",
      "54it [00:03, 20.88it/s]\u001b[A\n",
      "66it [00:03, 23.75it/s]\u001b[A\n",
      "74it [00:04, 21.92it/s]\u001b[A\n",
      "86it [00:04, 22.82it/s]\u001b[A\n",
      "98it [00:04, 24.49it/s]\u001b[A\n",
      "111it [00:05, 27.50it/s]\u001b[A\n",
      "122it [00:05, 24.15it/s]\u001b[A\n",
      "137it [00:06, 27.32it/s]\u001b[A\n",
      "144it [00:06, 24.37it/s]\u001b[A\n",
      "153it [00:07, 23.23it/s]\u001b[A\n",
      "166it [00:07, 24.15it/s]\u001b[A\n",
      "179it [00:08, 26.66it/s]\u001b[A\n",
      "188it [00:08, 24.91it/s]\u001b[A\n",
      "199it [00:08, 25.30it/s]\u001b[A\n",
      "214it [00:09, 27.79it/s]\u001b[A\n",
      "224it [00:09, 25.85it/s]\u001b[A\n",
      "239it [00:10, 24.09it/s]\u001b[A\n",
      "256it [00:11, 21.71it/s]\u001b[A\n",
      "265it [00:11, 20.72it/s]\u001b[A\n",
      "282it [00:12, 23.35it/s]\u001b[A\n",
      "301it [00:12, 27.91it/s]\u001b[A\n",
      "314it [00:13, 24.95it/s]\u001b[A\n",
      "330it [00:14, 25.00it/s]\u001b[A\n",
      "344it [00:14, 27.66it/s]\u001b[A\n",
      "353it [00:15, 25.02it/s]\u001b[A\n",
      "368it [00:15, 27.25it/s]\u001b[A\n",
      "384it [00:16, 29.83it/s]\u001b[A\n",
      "397it [00:16, 28.88it/s]\u001b[A\n",
      "410it [00:16, 30.14it/s]\u001b[A\n",
      "425it [00:17, 30.14it/s]\u001b[A\n",
      "438it [00:17, 30.60it/s]\u001b[A\n",
      "446it [00:18, 25.61it/s]\u001b[A\n",
      "462it [00:18, 27.49it/s]\u001b[A\n",
      "479it [00:19, 27.43it/s]\u001b[A\n",
      "501it [00:19, 25.24it/s]\u001b[A\n",
      "3it [00:54, 18.59s/it]"
     ]
    },
    {
     "name": "stdout",
     "output_type": "stream",
     "text": [
      "Trying date: 2021-02-17 | Currently at index: 3\n"
     ]
    },
    {
     "name": "stderr",
     "output_type": "stream",
     "text": [
      "\n",
      "0it [00:00, ?it/s]\u001b[A\n",
      "1it [00:00,  1.09it/s]\u001b[A\n",
      "13it [00:01, 12.53it/s]\u001b[A\n",
      "24it [00:01, 17.75it/s]\u001b[A\n",
      "28it [00:02, 15.81it/s]\u001b[A\n",
      "34it [00:02, 16.30it/s]\u001b[A\n",
      "40it [00:02, 14.55it/s]\u001b[A\n",
      "51it [00:03, 18.53it/s]\u001b[A\n",
      "65it [00:03, 21.98it/s]\u001b[A\n",
      "78it [00:04, 21.65it/s]\u001b[A\n",
      "92it [00:04, 24.98it/s]\u001b[A\n",
      "103it [00:05, 19.62it/s]\u001b[A\n",
      "112it [00:06, 20.57it/s]\u001b[A\n",
      "125it [00:06, 23.02it/s]\u001b[A\n",
      "134it [00:06, 21.68it/s]\u001b[A\n",
      "148it [00:07, 25.33it/s]\u001b[A\n",
      "162it [00:07, 27.99it/s]\u001b[A\n",
      "174it [00:08, 26.15it/s]\u001b[A\n",
      "189it [00:08, 29.71it/s]\u001b[A\n",
      "200it [00:09, 27.92it/s]\u001b[A\n",
      "213it [00:09, 29.40it/s]\u001b[A\n",
      "226it [00:09, 30.40it/s]\u001b[A\n",
      "237it [00:10, 29.19it/s]\u001b[A\n",
      "253it [00:10, 29.97it/s]\u001b[A\n",
      "270it [00:11, 28.68it/s]\u001b[A\n",
      "284it [00:11, 29.16it/s]\u001b[A\n",
      "298it [00:12, 29.50it/s]\u001b[A\n",
      "308it [00:12, 28.88it/s]\u001b[A\n",
      "319it [00:13, 28.48it/s]\u001b[A\n",
      "332it [00:13, 27.92it/s]\u001b[A\n",
      "349it [00:14, 32.11it/s]\u001b[A\n",
      "362it [00:14, 31.94it/s]\u001b[A\n",
      "375it [00:15, 27.42it/s]\u001b[A\n",
      "391it [00:15, 28.50it/s]\u001b[A\n",
      "404it [00:16, 27.20it/s]\u001b[A\n",
      "422it [00:16, 26.67it/s]\u001b[A\n",
      "438it [00:17, 29.95it/s]\u001b[A\n",
      "452it [00:17, 27.90it/s]\u001b[A\n",
      "468it [00:18, 28.70it/s]\u001b[A\n",
      "484it [00:19, 22.94it/s]\u001b[A\n",
      "501it [00:19, 25.33it/s]\u001b[A\n",
      "4it [01:14, 19.06s/it]"
     ]
    },
    {
     "name": "stdout",
     "output_type": "stream",
     "text": [
      "Trying date: 2021-02-21 | Currently at index: 4\n"
     ]
    },
    {
     "name": "stderr",
     "output_type": "stream",
     "text": [
      "\n",
      "0it [00:00, ?it/s]\u001b[A\n",
      "1it [00:01,  1.17s/it]\u001b[A\n",
      "14it [00:01, 10.88it/s]\u001b[A\n",
      "27it [00:02, 14.96it/s]\u001b[A\n",
      "45it [00:02, 22.95it/s]\u001b[A\n",
      "60it [00:03, 26.13it/s]\u001b[A\n",
      "77it [00:03, 28.56it/s]\u001b[A\n",
      "94it [00:04, 27.54it/s]\u001b[A\n",
      "113it [00:04, 32.16it/s]\u001b[A\n",
      "126it [00:05, 30.00it/s]\u001b[A\n",
      "143it [00:05, 32.15it/s]\u001b[A\n",
      "157it [00:06, 33.19it/s]\u001b[A\n",
      "174it [00:06, 34.96it/s]\u001b[A\n",
      "188it [00:06, 35.82it/s]\u001b[A\n",
      "204it [00:07, 32.42it/s]\u001b[A\n",
      "220it [00:07, 33.55it/s]\u001b[A\n",
      "237it [00:08, 35.67it/s]\u001b[A\n",
      "253it [00:08, 35.44it/s]\u001b[A\n",
      "270it [00:09, 36.97it/s]\u001b[A\n",
      "287it [00:09, 34.88it/s]\u001b[A\n",
      "304it [00:10, 37.70it/s]\u001b[A\n",
      "319it [00:10, 32.46it/s]\u001b[A\n",
      "336it [00:11, 33.13it/s]\u001b[A\n",
      "349it [00:11, 31.01it/s]\u001b[A\n",
      "359it [00:12, 29.40it/s]\u001b[A\n",
      "372it [00:12, 29.42it/s]\u001b[A\n",
      "386it [00:12, 30.92it/s]\u001b[A\n",
      "400it [00:13, 27.50it/s]\u001b[A\n",
      "416it [00:14, 27.22it/s]\u001b[A\n",
      "434it [00:14, 31.67it/s]\u001b[A\n",
      "451it [00:15, 33.64it/s]\u001b[A\n",
      "462it [00:15, 29.44it/s]\u001b[A\n",
      "477it [00:16, 29.90it/s]\u001b[A\n",
      "501it [00:16, 30.30it/s]\u001b[A\n",
      "5it [01:31, 18.16s/it]"
     ]
    },
    {
     "name": "stdout",
     "output_type": "stream",
     "text": [
      "Trying date: 2021-02-27 | Currently at index: 5\n"
     ]
    },
    {
     "name": "stderr",
     "output_type": "stream",
     "text": [
      "\n",
      "0it [00:00, ?it/s]\u001b[A\n",
      "1it [00:01,  1.03s/it]\u001b[A\n",
      "13it [00:01, 11.07it/s]\u001b[A\n",
      "27it [00:01, 19.51it/s]\u001b[A\n",
      "44it [00:02, 27.11it/s]\u001b[A\n",
      "60it [00:02, 29.37it/s]\u001b[A\n",
      "76it [00:03, 27.95it/s]\u001b[A\n",
      "92it [00:03, 31.27it/s]\u001b[A\n",
      "106it [00:04, 33.24it/s]\u001b[A\n",
      "116it [00:04, 31.37it/s]\u001b[A\n",
      "128it [00:04, 31.11it/s]\u001b[A\n",
      "145it [00:05, 31.30it/s]\u001b[A\n",
      "160it [00:05, 31.96it/s]\u001b[A\n",
      "172it [00:06, 27.79it/s]\u001b[A\n",
      "190it [00:06, 32.34it/s]\u001b[A\n",
      "207it [00:07, 35.37it/s]\u001b[A\n",
      "222it [00:07, 33.58it/s]\u001b[A\n",
      "240it [00:08, 31.42it/s]\u001b[A\n",
      "256it [00:08, 33.86it/s]\u001b[A\n",
      "266it [00:09, 32.05it/s]\u001b[A\n",
      "278it [00:09, 32.73it/s]\u001b[A\n",
      "288it [00:09, 29.26it/s]\u001b[A\n",
      "305it [00:10, 28.56it/s]\u001b[A\n",
      "322it [00:11, 29.70it/s]\u001b[A\n",
      "337it [00:11, 31.86it/s]\u001b[A\n",
      "347it [00:11, 30.32it/s]\u001b[A\n",
      "359it [00:12, 27.87it/s]\u001b[A\n",
      "377it [00:12, 30.51it/s]\u001b[A\n",
      "393it [00:13, 32.94it/s]\u001b[A\n",
      "407it [00:13, 33.77it/s]\u001b[A\n",
      "415it [00:14, 30.71it/s]\u001b[A\n",
      "428it [00:14, 30.48it/s]\u001b[A\n",
      "440it [00:14, 30.28it/s]\u001b[A\n",
      "457it [00:15, 31.78it/s]\u001b[A\n",
      "475it [00:15, 35.19it/s]\u001b[A\n",
      "501it [00:16, 31.05it/s]\u001b[A\n",
      "6it [01:47, 17.47s/it]"
     ]
    },
    {
     "name": "stdout",
     "output_type": "stream",
     "text": [
      "Trying date: 2021-03-10 | Currently at index: 6\n"
     ]
    },
    {
     "name": "stderr",
     "output_type": "stream",
     "text": [
      "\n",
      "0it [00:00, ?it/s]\u001b[A\n",
      "1it [00:01,  1.03s/it]\u001b[A\n",
      "16it [00:01, 11.35it/s]\u001b[A\n",
      "32it [00:02, 19.54it/s]\u001b[A\n",
      "47it [00:02, 21.83it/s]\u001b[A\n",
      "63it [00:03, 22.87it/s]\u001b[A\n",
      "79it [00:03, 28.17it/s]\u001b[A\n",
      "92it [00:04, 28.52it/s]\u001b[A\n",
      "104it [00:04, 28.18it/s]\u001b[A\n",
      "118it [00:05, 28.40it/s]\u001b[A\n",
      "132it [00:05, 26.86it/s]\u001b[A\n",
      "148it [00:06, 27.82it/s]\u001b[A\n",
      "165it [00:06, 27.41it/s]\u001b[A\n",
      "182it [00:07, 28.95it/s]\u001b[A\n",
      "197it [00:08, 23.66it/s]\u001b[A\n",
      "212it [00:08, 26.74it/s]\u001b[A\n",
      "226it [00:09, 28.19it/s]\u001b[A\n",
      "239it [00:09, 28.65it/s]\u001b[A\n",
      "252it [00:09, 29.97it/s]\u001b[A\n",
      "265it [00:10, 30.17it/s]\u001b[A\n",
      "277it [00:10, 28.08it/s]\u001b[A\n",
      "293it [00:11, 29.87it/s]\u001b[A\n",
      "308it [00:11, 30.05it/s]\u001b[A\n",
      "321it [00:12, 29.20it/s]\u001b[A\n",
      "338it [00:12, 27.91it/s]\u001b[A\n",
      "356it [00:13, 31.21it/s]\u001b[A\n",
      "373it [00:14, 29.24it/s]\u001b[A\n",
      "389it [00:14, 29.55it/s]\u001b[A\n",
      "403it [00:15, 26.72it/s]\u001b[A\n",
      "420it [00:15, 29.11it/s]\u001b[A\n",
      "434it [00:16, 29.73it/s]\u001b[A\n",
      "449it [00:16, 30.97it/s]\u001b[A\n",
      "463it [00:16, 32.81it/s]\u001b[A\n",
      "472it [00:17, 27.84it/s]\u001b[A\n",
      "501it [00:18, 27.73it/s]\u001b[A\n",
      "7it [02:05, 17.67s/it]"
     ]
    },
    {
     "name": "stdout",
     "output_type": "stream",
     "text": [
      "Trying date: 2021-04-04 | Currently at index: 7\n"
     ]
    },
    {
     "name": "stderr",
     "output_type": "stream",
     "text": [
      "\n",
      "0it [00:00, ?it/s]\u001b[A\n",
      "1it [00:01,  1.21s/it]\u001b[A\n",
      "18it [00:01, 13.06it/s]\u001b[A\n",
      "27it [00:02, 16.22it/s]\u001b[A\n",
      "39it [00:02, 20.94it/s]\u001b[A\n",
      "48it [00:02, 21.58it/s]\u001b[A\n",
      "58it [00:03, 22.84it/s]\u001b[A\n",
      "70it [00:03, 23.82it/s]\u001b[A\n",
      "84it [00:04, 26.90it/s]\u001b[A\n",
      "97it [00:04, 25.62it/s]\u001b[A\n",
      "117it [00:05, 32.11it/s]\u001b[A\n",
      "133it [00:05, 32.04it/s]\u001b[A\n",
      "145it [00:06, 30.91it/s]\u001b[A\n",
      "156it [00:06, 26.03it/s]\u001b[A\n",
      "174it [00:07, 30.58it/s]\u001b[A\n",
      "190it [00:07, 32.41it/s]\u001b[A\n",
      "201it [00:07, 30.72it/s]\u001b[A\n",
      "215it [00:08, 26.54it/s]\u001b[A\n",
      "232it [00:09, 25.35it/s]\u001b[A\n",
      "250it [00:09, 28.39it/s]\u001b[A\n",
      "266it [00:10, 30.76it/s]\u001b[A\n",
      "282it [00:10, 30.91it/s]\u001b[A\n",
      "301it [00:11, 33.56it/s]\u001b[A\n",
      "315it [00:11, 33.74it/s]\u001b[A\n",
      "330it [00:12, 33.96it/s]\u001b[A\n",
      "341it [00:12, 31.38it/s]\u001b[A\n",
      "353it [00:12, 31.88it/s]\u001b[A\n",
      "363it [00:13, 28.71it/s]\u001b[A\n",
      "375it [00:13, 27.40it/s]\u001b[A\n",
      "392it [00:14, 31.58it/s]\u001b[A\n",
      "409it [00:14, 33.01it/s]\u001b[A\n",
      "425it [00:15, 34.62it/s]\u001b[A\n",
      "436it [00:15, 28.04it/s]\u001b[A\n",
      "451it [00:16, 27.06it/s]\u001b[A\n",
      "468it [00:16, 29.63it/s]\u001b[A\n",
      "479it [00:17, 29.74it/s]\u001b[A\n",
      "501it [00:17, 28.53it/s]\u001b[A\n",
      "8it [02:22, 17.64s/it]"
     ]
    },
    {
     "name": "stdout",
     "output_type": "stream",
     "text": [
      "Trying date: 2021-04-16 | Currently at index: 8\n"
     ]
    },
    {
     "name": "stderr",
     "output_type": "stream",
     "text": [
      "\n",
      "0it [00:00, ?it/s]\u001b[A\n",
      "1it [00:00,  1.04it/s]\u001b[A\n",
      "9it [00:01,  7.71it/s]\u001b[A\n",
      "24it [00:01, 16.70it/s]\u001b[A\n",
      "38it [00:02, 20.65it/s]\u001b[A\n",
      "49it [00:02, 20.89it/s]\u001b[A\n",
      "63it [00:04, 14.96it/s]\u001b[A\n",
      "81it [00:04, 18.05it/s]\u001b[A\n",
      "101it [00:05, 23.46it/s]\u001b[A\n",
      "117it [00:06, 24.16it/s]\u001b[A\n",
      "133it [00:06, 24.24it/s]\u001b[A\n",
      "147it [00:07, 26.53it/s]\u001b[A\n",
      "158it [00:07, 24.49it/s]\u001b[A\n",
      "176it [00:08, 29.75it/s]\u001b[A\n",
      "190it [00:08, 29.65it/s]\u001b[A\n",
      "204it [00:09, 27.59it/s]\u001b[A\n",
      "219it [00:09, 28.74it/s]\u001b[A\n",
      "233it [00:10, 29.26it/s]\u001b[A\n",
      "247it [00:10, 26.50it/s]\u001b[A\n",
      "265it [00:11, 30.04it/s]\u001b[A\n",
      "278it [00:11, 28.74it/s]\u001b[A\n",
      "292it [00:12, 26.61it/s]\u001b[A\n",
      "308it [00:12, 26.47it/s]\u001b[A\n",
      "328it [00:13, 29.80it/s]\u001b[A\n",
      "345it [00:13, 32.81it/s]\u001b[A\n",
      "360it [00:14, 29.77it/s]\u001b[A\n",
      "375it [00:14, 31.10it/s]\u001b[A\n",
      "387it [00:15, 26.95it/s]\u001b[A\n",
      "402it [00:16, 25.60it/s]\u001b[A\n",
      "420it [00:16, 28.96it/s]\u001b[A\n",
      "437it [00:17, 31.73it/s]\u001b[A\n",
      "449it [00:17, 30.78it/s]\u001b[A\n",
      "461it [00:17, 30.16it/s]\u001b[A\n",
      "476it [00:18, 32.05it/s]\u001b[A\n",
      "487it [00:18, 29.94it/s]\u001b[A\n",
      "501it [00:19, 26.16it/s]\u001b[A\n",
      "9it [02:41, 18.12s/it]"
     ]
    },
    {
     "name": "stdout",
     "output_type": "stream",
     "text": [
      "Trying date: 2021-05-07 | Currently at index: 9\n"
     ]
    },
    {
     "name": "stderr",
     "output_type": "stream",
     "text": [
      "\n",
      "0it [00:00, ?it/s]\u001b[A\n",
      "1it [00:00,  1.07it/s]\u001b[A\n",
      "16it [00:01, 13.76it/s]\u001b[A\n",
      "30it [00:01, 20.44it/s]\u001b[A\n",
      "45it [00:02, 26.79it/s]\u001b[A\n",
      "55it [00:02, 21.92it/s]\u001b[A\n",
      "69it [00:03, 22.93it/s]\u001b[A\n",
      "89it [00:03, 28.12it/s]\u001b[A\n",
      "108it [00:04, 31.40it/s]\u001b[A\n",
      "123it [00:04, 30.38it/s]\u001b[A\n",
      "139it [00:05, 30.36it/s]\u001b[A\n",
      "155it [00:05, 31.44it/s]\u001b[A\n",
      "171it [00:06, 32.58it/s]\u001b[A\n",
      "184it [00:06, 31.93it/s]\u001b[A\n",
      "200it [00:07, 33.16it/s]\u001b[A\n",
      "211it [00:07, 26.79it/s]\u001b[A\n",
      "226it [00:08, 28.55it/s]\u001b[A\n",
      "240it [00:08, 30.48it/s]\u001b[A\n",
      "254it [00:09, 29.00it/s]\u001b[A\n",
      "267it [00:09, 29.53it/s]\u001b[A\n",
      "280it [00:10, 29.97it/s]\u001b[A\n",
      "295it [00:10, 29.74it/s]\u001b[A\n",
      "311it [00:11, 27.26it/s]\u001b[A\n",
      "326it [00:11, 28.60it/s]\u001b[A\n",
      "339it [00:12, 25.73it/s]\u001b[A\n",
      "358it [00:12, 30.37it/s]\u001b[A\n",
      "373it [00:13, 31.34it/s]\u001b[A\n",
      "387it [00:13, 31.92it/s]\u001b[A\n",
      "401it [00:14, 30.78it/s]\u001b[A\n",
      "418it [00:14, 33.64it/s]\u001b[A\n",
      "431it [00:14, 34.26it/s]\u001b[A\n",
      "438it [00:15, 29.12it/s]\u001b[A\n",
      "451it [00:15, 28.71it/s]\u001b[A\n",
      "466it [00:16, 25.83it/s]\u001b[A\n",
      "484it [00:17, 28.66it/s]\u001b[A\n",
      "501it [00:17, 28.35it/s]\u001b[A\n",
      "10it [02:59, 17.98s/it]"
     ]
    },
    {
     "name": "stdout",
     "output_type": "stream",
     "text": [
      "Trying date: 2021-05-24 | Currently at index: 10\n"
     ]
    },
    {
     "name": "stderr",
     "output_type": "stream",
     "text": [
      "\n",
      "0it [00:00, ?it/s]\u001b[A\n",
      "1it [00:00,  1.03it/s]\u001b[A\n",
      "14it [00:01, 11.95it/s]\u001b[A\n",
      "28it [00:01, 17.82it/s]\u001b[A\n",
      "43it [00:02, 22.69it/s]\u001b[A\n",
      "55it [00:02, 25.11it/s]\u001b[A\n",
      "66it [00:03, 24.56it/s]\u001b[A\n",
      "81it [00:03, 27.46it/s]\u001b[A\n",
      "91it [00:04, 25.26it/s]\u001b[A\n",
      "103it [00:04, 26.00it/s]\u001b[A\n",
      "119it [00:05, 26.80it/s]\u001b[A\n",
      "134it [00:05, 25.94it/s]\u001b[A\n",
      "151it [00:06, 26.15it/s]\u001b[A\n",
      "166it [00:07, 24.90it/s]\u001b[A\n",
      "179it [00:07, 26.38it/s]\u001b[A\n",
      "194it [00:07, 29.18it/s]\u001b[A\n",
      "208it [00:08, 30.06it/s]\u001b[A\n",
      "224it [00:08, 30.27it/s]\u001b[A\n",
      "241it [00:09, 33.65it/s]\u001b[A\n",
      "256it [00:09, 29.55it/s]\u001b[A\n",
      "273it [00:10, 32.66it/s]\u001b[A\n",
      "287it [00:10, 31.08it/s]\u001b[A\n",
      "306it [00:11, 32.30it/s]\u001b[A\n",
      "324it [00:12, 29.14it/s]\u001b[A\n",
      "343it [00:12, 32.38it/s]\u001b[A\n",
      "356it [00:13, 28.22it/s]\u001b[A\n",
      "374it [00:13, 30.71it/s]\u001b[A\n",
      "388it [00:14, 30.10it/s]\u001b[A\n",
      "398it [00:14, 28.72it/s]\u001b[A\n",
      "409it [00:15, 28.07it/s]\u001b[A\n",
      "424it [00:15, 28.28it/s]\u001b[A\n",
      "440it [00:16, 27.23it/s]\u001b[A\n",
      "455it [00:16, 25.99it/s]\u001b[A\n",
      "469it [00:17, 27.01it/s]\u001b[A\n",
      "479it [00:17, 26.72it/s]\u001b[A\n",
      "501it [00:18, 27.47it/s]\u001b[A\n",
      "11it [03:17, 18.07s/it]"
     ]
    },
    {
     "name": "stdout",
     "output_type": "stream",
     "text": [
      "Trying date: 2021-06-19 | Currently at index: 11\n"
     ]
    },
    {
     "name": "stderr",
     "output_type": "stream",
     "text": [
      "\n",
      "0it [00:00, ?it/s]\u001b[A\n",
      "1it [00:00,  1.04it/s]\u001b[A\n",
      "15it [00:01, 13.11it/s]\u001b[A\n",
      "27it [00:02, 15.41it/s]\u001b[A\n",
      "46it [00:02, 20.57it/s]\u001b[A\n",
      "61it [00:03, 24.03it/s]\u001b[A\n",
      "74it [00:03, 25.39it/s]\u001b[A\n",
      "85it [00:04, 25.78it/s]\u001b[A\n",
      "101it [00:04, 29.93it/s]\u001b[A\n",
      "116it [00:05, 27.05it/s]\u001b[A\n",
      "131it [00:05, 25.96it/s]\u001b[A\n",
      "147it [00:06, 28.06it/s]\u001b[A\n",
      "160it [00:06, 29.00it/s]\u001b[A\n",
      "172it [00:07, 26.31it/s]\u001b[A\n",
      "190it [00:07, 28.10it/s]\u001b[A\n",
      "208it [00:08, 31.77it/s]\u001b[A\n",
      "218it [00:08, 27.78it/s]\u001b[A\n",
      "236it [00:09, 28.14it/s]\u001b[A\n",
      "250it [00:09, 27.95it/s]\u001b[A\n",
      "264it [00:10, 26.10it/s]\u001b[A\n",
      "279it [00:11, 25.40it/s]\u001b[A\n",
      "294it [00:11, 27.46it/s]\u001b[A\n",
      "308it [00:12, 25.69it/s]\u001b[A\n",
      "322it [00:12, 24.15it/s]\u001b[A\n",
      "335it [00:13, 22.28it/s]\u001b[A\n",
      "351it [00:14, 24.43it/s]\u001b[A\n",
      "368it [00:14, 28.18it/s]\u001b[A\n",
      "379it [00:15, 24.86it/s]\u001b[A\n",
      "395it [00:15, 26.87it/s]\u001b[A\n",
      "412it [00:15, 31.27it/s]\u001b[A\n",
      "424it [00:16, 28.84it/s]\u001b[A\n",
      "437it [00:16, 28.81it/s]\u001b[A\n",
      "452it [00:17, 28.22it/s]\u001b[A\n",
      "469it [00:17, 29.81it/s]\u001b[A\n",
      "485it [00:18, 31.89it/s]\u001b[A\n",
      "501it [00:18, 26.65it/s]\u001b[A\n",
      "12it [03:36, 18.29s/it]"
     ]
    },
    {
     "name": "stdout",
     "output_type": "stream",
     "text": [
      "Trying date: 2021-07-01 | Currently at index: 12\n"
     ]
    },
    {
     "name": "stderr",
     "output_type": "stream",
     "text": [
      "\n",
      "0it [00:00, ?it/s]\u001b[A\n",
      "1it [00:00,  1.02it/s]\u001b[A\n",
      "10it [00:01,  8.65it/s]\u001b[A\n",
      "20it [00:01, 14.25it/s]\u001b[A\n",
      "31it [00:02, 18.71it/s]\u001b[A\n",
      "47it [00:02, 27.12it/s]\u001b[A\n",
      "56it [00:02, 25.22it/s]\u001b[A\n",
      "63it [00:03, 23.03it/s]\u001b[A\n",
      "70it [00:03, 21.66it/s]\u001b[A\n",
      "81it [00:04, 23.63it/s]\u001b[A\n",
      "92it [00:04, 25.93it/s]\u001b[A\n",
      "100it [00:04, 23.66it/s]\u001b[A\n",
      "109it [00:05, 21.92it/s]\u001b[A\n",
      "123it [00:05, 25.27it/s]\u001b[A\n",
      "137it [00:06, 27.94it/s]\u001b[A\n",
      "147it [00:06, 26.27it/s]\u001b[A\n",
      "158it [00:07, 24.91it/s]\u001b[A\n",
      "168it [00:07, 24.90it/s]\u001b[A\n",
      "180it [00:07, 26.64it/s]\u001b[A\n",
      "190it [00:08, 26.48it/s]\u001b[A\n",
      "201it [00:08, 26.09it/s]\u001b[A\n",
      "214it [00:09, 28.09it/s]\u001b[A\n",
      "224it [00:09, 21.17it/s]\u001b[A\n",
      "228it [00:10, 19.20it/s]\u001b[A\n",
      "234it [00:10, 19.56it/s]\u001b[A\n",
      "241it [00:10, 20.05it/s]\u001b[A\n",
      "249it [00:11, 20.29it/s]\u001b[A\n",
      "255it [00:11, 17.60it/s]\u001b[A\n",
      "270it [00:12, 22.97it/s]\u001b[A\n",
      "285it [00:12, 28.06it/s]\u001b[A\n",
      "294it [00:13, 19.43it/s]\u001b[A\n",
      "307it [00:13, 20.13it/s]\u001b[A\n",
      "321it [00:14, 23.87it/s]\u001b[A\n",
      "329it [00:14, 20.42it/s]\u001b[A\n",
      "343it [00:15, 24.92it/s]\u001b[A\n",
      "356it [00:15, 26.93it/s]\u001b[A\n",
      "363it [00:16, 24.36it/s]\u001b[A\n",
      "369it [00:16, 20.82it/s]\u001b[A\n",
      "381it [00:16, 23.68it/s]\u001b[A\n",
      "391it [00:17, 23.10it/s]\u001b[A\n",
      "407it [00:17, 27.78it/s]\u001b[A\n",
      "417it [00:18, 25.08it/s]\u001b[A\n",
      "432it [00:18, 28.52it/s]\u001b[A\n",
      "445it [00:19, 25.07it/s]\u001b[A\n",
      "462it [00:19, 29.69it/s]\u001b[A\n",
      "472it [00:20, 24.72it/s]\u001b[A\n",
      "486it [00:20, 27.34it/s]\u001b[A\n",
      "501it [00:21, 23.65it/s]\u001b[A\n",
      "13it [03:57, 19.17s/it]"
     ]
    },
    {
     "name": "stdout",
     "output_type": "stream",
     "text": [
      "Trying date: 2021-07-15 | Currently at index: 13\n"
     ]
    },
    {
     "name": "stderr",
     "output_type": "stream",
     "text": [
      "\n",
      "0it [00:00, ?it/s]\u001b[A\n",
      "1it [00:01,  1.05s/it]\u001b[A\n",
      "15it [00:01, 12.27it/s]\u001b[A\n",
      "27it [00:01, 18.12it/s]\u001b[A\n",
      "42it [00:02, 23.64it/s]\u001b[A\n",
      "53it [00:02, 24.65it/s]\u001b[A\n",
      "67it [00:03, 23.51it/s]\u001b[A\n",
      "85it [00:03, 26.48it/s]\u001b[A\n",
      "98it [00:04, 27.60it/s]\u001b[A\n",
      "108it [00:04, 24.50it/s]\u001b[A\n",
      "126it [00:05, 29.94it/s]\u001b[A\n",
      "140it [00:05, 29.78it/s]\u001b[A\n",
      "157it [00:06, 33.31it/s]\u001b[A\n",
      "171it [00:06, 34.24it/s]\u001b[A\n",
      "178it [00:06, 29.80it/s]\u001b[A\n",
      "189it [00:07, 20.98it/s]\u001b[A\n",
      "201it [00:08, 20.33it/s]\u001b[A\n",
      "211it [00:08, 21.62it/s]\u001b[A\n",
      "224it [00:09, 24.40it/s]\u001b[A\n",
      "239it [00:09, 26.08it/s]\u001b[A\n",
      "255it [00:10, 28.30it/s]\u001b[A\n",
      "271it [00:10, 29.33it/s]\u001b[A\n",
      "283it [00:11, 28.08it/s]\u001b[A\n",
      "295it [00:11, 28.10it/s]\u001b[A\n",
      "307it [00:12, 28.50it/s]\u001b[A\n",
      "320it [00:12, 28.25it/s]\u001b[A\n",
      "338it [00:12, 32.47it/s]\u001b[A\n",
      "349it [00:13, 30.21it/s]\u001b[A\n",
      "358it [00:13, 28.25it/s]\u001b[A\n",
      "371it [00:14, 24.31it/s]\u001b[A\n",
      "385it [00:14, 27.44it/s]\u001b[A\n",
      "398it [00:15, 28.22it/s]\u001b[A\n",
      "410it [00:15, 26.87it/s]\u001b[A\n",
      "424it [00:16, 28.68it/s]\u001b[A\n",
      "438it [00:16, 30.57it/s]\u001b[A\n",
      "453it [00:17, 30.48it/s]\u001b[A\n",
      "465it [00:17, 26.53it/s]\u001b[A\n",
      "481it [00:18, 26.41it/s]\u001b[A\n",
      "501it [00:18, 26.55it/s]\u001b[A\n",
      "14it [04:16, 19.08s/it]"
     ]
    },
    {
     "name": "stdout",
     "output_type": "stream",
     "text": [
      "Trying date: 2021-08-03 | Currently at index: 14\n"
     ]
    },
    {
     "name": "stderr",
     "output_type": "stream",
     "text": [
      "\n",
      "0it [00:00, ?it/s]\u001b[A\n",
      "1it [00:01,  1.06s/it]\u001b[A\n",
      "14it [00:01, 11.27it/s]\u001b[A\n",
      "30it [00:01, 20.69it/s]\u001b[A\n",
      "40it [00:02, 21.19it/s]\u001b[A\n",
      "53it [00:02, 24.01it/s]\u001b[A\n",
      "65it [00:03, 26.28it/s]\u001b[A\n",
      "78it [00:03, 27.85it/s]\u001b[A\n",
      "86it [00:04, 24.64it/s]\u001b[A\n",
      "93it [00:04, 22.06it/s]\u001b[A\n",
      "102it [00:04, 22.20it/s]\u001b[A\n",
      "114it [00:05, 22.90it/s]\u001b[A\n",
      "128it [00:05, 23.69it/s]\u001b[A\n",
      "140it [00:06, 25.54it/s]\u001b[A\n",
      "152it [00:06, 25.07it/s]\u001b[A\n",
      "164it [00:07, 24.93it/s]\u001b[A\n",
      "181it [00:07, 28.63it/s]\u001b[A\n",
      "190it [00:08, 26.96it/s]\u001b[A\n",
      "201it [00:08, 26.65it/s]\u001b[A\n",
      "214it [00:08, 27.82it/s]\u001b[A\n",
      "224it [00:09, 24.36it/s]\u001b[A\n",
      "237it [00:10, 25.67it/s]\u001b[A\n",
      "247it [00:10, 21.57it/s]\u001b[A\n",
      "261it [00:11, 25.68it/s]\u001b[A\n",
      "273it [00:11, 28.01it/s]\u001b[A\n",
      "282it [00:11, 27.11it/s]\u001b[A\n",
      "290it [00:12, 24.36it/s]\u001b[A\n",
      "301it [00:12, 24.73it/s]\u001b[A\n",
      "311it [00:13, 24.14it/s]\u001b[A\n",
      "321it [00:13, 23.01it/s]\u001b[A\n",
      "335it [00:14, 23.88it/s]\u001b[A\n",
      "352it [00:14, 28.86it/s]\u001b[A\n",
      "363it [00:14, 28.95it/s]\u001b[A\n",
      "373it [00:15, 25.92it/s]\u001b[A\n",
      "385it [00:15, 29.01it/s]\u001b[A\n",
      "394it [00:16, 26.41it/s]\u001b[A\n",
      "403it [00:16, 23.84it/s]\u001b[A\n",
      "413it [00:16, 24.40it/s]\u001b[A\n",
      "424it [00:17, 24.72it/s]\u001b[A\n",
      "433it [00:17, 23.91it/s]\u001b[A\n",
      "448it [00:18, 26.72it/s]\u001b[A\n",
      "458it [00:18, 28.90it/s]\u001b[A\n",
      "461it [00:18, 23.35it/s]\u001b[A\n",
      "465it [00:19, 19.60it/s]\u001b[A\n",
      "470it [00:19, 16.89it/s]\u001b[A\n",
      "479it [00:20, 18.61it/s]\u001b[A\n",
      "488it [00:20, 19.68it/s]\u001b[A\n",
      "501it [00:20, 24.05it/s]\u001b[A\n",
      "15it [04:37, 19.61s/it]"
     ]
    },
    {
     "name": "stdout",
     "output_type": "stream",
     "text": [
      "Trying date: 2021-08-13 | Currently at index: 15\n"
     ]
    },
    {
     "name": "stderr",
     "output_type": "stream",
     "text": [
      "\n",
      "0it [00:00, ?it/s]\u001b[A\n",
      "1it [00:01,  1.03s/it]\u001b[A\n",
      "13it [00:01,  8.57it/s]\u001b[A\n",
      "31it [00:02, 18.85it/s]\u001b[A\n",
      "44it [00:02, 21.88it/s]\u001b[A\n",
      "57it [00:03, 18.46it/s]\u001b[A\n",
      "68it [00:03, 20.27it/s]\u001b[A\n",
      "78it [00:04, 20.73it/s]\u001b[A\n",
      "91it [00:04, 21.74it/s]\u001b[A\n",
      "108it [00:05, 25.99it/s]\u001b[A\n",
      "123it [00:05, 28.90it/s]\u001b[A\n",
      "134it [00:06, 27.71it/s]\u001b[A\n",
      "149it [00:06, 29.08it/s]\u001b[A\n",
      "164it [00:07, 30.94it/s]\u001b[A\n",
      "174it [00:07, 28.14it/s]\u001b[A\n",
      "186it [00:07, 29.52it/s]\u001b[A\n",
      "195it [00:08, 26.25it/s]\u001b[A\n",
      "204it [00:08, 24.72it/s]\u001b[A\n",
      "213it [00:09, 23.52it/s]\u001b[A\n",
      "222it [00:09, 23.80it/s]\u001b[A\n",
      "232it [00:10, 23.92it/s]\u001b[A\n",
      "245it [00:10, 25.04it/s]\u001b[A\n",
      "259it [00:11, 25.79it/s]\u001b[A\n",
      "272it [00:11, 27.54it/s]\u001b[A\n",
      "281it [00:11, 25.88it/s]\u001b[A\n",
      "292it [00:12, 27.97it/s]\u001b[A\n",
      "300it [00:12, 25.75it/s]\u001b[A\n",
      "308it [00:12, 24.74it/s]\u001b[A\n",
      "315it [00:13, 23.89it/s]\u001b[A\n",
      "322it [00:13, 18.30it/s]\u001b[A\n",
      "336it [00:14, 22.33it/s]\u001b[A\n",
      "348it [00:14, 25.51it/s]\u001b[A\n",
      "358it [00:15, 25.62it/s]\u001b[A\n",
      "369it [00:15, 26.03it/s]\u001b[A\n",
      "376it [00:15, 23.72it/s]\u001b[A\n",
      "383it [00:16, 22.41it/s]\u001b[A\n",
      "394it [00:16, 25.17it/s]\u001b[A\n",
      "404it [00:17, 21.80it/s]\u001b[A\n",
      "420it [00:17, 27.13it/s]\u001b[A\n",
      "433it [00:17, 28.17it/s]\u001b[A\n",
      "445it [00:18, 27.87it/s]\u001b[A\n",
      "456it [00:18, 24.99it/s]\u001b[A\n",
      "470it [00:19, 26.22it/s]\u001b[A\n",
      "482it [00:19, 27.79it/s]\u001b[A\n",
      "501it [00:20, 24.66it/s]\u001b[A\n",
      "16it [04:57, 19.83s/it]"
     ]
    },
    {
     "name": "stdout",
     "output_type": "stream",
     "text": [
      "Trying date: 2021-08-22 | Currently at index: 16\n"
     ]
    },
    {
     "name": "stderr",
     "output_type": "stream",
     "text": [
      "\n",
      "0it [00:00, ?it/s]\u001b[A\n",
      "1it [00:01,  1.12s/it]\u001b[A\n",
      "14it [00:01, 11.10it/s]\u001b[A\n",
      "28it [00:01, 18.34it/s]\u001b[A\n",
      "41it [00:02, 22.72it/s]\u001b[A\n",
      "49it [00:03, 15.55it/s]\u001b[A\n",
      "64it [00:03, 20.02it/s]\u001b[A\n",
      "77it [00:04, 23.39it/s]\u001b[A\n",
      "89it [00:04, 24.66it/s]\u001b[A\n",
      "99it [00:05, 24.11it/s]\u001b[A\n",
      "113it [00:05, 25.63it/s]\u001b[A\n",
      "125it [00:05, 26.66it/s]\u001b[A\n",
      "132it [00:06, 22.97it/s]\u001b[A\n",
      "139it [00:06, 20.51it/s]\u001b[A\n",
      "148it [00:07, 20.79it/s]\u001b[A\n",
      "162it [00:07, 24.01it/s]\u001b[A\n",
      "175it [00:08, 25.67it/s]\u001b[A\n",
      "190it [00:08, 29.03it/s]\u001b[A\n",
      "202it [00:08, 29.24it/s]\u001b[A\n",
      "217it [00:09, 32.71it/s]\u001b[A\n",
      "226it [00:09, 28.09it/s]\u001b[A\n",
      "242it [00:10, 26.21it/s]\u001b[A\n",
      "259it [00:10, 29.58it/s]\u001b[A\n",
      "271it [00:11, 28.28it/s]\u001b[A\n",
      "289it [00:11, 31.39it/s]\u001b[A\n",
      "300it [00:12, 28.96it/s]\u001b[A\n",
      "316it [00:12, 30.15it/s]\u001b[A\n",
      "335it [00:13, 34.52it/s]\u001b[A\n",
      "350it [00:13, 33.58it/s]\u001b[A\n",
      "367it [00:14, 35.85it/s]\u001b[A\n",
      "382it [00:14, 33.12it/s]\u001b[A\n",
      "402it [00:15, 36.10it/s]\u001b[A\n",
      "417it [00:15, 33.24it/s]\u001b[A\n",
      "433it [00:16, 32.95it/s]\u001b[A\n",
      "449it [00:16, 35.21it/s]\u001b[A\n",
      "461it [00:16, 33.00it/s]\u001b[A\n",
      "479it [00:17, 32.34it/s]\u001b[A\n",
      "501it [00:18, 27.53it/s]\u001b[A\n",
      "17it [05:16, 19.34s/it]"
     ]
    },
    {
     "name": "stdout",
     "output_type": "stream",
     "text": [
      "Trying date: 2021-09-09 | Currently at index: 17\n"
     ]
    },
    {
     "name": "stderr",
     "output_type": "stream",
     "text": [
      "\n",
      "0it [00:00, ?it/s]\u001b[A\n",
      "1it [00:01,  1.01s/it]\u001b[A\n",
      "10it [00:01,  7.02it/s]\u001b[A\n",
      "28it [00:02, 16.05it/s]\u001b[A\n",
      "45it [00:02, 20.01it/s]\u001b[A\n",
      "60it [00:03, 24.21it/s]\u001b[A\n",
      "71it [00:03, 24.66it/s]\u001b[A\n",
      "85it [00:04, 27.44it/s]\u001b[A\n",
      "97it [00:04, 25.78it/s]\u001b[A\n",
      "117it [00:05, 27.80it/s]\u001b[A\n",
      "134it [00:05, 29.69it/s]\u001b[A\n",
      "150it [00:06, 31.27it/s]\u001b[A\n",
      "163it [00:06, 32.19it/s]\u001b[A\n",
      "174it [00:07, 30.79it/s]\u001b[A\n",
      "188it [00:07, 29.11it/s]\u001b[A\n",
      "203it [00:08, 29.95it/s]\u001b[A\n",
      "215it [00:08, 29.10it/s]\u001b[A\n",
      "228it [00:09, 26.56it/s]\u001b[A\n",
      "243it [00:09, 27.83it/s]\u001b[A\n",
      "256it [00:10, 27.10it/s]\u001b[A\n",
      "265it [00:10, 24.04it/s]\u001b[A\n",
      "275it [00:11, 20.91it/s]\u001b[A\n",
      "288it [00:11, 24.66it/s]\u001b[A\n",
      "300it [00:12, 24.45it/s]\u001b[A\n",
      "316it [00:12, 27.03it/s]\u001b[A\n",
      "328it [00:13, 24.57it/s]\u001b[A\n",
      "342it [00:13, 26.36it/s]\u001b[A\n",
      "357it [00:13, 29.73it/s]\u001b[A\n",
      "368it [00:14, 27.91it/s]\u001b[A\n",
      "384it [00:15, 26.12it/s]\u001b[A\n",
      "403it [00:15, 30.43it/s]\u001b[A\n",
      "417it [00:16, 30.44it/s]\u001b[A\n",
      "429it [00:16, 30.79it/s]\u001b[A\n",
      "443it [00:17, 28.06it/s]\u001b[A\n",
      "461it [00:17, 30.48it/s]\u001b[A\n",
      "478it [00:18, 31.97it/s]\u001b[A\n",
      "501it [00:18, 27.13it/s]\u001b[A\n",
      "18it [05:34, 19.08s/it]"
     ]
    },
    {
     "name": "stdout",
     "output_type": "stream",
     "text": [
      "Trying date: 2021-10-17 | Currently at index: 18\n"
     ]
    },
    {
     "name": "stderr",
     "output_type": "stream",
     "text": [
      "\n",
      "0it [00:00, ?it/s]\u001b[A\n",
      "1it [00:01,  1.39s/it]\u001b[A\n",
      "16it [00:01, 11.51it/s]\u001b[A\n",
      "34it [00:02, 17.43it/s]\u001b[A\n",
      "50it [00:03, 21.13it/s]\u001b[A\n",
      "63it [00:03, 23.84it/s]\u001b[A\n",
      "82it [00:03, 30.79it/s]\u001b[A\n",
      "96it [00:04, 29.48it/s]\u001b[A\n",
      "112it [00:04, 32.07it/s]\u001b[A\n",
      "128it [00:05, 35.11it/s]\u001b[A\n",
      "140it [00:05, 32.84it/s]\u001b[A\n",
      "147it [00:06, 24.68it/s]\u001b[A\n",
      "162it [00:06, 27.56it/s]\u001b[A\n",
      "176it [00:07, 25.67it/s]\u001b[A\n",
      "191it [00:07, 27.91it/s]\u001b[A\n",
      "207it [00:08, 23.08it/s]\u001b[A\n",
      "223it [00:09, 26.32it/s]\u001b[A\n",
      "237it [00:09, 27.91it/s]\u001b[A\n",
      "249it [00:09, 28.19it/s]\u001b[A\n",
      "261it [00:10, 27.58it/s]\u001b[A\n",
      "273it [00:10, 27.50it/s]\u001b[A\n",
      "286it [00:11, 28.09it/s]\u001b[A\n",
      "302it [00:11, 27.07it/s]\u001b[A\n",
      "317it [00:12, 29.46it/s]\u001b[A\n",
      "329it [00:12, 28.42it/s]\u001b[A\n",
      "340it [00:13, 28.89it/s]\u001b[A\n",
      "353it [00:13, 26.21it/s]\u001b[A\n",
      "371it [00:14, 31.40it/s]\u001b[A\n",
      "384it [00:14, 23.13it/s]\u001b[A\n",
      "399it [00:15, 25.80it/s]\u001b[A\n",
      "411it [00:15, 25.42it/s]\u001b[A\n",
      "426it [00:16, 26.92it/s]\u001b[A\n",
      "437it [00:16, 27.17it/s]\u001b[A\n",
      "446it [00:17, 25.00it/s]\u001b[A\n",
      "460it [00:17, 28.41it/s]\u001b[A\n",
      "473it [00:18, 28.60it/s]\u001b[A\n",
      "482it [00:18, 27.91it/s]\u001b[A\n",
      "501it [00:19, 25.73it/s]\u001b[A\n",
      "19it [05:54, 19.20s/it]"
     ]
    },
    {
     "name": "stdout",
     "output_type": "stream",
     "text": [
      "Trying date: 2021-10-26 | Currently at index: 19\n"
     ]
    },
    {
     "name": "stderr",
     "output_type": "stream",
     "text": [
      "\n",
      "0it [00:00, ?it/s]\u001b[A\n",
      "1it [00:00,  1.02it/s]\u001b[A\n",
      "14it [00:01, 12.82it/s]\u001b[A\n",
      "26it [00:01, 17.59it/s]\u001b[A\n",
      "40it [00:02, 22.33it/s]\u001b[A\n",
      "55it [00:02, 27.65it/s]\u001b[A\n",
      "63it [00:03, 22.57it/s]\u001b[A\n",
      "72it [00:03, 22.36it/s]\u001b[A\n",
      "82it [00:04, 23.19it/s]\u001b[A\n",
      "88it [00:04, 21.32it/s]\u001b[A\n",
      "96it [00:04, 19.14it/s]\u001b[A\n",
      "110it [00:05, 21.97it/s]\u001b[A\n",
      "125it [00:05, 24.84it/s]\u001b[A\n",
      "136it [00:06, 25.75it/s]\u001b[A\n",
      "146it [00:06, 25.02it/s]\u001b[A\n",
      "157it [00:07, 21.37it/s]\u001b[A\n",
      "174it [00:07, 26.47it/s]\u001b[A\n",
      "185it [00:08, 27.38it/s]\u001b[A\n",
      "192it [00:08, 25.00it/s]\u001b[A\n",
      "196it [00:09, 19.38it/s]\u001b[A\n",
      "208it [00:09, 22.05it/s]\u001b[A\n",
      "214it [00:09, 19.40it/s]\u001b[A\n",
      "222it [00:10, 19.23it/s]\u001b[A\n",
      "232it [00:10, 21.08it/s]\u001b[A\n",
      "250it [00:11, 27.94it/s]\u001b[A\n",
      "264it [00:11, 30.27it/s]\u001b[A\n",
      "275it [00:11, 29.29it/s]\u001b[A\n",
      "285it [00:12, 27.00it/s]\u001b[A\n",
      "297it [00:12, 27.79it/s]\u001b[A\n",
      "309it [00:13, 28.34it/s]\u001b[A\n",
      "319it [00:13, 27.72it/s]\u001b[A\n",
      "329it [00:14, 24.81it/s]\u001b[A\n",
      "342it [00:14, 28.43it/s]\u001b[A\n",
      "351it [00:14, 28.39it/s]\u001b[A\n",
      "356it [00:15, 25.26it/s]\u001b[A\n",
      "360it [00:15, 22.34it/s]\u001b[A\n",
      "364it [00:15, 17.26it/s]\u001b[A\n",
      "375it [00:16, 15.21it/s]\u001b[A\n",
      "382it [00:16, 16.90it/s]\u001b[A\n",
      "388it [00:17, 16.16it/s]\u001b[A\n",
      "398it [00:17, 18.24it/s]\u001b[A\n",
      "408it [00:18, 18.50it/s]\u001b[A\n",
      "420it [00:18, 21.51it/s]\u001b[A\n",
      "435it [00:19, 24.52it/s]\u001b[A\n",
      "447it [00:19, 26.39it/s]\u001b[A\n",
      "462it [00:19, 30.63it/s]\u001b[A\n",
      "471it [00:20, 28.03it/s]\u001b[A\n",
      "479it [00:20, 25.35it/s]\u001b[A\n",
      "491it [00:21, 27.01it/s]\u001b[A\n",
      "501it [00:21, 23.23it/s]\u001b[A\n",
      "20it [06:15, 19.92s/it]"
     ]
    },
    {
     "name": "stdout",
     "output_type": "stream",
     "text": [
      "Trying date: 2021-11-03 | Currently at index: 20\n"
     ]
    },
    {
     "name": "stderr",
     "output_type": "stream",
     "text": [
      "\n",
      "0it [00:00, ?it/s]\u001b[A\n",
      "1it [00:00,  1.04it/s]\u001b[A\n",
      "15it [00:01, 13.42it/s]\u001b[A\n",
      "22it [00:02, 11.05it/s]\u001b[A\n",
      "36it [00:02, 18.01it/s]\u001b[A\n",
      "48it [00:03, 20.32it/s]\u001b[A\n",
      "61it [00:03, 22.29it/s]\u001b[A\n",
      "69it [00:04, 19.50it/s]\u001b[A\n",
      "87it [00:04, 27.08it/s]\u001b[A\n",
      "95it [00:04, 23.98it/s]\u001b[A\n",
      "109it [00:05, 26.36it/s]\u001b[A\n",
      "121it [00:05, 25.82it/s]\u001b[A\n",
      "129it [00:06, 24.60it/s]\u001b[A\n",
      "139it [00:06, 20.66it/s]\u001b[A\n",
      "156it [00:07, 23.04it/s]\u001b[A\n",
      "172it [00:08, 25.06it/s]\u001b[A\n",
      "186it [00:08, 25.94it/s]\u001b[A\n",
      "195it [00:09, 23.51it/s]\u001b[A\n",
      "202it [00:09, 22.31it/s]\u001b[A\n",
      "211it [00:09, 22.44it/s]\u001b[A\n",
      "216it [00:10, 20.34it/s]\u001b[A\n",
      "221it [00:10, 16.80it/s]\u001b[A\n",
      "230it [00:10, 19.33it/s]\u001b[A\n",
      "234it [00:11, 17.41it/s]\u001b[A\n",
      "242it [00:11, 16.54it/s]\u001b[A\n",
      "255it [00:12, 20.11it/s]\u001b[A\n",
      "261it [00:12, 17.13it/s]\u001b[A\n",
      "269it [00:13, 15.70it/s]\u001b[A\n",
      "277it [00:14, 13.86it/s]\u001b[A\n",
      "288it [00:14, 15.85it/s]\u001b[A\n",
      "296it [00:15, 16.54it/s]\u001b[A\n",
      "306it [00:15, 15.60it/s]\u001b[A\n",
      "319it [00:16, 19.59it/s]\u001b[A\n",
      "333it [00:16, 21.32it/s]\u001b[A\n",
      "344it [00:17, 23.48it/s]\u001b[A\n",
      "355it [00:17, 24.49it/s]\u001b[A\n",
      "366it [00:17, 25.86it/s]\u001b[A\n",
      "377it [00:18, 25.37it/s]\u001b[A\n",
      "388it [00:18, 25.20it/s]\u001b[A\n",
      "400it [00:19, 26.31it/s]\u001b[A\n",
      "414it [00:19, 23.99it/s]\u001b[A\n",
      "430it [00:20, 28.69it/s]\u001b[A\n",
      "438it [00:20, 26.21it/s]\u001b[A\n",
      "453it [00:21, 27.33it/s]\u001b[A\n",
      "467it [00:21, 26.50it/s]\u001b[A\n",
      "477it [00:22, 24.71it/s]\u001b[A\n",
      "501it [00:23, 21.77it/s]\u001b[A\n",
      "21it [06:38, 20.85s/it]"
     ]
    },
    {
     "name": "stdout",
     "output_type": "stream",
     "text": [
      "Trying date: 2021-11-10 | Currently at index: 21\n"
     ]
    },
    {
     "name": "stderr",
     "output_type": "stream",
     "text": [
      "\n",
      "0it [00:00, ?it/s]\u001b[A\n",
      "1it [00:01,  1.02s/it]\u001b[A\n",
      "15it [00:01, 12.31it/s]\u001b[A\n",
      "29it [00:01, 19.22it/s]\u001b[A\n",
      "43it [00:02, 24.73it/s]\u001b[A\n",
      "53it [00:02, 22.95it/s]\u001b[A\n",
      "66it [00:03, 26.07it/s]\u001b[A\n",
      "79it [00:03, 26.70it/s]\u001b[A\n",
      "92it [00:04, 23.25it/s]\u001b[A\n",
      "107it [00:04, 26.47it/s]\u001b[A\n",
      "120it [00:05, 26.95it/s]\u001b[A\n",
      "131it [00:05, 25.79it/s]\u001b[A\n",
      "142it [00:06, 25.56it/s]\u001b[A\n",
      "154it [00:06, 26.12it/s]\u001b[A\n",
      "165it [00:06, 26.61it/s]\u001b[A\n",
      "177it [00:07, 27.62it/s]\u001b[A\n",
      "187it [00:07, 25.57it/s]\u001b[A\n",
      "201it [00:08, 25.64it/s]\u001b[A\n",
      "216it [00:08, 29.98it/s]\u001b[A\n",
      "229it [00:09, 31.25it/s]\u001b[A\n",
      "243it [00:09, 31.57it/s]\u001b[A\n",
      "254it [00:09, 31.60it/s]\u001b[A\n",
      "265it [00:10, 29.31it/s]\u001b[A\n",
      "276it [00:10, 28.99it/s]\u001b[A\n",
      "287it [00:11, 27.35it/s]\u001b[A\n",
      "295it [00:11, 24.49it/s]\u001b[A\n",
      "305it [00:12, 23.80it/s]\u001b[A\n",
      "317it [00:12, 25.84it/s]\u001b[A\n",
      "331it [00:12, 29.13it/s]\u001b[A\n",
      "340it [00:13, 25.52it/s]\u001b[A\n",
      "350it [00:13, 21.79it/s]\u001b[A\n",
      "359it [00:14, 21.87it/s]\u001b[A\n",
      "372it [00:14, 24.57it/s]\u001b[A\n",
      "381it [00:15, 23.81it/s]\u001b[A\n",
      "389it [00:15, 22.83it/s]\u001b[A\n",
      "405it [00:16, 25.39it/s]\u001b[A\n",
      "421it [00:16, 28.38it/s]\u001b[A\n",
      "434it [00:17, 28.58it/s]\u001b[A\n",
      "443it [00:17, 27.33it/s]\u001b[A\n",
      "455it [00:17, 27.27it/s]\u001b[A\n",
      "462it [00:18, 24.68it/s]\u001b[A\n",
      "480it [00:18, 31.18it/s]\u001b[A\n",
      "501it [00:18, 26.40it/s]\u001b[A\n",
      "22it [06:57, 20.29s/it]"
     ]
    },
    {
     "name": "stdout",
     "output_type": "stream",
     "text": [
      "Trying date: 2021-11-17 | Currently at index: 22\n"
     ]
    },
    {
     "name": "stderr",
     "output_type": "stream",
     "text": [
      "\n",
      "0it [00:00, ?it/s]\u001b[A\n",
      "1it [00:01,  1.11s/it]\u001b[A\n",
      "17it [00:02,  8.01it/s]\u001b[A\n",
      "32it [00:02, 13.77it/s]\u001b[A\n",
      "43it [00:03, 16.99it/s]\u001b[A\n",
      "52it [00:03, 18.32it/s]\u001b[A\n",
      "69it [00:04, 24.30it/s]\u001b[A\n",
      "79it [00:04, 24.73it/s]\u001b[A\n",
      "86it [00:04, 21.79it/s]\u001b[A\n",
      "96it [00:05, 17.35it/s]\u001b[A\n",
      "111it [00:06, 21.40it/s]\u001b[A\n",
      "119it [00:06, 20.36it/s]\u001b[A\n",
      "131it [00:07, 22.23it/s]\u001b[A\n",
      "140it [00:07, 22.24it/s]\u001b[A\n",
      "148it [00:07, 21.88it/s]\u001b[A\n",
      "154it [00:08, 21.01it/s]\u001b[A\n",
      "161it [00:08, 21.21it/s]\u001b[A\n",
      "170it [00:08, 21.79it/s]\u001b[A\n",
      "178it [00:09, 21.16it/s]\u001b[A\n",
      "187it [00:09, 21.76it/s]\u001b[A\n",
      "200it [00:10, 25.25it/s]\u001b[A\n",
      "209it [00:10, 25.69it/s]\u001b[A\n",
      "219it [00:10, 24.19it/s]\u001b[A\n",
      "226it [00:11, 22.59it/s]\u001b[A\n",
      "234it [00:11, 20.16it/s]\u001b[A\n",
      "243it [00:12, 20.96it/s]\u001b[A\n",
      "247it [00:12, 18.17it/s]\u001b[A\n",
      "251it [00:12, 15.81it/s]\u001b[A\n",
      "261it [00:13, 17.17it/s]\u001b[A\n",
      "268it [00:13, 16.54it/s]\u001b[A\n",
      "283it [00:14, 22.01it/s]\u001b[A\n",
      "296it [00:14, 25.45it/s]\u001b[A\n",
      "306it [00:15, 24.58it/s]\u001b[A\n",
      "315it [00:15, 23.43it/s]\u001b[A\n",
      "327it [00:16, 24.50it/s]\u001b[A\n",
      "338it [00:16, 21.89it/s]\u001b[A\n",
      "353it [00:17, 24.33it/s]\u001b[A\n",
      "365it [00:17, 25.14it/s]\u001b[A\n",
      "377it [00:18, 20.12it/s]\u001b[A\n",
      "395it [00:18, 25.59it/s]\u001b[A\n",
      "406it [00:19, 23.15it/s]\u001b[A\n",
      "421it [00:20, 25.37it/s]\u001b[A\n",
      "431it [00:20, 25.82it/s]\u001b[A\n",
      "437it [00:20, 22.53it/s]\u001b[A\n",
      "446it [00:21, 22.01it/s]\u001b[A\n",
      "457it [00:21, 23.33it/s]\u001b[A\n",
      "464it [00:22, 21.78it/s]\u001b[A\n",
      "476it [00:22, 24.34it/s]\u001b[A\n",
      "486it [00:22, 22.93it/s]\u001b[A\n",
      "501it [00:23, 21.50it/s]\u001b[A\n",
      "23it [07:21, 21.20s/it]"
     ]
    },
    {
     "name": "stdout",
     "output_type": "stream",
     "text": [
      "Trying date: 2021-11-23 | Currently at index: 23\n"
     ]
    },
    {
     "name": "stderr",
     "output_type": "stream",
     "text": [
      "\n",
      "0it [00:00, ?it/s]\u001b[A\n",
      "1it [00:01,  1.01s/it]\u001b[A\n",
      "10it [00:01,  8.78it/s]\u001b[A\n",
      "19it [00:01, 12.29it/s]\u001b[A\n",
      "26it [00:02, 13.98it/s]\u001b[A\n",
      "38it [00:03, 11.58it/s]\u001b[A\n",
      "50it [00:04, 14.83it/s]\u001b[A\n",
      "66it [00:04, 19.93it/s]\u001b[A\n",
      "75it [00:04, 19.31it/s]\u001b[A\n",
      "88it [00:05, 22.13it/s]\u001b[A\n",
      "95it [00:05, 21.81it/s]\u001b[A\n",
      "101it [00:06, 18.88it/s]\u001b[A\n",
      "115it [00:06, 24.29it/s]\u001b[A\n",
      "126it [00:06, 25.24it/s]\u001b[A\n",
      "132it [00:07, 21.44it/s]\u001b[A\n",
      "144it [00:08, 16.39it/s]\u001b[A\n",
      "157it [00:08, 20.70it/s]\u001b[A\n",
      "164it [00:09, 19.16it/s]\u001b[A\n",
      "179it [00:09, 22.85it/s]\u001b[A\n",
      "188it [00:10, 17.49it/s]\u001b[A\n",
      "202it [00:10, 21.40it/s]\u001b[A\n",
      "213it [00:11, 21.48it/s]\u001b[A\n",
      "227it [00:11, 24.76it/s]\u001b[A\n",
      "238it [00:12, 24.26it/s]\u001b[A\n",
      "244it [00:12, 22.49it/s]\u001b[A\n",
      "252it [00:13, 23.61it/s]\u001b[A\n",
      "256it [00:13, 20.54it/s]\u001b[A\n",
      "262it [00:13, 20.26it/s]\u001b[A\n",
      "266it [00:13, 18.43it/s]\u001b[A\n",
      "272it [00:14, 18.09it/s]\u001b[A\n",
      "280it [00:14, 17.88it/s]\u001b[A\n",
      "289it [00:15, 18.49it/s]\u001b[A\n",
      "300it [00:15, 21.70it/s]\u001b[A\n",
      "306it [00:15, 19.87it/s]\u001b[A\n",
      "315it [00:16, 21.04it/s]\u001b[A\n",
      "322it [00:16, 20.31it/s]\u001b[A\n",
      "331it [00:17, 21.77it/s]\u001b[A\n",
      "342it [00:17, 21.92it/s]\u001b[A\n",
      "352it [00:18, 20.85it/s]\u001b[A\n",
      "365it [00:18, 23.32it/s]\u001b[A\n",
      "374it [00:19, 20.09it/s]\u001b[A\n",
      "386it [00:19, 20.97it/s]\u001b[A\n",
      "400it [00:20, 24.75it/s]\u001b[A\n",
      "413it [00:20, 23.37it/s]\u001b[A\n",
      "426it [00:21, 25.39it/s]\u001b[A\n",
      "436it [00:21, 25.30it/s]\u001b[A\n",
      "446it [00:22, 23.51it/s]\u001b[A\n",
      "459it [00:22, 25.62it/s]\u001b[A\n",
      "472it [00:22, 28.01it/s]\u001b[A\n",
      "482it [00:23, 23.04it/s]\u001b[A\n",
      "501it [00:23, 20.93it/s]\u001b[A\n",
      "24it [07:44, 22.02s/it]"
     ]
    },
    {
     "name": "stdout",
     "output_type": "stream",
     "text": [
      "Trying date: 2021-12-10 | Currently at index: 24\n"
     ]
    },
    {
     "name": "stderr",
     "output_type": "stream",
     "text": [
      "\n",
      "0it [00:00, ?it/s]\u001b[A\n",
      "1it [00:01,  1.12s/it]\u001b[A\n",
      "14it [00:01, 10.51it/s]\u001b[A\n",
      "25it [00:02, 15.96it/s]\u001b[A\n",
      "32it [00:02, 15.94it/s]\u001b[A\n",
      "41it [00:02, 17.21it/s]\u001b[A\n",
      "54it [00:03, 17.20it/s]\u001b[A\n",
      "65it [00:04, 17.91it/s]\u001b[A\n",
      "80it [00:04, 22.13it/s]\u001b[A\n",
      "90it [00:05, 23.64it/s]\u001b[A\n",
      "100it [00:05, 21.74it/s]\u001b[A\n",
      "112it [00:05, 25.30it/s]\u001b[A\n",
      "119it [00:06, 23.91it/s]\u001b[A\n",
      "124it [00:06, 21.30it/s]\u001b[A\n",
      "132it [00:06, 21.87it/s]\u001b[A\n",
      "137it [00:07, 18.99it/s]\u001b[A\n",
      "146it [00:07, 19.86it/s]\u001b[A\n",
      "159it [00:08, 25.04it/s]\u001b[A\n",
      "168it [00:08, 26.24it/s]\u001b[A\n",
      "175it [00:08, 25.29it/s]\u001b[A\n",
      "180it [00:09, 20.89it/s]\u001b[A\n",
      "186it [00:09, 14.18it/s]\u001b[A\n",
      "193it [00:10, 15.89it/s]\u001b[A\n",
      "199it [00:10, 15.23it/s]\u001b[A\n",
      "208it [00:11, 17.79it/s]\u001b[A\n",
      "212it [00:11, 15.34it/s]\u001b[A\n",
      "221it [00:11, 17.67it/s]\u001b[A\n",
      "230it [00:12, 19.31it/s]\u001b[A\n",
      "243it [00:12, 21.17it/s]\u001b[A\n",
      "251it [00:13, 19.44it/s]\u001b[A\n",
      "259it [00:13, 18.66it/s]\u001b[A\n",
      "269it [00:14, 20.42it/s]\u001b[A\n",
      "276it [00:14, 20.52it/s]\u001b[A\n",
      "285it [00:14, 20.85it/s]\u001b[A\n",
      "297it [00:15, 23.84it/s]\u001b[A\n",
      "305it [00:15, 18.02it/s]\u001b[A\n",
      "319it [00:16, 21.79it/s]\u001b[A\n",
      "331it [00:16, 23.40it/s]\u001b[A\n",
      "344it [00:17, 23.79it/s]\u001b[A\n",
      "356it [00:17, 25.93it/s]\u001b[A\n",
      "365it [00:18, 24.29it/s]\u001b[A\n",
      "375it [00:18, 22.84it/s]\u001b[A\n",
      "384it [00:19, 22.19it/s]\u001b[A\n",
      "401it [00:19, 27.93it/s]\u001b[A\n",
      "414it [00:19, 30.81it/s]\u001b[A\n",
      "426it [00:20, 24.84it/s]\u001b[A\n",
      "439it [00:20, 27.19it/s]\u001b[A\n",
      "452it [00:21, 24.43it/s]\u001b[A\n",
      "461it [00:22, 23.93it/s]\u001b[A\n",
      "468it [00:22, 21.63it/s]\u001b[A\n",
      "478it [00:22, 21.08it/s]\u001b[A\n",
      "489it [00:23, 22.52it/s]\u001b[A\n",
      "501it [00:24, 20.60it/s]\u001b[A\n",
      "25it [08:09, 22.72s/it]"
     ]
    },
    {
     "name": "stdout",
     "output_type": "stream",
     "text": [
      "Trying date: 2021-12-16 | Currently at index: 25\n"
     ]
    },
    {
     "name": "stderr",
     "output_type": "stream",
     "text": [
      "\n",
      "0it [00:00, ?it/s]\u001b[A\n",
      "1it [00:01,  1.00it/s]\u001b[A\n",
      "11it [00:01,  9.93it/s]\u001b[A\n",
      "19it [00:02, 10.66it/s]\u001b[A\n",
      "31it [00:02, 15.90it/s]\u001b[A\n",
      "38it [00:02, 17.31it/s]\u001b[A\n",
      "44it [00:03, 17.58it/s]\u001b[A\n",
      "49it [00:03, 16.97it/s]\u001b[A\n",
      "57it [00:03, 18.36it/s]\u001b[A\n",
      "63it [00:04, 14.24it/s]\u001b[A\n",
      "70it [00:04, 14.87it/s]\u001b[A\n",
      "81it [00:05, 16.79it/s]\u001b[A\n",
      "88it [00:05, 17.48it/s]\u001b[A\n",
      "97it [00:06, 19.83it/s]\u001b[A\n",
      "104it [00:06, 17.41it/s]\u001b[A\n",
      "114it [00:07, 19.51it/s]\u001b[A\n",
      "125it [00:07, 22.43it/s]\u001b[A\n",
      "133it [00:07, 22.78it/s]\u001b[A\n",
      "142it [00:08, 22.51it/s]\u001b[A\n",
      "151it [00:08, 23.29it/s]\u001b[A\n",
      "160it [00:08, 23.00it/s]\u001b[A\n",
      "172it [00:09, 24.88it/s]\u001b[A\n",
      "180it [00:09, 23.56it/s]\u001b[A\n",
      "189it [00:10, 22.59it/s]\u001b[A\n",
      "198it [00:10, 20.68it/s]\u001b[A\n",
      "205it [00:11, 19.86it/s]\u001b[A\n",
      "209it [00:11, 17.51it/s]\u001b[A\n",
      "216it [00:11, 17.49it/s]\u001b[A\n",
      "224it [00:12, 19.58it/s]\u001b[A\n",
      "228it [00:12, 18.58it/s]\u001b[A\n",
      "230it [00:12, 14.63it/s]\u001b[A\n",
      "232it [00:13, 11.48it/s]\u001b[A\n",
      "238it [00:13, 10.69it/s]\u001b[A\n",
      "244it [00:14, 12.84it/s]\u001b[A\n",
      "248it [00:14, 12.06it/s]\u001b[A\n",
      "254it [00:14, 12.52it/s]\u001b[A\n",
      "261it [00:15, 12.43it/s]\u001b[A\n",
      "267it [00:15, 13.39it/s]\u001b[A\n",
      "279it [00:16, 17.25it/s]\u001b[A\n",
      "289it [00:16, 18.57it/s]\u001b[A\n",
      "303it [00:17, 23.33it/s]\u001b[A\n",
      "314it [00:17, 25.16it/s]\u001b[A\n",
      "323it [00:17, 25.13it/s]\u001b[A\n",
      "332it [00:18, 24.19it/s]\u001b[A\n",
      "345it [00:18, 25.00it/s]\u001b[A\n",
      "355it [00:19, 26.03it/s]\u001b[A\n",
      "365it [00:19, 24.65it/s]\u001b[A\n",
      "374it [00:19, 25.06it/s]\u001b[A\n",
      "384it [00:20, 23.74it/s]\u001b[A\n",
      "390it [00:20, 21.67it/s]\u001b[A\n",
      "398it [00:21, 17.80it/s]\u001b[A\n",
      "407it [00:22, 16.09it/s]\u001b[A\n",
      "419it [00:22, 19.30it/s]\u001b[A\n",
      "432it [00:23, 21.06it/s]\u001b[A\n",
      "439it [00:23, 21.10it/s]\u001b[A\n",
      "443it [00:23, 17.28it/s]\u001b[A\n",
      "453it [00:24, 18.17it/s]\u001b[A\n",
      "458it [00:24, 17.19it/s]\u001b[A\n",
      "467it [00:25, 19.42it/s]\u001b[A\n",
      "476it [00:25, 21.18it/s]\u001b[A\n",
      "484it [00:25, 20.56it/s]\u001b[A\n",
      "495it [00:26, 22.80it/s]\u001b[A\n",
      "501it [00:26, 18.84it/s]\u001b[A\n",
      "26it [08:35, 23.88s/it]"
     ]
    },
    {
     "name": "stdout",
     "output_type": "stream",
     "text": [
      "Trying date: 2021-12-28 | Currently at index: 26\n"
     ]
    },
    {
     "name": "stderr",
     "output_type": "stream",
     "text": [
      "\n",
      "0it [00:00, ?it/s]\u001b[A\n",
      "1it [00:01,  1.08s/it]\u001b[A\n",
      "12it [00:01,  9.77it/s]\u001b[A\n",
      "22it [00:01, 14.56it/s]\u001b[A\n",
      "31it [00:02, 17.22it/s]\u001b[A\n",
      "40it [00:02, 17.98it/s]\u001b[A\n",
      "54it [00:03, 23.34it/s]\u001b[A\n",
      "65it [00:03, 25.78it/s]\u001b[A\n",
      "74it [00:03, 24.31it/s]\u001b[A\n",
      "87it [00:04, 27.39it/s]\u001b[A\n",
      "98it [00:04, 25.37it/s]\u001b[A\n",
      "110it [00:05, 21.10it/s]\u001b[A\n",
      "125it [00:05, 24.98it/s]\u001b[A\n",
      "137it [00:06, 23.01it/s]\u001b[A\n",
      "147it [00:06, 24.18it/s]\u001b[A\n",
      "155it [00:07, 23.21it/s]\u001b[A\n",
      "169it [00:07, 26.12it/s]\u001b[A\n",
      "180it [00:08, 24.96it/s]\u001b[A\n",
      "190it [00:08, 24.27it/s]\u001b[A\n",
      "201it [00:09, 21.00it/s]\u001b[A\n",
      "206it [00:09, 18.94it/s]\u001b[A\n",
      "213it [00:10, 15.53it/s]\u001b[A\n",
      "226it [00:11, 18.30it/s]\u001b[A\n",
      "240it [00:11, 23.17it/s]\u001b[A\n",
      "253it [00:11, 23.08it/s]\u001b[A\n",
      "261it [00:12, 21.45it/s]\u001b[A\n",
      "276it [00:12, 25.67it/s]\u001b[A\n",
      "287it [00:13, 27.23it/s]\u001b[A\n",
      "292it [00:13, 22.55it/s]\u001b[A\n",
      "301it [00:13, 22.95it/s]\u001b[A\n",
      "308it [00:14, 23.01it/s]\u001b[A\n",
      "311it [00:14, 18.24it/s]\u001b[A\n",
      "318it [00:14, 18.14it/s]\u001b[A\n",
      "329it [00:15, 19.57it/s]\u001b[A\n",
      "339it [00:15, 21.97it/s]\u001b[A\n",
      "347it [00:16, 21.06it/s]\u001b[A\n",
      "355it [00:16, 21.82it/s]\u001b[A\n",
      "366it [00:17, 21.02it/s]\u001b[A\n",
      "378it [00:17, 23.92it/s]\u001b[A\n",
      "392it [00:17, 27.93it/s]\u001b[A\n",
      "403it [00:18, 25.40it/s]\u001b[A\n",
      "413it [00:18, 23.08it/s]\u001b[A\n",
      "428it [00:19, 27.37it/s]\u001b[A\n",
      "437it [00:19, 25.86it/s]\u001b[A\n",
      "446it [00:20, 24.98it/s]\u001b[A\n",
      "456it [00:20, 23.93it/s]\u001b[A\n",
      "466it [00:20, 24.97it/s]\u001b[A\n",
      "473it [00:21, 22.58it/s]\u001b[A\n",
      "481it [00:21, 21.25it/s]\u001b[A\n",
      "490it [00:22, 19.99it/s]\u001b[A\n",
      "501it [00:22, 22.08it/s]\u001b[A\n",
      "27it [08:58, 23.53s/it]"
     ]
    },
    {
     "name": "stdout",
     "output_type": "stream",
     "text": [
      "Trying date: 2022-01-10 | Currently at index: 27\n"
     ]
    },
    {
     "name": "stderr",
     "output_type": "stream",
     "text": [
      "\n",
      "0it [00:00, ?it/s]\u001b[A\n",
      "1it [00:00,  1.01it/s]\u001b[A\n",
      "12it [00:01, 10.83it/s]\u001b[A\n",
      "23it [00:01, 17.93it/s]\u001b[A\n",
      "26it [00:02, 14.61it/s]\u001b[A\n",
      "34it [00:02, 15.97it/s]\u001b[A\n",
      "42it [00:02, 16.28it/s]\u001b[A\n",
      "50it [00:03, 15.67it/s]\u001b[A\n",
      "56it [00:03, 14.76it/s]\u001b[A\n",
      "65it [00:04, 16.24it/s]\u001b[A\n",
      "74it [00:04, 16.75it/s]\u001b[A\n",
      "81it [00:05, 16.70it/s]\u001b[A\n",
      "89it [00:05, 17.30it/s]\u001b[A\n",
      "94it [00:06, 15.28it/s]\u001b[A\n",
      "108it [00:06, 20.40it/s]\u001b[A\n",
      "118it [00:07, 21.54it/s]\u001b[A\n",
      "130it [00:07, 23.39it/s]\u001b[A\n",
      "142it [00:07, 25.43it/s]\u001b[A\n",
      "151it [00:08, 23.99it/s]\u001b[A\n",
      "161it [00:08, 24.16it/s]\u001b[A\n",
      "168it [00:09, 22.47it/s]\u001b[A\n",
      "173it [00:09, 19.96it/s]\u001b[A\n",
      "180it [00:09, 20.29it/s]\u001b[A\n",
      "183it [00:10, 15.95it/s]\u001b[A\n",
      "192it [00:10, 17.53it/s]\u001b[A\n",
      "200it [00:11, 17.77it/s]\u001b[A\n",
      "211it [00:11, 21.28it/s]\u001b[A\n",
      "217it [00:11, 19.62it/s]\u001b[A\n",
      "219it [00:12, 15.61it/s]\u001b[A\n",
      "227it [00:12, 15.75it/s]\u001b[A\n",
      "232it [00:13, 14.74it/s]\u001b[A\n",
      "242it [00:13, 17.73it/s]\u001b[A\n",
      "248it [00:13, 17.37it/s]\u001b[A\n",
      "260it [00:14, 20.54it/s]\u001b[A\n",
      "269it [00:14, 22.68it/s]\u001b[A\n",
      "273it [00:15, 19.65it/s]\u001b[A\n",
      "279it [00:15, 19.52it/s]\u001b[A\n",
      "286it [00:15, 19.22it/s]\u001b[A\n",
      "295it [00:16, 22.04it/s]\u001b[A\n",
      "301it [00:16, 19.03it/s]\u001b[A\n",
      "308it [00:16, 18.85it/s]\u001b[A\n",
      "312it [00:17, 16.81it/s]\u001b[A\n",
      "318it [00:17, 16.22it/s]\u001b[A\n",
      "331it [00:17, 22.67it/s]\u001b[A\n",
      "339it [00:18, 21.12it/s]\u001b[A\n",
      "351it [00:18, 21.65it/s]\u001b[A\n",
      "361it [00:19, 22.41it/s]\u001b[A\n",
      "369it [00:19, 20.77it/s]\u001b[A\n",
      "378it [00:20, 20.79it/s]\u001b[A\n",
      "386it [00:20, 21.64it/s]\u001b[A\n",
      "390it [00:20, 18.30it/s]\u001b[A\n",
      "397it [00:21, 19.40it/s]\u001b[A\n",
      "403it [00:21, 18.37it/s]\u001b[A\n",
      "411it [00:21, 18.78it/s]\u001b[A\n",
      "419it [00:22, 19.57it/s]\u001b[A\n",
      "428it [00:22, 20.15it/s]\u001b[A\n",
      "437it [00:23, 20.29it/s]\u001b[A\n",
      "448it [00:23, 22.39it/s]\u001b[A\n",
      "462it [00:23, 26.55it/s]\u001b[A\n",
      "471it [00:24, 23.76it/s]\u001b[A\n",
      "476it [00:24, 20.86it/s]\u001b[A\n",
      "485it [00:25, 21.21it/s]\u001b[A\n",
      "490it [00:25, 17.82it/s]\u001b[A\n",
      "501it [00:26, 19.18it/s]\u001b[A\n",
      "28it [09:24, 24.31s/it]"
     ]
    },
    {
     "name": "stdout",
     "output_type": "stream",
     "text": [
      "Trying date: 2022-01-18 | Currently at index: 28\n"
     ]
    },
    {
     "name": "stderr",
     "output_type": "stream",
     "text": [
      "\n",
      "0it [00:00, ?it/s]\u001b[A\n",
      "1it [00:00,  1.14it/s]\u001b[A\n",
      "4it [00:01,  3.68it/s]\u001b[A\n",
      "12it [00:01,  9.71it/s]\u001b[A\n",
      "20it [00:02, 12.66it/s]\u001b[A\n",
      "31it [00:02, 17.14it/s]\u001b[A\n",
      "40it [00:02, 19.47it/s]\u001b[A\n",
      "46it [00:03, 18.70it/s]\u001b[A\n",
      "53it [00:03, 17.69it/s]\u001b[A\n",
      "58it [00:04, 15.54it/s]\u001b[A\n",
      "67it [00:04, 17.61it/s]\u001b[A\n",
      "74it [00:04, 17.12it/s]\u001b[A\n",
      "78it [00:05, 14.80it/s]\u001b[A\n",
      "88it [00:05, 17.45it/s]\u001b[A\n",
      "96it [00:06, 19.43it/s]\u001b[A\n",
      "101it [00:06, 18.14it/s]\u001b[A\n",
      "108it [00:06, 17.88it/s]\u001b[A\n",
      "118it [00:07, 20.44it/s]\u001b[A\n",
      "124it [00:07, 19.83it/s]\u001b[A\n",
      "131it [00:08, 18.51it/s]\u001b[A\n",
      "136it [00:08, 17.30it/s]\u001b[A\n",
      "145it [00:08, 19.93it/s]\u001b[A\n",
      "150it [00:09, 17.86it/s]\u001b[A\n",
      "155it [00:09, 16.71it/s]\u001b[A\n",
      "161it [00:09, 16.53it/s]\u001b[A\n",
      "163it [00:10, 13.53it/s]\u001b[A\n",
      "165it [00:10, 10.91it/s]\u001b[A\n",
      "171it [00:10, 12.64it/s]\u001b[A\n",
      "174it [00:11, 11.61it/s]\u001b[A\n",
      "182it [00:11, 14.97it/s]\u001b[A\n",
      "187it [00:11, 13.97it/s]\u001b[A\n",
      "197it [00:12, 18.06it/s]\u001b[A\n",
      "205it [00:12, 18.19it/s]\u001b[A\n",
      "216it [00:13, 20.31it/s]\u001b[A\n",
      "225it [00:13, 20.72it/s]\u001b[A\n",
      "232it [00:13, 20.85it/s]\u001b[A\n",
      "239it [00:14, 19.70it/s]\u001b[A\n",
      "249it [00:14, 20.46it/s]\u001b[A\n",
      "262it [00:15, 24.97it/s]\u001b[A\n",
      "272it [00:15, 25.70it/s]\u001b[A\n",
      "282it [00:15, 25.77it/s]\u001b[A\n",
      "291it [00:16, 24.42it/s]\u001b[A\n",
      "303it [00:16, 26.50it/s]\u001b[A\n",
      "311it [00:17, 25.26it/s]\u001b[A\n",
      "319it [00:17, 22.90it/s]\u001b[A\n",
      "325it [00:17, 20.66it/s]\u001b[A\n",
      "332it [00:18, 20.30it/s]\u001b[A\n",
      "337it [00:18, 17.57it/s]\u001b[A\n",
      "344it [00:19, 17.60it/s]\u001b[A\n",
      "352it [00:19, 19.37it/s]\u001b[A\n",
      "355it [00:19, 16.05it/s]\u001b[A\n",
      "360it [00:20, 16.22it/s]\u001b[A\n",
      "364it [00:20, 14.02it/s]\u001b[A\n",
      "371it [00:20, 15.53it/s]\u001b[A\n",
      "376it [00:21, 15.13it/s]\u001b[A\n",
      "382it [00:21, 15.19it/s]\u001b[A\n",
      "391it [00:22, 16.95it/s]\u001b[A\n",
      "405it [00:22, 23.04it/s]\u001b[A\n",
      "412it [00:22, 21.85it/s]\u001b[A\n",
      "417it [00:23, 19.86it/s]\u001b[A\n",
      "425it [00:23, 20.07it/s]\u001b[A\n",
      "431it [00:23, 18.42it/s]\u001b[A\n",
      "437it [00:24, 12.68it/s]\u001b[A\n",
      "446it [00:25, 15.40it/s]\u001b[A\n",
      "450it [00:25, 13.57it/s]\u001b[A\n",
      "460it [00:25, 17.32it/s]\u001b[A\n",
      "468it [00:26, 18.95it/s]\u001b[A\n",
      "474it [00:26, 18.34it/s]\u001b[A\n",
      "481it [00:27, 17.97it/s]\u001b[A\n",
      "491it [00:27, 20.03it/s]\u001b[A\n",
      "501it [00:28, 17.76it/s]\u001b[A\n",
      "29it [09:52, 25.48s/it]"
     ]
    },
    {
     "name": "stdout",
     "output_type": "stream",
     "text": [
      "Trying date: 2022-02-08 | Currently at index: 29\n"
     ]
    },
    {
     "name": "stderr",
     "output_type": "stream",
     "text": [
      "\n",
      "0it [00:00, ?it/s]\u001b[A\n",
      "1it [00:00,  1.09it/s]\u001b[A\n",
      "5it [00:01,  4.84it/s]\u001b[A\n",
      "7it [00:01,  5.23it/s]\u001b[A\n",
      "12it [00:01,  8.27it/s]\u001b[A\n",
      "17it [00:02, 10.00it/s]\u001b[A\n",
      "22it [00:02, 11.58it/s]\u001b[A\n",
      "25it [00:02, 10.48it/s]\u001b[A\n",
      "28it [00:03, 10.55it/s]\u001b[A\n",
      "30it [00:03,  8.59it/s]\u001b[A\n",
      "36it [00:04, 10.12it/s]\u001b[A\n",
      "42it [00:04, 12.14it/s]\u001b[A\n",
      "48it [00:04, 13.19it/s]\u001b[A\n",
      "50it [00:05, 11.46it/s]\u001b[A\n",
      "52it [00:05,  9.51it/s]\u001b[A\n",
      "57it [00:05, 10.73it/s]\u001b[A\n",
      "62it [00:06, 12.24it/s]\u001b[A\n",
      "66it [00:06, 11.69it/s]\u001b[A\n",
      "73it [00:07, 12.41it/s]\u001b[A\n",
      "76it [00:07, 11.48it/s]\u001b[A\n",
      "84it [00:08, 11.68it/s]\u001b[A\n",
      "86it [00:08,  8.80it/s]\u001b[A\n",
      "87it [00:09,  6.52it/s]\u001b[A\n",
      "90it [00:09,  6.75it/s]\u001b[A\n",
      "94it [00:09,  8.09it/s]\u001b[A\n",
      "96it [00:10,  7.45it/s]\u001b[A\n",
      "97it [00:10,  6.22it/s]\u001b[A\n",
      "99it [00:11,  5.60it/s]\u001b[A\n",
      "108it [00:11, 10.22it/s]\u001b[A\n",
      "118it [00:11, 15.18it/s]\u001b[A\n",
      "124it [00:12, 15.79it/s]\u001b[A\n",
      "130it [00:12, 16.25it/s]\u001b[A\n",
      "132it [00:12, 13.08it/s]\u001b[A\n",
      "136it [00:13, 12.39it/s]\u001b[A\n",
      "144it [00:13, 15.46it/s]\u001b[A\n",
      "147it [00:14, 13.99it/s]\u001b[A\n",
      "152it [00:14, 13.16it/s]\u001b[A\n",
      "161it [00:14, 16.44it/s]\u001b[A\n",
      "166it [00:15, 16.44it/s]\u001b[A\n",
      "171it [00:15, 15.06it/s]\u001b[A\n",
      "177it [00:15, 14.97it/s]\u001b[A\n",
      "181it [00:16, 12.49it/s]\u001b[A\n",
      "186it [00:16, 13.34it/s]\u001b[A\n",
      "188it [00:18,  6.29it/s]\u001b[A\n",
      "190it [00:18,  6.16it/s]\u001b[A\n",
      "194it [00:18,  7.06it/s]\u001b[A\n",
      "195it [00:19,  6.37it/s]\u001b[A\n",
      "196it [00:19,  5.13it/s]\u001b[A\n",
      "199it [00:19,  6.02it/s]\u001b[A\n",
      "201it [00:20,  5.71it/s]\u001b[A\n",
      "203it [00:20,  4.56it/s]\u001b[A\n",
      "205it [00:21,  4.99it/s]\u001b[A\n",
      "209it [00:21,  6.39it/s]\u001b[A\n",
      "215it [00:22,  8.98it/s]\u001b[A\n",
      "219it [00:22,  9.65it/s]\u001b[A\n",
      "223it [00:22,  9.58it/s]\u001b[A\n",
      "229it [00:23, 11.08it/s]\u001b[A\n",
      "234it [00:23, 11.67it/s]\u001b[A\n",
      "239it [00:24, 12.26it/s]\u001b[A\n",
      "243it [00:24, 12.43it/s]\u001b[A\n",
      "246it [00:24, 11.04it/s]\u001b[A\n",
      "252it [00:25, 13.19it/s]\u001b[A\n",
      "257it [00:25, 12.56it/s]\u001b[A\n",
      "263it [00:25, 13.61it/s]\u001b[A\n",
      "270it [00:26, 15.46it/s]\u001b[A\n",
      "274it [00:26, 14.44it/s]\u001b[A\n",
      "278it [00:26, 13.37it/s]\u001b[A\n",
      "285it [00:27, 14.83it/s]\u001b[A\n",
      "290it [00:27, 14.42it/s]\u001b[A\n",
      "292it [00:27, 11.83it/s]\u001b[A\n",
      "294it [00:28, 10.25it/s]\u001b[A\n",
      "297it [00:28,  9.40it/s]\u001b[A\n",
      "301it [00:29,  9.36it/s]\u001b[A\n",
      "305it [00:29, 10.38it/s]\u001b[A\n",
      "307it [00:29,  9.20it/s]\u001b[A\n",
      "309it [00:30,  8.10it/s]\u001b[A\n",
      "312it [00:30,  8.10it/s]\u001b[A\n",
      "317it [00:30,  9.37it/s]\u001b[A\n",
      "321it [00:31, 10.01it/s]\u001b[A\n",
      "323it [00:31,  9.13it/s]\u001b[A\n",
      "326it [00:31,  8.99it/s]\u001b[A\n",
      "331it [00:32, 10.45it/s]\u001b[A\n",
      "333it [00:32,  8.91it/s]\u001b[A\n",
      "335it [00:33,  7.19it/s]\u001b[A\n",
      "338it [00:33,  7.63it/s]\u001b[A\n",
      "342it [00:33,  8.61it/s]\u001b[A\n",
      "345it [00:34,  9.23it/s]\u001b[A\n",
      "346it [00:34,  7.36it/s]\u001b[A\n",
      "347it [00:34,  5.83it/s]\u001b[A\n",
      "350it [00:35,  7.11it/s]\u001b[A\n",
      "352it [00:35,  6.68it/s]\u001b[A\n",
      "353it [00:35,  5.26it/s]\u001b[A\n",
      "356it [00:36,  6.55it/s]\u001b[A\n",
      "359it [00:36,  7.58it/s]\u001b[A\n",
      "361it [00:36,  7.33it/s]\u001b[A\n",
      "363it [00:37,  6.65it/s]\u001b[A\n",
      "364it [00:37,  5.69it/s]\u001b[A\n",
      "365it [00:37,  4.81it/s]\u001b[A\n",
      "369it [00:38,  7.07it/s]\u001b[A\n",
      "376it [00:38, 10.85it/s]\u001b[A\n",
      "379it [00:38, 10.40it/s]\u001b[A\n",
      "386it [00:39, 14.09it/s]\u001b[A\n",
      "388it [00:39, 11.74it/s]\u001b[A\n",
      "394it [00:39, 14.19it/s]\u001b[A\n",
      "396it [00:39, 11.91it/s]\u001b[A\n",
      "398it [00:40, 10.57it/s]\u001b[A\n",
      "401it [00:40, 10.07it/s]\u001b[A\n",
      "403it [00:41,  7.95it/s]\u001b[A\n",
      "404it [00:41,  6.02it/s]\u001b[A\n",
      "408it [00:41,  7.10it/s]\u001b[A\n",
      "411it [00:42,  7.47it/s]\u001b[A\n",
      "419it [00:42, 10.93it/s]\u001b[A\n",
      "428it [00:43, 14.07it/s]\u001b[A\n",
      "437it [00:43, 17.24it/s]\u001b[A\n",
      "439it [00:43, 14.47it/s]\u001b[A\n",
      "442it [00:44, 12.35it/s]\u001b[A\n",
      "445it [00:44,  9.21it/s]\u001b[A\n",
      "451it [00:45, 10.80it/s]\u001b[A\n",
      "457it [00:45, 13.00it/s]\u001b[A\n",
      "462it [00:45, 13.66it/s]\u001b[A\n",
      "468it [00:46, 14.66it/s]\u001b[A\n",
      "474it [00:46, 14.50it/s]\u001b[A\n",
      "478it [00:46, 13.59it/s]\u001b[A\n",
      "480it [00:47, 12.20it/s]\u001b[A\n",
      "482it [00:47, 10.01it/s]\u001b[A\n",
      "484it [00:47,  8.96it/s]\u001b[A\n",
      "487it [00:48,  9.20it/s]\u001b[A\n",
      "490it [00:48,  9.49it/s]\u001b[A\n",
      "492it [00:48,  8.59it/s]\u001b[A\n",
      "496it [00:49,  9.32it/s]\u001b[A\n",
      "501it [00:49, 10.11it/s]\u001b[A\n",
      "30it [10:42, 32.71s/it]"
     ]
    },
    {
     "name": "stdout",
     "output_type": "stream",
     "text": [
      "Trying date: 2022-02-10 | Currently at index: 30\n"
     ]
    },
    {
     "name": "stderr",
     "output_type": "stream",
     "text": [
      "\n",
      "0it [00:00, ?it/s]\u001b[A\n",
      "1it [00:01,  1.00s/it]\u001b[A\n",
      "11it [00:01,  8.07it/s]\u001b[A\n",
      "26it [00:02, 16.71it/s]\u001b[A\n",
      "38it [00:02, 20.43it/s]\u001b[A\n",
      "46it [00:02, 19.93it/s]\u001b[A\n",
      "57it [00:03, 22.31it/s]\u001b[A\n",
      "63it [00:03, 19.76it/s]\u001b[A\n",
      "75it [00:04, 23.03it/s]\u001b[A\n",
      "87it [00:04, 20.52it/s]\u001b[A\n",
      "104it [00:05, 27.24it/s]\u001b[A\n",
      "112it [00:05, 24.56it/s]\u001b[A\n",
      "120it [00:05, 23.33it/s]\u001b[A\n",
      "128it [00:06, 22.13it/s]\u001b[A\n",
      "140it [00:06, 25.13it/s]\u001b[A\n",
      "147it [00:07, 23.12it/s]\u001b[A\n",
      "152it [00:07, 20.85it/s]\u001b[A\n",
      "157it [00:07, 17.30it/s]\u001b[A\n",
      "168it [00:08, 20.25it/s]\u001b[A\n",
      "177it [00:08, 20.40it/s]\u001b[A\n",
      "192it [00:09, 23.37it/s]\u001b[A\n",
      "205it [00:09, 25.60it/s]\u001b[A\n",
      "218it [00:10, 26.71it/s]\u001b[A\n",
      "231it [00:10, 25.43it/s]\u001b[A\n",
      "239it [00:11, 24.80it/s]\u001b[A\n",
      "248it [00:11, 21.66it/s]\u001b[A\n",
      "262it [00:12, 24.91it/s]\u001b[A\n",
      "269it [00:12, 22.75it/s]\u001b[A\n",
      "277it [00:12, 21.68it/s]\u001b[A\n",
      "286it [00:13, 22.75it/s]\u001b[A\n",
      "292it [00:13, 21.21it/s]\u001b[A\n",
      "297it [00:13, 20.21it/s]\u001b[A\n",
      "300it [00:14, 14.57it/s]\u001b[A\n",
      "308it [00:15, 13.53it/s]\u001b[A\n",
      "318it [00:15, 16.49it/s]\u001b[A\n",
      "327it [00:15, 18.60it/s]\u001b[A\n",
      "334it [00:16, 18.56it/s]\u001b[A\n",
      "340it [00:16, 16.37it/s]\u001b[A\n",
      "348it [00:17, 16.22it/s]\u001b[A\n",
      "362it [00:17, 20.97it/s]\u001b[A\n",
      "373it [00:18, 23.23it/s]\u001b[A\n",
      "383it [00:18, 23.84it/s]\u001b[A\n",
      "392it [00:18, 24.00it/s]\u001b[A\n",
      "405it [00:19, 26.89it/s]\u001b[A\n",
      "417it [00:19, 28.37it/s]\u001b[A\n",
      "423it [00:19, 24.13it/s]\u001b[A\n",
      "427it [00:20, 19.22it/s]\u001b[A\n",
      "437it [00:20, 20.24it/s]\u001b[A\n",
      "445it [00:21, 20.23it/s]\u001b[A\n",
      "450it [00:21, 17.16it/s]\u001b[A\n",
      "460it [00:22, 19.56it/s]\u001b[A\n",
      "469it [00:22, 21.03it/s]\u001b[A\n",
      "479it [00:22, 22.31it/s]\u001b[A\n",
      "488it [00:23, 22.70it/s]\u001b[A\n",
      "501it [00:23, 21.24it/s]\u001b[A\n",
      "31it [11:06, 29.98s/it]"
     ]
    },
    {
     "name": "stdout",
     "output_type": "stream",
     "text": [
      "Trying date: 2022-02-13 | Currently at index: 31\n"
     ]
    },
    {
     "name": "stderr",
     "output_type": "stream",
     "text": [
      "\n",
      "0it [00:00, ?it/s]\u001b[A\n",
      "1it [00:01,  1.01s/it]\u001b[A\n",
      "6it [00:01,  5.01it/s]\u001b[A\n",
      "18it [00:01, 13.11it/s]\u001b[A\n",
      "32it [00:02, 16.12it/s]\u001b[A\n",
      "45it [00:02, 20.87it/s]\u001b[A\n",
      "53it [00:03, 19.40it/s]\u001b[A\n",
      "64it [00:03, 20.99it/s]\u001b[A\n",
      "70it [00:04, 20.03it/s]\u001b[A\n",
      "80it [00:04, 21.30it/s]\u001b[A\n",
      "84it [00:05, 17.90it/s]\u001b[A\n",
      "91it [00:05, 14.13it/s]\u001b[A\n",
      "108it [00:06, 22.36it/s]\u001b[A\n",
      "114it [00:06, 20.57it/s]\u001b[A\n",
      "121it [00:06, 19.46it/s]\u001b[A\n",
      "128it [00:07, 19.75it/s]\u001b[A\n",
      "132it [00:07, 17.22it/s]\u001b[A\n",
      "139it [00:08, 16.92it/s]\u001b[A\n",
      "146it [00:08, 17.04it/s]\u001b[A\n",
      "150it [00:09, 13.41it/s]\u001b[A\n",
      "155it [00:09, 13.02it/s]\u001b[A\n",
      "165it [00:09, 16.62it/s]\u001b[A\n",
      "173it [00:10, 17.52it/s]\u001b[A\n",
      "177it [00:10, 14.88it/s]\u001b[A\n",
      "185it [00:11, 16.21it/s]\u001b[A\n",
      "192it [00:11, 14.13it/s]\u001b[A\n",
      "199it [00:12, 16.11it/s]\u001b[A\n",
      "203it [00:12, 15.07it/s]\u001b[A\n",
      "210it [00:12, 14.96it/s]\u001b[A\n",
      "219it [00:13, 17.63it/s]\u001b[A\n",
      "228it [00:13, 19.82it/s]\u001b[A\n",
      "233it [00:13, 18.01it/s]\u001b[A\n",
      "236it [00:14, 16.18it/s]\u001b[A\n",
      "238it [00:14, 12.65it/s]\u001b[A\n",
      "243it [00:15, 11.57it/s]\u001b[A\n",
      "252it [00:15, 15.58it/s]\u001b[A\n",
      "258it [00:15, 15.09it/s]\u001b[A\n",
      "262it [00:16, 13.40it/s]\u001b[A\n",
      "271it [00:16, 13.23it/s]\u001b[A\n",
      "275it [00:17, 11.92it/s]\u001b[A\n",
      "278it [00:17, 11.57it/s]\u001b[A\n",
      "282it [00:18, 11.25it/s]\u001b[A\n",
      "285it [00:18, 10.34it/s]\u001b[A\n",
      "290it [00:18, 10.42it/s]\u001b[A\n",
      "296it [00:19, 12.25it/s]\u001b[A\n",
      "301it [00:19, 12.91it/s]\u001b[A\n",
      "305it [00:20,  9.42it/s]\u001b[A\n",
      "314it [00:20, 12.84it/s]\u001b[A\n",
      "320it [00:21, 14.15it/s]\u001b[A\n",
      "327it [00:21, 15.28it/s]\u001b[A\n",
      "336it [00:21, 18.22it/s]\u001b[A\n",
      "341it [00:22, 17.42it/s]\u001b[A\n",
      "349it [00:22, 19.46it/s]\u001b[A\n",
      "357it [00:23, 17.65it/s]\u001b[A\n",
      "368it [00:23, 21.89it/s]\u001b[A\n",
      "376it [00:23, 22.00it/s]\u001b[A\n",
      "381it [00:24, 19.22it/s]\u001b[A\n",
      "387it [00:24, 17.60it/s]\u001b[A\n",
      "395it [00:24, 18.74it/s]\u001b[A\n",
      "398it [00:25, 15.52it/s]\u001b[A\n",
      "405it [00:25, 17.28it/s]\u001b[A\n",
      "409it [00:26, 13.56it/s]\u001b[A\n",
      "417it [00:26, 15.00it/s]\u001b[A\n",
      "426it [00:27, 14.13it/s]\u001b[A\n",
      "437it [00:27, 17.75it/s]\u001b[A\n",
      "446it [00:27, 19.09it/s]\u001b[A\n",
      "454it [00:28, 18.73it/s]\u001b[A\n",
      "464it [00:28, 19.83it/s]\u001b[A\n",
      "470it [00:29, 17.02it/s]\u001b[A\n",
      "483it [00:29, 20.43it/s]\u001b[A\n",
      "501it [00:30, 16.55it/s]\u001b[A\n",
      "32it [11:36, 30.07s/it]"
     ]
    },
    {
     "name": "stdout",
     "output_type": "stream",
     "text": [
      "Trying date: 2022-03-01 | Currently at index: 32\n"
     ]
    },
    {
     "name": "stderr",
     "output_type": "stream",
     "text": [
      "\n",
      "0it [00:00, ?it/s]\u001b[A\n",
      "1it [00:01,  1.28s/it]\u001b[A\n",
      "7it [00:01,  4.97it/s]\u001b[A\n",
      "16it [00:02, 10.62it/s]\u001b[A\n",
      "25it [00:02, 14.35it/s]\u001b[A\n",
      "30it [00:02, 13.74it/s]\u001b[A\n",
      "36it [00:03, 14.42it/s]\u001b[A\n",
      "44it [00:03, 16.95it/s]\u001b[A\n",
      "51it [00:04, 16.74it/s]\u001b[A\n",
      "58it [00:04, 16.74it/s]\u001b[A\n",
      "64it [00:04, 17.41it/s]\u001b[A\n",
      "67it [00:05, 13.20it/s]\u001b[A\n",
      "70it [00:05, 12.36it/s]\u001b[A\n",
      "72it [00:06,  8.85it/s]\u001b[A\n",
      "77it [00:06, 10.41it/s]\u001b[A\n",
      "81it [00:06, 10.99it/s]\u001b[A\n",
      "87it [00:07, 12.77it/s]\u001b[A\n",
      "96it [00:07, 14.42it/s]\u001b[A\n",
      "105it [00:08, 15.78it/s]\u001b[A\n",
      "112it [00:08, 16.85it/s]\u001b[A\n",
      "119it [00:08, 16.45it/s]\u001b[A\n",
      "127it [00:09, 17.96it/s]\u001b[A\n",
      "134it [00:09, 17.99it/s]\u001b[A\n",
      "141it [00:10, 17.50it/s]\u001b[A\n",
      "146it [00:10, 17.47it/s]\u001b[A\n",
      "150it [00:10, 16.06it/s]\u001b[A\n",
      "153it [00:11, 14.01it/s]\u001b[A\n",
      "159it [00:11, 13.95it/s]\u001b[A\n",
      "162it [00:11, 12.53it/s]\u001b[A\n",
      "170it [00:12, 15.59it/s]\u001b[A\n",
      "176it [00:12, 15.69it/s]\u001b[A\n",
      "180it [00:12, 15.07it/s]\u001b[A\n",
      "184it [00:13, 12.78it/s]\u001b[A\n",
      "188it [00:13, 12.57it/s]\u001b[A\n",
      "190it [00:14, 10.39it/s]\u001b[A\n",
      "195it [00:14, 11.61it/s]\u001b[A\n",
      "201it [00:14, 13.67it/s]\u001b[A\n",
      "205it [00:15, 11.96it/s]\u001b[A\n",
      "213it [00:15, 14.94it/s]\u001b[A\n",
      "217it [00:15, 13.24it/s]\u001b[A\n",
      "221it [00:16, 12.34it/s]\u001b[A\n",
      "223it [00:16,  8.18it/s]\u001b[A\n",
      "231it [00:17, 11.84it/s]\u001b[A\n",
      "236it [00:17, 13.04it/s]\u001b[A\n",
      "238it [00:17, 11.56it/s]\u001b[A\n",
      "240it [00:18,  9.84it/s]\u001b[A\n",
      "242it [00:18,  7.49it/s]\u001b[A\n",
      "248it [00:19,  9.90it/s]\u001b[A\n",
      "257it [00:19, 14.24it/s]\u001b[A\n",
      "265it [00:19, 16.16it/s]\u001b[A\n",
      "270it [00:20, 15.69it/s]\u001b[A\n",
      "277it [00:20, 17.32it/s]\u001b[A\n",
      "281it [00:21, 10.91it/s]\u001b[A\n",
      "288it [00:21, 12.05it/s]\u001b[A\n",
      "298it [00:22, 15.86it/s]\u001b[A\n",
      "304it [00:22, 16.34it/s]\u001b[A\n",
      "310it [00:22, 16.01it/s]\u001b[A\n",
      "318it [00:23, 13.22it/s]\u001b[A\n",
      "323it [00:24, 13.50it/s]\u001b[A\n",
      "329it [00:24, 14.27it/s]\u001b[A\n",
      "333it [00:24, 13.55it/s]\u001b[A\n",
      "338it [00:25, 13.17it/s]\u001b[A\n",
      "343it [00:25, 13.47it/s]\u001b[A\n",
      "347it [00:25, 12.57it/s]\u001b[A\n",
      "355it [00:26, 13.92it/s]\u001b[A\n",
      "360it [00:26, 12.95it/s]\u001b[A\n",
      "364it [00:27, 12.06it/s]\u001b[A\n",
      "371it [00:27, 13.94it/s]\u001b[A\n",
      "376it [00:28, 12.77it/s]\u001b[A\n",
      "382it [00:28, 12.81it/s]\u001b[A\n",
      "391it [00:29, 14.75it/s]\u001b[A\n",
      "398it [00:29, 14.46it/s]\u001b[A\n",
      "404it [00:30, 13.59it/s]\u001b[A\n",
      "411it [00:30, 13.89it/s]\u001b[A\n",
      "416it [00:30, 14.20it/s]\u001b[A\n",
      "419it [00:31, 12.43it/s]\u001b[A\n",
      "422it [00:31, 12.06it/s]\u001b[A\n",
      "424it [00:31, 10.51it/s]\u001b[A\n",
      "426it [00:32,  9.21it/s]\u001b[A\n",
      "430it [00:32,  9.52it/s]\u001b[A\n",
      "433it [00:32,  9.75it/s]\u001b[A\n",
      "438it [00:33, 11.17it/s]\u001b[A\n",
      "446it [00:33, 14.03it/s]\u001b[A\n",
      "449it [00:34, 12.65it/s]\u001b[A\n",
      "461it [00:34, 18.57it/s]\u001b[A\n",
      "466it [00:34, 16.00it/s]\u001b[A\n",
      "471it [00:35, 12.25it/s]\u001b[A\n",
      "479it [00:35, 15.17it/s]\u001b[A\n",
      "483it [00:36, 13.60it/s]\u001b[A\n",
      "501it [00:37, 13.51it/s]\u001b[A\n",
      "33it [12:13, 32.18s/it]"
     ]
    },
    {
     "name": "stdout",
     "output_type": "stream",
     "text": [
      "Trying date: 2022-03-05 | Currently at index: 33\n"
     ]
    },
    {
     "name": "stderr",
     "output_type": "stream",
     "text": [
      "\n",
      "0it [00:00, ?it/s]\u001b[A\n",
      "1it [00:00,  1.11it/s]\u001b[A\n",
      "5it [00:01,  5.04it/s]\u001b[A\n",
      "9it [00:01,  7.04it/s]\u001b[A\n",
      "12it [00:01,  7.12it/s]\u001b[A\n",
      "17it [00:02,  8.82it/s]\u001b[A\n",
      "20it [00:02,  7.75it/s]\u001b[A\n",
      "22it [00:03,  7.34it/s]\u001b[A\n",
      "27it [00:03,  9.24it/s]\u001b[A\n",
      "33it [00:03, 11.78it/s]\u001b[A\n",
      "38it [00:04, 13.14it/s]\u001b[A\n",
      "41it [00:04, 11.47it/s]\u001b[A\n",
      "43it [00:05,  9.23it/s]\u001b[A\n",
      "48it [00:05,  8.14it/s]\u001b[A\n",
      "53it [00:06,  9.57it/s]\u001b[A\n",
      "57it [00:06, 10.06it/s]\u001b[A\n",
      "61it [00:06, 10.45it/s]\u001b[A\n",
      "64it [00:07,  9.92it/s]\u001b[A\n",
      "69it [00:07, 11.31it/s]\u001b[A\n",
      "75it [00:07, 12.65it/s]\u001b[A\n",
      "79it [00:08, 12.38it/s]\u001b[A\n",
      "86it [00:08, 11.92it/s]\u001b[A\n",
      "89it [00:09,  9.10it/s]\u001b[A\n",
      "95it [00:09, 11.06it/s]\u001b[A\n",
      "97it [00:10,  9.21it/s]\u001b[A\n",
      "100it [00:10,  7.07it/s]\u001b[A\n",
      "104it [00:11,  8.12it/s]\u001b[A\n",
      "108it [00:11,  8.49it/s]\u001b[A\n",
      "112it [00:12,  8.65it/s]\u001b[A\n",
      "120it [00:12, 11.86it/s]\u001b[A\n",
      "131it [00:12, 16.95it/s]\u001b[A\n",
      "137it [00:13, 16.94it/s]\u001b[A\n",
      "140it [00:13, 14.57it/s]\u001b[A\n",
      "143it [00:13, 13.42it/s]\u001b[A\n",
      "145it [00:14, 11.67it/s]\u001b[A\n",
      "148it [00:14, 10.59it/s]\u001b[A\n",
      "154it [00:14, 12.79it/s]\u001b[A\n",
      "157it [00:15, 11.43it/s]\u001b[A\n",
      "160it [00:15,  9.53it/s]\u001b[A\n",
      "166it [00:16, 11.80it/s]\u001b[A\n",
      "172it [00:16, 13.30it/s]\u001b[A\n",
      "174it [00:16, 11.28it/s]\u001b[A\n",
      "176it [00:17,  9.66it/s]\u001b[A\n",
      "177it [00:17,  7.99it/s]\u001b[A\n",
      "180it [00:17,  8.70it/s]\u001b[A\n",
      "181it [00:18,  6.80it/s]\u001b[A\n",
      "185it [00:18,  8.32it/s]\u001b[A\n",
      "189it [00:18,  9.20it/s]\u001b[A\n",
      "194it [00:19, 10.72it/s]\u001b[A\n",
      "201it [00:19, 14.05it/s]\u001b[A\n",
      "207it [00:19, 15.50it/s]\u001b[A\n",
      "212it [00:19, 16.04it/s]\u001b[A\n",
      "215it [00:20, 13.59it/s]\u001b[A\n",
      "219it [00:20, 12.66it/s]\u001b[A\n",
      "225it [00:21, 13.67it/s]\u001b[A\n",
      "230it [00:21, 13.99it/s]\u001b[A\n",
      "232it [00:21, 12.22it/s]\u001b[A\n",
      "236it [00:22, 12.54it/s]\u001b[A\n",
      "240it [00:22, 12.12it/s]\u001b[A\n",
      "247it [00:22, 14.30it/s]\u001b[A\n",
      "253it [00:23, 15.44it/s]\u001b[A\n",
      "258it [00:23, 15.53it/s]\u001b[A\n",
      "262it [00:23, 14.13it/s]\u001b[A\n",
      "266it [00:24, 13.59it/s]\u001b[A\n",
      "271it [00:24, 12.70it/s]\u001b[A\n",
      "282it [00:25, 15.99it/s]\u001b[A\n",
      "284it [00:25, 14.17it/s]\u001b[A\n",
      "286it [00:25, 11.89it/s]\u001b[A\n",
      "290it [00:26, 10.93it/s]\u001b[A\n",
      "294it [00:26, 10.51it/s]\u001b[A\n",
      "299it [00:26, 11.85it/s]\u001b[A\n",
      "303it [00:27, 12.12it/s]\u001b[A\n",
      "307it [00:27, 12.26it/s]\u001b[A\n",
      "312it [00:27, 12.72it/s]\u001b[A\n",
      "315it [00:28, 11.17it/s]\u001b[A\n",
      "319it [00:28,  9.96it/s]\u001b[A\n",
      "321it [00:28,  9.22it/s]\u001b[A\n",
      "326it [00:29, 10.51it/s]\u001b[A\n",
      "331it [00:29, 11.96it/s]\u001b[A\n",
      "336it [00:30, 12.49it/s]\u001b[A\n",
      "342it [00:30, 12.81it/s]\u001b[A\n",
      "347it [00:30, 13.41it/s]\u001b[A\n",
      "349it [00:31, 11.08it/s]\u001b[A\n",
      "353it [00:31, 11.37it/s]\u001b[A\n",
      "356it [00:31, 11.14it/s]\u001b[A\n",
      "360it [00:32, 10.80it/s]\u001b[A\n",
      "362it [00:32,  8.75it/s]\u001b[A\n",
      "366it [00:32,  9.28it/s]\u001b[A\n",
      "371it [00:33, 11.08it/s]\u001b[A\n",
      "376it [00:33, 12.59it/s]\u001b[A\n",
      "379it [00:33, 12.34it/s]\u001b[A\n",
      "381it [00:34, 10.04it/s]\u001b[A\n",
      "385it [00:34, 10.95it/s]\u001b[A\n",
      "388it [00:35,  8.54it/s]\u001b[A\n",
      "392it [00:35,  9.87it/s]\u001b[A\n",
      "394it [00:35,  8.69it/s]\u001b[A\n",
      "395it [00:36,  5.83it/s]\u001b[A\n",
      "401it [00:36,  8.65it/s]\u001b[A\n",
      "405it [00:36,  9.76it/s]\u001b[A\n",
      "409it [00:37,  9.15it/s]\u001b[A\n",
      "418it [00:37, 13.21it/s]\u001b[A\n",
      "424it [00:38, 13.07it/s]\u001b[A\n",
      "432it [00:38, 16.04it/s]\u001b[A\n",
      "437it [00:39, 13.15it/s]\u001b[A\n",
      "441it [00:39, 12.40it/s]\u001b[A\n",
      "443it [00:40, 10.03it/s]\u001b[A\n",
      "450it [00:40, 12.71it/s]\u001b[A\n",
      "453it [00:40, 11.54it/s]\u001b[A\n",
      "462it [00:41, 14.38it/s]\u001b[A\n",
      "475it [00:41, 19.43it/s]\u001b[A\n",
      "485it [00:41, 21.97it/s]\u001b[A\n",
      "491it [00:42, 20.65it/s]\u001b[A\n",
      "501it [00:43, 11.63it/s]\u001b[A\n",
      "34it [12:56, 35.45s/it]"
     ]
    },
    {
     "name": "stdout",
     "output_type": "stream",
     "text": [
      "Trying date: 2022-03-13 | Currently at index: 34\n"
     ]
    },
    {
     "name": "stderr",
     "output_type": "stream",
     "text": [
      "\n",
      "0it [00:00, ?it/s]\u001b[A\n",
      "1it [00:00,  1.02it/s]\u001b[A\n",
      "2it [00:01,  1.71it/s]\u001b[A\n",
      "7it [00:01,  4.76it/s]\u001b[A\n",
      "15it [00:02,  7.09it/s]\u001b[A\n",
      "21it [00:03,  8.70it/s]\u001b[A\n",
      "25it [00:03,  9.09it/s]\u001b[A\n",
      "27it [00:04,  7.55it/s]\u001b[A\n",
      "31it [00:04,  7.91it/s]\u001b[A\n",
      "35it [00:04,  8.18it/s]\u001b[A\n",
      "41it [00:05,  9.74it/s]\u001b[A\n",
      "46it [00:05, 10.00it/s]\u001b[A\n",
      "52it [00:06, 10.96it/s]\u001b[A\n",
      "55it [00:06,  9.40it/s]\u001b[A\n",
      "61it [00:07, 11.56it/s]\u001b[A\n",
      "64it [00:07,  9.88it/s]\u001b[A\n",
      "68it [00:08,  9.37it/s]\u001b[A\n",
      "69it [00:08,  8.12it/s]\u001b[A\n",
      "72it [00:08,  8.21it/s]\u001b[A\n",
      "78it [00:09, 10.71it/s]\u001b[A\n",
      "85it [00:09, 13.51it/s]\u001b[A\n",
      "92it [00:09, 15.63it/s]\u001b[A\n",
      "100it [00:10, 17.50it/s]\u001b[A\n",
      "106it [00:10, 16.62it/s]\u001b[A\n",
      "111it [00:10, 15.29it/s]\u001b[A\n",
      "119it [00:11, 17.88it/s]\u001b[A\n",
      "129it [00:11, 19.97it/s]\u001b[A\n",
      "137it [00:12, 18.95it/s]\u001b[A\n",
      "145it [00:12, 19.33it/s]\u001b[A\n",
      "154it [00:12, 20.18it/s]\u001b[A\n",
      "160it [00:13, 18.82it/s]\u001b[A\n",
      "166it [00:13, 18.86it/s]\u001b[A\n",
      "172it [00:13, 18.37it/s]\u001b[A\n",
      "176it [00:14, 16.93it/s]\u001b[A\n",
      "179it [00:14, 14.04it/s]\u001b[A\n",
      "184it [00:15, 11.85it/s]\u001b[A\n",
      "195it [00:15, 16.27it/s]\u001b[A\n",
      "201it [00:16, 15.80it/s]\u001b[A\n",
      "212it [00:16, 20.11it/s]\u001b[A\n",
      "215it [00:16, 15.94it/s]\u001b[A\n",
      "225it [00:17, 18.11it/s]\u001b[A\n",
      "237it [00:17, 22.12it/s]\u001b[A\n",
      "247it [00:17, 24.37it/s]\u001b[A\n",
      "254it [00:18, 23.01it/s]\u001b[A\n",
      "258it [00:18, 20.90it/s]\u001b[A\n",
      "263it [00:18, 19.25it/s]\u001b[A\n",
      "272it [00:19, 19.33it/s]\u001b[A\n",
      "283it [00:19, 22.30it/s]\u001b[A\n",
      "293it [00:20, 20.76it/s]\u001b[A\n",
      "303it [00:20, 22.08it/s]\u001b[A\n",
      "311it [00:21, 22.68it/s]\u001b[A\n",
      "316it [00:21, 20.28it/s]\u001b[A\n",
      "321it [00:21, 17.76it/s]\u001b[A\n",
      "329it [00:22, 19.33it/s]\u001b[A\n",
      "334it [00:22, 17.25it/s]\u001b[A\n",
      "338it [00:22, 14.69it/s]\u001b[A\n",
      "346it [00:23, 17.62it/s]\u001b[A\n",
      "351it [00:23, 17.27it/s]\u001b[A\n",
      "355it [00:23, 15.84it/s]\u001b[A\n",
      "360it [00:24, 15.58it/s]\u001b[A\n",
      "369it [00:24, 17.68it/s]\u001b[A\n",
      "375it [00:25, 16.49it/s]\u001b[A\n",
      "383it [00:25, 17.53it/s]\u001b[A\n",
      "390it [00:25, 17.73it/s]\u001b[A\n",
      "405it [00:26, 24.52it/s]\u001b[A\n",
      "411it [00:26, 22.36it/s]\u001b[A\n",
      "416it [00:27, 18.13it/s]\u001b[A\n",
      "427it [00:27, 21.61it/s]\u001b[A\n",
      "434it [00:27, 20.59it/s]\u001b[A\n",
      "443it [00:28, 20.39it/s]\u001b[A\n",
      "447it [00:28, 16.91it/s]\u001b[A\n",
      "456it [00:29, 18.95it/s]\u001b[A\n",
      "463it [00:29, 19.16it/s]\u001b[A\n",
      "469it [00:29, 17.88it/s]\u001b[A\n",
      "482it [00:30, 21.53it/s]\u001b[A\n",
      "501it [00:30, 16.34it/s]\u001b[A\n",
      "35it [13:27, 34.02s/it]"
     ]
    },
    {
     "name": "stdout",
     "output_type": "stream",
     "text": [
      "Trying date: 2022-04-12 | Currently at index: 35\n"
     ]
    },
    {
     "name": "stderr",
     "output_type": "stream",
     "text": [
      "\n",
      "0it [00:00, ?it/s]\u001b[A\n",
      "1it [00:00,  1.01it/s]\u001b[A\n",
      "15it [00:01, 12.69it/s]\u001b[A\n",
      "27it [00:01, 17.74it/s]\u001b[A\n",
      "35it [00:02, 17.77it/s]\u001b[A\n",
      "46it [00:02, 21.30it/s]\u001b[A\n",
      "55it [00:03, 22.01it/s]\u001b[A\n",
      "70it [00:03, 28.08it/s]\u001b[A\n",
      "78it [00:03, 24.99it/s]\u001b[A\n",
      "85it [00:04, 21.38it/s]\u001b[A\n",
      "92it [00:05, 16.97it/s]\u001b[A\n",
      "102it [00:05, 20.09it/s]\u001b[A\n",
      "105it [00:05, 16.24it/s]\u001b[A\n",
      "115it [00:06, 18.46it/s]\u001b[A\n",
      "123it [00:06, 18.86it/s]\u001b[A\n",
      "134it [00:07, 20.86it/s]\u001b[A\n",
      "143it [00:07, 20.39it/s]\u001b[A\n",
      "151it [00:07, 20.40it/s]\u001b[A\n",
      "162it [00:08, 18.06it/s]\u001b[A\n",
      "173it [00:08, 21.02it/s]\u001b[A\n",
      "178it [00:09, 18.58it/s]\u001b[A\n",
      "193it [00:09, 23.84it/s]\u001b[A\n",
      "201it [00:10, 21.86it/s]\u001b[A\n",
      "213it [00:10, 22.95it/s]\u001b[A\n",
      "227it [00:11, 26.04it/s]\u001b[A\n",
      "241it [00:11, 28.53it/s]\u001b[A\n",
      "258it [00:11, 32.42it/s]\u001b[A\n",
      "269it [00:12, 29.48it/s]\u001b[A\n",
      "279it [00:12, 26.65it/s]\u001b[A\n",
      "293it [00:13, 28.43it/s]\u001b[A\n",
      "303it [00:13, 26.42it/s]\u001b[A\n",
      "314it [00:14, 27.23it/s]\u001b[A\n",
      "322it [00:14, 26.64it/s]\u001b[A\n",
      "328it [00:14, 23.28it/s]\u001b[A\n",
      "333it [00:15, 20.64it/s]\u001b[A\n",
      "343it [00:15, 20.14it/s]\u001b[A\n",
      "354it [00:16, 21.85it/s]\u001b[A\n",
      "367it [00:16, 24.63it/s]\u001b[A\n",
      "382it [00:16, 28.56it/s]\u001b[A\n",
      "394it [00:17, 28.75it/s]\u001b[A\n",
      "403it [00:17, 26.71it/s]\u001b[A\n",
      "408it [00:18, 22.40it/s]\u001b[A\n",
      "414it [00:18, 19.76it/s]\u001b[A\n",
      "424it [00:19, 21.29it/s]\u001b[A\n",
      "433it [00:19, 22.01it/s]\u001b[A\n",
      "444it [00:19, 23.68it/s]\u001b[A\n",
      "455it [00:20, 23.86it/s]\u001b[A\n",
      "465it [00:20, 23.73it/s]\u001b[A\n",
      "479it [00:21, 26.41it/s]\u001b[A\n",
      "489it [00:21, 25.50it/s]\u001b[A\n",
      "501it [00:21, 22.79it/s]\u001b[A\n",
      "36it [13:49, 30.41s/it]"
     ]
    },
    {
     "name": "stdout",
     "output_type": "stream",
     "text": [
      "Trying date: 2022-04-26 | Currently at index: 36\n"
     ]
    },
    {
     "name": "stderr",
     "output_type": "stream",
     "text": [
      "\n",
      "0it [00:00, ?it/s]\u001b[A\n",
      "1it [00:01,  1.10s/it]\u001b[A\n",
      "15it [00:01, 11.87it/s]\u001b[A\n",
      "21it [00:02, 11.67it/s]\u001b[A\n",
      "32it [00:02, 14.10it/s]\u001b[A\n",
      "43it [00:03, 15.61it/s]\u001b[A\n",
      "59it [00:03, 19.81it/s]\u001b[A\n",
      "74it [00:04, 23.90it/s]\u001b[A\n",
      "81it [00:04, 19.49it/s]\u001b[A\n",
      "96it [00:05, 22.72it/s]\u001b[A\n",
      "105it [00:05, 20.59it/s]\u001b[A\n",
      "113it [00:06, 18.79it/s]\u001b[A\n",
      "125it [00:07, 19.44it/s]\u001b[A\n",
      "136it [00:07, 18.07it/s]\u001b[A\n",
      "148it [00:08, 19.07it/s]\u001b[A\n",
      "158it [00:08, 19.34it/s]\u001b[A\n",
      "168it [00:09, 18.80it/s]\u001b[A\n",
      "181it [00:09, 19.77it/s]\u001b[A\n",
      "193it [00:10, 17.68it/s]\u001b[A\n",
      "212it [00:11, 21.88it/s]\u001b[A\n",
      "227it [00:11, 23.21it/s]\u001b[A\n",
      "240it [00:12, 21.77it/s]\u001b[A\n",
      "255it [00:13, 25.01it/s]\u001b[A\n",
      "268it [00:13, 23.32it/s]\u001b[A\n",
      "282it [00:14, 24.41it/s]\u001b[A\n",
      "299it [00:14, 28.61it/s]\u001b[A\n",
      "311it [00:15, 26.47it/s]\u001b[A\n",
      "329it [00:15, 28.05it/s]\u001b[A\n",
      "341it [00:17, 18.75it/s]\u001b[A\n",
      "355it [00:17, 20.41it/s]\u001b[A\n",
      "369it [00:18, 19.19it/s]\u001b[A\n",
      "383it [00:18, 20.52it/s]\u001b[A\n",
      "394it [00:19, 18.79it/s]\u001b[A\n",
      "408it [00:20, 17.99it/s]\u001b[A\n",
      "424it [00:21, 21.01it/s]\u001b[A\n",
      "438it [00:21, 20.33it/s]\u001b[A\n",
      "449it [00:22, 20.58it/s]\u001b[A\n",
      "458it [00:23, 15.52it/s]\u001b[A\n",
      "469it [00:23, 16.25it/s]\u001b[A\n",
      "483it [00:24, 20.07it/s]\u001b[A\n",
      "501it [00:24, 20.14it/s]\u001b[A\n",
      "37it [14:14, 28.76s/it]"
     ]
    },
    {
     "name": "stdout",
     "output_type": "stream",
     "text": [
      "Trying date: 2022-05-09 | Currently at index: 37\n"
     ]
    },
    {
     "name": "stderr",
     "output_type": "stream",
     "text": [
      "\n",
      "0it [00:00, ?it/s]\u001b[A\n",
      "1it [00:01,  1.07s/it]\u001b[A\n",
      "21it [00:01, 15.75it/s]\u001b[A\n",
      "34it [00:02, 18.74it/s]\u001b[A\n",
      "48it [00:02, 19.79it/s]\u001b[A\n",
      "63it [00:03, 20.02it/s]\u001b[A\n",
      "83it [00:04, 21.81it/s]\u001b[A\n",
      "99it [00:04, 23.79it/s]\u001b[A\n",
      "117it [00:05, 23.08it/s]\u001b[A\n",
      "135it [00:06, 25.14it/s]\u001b[A\n",
      "152it [00:07, 23.43it/s]\u001b[A\n",
      "169it [00:07, 26.07it/s]\u001b[A\n",
      "182it [00:08, 23.20it/s]\u001b[A\n",
      "200it [00:08, 25.70it/s]\u001b[A\n",
      "217it [00:09, 26.76it/s]\u001b[A\n",
      "235it [00:10, 29.06it/s]\u001b[A\n",
      "251it [00:10, 26.25it/s]\u001b[A\n",
      "269it [00:11, 26.14it/s]\u001b[A\n",
      "289it [00:12, 28.61it/s]\u001b[A\n",
      "309it [00:12, 30.70it/s]\u001b[A\n",
      "324it [00:13, 25.62it/s]\u001b[A\n",
      "341it [00:13, 28.38it/s]\u001b[A\n",
      "353it [00:14, 24.55it/s]\u001b[A\n",
      "370it [00:15, 28.58it/s]\u001b[A\n",
      "382it [00:15, 28.03it/s]\u001b[A\n",
      "397it [00:16, 25.17it/s]\u001b[A\n",
      "414it [00:16, 27.24it/s]\u001b[A\n",
      "428it [00:17, 27.40it/s]\u001b[A\n",
      "447it [00:18, 25.68it/s]\u001b[A\n",
      "466it [00:18, 29.57it/s]\u001b[A\n",
      "480it [00:18, 30.70it/s]\u001b[A\n",
      "501it [00:19, 25.36it/s]\u001b[A\n",
      "38it [14:33, 26.06s/it]"
     ]
    },
    {
     "name": "stdout",
     "output_type": "stream",
     "text": [
      "Trying date: 2022-05-21 | Currently at index: 38\n"
     ]
    },
    {
     "name": "stderr",
     "output_type": "stream",
     "text": [
      "\n",
      "0it [00:00, ?it/s]\u001b[A\n",
      "1it [00:00,  1.04it/s]\u001b[A\n",
      "10it [00:01,  8.70it/s]\u001b[A\n",
      "18it [00:01, 12.27it/s]\u001b[A\n",
      "27it [00:02, 15.24it/s]\u001b[A\n",
      "37it [00:02, 18.44it/s]\u001b[A\n",
      "49it [00:03, 18.63it/s]\u001b[A\n",
      "64it [00:03, 21.47it/s]\u001b[A\n",
      "83it [00:04, 26.93it/s]\u001b[A\n",
      "98it [00:04, 31.01it/s]\u001b[A\n",
      "105it [00:05, 22.90it/s]\u001b[A\n",
      "113it [00:05, 21.44it/s]\u001b[A\n",
      "123it [00:06, 22.19it/s]\u001b[A\n",
      "134it [00:06, 22.80it/s]\u001b[A\n",
      "147it [00:07, 25.81it/s]\u001b[A\n",
      "156it [00:07, 25.05it/s]\u001b[A\n",
      "168it [00:07, 24.69it/s]\u001b[A\n",
      "182it [00:08, 27.16it/s]\u001b[A\n",
      "195it [00:08, 29.84it/s]\u001b[A\n",
      "203it [00:09, 26.13it/s]\u001b[A\n",
      "212it [00:09, 22.20it/s]\u001b[A\n",
      "224it [00:10, 24.88it/s]\u001b[A\n",
      "234it [00:10, 23.73it/s]\u001b[A\n",
      "247it [00:10, 26.89it/s]\u001b[A\n",
      "258it [00:11, 28.41it/s]\u001b[A\n",
      "264it [00:11, 24.11it/s]\u001b[A\n",
      "275it [00:12, 21.23it/s]\u001b[A\n",
      "286it [00:12, 22.75it/s]\u001b[A\n",
      "296it [00:13, 21.55it/s]\u001b[A\n",
      "309it [00:14, 18.15it/s]\u001b[A\n",
      "325it [00:14, 19.86it/s]\u001b[A\n",
      "341it [00:15, 24.44it/s]\u001b[A\n",
      "356it [00:15, 27.54it/s]\u001b[A\n",
      "363it [00:16, 23.68it/s]\u001b[A\n",
      "375it [00:16, 25.13it/s]\u001b[A\n",
      "386it [00:16, 24.12it/s]\u001b[A\n",
      "402it [00:17, 27.56it/s]\u001b[A\n",
      "410it [00:17, 24.07it/s]\u001b[A\n",
      "424it [00:18, 27.59it/s]\u001b[A\n",
      "431it [00:18, 22.87it/s]\u001b[A\n",
      "444it [00:19, 23.75it/s]\u001b[A\n",
      "458it [00:19, 23.09it/s]\u001b[A\n",
      "471it [00:20, 24.44it/s]\u001b[A\n",
      "486it [00:20, 27.53it/s]\u001b[A\n",
      "501it [00:21, 23.58it/s]\u001b[A\n",
      "39it [14:55, 24.62s/it]"
     ]
    },
    {
     "name": "stdout",
     "output_type": "stream",
     "text": [
      "Trying date: 2022-06-13 | Currently at index: 39\n"
     ]
    },
    {
     "name": "stderr",
     "output_type": "stream",
     "text": [
      "\n",
      "0it [00:00, ?it/s]\u001b[A\n",
      "1it [00:01,  1.05s/it]\u001b[A\n",
      "19it [00:01, 14.92it/s]\u001b[A\n",
      "35it [00:02, 20.18it/s]\u001b[A\n",
      "55it [00:02, 26.35it/s]\u001b[A\n",
      "72it [00:03, 28.09it/s]\u001b[A\n",
      "92it [00:03, 28.30it/s]\u001b[A\n",
      "107it [00:04, 29.68it/s]\u001b[A\n",
      "124it [00:05, 27.31it/s]\u001b[A\n",
      "140it [00:05, 26.70it/s]\u001b[A\n",
      "156it [00:06, 28.69it/s]\u001b[A\n",
      "167it [00:07, 21.67it/s]\u001b[A\n",
      "180it [00:07, 20.17it/s]\u001b[A\n",
      "196it [00:08, 21.61it/s]\u001b[A\n",
      "213it [00:09, 23.08it/s]\u001b[A\n",
      "232it [00:09, 25.25it/s]\u001b[A\n",
      "250it [00:10, 27.12it/s]\u001b[A\n",
      "268it [00:10, 31.49it/s]\u001b[A\n",
      "279it [00:11, 31.04it/s]\u001b[A\n",
      "296it [00:11, 32.82it/s]\u001b[A\n",
      "310it [00:12, 27.53it/s]\u001b[A\n",
      "329it [00:12, 32.46it/s]\u001b[A\n",
      "339it [00:13, 29.56it/s]\u001b[A\n",
      "355it [00:13, 24.14it/s]\u001b[A\n",
      "369it [00:14, 24.64it/s]\u001b[A\n",
      "387it [00:15, 25.58it/s]\u001b[A\n",
      "403it [00:15, 28.40it/s]\u001b[A\n",
      "419it [00:15, 31.63it/s]\u001b[A\n",
      "434it [00:16, 30.86it/s]\u001b[A\n",
      "451it [00:17, 29.65it/s]\u001b[A\n",
      "469it [00:17, 28.52it/s]\u001b[A\n",
      "485it [00:18, 31.62it/s]\u001b[A\n",
      "501it [00:18, 26.67it/s]\u001b[A\n",
      "40it [15:14, 22.87s/it]"
     ]
    },
    {
     "name": "stdout",
     "output_type": "stream",
     "text": [
      "Trying date: 2022-06-16 | Currently at index: 40\n"
     ]
    },
    {
     "name": "stderr",
     "output_type": "stream",
     "text": [
      "\n",
      "0it [00:00, ?it/s]\u001b[A\n",
      "1it [00:01,  1.22s/it]\u001b[A\n",
      "18it [00:01, 11.36it/s]\u001b[A\n",
      "36it [00:02, 17.41it/s]\u001b[A\n",
      "50it [00:02, 22.00it/s]\u001b[A\n",
      "61it [00:03, 22.54it/s]\u001b[A\n",
      "71it [00:03, 22.63it/s]\u001b[A\n",
      "86it [00:04, 26.30it/s]\u001b[A\n",
      "101it [00:04, 28.02it/s]\u001b[A\n",
      "118it [00:05, 26.55it/s]\u001b[A\n",
      "136it [00:06, 27.08it/s]\u001b[A\n",
      "151it [00:06, 25.46it/s]\u001b[A\n",
      "167it [00:07, 26.86it/s]\u001b[A\n",
      "185it [00:07, 31.48it/s]\u001b[A\n",
      "199it [00:08, 28.35it/s]\u001b[A\n",
      "216it [00:08, 27.47it/s]\u001b[A\n",
      "233it [00:09, 30.00it/s]\u001b[A\n",
      "253it [00:09, 33.74it/s]\u001b[A\n",
      "268it [00:10, 30.19it/s]\u001b[A\n",
      "286it [00:11, 29.52it/s]\u001b[A\n",
      "305it [00:11, 28.63it/s]\u001b[A\n",
      "325it [00:12, 31.08it/s]\u001b[A\n",
      "341it [00:12, 32.24it/s]\u001b[A\n",
      "357it [00:13, 35.17it/s]\u001b[A\n",
      "371it [00:13, 32.60it/s]\u001b[A\n",
      "386it [00:14, 28.20it/s]\u001b[A\n",
      "404it [00:14, 29.07it/s]\u001b[A\n",
      "421it [00:15, 27.53it/s]\u001b[A\n",
      "439it [00:16, 31.06it/s]\u001b[A\n",
      "452it [00:16, 30.72it/s]\u001b[A\n",
      "464it [00:17, 27.92it/s]\u001b[A\n",
      "478it [00:17, 28.08it/s]\u001b[A\n",
      "501it [00:18, 27.77it/s]\u001b[A\n",
      "41it [15:32, 21.43s/it]"
     ]
    },
    {
     "name": "stdout",
     "output_type": "stream",
     "text": [
      "Trying date: 2022-06-22 | Currently at index: 41\n"
     ]
    },
    {
     "name": "stderr",
     "output_type": "stream",
     "text": [
      "\n",
      "0it [00:00, ?it/s]\u001b[A\n",
      "1it [00:01,  1.16s/it]\u001b[A\n",
      "19it [00:01, 14.71it/s]\u001b[A\n",
      "32it [00:02, 17.99it/s]\u001b[A\n",
      "48it [00:02, 23.99it/s]\u001b[A\n",
      "64it [00:03, 23.51it/s]\u001b[A\n",
      "81it [00:03, 27.34it/s]\u001b[A\n",
      "99it [00:04, 29.75it/s]\u001b[A\n",
      "115it [00:04, 29.16it/s]\u001b[A\n",
      "130it [00:05, 27.89it/s]\u001b[A\n",
      "144it [00:05, 28.81it/s]\u001b[A\n",
      "160it [00:06, 26.27it/s]\u001b[A\n",
      "180it [00:07, 29.34it/s]\u001b[A\n",
      "195it [00:07, 27.28it/s]\u001b[A\n",
      "211it [00:08, 24.96it/s]\u001b[A\n",
      "229it [00:09, 26.43it/s]\u001b[A\n",
      "246it [00:09, 26.12it/s]\u001b[A\n",
      "266it [00:10, 29.64it/s]\u001b[A\n",
      "280it [00:10, 30.95it/s]\u001b[A\n",
      "293it [00:11, 31.52it/s]\u001b[A\n",
      "300it [00:11, 26.05it/s]\u001b[A\n",
      "313it [00:12, 23.60it/s]\u001b[A\n",
      "326it [00:12, 24.81it/s]\u001b[A\n",
      "337it [00:13, 24.47it/s]\u001b[A\n",
      "352it [00:13, 24.47it/s]\u001b[A\n",
      "366it [00:14, 26.44it/s]\u001b[A\n",
      "382it [00:14, 27.27it/s]\u001b[A\n",
      "398it [00:15, 28.87it/s]\u001b[A\n",
      "410it [00:15, 29.52it/s]\u001b[A\n",
      "422it [00:16, 27.54it/s]\u001b[A\n",
      "439it [00:16, 30.68it/s]\u001b[A\n",
      "450it [00:17, 29.25it/s]\u001b[A\n",
      "467it [00:17, 31.63it/s]\u001b[A\n",
      "481it [00:18, 27.76it/s]\u001b[A\n",
      "501it [00:18, 26.90it/s]\u001b[A\n",
      "42it [15:50, 20.59s/it]"
     ]
    },
    {
     "name": "stdout",
     "output_type": "stream",
     "text": [
      "Trying date: 2022-06-27 | Currently at index: 42\n"
     ]
    },
    {
     "name": "stderr",
     "output_type": "stream",
     "text": [
      "\n",
      "0it [00:00, ?it/s]\u001b[A\n",
      "1it [00:01,  1.09s/it]\u001b[A\n",
      "17it [00:01, 14.97it/s]\u001b[A\n",
      "26it [00:02, 11.49it/s]\u001b[A\n",
      "38it [00:02, 15.95it/s]\u001b[A\n",
      "52it [00:03, 20.27it/s]\u001b[A\n",
      "63it [00:04, 16.78it/s]\u001b[A\n",
      "78it [00:04, 20.77it/s]\u001b[A\n",
      "89it [00:05, 21.50it/s]\u001b[A\n",
      "105it [00:05, 25.65it/s]\u001b[A\n",
      "117it [00:06, 24.79it/s]\u001b[A\n",
      "135it [00:06, 29.95it/s]\u001b[A\n",
      "147it [00:06, 28.93it/s]\u001b[A\n",
      "160it [00:07, 28.79it/s]\u001b[A\n",
      "174it [00:07, 28.94it/s]\u001b[A\n",
      "187it [00:08, 28.96it/s]\u001b[A\n",
      "201it [00:08, 28.56it/s]\u001b[A\n",
      "214it [00:09, 28.17it/s]\u001b[A\n",
      "225it [00:09, 26.53it/s]\u001b[A\n",
      "241it [00:10, 30.58it/s]\u001b[A\n",
      "254it [00:10, 31.60it/s]\u001b[A\n",
      "260it [00:10, 25.73it/s]\u001b[A\n",
      "271it [00:11, 25.93it/s]\u001b[A\n",
      "278it [00:11, 22.29it/s]\u001b[A\n",
      "286it [00:12, 20.61it/s]\u001b[A\n",
      "299it [00:12, 22.70it/s]\u001b[A\n",
      "309it [00:13, 22.73it/s]\u001b[A\n",
      "324it [00:13, 26.23it/s]\u001b[A\n",
      "334it [00:14, 26.32it/s]\u001b[A\n",
      "345it [00:14, 26.55it/s]\u001b[A\n",
      "357it [00:15, 25.18it/s]\u001b[A\n",
      "374it [00:15, 29.56it/s]\u001b[A\n",
      "390it [00:15, 30.81it/s]\u001b[A\n",
      "404it [00:16, 31.05it/s]\u001b[A\n",
      "421it [00:16, 33.43it/s]\u001b[A\n",
      "432it [00:17, 30.77it/s]\u001b[A\n",
      "444it [00:17, 30.33it/s]\u001b[A\n",
      "455it [00:18, 27.44it/s]\u001b[A\n",
      "469it [00:18, 27.94it/s]\u001b[A\n",
      "484it [00:19, 29.82it/s]\u001b[A\n",
      "501it [00:19, 25.66it/s]\u001b[A\n",
      "43it [16:10, 20.27s/it]"
     ]
    },
    {
     "name": "stdout",
     "output_type": "stream",
     "text": [
      "Trying date: 2022-07-01 | Currently at index: 43\n"
     ]
    },
    {
     "name": "stderr",
     "output_type": "stream",
     "text": [
      "\n",
      "0it [00:00, ?it/s]\u001b[A\n",
      "1it [00:01,  1.10s/it]\u001b[A\n",
      "13it [00:01, 10.38it/s]\u001b[A\n",
      "30it [00:02, 17.99it/s]\u001b[A\n",
      "45it [00:02, 23.24it/s]\u001b[A\n",
      "59it [00:02, 25.88it/s]\u001b[A\n",
      "69it [00:03, 25.99it/s]\u001b[A\n",
      "81it [00:03, 25.38it/s]\u001b[A\n",
      "95it [00:04, 28.40it/s]\u001b[A\n",
      "108it [00:04, 27.47it/s]\u001b[A\n",
      "122it [00:05, 28.47it/s]\u001b[A\n",
      "134it [00:05, 29.13it/s]\u001b[A\n",
      "148it [00:06, 29.29it/s]\u001b[A\n",
      "162it [00:06, 29.28it/s]\u001b[A\n",
      "175it [00:06, 30.17it/s]\u001b[A\n",
      "185it [00:07, 28.83it/s]\u001b[A\n",
      "198it [00:07, 28.11it/s]\u001b[A\n",
      "206it [00:08, 24.81it/s]\u001b[A\n",
      "218it [00:08, 25.39it/s]\u001b[A\n",
      "230it [00:09, 25.90it/s]\u001b[A\n",
      "239it [00:09, 24.78it/s]\u001b[A\n",
      "250it [00:10, 24.64it/s]\u001b[A\n",
      "261it [00:10, 25.63it/s]\u001b[A\n",
      "269it [00:10, 24.67it/s]\u001b[A\n",
      "278it [00:11, 23.25it/s]\u001b[A\n",
      "288it [00:11, 24.09it/s]\u001b[A\n",
      "298it [00:12, 24.69it/s]\u001b[A\n",
      "305it [00:12, 22.99it/s]\u001b[A\n",
      "310it [00:12, 19.62it/s]\u001b[A\n",
      "317it [00:13, 18.64it/s]\u001b[A\n",
      "322it [00:13, 16.51it/s]\u001b[A\n",
      "332it [00:14, 17.17it/s]\u001b[A\n",
      "342it [00:14, 19.13it/s]\u001b[A\n",
      "349it [00:15, 16.06it/s]\u001b[A\n",
      "356it [00:15, 14.47it/s]\u001b[A\n",
      "370it [00:16, 19.49it/s]\u001b[A\n",
      "378it [00:16, 18.97it/s]\u001b[A\n",
      "392it [00:17, 22.83it/s]\u001b[A\n",
      "401it [00:17, 22.96it/s]\u001b[A\n",
      "410it [00:17, 23.17it/s]\u001b[A\n",
      "419it [00:18, 23.45it/s]\u001b[A\n",
      "424it [00:18, 19.92it/s]\u001b[A\n",
      "432it [00:19, 18.76it/s]\u001b[A\n",
      "442it [00:19, 20.45it/s]\u001b[A\n",
      "450it [00:19, 21.93it/s]\u001b[A\n",
      "453it [00:20, 12.19it/s]\u001b[A\n",
      "455it [00:21,  8.06it/s]\u001b[A\n",
      "457it [00:22,  7.37it/s]\u001b[A\n",
      "459it [00:22,  5.82it/s]\u001b[A\n",
      "462it [00:23,  6.36it/s]\u001b[A\n",
      "463it [00:23,  5.76it/s]\u001b[A\n",
      "464it [00:24,  3.55it/s]\u001b[A\n",
      "469it [00:24,  5.57it/s]\u001b[A\n",
      "470it [00:25,  4.70it/s]\u001b[A\n",
      "474it [00:25,  6.09it/s]\u001b[A\n",
      "483it [00:26, 10.36it/s]\u001b[A\n",
      "501it [00:26, 18.85it/s]\u001b[A\n",
      "44it [16:36, 22.17s/it]"
     ]
    },
    {
     "name": "stdout",
     "output_type": "stream",
     "text": [
      "Trying date: 2022-07-10 | Currently at index: 44\n"
     ]
    },
    {
     "name": "stderr",
     "output_type": "stream",
     "text": [
      "\n",
      "0it [00:00, ?it/s]\u001b[A\n",
      "1it [00:01,  1.08s/it]\u001b[A\n",
      "16it [00:01, 12.08it/s]\u001b[A\n",
      "32it [00:02, 17.77it/s]\u001b[A\n",
      "51it [00:02, 24.83it/s]\u001b[A\n",
      "63it [00:03, 23.98it/s]\u001b[A\n",
      "83it [00:03, 26.59it/s]\u001b[A\n",
      "101it [00:04, 30.96it/s]\u001b[A\n",
      "114it [00:04, 30.99it/s]\u001b[A\n",
      "129it [00:05, 32.06it/s]\u001b[A\n",
      "142it [00:05, 27.14it/s]\u001b[A\n",
      "160it [00:06, 30.47it/s]\u001b[A\n",
      "172it [00:06, 27.97it/s]\u001b[A\n",
      "190it [00:07, 26.18it/s]\u001b[A\n",
      "209it [00:08, 29.14it/s]\u001b[A\n",
      "226it [00:08, 28.31it/s]\u001b[A\n",
      "243it [00:09, 29.45it/s]\u001b[A\n",
      "259it [00:10, 23.10it/s]\u001b[A\n",
      "278it [00:10, 26.74it/s]\u001b[A\n",
      "297it [00:11, 29.03it/s]\u001b[A\n",
      "316it [00:11, 31.23it/s]\u001b[A\n",
      "331it [00:12, 32.96it/s]\u001b[A\n",
      "344it [00:12, 29.96it/s]\u001b[A\n",
      "357it [00:13, 27.09it/s]\u001b[A\n",
      "374it [00:13, 28.27it/s]\u001b[A\n",
      "394it [00:14, 30.38it/s]\u001b[A\n",
      "412it [00:14, 33.14it/s]\u001b[A\n",
      "429it [00:15, 32.68it/s]\u001b[A\n",
      "444it [00:15, 33.86it/s]\u001b[A\n",
      "450it [00:16, 28.48it/s]\u001b[A\n",
      "455it [00:16, 24.52it/s]\u001b[A\n",
      "459it [00:17, 19.57it/s]\u001b[A\n",
      "472it [00:17, 23.56it/s]\u001b[A\n",
      "501it [00:18, 27.80it/s]\u001b[A\n",
      "45it [16:54, 20.93s/it]"
     ]
    },
    {
     "name": "stdout",
     "output_type": "stream",
     "text": [
      "Trying date: 2022-08-29 | Currently at index: 45\n"
     ]
    },
    {
     "name": "stderr",
     "output_type": "stream",
     "text": [
      "\n",
      "0it [00:00, ?it/s]\u001b[A\n",
      "1it [00:01,  1.19s/it]\u001b[A\n",
      "16it [00:01, 12.21it/s]\u001b[A\n",
      "29it [00:02, 18.80it/s]\u001b[A\n",
      "44it [00:02, 22.59it/s]\u001b[A\n",
      "57it [00:02, 25.37it/s]\u001b[A\n",
      "72it [00:03, 27.99it/s]\u001b[A\n",
      "86it [00:03, 31.57it/s]\u001b[A\n",
      "90it [00:04, 16.49it/s]\u001b[A\n",
      "101it [00:05, 18.28it/s]\u001b[A\n",
      "114it [00:05, 18.18it/s]\u001b[A\n",
      "131it [00:06, 23.13it/s]\u001b[A\n",
      "148it [00:07, 24.49it/s]\u001b[A\n",
      "166it [00:07, 28.19it/s]\u001b[A\n",
      "175it [00:07, 26.27it/s]\u001b[A\n",
      "186it [00:08, 24.87it/s]\u001b[A\n",
      "199it [00:08, 25.90it/s]\u001b[A\n",
      "211it [00:09, 26.07it/s]\u001b[A\n",
      "222it [00:09, 26.64it/s]\u001b[A\n",
      "236it [00:10, 28.18it/s]\u001b[A\n",
      "246it [00:10, 27.11it/s]\u001b[A\n",
      "255it [00:11, 25.19it/s]\u001b[A\n",
      "263it [00:11, 22.46it/s]\u001b[A\n",
      "273it [00:11, 22.47it/s]\u001b[A\n",
      "288it [00:12, 26.26it/s]\u001b[A\n",
      "302it [00:12, 26.61it/s]\u001b[A\n",
      "313it [00:13, 26.52it/s]\u001b[A\n",
      "326it [00:13, 24.05it/s]\u001b[A\n",
      "340it [00:14, 26.09it/s]\u001b[A\n",
      "349it [00:14, 23.89it/s]\u001b[A\n",
      "358it [00:15, 21.67it/s]\u001b[A\n",
      "371it [00:15, 23.73it/s]\u001b[A\n",
      "380it [00:16, 22.37it/s]\u001b[A\n",
      "395it [00:16, 26.19it/s]\u001b[A\n",
      "410it [00:17, 25.39it/s]\u001b[A\n",
      "426it [00:17, 26.30it/s]\u001b[A\n",
      "443it [00:18, 29.25it/s]\u001b[A\n",
      "458it [00:19, 25.87it/s]\u001b[A\n",
      "472it [00:19, 27.07it/s]\u001b[A\n",
      "486it [00:19, 29.70it/s]\u001b[A\n",
      "501it [00:20, 24.60it/s]\u001b[A\n",
      "46it [17:15, 20.76s/it]"
     ]
    },
    {
     "name": "stdout",
     "output_type": "stream",
     "text": [
      "Trying date: 2022-09-10 | Currently at index: 46\n"
     ]
    },
    {
     "name": "stderr",
     "output_type": "stream",
     "text": [
      "\n",
      "0it [00:00, ?it/s]\u001b[A\n",
      "1it [00:00,  1.03it/s]\u001b[A\n",
      "9it [00:01,  8.29it/s]\u001b[A\n",
      "21it [00:01, 15.44it/s]\u001b[A\n",
      "36it [00:02, 23.49it/s]\u001b[A\n",
      "46it [00:02, 22.64it/s]\u001b[A\n",
      "59it [00:03, 25.57it/s]\u001b[A\n",
      "72it [00:03, 25.86it/s]\u001b[A\n",
      "87it [00:03, 27.95it/s]\u001b[A\n",
      "101it [00:04, 30.11it/s]\u001b[A\n",
      "113it [00:04, 30.87it/s]\u001b[A\n",
      "125it [00:05, 30.77it/s]\u001b[A\n",
      "137it [00:05, 28.36it/s]\u001b[A\n",
      "151it [00:06, 26.70it/s]\u001b[A\n",
      "168it [00:06, 29.65it/s]\u001b[A\n",
      "182it [00:07, 31.36it/s]\u001b[A\n",
      "196it [00:07, 31.90it/s]\u001b[A\n",
      "211it [00:08, 28.69it/s]\u001b[A\n",
      "227it [00:08, 31.38it/s]\u001b[A\n",
      "240it [00:09, 27.82it/s]\u001b[A\n",
      "257it [00:09, 31.59it/s]\u001b[A\n",
      "269it [00:10, 26.46it/s]\u001b[A\n",
      "287it [00:10, 28.36it/s]\u001b[A\n",
      "303it [00:11, 29.93it/s]\u001b[A\n",
      "315it [00:11, 29.46it/s]\u001b[A\n",
      "328it [00:12, 30.54it/s]\u001b[A\n",
      "335it [00:12, 26.42it/s]\u001b[A\n",
      "344it [00:12, 23.52it/s]\u001b[A\n",
      "356it [00:13, 25.64it/s]\u001b[A\n",
      "365it [00:13, 23.63it/s]\u001b[A\n",
      "375it [00:14, 20.10it/s]\u001b[A\n",
      "393it [00:14, 24.85it/s]\u001b[A\n",
      "406it [00:15, 24.07it/s]\u001b[A\n",
      "423it [00:15, 28.59it/s]\u001b[A\n",
      "434it [00:16, 27.94it/s]\u001b[A\n",
      "446it [00:16, 26.53it/s]\u001b[A\n",
      "455it [00:17, 25.58it/s]\u001b[A\n",
      "463it [00:17, 24.54it/s]\u001b[A\n",
      "473it [00:18, 23.73it/s]\u001b[A\n",
      "486it [00:18, 25.42it/s]\u001b[A\n",
      "501it [00:19, 26.34it/s]\u001b[A\n",
      "47it [17:34, 20.24s/it]"
     ]
    },
    {
     "name": "stdout",
     "output_type": "stream",
     "text": [
      "Trying date: 2022-10-08 | Currently at index: 47\n"
     ]
    },
    {
     "name": "stderr",
     "output_type": "stream",
     "text": [
      "\n",
      "0it [00:00, ?it/s]\u001b[A\n",
      "1it [00:01,  1.08s/it]\u001b[A\n",
      "16it [00:01, 12.49it/s]\u001b[A\n",
      "29it [00:01, 18.65it/s]\u001b[A\n",
      "38it [00:02, 18.75it/s]\u001b[A\n",
      "52it [00:02, 23.13it/s]\u001b[A\n",
      "65it [00:03, 24.37it/s]\u001b[A\n",
      "81it [00:03, 26.96it/s]\u001b[A\n",
      "95it [00:04, 27.67it/s]\u001b[A\n",
      "111it [00:04, 30.70it/s]\u001b[A\n",
      "124it [00:05, 29.98it/s]\u001b[A\n",
      "138it [00:05, 30.44it/s]\u001b[A\n",
      "147it [00:06, 27.92it/s]\u001b[A\n",
      "159it [00:06, 26.50it/s]\u001b[A\n",
      "175it [00:07, 29.07it/s]\u001b[A\n",
      "185it [00:07, 27.17it/s]\u001b[A\n",
      "198it [00:08, 23.08it/s]\u001b[A\n",
      "210it [00:08, 23.64it/s]\u001b[A\n",
      "218it [00:09, 22.10it/s]\u001b[A\n",
      "230it [00:09, 24.74it/s]\u001b[A\n",
      "239it [00:09, 24.10it/s]\u001b[A\n",
      "244it [00:10, 20.19it/s]\u001b[A\n",
      "257it [00:10, 22.80it/s]\u001b[A\n",
      "271it [00:11, 24.23it/s]\u001b[A\n",
      "282it [00:11, 23.53it/s]\u001b[A\n",
      "294it [00:12, 25.33it/s]\u001b[A\n",
      "305it [00:12, 23.47it/s]\u001b[A\n",
      "321it [00:13, 24.62it/s]\u001b[A\n",
      "335it [00:13, 26.04it/s]\u001b[A\n",
      "348it [00:14, 28.06it/s]\u001b[A\n",
      "364it [00:14, 30.00it/s]\u001b[A\n",
      "377it [00:15, 30.88it/s]\u001b[A\n",
      "393it [00:15, 33.09it/s]\u001b[A\n",
      "409it [00:15, 35.83it/s]\u001b[A\n",
      "419it [00:16, 33.91it/s]\u001b[A\n",
      "426it [00:16, 28.46it/s]\u001b[A\n",
      "436it [00:17, 27.17it/s]\u001b[A\n",
      "449it [00:17, 29.25it/s]\u001b[A\n",
      "459it [00:17, 26.39it/s]\u001b[A\n",
      "473it [00:18, 29.67it/s]\u001b[A\n",
      "482it [00:18, 27.69it/s]\u001b[A\n",
      "501it [00:19, 26.12it/s]\u001b[A\n",
      "48it [17:53, 22.36s/it]\n"
     ]
    }
   ],
   "source": [
    "tweets_list = {}\n",
    "\n",
    "for index, missing_date in tqdm(enumerate(still_missing_days)):\n",
    "    print(f'Trying date: {missing_date} | Currently at index: {index}')\n",
    "    try:\n",
    "        next_day = pd.Timestamp(missing_date) + datetime.timedelta(days=1)\n",
    "        for i, tweet in tqdm(enumerate(sntwitter.TwitterSearchScraper(\n",
    "            f'#bitcoin -filter:retweets since:{missing_date} until:{dt(next_day).strftime(\"%Y-%m-%d\")}'\n",
    "        ).get_items())):\n",
    "            if i > 500:\n",
    "                break\n",
    "            if not tweets_list.get(missing_date):\n",
    "                tweets_list[missing_date] = []\n",
    "\n",
    "            tweets_list[missing_date].append([tweet.date, tweet.username, tweet.content])\n",
    "    except Exception as e:\n",
    "        print(f'Error: {e}')\n",
    "        traceback.print_exc()\n",
    "        "
   ]
  },
  {
   "cell_type": "code",
   "execution_count": 11,
   "metadata": {
    "execution": {
     "iopub.execute_input": "2022-11-10T13:08:41.956737Z",
     "iopub.status.busy": "2022-11-10T13:08:41.956302Z",
     "iopub.status.idle": "2022-11-10T13:08:44.346183Z",
     "shell.execute_reply": "2022-11-10T13:08:44.344838Z",
     "shell.execute_reply.started": "2022-11-10T13:08:41.956701Z"
    }
   },
   "outputs": [
    {
     "name": "stderr",
     "output_type": "stream",
     "text": [
      "100%|██████████| 48/48 [00:00<00:00, 215.25it/s]\n"
     ]
    },
    {
     "name": "stdout",
     "output_type": "stream",
     "text": [
      "  adding: outputs_remaining/ (stored 0%)\n",
      "  adding: outputs_remaining/2021-07-15.csv (deflated 58%)\n",
      "  adding: outputs_remaining/2021-06-19.csv (deflated 60%)\n",
      "  adding: outputs_remaining/2022-05-09.csv (deflated 56%)\n",
      "  adding: outputs_remaining/2021-11-03.csv (deflated 57%)\n",
      "  adding: outputs_remaining/2022-07-01.csv (deflated 62%)\n",
      "  adding: outputs_remaining/2020-09-18.csv (deflated 58%)\n",
      "  adding: outputs_remaining/2021-08-03.csv (deflated 58%)\n",
      "  adding: outputs_remaining/2021-02-17.csv (deflated 58%)\n",
      "  adding: outputs_remaining/2021-04-16.csv (deflated 56%)\n",
      "  adding: outputs_remaining/2022-08-29.csv (deflated 61%)\n",
      "  adding: outputs_remaining/2022-01-18.csv (deflated 56%)\n",
      "  adding: outputs_remaining/2021-08-13.csv (deflated 57%)\n",
      "  adding: outputs_remaining/2021-02-27.csv (deflated 57%)\n",
      "  adding: outputs_remaining/2022-07-10.csv (deflated 61%)\n",
      "  adding: outputs_remaining/2022-10-08.csv (deflated 63%)\n",
      "  adding: outputs_remaining/2022-03-05.csv (deflated 58%)\n",
      "  adding: outputs_remaining/2022-09-10.csv (deflated 62%)\n",
      "  adding: outputs_remaining/2021-05-07.csv (deflated 57%)\n",
      "  adding: outputs_remaining/2021-09-09.csv (deflated 58%)\n",
      "  adding: outputs_remaining/2022-02-13.csv (deflated 56%)\n",
      "  adding: outputs_remaining/2021-02-04.csv (deflated 60%)\n",
      "  adding: outputs_remaining/2022-03-13.csv (deflated 55%)\n",
      "  adding: outputs_remaining/2022-01-10.csv (deflated 56%)\n",
      "  adding: outputs_remaining/2021-11-17.csv (deflated 55%)\n",
      "  adding: outputs_remaining/2021-12-16.csv (deflated 58%)\n",
      "  adding: outputs_remaining/2021-08-22.csv (deflated 58%)\n",
      "  adding: outputs_remaining/2021-07-01.csv (deflated 60%)\n",
      "  adding: outputs_remaining/2021-12-28.csv (deflated 57%)\n",
      "  adding: outputs_remaining/2022-06-13.csv (deflated 57%)\n",
      "  adding: outputs_remaining/2021-02-12.csv (deflated 53%)\n",
      "  adding: outputs_remaining/2022-06-22.csv (deflated 59%)\n",
      "  adding: outputs_remaining/2022-06-16.csv (deflated 60%)\n",
      "  adding: outputs_remaining/2022-03-01.csv (deflated 54%)\n",
      "  adding: outputs_remaining/tweets_remaining.csv (deflated 59%)\n",
      "  adding: outputs_remaining/2021-10-26.csv (deflated 57%)\n",
      "  adding: outputs_remaining/2021-05-24.csv (deflated 57%)\n",
      "  adding: outputs_remaining/2022-05-21.csv (deflated 61%)\n",
      "  adding: outputs_remaining/2021-11-23.csv (deflated 57%)\n",
      "  adding: outputs_remaining/2021-03-10.csv (deflated 62%)\n",
      "  adding: outputs_remaining/2022-02-10.csv (deflated 57%)\n",
      "  adding: outputs_remaining/2021-10-17.csv (deflated 58%)\n",
      "  adding: outputs_remaining/2022-06-27.csv (deflated 60%)\n",
      "  adding: outputs_remaining/2021-02-21.csv (deflated 57%)\n",
      "  adding: outputs_remaining/2022-04-12.csv (deflated 58%)\n",
      "  adding: outputs_remaining/2022-04-26.csv (deflated 60%)\n",
      "  adding: outputs_remaining/2021-11-10.csv (deflated 56%)\n",
      "  adding: outputs_remaining/2021-12-10.csv (deflated 57%)\n",
      "  adding: outputs_remaining/2022-02-08.csv (deflated 56%)\n",
      "  adding: outputs_remaining/2021-04-04.csv (deflated 62%)\n"
     ]
    },
    {
     "data": {
      "text/html": [
       "<a href='file.zip' target='_blank'>file.zip</a><br>"
      ],
      "text/plain": [
       "/kaggle/working/file.zip"
      ]
     },
     "execution_count": 11,
     "metadata": {},
     "output_type": "execute_result"
    }
   ],
   "source": [
    "dates = []\n",
    "usernames = []\n",
    "texts = []\n",
    "\n",
    "for i, val in enumerate(tweets_list.values()):\n",
    "    for j in val:\n",
    "        dates.append(j[0])\n",
    "        usernames.append(j[1])\n",
    "        texts.append(j[2])\n",
    "\n",
    "df_details = {\n",
    "    'user_name': usernames,\n",
    "    'date': dates,\n",
    "    'text': texts\n",
    "}\n",
    "\n",
    "df = pd.DataFrame(df_details)\n",
    "\n",
    "def dt(x):\n",
    "    t = pd.Timestamp(x)\n",
    "    return pd.Timestamp.date(t)\n",
    "\n",
    "df.date = df.date.apply(dt)\n",
    "os.makedirs('/kaggle/working/outputs_remaining')\n",
    "df.to_csv('/kaggle/working/outputs_remaining/tweets_remaining.csv')\n",
    "df_days = [y for x, y in df.groupby('date')]\n",
    "\n",
    "for i in tqdm(df_days):\n",
    "    filename = str(i.iloc[0]['date'])\n",
    "    i.to_csv(f'/kaggle/working/outputs_remaining/{filename}.csv')\n",
    "\n",
    "!zip -r file.zip './outputs_remaining'\n",
    "FileLink(r'file.zip')"
   ]
  },
  {
   "cell_type": "markdown",
   "metadata": {},
   "source": [
    "### Clean scraped data\n",
    "\n",
    "For the moment, remove non-english tweets and rows with missing data"
   ]
  },
  {
   "cell_type": "code",
   "execution_count": 1,
   "metadata": {
    "execution": {
     "iopub.execute_input": "2022-11-10T14:25:38.419761Z",
     "iopub.status.busy": "2022-11-10T14:25:38.419172Z",
     "iopub.status.idle": "2022-11-10T14:25:55.416419Z",
     "shell.execute_reply": "2022-11-10T14:25:55.414460Z",
     "shell.execute_reply.started": "2022-11-10T14:25:38.419632Z"
    }
   },
   "outputs": [
    {
     "name": "stdout",
     "output_type": "stream",
     "text": [
      "Collecting whatthelang\n",
      "  Downloading whatthelang-1.0.1.tar.gz (786 kB)\n",
      "\u001b[2K     \u001b[90m━━━━━━━━━━━━━━━━━━━━━━━━━━━━━━━━━━━━━━━\u001b[0m \u001b[32m786.9/786.9 kB\u001b[0m \u001b[31m2.3 MB/s\u001b[0m eta \u001b[36m0:00:00\u001b[0m00:01\u001b[0m00:01\u001b[0m\n",
      "\u001b[?25h  Preparing metadata (setup.py) ... \u001b[?25ldone\n",
      "\u001b[?25hRequirement already satisfied: Cython in /opt/conda/lib/python3.7/site-packages (from whatthelang) (0.29.32)\n",
      "Requirement already satisfied: cysignals in /opt/conda/lib/python3.7/site-packages (from whatthelang) (1.11.2)\n",
      "Requirement already satisfied: pyfasttext in /opt/conda/lib/python3.7/site-packages (from whatthelang) (0.4.6)\n",
      "Requirement already satisfied: future in /opt/conda/lib/python3.7/site-packages (from pyfasttext->whatthelang) (0.18.2)\n",
      "Requirement already satisfied: numpy in /opt/conda/lib/python3.7/site-packages (from pyfasttext->whatthelang) (1.21.6)\n",
      "Building wheels for collected packages: whatthelang\n",
      "  Building wheel for whatthelang (setup.py) ... \u001b[?25ldone\n",
      "\u001b[?25h  Created wheel for whatthelang: filename=whatthelang-1.0.1-py3-none-any.whl size=789818 sha256=566f6f436a560cde5552ecad25f995c43b5f7c3f8011f12e33e0ec31f6ba8ef8\n",
      "  Stored in directory: /root/.cache/pip/wheels/91/5b/fe/43b4b1eb6511aed55a9c5ecf3a178a9b06d783a58907dbc87b\n",
      "Successfully built whatthelang\n",
      "Installing collected packages: whatthelang\n",
      "Successfully installed whatthelang-1.0.1\n",
      "\u001b[33mWARNING: Running pip as the 'root' user can result in broken permissions and conflicting behaviour with the system package manager. It is recommended to use a virtual environment instead: https://pip.pypa.io/warnings/venv\u001b[0m\u001b[33m\n",
      "\u001b[0m"
     ]
    }
   ],
   "source": [
    "!pip install whatthelang"
   ]
  },
  {
   "cell_type": "code",
   "execution_count": 4,
   "metadata": {
    "execution": {
     "iopub.execute_input": "2022-11-10T14:27:05.069420Z",
     "iopub.status.busy": "2022-11-10T14:27:05.068529Z",
     "iopub.status.idle": "2022-11-10T14:27:05.223500Z",
     "shell.execute_reply": "2022-11-10T14:27:05.222274Z",
     "shell.execute_reply.started": "2022-11-10T14:27:05.069373Z"
    }
   },
   "outputs": [
    {
     "name": "stdout",
     "output_type": "stream",
     "text": [
      "/kaggle/input/missing-days/missing_days.txt\n",
      "/kaggle/input/still-missing-days/still_missing_days.txt\n",
      "/kaggle/input/total-scraped/total/2022-03-10.csv\n",
      "/kaggle/input/total-scraped/total/2020-07-10.csv\n",
      "/kaggle/input/total-scraped/total/2021-11-07.csv\n",
      "/kaggle/input/total-scraped/total/2021-06-11.csv\n",
      "/kaggle/input/total-scraped/total/2021-12-11.csv\n",
      "/kaggle/input/total-scraped/total/2021-06-06.csv\n",
      "/kaggle/input/total-scraped/total/2020-10-15.csv\n",
      "/kaggle/input/total-scraped/total/2020-10-21.csv\n",
      "/kaggle/input/total-scraped/total/2021-05-02.csv\n",
      "/kaggle/input/total-scraped/total/2021-03-23.csv\n",
      "/kaggle/input/total-scraped/total/2020-08-19.csv\n",
      "/kaggle/input/total-scraped/total/2021-11-01.csv\n",
      "/kaggle/input/total-scraped/total/2020-04-19.csv\n",
      "/kaggle/input/total-scraped/total/2020-09-23.csv\n",
      "/kaggle/input/total-scraped/total/2022-04-11.csv\n",
      "/kaggle/input/total-scraped/total/2022-04-22.csv\n",
      "/kaggle/input/total-scraped/total/2021-12-16.csv\n",
      "/kaggle/input/total-scraped/total/2020-06-13.csv\n",
      "/kaggle/input/total-scraped/total/2020-01-05.csv\n",
      "/kaggle/input/total-scraped/total/2021-05-01.csv\n",
      "/kaggle/input/total-scraped/total/2020-02-23.csv\n",
      "/kaggle/input/total-scraped/total/2021-01-14.csv\n",
      "/kaggle/input/total-scraped/total/2021-09-12.csv\n",
      "/kaggle/input/total-scraped/total/2022-03-30.csv\n",
      "/kaggle/input/total-scraped/total/2022-09-14.csv\n",
      "/kaggle/input/total-scraped/total/2021-04-01.csv\n",
      "/kaggle/input/total-scraped/total/2022-01-09.csv\n",
      "/kaggle/input/total-scraped/total/2021-05-11.csv\n",
      "/kaggle/input/total-scraped/total/2022-07-06.csv\n",
      "/kaggle/input/total-scraped/total/2022-01-25.csv\n",
      "/kaggle/input/total-scraped/total/2020-02-08.csv\n",
      "/kaggle/input/total-scraped/total/2020-12-26.csv\n",
      "/kaggle/input/total-scraped/total/2022-08-18.csv\n",
      "/kaggle/input/total-scraped/total/2022-07-31.csv\n",
      "/kaggle/input/total-scraped/total/2021-11-30.csv\n",
      "/kaggle/input/total-scraped/total/2020-01-04.csv\n",
      "/kaggle/input/total-scraped/total/2020-07-11.csv\n",
      "/kaggle/input/total-scraped/total/2020-12-19.csv\n",
      "/kaggle/input/total-scraped/total/2022-02-27.csv\n",
      "/kaggle/input/total-scraped/total/2021-03-04.csv\n",
      "/kaggle/input/total-scraped/total/2021-10-30.csv\n",
      "/kaggle/input/total-scraped/total/2020-07-30.csv\n",
      "/kaggle/input/total-scraped/total/2020-10-20.csv\n",
      "/kaggle/input/total-scraped/total/2022-06-13.csv\n",
      "/kaggle/input/total-scraped/total/2020-04-10.csv\n",
      "/kaggle/input/total-scraped/total/2020-06-20.csv\n",
      "/kaggle/input/total-scraped/total/2021-04-24.csv\n",
      "/kaggle/input/total-scraped/total/2020-01-21.csv\n",
      "/kaggle/input/total-scraped/total/2020-01-08.csv\n",
      "/kaggle/input/total-scraped/total/2020-12-28.csv\n",
      "/kaggle/input/total-scraped/total/2022-02-11.csv\n",
      "/kaggle/input/total-scraped/total/2021-08-10.csv\n",
      "/kaggle/input/total-scraped/total/2019-12-25.csv\n",
      "/kaggle/input/total-scraped/total/2020-12-14.csv\n",
      "/kaggle/input/total-scraped/total/2020-08-04.csv\n",
      "/kaggle/input/total-scraped/total/2022-04-08.csv\n",
      "/kaggle/input/total-scraped/total/2021-09-09.csv\n",
      "/kaggle/input/total-scraped/total/2022-08-19.csv\n",
      "/kaggle/input/total-scraped/total/2020-04-02.csv\n",
      "/kaggle/input/total-scraped/total/2021-02-21.csv\n",
      "/kaggle/input/total-scraped/total/2021-11-26.csv\n",
      "/kaggle/input/total-scraped/total/2020-09-22.csv\n",
      "/kaggle/input/total-scraped/total/2020-09-10.csv\n",
      "/kaggle/input/total-scraped/total/2022-09-05.csv\n",
      "/kaggle/input/total-scraped/total/2020-06-05.csv\n",
      "/kaggle/input/total-scraped/total/2022-08-16.csv\n",
      "/kaggle/input/total-scraped/total/2022-08-23.csv\n",
      "/kaggle/input/total-scraped/total/2022-01-05.csv\n",
      "/kaggle/input/total-scraped/total/2020-12-17.csv\n",
      "/kaggle/input/total-scraped/total/2021-12-21.csv\n",
      "/kaggle/input/total-scraped/total/2022-09-18.csv\n",
      "/kaggle/input/total-scraped/total/2019-12-29.csv\n",
      "/kaggle/input/total-scraped/total/2022-10-01.csv\n",
      "/kaggle/input/total-scraped/total/2020-03-14.csv\n",
      "/kaggle/input/total-scraped/total/2019-11-27.csv\n",
      "/kaggle/input/total-scraped/total/2020-03-05.csv\n",
      "/kaggle/input/total-scraped/total/2021-02-10.csv\n",
      "/kaggle/input/total-scraped/total/2020-11-13.csv\n",
      "/kaggle/input/total-scraped/total/2021-09-14.csv\n",
      "/kaggle/input/total-scraped/total/2021-04-30.csv\n",
      "/kaggle/input/total-scraped/total/2021-04-15.csv\n",
      "/kaggle/input/total-scraped/total/2022-04-03.csv\n",
      "/kaggle/input/total-scraped/total/2022-09-26.csv\n",
      "/kaggle/input/total-scraped/total/2020-05-01.csv\n",
      "/kaggle/input/total-scraped/total/2020-09-07.csv\n",
      "/kaggle/input/total-scraped/total/2021-06-28.csv\n",
      "/kaggle/input/total-scraped/total/2022-08-17.csv\n",
      "/kaggle/input/total-scraped/total/2020-12-18.csv\n",
      "/kaggle/input/total-scraped/total/2020-01-16.csv\n",
      "/kaggle/input/total-scraped/total/2019-12-21.csv\n",
      "/kaggle/input/total-scraped/total/2022-07-21.csv\n",
      "/kaggle/input/total-scraped/total/2020-11-22.csv\n",
      "/kaggle/input/total-scraped/total/2022-08-06.csv\n",
      "/kaggle/input/total-scraped/total/2021-09-18.csv\n",
      "/kaggle/input/total-scraped/total/2022-02-18.csv\n",
      "/kaggle/input/total-scraped/total/2022-03-11.csv\n",
      "/kaggle/input/total-scraped/total/2020-03-26.csv\n",
      "/kaggle/input/total-scraped/total/2020-11-12.csv\n",
      "/kaggle/input/total-scraped/total/2021-01-13.csv\n",
      "/kaggle/input/total-scraped/total/2021-10-05.csv\n",
      "/kaggle/input/total-scraped/total/2021-05-30.csv\n",
      "/kaggle/input/total-scraped/total/2022-06-11.csv\n",
      "/kaggle/input/total-scraped/total/2020-08-31.csv\n",
      "/kaggle/input/total-scraped/total/2020-01-11.csv\n",
      "/kaggle/input/total-scraped/total/2019-12-06.csv\n",
      "/kaggle/input/total-scraped/total/2019-12-24.csv\n",
      "/kaggle/input/total-scraped/total/2021-01-12.csv\n",
      "/kaggle/input/total-scraped/total/2021-05-06.csv\n",
      "/kaggle/input/total-scraped/total/2020-12-02.csv\n",
      "/kaggle/input/total-scraped/total/2022-02-01.csv\n",
      "/kaggle/input/total-scraped/total/2022-06-06.csv\n",
      "/kaggle/input/total-scraped/total/2021-03-28.csv\n",
      "/kaggle/input/total-scraped/total/2020-05-31.csv\n",
      "/kaggle/input/total-scraped/total/2020-02-04.csv\n",
      "/kaggle/input/total-scraped/total/2020-04-09.csv\n",
      "/kaggle/input/total-scraped/total/2022-10-07.csv\n",
      "/kaggle/input/total-scraped/total/2021-07-10.csv\n",
      "/kaggle/input/total-scraped/total/2022-01-18.csv\n",
      "/kaggle/input/total-scraped/total/2022-01-31.csv\n",
      "/kaggle/input/total-scraped/total/2021-01-06.csv\n",
      "/kaggle/input/total-scraped/total/2021-02-11.csv\n",
      "/kaggle/input/total-scraped/total/2020-10-26.csv\n",
      "/kaggle/input/total-scraped/total/2020-12-11.csv\n",
      "/kaggle/input/total-scraped/total/2021-07-07.csv\n",
      "/kaggle/input/total-scraped/total/2022-09-08.csv\n",
      "/kaggle/input/total-scraped/total/2021-07-13.csv\n",
      "/kaggle/input/total-scraped/total/2019-12-26.csv\n",
      "/kaggle/input/total-scraped/total/2020-12-13.csv\n",
      "/kaggle/input/total-scraped/total/2020-08-10.csv\n",
      "/kaggle/input/total-scraped/total/2021-09-21.csv\n",
      "/kaggle/input/total-scraped/total/2022-06-30.csv\n",
      "/kaggle/input/total-scraped/total/2022-03-29.csv\n",
      "/kaggle/input/total-scraped/total/2020-12-01.csv\n",
      "/kaggle/input/total-scraped/total/2020-11-28.csv\n",
      "/kaggle/input/total-scraped/total/2020-07-20.csv\n",
      "/kaggle/input/total-scraped/total/2019-12-10.csv\n",
      "/kaggle/input/total-scraped/total/2021-07-12.csv\n",
      "/kaggle/input/total-scraped/total/2020-09-13.csv\n",
      "/kaggle/input/total-scraped/total/2021-01-20.csv\n",
      "/kaggle/input/total-scraped/total/2021-01-01.csv\n",
      "/kaggle/input/total-scraped/total/2021-01-03.csv\n",
      "/kaggle/input/total-scraped/total/2021-12-18.csv\n",
      "/kaggle/input/total-scraped/total/2021-06-13.csv\n",
      "/kaggle/input/total-scraped/total/2020-01-12.csv\n",
      "/kaggle/input/total-scraped/total/2020-05-07.csv\n",
      "/kaggle/input/total-scraped/total/2022-06-09.csv\n",
      "/kaggle/input/total-scraped/total/2020-02-20.csv\n",
      "/kaggle/input/total-scraped/total/2021-11-22.csv\n",
      "/kaggle/input/total-scraped/total/2020-01-28.csv\n",
      "/kaggle/input/total-scraped/total/2021-12-24.csv\n",
      "/kaggle/input/total-scraped/total/2021-05-03.csv\n",
      "/kaggle/input/total-scraped/total/2020-04-06.csv\n",
      "/kaggle/input/total-scraped/total/2021-09-11.csv\n",
      "/kaggle/input/total-scraped/total/2020-12-31.csv\n",
      "/kaggle/input/total-scraped/total/2022-06-22.csv\n",
      "/kaggle/input/total-scraped/total/2020-04-20.csv\n",
      "/kaggle/input/total-scraped/total/2020-07-09.csv\n",
      "/kaggle/input/total-scraped/total/2019-11-30.csv\n",
      "/kaggle/input/total-scraped/total/2021-03-07.csv\n",
      "/kaggle/input/total-scraped/total/2021-05-05.csv\n",
      "/kaggle/input/total-scraped/total/2021-03-14.csv\n",
      "/kaggle/input/total-scraped/total/2021-03-20.csv\n",
      "/kaggle/input/total-scraped/total/2022-09-16.csv\n",
      "/kaggle/input/total-scraped/total/2020-09-12.csv\n",
      "/kaggle/input/total-scraped/total/2020-11-20.csv\n",
      "/kaggle/input/total-scraped/total/2020-06-07.csv\n",
      "/kaggle/input/total-scraped/total/2020-07-01.csv\n",
      "/kaggle/input/total-scraped/total/2020-06-16.csv\n",
      "/kaggle/input/total-scraped/total/2021-05-04.csv\n",
      "/kaggle/input/total-scraped/total/2020-03-27.csv\n",
      "/kaggle/input/total-scraped/total/2020-10-19.csv\n",
      "/kaggle/input/total-scraped/total/2020-06-25.csv\n",
      "/kaggle/input/total-scraped/total/2021-10-25.csv\n",
      "/kaggle/input/total-scraped/total/2020-04-24.csv\n",
      "/kaggle/input/total-scraped/total/2022-04-01.csv\n",
      "/kaggle/input/total-scraped/total/2022-05-14.csv\n",
      "/kaggle/input/total-scraped/total/2022-07-27.csv\n",
      "/kaggle/input/total-scraped/total/2021-03-31.csv\n",
      "/kaggle/input/total-scraped/total/2021-07-06.csv\n",
      "/kaggle/input/total-scraped/total/2021-11-09.csv\n",
      "/kaggle/input/total-scraped/total/2021-12-03.csv\n",
      "/kaggle/input/total-scraped/total/2021-12-13.csv\n",
      "/kaggle/input/total-scraped/total/2019-12-27.csv\n",
      "/kaggle/input/total-scraped/total/2020-06-01.csv\n",
      "/kaggle/input/total-scraped/total/2022-05-08.csv\n",
      "/kaggle/input/total-scraped/total/2022-04-25.csv\n",
      "/kaggle/input/total-scraped/total/2020-04-27.csv\n",
      "/kaggle/input/total-scraped/total/2021-09-13.csv\n",
      "/kaggle/input/total-scraped/total/2022-09-28.csv\n",
      "/kaggle/input/total-scraped/total/2020-03-18.csv\n",
      "/kaggle/input/total-scraped/total/2020-05-22.csv\n",
      "/kaggle/input/total-scraped/total/2020-06-22.csv\n",
      "/kaggle/input/total-scraped/total/2020-01-09.csv\n",
      "/kaggle/input/total-scraped/total/2020-06-18.csv\n",
      "/kaggle/input/total-scraped/total/2020-10-06.csv\n",
      "/kaggle/input/total-scraped/total/2020-09-24.csv\n",
      "/kaggle/input/total-scraped/total/2020-11-07.csv\n",
      "/kaggle/input/total-scraped/total/2022-05-21.csv\n",
      "/kaggle/input/total-scraped/total/2020-03-11.csv\n",
      "/kaggle/input/total-scraped/total/2020-02-11.csv\n",
      "/kaggle/input/total-scraped/total/2021-09-10.csv\n",
      "/kaggle/input/total-scraped/total/2022-01-15.csv\n",
      "/kaggle/input/total-scraped/total/2021-03-08.csv\n",
      "/kaggle/input/total-scraped/total/2021-01-02.csv\n",
      "/kaggle/input/total-scraped/total/2021-01-29.csv\n",
      "/kaggle/input/total-scraped/total/2020-12-12.csv\n",
      "/kaggle/input/total-scraped/total/2020-05-24.csv\n",
      "/kaggle/input/total-scraped/total/2020-04-28.csv\n",
      "/kaggle/input/total-scraped/total/2021-05-17.csv\n",
      "/kaggle/input/total-scraped/total/2020-10-12.csv\n",
      "/kaggle/input/total-scraped/total/2020-10-13.csv\n",
      "/kaggle/input/total-scraped/total/2019-11-29.csv\n",
      "/kaggle/input/total-scraped/total/2020-11-14.csv\n",
      "/kaggle/input/total-scraped/total/2020-06-11.csv\n",
      "/kaggle/input/total-scraped/total/2020-03-08.csv\n",
      "/kaggle/input/total-scraped/total/2020-03-19.csv\n",
      "/kaggle/input/total-scraped/total/2022-07-26.csv\n",
      "/kaggle/input/total-scraped/total/2020-10-14.csv\n",
      "/kaggle/input/total-scraped/total/2021-09-08.csv\n",
      "/kaggle/input/total-scraped/total/2020-09-16.csv\n",
      "/kaggle/input/total-scraped/total/2021-01-23.csv\n",
      "/kaggle/input/total-scraped/total/2020-10-27.csv\n",
      "/kaggle/input/total-scraped/total/2022-07-03.csv\n",
      "/kaggle/input/total-scraped/total/2021-06-02.csv\n",
      "/kaggle/input/total-scraped/total/2020-03-06.csv\n",
      "/kaggle/input/total-scraped/total/2022-09-21.csv\n",
      "/kaggle/input/total-scraped/total/2022-10-04.csv\n",
      "/kaggle/input/total-scraped/total/2022-02-13.csv\n",
      "/kaggle/input/total-scraped/total/2020-04-07.csv\n",
      "/kaggle/input/total-scraped/total/2020-08-11.csv\n",
      "/kaggle/input/total-scraped/total/2022-02-21.csv\n",
      "/kaggle/input/total-scraped/total/2020-11-03.csv\n",
      "/kaggle/input/total-scraped/total/2022-08-01.csv\n",
      "/kaggle/input/total-scraped/total/2022-06-20.csv\n",
      "/kaggle/input/total-scraped/total/2022-03-13.csv\n",
      "/kaggle/input/total-scraped/total/2019-12-17.csv\n",
      "/kaggle/input/total-scraped/total/2019-12-31.csv\n",
      "/kaggle/input/total-scraped/total/2020-04-25.csv\n",
      "/kaggle/input/total-scraped/total/2022-01-22.csv\n",
      "/kaggle/input/total-scraped/total/2022-08-24.csv\n",
      "/kaggle/input/total-scraped/total/2021-06-18.csv\n",
      "/kaggle/input/total-scraped/total/2020-06-30.csv\n",
      "/kaggle/input/total-scraped/total/2020-08-20.csv\n",
      "/kaggle/input/total-scraped/total/2020-01-17.csv\n",
      "/kaggle/input/total-scraped/total/2020-07-16.csv\n",
      "/kaggle/input/total-scraped/total/2020-12-20.csv\n",
      "/kaggle/input/total-scraped/total/2021-08-03.csv\n",
      "/kaggle/input/total-scraped/total/2021-06-09.csv\n",
      "/kaggle/input/total-scraped/total/2020-08-08.csv\n",
      "/kaggle/input/total-scraped/total/2020-03-21.csv\n",
      "/kaggle/input/total-scraped/total/2021-10-01.csv\n",
      "/kaggle/input/total-scraped/total/2021-08-27.csv\n",
      "/kaggle/input/total-scraped/total/2021-05-18.csv\n",
      "/kaggle/input/total-scraped/total/2021-09-04.csv\n",
      "/kaggle/input/total-scraped/total/2021-05-20.csv\n",
      "/kaggle/input/total-scraped/total/2021-07-05.csv\n",
      "/kaggle/input/total-scraped/total/2021-10-15.csv\n",
      "/kaggle/input/total-scraped/total/2020-03-25.csv\n",
      "/kaggle/input/total-scraped/total/2022-08-22.csv\n",
      "/kaggle/input/total-scraped/total/2021-03-29.csv\n",
      "/kaggle/input/total-scraped/total/2022-02-04.csv\n",
      "/kaggle/input/total-scraped/total/2021-02-04.csv\n",
      "/kaggle/input/total-scraped/total/2020-01-01.csv\n",
      "/kaggle/input/total-scraped/total/2020-10-31.csv\n",
      "/kaggle/input/total-scraped/total/2020-02-12.csv\n",
      "/kaggle/input/total-scraped/total/2020-07-19.csv\n",
      "/kaggle/input/total-scraped/total/2021-12-07.csv\n",
      "/kaggle/input/total-scraped/total/2021-11-17.csv\n",
      "/kaggle/input/total-scraped/total/2020-04-21.csv\n",
      "/kaggle/input/total-scraped/total/2022-02-07.csv\n",
      "/kaggle/input/total-scraped/total/2020-06-03.csv\n",
      "/kaggle/input/total-scraped/total/2019-12-07.csv\n",
      "/kaggle/input/total-scraped/total/2020-07-22.csv\n",
      "/kaggle/input/total-scraped/total/2022-07-30.csv\n",
      "/kaggle/input/total-scraped/total/2022-02-22.csv\n",
      "/kaggle/input/total-scraped/total/2022-05-05.csv\n",
      "/kaggle/input/total-scraped/total/2020-03-24.csv\n",
      "/kaggle/input/total-scraped/total/2022-09-27.csv\n",
      "/kaggle/input/total-scraped/total/2021-12-19.csv\n",
      "/kaggle/input/total-scraped/total/2020-03-31.csv\n",
      "/kaggle/input/total-scraped/total/2020-03-23.csv\n",
      "/kaggle/input/total-scraped/total/2021-12-01.csv\n",
      "/kaggle/input/total-scraped/total/2022-05-09.csv\n",
      "/kaggle/input/total-scraped/total/2020-04-05.csv\n",
      "/kaggle/input/total-scraped/total/2020-05-25.csv\n",
      "/kaggle/input/total-scraped/total/2020-09-19.csv\n",
      "/kaggle/input/total-scraped/total/2022-06-07.csv\n",
      "/kaggle/input/total-scraped/total/2021-12-17.csv\n",
      "/kaggle/input/total-scraped/total/2020-03-10.csv\n",
      "/kaggle/input/total-scraped/total/2022-01-26.csv\n",
      "/kaggle/input/total-scraped/total/2021-08-13.csv\n",
      "/kaggle/input/total-scraped/total/2020-07-18.csv\n",
      "/kaggle/input/total-scraped/total/2020-06-23.csv\n",
      "/kaggle/input/total-scraped/total/2020-07-25.csv\n",
      "/kaggle/input/total-scraped/total/2020-12-30.csv\n",
      "/kaggle/input/total-scraped/total/2020-04-08.csv\n",
      "/kaggle/input/total-scraped/total/2020-07-21.csv\n",
      "/kaggle/input/total-scraped/total/2020-03-09.csv\n",
      "/kaggle/input/total-scraped/total/2020-06-19.csv\n",
      "/kaggle/input/total-scraped/total/2020-02-05.csv\n",
      "/kaggle/input/total-scraped/total/2022-01-07.csv\n",
      "/kaggle/input/total-scraped/total/2020-10-28.csv\n",
      "/kaggle/input/total-scraped/total/2020-02-27.csv\n",
      "/kaggle/input/total-scraped/total/2020-08-15.csv\n",
      "/kaggle/input/total-scraped/total/2021-10-16.csv\n",
      "/kaggle/input/total-scraped/total/2020-05-19.csv\n",
      "/kaggle/input/total-scraped/total/2020-07-13.csv\n",
      "/kaggle/input/total-scraped/total/2020-04-03.csv\n",
      "/kaggle/input/total-scraped/total/2021-11-28.csv\n",
      "/kaggle/input/total-scraped/total/2019-12-02.csv\n",
      "/kaggle/input/total-scraped/total/2020-11-16.csv\n",
      "/kaggle/input/total-scraped/total/2021-08-21.csv\n",
      "/kaggle/input/total-scraped/total/2021-10-10.csv\n",
      "/kaggle/input/total-scraped/total/2020-01-10.csv\n",
      "/kaggle/input/total-scraped/total/2021-08-02.csv\n",
      "/kaggle/input/total-scraped/total/2021-03-06.csv\n",
      "/kaggle/input/total-scraped/total/2020-03-28.csv\n",
      "/kaggle/input/total-scraped/total/2021-01-04.csv\n",
      "/kaggle/input/total-scraped/total/2019-12-11.csv\n",
      "/kaggle/input/total-scraped/total/2021-02-15.csv\n",
      "/kaggle/input/total-scraped/total/2020-02-26.csv\n",
      "/kaggle/input/total-scraped/total/2020-10-10.csv\n",
      "/kaggle/input/total-scraped/total/2022-01-03.csv\n",
      "/kaggle/input/total-scraped/total/2019-12-01.csv\n",
      "/kaggle/input/total-scraped/total/2021-11-21.csv\n",
      "/kaggle/input/total-scraped/total/2021-11-06.csv\n",
      "/kaggle/input/total-scraped/total/2021-11-20.csv\n",
      "/kaggle/input/total-scraped/total/2020-06-10.csv\n",
      "/kaggle/input/total-scraped/total/2021-07-15.csv\n",
      "/kaggle/input/total-scraped/total/2021-12-04.csv\n",
      "/kaggle/input/total-scraped/total/2021-03-19.csv\n",
      "/kaggle/input/total-scraped/total/2022-08-07.csv\n",
      "/kaggle/input/total-scraped/total/2021-03-27.csv\n",
      "/kaggle/input/total-scraped/total/2022-01-16.csv\n",
      "/kaggle/input/total-scraped/total/2020-10-08.csv\n",
      "/kaggle/input/total-scraped/total/2021-01-31.csv\n",
      "/kaggle/input/total-scraped/total/2021-06-10.csv\n",
      "/kaggle/input/total-scraped/total/2022-07-10.csv\n",
      "/kaggle/input/total-scraped/total/2022-10-05.csv\n",
      "/kaggle/input/total-scraped/total/2021-04-02.csv\n",
      "/kaggle/input/total-scraped/total/2021-06-27.csv\n",
      "/kaggle/input/total-scraped/total/2019-12-05.csv\n",
      "/kaggle/input/total-scraped/total/2019-12-08.csv\n",
      "/kaggle/input/total-scraped/total/2020-01-27.csv\n",
      "/kaggle/input/total-scraped/total/2022-10-08.csv\n",
      "/kaggle/input/total-scraped/total/2020-10-17.csv\n",
      "/kaggle/input/total-scraped/total/2020-04-14.csv\n",
      "/kaggle/input/total-scraped/total/2022-06-27.csv\n",
      "/kaggle/input/total-scraped/total/2020-12-09.csv\n",
      "/kaggle/input/total-scraped/total/2021-10-02.csv\n",
      "/kaggle/input/total-scraped/total/2020-10-25.csv\n",
      "/kaggle/input/total-scraped/total/2020-03-01.csv\n",
      "/kaggle/input/total-scraped/total/2022-08-02.csv\n",
      "/kaggle/input/total-scraped/total/2020-02-28.csv\n",
      "/kaggle/input/total-scraped/total/2022-09-09.csv\n",
      "/kaggle/input/total-scraped/total/2021-06-17.csv\n",
      "/kaggle/input/total-scraped/total/2021-10-24.csv\n",
      "/kaggle/input/total-scraped/total/2021-06-19.csv\n",
      "/kaggle/input/total-scraped/total/2022-09-15.csv\n",
      "/kaggle/input/total-scraped/total/2021-01-19.csv\n",
      "/kaggle/input/total-scraped/total/2019-12-20.csv\n",
      "/kaggle/input/total-scraped/total/2020-12-03.csv\n",
      "/kaggle/input/total-scraped/total/2020-07-06.csv\n",
      "/kaggle/input/total-scraped/total/2020-12-06.csv\n",
      "/kaggle/input/total-scraped/total/2022-08-20.csv\n",
      "/kaggle/input/total-scraped/total/2022-08-28.csv\n",
      "/kaggle/input/total-scraped/total/2020-03-20.csv\n",
      "/kaggle/input/total-scraped/total/2019-12-04.csv\n",
      "/kaggle/input/total-scraped/total/2020-07-26.csv\n",
      "/kaggle/input/total-scraped/total/2019-11-28.csv\n",
      "/kaggle/input/total-scraped/total/2021-02-17.csv\n",
      "/kaggle/input/total-scraped/total/2021-12-25.csv\n",
      "/kaggle/input/total-scraped/total/2021-12-30.csv\n",
      "/kaggle/input/total-scraped/total/2021-09-23.csv\n",
      "/kaggle/input/total-scraped/total/2021-05-08.csv\n",
      "/kaggle/input/total-scraped/total/2020-04-15.csv\n",
      "/kaggle/input/total-scraped/total/2021-05-21.csv\n",
      "/kaggle/input/total-scraped/total/2020-05-15.csv\n",
      "/kaggle/input/total-scraped/total/2021-09-05.csv\n",
      "/kaggle/input/total-scraped/total/2021-05-09.csv\n",
      "/kaggle/input/total-scraped/total/2020-07-04.csv\n",
      "/kaggle/input/total-scraped/total/2021-02-01.csv\n",
      "/kaggle/input/total-scraped/total/2021-07-01.csv\n",
      "/kaggle/input/total-scraped/total/2019-12-22.csv\n",
      "/kaggle/input/total-scraped/total/2021-01-11.csv\n",
      "/kaggle/input/total-scraped/total/2020-04-01.csv\n",
      "/kaggle/input/total-scraped/total/2021-09-07.csv\n",
      "/kaggle/input/total-scraped/total/2020-11-21.csv\n",
      "/kaggle/input/total-scraped/total/2020-06-06.csv\n",
      "/kaggle/input/total-scraped/total/2022-08-05.csv\n",
      "/kaggle/input/total-scraped/total/2021-01-30.csv\n",
      "/kaggle/input/total-scraped/total/2022-08-04.csv\n",
      "/kaggle/input/total-scraped/total/2020-03-13.csv\n",
      "/kaggle/input/total-scraped/total/2022-09-20.csv\n",
      "/kaggle/input/total-scraped/total/2020-02-16.csv\n",
      "/kaggle/input/total-scraped/total/2021-12-22.csv\n",
      "/kaggle/input/total-scraped/total/2021-09-17.csv\n",
      "/kaggle/input/total-scraped/total/2020-07-17.csv\n",
      "/kaggle/input/total-scraped/total/2021-12-23.csv\n",
      "/kaggle/input/total-scraped/total/2022-07-20.csv\n",
      "/kaggle/input/total-scraped/total/2022-02-03.csv\n",
      "/kaggle/input/total-scraped/total/2021-03-26.csv\n",
      "/kaggle/input/total-scraped/total/2020-09-14.csv\n",
      "/kaggle/input/total-scraped/total/2020-01-14.csv\n",
      "/kaggle/input/total-scraped/total/2021-02-20.csv\n",
      "/kaggle/input/total-scraped/total/2020-05-11.csv\n",
      "/kaggle/input/total-scraped/total/2021-10-12.csv\n",
      "/kaggle/input/total-scraped/total/2021-11-15.csv\n",
      "/kaggle/input/total-scraped/total/2022-02-08.csv\n",
      "/kaggle/input/total-scraped/total/2019-12-23.csv\n",
      "/kaggle/input/total-scraped/total/2021-06-26.csv\n",
      "/kaggle/input/total-scraped/total/2022-09-29.csv\n",
      "/kaggle/input/total-scraped/total/2022-07-22.csv\n",
      "/kaggle/input/total-scraped/total/2020-09-17.csv\n",
      "/kaggle/input/total-scraped/total/2021-07-09.csv\n",
      "/kaggle/input/total-scraped/total/2020-05-27.csv\n",
      "/kaggle/input/total-scraped/total/2020-04-18.csv\n",
      "/kaggle/input/total-scraped/total/2020-06-24.csv\n",
      "/kaggle/input/total-scraped/total/2021-09-03.csv\n",
      "/kaggle/input/total-scraped/total/2020-08-05.csv\n",
      "/kaggle/input/total-scraped/total/2020-06-17.csv\n",
      "/kaggle/input/total-scraped/total/2021-11-29.csv\n",
      "/kaggle/input/total-scraped/total/2022-09-30.csv\n",
      "/kaggle/input/total-scraped/total/2021-11-19.csv\n",
      "/kaggle/input/total-scraped/total/2019-12-15.csv\n",
      "/kaggle/input/total-scraped/total/2022-04-09.csv\n",
      "/kaggle/input/total-scraped/total/2020-11-15.csv\n",
      "/kaggle/input/total-scraped/total/2022-10-06.csv\n",
      "/kaggle/input/total-scraped/total/2021-10-07.csv\n",
      "/kaggle/input/total-scraped/total/2021-02-03.csv\n",
      "/kaggle/input/total-scraped/total/2022-08-03.csv\n",
      "/kaggle/input/total-scraped/total/2020-07-05.csv\n",
      "/kaggle/input/total-scraped/total/2020-10-03.csv\n",
      "/kaggle/input/total-scraped/total/2022-09-06.csv\n",
      "/kaggle/input/total-scraped/total/2020-11-29.csv\n",
      "/kaggle/input/total-scraped/total/2020-07-23.csv\n",
      "/kaggle/input/total-scraped/total/2020-02-07.csv\n",
      "/kaggle/input/total-scraped/total/2021-07-14.csv\n",
      "/kaggle/input/total-scraped/total/2020-10-02.csv\n",
      "/kaggle/input/total-scraped/total/2020-09-06.csv\n",
      "/kaggle/input/total-scraped/total/2022-07-19.csv\n",
      "/kaggle/input/total-scraped/total/2020-07-02.csv\n",
      "/kaggle/input/total-scraped/total/2020-07-03.csv\n",
      "/kaggle/input/total-scraped/total/2021-04-26.csv\n",
      "/kaggle/input/total-scraped/total/2020-06-04.csv\n",
      "/kaggle/input/total-scraped/total/2022-08-15.csv\n",
      "/kaggle/input/total-scraped/total/2022-02-09.csv\n",
      "/kaggle/input/total-scraped/total/2021-06-04.csv\n",
      "/kaggle/input/total-scraped/total/2021-11-16.csv\n",
      "/kaggle/input/total-scraped/total/2022-05-02.csv\n",
      "/kaggle/input/total-scraped/total/2022-03-04.csv\n",
      "/kaggle/input/total-scraped/total/2021-01-09.csv\n",
      "/kaggle/input/total-scraped/total/2021-02-12.csv\n",
      "/kaggle/input/total-scraped/total/2021-03-01.csv\n",
      "/kaggle/input/total-scraped/total/2021-10-17.csv\n",
      "/kaggle/input/total-scraped/total/2022-08-11.csv\n",
      "/kaggle/input/total-scraped/total/2020-08-29.csv\n",
      "/kaggle/input/total-scraped/total/2021-12-27.csv\n",
      "/kaggle/input/total-scraped/total/2020-10-24.csv\n",
      "/kaggle/input/total-scraped/total/2021-06-12.csv\n",
      "/kaggle/input/total-scraped/total/2020-01-23.csv\n",
      "/kaggle/input/total-scraped/total/2022-07-07.csv\n",
      "/kaggle/input/total-scraped/total/2020-06-28.csv\n",
      "/kaggle/input/total-scraped/total/2020-08-24.csv\n",
      "/kaggle/input/total-scraped/total/2022-08-26.csv\n",
      "/kaggle/input/total-scraped/total/2021-12-06.csv\n",
      "/kaggle/input/total-scraped/total/2021-09-20.csv\n",
      "/kaggle/input/total-scraped/total/2020-03-16.csv\n",
      "/kaggle/input/total-scraped/total/2021-01-24.csv\n",
      "/kaggle/input/total-scraped/total/2021-02-23.csv\n",
      "/kaggle/input/total-scraped/total/2020-04-13.csv\n",
      "/kaggle/input/total-scraped/total/2022-01-06.csv\n",
      "/kaggle/input/total-scraped/total/2020-05-20.csv\n",
      "/kaggle/input/total-scraped/total/2020-10-05.csv\n",
      "/kaggle/input/total-scraped/total/2022-04-10.csv\n",
      "/kaggle/input/total-scraped/total/2020-04-04.csv\n",
      "/kaggle/input/total-scraped/total/2019-12-28.csv\n",
      "/kaggle/input/total-scraped/total/2020-12-24.csv\n",
      "/kaggle/input/total-scraped/total/2020-07-24.csv\n",
      "/kaggle/input/total-scraped/total/2021-10-11.csv\n",
      "/kaggle/input/total-scraped/total/2021-04-28.csv\n",
      "/kaggle/input/total-scraped/total/2020-11-11.csv\n",
      "/kaggle/input/total-scraped/total/2020-01-02.csv\n",
      "/kaggle/input/total-scraped/total/2020-02-06.csv\n",
      "/kaggle/input/total-scraped/total/2022-01-14.csv\n",
      "/kaggle/input/total-scraped/total/2022-05-17.csv\n",
      "/kaggle/input/total-scraped/total/2019-12-16.csv\n",
      "/kaggle/input/total-scraped/total/2021-10-23.csv\n",
      "/kaggle/input/total-scraped/total/2020-12-29.csv\n",
      "/kaggle/input/total-scraped/total/2022-05-06.csv\n",
      "/kaggle/input/total-scraped/total/2020-10-29.csv\n",
      "/kaggle/input/total-scraped/total/2021-03-09.csv\n",
      "/kaggle/input/total-scraped/total/2020-08-23.csv\n",
      "/kaggle/input/total-scraped/total/2020-08-21.csv\n",
      "/kaggle/input/total-scraped/total/2020-05-09.csv\n",
      "/kaggle/input/total-scraped/total/2022-01-28.csv\n",
      "/kaggle/input/total-scraped/total/2022-04-07.csv\n",
      "/kaggle/input/total-scraped/total/2020-02-03.csv\n",
      "/kaggle/input/total-scraped/total/2021-10-04.csv\n",
      "/kaggle/input/total-scraped/total/2022-02-20.csv\n",
      "/kaggle/input/total-scraped/total/2022-02-06.csv\n",
      "/kaggle/input/total-scraped/total/2021-06-23.csv\n",
      "/kaggle/input/total-scraped/total/2020-11-19.csv\n",
      "/kaggle/input/total-scraped/total/2020-08-28.csv\n",
      "/kaggle/input/total-scraped/total/2020-04-30.csv\n",
      "/kaggle/input/total-scraped/total/2020-05-30.csv\n",
      "/kaggle/input/total-scraped/total/2020-11-26.csv\n",
      "/kaggle/input/total-scraped/total/2021-02-16.csv\n",
      "/kaggle/input/total-scraped/total/2020-12-10.csv\n",
      "/kaggle/input/total-scraped/total/2020-12-22.csv\n",
      "/kaggle/input/total-scraped/total/2021-06-03.csv\n",
      "/kaggle/input/total-scraped/total/2020-07-29.csv\n",
      "/kaggle/input/total-scraped/total/2020-03-30.csv\n",
      "/kaggle/input/total-scraped/total/2019-12-13.csv\n",
      "/kaggle/input/total-scraped/total/2022-03-27.csv\n",
      "/kaggle/input/total-scraped/total/2022-08-13.csv\n",
      "/kaggle/input/total-scraped/total/2022-03-24.csv\n",
      "/kaggle/input/total-scraped/total/2021-09-16.csv\n",
      "/kaggle/input/total-scraped/total/2021-06-29.csv\n",
      "/kaggle/input/total-scraped/total/2020-05-28.csv\n",
      "/kaggle/input/total-scraped/total/2021-10-09.csv\n",
      "/kaggle/input/total-scraped/total/2020-03-04.csv\n",
      "/kaggle/input/total-scraped/total/2022-01-27.csv\n",
      "/kaggle/input/total-scraped/total/2020-01-31.csv\n",
      "/kaggle/input/total-scraped/total/2021-03-12.csv\n",
      "/kaggle/input/total-scraped/total/2020-12-21.csv\n",
      "/kaggle/input/total-scraped/total/2021-10-08.csv\n",
      "/kaggle/input/total-scraped/total/2020-03-29.csv\n",
      "/kaggle/input/total-scraped/total/2020-01-06.csv\n",
      "/kaggle/input/total-scraped/total/2022-02-23.csv\n",
      "/kaggle/input/total-scraped/total/2022-04-02.csv\n",
      "/kaggle/input/total-scraped/total/2020-09-18.csv\n",
      "/kaggle/input/total-scraped/total/2021-05-29.csv\n",
      "/kaggle/input/total-scraped/total/2021-04-29.csv\n",
      "/kaggle/input/total-scraped/total/2022-03-05.csv\n",
      "/kaggle/input/total-scraped/total/2022-09-04.csv\n",
      "/kaggle/input/total-scraped/total/2022-07-23.csv\n",
      "/kaggle/input/total-scraped/total/2022-09-24.csv\n",
      "/kaggle/input/total-scraped/total/2020-05-12.csv\n",
      "/kaggle/input/total-scraped/total/2020-09-01.csv\n",
      "/kaggle/input/total-scraped/total/2020-01-03.csv\n",
      "/kaggle/input/total-scraped/total/2020-09-04.csv\n",
      "/kaggle/input/total-scraped/total/2022-02-28.csv\n",
      "/kaggle/input/total-scraped/total/2022-07-01.csv\n",
      "/kaggle/input/total-scraped/total/2022-05-04.csv\n",
      "/kaggle/input/total-scraped/total/2020-03-02.csv\n",
      "/kaggle/input/total-scraped/total/2020-02-29.csv\n",
      "/kaggle/input/total-scraped/total/2022-04-06.csv\n",
      "/kaggle/input/total-scraped/total/2021-05-16.csv\n",
      "/kaggle/input/total-scraped/total/2020-12-15.csv\n",
      "/kaggle/input/total-scraped/total/2021-09-25.csv\n",
      "/kaggle/input/total-scraped/total/2020-07-28.csv\n",
      "/kaggle/input/total-scraped/total/2020-05-08.csv\n",
      "/kaggle/input/total-scraped/total/2021-08-22.csv\n",
      "/kaggle/input/total-scraped/total/2020-08-14.csv\n",
      "/kaggle/input/total-scraped/total/2022-06-04.csv\n",
      "/kaggle/input/total-scraped/total/2022-03-01.csv\n",
      "/kaggle/input/total-scraped/total/2022-05-13.csv\n",
      "/kaggle/input/total-scraped/total/2020-09-09.csv\n",
      "/kaggle/input/total-scraped/total/2021-03-24.csv\n",
      "/kaggle/input/total-scraped/total/2021-09-02.csv\n",
      "/kaggle/input/total-scraped/total/2020-11-17.csv\n",
      "/kaggle/input/total-scraped/total/2022-07-05.csv\n",
      "/kaggle/input/total-scraped/total/2020-09-11.csv\n",
      "/kaggle/input/total-scraped/total/2020-08-07.csv\n",
      "/kaggle/input/total-scraped/total/2021-08-31.csv\n",
      "/kaggle/input/total-scraped/total/2021-03-25.csv\n",
      "/kaggle/input/total-scraped/total/2020-11-23.csv\n",
      "/kaggle/input/total-scraped/total/2020-10-18.csv\n",
      "/kaggle/input/total-scraped/total/2022-04-23.csv\n",
      "/kaggle/input/total-scraped/total/2020-01-25.csv\n",
      "/kaggle/input/total-scraped/total/2021-07-11.csv\n",
      "/kaggle/input/total-scraped/total/2021-02-27.csv\n",
      "/kaggle/input/total-scraped/total/2020-12-23.csv\n",
      "/kaggle/input/total-scraped/total/2022-06-19.csv\n",
      "/kaggle/input/total-scraped/total/2020-08-22.csv\n",
      "/kaggle/input/total-scraped/total/2021-10-29.csv\n",
      "/kaggle/input/total-scraped/total/2022-05-15.csv\n",
      "/kaggle/input/total-scraped/total/2022-09-25.csv\n",
      "/kaggle/input/total-scraped/total/2022-08-21.csv\n",
      "/kaggle/input/total-scraped/total/2021-07-30.csv\n",
      "/kaggle/input/total-scraped/total/2022-05-18.csv\n",
      "/kaggle/input/total-scraped/total/2021-02-22.csv\n",
      "/kaggle/input/total-scraped/total/2020-06-15.csv\n",
      "/kaggle/input/total-scraped/total/2020-02-22.csv\n",
      "/kaggle/input/total-scraped/total/2021-12-02.csv\n",
      "/kaggle/input/total-scraped/total/2020-07-08.csv\n",
      "/kaggle/input/total-scraped/total/2020-01-19.csv\n",
      "/kaggle/input/total-scraped/total/2022-09-17.csv\n",
      "/kaggle/input/total-scraped/total/2021-09-27.csv\n",
      "/kaggle/input/total-scraped/total/2020-08-16.csv\n",
      "/kaggle/input/total-scraped/total/2021-12-15.csv\n",
      "/kaggle/input/total-scraped/total/2020-09-25.csv\n",
      "/kaggle/input/total-scraped/total/2020-08-03.csv\n",
      "/kaggle/input/total-scraped/total/2020-02-18.csv\n",
      "/kaggle/input/total-scraped/total/2020-08-30.csv\n",
      "/kaggle/input/total-scraped/total/2021-12-10.csv\n",
      "/kaggle/input/total-scraped/total/2021-02-19.csv\n",
      "/kaggle/input/total-scraped/total/2019-11-25.csv\n",
      "/kaggle/input/total-scraped/total/2020-01-30.csv\n",
      "/kaggle/input/total-scraped/total/2021-09-22.csv\n",
      "/kaggle/input/total-scraped/total/2021-04-13.csv\n",
      "/kaggle/input/total-scraped/total/2022-02-12.csv\n",
      "/kaggle/input/total-scraped/total/2020-09-21.csv\n",
      "/kaggle/input/total-scraped/total/2019-12-14.csv\n",
      "/kaggle/input/total-scraped/total/2021-12-31.csv\n",
      "/kaggle/input/total-scraped/total/2021-03-16.csv\n",
      "/kaggle/input/total-scraped/total/2020-06-21.csv\n",
      "/kaggle/input/total-scraped/total/2021-08-28.csv\n",
      "/kaggle/input/total-scraped/total/2021-08-26.csv\n",
      "/kaggle/input/total-scraped/total/2021-09-29.csv\n",
      "/kaggle/input/total-scraped/total/2021-01-10.csv\n",
      "/kaggle/input/total-scraped/total/2021-01-16.csv\n",
      "/kaggle/input/total-scraped/total/2022-01-01.csv\n",
      "/kaggle/input/total-scraped/total/2022-04-04.csv\n",
      "/kaggle/input/total-scraped/total/2022-01-23.csv\n",
      "/kaggle/input/total-scraped/total/2020-12-25.csv\n",
      "/kaggle/input/total-scraped/total/2020-03-03.csv\n",
      "/kaggle/input/total-scraped/total/2021-11-12.csv\n",
      "/kaggle/input/total-scraped/total/2021-05-23.csv\n",
      "/kaggle/input/total-scraped/total/2021-04-27.csv\n",
      "/kaggle/input/total-scraped/total/2022-08-27.csv\n",
      "/kaggle/input/total-scraped/total/2020-06-27.csv\n",
      "/kaggle/input/total-scraped/total/2020-09-03.csv\n",
      "/kaggle/input/total-scraped/total/2021-12-26.csv\n",
      "/kaggle/input/total-scraped/total/2021-01-26.csv\n",
      "/kaggle/input/total-scraped/total/2021-11-03.csv\n",
      "/kaggle/input/total-scraped/total/2020-02-02.csv\n",
      "/kaggle/input/total-scraped/total/2020-03-17.csv\n",
      "/kaggle/input/total-scraped/total/2021-11-27.csv\n",
      "/kaggle/input/total-scraped/total/2021-04-25.csv\n",
      "/kaggle/input/total-scraped/total/2020-10-09.csv\n",
      "/kaggle/input/total-scraped/total/2021-02-02.csv\n",
      "/kaggle/input/total-scraped/total/2020-02-14.csv\n",
      "/kaggle/input/total-scraped/total/2021-08-11.csv\n",
      "/kaggle/input/total-scraped/total/2021-11-14.csv\n",
      "/kaggle/input/total-scraped/total/2021-10-31.csv\n",
      "/kaggle/input/total-scraped/total/2020-02-10.csv\n",
      "/kaggle/input/total-scraped/total/2020-06-29.csv\n",
      "/kaggle/input/total-scraped/total/2022-02-26.csv\n",
      "/kaggle/input/total-scraped/total/2022-09-07.csv\n",
      "/kaggle/input/total-scraped/total/2021-11-02.csv\n",
      "/kaggle/input/total-scraped/total/2021-06-24.csv\n",
      "/kaggle/input/total-scraped/total/2022-01-17.csv\n",
      "/kaggle/input/total-scraped/total/2022-05-07.csv\n",
      "/kaggle/input/total-scraped/total/2022-01-29.csv\n",
      "/kaggle/input/total-scraped/total/2020-05-23.csv\n",
      "/kaggle/input/total-scraped/total/2021-12-20.csv\n",
      "/kaggle/input/total-scraped/total/2020-06-09.csv\n",
      "/kaggle/input/total-scraped/total/2020-12-05.csv\n",
      "/kaggle/input/total-scraped/total/2020-11-25.csv\n",
      "/kaggle/input/total-scraped/total/2021-03-10.csv\n",
      "/kaggle/input/total-scraped/total/2020-04-12.csv\n",
      "/kaggle/input/total-scraped/total/2022-05-19.csv\n",
      "/kaggle/input/total-scraped/total/2020-06-08.csv\n",
      "/kaggle/input/total-scraped/total/2021-03-17.csv\n",
      "/kaggle/input/total-scraped/total/2021-11-10.csv\n",
      "/kaggle/input/total-scraped/total/2022-08-10.csv\n",
      "/kaggle/input/total-scraped/total/2021-12-05.csv\n",
      "/kaggle/input/total-scraped/total/2020-05-17.csv\n",
      "/kaggle/input/total-scraped/total/2022-08-09.csv\n",
      "/kaggle/input/total-scraped/total/2022-04-12.csv\n",
      "/kaggle/input/total-scraped/total/2020-04-23.csv\n",
      "/kaggle/input/total-scraped/total/2022-07-17.csv\n",
      "/kaggle/input/total-scraped/total/2022-07-29.csv\n",
      "/kaggle/input/total-scraped/total/2020-09-26.csv\n",
      "/kaggle/input/total-scraped/total/2020-08-27.csv\n",
      "/kaggle/input/total-scraped/total/2020-09-28.csv\n",
      "/kaggle/input/total-scraped/total/2019-12-30.csv\n",
      "/kaggle/input/total-scraped/total/2020-03-07.csv\n",
      "/kaggle/input/total-scraped/total/2021-01-22.csv\n",
      "/kaggle/input/total-scraped/total/2020-07-27.csv\n",
      "/kaggle/input/total-scraped/total/2021-06-05.csv\n",
      "/kaggle/input/total-scraped/total/2020-06-02.csv\n",
      "/kaggle/input/total-scraped/total/2021-10-03.csv\n",
      "/kaggle/input/total-scraped/total/2022-06-05.csv\n",
      "/kaggle/input/total-scraped/total/2022-08-08.csv\n",
      "/kaggle/input/total-scraped/total/2020-12-27.csv\n",
      "/kaggle/input/total-scraped/total/2020-09-20.csv\n",
      "/kaggle/input/total-scraped/total/2021-03-13.csv\n",
      "/kaggle/input/total-scraped/total/2022-09-10.csv\n",
      "/kaggle/input/total-scraped/total/2021-06-07.csv\n",
      "/kaggle/input/total-scraped/total/2021-12-12.csv\n",
      "/kaggle/input/total-scraped/total/2021-10-13.csv\n",
      "/kaggle/input/total-scraped/total/2020-02-19.csv\n",
      "/kaggle/input/total-scraped/total/2020-11-06.csv\n",
      "/kaggle/input/total-scraped/total/2020-10-23.csv\n",
      "/kaggle/input/total-scraped/total/2021-08-09.csv\n",
      "/kaggle/input/total-scraped/total/2022-02-02.csv\n",
      "/kaggle/input/total-scraped/total/2021-06-15.csv\n",
      "/kaggle/input/total-scraped/total/2021-05-15.csv\n",
      "/kaggle/input/total-scraped/total/2022-06-29.csv\n",
      "/kaggle/input/total-scraped/total/2020-04-11.csv\n",
      "/kaggle/input/total-scraped/total/2022-07-28.csv\n",
      "/kaggle/input/total-scraped/total/2021-12-09.csv\n",
      "/kaggle/input/total-scraped/total/2022-03-26.csv\n",
      "/kaggle/input/total-scraped/total/2021-08-12.csv\n",
      "/kaggle/input/total-scraped/total/2021-01-17.csv\n",
      "/kaggle/input/total-scraped/total/2021-01-15.csv\n",
      "/kaggle/input/total-scraped/total/2020-01-26.csv\n",
      "/kaggle/input/total-scraped/total/2021-03-02.csv\n",
      "/kaggle/input/total-scraped/total/2022-10-02.csv\n",
      "/kaggle/input/total-scraped/total/2021-06-14.csv\n",
      "/kaggle/input/total-scraped/total/2021-12-08.csv\n",
      "/kaggle/input/total-scraped/total/2020-01-18.csv\n",
      "/kaggle/input/total-scraped/total/2022-07-04.csv\n",
      "/kaggle/input/total-scraped/total/2021-05-31.csv\n",
      "/kaggle/input/total-scraped/total/2022-04-26.csv\n",
      "/kaggle/input/total-scraped/total/2021-12-14.csv\n",
      "/kaggle/input/total-scraped/total/2022-08-14.csv\n",
      "/kaggle/input/total-scraped/total/2020-05-26.csv\n",
      "/kaggle/input/total-scraped/total/2021-04-14.csv\n",
      "/kaggle/input/total-scraped/total/2020-12-04.csv\n",
      "/kaggle/input/total-scraped/total/2020-11-27.csv\n",
      "/kaggle/input/total-scraped/total/2021-06-16.csv\n",
      "/kaggle/input/total-scraped/total/2022-04-24.csv\n",
      "/kaggle/input/total-scraped/total/2020-09-02.csv\n",
      "/kaggle/input/total-scraped/total/2020-07-07.csv\n",
      "/kaggle/input/total-scraped/total/2020-11-05.csv\n",
      "/kaggle/input/total-scraped/total/2019-12-18.csv\n",
      "/kaggle/input/total-scraped/total/2020-02-21.csv\n",
      "/kaggle/input/total-scraped/total/2021-05-07.csv\n",
      "/kaggle/input/total-scraped/total/2020-05-02.csv\n",
      "/kaggle/input/total-scraped/total/2022-03-02.csv\n",
      "/kaggle/input/total-scraped/total/2020-01-24.csv\n",
      "/kaggle/input/total-scraped/total/2021-01-27.csv\n",
      "/kaggle/input/total-scraped/total/2022-08-12.csv\n",
      "/kaggle/input/total-scraped/total/2021-09-01.csv\n",
      "/kaggle/input/total-scraped/total/2020-08-25.csv\n",
      "/kaggle/input/total-scraped/total/2020-08-17.csv\n",
      "/kaggle/input/total-scraped/total/2021-03-03.csv\n",
      "/kaggle/input/total-scraped/total/2021-12-28.csv\n",
      "/kaggle/input/total-scraped/total/2021-01-18.csv\n",
      "/kaggle/input/total-scraped/total/2021-02-26.csv\n",
      "/kaggle/input/total-scraped/total/2021-05-12.csv\n",
      "/kaggle/input/total-scraped/total/2021-04-04.csv\n",
      "/kaggle/input/total-scraped/total/2022-05-20.csv\n",
      "/kaggle/input/total-scraped/total/2020-02-24.csv\n",
      "/kaggle/input/total-scraped/total/2021-08-30.csv\n",
      "/kaggle/input/total-scraped/total/2022-01-02.csv\n",
      "/kaggle/input/total-scraped/total/2022-06-12.csv\n",
      "/kaggle/input/total-scraped/total/2022-01-08.csv\n",
      "/kaggle/input/total-scraped/total/2020-08-06.csv\n",
      "/kaggle/input/total-scraped/total/2021-09-15.csv\n",
      "/kaggle/input/total-scraped/total/2020-11-18.csv\n",
      "/kaggle/input/total-scraped/total/2020-03-12.csv\n",
      "/kaggle/input/total-scraped/total/2021-08-29.csv\n",
      "/kaggle/input/total-scraped/total/2021-05-14.csv\n",
      "/kaggle/input/total-scraped/total/2020-11-08.csv\n",
      "/kaggle/input/total-scraped/total/2021-05-24.csv\n",
      "/kaggle/input/total-scraped/total/2020-12-07.csv\n",
      "/kaggle/input/total-scraped/total/2020-02-17.csv\n",
      "/kaggle/input/total-scraped/total/2020-10-16.csv\n",
      "/kaggle/input/total-scraped/total/2020-03-22.csv\n",
      "/kaggle/input/total-scraped/total/2020-05-18.csv\n",
      "/kaggle/input/total-scraped/total/2022-06-10.csv\n",
      "/kaggle/input/total-scraped/total/2020-01-13.csv\n",
      "/kaggle/input/total-scraped/total/2020-07-14.csv\n",
      "/kaggle/input/total-scraped/total/2021-06-08.csv\n",
      "/kaggle/input/total-scraped/total/2021-06-25.csv\n",
      "/kaggle/input/total-scraped/total/2022-10-03.csv\n",
      "/kaggle/input/total-scraped/total/2020-06-26.csv\n",
      "/kaggle/input/total-scraped/total/2020-10-07.csv\n",
      "/kaggle/input/total-scraped/total/2022-06-08.csv\n",
      "/kaggle/input/total-scraped/total/2021-04-03.csv\n",
      "/kaggle/input/total-scraped/total/2021-05-22.csv\n",
      "/kaggle/input/total-scraped/total/2020-09-05.csv\n",
      "/kaggle/input/total-scraped/total/2020-01-22.csv\n",
      "/kaggle/input/total-scraped/total/2021-02-28.csv\n",
      "/kaggle/input/total-scraped/total/2020-05-29.csv\n",
      "/kaggle/input/total-scraped/total/2021-10-14.csv\n",
      "/kaggle/input/total-scraped/total/2020-12-16.csv\n",
      "/kaggle/input/total-scraped/total/2020-09-27.csv\n",
      "/kaggle/input/total-scraped/total/2022-07-25.csv\n",
      "/kaggle/input/total-scraped/total/2021-01-05.csv\n",
      "/kaggle/input/total-scraped/total/2020-05-10.csv\n",
      "/kaggle/input/total-scraped/total/2020-09-08.csv\n",
      "/kaggle/input/total-scraped/total/2021-09-19.csv\n",
      "/kaggle/input/total-scraped/total/2020-02-13.csv\n",
      "/kaggle/input/total-scraped/total/2022-07-08.csv\n",
      "/kaggle/input/total-scraped/total/2019-12-09.csv\n",
      "/kaggle/input/total-scraped/total/2022-01-10.csv\n",
      "/kaggle/input/total-scraped/total/2021-05-10.csv\n",
      "/kaggle/input/total-scraped/total/2020-05-21.csv\n",
      "/kaggle/input/total-scraped/total/2022-07-09.csv\n",
      "/kaggle/input/total-scraped/total/2020-04-26.csv\n",
      "/kaggle/input/total-scraped/total/2022-05-16.csv\n",
      "/kaggle/input/total-scraped/total/2022-03-28.csv\n",
      "/kaggle/input/total-scraped/total/2021-01-21.csv\n",
      "/kaggle/input/total-scraped/total/2021-04-16.csv\n",
      "/kaggle/input/total-scraped/total/2021-11-13.csv\n",
      "/kaggle/input/total-scraped/total/2022-09-23.csv\n",
      "/kaggle/input/total-scraped/total/2021-09-30.csv\n",
      "/kaggle/input/total-scraped/total/2019-12-19.csv\n",
      "/kaggle/input/total-scraped/total/2022-01-30.csv\n",
      "/kaggle/input/total-scraped/total/2020-11-01.csv\n",
      "/kaggle/input/total-scraped/total/2021-01-25.csv\n",
      "/kaggle/input/total-scraped/total/2022-09-19.csv\n",
      "/kaggle/input/total-scraped/total/2022-06-26.csv\n",
      "/kaggle/input/total-scraped/total/2020-07-12.csv\n",
      "/kaggle/input/total-scraped/total/2022-01-24.csv\n",
      "/kaggle/input/total-scraped/total/2020-10-30.csv\n",
      "/kaggle/input/total-scraped/total/2021-09-26.csv\n",
      "/kaggle/input/total-scraped/total/2021-03-22.csv\n",
      "/kaggle/input/total-scraped/total/2020-10-01.csv\n",
      "/kaggle/input/total-scraped/total/2020-05-06.csv\n",
      "/kaggle/input/total-scraped/total/2020-08-09.csv\n",
      "/kaggle/input/total-scraped/total/2020-11-24.csv\n",
      "/kaggle/input/total-scraped/total/2021-01-07.csv\n",
      "/kaggle/input/total-scraped/total/2022-03-31.csv\n",
      "/kaggle/input/total-scraped/total/2022-08-29.csv\n",
      "/kaggle/input/total-scraped/total/2021-07-08.csv\n",
      "/kaggle/input/total-scraped/total/2022-03-03.csv\n",
      "/kaggle/input/total-scraped/total/2021-06-01.csv\n",
      "/kaggle/input/total-scraped/total/2022-02-05.csv\n",
      "/kaggle/input/total-scraped/total/2020-07-31.csv\n",
      "/kaggle/input/total-scraped/total/2021-07-31.csv\n",
      "/kaggle/input/total-scraped/total/2020-11-10.csv\n",
      "/kaggle/input/total-scraped/total/2020-05-14.csv\n",
      "/kaggle/input/total-scraped/total/2020-05-05.csv\n",
      "/kaggle/input/total-scraped/total/2020-05-03.csv\n",
      "/kaggle/input/total-scraped/total/2021-03-05.csv\n",
      "/kaggle/input/total-scraped/total/2021-03-18.csv\n",
      "/kaggle/input/total-scraped/total/2020-01-29.csv\n",
      "/kaggle/input/total-scraped/total/2021-11-23.csv\n",
      "/kaggle/input/total-scraped/total/2020-04-17.csv\n",
      "/kaggle/input/total-scraped/total/2022-07-18.csv\n",
      "/kaggle/input/total-scraped/total/2020-11-04.csv\n",
      "/kaggle/input/total-scraped/total/2022-06-15.csv\n",
      "/kaggle/input/total-scraped/total/2022-02-10.csv\n",
      "/kaggle/input/total-scraped/total/2019-12-03.csv\n",
      "/kaggle/input/total-scraped/total/2020-05-16.csv\n",
      "/kaggle/input/total-scraped/total/2020-04-29.csv\n",
      "/kaggle/input/total-scraped/total/2020-08-12.csv\n",
      "/kaggle/input/total-scraped/total/2021-11-08.csv\n",
      "/kaggle/input/total-scraped/total/2020-11-02.csv\n",
      "/kaggle/input/total-scraped/total/2021-10-06.csv\n",
      "/kaggle/input/total-scraped/total/2022-05-03.csv\n",
      "/kaggle/input/total-scraped/total/2020-05-13.csv\n",
      "/kaggle/input/total-scraped/total/2022-03-12.csv\n",
      "/kaggle/input/total-scraped/total/2021-09-06.csv\n",
      "/kaggle/input/total-scraped/total/2021-09-24.csv\n",
      "/kaggle/input/total-scraped/total/2020-04-22.csv\n",
      "/kaggle/input/total-scraped/total/2020-08-13.csv\n",
      "/kaggle/input/total-scraped/total/2020-10-11.csv\n",
      "/kaggle/input/total-scraped/total/2021-03-15.csv\n",
      "/kaggle/input/total-scraped/total/2020-04-16.csv\n",
      "/kaggle/input/total-scraped/total/2020-11-09.csv\n",
      "/kaggle/input/total-scraped/total/2022-08-25.csv\n",
      "/kaggle/input/total-scraped/total/2020-08-02.csv\n",
      "/kaggle/input/total-scraped/total/2022-07-24.csv\n",
      "/kaggle/input/total-scraped/total/2020-06-12.csv\n",
      "/kaggle/input/total-scraped/total/2020-02-09.csv\n",
      "/kaggle/input/total-scraped/total/2020-03-15.csv\n",
      "/kaggle/input/total-scraped/total/2020-07-15.csv\n",
      "/kaggle/input/total-scraped/total/2021-08-01.csv\n",
      "/kaggle/input/total-scraped/total/2020-02-01.csv\n",
      "/kaggle/input/total-scraped/total/2020-01-15.csv\n",
      "/kaggle/input/total-scraped/total/2022-02-25.csv\n",
      "/kaggle/input/total-scraped/total/2022-04-05.csv\n",
      "/kaggle/input/total-scraped/total/2020-09-30.csv\n",
      "/kaggle/input/total-scraped/total/2020-02-15.csv\n",
      "/kaggle/input/total-scraped/total/2021-04-12.csv\n",
      "/kaggle/input/total-scraped/total/2020-01-20.csv\n",
      "/kaggle/input/total-scraped/total/2021-05-13.csv\n",
      "/kaggle/input/total-scraped/total/2022-03-25.csv\n",
      "/kaggle/input/total-scraped/total/2022-01-04.csv\n",
      "/kaggle/input/total-scraped/total/2019-11-24.csv\n",
      "/kaggle/input/total-scraped/total/2021-09-28.csv\n",
      "/kaggle/input/total-scraped/total/2022-06-21.csv\n",
      "/kaggle/input/total-scraped/total/2019-12-12.csv\n",
      "/kaggle/input/total-scraped/total/2021-10-26.csv\n",
      "/kaggle/input/total-scraped/total/2020-08-18.csv\n",
      "/kaggle/input/total-scraped/total/2019-11-26.csv\n",
      "/kaggle/input/total-scraped/total/2021-03-30.csv\n",
      "/kaggle/input/total-scraped/total/2020-11-30.csv\n",
      "/kaggle/input/total-scraped/total/2022-02-19.csv\n",
      "/kaggle/input/total-scraped/total/2022-06-16.csv\n",
      "/kaggle/input/total-scraped/total/2020-08-26.csv\n",
      "/kaggle/input/total-scraped/total/2020-09-15.csv\n",
      "/kaggle/input/total-scraped/total/2020-02-25.csv\n",
      "/kaggle/input/total-scraped/total/2020-06-14.csv\n",
      "/kaggle/input/total-scraped/total/2020-08-01.csv\n",
      "/kaggle/input/total-scraped/total/2020-10-22.csv\n",
      "/kaggle/input/total-scraped/total/2021-02-25.csv\n",
      "/kaggle/input/total-scraped/total/2020-01-07.csv\n",
      "/kaggle/input/total-scraped/total/2022-02-24.csv\n",
      "/kaggle/input/total-scraped/total/2022-09-22.csv\n",
      "/kaggle/input/total-scraped/total/2021-05-19.csv\n",
      "/kaggle/input/total-scraped/total/2020-09-29.csv\n",
      "/kaggle/input/total-scraped/total/2021-01-28.csv\n",
      "/kaggle/input/total-scraped/total/2020-12-08.csv\n",
      "/kaggle/input/total-scraped/total/2021-02-24.csv\n",
      "/kaggle/input/total-scraped/total/2021-01-08.csv\n",
      "/kaggle/input/total-scraped/total/2021-03-21.csv\n",
      "/kaggle/input/total-scraped/total/2021-06-30.csv\n",
      "/kaggle/input/total-scraped/total/2020-05-04.csv\n",
      "/kaggle/input/total-scraped/total/2020-10-04.csv\n"
     ]
    }
   ],
   "source": [
    "for dirname, _, filenames in os.walk('/kaggle/input'):\n",
    "    for filename in filenames:\n",
    "        print(os.path.join(dirname, filename))"
   ]
  },
  {
   "cell_type": "code",
   "execution_count": 7,
   "metadata": {
    "execution": {
     "iopub.execute_input": "2022-11-10T14:29:20.402003Z",
     "iopub.status.busy": "2022-11-10T14:29:20.401539Z",
     "iopub.status.idle": "2022-11-10T14:29:20.411677Z",
     "shell.execute_reply": "2022-11-10T14:29:20.410497Z",
     "shell.execute_reply.started": "2022-11-10T14:29:20.401968Z"
    }
   },
   "outputs": [
    {
     "data": {
      "text/plain": [
       "['2022-03-10.csv',\n",
       " '2020-07-10.csv',\n",
       " '2021-11-07.csv',\n",
       " '2021-06-11.csv',\n",
       " '2021-12-11.csv',\n",
       " '2021-06-06.csv',\n",
       " '2020-10-15.csv',\n",
       " '2020-10-21.csv',\n",
       " '2021-05-02.csv',\n",
       " '2021-03-23.csv']"
      ]
     },
     "execution_count": 7,
     "metadata": {},
     "output_type": "execute_result"
    }
   ],
   "source": [
    "files_dir = '/kaggle/input/total-scraped/total'\n",
    "scraped_files = os.listdir(f'{files_dir}')\n",
    "scraped_files[:10]"
   ]
  },
  {
   "cell_type": "code",
   "execution_count": 8,
   "metadata": {
    "execution": {
     "iopub.execute_input": "2022-11-10T14:29:49.316395Z",
     "iopub.status.busy": "2022-11-10T14:29:49.315875Z",
     "iopub.status.idle": "2022-11-10T14:29:49.342205Z",
     "shell.execute_reply": "2022-11-10T14:29:49.340489Z",
     "shell.execute_reply.started": "2022-11-10T14:29:49.316350Z"
    }
   },
   "outputs": [],
   "source": [
    "sample_file = pd.read_csv(f'{files_dir}/{scraped_files[0]}')"
   ]
  },
  {
   "cell_type": "code",
   "execution_count": 9,
   "metadata": {
    "execution": {
     "iopub.execute_input": "2022-11-10T14:29:55.510066Z",
     "iopub.status.busy": "2022-11-10T14:29:55.509639Z",
     "iopub.status.idle": "2022-11-10T14:29:55.532252Z",
     "shell.execute_reply": "2022-11-10T14:29:55.531011Z",
     "shell.execute_reply.started": "2022-11-10T14:29:55.510033Z"
    }
   },
   "outputs": [
    {
     "data": {
      "text/html": [
       "<div>\n",
       "<style scoped>\n",
       "    .dataframe tbody tr th:only-of-type {\n",
       "        vertical-align: middle;\n",
       "    }\n",
       "\n",
       "    .dataframe tbody tr th {\n",
       "        vertical-align: top;\n",
       "    }\n",
       "\n",
       "    .dataframe thead th {\n",
       "        text-align: right;\n",
       "    }\n",
       "</style>\n",
       "<table border=\"1\" class=\"dataframe\">\n",
       "  <thead>\n",
       "    <tr style=\"text-align: right;\">\n",
       "      <th></th>\n",
       "      <th>Unnamed: 0</th>\n",
       "      <th>user_name</th>\n",
       "      <th>date</th>\n",
       "      <th>text</th>\n",
       "    </tr>\n",
       "  </thead>\n",
       "  <tbody>\n",
       "    <tr>\n",
       "      <th>0</th>\n",
       "      <td>8016</td>\n",
       "      <td>fabio4prez</td>\n",
       "      <td>2022-03-10</td>\n",
       "      <td>@SenWarren Stop selling this narrative.  You’r...</td>\n",
       "    </tr>\n",
       "    <tr>\n",
       "      <th>1</th>\n",
       "      <td>8017</td>\n",
       "      <td>crypto_trackr</td>\n",
       "      <td>2022-03-10</td>\n",
       "      <td>Current time = 05:29:55 IST \\n🔸 USDT(INR): 78....</td>\n",
       "    </tr>\n",
       "    <tr>\n",
       "      <th>2</th>\n",
       "      <td>8018</td>\n",
       "      <td>hodlandshill</td>\n",
       "      <td>2022-03-10</td>\n",
       "      <td>👋 Who's someone in the #Bitcoin, #Blockchain, ...</td>\n",
       "    </tr>\n",
       "    <tr>\n",
       "      <th>3</th>\n",
       "      <td>8019</td>\n",
       "      <td>kriptopointt</td>\n",
       "      <td>2022-03-10</td>\n",
       "      <td>Çok fazla sorunlarla boğuştuk:\\n\\nPandemi\\nFED...</td>\n",
       "    </tr>\n",
       "    <tr>\n",
       "      <th>4</th>\n",
       "      <td>8020</td>\n",
       "      <td>bmw999</td>\n",
       "      <td>2022-03-10</td>\n",
       "      <td>@CynthiaMLummis You are one of the reasonable ...</td>\n",
       "    </tr>\n",
       "  </tbody>\n",
       "</table>\n",
       "</div>"
      ],
      "text/plain": [
       "   Unnamed: 0      user_name        date  \\\n",
       "0        8016     fabio4prez  2022-03-10   \n",
       "1        8017  crypto_trackr  2022-03-10   \n",
       "2        8018   hodlandshill  2022-03-10   \n",
       "3        8019   kriptopointt  2022-03-10   \n",
       "4        8020         bmw999  2022-03-10   \n",
       "\n",
       "                                                text  \n",
       "0  @SenWarren Stop selling this narrative.  You’r...  \n",
       "1  Current time = 05:29:55 IST \\n🔸 USDT(INR): 78....  \n",
       "2  👋 Who's someone in the #Bitcoin, #Blockchain, ...  \n",
       "3  Çok fazla sorunlarla boğuştuk:\\n\\nPandemi\\nFED...  \n",
       "4  @CynthiaMLummis You are one of the reasonable ...  "
      ]
     },
     "execution_count": 9,
     "metadata": {},
     "output_type": "execute_result"
    }
   ],
   "source": [
    "sample_file.head()"
   ]
  },
  {
   "cell_type": "code",
   "execution_count": 10,
   "metadata": {
    "execution": {
     "iopub.execute_input": "2022-11-10T14:30:06.091112Z",
     "iopub.status.busy": "2022-11-10T14:30:06.090682Z",
     "iopub.status.idle": "2022-11-10T14:30:06.106785Z",
     "shell.execute_reply": "2022-11-10T14:30:06.105538Z",
     "shell.execute_reply.started": "2022-11-10T14:30:06.091078Z"
    }
   },
   "outputs": [
    {
     "data": {
      "text/html": [
       "<div>\n",
       "<style scoped>\n",
       "    .dataframe tbody tr th:only-of-type {\n",
       "        vertical-align: middle;\n",
       "    }\n",
       "\n",
       "    .dataframe tbody tr th {\n",
       "        vertical-align: top;\n",
       "    }\n",
       "\n",
       "    .dataframe thead th {\n",
       "        text-align: right;\n",
       "    }\n",
       "</style>\n",
       "<table border=\"1\" class=\"dataframe\">\n",
       "  <thead>\n",
       "    <tr style=\"text-align: right;\">\n",
       "      <th></th>\n",
       "      <th>Unnamed: 0</th>\n",
       "      <th>user_name</th>\n",
       "      <th>date</th>\n",
       "      <th>text</th>\n",
       "    </tr>\n",
       "  </thead>\n",
       "  <tbody>\n",
       "    <tr>\n",
       "      <th>496</th>\n",
       "      <td>8512</td>\n",
       "      <td>MiamiBeachPages</td>\n",
       "      <td>2022-03-10</td>\n",
       "      <td>🌴 The first ever conference that channels the ...</td>\n",
       "    </tr>\n",
       "    <tr>\n",
       "      <th>497</th>\n",
       "      <td>8513</td>\n",
       "      <td>Rtailor83459027</td>\n",
       "      <td>2022-03-10</td>\n",
       "      <td>Just look    at that volume on 4hr chart on $B...</td>\n",
       "    </tr>\n",
       "    <tr>\n",
       "      <th>498</th>\n",
       "      <td>8514</td>\n",
       "      <td>IAmBitcoinBot</td>\n",
       "      <td>2022-03-10</td>\n",
       "      <td>Current #Bitcoin Price is $39507 #BTC #Crypto</td>\n",
       "    </tr>\n",
       "    <tr>\n",
       "      <th>499</th>\n",
       "      <td>8515</td>\n",
       "      <td>Dthomp9372</td>\n",
       "      <td>2022-03-10</td>\n",
       "      <td>Even though the #Bitcoin blockchain is public ...</td>\n",
       "    </tr>\n",
       "    <tr>\n",
       "      <th>500</th>\n",
       "      <td>8516</td>\n",
       "      <td>tradewom0101</td>\n",
       "      <td>2022-03-10</td>\n",
       "      <td>Hükümetler sizinle aynı fikirde olmadığı zaman...</td>\n",
       "    </tr>\n",
       "  </tbody>\n",
       "</table>\n",
       "</div>"
      ],
      "text/plain": [
       "     Unnamed: 0        user_name        date  \\\n",
       "496        8512  MiamiBeachPages  2022-03-10   \n",
       "497        8513  Rtailor83459027  2022-03-10   \n",
       "498        8514    IAmBitcoinBot  2022-03-10   \n",
       "499        8515       Dthomp9372  2022-03-10   \n",
       "500        8516     tradewom0101  2022-03-10   \n",
       "\n",
       "                                                  text  \n",
       "496  🌴 The first ever conference that channels the ...  \n",
       "497  Just look    at that volume on 4hr chart on $B...  \n",
       "498      Current #Bitcoin Price is $39507 #BTC #Crypto  \n",
       "499  Even though the #Bitcoin blockchain is public ...  \n",
       "500  Hükümetler sizinle aynı fikirde olmadığı zaman...  "
      ]
     },
     "execution_count": 10,
     "metadata": {},
     "output_type": "execute_result"
    }
   ],
   "source": [
    "sample_file.tail()"
   ]
  },
  {
   "cell_type": "code",
   "execution_count": 20,
   "metadata": {
    "execution": {
     "iopub.execute_input": "2022-11-10T14:45:24.608129Z",
     "iopub.status.busy": "2022-11-10T14:45:24.607655Z",
     "iopub.status.idle": "2022-11-10T14:46:04.361237Z",
     "shell.execute_reply": "2022-11-10T14:46:04.359891Z",
     "shell.execute_reply.started": "2022-11-10T14:45:24.608094Z"
    }
   },
   "outputs": [
    {
     "name": "stderr",
     "output_type": "stream",
     "text": [
      "  0%|          | 3/898 [00:00<00:40, 22.27it/s]"
     ]
    },
    {
     "name": "stdout",
     "output_type": "stream",
     "text": [
      "Cleaning file: 2022-03-10.csv...\n",
      "Cleaning file: 2020-07-10.csv...\n",
      "Cleaning file: 2021-11-07.csv...\n",
      "Cleaning file: 2021-06-11.csv...\n",
      "Cleaning file: 2021-12-11.csv...\n"
     ]
    },
    {
     "name": "stderr",
     "output_type": "stream",
     "text": [
      "  1%|          | 9/898 [00:00<00:39, 22.63it/s]"
     ]
    },
    {
     "name": "stdout",
     "output_type": "stream",
     "text": [
      "Cleaning file: 2021-06-06.csv...\n",
      "Cleaning file: 2020-10-15.csv...\n",
      "Cleaning file: 2020-10-21.csv...\n",
      "Cleaning file: 2021-05-02.csv...\n",
      "Cleaning file: 2021-03-23.csv...\n"
     ]
    },
    {
     "name": "stderr",
     "output_type": "stream",
     "text": [
      "  1%|▏         | 12/898 [00:00<00:40, 22.00it/s]"
     ]
    },
    {
     "name": "stdout",
     "output_type": "stream",
     "text": [
      "Cleaning file: 2020-08-19.csv...\n",
      "Cleaning file: 2021-11-01.csv...\n",
      "Cleaning file: 2020-04-19.csv...\n",
      "Cleaning file: 2020-09-23.csv...\n",
      "Cleaning file: 2022-04-11.csv...\n"
     ]
    },
    {
     "name": "stderr",
     "output_type": "stream",
     "text": [
      "  2%|▏         | 18/898 [00:00<00:38, 22.77it/s]"
     ]
    },
    {
     "name": "stdout",
     "output_type": "stream",
     "text": [
      "Cleaning file: 2022-04-22.csv...\n",
      "Cleaning file: 2021-12-16.csv...\n",
      "Cleaning file: 2020-06-13.csv...\n",
      "Cleaning file: 2020-01-05.csv...\n",
      "Cleaning file: 2021-05-01.csv...\n"
     ]
    },
    {
     "name": "stderr",
     "output_type": "stream",
     "text": [
      "  3%|▎         | 24/898 [00:01<00:38, 22.84it/s]"
     ]
    },
    {
     "name": "stdout",
     "output_type": "stream",
     "text": [
      "Cleaning file: 2020-02-23.csv...\n",
      "Cleaning file: 2021-01-14.csv...\n",
      "Cleaning file: 2021-09-12.csv...\n",
      "Cleaning file: 2022-03-30.csv...\n",
      "Cleaning file: 2022-09-14.csv...\n"
     ]
    },
    {
     "name": "stderr",
     "output_type": "stream",
     "text": [
      "  3%|▎         | 27/898 [00:01<00:39, 22.33it/s]"
     ]
    },
    {
     "name": "stdout",
     "output_type": "stream",
     "text": [
      "Cleaning file: 2021-04-01.csv...\n",
      "Cleaning file: 2022-01-09.csv...\n",
      "Cleaning file: 2021-05-11.csv...\n",
      "Cleaning file: 2022-07-06.csv...\n",
      "Cleaning file: 2022-01-25.csv...\n"
     ]
    },
    {
     "name": "stderr",
     "output_type": "stream",
     "text": [
      "  4%|▎         | 33/898 [00:01<00:36, 23.45it/s]"
     ]
    },
    {
     "name": "stdout",
     "output_type": "stream",
     "text": [
      "Cleaning file: 2020-02-08.csv...\n",
      "Cleaning file: 2020-12-26.csv...\n",
      "Cleaning file: 2022-08-18.csv...\n",
      "Cleaning file: 2022-07-31.csv...\n",
      "Cleaning file: 2021-11-30.csv...\n",
      "Cleaning file: 2020-01-04.csv...\n"
     ]
    },
    {
     "name": "stderr",
     "output_type": "stream",
     "text": [
      "  4%|▍         | 39/898 [00:01<00:35, 24.00it/s]"
     ]
    },
    {
     "name": "stdout",
     "output_type": "stream",
     "text": [
      "Cleaning file: 2020-07-11.csv...\n",
      "Cleaning file: 2020-12-19.csv...\n",
      "Cleaning file: 2022-02-27.csv...\n",
      "Cleaning file: 2021-03-04.csv...\n",
      "Cleaning file: 2021-10-30.csv...\n"
     ]
    },
    {
     "name": "stderr",
     "output_type": "stream",
     "text": [
      "  5%|▌         | 45/898 [00:01<00:36, 23.37it/s]"
     ]
    },
    {
     "name": "stdout",
     "output_type": "stream",
     "text": [
      "Cleaning file: 2020-07-30.csv...\n",
      "Cleaning file: 2020-10-20.csv...\n",
      "Cleaning file: 2022-06-13.csv...\n",
      "Cleaning file: 2020-04-10.csv...\n",
      "Cleaning file: 2020-06-20.csv...\n"
     ]
    },
    {
     "name": "stderr",
     "output_type": "stream",
     "text": [
      "  5%|▌         | 48/898 [00:02<00:35, 24.05it/s]"
     ]
    },
    {
     "name": "stdout",
     "output_type": "stream",
     "text": [
      "Cleaning file: 2021-04-24.csv...\n",
      "Cleaning file: 2020-01-21.csv...\n",
      "Cleaning file: 2020-01-08.csv...\n",
      "Cleaning file: 2020-12-28.csv...\n",
      "Cleaning file: 2022-02-11.csv...\n"
     ]
    },
    {
     "name": "stderr",
     "output_type": "stream",
     "text": [
      "  6%|▌         | 54/898 [00:02<00:37, 22.73it/s]"
     ]
    },
    {
     "name": "stdout",
     "output_type": "stream",
     "text": [
      "Cleaning file: 2021-08-10.csv...\n",
      "Cleaning file: 2019-12-25.csv...\n",
      "Cleaning file: 2020-12-14.csv...\n",
      "Cleaning file: 2020-08-04.csv...\n",
      "Cleaning file: 2022-04-08.csv...\n"
     ]
    },
    {
     "name": "stderr",
     "output_type": "stream",
     "text": [
      "  7%|▋         | 60/898 [00:02<00:34, 24.13it/s]"
     ]
    },
    {
     "name": "stdout",
     "output_type": "stream",
     "text": [
      "Cleaning file: 2021-09-09.csv...\n",
      "Cleaning file: 2022-08-19.csv...\n",
      "Cleaning file: 2020-04-02.csv...\n",
      "Cleaning file: 2021-02-21.csv...\n",
      "Cleaning file: 2021-11-26.csv...\n",
      "Cleaning file: 2020-09-22.csv...\n"
     ]
    },
    {
     "name": "stderr",
     "output_type": "stream",
     "text": [
      "  7%|▋         | 66/898 [00:02<00:33, 24.62it/s]"
     ]
    },
    {
     "name": "stdout",
     "output_type": "stream",
     "text": [
      "Cleaning file: 2020-09-10.csv...\n",
      "Cleaning file: 2022-09-05.csv...\n",
      "Cleaning file: 2020-06-05.csv...\n",
      "Cleaning file: 2022-08-16.csv...\n",
      "Cleaning file: 2022-08-23.csv...\n"
     ]
    },
    {
     "name": "stderr",
     "output_type": "stream",
     "text": [
      "  8%|▊         | 69/898 [00:02<00:34, 23.84it/s]"
     ]
    },
    {
     "name": "stdout",
     "output_type": "stream",
     "text": [
      "Cleaning file: 2022-01-05.csv...\n",
      "Cleaning file: 2020-12-17.csv...\n",
      "Cleaning file: 2021-12-21.csv...\n",
      "Cleaning file: 2022-09-18.csv...\n",
      "Cleaning file: 2019-12-29.csv...\n"
     ]
    },
    {
     "name": "stderr",
     "output_type": "stream",
     "text": [
      "  8%|▊         | 75/898 [00:03<00:34, 23.74it/s]"
     ]
    },
    {
     "name": "stdout",
     "output_type": "stream",
     "text": [
      "Cleaning file: 2022-10-01.csv...\n",
      "Cleaning file: 2020-03-14.csv...\n",
      "Cleaning file: 2019-11-27.csv...\n",
      "Cleaning file: 2020-03-05.csv...\n",
      "Cleaning file: 2021-02-10.csv...\n",
      "Cleaning file: 2020-11-13.csv...\n"
     ]
    },
    {
     "name": "stderr",
     "output_type": "stream",
     "text": [
      "  9%|▉         | 81/898 [00:03<00:35, 23.30it/s]"
     ]
    },
    {
     "name": "stdout",
     "output_type": "stream",
     "text": [
      "Cleaning file: 2021-09-14.csv...\n",
      "Cleaning file: 2021-04-30.csv...\n",
      "Cleaning file: 2021-04-15.csv...\n",
      "Cleaning file: 2022-04-03.csv...\n",
      "Cleaning file: 2022-09-26.csv...\n"
     ]
    },
    {
     "name": "stderr",
     "output_type": "stream",
     "text": [
      " 10%|▉         | 87/898 [00:03<00:34, 23.69it/s]"
     ]
    },
    {
     "name": "stdout",
     "output_type": "stream",
     "text": [
      "Cleaning file: 2020-05-01.csv...\n",
      "Cleaning file: 2020-09-07.csv...\n",
      "Cleaning file: 2021-06-28.csv...\n",
      "Cleaning file: 2022-08-17.csv...\n",
      "Cleaning file: 2020-12-18.csv...\n"
     ]
    },
    {
     "name": "stderr",
     "output_type": "stream",
     "text": [
      " 10%|█         | 90/898 [00:03<00:34, 23.31it/s]"
     ]
    },
    {
     "name": "stdout",
     "output_type": "stream",
     "text": [
      "Cleaning file: 2020-01-16.csv...\n",
      "Cleaning file: 2019-12-21.csv...\n",
      "Cleaning file: 2022-07-21.csv...\n",
      "Cleaning file: 2020-11-22.csv...\n",
      "Cleaning file: 2022-08-06.csv...\n"
     ]
    },
    {
     "name": "stderr",
     "output_type": "stream",
     "text": [
      " 11%|█         | 96/898 [00:04<00:34, 23.05it/s]"
     ]
    },
    {
     "name": "stdout",
     "output_type": "stream",
     "text": [
      "Cleaning file: 2021-09-18.csv...\n",
      "Cleaning file: 2022-02-18.csv...\n",
      "Cleaning file: 2022-03-11.csv...\n",
      "Cleaning file: 2020-03-26.csv...\n",
      "Cleaning file: 2020-11-12.csv...\n"
     ]
    },
    {
     "name": "stderr",
     "output_type": "stream",
     "text": [
      " 11%|█▏        | 102/898 [00:04<00:35, 22.44it/s]"
     ]
    },
    {
     "name": "stdout",
     "output_type": "stream",
     "text": [
      "Cleaning file: 2021-01-13.csv...\n",
      "Cleaning file: 2021-10-05.csv...\n",
      "Cleaning file: 2021-05-30.csv...\n",
      "Cleaning file: 2022-06-11.csv...\n",
      "Cleaning file: 2020-08-31.csv...\n"
     ]
    },
    {
     "name": "stderr",
     "output_type": "stream",
     "text": [
      " 12%|█▏        | 105/898 [00:04<00:38, 20.84it/s]"
     ]
    },
    {
     "name": "stdout",
     "output_type": "stream",
     "text": [
      "Cleaning file: 2020-01-11.csv...\n",
      "Cleaning file: 2019-12-06.csv...\n",
      "Cleaning file: 2019-12-24.csv...\n",
      "Cleaning file: 2021-01-12.csv...\n"
     ]
    },
    {
     "name": "stderr",
     "output_type": "stream",
     "text": [
      " 12%|█▏        | 111/898 [00:04<00:37, 21.08it/s]"
     ]
    },
    {
     "name": "stdout",
     "output_type": "stream",
     "text": [
      "Cleaning file: 2021-05-06.csv...\n",
      "Cleaning file: 2020-12-02.csv...\n",
      "Cleaning file: 2022-02-01.csv...\n",
      "Cleaning file: 2022-06-06.csv...\n",
      "Cleaning file: 2021-03-28.csv...\n"
     ]
    },
    {
     "name": "stderr",
     "output_type": "stream",
     "text": [
      " 13%|█▎        | 114/898 [00:04<00:36, 21.49it/s]"
     ]
    },
    {
     "name": "stdout",
     "output_type": "stream",
     "text": [
      "Cleaning file: 2020-05-31.csv...\n",
      "Cleaning file: 2020-02-04.csv...\n",
      "Cleaning file: 2020-04-09.csv...\n",
      "Cleaning file: 2022-10-07.csv...\n",
      "Cleaning file: 2021-07-10.csv...\n"
     ]
    },
    {
     "name": "stderr",
     "output_type": "stream",
     "text": [
      " 13%|█▎        | 120/898 [00:05<00:34, 22.56it/s]"
     ]
    },
    {
     "name": "stdout",
     "output_type": "stream",
     "text": [
      "Cleaning file: 2022-01-18.csv...\n",
      "Cleaning file: 2022-01-31.csv...\n",
      "Cleaning file: 2021-01-06.csv...\n",
      "Cleaning file: 2021-02-11.csv...\n",
      "Cleaning file: 2020-10-26.csv...\n"
     ]
    },
    {
     "name": "stderr",
     "output_type": "stream",
     "text": [
      " 14%|█▎        | 123/898 [00:05<00:36, 21.10it/s]"
     ]
    },
    {
     "name": "stdout",
     "output_type": "stream",
     "text": [
      "Cleaning file: 2020-12-11.csv...\n",
      "Cleaning file: 2021-07-07.csv...\n",
      "Cleaning file: 2022-09-08.csv...\n",
      "Cleaning file: 2021-07-13.csv...\n"
     ]
    },
    {
     "name": "stderr",
     "output_type": "stream",
     "text": [
      " 14%|█▍        | 129/898 [00:05<00:38, 20.10it/s]"
     ]
    },
    {
     "name": "stdout",
     "output_type": "stream",
     "text": [
      "Cleaning file: 2019-12-26.csv...\n",
      "Cleaning file: 2020-12-13.csv...\n",
      "Cleaning file: 2020-08-10.csv...\n",
      "Cleaning file: 2021-09-21.csv...\n"
     ]
    },
    {
     "name": "stderr",
     "output_type": "stream",
     "text": [
      " 15%|█▍        | 132/898 [00:05<00:37, 20.16it/s]"
     ]
    },
    {
     "name": "stdout",
     "output_type": "stream",
     "text": [
      "Cleaning file: 2022-06-30.csv...\n",
      "Cleaning file: 2022-03-29.csv...\n",
      "Cleaning file: 2020-12-01.csv...\n",
      "Cleaning file: 2020-11-28.csv...\n",
      "Cleaning file: 2020-07-20.csv...\n"
     ]
    },
    {
     "name": "stderr",
     "output_type": "stream",
     "text": [
      " 15%|█▌        | 138/898 [00:06<00:35, 21.41it/s]"
     ]
    },
    {
     "name": "stdout",
     "output_type": "stream",
     "text": [
      "Cleaning file: 2019-12-10.csv...\n",
      "Cleaning file: 2021-07-12.csv...\n",
      "Cleaning file: 2020-09-13.csv...\n",
      "Cleaning file: 2021-01-20.csv...\n",
      "Cleaning file: 2021-01-01.csv...\n"
     ]
    },
    {
     "name": "stderr",
     "output_type": "stream",
     "text": [
      " 16%|█▌        | 141/898 [00:06<00:35, 21.25it/s]"
     ]
    },
    {
     "name": "stdout",
     "output_type": "stream",
     "text": [
      "Cleaning file: 2021-01-03.csv...\n",
      "Cleaning file: 2021-12-18.csv...\n",
      "Cleaning file: 2021-06-13.csv...\n",
      "Cleaning file: 2020-01-12.csv...\n"
     ]
    },
    {
     "name": "stderr",
     "output_type": "stream",
     "text": [
      " 16%|█▋        | 147/898 [00:06<00:34, 21.68it/s]"
     ]
    },
    {
     "name": "stdout",
     "output_type": "stream",
     "text": [
      "Cleaning file: 2020-05-07.csv...\n",
      "Cleaning file: 2022-06-09.csv...\n",
      "Cleaning file: 2020-02-20.csv...\n",
      "Cleaning file: 2021-11-22.csv...\n",
      "Cleaning file: 2020-01-28.csv...\n",
      "Cleaning file: 2021-12-24.csv...\n"
     ]
    },
    {
     "name": "stderr",
     "output_type": "stream",
     "text": [
      " 17%|█▋        | 153/898 [00:06<00:33, 22.17it/s]"
     ]
    },
    {
     "name": "stdout",
     "output_type": "stream",
     "text": [
      "Cleaning file: 2021-05-03.csv...\n",
      "Cleaning file: 2020-04-06.csv...\n",
      "Cleaning file: 2021-09-11.csv...\n",
      "Cleaning file: 2020-12-31.csv...\n",
      "Cleaning file: 2022-06-22.csv...\n"
     ]
    },
    {
     "name": "stderr",
     "output_type": "stream",
     "text": [
      " 18%|█▊        | 159/898 [00:07<00:33, 21.99it/s]"
     ]
    },
    {
     "name": "stdout",
     "output_type": "stream",
     "text": [
      "Cleaning file: 2020-04-20.csv...\n",
      "Cleaning file: 2020-07-09.csv...\n",
      "Cleaning file: 2019-11-30.csv...\n",
      "Cleaning file: 2021-03-07.csv...\n",
      "Cleaning file: 2021-05-05.csv...\n"
     ]
    },
    {
     "name": "stderr",
     "output_type": "stream",
     "text": [
      " 18%|█▊        | 165/898 [00:07<00:31, 23.29it/s]"
     ]
    },
    {
     "name": "stdout",
     "output_type": "stream",
     "text": [
      "Cleaning file: 2021-03-14.csv...\n",
      "Cleaning file: 2021-03-20.csv...\n",
      "Cleaning file: 2022-09-16.csv...\n",
      "Cleaning file: 2020-09-12.csv...\n",
      "Cleaning file: 2020-11-20.csv...\n",
      "Cleaning file: 2020-06-07.csv...\n"
     ]
    },
    {
     "name": "stderr",
     "output_type": "stream",
     "text": [
      " 19%|█▉        | 171/898 [00:07<00:29, 24.52it/s]"
     ]
    },
    {
     "name": "stdout",
     "output_type": "stream",
     "text": [
      "Cleaning file: 2020-07-01.csv...\n",
      "Cleaning file: 2020-06-16.csv...\n",
      "Cleaning file: 2021-05-04.csv...\n",
      "Cleaning file: 2020-03-27.csv...\n",
      "Cleaning file: 2020-10-19.csv...\n",
      "Cleaning file: 2020-06-25.csv...\n"
     ]
    },
    {
     "name": "stderr",
     "output_type": "stream",
     "text": [
      " 20%|█▉        | 177/898 [00:07<00:29, 24.62it/s]"
     ]
    },
    {
     "name": "stdout",
     "output_type": "stream",
     "text": [
      "Cleaning file: 2021-10-25.csv...\n",
      "Cleaning file: 2020-04-24.csv...\n",
      "Cleaning file: 2022-04-01.csv...\n",
      "Cleaning file: 2022-05-14.csv...\n",
      "Cleaning file: 2022-07-27.csv...\n",
      "Cleaning file: 2021-03-31.csv...\n"
     ]
    },
    {
     "name": "stderr",
     "output_type": "stream",
     "text": [
      " 20%|██        | 180/898 [00:07<00:28, 24.82it/s]"
     ]
    },
    {
     "name": "stdout",
     "output_type": "stream",
     "text": [
      "Cleaning file: 2021-07-06.csv...\n",
      "Cleaning file: 2021-11-09.csv...\n",
      "Cleaning file: 2021-12-03.csv...\n",
      "Cleaning file: 2021-12-13.csv...\n",
      "Cleaning file: 2019-12-27.csv...\n"
     ]
    },
    {
     "name": "stderr",
     "output_type": "stream",
     "text": [
      " 21%|██        | 186/898 [00:08<00:28, 24.67it/s]"
     ]
    },
    {
     "name": "stdout",
     "output_type": "stream",
     "text": [
      "Cleaning file: 2020-06-01.csv...\n",
      "Cleaning file: 2022-05-08.csv...\n",
      "Cleaning file: 2022-04-25.csv...\n",
      "Cleaning file: 2020-04-27.csv...\n",
      "Cleaning file: 2021-09-13.csv...\n"
     ]
    },
    {
     "name": "stderr",
     "output_type": "stream",
     "text": [
      " 21%|██▏       | 192/898 [00:08<00:30, 23.27it/s]"
     ]
    },
    {
     "name": "stdout",
     "output_type": "stream",
     "text": [
      "Cleaning file: 2022-09-28.csv...\n",
      "Cleaning file: 2020-03-18.csv...\n",
      "Cleaning file: 2020-05-22.csv...\n",
      "Cleaning file: 2020-06-22.csv...\n",
      "Cleaning file: 2020-01-09.csv...\n"
     ]
    },
    {
     "name": "stderr",
     "output_type": "stream",
     "text": [
      " 22%|██▏       | 195/898 [00:08<00:30, 22.94it/s]"
     ]
    },
    {
     "name": "stdout",
     "output_type": "stream",
     "text": [
      "Cleaning file: 2020-06-18.csv...\n",
      "Cleaning file: 2020-10-06.csv...\n",
      "Cleaning file: 2020-09-24.csv...\n",
      "Cleaning file: 2020-11-07.csv...\n",
      "Cleaning file: 2022-05-21.csv...\n"
     ]
    },
    {
     "name": "stderr",
     "output_type": "stream",
     "text": [
      " 22%|██▏       | 201/898 [00:08<00:30, 22.96it/s]"
     ]
    },
    {
     "name": "stdout",
     "output_type": "stream",
     "text": [
      "Cleaning file: 2020-03-11.csv...\n",
      "Cleaning file: 2020-02-11.csv...\n",
      "Cleaning file: 2021-09-10.csv...\n",
      "Cleaning file: 2022-01-15.csv...\n",
      "Cleaning file: 2021-03-08.csv...\n"
     ]
    },
    {
     "name": "stderr",
     "output_type": "stream",
     "text": [
      " 23%|██▎       | 204/898 [00:08<00:30, 23.01it/s]"
     ]
    },
    {
     "name": "stdout",
     "output_type": "stream",
     "text": [
      "Cleaning file: 2021-01-02.csv...\n",
      "Cleaning file: 2021-01-29.csv...\n",
      "Cleaning file: 2020-12-12.csv...\n",
      "Cleaning file: 2020-05-24.csv...\n"
     ]
    },
    {
     "name": "stderr",
     "output_type": "stream",
     "text": [
      " 23%|██▎       | 210/898 [00:09<00:34, 19.89it/s]"
     ]
    },
    {
     "name": "stdout",
     "output_type": "stream",
     "text": [
      "Cleaning file: 2020-04-28.csv...\n",
      "Cleaning file: 2021-05-17.csv...\n",
      "Cleaning file: 2020-10-12.csv...\n",
      "Cleaning file: 2020-10-13.csv...\n"
     ]
    },
    {
     "name": "stderr",
     "output_type": "stream",
     "text": [
      " 24%|██▎       | 213/898 [00:09<00:33, 20.68it/s]"
     ]
    },
    {
     "name": "stdout",
     "output_type": "stream",
     "text": [
      "Cleaning file: 2019-11-29.csv...\n",
      "Cleaning file: 2020-11-14.csv...\n",
      "Cleaning file: 2020-06-11.csv...\n",
      "Cleaning file: 2020-03-08.csv...\n",
      "Cleaning file: 2020-03-19.csv...\n"
     ]
    },
    {
     "name": "stderr",
     "output_type": "stream",
     "text": [
      " 24%|██▍       | 219/898 [00:09<00:31, 21.28it/s]"
     ]
    },
    {
     "name": "stdout",
     "output_type": "stream",
     "text": [
      "Cleaning file: 2022-07-26.csv...\n",
      "Cleaning file: 2020-10-14.csv...\n",
      "Cleaning file: 2021-09-08.csv...\n",
      "Cleaning file: 2020-09-16.csv...\n",
      "Cleaning file: 2021-01-23.csv...\n"
     ]
    },
    {
     "name": "stderr",
     "output_type": "stream",
     "text": [
      " 25%|██▌       | 225/898 [00:10<00:31, 21.28it/s]"
     ]
    },
    {
     "name": "stdout",
     "output_type": "stream",
     "text": [
      "Cleaning file: 2020-10-27.csv...\n",
      "Cleaning file: 2022-07-03.csv...\n",
      "Cleaning file: 2021-06-02.csv...\n",
      "Cleaning file: 2020-03-06.csv...\n",
      "Cleaning file: 2022-09-21.csv...\n"
     ]
    },
    {
     "name": "stderr",
     "output_type": "stream",
     "text": [
      " 25%|██▌       | 228/898 [00:10<00:30, 21.63it/s]"
     ]
    },
    {
     "name": "stdout",
     "output_type": "stream",
     "text": [
      "Cleaning file: 2022-10-04.csv...\n",
      "Cleaning file: 2022-02-13.csv...\n",
      "Cleaning file: 2020-04-07.csv...\n",
      "Cleaning file: 2020-08-11.csv...\n",
      "Cleaning file: 2022-02-21.csv...\n"
     ]
    },
    {
     "name": "stderr",
     "output_type": "stream",
     "text": [
      " 26%|██▌       | 234/898 [00:10<00:30, 22.00it/s]"
     ]
    },
    {
     "name": "stdout",
     "output_type": "stream",
     "text": [
      "Cleaning file: 2020-11-03.csv...\n",
      "Cleaning file: 2022-08-01.csv...\n",
      "Cleaning file: 2022-06-20.csv...\n",
      "Cleaning file: 2022-03-13.csv...\n",
      "Cleaning file: 2019-12-17.csv...\n"
     ]
    },
    {
     "name": "stderr",
     "output_type": "stream",
     "text": [
      " 27%|██▋       | 240/898 [00:10<00:31, 21.04it/s]"
     ]
    },
    {
     "name": "stdout",
     "output_type": "stream",
     "text": [
      "Cleaning file: 2019-12-31.csv...\n",
      "Cleaning file: 2020-04-25.csv...\n",
      "Cleaning file: 2022-01-22.csv...\n",
      "Cleaning file: 2022-08-24.csv...\n",
      "Cleaning file: 2021-06-18.csv...\n"
     ]
    },
    {
     "name": "stderr",
     "output_type": "stream",
     "text": [
      " 27%|██▋       | 243/898 [00:10<00:31, 20.98it/s]"
     ]
    },
    {
     "name": "stdout",
     "output_type": "stream",
     "text": [
      "Cleaning file: 2020-06-30.csv...\n",
      "Cleaning file: 2020-08-20.csv...\n",
      "Cleaning file: 2020-01-17.csv...\n",
      "Cleaning file: 2020-07-16.csv...\n",
      "Cleaning file: 2020-12-20.csv...\n"
     ]
    },
    {
     "name": "stderr",
     "output_type": "stream",
     "text": [
      " 28%|██▊       | 249/898 [00:11<00:30, 21.58it/s]"
     ]
    },
    {
     "name": "stdout",
     "output_type": "stream",
     "text": [
      "Cleaning file: 2021-08-03.csv...\n",
      "Cleaning file: 2021-06-09.csv...\n",
      "Cleaning file: 2020-08-08.csv...\n",
      "Cleaning file: 2020-03-21.csv...\n",
      "Cleaning file: 2021-10-01.csv...\n"
     ]
    },
    {
     "name": "stderr",
     "output_type": "stream",
     "text": [
      " 28%|██▊       | 255/898 [00:11<00:29, 21.48it/s]"
     ]
    },
    {
     "name": "stdout",
     "output_type": "stream",
     "text": [
      "Cleaning file: 2021-08-27.csv...\n",
      "Cleaning file: 2021-05-18.csv...\n",
      "Cleaning file: 2021-09-04.csv...\n",
      "Cleaning file: 2021-05-20.csv...\n",
      "Cleaning file: 2021-07-05.csv...\n"
     ]
    },
    {
     "name": "stderr",
     "output_type": "stream",
     "text": [
      " 29%|██▉       | 261/898 [00:11<00:26, 23.66it/s]"
     ]
    },
    {
     "name": "stdout",
     "output_type": "stream",
     "text": [
      "Cleaning file: 2021-10-15.csv...\n",
      "Cleaning file: 2020-03-25.csv...\n",
      "Cleaning file: 2022-08-22.csv...\n",
      "Cleaning file: 2021-03-29.csv...\n",
      "Cleaning file: 2022-02-04.csv...\n",
      "Cleaning file: 2021-02-04.csv...\n"
     ]
    },
    {
     "name": "stderr",
     "output_type": "stream",
     "text": [
      " 29%|██▉       | 264/898 [00:11<00:26, 23.68it/s]"
     ]
    },
    {
     "name": "stdout",
     "output_type": "stream",
     "text": [
      "Cleaning file: 2020-01-01.csv...\n",
      "Cleaning file: 2020-10-31.csv...\n",
      "Cleaning file: 2020-02-12.csv...\n",
      "Cleaning file: 2020-07-19.csv...\n",
      "Cleaning file: 2021-12-07.csv...\n"
     ]
    },
    {
     "name": "stderr",
     "output_type": "stream",
     "text": [
      " 30%|███       | 270/898 [00:12<00:29, 21.34it/s]"
     ]
    },
    {
     "name": "stdout",
     "output_type": "stream",
     "text": [
      "Cleaning file: 2021-11-17.csv...\n",
      "Cleaning file: 2020-04-21.csv...\n",
      "Cleaning file: 2022-02-07.csv...\n",
      "Cleaning file: 2020-06-03.csv...\n"
     ]
    },
    {
     "name": "stderr",
     "output_type": "stream",
     "text": [
      " 30%|███       | 273/898 [00:12<00:29, 21.03it/s]"
     ]
    },
    {
     "name": "stdout",
     "output_type": "stream",
     "text": [
      "Cleaning file: 2019-12-07.csv...\n",
      "Cleaning file: 2020-07-22.csv...\n",
      "Cleaning file: 2022-07-30.csv...\n",
      "Cleaning file: 2022-02-22.csv...\n",
      "Cleaning file: 2022-05-05.csv...\n"
     ]
    },
    {
     "name": "stderr",
     "output_type": "stream",
     "text": [
      " 31%|███       | 279/898 [00:12<00:29, 21.06it/s]"
     ]
    },
    {
     "name": "stdout",
     "output_type": "stream",
     "text": [
      "Cleaning file: 2020-03-24.csv...\n",
      "Cleaning file: 2022-09-27.csv...\n",
      "Cleaning file: 2021-12-19.csv...\n",
      "Cleaning file: 2020-03-31.csv...\n",
      "Cleaning file: 2020-03-23.csv...\n"
     ]
    },
    {
     "name": "stderr",
     "output_type": "stream",
     "text": [
      " 32%|███▏      | 285/898 [00:12<00:28, 21.68it/s]"
     ]
    },
    {
     "name": "stdout",
     "output_type": "stream",
     "text": [
      "Cleaning file: 2021-12-01.csv...\n",
      "Cleaning file: 2022-05-09.csv...\n",
      "Cleaning file: 2020-04-05.csv...\n",
      "Cleaning file: 2020-05-25.csv...\n",
      "Cleaning file: 2020-09-19.csv...\n"
     ]
    },
    {
     "name": "stderr",
     "output_type": "stream",
     "text": [
      " 32%|███▏      | 291/898 [00:13<00:26, 23.13it/s]"
     ]
    },
    {
     "name": "stdout",
     "output_type": "stream",
     "text": [
      "Cleaning file: 2022-06-07.csv...\n",
      "Cleaning file: 2021-12-17.csv...\n",
      "Cleaning file: 2020-03-10.csv...\n",
      "Cleaning file: 2022-01-26.csv...\n",
      "Cleaning file: 2021-08-13.csv...\n",
      "Cleaning file: 2020-07-18.csv...\n"
     ]
    },
    {
     "name": "stderr",
     "output_type": "stream",
     "text": [
      " 33%|███▎      | 294/898 [00:13<00:27, 22.35it/s]"
     ]
    },
    {
     "name": "stdout",
     "output_type": "stream",
     "text": [
      "Cleaning file: 2020-06-23.csv...\n",
      "Cleaning file: 2020-07-25.csv...\n",
      "Cleaning file: 2020-12-30.csv...\n",
      "Cleaning file: 2020-04-08.csv...\n",
      "Cleaning file: 2020-07-21.csv...\n"
     ]
    },
    {
     "name": "stderr",
     "output_type": "stream",
     "text": [
      " 33%|███▎      | 300/898 [00:13<00:25, 23.00it/s]"
     ]
    },
    {
     "name": "stdout",
     "output_type": "stream",
     "text": [
      "Cleaning file: 2020-03-09.csv...\n",
      "Cleaning file: 2020-06-19.csv...\n",
      "Cleaning file: 2020-02-05.csv...\n",
      "Cleaning file: 2022-01-07.csv...\n",
      "Cleaning file: 2020-10-28.csv...\n"
     ]
    },
    {
     "name": "stderr",
     "output_type": "stream",
     "text": [
      " 34%|███▍      | 306/898 [00:13<00:25, 23.42it/s]"
     ]
    },
    {
     "name": "stdout",
     "output_type": "stream",
     "text": [
      "Cleaning file: 2020-02-27.csv...\n",
      "Cleaning file: 2020-08-15.csv...\n",
      "Cleaning file: 2021-10-16.csv...\n",
      "Cleaning file: 2020-05-19.csv...\n",
      "Cleaning file: 2020-07-13.csv...\n"
     ]
    },
    {
     "name": "stderr",
     "output_type": "stream",
     "text": [
      " 34%|███▍      | 309/898 [00:13<00:24, 23.68it/s]"
     ]
    },
    {
     "name": "stdout",
     "output_type": "stream",
     "text": [
      "Cleaning file: 2020-04-03.csv...\n",
      "Cleaning file: 2021-11-28.csv...\n",
      "Cleaning file: 2019-12-02.csv...\n",
      "Cleaning file: 2020-11-16.csv...\n",
      "Cleaning file: 2021-08-21.csv...\n"
     ]
    },
    {
     "name": "stderr",
     "output_type": "stream",
     "text": [
      " 35%|███▌      | 315/898 [00:14<00:24, 24.28it/s]"
     ]
    },
    {
     "name": "stdout",
     "output_type": "stream",
     "text": [
      "Cleaning file: 2021-10-10.csv...\n",
      "Cleaning file: 2020-01-10.csv...\n",
      "Cleaning file: 2021-08-02.csv...\n",
      "Cleaning file: 2021-03-06.csv...\n",
      "Cleaning file: 2020-03-28.csv...\n",
      "Cleaning file: 2021-01-04.csv...\n"
     ]
    },
    {
     "name": "stderr",
     "output_type": "stream",
     "text": [
      " 36%|███▌      | 321/898 [00:14<00:23, 24.12it/s]"
     ]
    },
    {
     "name": "stdout",
     "output_type": "stream",
     "text": [
      "Cleaning file: 2019-12-11.csv...\n",
      "Cleaning file: 2021-02-15.csv...\n",
      "Cleaning file: 2020-02-26.csv...\n",
      "Cleaning file: 2020-10-10.csv...\n",
      "Cleaning file: 2022-01-03.csv...\n",
      "Cleaning file: 2019-12-01.csv...\n"
     ]
    },
    {
     "name": "stderr",
     "output_type": "stream",
     "text": [
      " 36%|███▋      | 327/898 [00:14<00:25, 21.98it/s]"
     ]
    },
    {
     "name": "stdout",
     "output_type": "stream",
     "text": [
      "Cleaning file: 2021-11-21.csv...\n",
      "Cleaning file: 2021-11-06.csv...\n",
      "Cleaning file: 2021-11-20.csv...\n",
      "Cleaning file: 2020-06-10.csv...\n",
      "Cleaning file: 2021-07-15.csv...\n"
     ]
    },
    {
     "name": "stderr",
     "output_type": "stream",
     "text": [
      " 37%|███▋      | 333/898 [00:14<00:25, 22.47it/s]"
     ]
    },
    {
     "name": "stdout",
     "output_type": "stream",
     "text": [
      "Cleaning file: 2021-12-04.csv...\n",
      "Cleaning file: 2021-03-19.csv...\n",
      "Cleaning file: 2022-08-07.csv...\n",
      "Cleaning file: 2021-03-27.csv...\n",
      "Cleaning file: 2022-01-16.csv...\n"
     ]
    },
    {
     "name": "stderr",
     "output_type": "stream",
     "text": [
      " 37%|███▋      | 336/898 [00:14<00:25, 21.83it/s]"
     ]
    },
    {
     "name": "stdout",
     "output_type": "stream",
     "text": [
      "Cleaning file: 2020-10-08.csv...\n",
      "Cleaning file: 2021-01-31.csv...\n",
      "Cleaning file: 2021-06-10.csv...\n",
      "Cleaning file: 2022-07-10.csv...\n",
      "Cleaning file: 2022-10-05.csv...\n"
     ]
    },
    {
     "name": "stderr",
     "output_type": "stream",
     "text": [
      " 38%|███▊      | 342/898 [00:15<00:27, 20.13it/s]"
     ]
    },
    {
     "name": "stdout",
     "output_type": "stream",
     "text": [
      "Cleaning file: 2021-04-02.csv...\n",
      "Cleaning file: 2021-06-27.csv...\n",
      "Cleaning file: 2019-12-05.csv...\n",
      "Cleaning file: 2019-12-08.csv...\n"
     ]
    },
    {
     "name": "stderr",
     "output_type": "stream",
     "text": [
      " 38%|███▊      | 345/898 [00:15<00:27, 20.01it/s]"
     ]
    },
    {
     "name": "stdout",
     "output_type": "stream",
     "text": [
      "Cleaning file: 2020-01-27.csv...\n",
      "Cleaning file: 2022-10-08.csv...\n",
      "Cleaning file: 2020-10-17.csv...\n",
      "Cleaning file: 2020-04-14.csv...\n",
      "Cleaning file: 2022-06-27.csv...\n"
     ]
    },
    {
     "name": "stderr",
     "output_type": "stream",
     "text": [
      " 39%|███▉      | 351/898 [00:15<00:26, 20.57it/s]"
     ]
    },
    {
     "name": "stdout",
     "output_type": "stream",
     "text": [
      "Cleaning file: 2020-12-09.csv...\n",
      "Cleaning file: 2021-10-02.csv...\n",
      "Cleaning file: 2020-10-25.csv...\n",
      "Cleaning file: 2020-03-01.csv...\n",
      "Cleaning file: 2022-08-02.csv...\n"
     ]
    },
    {
     "name": "stderr",
     "output_type": "stream",
     "text": [
      " 40%|███▉      | 357/898 [00:16<00:25, 20.92it/s]"
     ]
    },
    {
     "name": "stdout",
     "output_type": "stream",
     "text": [
      "Cleaning file: 2020-02-28.csv...\n",
      "Cleaning file: 2022-09-09.csv...\n",
      "Cleaning file: 2021-06-17.csv...\n",
      "Cleaning file: 2021-10-24.csv...\n",
      "Cleaning file: 2021-06-19.csv...\n"
     ]
    },
    {
     "name": "stderr",
     "output_type": "stream",
     "text": [
      " 40%|████      | 360/898 [00:16<00:25, 20.90it/s]"
     ]
    },
    {
     "name": "stdout",
     "output_type": "stream",
     "text": [
      "Cleaning file: 2022-09-15.csv...\n",
      "Cleaning file: 2021-01-19.csv...\n",
      "Cleaning file: 2019-12-20.csv...\n",
      "Cleaning file: 2020-12-03.csv...\n",
      "Cleaning file: 2020-07-06.csv...\n"
     ]
    },
    {
     "name": "stderr",
     "output_type": "stream",
     "text": [
      " 41%|████      | 366/898 [00:16<00:24, 21.71it/s]"
     ]
    },
    {
     "name": "stdout",
     "output_type": "stream",
     "text": [
      "Cleaning file: 2020-12-06.csv...\n",
      "Cleaning file: 2022-08-20.csv...\n",
      "Cleaning file: 2022-08-28.csv...\n",
      "Cleaning file: 2020-03-20.csv...\n",
      "Cleaning file: 2019-12-04.csv...\n"
     ]
    },
    {
     "name": "stderr",
     "output_type": "stream",
     "text": [
      " 41%|████▏     | 372/898 [00:16<00:24, 21.26it/s]"
     ]
    },
    {
     "name": "stdout",
     "output_type": "stream",
     "text": [
      "Cleaning file: 2020-07-26.csv...\n",
      "Cleaning file: 2019-11-28.csv...\n",
      "Cleaning file: 2021-02-17.csv...\n",
      "Cleaning file: 2021-12-25.csv...\n",
      "Cleaning file: 2021-12-30.csv...\n"
     ]
    },
    {
     "name": "stderr",
     "output_type": "stream",
     "text": [
      " 42%|████▏     | 375/898 [00:16<00:25, 20.75it/s]"
     ]
    },
    {
     "name": "stdout",
     "output_type": "stream",
     "text": [
      "Cleaning file: 2021-09-23.csv...\n",
      "Cleaning file: 2021-05-08.csv...\n",
      "Cleaning file: 2020-04-15.csv...\n",
      "Cleaning file: 2021-05-21.csv...\n",
      "Cleaning file: 2020-05-15.csv...\n"
     ]
    },
    {
     "name": "stderr",
     "output_type": "stream",
     "text": [
      " 42%|████▏     | 381/898 [00:17<00:25, 20.24it/s]"
     ]
    },
    {
     "name": "stdout",
     "output_type": "stream",
     "text": [
      "Cleaning file: 2021-09-05.csv...\n",
      "Cleaning file: 2021-05-09.csv...\n",
      "Cleaning file: 2020-07-04.csv...\n",
      "Cleaning file: 2021-02-01.csv...\n"
     ]
    },
    {
     "name": "stderr",
     "output_type": "stream",
     "text": [
      " 43%|████▎     | 384/898 [00:17<00:26, 19.51it/s]"
     ]
    },
    {
     "name": "stdout",
     "output_type": "stream",
     "text": [
      "Cleaning file: 2021-07-01.csv...\n",
      "Cleaning file: 2019-12-22.csv...\n",
      "Cleaning file: 2021-01-11.csv...\n",
      "Cleaning file: 2020-04-01.csv...\n"
     ]
    },
    {
     "name": "stderr",
     "output_type": "stream",
     "text": [
      " 43%|████▎     | 390/898 [00:17<00:25, 20.23it/s]"
     ]
    },
    {
     "name": "stdout",
     "output_type": "stream",
     "text": [
      "Cleaning file: 2021-09-07.csv...\n",
      "Cleaning file: 2020-11-21.csv...\n",
      "Cleaning file: 2020-06-06.csv...\n",
      "Cleaning file: 2022-08-05.csv...\n",
      "Cleaning file: 2021-01-30.csv...\n"
     ]
    },
    {
     "name": "stderr",
     "output_type": "stream",
     "text": [
      " 44%|████▍     | 393/898 [00:17<00:25, 19.91it/s]"
     ]
    },
    {
     "name": "stdout",
     "output_type": "stream",
     "text": [
      "Cleaning file: 2022-08-04.csv...\n",
      "Cleaning file: 2020-03-13.csv...\n",
      "Cleaning file: 2022-09-20.csv...\n",
      "Cleaning file: 2020-02-16.csv...\n"
     ]
    },
    {
     "name": "stderr",
     "output_type": "stream",
     "text": [
      " 44%|████▍     | 397/898 [00:17<00:25, 19.54it/s]"
     ]
    },
    {
     "name": "stdout",
     "output_type": "stream",
     "text": [
      "Cleaning file: 2021-12-22.csv...\n",
      "Cleaning file: 2021-09-17.csv...\n",
      "Cleaning file: 2020-07-17.csv...\n",
      "Cleaning file: 2021-12-23.csv...\n",
      "Cleaning file: 2022-07-20.csv...\n"
     ]
    },
    {
     "name": "stderr",
     "output_type": "stream",
     "text": [
      " 45%|████▍     | 403/898 [00:18<00:23, 20.80it/s]"
     ]
    },
    {
     "name": "stdout",
     "output_type": "stream",
     "text": [
      "Cleaning file: 2022-02-03.csv...\n",
      "Cleaning file: 2021-03-26.csv...\n",
      "Cleaning file: 2020-09-14.csv...\n",
      "Cleaning file: 2020-01-14.csv...\n",
      "Cleaning file: 2021-02-20.csv...\n"
     ]
    },
    {
     "name": "stderr",
     "output_type": "stream",
     "text": [
      " 46%|████▌     | 409/898 [00:18<00:21, 22.79it/s]"
     ]
    },
    {
     "name": "stdout",
     "output_type": "stream",
     "text": [
      "Cleaning file: 2020-05-11.csv...\n",
      "Cleaning file: 2021-10-12.csv...\n",
      "Cleaning file: 2021-11-15.csv...\n",
      "Cleaning file: 2022-02-08.csv...\n",
      "Cleaning file: 2019-12-23.csv...\n"
     ]
    },
    {
     "name": "stderr",
     "output_type": "stream",
     "text": [
      " 46%|████▌     | 415/898 [00:18<00:20, 23.84it/s]"
     ]
    },
    {
     "name": "stdout",
     "output_type": "stream",
     "text": [
      "Cleaning file: 2021-06-26.csv...\n",
      "Cleaning file: 2022-09-29.csv...\n",
      "Cleaning file: 2022-07-22.csv...\n",
      "Cleaning file: 2020-09-17.csv...\n",
      "Cleaning file: 2021-07-09.csv...\n",
      "Cleaning file: 2020-05-27.csv...\n"
     ]
    },
    {
     "name": "stderr",
     "output_type": "stream",
     "text": [
      " 47%|████▋     | 421/898 [00:18<00:19, 24.64it/s]"
     ]
    },
    {
     "name": "stdout",
     "output_type": "stream",
     "text": [
      "Cleaning file: 2020-04-18.csv...\n",
      "Cleaning file: 2020-06-24.csv...\n",
      "Cleaning file: 2021-09-03.csv...\n",
      "Cleaning file: 2020-08-05.csv...\n",
      "Cleaning file: 2020-06-17.csv...\n",
      "Cleaning file: 2021-11-29.csv...\n"
     ]
    },
    {
     "name": "stderr",
     "output_type": "stream",
     "text": [
      " 47%|████▋     | 424/898 [00:19<00:19, 24.85it/s]"
     ]
    },
    {
     "name": "stdout",
     "output_type": "stream",
     "text": [
      "Cleaning file: 2022-09-30.csv...\n",
      "Cleaning file: 2021-11-19.csv...\n",
      "Cleaning file: 2019-12-15.csv...\n",
      "Cleaning file: 2022-04-09.csv...\n",
      "Cleaning file: 2020-11-15.csv...\n"
     ]
    },
    {
     "name": "stderr",
     "output_type": "stream",
     "text": [
      " 48%|████▊     | 430/898 [00:19<00:19, 23.49it/s]"
     ]
    },
    {
     "name": "stdout",
     "output_type": "stream",
     "text": [
      "Cleaning file: 2022-10-06.csv...\n",
      "Cleaning file: 2021-10-07.csv...\n",
      "Cleaning file: 2021-02-03.csv...\n",
      "Cleaning file: 2022-08-03.csv...\n",
      "Cleaning file: 2020-07-05.csv...\n"
     ]
    },
    {
     "name": "stderr",
     "output_type": "stream",
     "text": [
      " 49%|████▊     | 436/898 [00:19<00:20, 22.60it/s]"
     ]
    },
    {
     "name": "stdout",
     "output_type": "stream",
     "text": [
      "Cleaning file: 2020-10-03.csv...\n",
      "Cleaning file: 2022-09-06.csv...\n",
      "Cleaning file: 2020-11-29.csv...\n",
      "Cleaning file: 2020-07-23.csv...\n",
      "Cleaning file: 2020-02-07.csv...\n"
     ]
    },
    {
     "name": "stderr",
     "output_type": "stream",
     "text": [
      " 49%|████▉     | 439/898 [00:19<00:20, 22.43it/s]"
     ]
    },
    {
     "name": "stdout",
     "output_type": "stream",
     "text": [
      "Cleaning file: 2021-07-14.csv...\n",
      "Cleaning file: 2020-10-02.csv...\n",
      "Cleaning file: 2020-09-06.csv...\n",
      "Cleaning file: 2022-07-19.csv...\n",
      "Cleaning file: 2020-07-02.csv...\n"
     ]
    },
    {
     "name": "stderr",
     "output_type": "stream",
     "text": [
      " 50%|████▉     | 445/898 [00:20<00:20, 22.27it/s]"
     ]
    },
    {
     "name": "stdout",
     "output_type": "stream",
     "text": [
      "Cleaning file: 2020-07-03.csv...\n",
      "Cleaning file: 2021-04-26.csv...\n",
      "Cleaning file: 2020-06-04.csv...\n",
      "Cleaning file: 2022-08-15.csv...\n",
      "Cleaning file: 2022-02-09.csv...\n"
     ]
    },
    {
     "name": "stderr",
     "output_type": "stream",
     "text": [
      " 50%|█████     | 451/898 [00:20<00:20, 21.98it/s]"
     ]
    },
    {
     "name": "stdout",
     "output_type": "stream",
     "text": [
      "Cleaning file: 2021-06-04.csv...\n",
      "Cleaning file: 2021-11-16.csv...\n",
      "Cleaning file: 2022-05-02.csv...\n",
      "Cleaning file: 2022-03-04.csv...\n",
      "Cleaning file: 2021-01-09.csv...\n"
     ]
    },
    {
     "name": "stderr",
     "output_type": "stream",
     "text": [
      " 51%|█████     | 457/898 [00:20<00:18, 23.90it/s]"
     ]
    },
    {
     "name": "stdout",
     "output_type": "stream",
     "text": [
      "Cleaning file: 2021-02-12.csv...\n",
      "Cleaning file: 2021-03-01.csv...\n",
      "Cleaning file: 2021-10-17.csv...\n",
      "Cleaning file: 2022-08-11.csv...\n",
      "Cleaning file: 2020-08-29.csv...\n",
      "Cleaning file: 2021-12-27.csv...\n"
     ]
    },
    {
     "name": "stderr",
     "output_type": "stream",
     "text": [
      " 52%|█████▏    | 463/898 [00:20<00:17, 24.45it/s]"
     ]
    },
    {
     "name": "stdout",
     "output_type": "stream",
     "text": [
      "Cleaning file: 2020-10-24.csv...\n",
      "Cleaning file: 2021-06-12.csv...\n",
      "Cleaning file: 2020-01-23.csv...\n",
      "Cleaning file: 2022-07-07.csv...\n",
      "Cleaning file: 2020-06-28.csv...\n",
      "Cleaning file: 2020-08-24.csv...\n"
     ]
    },
    {
     "name": "stderr",
     "output_type": "stream",
     "text": [
      " 52%|█████▏    | 469/898 [00:21<00:17, 25.19it/s]"
     ]
    },
    {
     "name": "stdout",
     "output_type": "stream",
     "text": [
      "Cleaning file: 2022-08-26.csv...\n",
      "Cleaning file: 2021-12-06.csv...\n",
      "Cleaning file: 2021-09-20.csv...\n",
      "Cleaning file: 2020-03-16.csv...\n",
      "Cleaning file: 2021-01-24.csv...\n",
      "Cleaning file: 2021-02-23.csv...\n"
     ]
    },
    {
     "name": "stderr",
     "output_type": "stream",
     "text": [
      " 53%|█████▎    | 475/898 [00:21<00:16, 25.22it/s]"
     ]
    },
    {
     "name": "stdout",
     "output_type": "stream",
     "text": [
      "Cleaning file: 2020-04-13.csv...\n",
      "Cleaning file: 2022-01-06.csv...\n",
      "Cleaning file: 2020-05-20.csv...\n",
      "Cleaning file: 2020-10-05.csv...\n",
      "Cleaning file: 2022-04-10.csv...\n",
      "Cleaning file: 2020-04-04.csv...\n"
     ]
    },
    {
     "name": "stderr",
     "output_type": "stream",
     "text": [
      " 54%|█████▎    | 481/898 [00:21<00:16, 24.89it/s]"
     ]
    },
    {
     "name": "stdout",
     "output_type": "stream",
     "text": [
      "Cleaning file: 2019-12-28.csv...\n",
      "Cleaning file: 2020-12-24.csv...\n",
      "Cleaning file: 2020-07-24.csv...\n",
      "Cleaning file: 2021-10-11.csv...\n",
      "Cleaning file: 2021-04-28.csv...\n",
      "Cleaning file: 2020-11-11.csv...\n"
     ]
    },
    {
     "name": "stderr",
     "output_type": "stream",
     "text": [
      " 54%|█████▍    | 484/898 [00:21<00:17, 23.86it/s]"
     ]
    },
    {
     "name": "stdout",
     "output_type": "stream",
     "text": [
      "Cleaning file: 2020-01-02.csv...\n",
      "Cleaning file: 2020-02-06.csv...\n",
      "Cleaning file: 2022-01-14.csv...\n",
      "Cleaning file: 2022-05-17.csv...\n",
      "Cleaning file: 2019-12-16.csv...\n"
     ]
    },
    {
     "name": "stderr",
     "output_type": "stream",
     "text": [
      " 55%|█████▍    | 490/898 [00:21<00:17, 23.12it/s]"
     ]
    },
    {
     "name": "stdout",
     "output_type": "stream",
     "text": [
      "Cleaning file: 2021-10-23.csv...\n",
      "Cleaning file: 2020-12-29.csv...\n",
      "Cleaning file: 2022-05-06.csv...\n",
      "Cleaning file: 2020-10-29.csv...\n",
      "Cleaning file: 2021-03-09.csv...\n",
      "Cleaning file: 2020-08-23.csv...\n"
     ]
    },
    {
     "name": "stderr",
     "output_type": "stream",
     "text": [
      " 55%|█████▌    | 496/898 [00:22<00:16, 24.34it/s]"
     ]
    },
    {
     "name": "stdout",
     "output_type": "stream",
     "text": [
      "Cleaning file: 2020-08-21.csv...\n",
      "Cleaning file: 2020-05-09.csv...\n",
      "Cleaning file: 2022-01-28.csv...\n",
      "Cleaning file: 2022-04-07.csv...\n",
      "Cleaning file: 2020-02-03.csv...\n",
      "Cleaning file: 2021-10-04.csv...\n"
     ]
    },
    {
     "name": "stderr",
     "output_type": "stream",
     "text": [
      " 56%|█████▌    | 502/898 [00:22<00:15, 25.17it/s]"
     ]
    },
    {
     "name": "stdout",
     "output_type": "stream",
     "text": [
      "Cleaning file: 2022-02-20.csv...\n",
      "Cleaning file: 2022-02-06.csv...\n",
      "Cleaning file: 2021-06-23.csv...\n",
      "Cleaning file: 2020-11-19.csv...\n",
      "Cleaning file: 2020-08-28.csv...\n"
     ]
    },
    {
     "name": "stderr",
     "output_type": "stream",
     "text": [
      " 57%|█████▋    | 508/898 [00:22<00:17, 22.72it/s]"
     ]
    },
    {
     "name": "stdout",
     "output_type": "stream",
     "text": [
      "Cleaning file: 2020-04-30.csv...\n",
      "Cleaning file: 2020-05-30.csv...\n",
      "Cleaning file: 2020-11-26.csv...\n",
      "Cleaning file: 2021-02-16.csv...\n",
      "Cleaning file: 2020-12-10.csv...\n"
     ]
    },
    {
     "name": "stderr",
     "output_type": "stream",
     "text": [
      " 57%|█████▋    | 511/898 [00:22<00:18, 21.38it/s]"
     ]
    },
    {
     "name": "stdout",
     "output_type": "stream",
     "text": [
      "Cleaning file: 2020-12-22.csv...\n",
      "Cleaning file: 2021-06-03.csv...\n",
      "Cleaning file: 2020-07-29.csv...\n",
      "Cleaning file: 2020-03-30.csv...\n",
      "Cleaning file: 2019-12-13.csv...\n"
     ]
    },
    {
     "name": "stderr",
     "output_type": "stream",
     "text": [
      " 58%|█████▊    | 517/898 [00:23<00:15, 23.90it/s]"
     ]
    },
    {
     "name": "stdout",
     "output_type": "stream",
     "text": [
      "Cleaning file: 2022-03-27.csv...\n",
      "Cleaning file: 2022-08-13.csv...\n",
      "Cleaning file: 2022-03-24.csv...\n",
      "Cleaning file: 2021-09-16.csv...\n",
      "Cleaning file: 2021-06-29.csv...\n",
      "Cleaning file: 2020-05-28.csv...\n"
     ]
    },
    {
     "name": "stderr",
     "output_type": "stream",
     "text": [
      " 58%|█████▊    | 523/898 [00:23<00:15, 24.17it/s]"
     ]
    },
    {
     "name": "stdout",
     "output_type": "stream",
     "text": [
      "Cleaning file: 2021-10-09.csv...\n",
      "Cleaning file: 2020-03-04.csv...\n",
      "Cleaning file: 2022-01-27.csv...\n",
      "Cleaning file: 2020-01-31.csv...\n",
      "Cleaning file: 2021-03-12.csv...\n",
      "Cleaning file: 2020-12-21.csv...\n"
     ]
    },
    {
     "name": "stderr",
     "output_type": "stream",
     "text": [
      " 59%|█████▉    | 529/898 [00:23<00:14, 25.12it/s]"
     ]
    },
    {
     "name": "stdout",
     "output_type": "stream",
     "text": [
      "Cleaning file: 2021-10-08.csv...\n",
      "Cleaning file: 2020-03-29.csv...\n",
      "Cleaning file: 2020-01-06.csv...\n",
      "Cleaning file: 2022-02-23.csv...\n",
      "Cleaning file: 2022-04-02.csv...\n",
      "Cleaning file: 2020-09-18.csv...\n"
     ]
    },
    {
     "name": "stderr",
     "output_type": "stream",
     "text": [
      " 60%|█████▉    | 535/898 [00:23<00:14, 25.19it/s]"
     ]
    },
    {
     "name": "stdout",
     "output_type": "stream",
     "text": [
      "Cleaning file: 2021-05-29.csv...\n",
      "Cleaning file: 2021-04-29.csv...\n",
      "Cleaning file: 2022-03-05.csv...\n",
      "Cleaning file: 2022-09-04.csv...\n",
      "Cleaning file: 2022-07-23.csv...\n"
     ]
    },
    {
     "name": "stderr",
     "output_type": "stream",
     "text": [
      " 60%|██████    | 541/898 [00:24<00:14, 23.89it/s]"
     ]
    },
    {
     "name": "stdout",
     "output_type": "stream",
     "text": [
      "Cleaning file: 2022-09-24.csv...\n",
      "Cleaning file: 2020-05-12.csv...\n",
      "Cleaning file: 2020-09-01.csv...\n",
      "Cleaning file: 2020-01-03.csv...\n",
      "Cleaning file: 2020-09-04.csv...\n"
     ]
    },
    {
     "name": "stderr",
     "output_type": "stream",
     "text": [
      " 61%|██████    | 544/898 [00:24<00:14, 23.78it/s]"
     ]
    },
    {
     "name": "stdout",
     "output_type": "stream",
     "text": [
      "Cleaning file: 2022-02-28.csv...\n",
      "Cleaning file: 2022-07-01.csv...\n",
      "Cleaning file: 2022-05-04.csv...\n",
      "Cleaning file: 2020-03-02.csv...\n",
      "Cleaning file: 2020-02-29.csv...\n"
     ]
    },
    {
     "name": "stderr",
     "output_type": "stream",
     "text": [
      " 61%|██████    | 550/898 [00:24<00:14, 24.22it/s]"
     ]
    },
    {
     "name": "stdout",
     "output_type": "stream",
     "text": [
      "Cleaning file: 2022-04-06.csv...\n",
      "Cleaning file: 2021-05-16.csv...\n",
      "Cleaning file: 2020-12-15.csv...\n",
      "Cleaning file: 2021-09-25.csv...\n",
      "Cleaning file: 2020-07-28.csv...\n"
     ]
    },
    {
     "name": "stderr",
     "output_type": "stream",
     "text": [
      " 62%|██████▏   | 556/898 [00:24<00:14, 23.67it/s]"
     ]
    },
    {
     "name": "stdout",
     "output_type": "stream",
     "text": [
      "Cleaning file: 2020-05-08.csv...\n",
      "Cleaning file: 2021-08-22.csv...\n",
      "Cleaning file: 2020-08-14.csv...\n",
      "Cleaning file: 2022-06-04.csv...\n",
      "Cleaning file: 2022-03-01.csv...\n"
     ]
    },
    {
     "name": "stderr",
     "output_type": "stream",
     "text": [
      " 63%|██████▎   | 562/898 [00:24<00:13, 24.10it/s]"
     ]
    },
    {
     "name": "stdout",
     "output_type": "stream",
     "text": [
      "Cleaning file: 2022-05-13.csv...\n",
      "Cleaning file: 2020-09-09.csv...\n",
      "Cleaning file: 2021-03-24.csv...\n",
      "Cleaning file: 2021-09-02.csv...\n",
      "Cleaning file: 2020-11-17.csv...\n"
     ]
    },
    {
     "name": "stderr",
     "output_type": "stream",
     "text": [
      " 63%|██████▎   | 565/898 [00:25<00:13, 24.78it/s]"
     ]
    },
    {
     "name": "stdout",
     "output_type": "stream",
     "text": [
      "Cleaning file: 2022-07-05.csv...\n",
      "Cleaning file: 2020-09-11.csv...\n",
      "Cleaning file: 2020-08-07.csv...\n",
      "Cleaning file: 2021-08-31.csv...\n",
      "Cleaning file: 2021-03-25.csv...\n",
      "Cleaning file: 2020-11-23.csv...\n"
     ]
    },
    {
     "name": "stderr",
     "output_type": "stream",
     "text": [
      " 64%|██████▎   | 571/898 [00:25<00:14, 21.82it/s]"
     ]
    },
    {
     "name": "stdout",
     "output_type": "stream",
     "text": [
      "Cleaning file: 2020-10-18.csv...\n",
      "Cleaning file: 2022-04-23.csv...\n",
      "Cleaning file: 2020-01-25.csv...\n",
      "Cleaning file: 2021-07-11.csv...\n"
     ]
    },
    {
     "name": "stderr",
     "output_type": "stream",
     "text": [
      " 64%|██████▍   | 574/898 [00:25<00:16, 20.19it/s]"
     ]
    },
    {
     "name": "stdout",
     "output_type": "stream",
     "text": [
      "Cleaning file: 2021-02-27.csv...\n",
      "Cleaning file: 2020-12-23.csv...\n",
      "Cleaning file: 2022-06-19.csv...\n",
      "Cleaning file: 2020-08-22.csv...\n"
     ]
    },
    {
     "name": "stderr",
     "output_type": "stream",
     "text": [
      " 64%|██████▍   | 577/898 [00:25<00:16, 19.63it/s]"
     ]
    },
    {
     "name": "stdout",
     "output_type": "stream",
     "text": [
      "Cleaning file: 2021-10-29.csv...\n",
      "Cleaning file: 2022-05-15.csv...\n",
      "Cleaning file: 2022-09-25.csv...\n",
      "Cleaning file: 2022-08-21.csv...\n"
     ]
    },
    {
     "name": "stderr",
     "output_type": "stream",
     "text": [
      " 65%|██████▍   | 583/898 [00:25<00:15, 20.99it/s]"
     ]
    },
    {
     "name": "stdout",
     "output_type": "stream",
     "text": [
      "Cleaning file: 2021-07-30.csv...\n",
      "Cleaning file: 2022-05-18.csv...\n",
      "Cleaning file: 2021-02-22.csv...\n",
      "Cleaning file: 2020-06-15.csv...\n",
      "Cleaning file: 2020-02-22.csv...\n",
      "Cleaning file: 2021-12-02.csv...\n"
     ]
    },
    {
     "name": "stderr",
     "output_type": "stream",
     "text": [
      " 66%|██████▌   | 589/898 [00:26<00:13, 23.34it/s]"
     ]
    },
    {
     "name": "stdout",
     "output_type": "stream",
     "text": [
      "Cleaning file: 2020-07-08.csv...\n",
      "Cleaning file: 2020-01-19.csv...\n",
      "Cleaning file: 2022-09-17.csv...\n",
      "Cleaning file: 2021-09-27.csv...\n",
      "Cleaning file: 2020-08-16.csv...\n",
      "Cleaning file: 2021-12-15.csv...\n"
     ]
    },
    {
     "name": "stderr",
     "output_type": "stream",
     "text": [
      " 66%|██████▋   | 595/898 [00:26<00:12, 23.91it/s]"
     ]
    },
    {
     "name": "stdout",
     "output_type": "stream",
     "text": [
      "Cleaning file: 2020-09-25.csv...\n",
      "Cleaning file: 2020-08-03.csv...\n",
      "Cleaning file: 2020-02-18.csv...\n",
      "Cleaning file: 2020-08-30.csv...\n",
      "Cleaning file: 2021-12-10.csv...\n"
     ]
    },
    {
     "name": "stderr",
     "output_type": "stream",
     "text": [
      " 67%|██████▋   | 601/898 [00:26<00:12, 23.86it/s]"
     ]
    },
    {
     "name": "stdout",
     "output_type": "stream",
     "text": [
      "Cleaning file: 2021-02-19.csv...\n",
      "Cleaning file: 2019-11-25.csv...\n",
      "Cleaning file: 2020-01-30.csv...\n",
      "Cleaning file: 2021-09-22.csv...\n",
      "Cleaning file: 2021-04-13.csv...\n",
      "Cleaning file: 2022-02-12.csv...\n"
     ]
    },
    {
     "name": "stderr",
     "output_type": "stream",
     "text": [
      " 68%|██████▊   | 607/898 [00:26<00:11, 24.70it/s]"
     ]
    },
    {
     "name": "stdout",
     "output_type": "stream",
     "text": [
      "Cleaning file: 2020-09-21.csv...\n",
      "Cleaning file: 2019-12-14.csv...\n",
      "Cleaning file: 2021-12-31.csv...\n",
      "Cleaning file: 2021-03-16.csv...\n",
      "Cleaning file: 2020-06-21.csv...\n",
      "Cleaning file: 2021-08-28.csv...\n"
     ]
    },
    {
     "name": "stderr",
     "output_type": "stream",
     "text": [
      " 68%|██████▊   | 613/898 [00:27<00:12, 22.39it/s]"
     ]
    },
    {
     "name": "stdout",
     "output_type": "stream",
     "text": [
      "Cleaning file: 2021-08-26.csv...\n",
      "Cleaning file: 2021-09-29.csv...\n",
      "Cleaning file: 2021-01-10.csv...\n",
      "Cleaning file: 2021-01-16.csv...\n",
      "Cleaning file: 2022-01-01.csv...\n"
     ]
    },
    {
     "name": "stderr",
     "output_type": "stream",
     "text": [
      " 69%|██████▊   | 616/898 [00:27<00:13, 21.59it/s]"
     ]
    },
    {
     "name": "stdout",
     "output_type": "stream",
     "text": [
      "Cleaning file: 2022-04-04.csv...\n",
      "Cleaning file: 2022-01-23.csv...\n",
      "Cleaning file: 2020-12-25.csv...\n",
      "Cleaning file: 2020-03-03.csv...\n",
      "Cleaning file: 2021-11-12.csv...\n"
     ]
    },
    {
     "name": "stderr",
     "output_type": "stream",
     "text": [
      " 69%|██████▉   | 622/898 [00:27<00:12, 22.98it/s]"
     ]
    },
    {
     "name": "stdout",
     "output_type": "stream",
     "text": [
      "Cleaning file: 2021-05-23.csv...\n",
      "Cleaning file: 2021-04-27.csv...\n",
      "Cleaning file: 2022-08-27.csv...\n",
      "Cleaning file: 2020-06-27.csv...\n",
      "Cleaning file: 2020-09-03.csv...\n",
      "Cleaning file: 2021-12-26.csv...\n"
     ]
    },
    {
     "name": "stderr",
     "output_type": "stream",
     "text": [
      " 70%|██████▉   | 628/898 [00:27<00:11, 24.22it/s]"
     ]
    },
    {
     "name": "stdout",
     "output_type": "stream",
     "text": [
      "Cleaning file: 2021-01-26.csv...\n",
      "Cleaning file: 2021-11-03.csv...\n",
      "Cleaning file: 2020-02-02.csv...\n",
      "Cleaning file: 2020-03-17.csv...\n",
      "Cleaning file: 2021-11-27.csv...\n",
      "Cleaning file: 2021-04-25.csv...\n"
     ]
    },
    {
     "name": "stderr",
     "output_type": "stream",
     "text": [
      " 71%|███████   | 634/898 [00:28<00:10, 24.99it/s]"
     ]
    },
    {
     "name": "stdout",
     "output_type": "stream",
     "text": [
      "Cleaning file: 2020-10-09.csv...\n",
      "Cleaning file: 2021-02-02.csv...\n",
      "Cleaning file: 2020-02-14.csv...\n",
      "Cleaning file: 2021-08-11.csv...\n",
      "Cleaning file: 2021-11-14.csv...\n",
      "Cleaning file: 2021-10-31.csv...\n"
     ]
    },
    {
     "name": "stderr",
     "output_type": "stream",
     "text": [
      " 71%|███████▏  | 640/898 [00:28<00:10, 23.76it/s]"
     ]
    },
    {
     "name": "stdout",
     "output_type": "stream",
     "text": [
      "Cleaning file: 2020-02-10.csv...\n",
      "Cleaning file: 2020-06-29.csv...\n",
      "Cleaning file: 2022-02-26.csv...\n",
      "Cleaning file: 2022-09-07.csv...\n",
      "Cleaning file: 2021-11-02.csv...\n"
     ]
    },
    {
     "name": "stderr",
     "output_type": "stream",
     "text": [
      " 72%|███████▏  | 646/898 [00:28<00:10, 23.39it/s]"
     ]
    },
    {
     "name": "stdout",
     "output_type": "stream",
     "text": [
      "Cleaning file: 2021-06-24.csv...\n",
      "Cleaning file: 2022-01-17.csv...\n",
      "Cleaning file: 2022-05-07.csv...\n",
      "Cleaning file: 2022-01-29.csv...\n",
      "Cleaning file: 2020-05-23.csv...\n"
     ]
    },
    {
     "name": "stderr",
     "output_type": "stream",
     "text": [
      " 72%|███████▏  | 649/898 [00:28<00:10, 24.08it/s]"
     ]
    },
    {
     "name": "stdout",
     "output_type": "stream",
     "text": [
      "Cleaning file: 2021-12-20.csv...\n",
      "Cleaning file: 2020-06-09.csv...\n",
      "Cleaning file: 2020-12-05.csv...\n",
      "Cleaning file: 2020-11-25.csv...\n",
      "Cleaning file: 2021-03-10.csv...\n"
     ]
    },
    {
     "name": "stderr",
     "output_type": "stream",
     "text": [
      " 73%|███████▎  | 655/898 [00:28<00:10, 22.98it/s]"
     ]
    },
    {
     "name": "stdout",
     "output_type": "stream",
     "text": [
      "Cleaning file: 2020-04-12.csv...\n",
      "Cleaning file: 2022-05-19.csv...\n",
      "Cleaning file: 2020-06-08.csv...\n",
      "Cleaning file: 2021-03-17.csv...\n",
      "Cleaning file: 2021-11-10.csv...\n"
     ]
    },
    {
     "name": "stderr",
     "output_type": "stream",
     "text": [
      " 74%|███████▎  | 661/898 [00:29<00:10, 21.96it/s]"
     ]
    },
    {
     "name": "stdout",
     "output_type": "stream",
     "text": [
      "Cleaning file: 2022-08-10.csv...\n",
      "Cleaning file: 2021-12-05.csv...\n",
      "Cleaning file: 2020-05-17.csv...\n",
      "Cleaning file: 2022-08-09.csv...\n",
      "Cleaning file: 2022-04-12.csv...\n"
     ]
    },
    {
     "name": "stderr",
     "output_type": "stream",
     "text": [
      " 74%|███████▍  | 664/898 [00:29<00:10, 22.05it/s]"
     ]
    },
    {
     "name": "stdout",
     "output_type": "stream",
     "text": [
      "Cleaning file: 2020-04-23.csv...\n",
      "Cleaning file: 2022-07-17.csv...\n",
      "Cleaning file: 2022-07-29.csv...\n",
      "Cleaning file: 2020-09-26.csv...\n",
      "Cleaning file: 2020-08-27.csv...\n"
     ]
    },
    {
     "name": "stderr",
     "output_type": "stream",
     "text": [
      " 75%|███████▍  | 670/898 [00:29<00:10, 22.63it/s]"
     ]
    },
    {
     "name": "stdout",
     "output_type": "stream",
     "text": [
      "Cleaning file: 2020-09-28.csv...\n",
      "Cleaning file: 2019-12-30.csv...\n",
      "Cleaning file: 2020-03-07.csv...\n",
      "Cleaning file: 2021-01-22.csv...\n",
      "Cleaning file: 2020-07-27.csv...\n"
     ]
    },
    {
     "name": "stderr",
     "output_type": "stream",
     "text": [
      " 75%|███████▌  | 676/898 [00:29<00:09, 22.29it/s]"
     ]
    },
    {
     "name": "stdout",
     "output_type": "stream",
     "text": [
      "Cleaning file: 2021-06-05.csv...\n",
      "Cleaning file: 2020-06-02.csv...\n",
      "Cleaning file: 2021-10-03.csv...\n",
      "Cleaning file: 2022-06-05.csv...\n",
      "Cleaning file: 2022-08-08.csv...\n"
     ]
    },
    {
     "name": "stderr",
     "output_type": "stream",
     "text": [
      " 76%|███████▌  | 682/898 [00:30<00:09, 23.32it/s]"
     ]
    },
    {
     "name": "stdout",
     "output_type": "stream",
     "text": [
      "Cleaning file: 2020-12-27.csv...\n",
      "Cleaning file: 2020-09-20.csv...\n",
      "Cleaning file: 2021-03-13.csv...\n",
      "Cleaning file: 2022-09-10.csv...\n",
      "Cleaning file: 2021-06-07.csv...\n",
      "Cleaning file: 2021-12-12.csv...\n"
     ]
    },
    {
     "name": "stderr",
     "output_type": "stream",
     "text": [
      " 77%|███████▋  | 688/898 [00:30<00:08, 24.82it/s]"
     ]
    },
    {
     "name": "stdout",
     "output_type": "stream",
     "text": [
      "Cleaning file: 2021-10-13.csv...\n",
      "Cleaning file: 2020-02-19.csv...\n",
      "Cleaning file: 2020-11-06.csv...\n",
      "Cleaning file: 2020-10-23.csv...\n",
      "Cleaning file: 2021-08-09.csv...\n",
      "Cleaning file: 2022-02-02.csv...\n"
     ]
    },
    {
     "name": "stderr",
     "output_type": "stream",
     "text": [
      " 77%|███████▋  | 694/898 [00:30<00:08, 24.95it/s]"
     ]
    },
    {
     "name": "stdout",
     "output_type": "stream",
     "text": [
      "Cleaning file: 2021-06-15.csv...\n",
      "Cleaning file: 2021-05-15.csv...\n",
      "Cleaning file: 2022-06-29.csv...\n",
      "Cleaning file: 2020-04-11.csv...\n",
      "Cleaning file: 2022-07-28.csv...\n",
      "Cleaning file: 2021-12-09.csv...\n"
     ]
    },
    {
     "name": "stderr",
     "output_type": "stream",
     "text": [
      " 78%|███████▊  | 700/898 [00:30<00:07, 25.33it/s]"
     ]
    },
    {
     "name": "stdout",
     "output_type": "stream",
     "text": [
      "Cleaning file: 2022-03-26.csv...\n",
      "Cleaning file: 2021-08-12.csv...\n",
      "Cleaning file: 2021-01-17.csv...\n",
      "Cleaning file: 2021-01-15.csv...\n",
      "Cleaning file: 2020-01-26.csv...\n",
      "Cleaning file: 2021-03-02.csv...\n"
     ]
    },
    {
     "name": "stderr",
     "output_type": "stream",
     "text": [
      " 79%|███████▊  | 706/898 [00:31<00:07, 25.48it/s]"
     ]
    },
    {
     "name": "stdout",
     "output_type": "stream",
     "text": [
      "Cleaning file: 2022-10-02.csv...\n",
      "Cleaning file: 2021-06-14.csv...\n",
      "Cleaning file: 2021-12-08.csv...\n",
      "Cleaning file: 2020-01-18.csv...\n",
      "Cleaning file: 2022-07-04.csv...\n",
      "Cleaning file: 2021-05-31.csv...\n"
     ]
    },
    {
     "name": "stderr",
     "output_type": "stream",
     "text": [
      " 79%|███████▉  | 712/898 [00:31<00:07, 25.60it/s]"
     ]
    },
    {
     "name": "stdout",
     "output_type": "stream",
     "text": [
      "Cleaning file: 2022-04-26.csv...\n",
      "Cleaning file: 2021-12-14.csv...\n",
      "Cleaning file: 2022-08-14.csv...\n",
      "Cleaning file: 2020-05-26.csv...\n",
      "Cleaning file: 2021-04-14.csv...\n",
      "Cleaning file: 2020-12-04.csv...\n"
     ]
    },
    {
     "name": "stderr",
     "output_type": "stream",
     "text": [
      " 80%|███████▉  | 718/898 [00:31<00:07, 25.30it/s]"
     ]
    },
    {
     "name": "stdout",
     "output_type": "stream",
     "text": [
      "Cleaning file: 2020-11-27.csv...\n",
      "Cleaning file: 2021-06-16.csv...\n",
      "Cleaning file: 2022-04-24.csv...\n",
      "Cleaning file: 2020-09-02.csv...\n",
      "Cleaning file: 2020-07-07.csv...\n",
      "Cleaning file: 2020-11-05.csv...\n"
     ]
    },
    {
     "name": "stderr",
     "output_type": "stream",
     "text": [
      " 80%|████████  | 721/898 [00:31<00:07, 24.50it/s]"
     ]
    },
    {
     "name": "stdout",
     "output_type": "stream",
     "text": [
      "Cleaning file: 2019-12-18.csv...\n",
      "Cleaning file: 2020-02-21.csv...\n",
      "Cleaning file: 2021-05-07.csv...\n",
      "Cleaning file: 2020-05-02.csv...\n",
      "Cleaning file: 2022-03-02.csv...\n"
     ]
    },
    {
     "name": "stderr",
     "output_type": "stream",
     "text": [
      " 81%|████████  | 727/898 [00:31<00:07, 23.51it/s]"
     ]
    },
    {
     "name": "stdout",
     "output_type": "stream",
     "text": [
      "Cleaning file: 2020-01-24.csv...\n",
      "Cleaning file: 2021-01-27.csv...\n",
      "Cleaning file: 2022-08-12.csv...\n",
      "Cleaning file: 2021-09-01.csv...\n",
      "Cleaning file: 2020-08-25.csv...\n"
     ]
    },
    {
     "name": "stderr",
     "output_type": "stream",
     "text": [
      " 82%|████████▏ | 733/898 [00:32<00:07, 22.18it/s]"
     ]
    },
    {
     "name": "stdout",
     "output_type": "stream",
     "text": [
      "Cleaning file: 2020-08-17.csv...\n",
      "Cleaning file: 2021-03-03.csv...\n",
      "Cleaning file: 2021-12-28.csv...\n",
      "Cleaning file: 2021-01-18.csv...\n",
      "Cleaning file: 2021-02-26.csv...\n"
     ]
    },
    {
     "name": "stderr",
     "output_type": "stream",
     "text": [
      " 82%|████████▏ | 736/898 [00:32<00:07, 21.77it/s]"
     ]
    },
    {
     "name": "stdout",
     "output_type": "stream",
     "text": [
      "Cleaning file: 2021-05-12.csv...\n",
      "Cleaning file: 2021-04-04.csv...\n",
      "Cleaning file: 2022-05-20.csv...\n",
      "Cleaning file: 2020-02-24.csv...\n",
      "Cleaning file: 2021-08-30.csv...\n"
     ]
    },
    {
     "name": "stderr",
     "output_type": "stream",
     "text": [
      " 83%|████████▎ | 742/898 [00:32<00:07, 21.95it/s]"
     ]
    },
    {
     "name": "stdout",
     "output_type": "stream",
     "text": [
      "Cleaning file: 2022-01-02.csv...\n",
      "Cleaning file: 2022-06-12.csv...\n",
      "Cleaning file: 2022-01-08.csv...\n",
      "Cleaning file: 2020-08-06.csv...\n",
      "Cleaning file: 2021-09-15.csv...\n"
     ]
    },
    {
     "name": "stderr",
     "output_type": "stream",
     "text": [
      " 83%|████████▎ | 748/898 [00:32<00:06, 23.63it/s]"
     ]
    },
    {
     "name": "stdout",
     "output_type": "stream",
     "text": [
      "Cleaning file: 2020-11-18.csv...\n",
      "Cleaning file: 2020-03-12.csv...\n",
      "Cleaning file: 2021-08-29.csv...\n",
      "Cleaning file: 2021-05-14.csv...\n",
      "Cleaning file: 2020-11-08.csv...\n",
      "Cleaning file: 2021-05-24.csv...\n"
     ]
    },
    {
     "name": "stderr",
     "output_type": "stream",
     "text": [
      " 84%|████████▍ | 754/898 [00:33<00:05, 24.62it/s]"
     ]
    },
    {
     "name": "stdout",
     "output_type": "stream",
     "text": [
      "Cleaning file: 2020-12-07.csv...\n",
      "Cleaning file: 2020-02-17.csv...\n",
      "Cleaning file: 2020-10-16.csv...\n",
      "Cleaning file: 2020-03-22.csv...\n",
      "Cleaning file: 2020-05-18.csv...\n",
      "Cleaning file: 2022-06-10.csv...\n"
     ]
    },
    {
     "name": "stderr",
     "output_type": "stream",
     "text": [
      " 85%|████████▍ | 760/898 [00:33<00:05, 23.41it/s]"
     ]
    },
    {
     "name": "stdout",
     "output_type": "stream",
     "text": [
      "Cleaning file: 2020-01-13.csv...\n",
      "Cleaning file: 2020-07-14.csv...\n",
      "Cleaning file: 2021-06-08.csv...\n",
      "Cleaning file: 2021-06-25.csv...\n",
      "Cleaning file: 2022-10-03.csv...\n"
     ]
    },
    {
     "name": "stderr",
     "output_type": "stream",
     "text": [
      " 85%|████████▍ | 763/898 [00:33<00:05, 23.27it/s]"
     ]
    },
    {
     "name": "stdout",
     "output_type": "stream",
     "text": [
      "Cleaning file: 2020-06-26.csv...\n",
      "Cleaning file: 2020-10-07.csv...\n",
      "Cleaning file: 2022-06-08.csv...\n",
      "Cleaning file: 2021-04-03.csv...\n",
      "Cleaning file: 2021-05-22.csv...\n"
     ]
    },
    {
     "name": "stderr",
     "output_type": "stream",
     "text": [
      " 86%|████████▌ | 769/898 [00:33<00:05, 23.77it/s]"
     ]
    },
    {
     "name": "stdout",
     "output_type": "stream",
     "text": [
      "Cleaning file: 2020-09-05.csv...\n",
      "Cleaning file: 2020-01-22.csv...\n",
      "Cleaning file: 2021-02-28.csv...\n",
      "Cleaning file: 2020-05-29.csv...\n",
      "Cleaning file: 2021-10-14.csv...\n"
     ]
    },
    {
     "name": "stderr",
     "output_type": "stream",
     "text": [
      " 86%|████████▋ | 775/898 [00:34<00:05, 24.30it/s]"
     ]
    },
    {
     "name": "stdout",
     "output_type": "stream",
     "text": [
      "Cleaning file: 2020-12-16.csv...\n",
      "Cleaning file: 2020-09-27.csv...\n",
      "Cleaning file: 2022-07-25.csv...\n",
      "Cleaning file: 2021-01-05.csv...\n",
      "Cleaning file: 2020-05-10.csv...\n",
      "Cleaning file: 2020-09-08.csv...\n"
     ]
    },
    {
     "name": "stderr",
     "output_type": "stream",
     "text": [
      " 87%|████████▋ | 781/898 [00:34<00:05, 22.17it/s]"
     ]
    },
    {
     "name": "stdout",
     "output_type": "stream",
     "text": [
      "Cleaning file: 2021-09-19.csv...\n",
      "Cleaning file: 2020-02-13.csv...\n",
      "Cleaning file: 2022-07-08.csv...\n",
      "Cleaning file: 2019-12-09.csv...\n",
      "Cleaning file: 2022-01-10.csv...\n"
     ]
    },
    {
     "name": "stderr",
     "output_type": "stream",
     "text": [
      " 87%|████████▋ | 784/898 [00:34<00:05, 22.41it/s]"
     ]
    },
    {
     "name": "stdout",
     "output_type": "stream",
     "text": [
      "Cleaning file: 2021-05-10.csv...\n",
      "Cleaning file: 2020-05-21.csv...\n",
      "Cleaning file: 2022-07-09.csv...\n",
      "Cleaning file: 2020-04-26.csv...\n",
      "Cleaning file: 2022-05-16.csv...\n"
     ]
    },
    {
     "name": "stderr",
     "output_type": "stream",
     "text": [
      " 88%|████████▊ | 790/898 [00:34<00:04, 23.11it/s]"
     ]
    },
    {
     "name": "stdout",
     "output_type": "stream",
     "text": [
      "Cleaning file: 2022-03-28.csv...\n",
      "Cleaning file: 2021-01-21.csv...\n",
      "Cleaning file: 2021-04-16.csv...\n",
      "Cleaning file: 2021-11-13.csv...\n",
      "Cleaning file: 2022-09-23.csv...\n",
      "Cleaning file: 2021-09-30.csv...\n"
     ]
    },
    {
     "name": "stderr",
     "output_type": "stream",
     "text": [
      " 89%|████████▊ | 796/898 [00:34<00:04, 22.84it/s]"
     ]
    },
    {
     "name": "stdout",
     "output_type": "stream",
     "text": [
      "Cleaning file: 2019-12-19.csv...\n",
      "Cleaning file: 2022-01-30.csv...\n",
      "Cleaning file: 2020-11-01.csv...\n",
      "Cleaning file: 2021-01-25.csv...\n",
      "Cleaning file: 2022-09-19.csv...\n"
     ]
    },
    {
     "name": "stderr",
     "output_type": "stream",
     "text": [
      " 89%|████████▉ | 802/898 [00:35<00:04, 22.04it/s]"
     ]
    },
    {
     "name": "stdout",
     "output_type": "stream",
     "text": [
      "Cleaning file: 2022-06-26.csv...\n",
      "Cleaning file: 2020-07-12.csv...\n",
      "Cleaning file: 2022-01-24.csv...\n",
      "Cleaning file: 2020-10-30.csv...\n",
      "Cleaning file: 2021-09-26.csv...\n"
     ]
    },
    {
     "name": "stderr",
     "output_type": "stream",
     "text": [
      " 90%|████████▉ | 805/898 [00:35<00:04, 21.37it/s]"
     ]
    },
    {
     "name": "stdout",
     "output_type": "stream",
     "text": [
      "Cleaning file: 2021-03-22.csv...\n",
      "Cleaning file: 2020-10-01.csv...\n",
      "Cleaning file: 2020-05-06.csv...\n",
      "Cleaning file: 2020-08-09.csv...\n",
      "Cleaning file: 2020-11-24.csv...\n"
     ]
    },
    {
     "name": "stderr",
     "output_type": "stream",
     "text": [
      " 90%|█████████ | 811/898 [00:35<00:04, 21.62it/s]"
     ]
    },
    {
     "name": "stdout",
     "output_type": "stream",
     "text": [
      "Cleaning file: 2021-01-07.csv...\n",
      "Cleaning file: 2022-03-31.csv...\n",
      "Cleaning file: 2022-08-29.csv...\n",
      "Cleaning file: 2021-07-08.csv...\n",
      "Cleaning file: 2022-03-03.csv...\n"
     ]
    },
    {
     "name": "stderr",
     "output_type": "stream",
     "text": [
      " 91%|█████████ | 817/898 [00:35<00:03, 22.76it/s]"
     ]
    },
    {
     "name": "stdout",
     "output_type": "stream",
     "text": [
      "Cleaning file: 2021-06-01.csv...\n",
      "Cleaning file: 2022-02-05.csv...\n",
      "Cleaning file: 2020-07-31.csv...\n",
      "Cleaning file: 2021-07-31.csv...\n",
      "Cleaning file: 2020-11-10.csv...\n"
     ]
    },
    {
     "name": "stderr",
     "output_type": "stream",
     "text": [
      " 91%|█████████▏| 820/898 [00:36<00:03, 22.88it/s]"
     ]
    },
    {
     "name": "stdout",
     "output_type": "stream",
     "text": [
      "Cleaning file: 2020-05-14.csv...\n",
      "Cleaning file: 2020-05-05.csv...\n",
      "Cleaning file: 2020-05-03.csv...\n",
      "Cleaning file: 2021-03-05.csv...\n",
      "Cleaning file: 2021-03-18.csv...\n"
     ]
    },
    {
     "name": "stderr",
     "output_type": "stream",
     "text": [
      " 92%|█████████▏| 826/898 [00:36<00:03, 22.09it/s]"
     ]
    },
    {
     "name": "stdout",
     "output_type": "stream",
     "text": [
      "Cleaning file: 2020-01-29.csv...\n",
      "Cleaning file: 2021-11-23.csv...\n",
      "Cleaning file: 2020-04-17.csv...\n",
      "Cleaning file: 2022-07-18.csv...\n",
      "Cleaning file: 2020-11-04.csv...\n"
     ]
    },
    {
     "name": "stderr",
     "output_type": "stream",
     "text": [
      " 93%|█████████▎| 832/898 [00:36<00:02, 23.00it/s]"
     ]
    },
    {
     "name": "stdout",
     "output_type": "stream",
     "text": [
      "Cleaning file: 2022-06-15.csv...\n",
      "Cleaning file: 2022-02-10.csv...\n",
      "Cleaning file: 2019-12-03.csv...\n",
      "Cleaning file: 2020-05-16.csv...\n",
      "Cleaning file: 2020-04-29.csv...\n"
     ]
    },
    {
     "name": "stderr",
     "output_type": "stream",
     "text": [
      " 93%|█████████▎| 835/898 [00:36<00:02, 23.15it/s]"
     ]
    },
    {
     "name": "stdout",
     "output_type": "stream",
     "text": [
      "Cleaning file: 2020-08-12.csv...\n",
      "Cleaning file: 2021-11-08.csv...\n",
      "Cleaning file: 2020-11-02.csv...\n",
      "Cleaning file: 2021-10-06.csv...\n",
      "Cleaning file: 2022-05-03.csv...\n"
     ]
    },
    {
     "name": "stderr",
     "output_type": "stream",
     "text": [
      " 94%|█████████▎| 841/898 [00:37<00:02, 22.07it/s]"
     ]
    },
    {
     "name": "stdout",
     "output_type": "stream",
     "text": [
      "Cleaning file: 2020-05-13.csv...\n",
      "Cleaning file: 2022-03-12.csv...\n",
      "Cleaning file: 2021-09-06.csv...\n",
      "Cleaning file: 2021-09-24.csv...\n",
      "Cleaning file: 2020-04-22.csv...\n"
     ]
    },
    {
     "name": "stderr",
     "output_type": "stream",
     "text": [
      " 94%|█████████▍| 847/898 [00:37<00:02, 21.47it/s]"
     ]
    },
    {
     "name": "stdout",
     "output_type": "stream",
     "text": [
      "Cleaning file: 2020-08-13.csv...\n",
      "Cleaning file: 2020-10-11.csv...\n",
      "Cleaning file: 2021-03-15.csv...\n",
      "Cleaning file: 2020-04-16.csv...\n",
      "Cleaning file: 2020-11-09.csv...\n"
     ]
    },
    {
     "name": "stderr",
     "output_type": "stream",
     "text": [
      " 95%|█████████▍| 850/898 [00:37<00:02, 21.99it/s]"
     ]
    },
    {
     "name": "stdout",
     "output_type": "stream",
     "text": [
      "Cleaning file: 2022-08-25.csv...\n",
      "Cleaning file: 2020-08-02.csv...\n",
      "Cleaning file: 2022-07-24.csv...\n",
      "Cleaning file: 2020-06-12.csv...\n",
      "Cleaning file: 2020-02-09.csv...\n"
     ]
    },
    {
     "name": "stderr",
     "output_type": "stream",
     "text": [
      " 95%|█████████▌| 856/898 [00:37<00:01, 21.59it/s]"
     ]
    },
    {
     "name": "stdout",
     "output_type": "stream",
     "text": [
      "Cleaning file: 2020-03-15.csv...\n",
      "Cleaning file: 2020-07-15.csv...\n",
      "Cleaning file: 2021-08-01.csv...\n",
      "Cleaning file: 2020-02-01.csv...\n",
      "Cleaning file: 2020-01-15.csv...\n"
     ]
    },
    {
     "name": "stderr",
     "output_type": "stream",
     "text": [
      " 96%|█████████▌| 862/898 [00:37<00:01, 22.05it/s]"
     ]
    },
    {
     "name": "stdout",
     "output_type": "stream",
     "text": [
      "Cleaning file: 2022-02-25.csv...\n",
      "Cleaning file: 2022-04-05.csv...\n",
      "Cleaning file: 2020-09-30.csv...\n",
      "Cleaning file: 2020-02-15.csv...\n",
      "Cleaning file: 2021-04-12.csv...\n"
     ]
    },
    {
     "name": "stderr",
     "output_type": "stream",
     "text": [
      " 96%|█████████▋| 865/898 [00:38<00:01, 22.48it/s]"
     ]
    },
    {
     "name": "stdout",
     "output_type": "stream",
     "text": [
      "Cleaning file: 2020-01-20.csv...\n",
      "Cleaning file: 2021-05-13.csv...\n",
      "Cleaning file: 2022-03-25.csv...\n",
      "Cleaning file: 2022-01-04.csv...\n",
      "Cleaning file: 2019-11-24.csv...\n"
     ]
    },
    {
     "name": "stderr",
     "output_type": "stream",
     "text": [
      " 97%|█████████▋| 871/898 [00:38<00:01, 22.94it/s]"
     ]
    },
    {
     "name": "stdout",
     "output_type": "stream",
     "text": [
      "Cleaning file: 2021-09-28.csv...\n",
      "Cleaning file: 2022-06-21.csv...\n",
      "Cleaning file: 2019-12-12.csv...\n",
      "Cleaning file: 2021-10-26.csv...\n",
      "Cleaning file: 2020-08-18.csv...\n"
     ]
    },
    {
     "name": "stderr",
     "output_type": "stream",
     "text": [
      " 98%|█████████▊| 877/898 [00:38<00:00, 22.01it/s]"
     ]
    },
    {
     "name": "stdout",
     "output_type": "stream",
     "text": [
      "Cleaning file: 2019-11-26.csv...\n",
      "Cleaning file: 2021-03-30.csv...\n",
      "Cleaning file: 2020-11-30.csv...\n",
      "Cleaning file: 2022-02-19.csv...\n",
      "Cleaning file: 2022-06-16.csv...\n"
     ]
    },
    {
     "name": "stderr",
     "output_type": "stream",
     "text": [
      " 98%|█████████▊| 880/898 [00:38<00:00, 21.93it/s]"
     ]
    },
    {
     "name": "stdout",
     "output_type": "stream",
     "text": [
      "Cleaning file: 2020-08-26.csv...\n",
      "Cleaning file: 2020-09-15.csv...\n",
      "Cleaning file: 2020-02-25.csv...\n",
      "Cleaning file: 2020-06-14.csv...\n",
      "Cleaning file: 2020-08-01.csv...\n"
     ]
    },
    {
     "name": "stderr",
     "output_type": "stream",
     "text": [
      " 99%|█████████▊| 886/898 [00:39<00:00, 22.37it/s]"
     ]
    },
    {
     "name": "stdout",
     "output_type": "stream",
     "text": [
      "Cleaning file: 2020-10-22.csv...\n",
      "Cleaning file: 2021-02-25.csv...\n",
      "Cleaning file: 2020-01-07.csv...\n",
      "Cleaning file: 2022-02-24.csv...\n",
      "Cleaning file: 2022-09-22.csv...\n"
     ]
    },
    {
     "name": "stderr",
     "output_type": "stream",
     "text": [
      " 99%|█████████▉| 892/898 [00:39<00:00, 22.83it/s]"
     ]
    },
    {
     "name": "stdout",
     "output_type": "stream",
     "text": [
      "Cleaning file: 2021-05-19.csv...\n",
      "Cleaning file: 2020-09-29.csv...\n",
      "Cleaning file: 2021-01-28.csv...\n",
      "Cleaning file: 2020-12-08.csv...\n",
      "Cleaning file: 2021-02-24.csv...\n"
     ]
    },
    {
     "name": "stderr",
     "output_type": "stream",
     "text": [
      "100%|█████████▉| 895/898 [00:39<00:00, 23.01it/s]"
     ]
    },
    {
     "name": "stdout",
     "output_type": "stream",
     "text": [
      "Cleaning file: 2021-01-08.csv...\n",
      "Cleaning file: 2021-03-21.csv...\n",
      "Cleaning file: 2021-06-30.csv...\n",
      "Cleaning file: 2020-05-04.csv...\n",
      "Cleaning file: 2020-10-04.csv...\n"
     ]
    },
    {
     "name": "stderr",
     "output_type": "stream",
     "text": [
      "100%|██████████| 898/898 [00:39<00:00, 22.69it/s]\n"
     ]
    }
   ],
   "source": [
    "# Remove non-english and empty data rows\n",
    "outputs_dir = '/kaggle/working/outputs_cleaned'\n",
    "os.makedirs(outputs_dir)\n",
    "\n",
    "wtl = WhatTheLang()\n",
    "\n",
    "for i in tqdm(scraped_files):\n",
    "    print(f'Cleaning file: {i}...')\n",
    "    df = pd.read_csv(f'{files_dir}/{i}', engine='python')\n",
    "    \n",
    "    # Remove empty rows\n",
    "    df.dropna(subset=['user_name', 'date', 'text'], inplace=True)\n",
    "    \n",
    "    # Remove non-english rows\n",
    "    L = []\n",
    "    for row in df['text']:\n",
    "        if len(row) != 0:\n",
    "            L.append(wtl.predict_lang(row))\n",
    "        else:\n",
    "            L.append(None)\n",
    "    df['lang'] = L\n",
    "    df_filtered = df[df['lang'] == 'en']\n",
    "    df_filtered.drop(['lang'], axis=1, inplace=True)\n",
    "    \n",
    "    # Save cleaned file\n",
    "    df_filtered.to_csv(f'{outputs_dir}/{i}')"
   ]
  },
  {
   "cell_type": "code",
   "execution_count": 25,
   "metadata": {
    "execution": {
     "iopub.execute_input": "2022-11-10T14:48:24.757451Z",
     "iopub.status.busy": "2022-11-10T14:48:24.757003Z",
     "iopub.status.idle": "2022-11-10T14:48:30.191677Z",
     "shell.execute_reply": "2022-11-10T14:48:30.190136Z",
     "shell.execute_reply.started": "2022-11-10T14:48:24.757418Z"
    }
   },
   "outputs": [
    {
     "name": "stdout",
     "output_type": "stream",
     "text": [
      "updating: outputs_cleaned/ (stored 0%)\n",
      "updating: outputs_cleaned/2022-03-05.csv (deflated 59%)\n",
      "updating: outputs_cleaned/2022-07-29.csv (deflated 64%)\n",
      "updating: outputs_cleaned/2021-02-10.csv (deflated 55%)\n",
      "updating: outputs_cleaned/2021-09-10.csv (deflated 60%)\n",
      "updating: outputs_cleaned/2022-07-23.csv (deflated 67%)\n",
      "updating: outputs_cleaned/2020-07-01.csv (deflated 63%)\n",
      "updating: outputs_cleaned/2022-04-12.csv (deflated 60%)\n",
      "updating: outputs_cleaned/2021-12-17.csv (deflated 61%)\n",
      "updating: outputs_cleaned/2021-08-28.csv (deflated 63%)\n",
      "updating: outputs_cleaned/2020-05-17.csv (deflated 56%)\n",
      "updating: outputs_cleaned/2020-04-01.csv (deflated 55%)\n",
      "updating: outputs_cleaned/2021-03-20.csv (deflated 63%)\n",
      "updating: outputs_cleaned/2021-01-31.csv (deflated 61%)\n",
      "updating: outputs_cleaned/2021-06-06.csv (deflated 60%)\n",
      "updating: outputs_cleaned/2021-10-23.csv (deflated 60%)\n",
      "updating: outputs_cleaned/2021-07-15.csv (deflated 61%)\n",
      "updating: outputs_cleaned/2021-06-15.csv (deflated 58%)\n",
      "updating: outputs_cleaned/2022-05-18.csv (deflated 62%)\n",
      "updating: outputs_cleaned/2020-03-01.csv (deflated 56%)\n",
      "updating: outputs_cleaned/2020-05-08.csv (deflated 58%)\n",
      "updating: outputs_cleaned/2021-07-13.csv (deflated 62%)\n",
      "updating: outputs_cleaned/2022-08-02.csv (deflated 65%)\n",
      "updating: outputs_cleaned/2021-12-27.csv (deflated 61%)\n",
      "updating: outputs_cleaned/2019-12-07.csv (deflated 60%)\n",
      "updating: outputs_cleaned/2021-10-17.csv (deflated 59%)\n",
      "updating: outputs_cleaned/2022-06-06.csv (deflated 64%)\n",
      "updating: outputs_cleaned/2020-02-03.csv (deflated 57%)\n",
      "updating: outputs_cleaned/2021-04-28.csv (deflated 61%)\n",
      "updating: outputs_cleaned/2021-06-14.csv (deflated 59%)\n",
      "updating: outputs_cleaned/2020-04-07.csv (deflated 59%)\n",
      "updating: outputs_cleaned/2021-04-13.csv (deflated 58%)\n",
      "updating: outputs_cleaned/2021-09-19.csv (deflated 62%)\n",
      "updating: outputs_cleaned/2020-08-17.csv (deflated 60%)\n",
      "updating: outputs_cleaned/2021-11-27.csv (deflated 61%)\n",
      "updating: outputs_cleaned/2020-09-12.csv (deflated 62%)\n",
      "updating: outputs_cleaned/2021-11-26.csv (deflated 61%)\n",
      "updating: outputs_cleaned/2022-05-21.csv (deflated 63%)\n",
      "updating: outputs_cleaned/2020-05-28.csv (deflated 58%)\n",
      "updating: outputs_cleaned/2022-09-21.csv (deflated 60%)\n",
      "updating: outputs_cleaned/2021-02-19.csv (deflated 57%)\n",
      "updating: outputs_cleaned/2020-10-26.csv (deflated 61%)\n",
      "updating: outputs_cleaned/2022-09-19.csv (deflated 63%)\n",
      "updating: outputs_cleaned/2022-07-27.csv (deflated 64%)\n",
      "updating: outputs_cleaned/2022-04-25.csv (deflated 60%)\n",
      "updating: outputs_cleaned/2021-12-20.csv (deflated 60%)\n",
      "updating: outputs_cleaned/2019-12-17.csv (deflated 58%)\n",
      "updating: outputs_cleaned/2022-04-03.csv (deflated 62%)\n",
      "updating: outputs_cleaned/2020-02-28.csv (deflated 57%)\n",
      "updating: outputs_cleaned/2020-10-24.csv (deflated 62%)\n",
      "updating: outputs_cleaned/2022-05-09.csv (deflated 58%)\n",
      "updating: outputs_cleaned/2022-03-25.csv (deflated 63%)\n",
      "updating: outputs_cleaned/2020-11-14.csv (deflated 57%)\n",
      "updating: outputs_cleaned/2021-08-03.csv (deflated 60%)\n",
      "updating: outputs_cleaned/2020-06-03.csv (deflated 58%)\n",
      "updating: outputs_cleaned/2022-03-29.csv (deflated 62%)\n",
      "updating: outputs_cleaned/2020-10-27.csv (deflated 59%)\n",
      "updating: outputs_cleaned/2022-10-08.csv (deflated 65%)\n",
      "updating: outputs_cleaned/2020-04-27.csv (deflated 57%)\n",
      "updating: outputs_cleaned/2020-06-30.csv (deflated 58%)\n",
      "updating: outputs_cleaned/2020-07-15.csv (deflated 56%)\n",
      "updating: outputs_cleaned/2020-09-18.csv (deflated 60%)\n",
      "updating: outputs_cleaned/2021-12-24.csv (deflated 64%)\n",
      "updating: outputs_cleaned/2020-11-30.csv (deflated 56%)\n",
      "updating: outputs_cleaned/2020-04-03.csv (deflated 58%)\n",
      "updating: outputs_cleaned/2021-09-15.csv (deflated 61%)\n",
      "updating: outputs_cleaned/2021-04-01.csv (deflated 66%)\n",
      "updating: outputs_cleaned/2021-11-09.csv (deflated 61%)\n",
      "updating: outputs_cleaned/2022-07-30.csv (deflated 65%)\n",
      "updating: outputs_cleaned/2022-04-11.csv (deflated 61%)\n",
      "updating: outputs_cleaned/2022-08-26.csv (deflated 62%)\n",
      "updating: outputs_cleaned/2020-07-13.csv (deflated 58%)\n",
      "updating: outputs_cleaned/2021-03-02.csv (deflated 64%)\n",
      "updating: outputs_cleaned/2021-03-25.csv (deflated 67%)\n",
      "updating: outputs_cleaned/2022-07-19.csv (deflated 63%)\n",
      "updating: outputs_cleaned/2020-12-30.csv (deflated 55%)\n",
      "updating: outputs_cleaned/2020-01-26.csv (deflated 61%)\n",
      "updating: outputs_cleaned/2021-09-06.csv (deflated 60%)\n",
      "updating: outputs_cleaned/2022-01-01.csv (deflated 62%)\n",
      "updating: outputs_cleaned/2021-06-28.csv (deflated 60%)\n",
      "updating: outputs_cleaned/2019-12-30.csv (deflated 57%)\n",
      "updating: outputs_cleaned/2020-04-28.csv (deflated 58%)\n",
      "updating: outputs_cleaned/2020-10-14.csv (deflated 71%)\n",
      "updating: outputs_cleaned/2019-12-16.csv (deflated 58%)\n",
      "updating: outputs_cleaned/2020-12-02.csv (deflated 57%)\n",
      "updating: outputs_cleaned/2019-12-22.csv (deflated 58%)\n",
      "updating: outputs_cleaned/2020-01-04.csv (deflated 59%)\n",
      "updating: outputs_cleaned/2021-07-14.csv (deflated 61%)\n",
      "updating: outputs_cleaned/2021-11-30.csv (deflated 58%)\n",
      "updating: outputs_cleaned/2022-08-08.csv (deflated 66%)\n",
      "updating: outputs_cleaned/2020-03-07.csv (deflated 57%)\n",
      "updating: outputs_cleaned/2022-08-06.csv (deflated 66%)\n",
      "updating: outputs_cleaned/2019-12-23.csv (deflated 59%)\n",
      "updating: outputs_cleaned/2019-12-05.csv (deflated 58%)\n",
      "updating: outputs_cleaned/2020-04-20.csv (deflated 57%)\n",
      "updating: outputs_cleaned/2021-03-05.csv (deflated 60%)\n",
      "updating: outputs_cleaned/2021-10-04.csv (deflated 58%)\n",
      "updating: outputs_cleaned/2022-05-08.csv (deflated 63%)\n",
      "updating: outputs_cleaned/2022-07-03.csv (deflated 63%)\n",
      "updating: outputs_cleaned/2022-01-03.csv (deflated 59%)\n",
      "updating: outputs_cleaned/2020-01-28.csv (deflated 57%)\n",
      "updating: outputs_cleaned/2021-01-11.csv (deflated 61%)\n",
      "updating: outputs_cleaned/2022-10-02.csv (deflated 62%)\n",
      "updating: outputs_cleaned/2019-12-01.csv (deflated 62%)\n",
      "updating: outputs_cleaned/2021-10-15.csv (deflated 58%)\n",
      "updating: outputs_cleaned/2022-02-19.csv (deflated 58%)\n",
      "updating: outputs_cleaned/2021-03-04.csv (deflated 61%)\n",
      "updating: outputs_cleaned/2021-06-18.csv (deflated 60%)\n",
      "updating: outputs_cleaned/2022-06-11.csv (deflated 63%)\n",
      "updating: outputs_cleaned/2020-05-10.csv (deflated 58%)\n",
      "updating: outputs_cleaned/2022-10-06.csv (deflated 63%)\n",
      "updating: outputs_cleaned/2020-01-21.csv (deflated 57%)\n",
      "updating: outputs_cleaned/2021-05-11.csv (deflated 60%)\n",
      "updating: outputs_cleaned/2021-02-25.csv (deflated 61%)\n",
      "updating: outputs_cleaned/2020-04-29.csv (deflated 55%)\n",
      "updating: outputs_cleaned/2020-01-14.csv (deflated 59%)\n",
      "updating: outputs_cleaned/2020-10-03.csv (deflated 70%)\n",
      "updating: outputs_cleaned/2021-12-18.csv (deflated 61%)\n",
      "updating: outputs_cleaned/2020-04-12.csv (deflated 56%)\n",
      "updating: outputs_cleaned/2019-12-26.csv (deflated 59%)\n",
      "updating: outputs_cleaned/2020-06-19.csv (deflated 58%)\n",
      "updating: outputs_cleaned/2020-04-22.csv (deflated 56%)\n",
      "updating: outputs_cleaned/2020-03-31.csv (deflated 56%)\n",
      "updating: outputs_cleaned/2022-04-06.csv (deflated 61%)\n",
      "updating: outputs_cleaned/2020-02-26.csv (deflated 56%)\n",
      "updating: outputs_cleaned/2021-09-16.csv (deflated 61%)\n",
      "updating: outputs_cleaned/2021-11-20.csv (deflated 60%)\n",
      "updating: outputs_cleaned/2022-06-12.csv (deflated 60%)\n",
      "updating: outputs_cleaned/2021-07-09.csv (deflated 61%)\n",
      "updating: outputs_cleaned/2022-06-30.csv (deflated 61%)\n",
      "updating: outputs_cleaned/2020-06-15.csv (deflated 59%)\n",
      "updating: outputs_cleaned/2022-09-20.csv (deflated 62%)\n",
      "updating: outputs_cleaned/2021-12-08.csv (deflated 59%)\n",
      "updating: outputs_cleaned/2021-12-30.csv (deflated 60%)\n",
      "updating: outputs_cleaned/2020-03-12.csv (deflated 55%)\n",
      "updating: outputs_cleaned/2021-05-09.csv (deflated 60%)\n",
      "updating: outputs_cleaned/2022-07-25.csv (deflated 66%)\n",
      "updating: outputs_cleaned/2020-02-27.csv (deflated 56%)\n",
      "updating: outputs_cleaned/2020-10-18.csv (deflated 68%)\n",
      "updating: outputs_cleaned/2020-06-14.csv (deflated 58%)\n",
      "updating: outputs_cleaned/2022-04-26.csv (deflated 63%)\n",
      "updating: outputs_cleaned/2020-02-06.csv (deflated 57%)\n",
      "updating: outputs_cleaned/2021-08-10.csv (deflated 62%)\n",
      "updating: outputs_cleaned/2020-12-09.csv (deflated 57%)\n",
      "updating: outputs_cleaned/2020-03-23.csv (deflated 57%)\n",
      "updating: outputs_cleaned/2021-01-05.csv (deflated 64%)\n",
      "updating: outputs_cleaned/2022-02-18.csv (deflated 58%)\n",
      "updating: outputs_cleaned/2020-10-22.csv (deflated 65%)\n",
      "updating: outputs_cleaned/2021-08-01.csv (deflated 62%)\n",
      "updating: outputs_cleaned/2022-01-06.csv (deflated 59%)\n",
      "updating: outputs_cleaned/2021-01-23.csv (deflated 60%)\n",
      "updating: outputs_cleaned/2022-01-16.csv (deflated 60%)\n",
      "updating: outputs_cleaned/2022-02-01.csv (deflated 58%)\n",
      "updating: outputs_cleaned/2021-11-10.csv (deflated 58%)\n",
      "updating: outputs_cleaned/2021-01-14.csv (deflated 61%)\n",
      "updating: outputs_cleaned/2022-07-17.csv (deflated 62%)\n",
      "updating: outputs_cleaned/2020-07-27.csv (deflated 55%)\n",
      "updating: outputs_cleaned/2019-12-31.csv (deflated 57%)\n",
      "updating: outputs_cleaned/2022-06-15.csv (deflated 64%)\n",
      "updating: outputs_cleaned/2021-09-17.csv (deflated 61%)\n",
      "updating: outputs_cleaned/2020-11-23.csv (deflated 57%)\n",
      "updating: outputs_cleaned/2022-09-04.csv (deflated 66%)\n",
      "updating: outputs_cleaned/2020-06-16.csv (deflated 60%)\n",
      "updating: outputs_cleaned/2020-01-03.csv (deflated 58%)\n",
      "updating: outputs_cleaned/2020-05-14.csv (deflated 57%)\n",
      "updating: outputs_cleaned/2021-08-11.csv (deflated 59%)\n",
      "updating: outputs_cleaned/2019-12-12.csv (deflated 60%)\n",
      "updating: outputs_cleaned/2019-11-27.csv (deflated 58%)\n",
      "updating: outputs_cleaned/2022-10-04.csv (deflated 63%)\n",
      "updating: outputs_cleaned/2020-08-15.csv (deflated 59%)\n",
      "updating: outputs_cleaned/2022-03-02.csv (deflated 59%)\n",
      "updating: outputs_cleaned/2021-06-02.csv (deflated 60%)\n",
      "updating: outputs_cleaned/2020-07-26.csv (deflated 56%)\n",
      "updating: outputs_cleaned/2022-05-19.csv (deflated 58%)\n",
      "updating: outputs_cleaned/2020-07-05.csv (deflated 60%)\n",
      "updating: outputs_cleaned/2020-12-15.csv (deflated 69%)\n",
      "updating: outputs_cleaned/2022-09-29.csv (deflated 65%)\n",
      "updating: outputs_cleaned/2020-04-11.csv (deflated 56%)\n",
      "updating: outputs_cleaned/2022-01-05.csv (deflated 56%)\n",
      "updating: outputs_cleaned/2022-01-24.csv (deflated 58%)\n",
      "updating: outputs_cleaned/2021-01-13.csv (deflated 58%)\n",
      "updating: outputs_cleaned/2020-02-24.csv (deflated 56%)\n",
      "updating: outputs_cleaned/2021-03-31.csv (deflated 69%)\n",
      "updating: outputs_cleaned/2020-05-04.csv (deflated 63%)\n",
      "updating: outputs_cleaned/2020-08-12.csv (deflated 59%)\n",
      "updating: outputs_cleaned/2020-01-22.csv (deflated 57%)\n",
      "updating: outputs_cleaned/2020-12-12.csv (deflated 56%)\n",
      "updating: outputs_cleaned/2021-03-13.csv (deflated 59%)\n",
      "updating: outputs_cleaned/2020-09-07.csv (deflated 58%)\n",
      "updating: outputs_cleaned/2021-11-28.csv (deflated 57%)\n",
      "updating: outputs_cleaned/2020-07-16.csv (deflated 58%)\n",
      "updating: outputs_cleaned/2020-07-08.csv (deflated 58%)\n",
      "updating: outputs_cleaned/2020-08-24.csv (deflated 64%)\n",
      "updating: outputs_cleaned/2021-10-26.csv (deflated 58%)\n",
      "updating: outputs_cleaned/2021-03-12.csv (deflated 60%)\n",
      "updating: outputs_cleaned/2021-12-04.csv (deflated 59%)\n",
      "updating: outputs_cleaned/2020-05-31.csv (deflated 56%)\n",
      "updating: outputs_cleaned/2020-12-26.csv (deflated 59%)\n",
      "updating: outputs_cleaned/2022-08-22.csv (deflated 62%)\n",
      "updating: outputs_cleaned/2021-05-01.csv (deflated 60%)\n",
      "updating: outputs_cleaned/2020-06-09.csv (deflated 57%)\n",
      "updating: outputs_cleaned/2021-09-23.csv (deflated 59%)\n",
      "updating: outputs_cleaned/2020-02-07.csv (deflated 59%)\n",
      "updating: outputs_cleaned/2020-02-16.csv (deflated 57%)\n",
      "updating: outputs_cleaned/2021-08-21.csv (deflated 62%)\n",
      "updating: outputs_cleaned/2021-05-21.csv (deflated 58%)\n",
      "updating: outputs_cleaned/2021-02-20.csv (deflated 58%)\n",
      "updating: outputs_cleaned/2020-12-28.csv (deflated 59%)\n",
      "updating: outputs_cleaned/2021-06-29.csv (deflated 59%)\n",
      "updating: outputs_cleaned/2022-02-03.csv (deflated 56%)\n",
      "updating: outputs_cleaned/2021-12-21.csv (deflated 59%)\n",
      "updating: outputs_cleaned/2021-12-11.csv (deflated 59%)\n",
      "updating: outputs_cleaned/2020-04-15.csv (deflated 56%)\n",
      "updating: outputs_cleaned/2021-06-10.csv (deflated 58%)\n",
      "updating: outputs_cleaned/2020-02-17.csv (deflated 57%)\n",
      "updating: outputs_cleaned/2020-01-06.csv (deflated 60%)\n",
      "updating: outputs_cleaned/2019-12-29.csv (deflated 58%)\n",
      "updating: outputs_cleaned/2021-01-09.csv (deflated 58%)\n",
      "updating: outputs_cleaned/2021-12-23.csv (deflated 61%)\n",
      "updating: outputs_cleaned/2021-10-01.csv (deflated 61%)\n",
      "updating: outputs_cleaned/2022-01-28.csv (deflated 57%)\n",
      "updating: outputs_cleaned/2022-09-30.csv (deflated 64%)\n",
      "updating: outputs_cleaned/2020-10-13.csv (deflated 64%)\n",
      "updating: outputs_cleaned/2020-06-10.csv (deflated 59%)\n",
      "updating: outputs_cleaned/2021-10-03.csv (deflated 62%)\n",
      "updating: outputs_cleaned/2020-01-18.csv (deflated 56%)\n",
      "updating: outputs_cleaned/2022-07-24.csv (deflated 64%)\n",
      "updating: outputs_cleaned/2021-07-11.csv (deflated 61%)\n",
      "updating: outputs_cleaned/2021-02-28.csv (deflated 60%)\n",
      "updating: outputs_cleaned/2021-09-05.csv (deflated 60%)\n",
      "updating: outputs_cleaned/2020-01-16.csv (deflated 57%)\n",
      "updating: outputs_cleaned/2020-07-31.csv (deflated 56%)\n",
      "updating: outputs_cleaned/2021-05-14.csv (deflated 59%)\n",
      "updating: outputs_cleaned/2020-12-06.csv (deflated 59%)\n",
      "updating: outputs_cleaned/2020-03-19.csv (deflated 56%)\n",
      "updating: outputs_cleaned/2021-01-21.csv (deflated 59%)\n",
      "updating: outputs_cleaned/2021-05-02.csv (deflated 62%)\n",
      "updating: outputs_cleaned/2020-03-18.csv (deflated 56%)\n",
      "updating: outputs_cleaned/2021-09-18.csv (deflated 63%)\n",
      "updating: outputs_cleaned/2022-02-08.csv (deflated 58%)\n",
      "updating: outputs_cleaned/2020-07-12.csv (deflated 61%)\n",
      "updating: outputs_cleaned/2021-09-25.csv (deflated 64%)\n",
      "updating: outputs_cleaned/2020-04-16.csv (deflated 56%)\n",
      "updating: outputs_cleaned/2021-02-02.csv (deflated 61%)\n",
      "updating: outputs_cleaned/2022-05-03.csv (deflated 62%)\n",
      "updating: outputs_cleaned/2022-06-26.csv (deflated 63%)\n",
      "updating: outputs_cleaned/2020-08-02.csv (deflated 56%)\n",
      "updating: outputs_cleaned/2021-05-31.csv (deflated 59%)\n",
      "updating: outputs_cleaned/2020-04-19.csv (deflated 57%)\n",
      "updating: outputs_cleaned/2020-07-25.csv (deflated 56%)\n",
      "updating: outputs_cleaned/2022-06-09.csv (deflated 65%)\n",
      "updating: outputs_cleaned/2022-10-07.csv (deflated 64%)\n",
      "updating: outputs_cleaned/2020-01-25.csv (deflated 60%)\n",
      "updating: outputs_cleaned/2020-12-29.csv (deflated 56%)\n",
      "updating: outputs_cleaned/2022-08-18.csv (deflated 65%)\n",
      "updating: outputs_cleaned/2020-02-29.csv (deflated 55%)\n",
      "updating: outputs_cleaned/2021-05-17.csv (deflated 59%)\n",
      "updating: outputs_cleaned/2022-07-20.csv (deflated 61%)\n",
      "updating: outputs_cleaned/2021-03-28.csv (deflated 63%)\n",
      "updating: outputs_cleaned/2020-12-23.csv (deflated 57%)\n",
      "updating: outputs_cleaned/2022-07-21.csv (deflated 64%)\n",
      "updating: outputs_cleaned/2019-12-20.csv (deflated 59%)\n",
      "updating: outputs_cleaned/2021-03-07.csv (deflated 60%)\n",
      "updating: outputs_cleaned/2021-10-31.csv (deflated 60%)\n",
      "updating: outputs_cleaned/2020-12-03.csv (deflated 58%)\n",
      "updating: outputs_cleaned/2020-07-21.csv (deflated 57%)\n",
      "updating: outputs_cleaned/2020-11-20.csv (deflated 59%)\n",
      "updating: outputs_cleaned/2021-03-03.csv (deflated 60%)\n",
      "updating: outputs_cleaned/2020-09-05.csv (deflated 61%)\n",
      "updating: outputs_cleaned/2021-07-05.csv (deflated 64%)\n",
      "updating: outputs_cleaned/2021-06-13.csv (deflated 59%)\n",
      "updating: outputs_cleaned/2020-04-18.csv (deflated 58%)\n",
      "updating: outputs_cleaned/2020-10-04.csv (deflated 68%)\n",
      "updating: outputs_cleaned/2021-02-12.csv (deflated 55%)\n",
      "updating: outputs_cleaned/2020-11-10.csv (deflated 63%)\n",
      "updating: outputs_cleaned/2021-01-15.csv (deflated 57%)\n",
      "updating: outputs_cleaned/2021-01-01.csv (deflated 57%)\n",
      "updating: outputs_cleaned/2022-08-24.csv (deflated 64%)\n",
      "updating: outputs_cleaned/2020-04-30.csv (deflated 58%)\n",
      "updating: outputs_cleaned/2020-09-28.csv (deflated 59%)\n",
      "updating: outputs_cleaned/2022-05-20.csv (deflated 64%)\n",
      "updating: outputs_cleaned/2022-08-12.csv (deflated 66%)\n",
      "updating: outputs_cleaned/2020-01-27.csv (deflated 59%)\n",
      "updating: outputs_cleaned/2021-12-14.csv (deflated 60%)\n",
      "updating: outputs_cleaned/2022-01-04.csv (deflated 59%)\n",
      "updating: outputs_cleaned/2021-03-19.csv (deflated 66%)\n",
      "updating: outputs_cleaned/2020-03-17.csv (deflated 56%)\n",
      "updating: outputs_cleaned/2020-11-12.csv (deflated 63%)\n",
      "updating: outputs_cleaned/2020-05-21.csv (deflated 56%)\n",
      "updating: outputs_cleaned/2020-08-21.csv (deflated 58%)\n",
      "updating: outputs_cleaned/2020-05-18.csv (deflated 58%)\n",
      "updating: outputs_cleaned/2020-10-11.csv (deflated 64%)\n",
      "updating: outputs_cleaned/2020-12-04.csv (deflated 58%)\n",
      "updating: outputs_cleaned/2019-12-27.csv (deflated 59%)\n",
      "updating: outputs_cleaned/2022-09-17.csv (deflated 64%)\n",
      "updating: outputs_cleaned/2021-10-10.csv (deflated 61%)\n",
      "updating: outputs_cleaned/2020-04-06.csv (deflated 57%)\n",
      "updating: outputs_cleaned/2022-06-16.csv (deflated 62%)\n",
      "updating: outputs_cleaned/2022-02-13.csv (deflated 58%)\n",
      "updating: outputs_cleaned/2022-06-05.csv (deflated 65%)\n",
      "updating: outputs_cleaned/2021-12-03.csv (deflated 58%)\n",
      "updating: outputs_cleaned/2022-04-08.csv (deflated 61%)\n",
      "updating: outputs_cleaned/2021-01-04.csv (deflated 58%)\n",
      "updating: outputs_cleaned/2020-04-26.csv (deflated 57%)\n",
      "updating: outputs_cleaned/2020-09-03.csv (deflated 59%)\n",
      "updating: outputs_cleaned/2020-12-17.csv (deflated 55%)\n",
      "updating: outputs_cleaned/2020-10-23.csv (deflated 64%)\n",
      "updating: outputs_cleaned/2019-11-29.csv (deflated 59%)\n",
      "updating: outputs_cleaned/2021-01-20.csv (deflated 70%)\n",
      "updating: outputs_cleaned/2020-11-11.csv (deflated 58%)\n",
      "updating: outputs_cleaned/2021-04-14.csv (deflated 59%)\n",
      "updating: outputs_cleaned/2022-04-05.csv (deflated 62%)\n",
      "updating: outputs_cleaned/2021-06-30.csv (deflated 61%)\n",
      "updating: outputs_cleaned/2021-09-07.csv (deflated 58%)\n",
      "updating: outputs_cleaned/2020-03-29.csv (deflated 57%)\n",
      "updating: outputs_cleaned/2022-06-08.csv (deflated 66%)\n",
      "updating: outputs_cleaned/2021-10-30.csv (deflated 60%)\n",
      "updating: outputs_cleaned/2022-09-10.csv (deflated 65%)\n",
      "updating: outputs_cleaned/2021-12-05.csv (deflated 60%)\n",
      "updating: outputs_cleaned/2021-06-11.csv (deflated 57%)\n",
      "updating: outputs_cleaned/2020-04-23.csv (deflated 56%)\n",
      "updating: outputs_cleaned/2022-03-01.csv (deflated 57%)\n",
      "updating: outputs_cleaned/2021-11-14.csv (deflated 60%)\n",
      "updating: outputs_cleaned/2020-06-28.csv (deflated 62%)\n",
      "updating: outputs_cleaned/2020-08-16.csv (deflated 59%)\n",
      "updating: outputs_cleaned/2021-02-01.csv (deflated 60%)\n",
      "updating: outputs_cleaned/2021-02-03.csv (deflated 59%)\n",
      "updating: outputs_cleaned/2022-04-23.csv (deflated 66%)\n",
      "updating: outputs_cleaned/2020-10-06.csv (deflated 64%)\n",
      "updating: outputs_cleaned/2020-04-02.csv (deflated 55%)\n",
      "updating: outputs_cleaned/2020-01-11.csv (deflated 56%)\n",
      "updating: outputs_cleaned/2020-09-20.csv (deflated 59%)\n",
      "updating: outputs_cleaned/2021-01-19.csv (deflated 60%)\n",
      "updating: outputs_cleaned/2022-07-26.csv (deflated 68%)\n",
      "updating: outputs_cleaned/2022-10-01.csv (deflated 66%)\n",
      "updating: outputs_cleaned/2022-01-02.csv (deflated 61%)\n",
      "updating: outputs_cleaned/2020-06-23.csv (deflated 58%)\n",
      "updating: outputs_cleaned/2021-04-16.csv (deflated 58%)\n",
      "updating: outputs_cleaned/2021-06-17.csv (deflated 61%)\n",
      "updating: outputs_cleaned/2020-12-14.csv (deflated 57%)\n",
      "updating: outputs_cleaned/2022-09-28.csv (deflated 61%)\n",
      "updating: outputs_cleaned/2021-10-14.csv (deflated 59%)\n",
      "updating: outputs_cleaned/2022-02-27.csv (deflated 58%)\n",
      "updating: outputs_cleaned/2020-04-05.csv (deflated 58%)\n",
      "updating: outputs_cleaned/2022-09-25.csv (deflated 63%)\n",
      "updating: outputs_cleaned/2020-07-24.csv (deflated 58%)\n",
      "updating: outputs_cleaned/2020-10-28.csv (deflated 60%)\n",
      "updating: outputs_cleaned/2022-02-04.csv (deflated 56%)\n",
      "updating: outputs_cleaned/2019-12-25.csv (deflated 59%)\n",
      "updating: outputs_cleaned/2021-01-18.csv (deflated 60%)\n",
      "updating: outputs_cleaned/2021-02-11.csv (deflated 54%)\n",
      "updating: outputs_cleaned/2021-09-30.csv (deflated 60%)\n",
      "updating: outputs_cleaned/2022-01-29.csv (deflated 60%)\n",
      "updating: outputs_cleaned/2021-10-16.csv (deflated 59%)\n",
      "updating: outputs_cleaned/2020-05-11.csv (deflated 59%)\n",
      "updating: outputs_cleaned/2022-08-07.csv (deflated 66%)\n",
      "updating: outputs_cleaned/2020-08-14.csv (deflated 62%)\n",
      "updating: outputs_cleaned/2021-04-03.csv (deflated 60%)\n",
      "updating: outputs_cleaned/2022-08-29.csv (deflated 62%)\n",
      "updating: outputs_cleaned/2022-02-20.csv (deflated 58%)\n",
      "updating: outputs_cleaned/2022-07-22.csv (deflated 65%)\n",
      "updating: outputs_cleaned/2019-12-03.csv (deflated 59%)\n",
      "updating: outputs_cleaned/2020-10-12.csv (deflated 63%)\n",
      "updating: outputs_cleaned/2020-08-11.csv (deflated 60%)\n",
      "updating: outputs_cleaned/2020-03-05.csv (deflated 57%)\n",
      "updating: outputs_cleaned/2022-08-03.csv (deflated 64%)\n",
      "updating: outputs_cleaned/2021-01-24.csv (deflated 60%)\n",
      "updating: outputs_cleaned/2020-11-25.csv (deflated 56%)\n",
      "updating: outputs_cleaned/2020-07-29.csv (deflated 56%)\n",
      "updating: outputs_cleaned/2020-04-21.csv (deflated 58%)\n",
      "updating: outputs_cleaned/2021-06-04.csv (deflated 57%)\n",
      "updating: outputs_cleaned/2021-06-26.csv (deflated 59%)\n",
      "updating: outputs_cleaned/2020-01-31.csv (deflated 57%)\n",
      "updating: outputs_cleaned/2020-07-22.csv (deflated 57%)\n",
      "updating: outputs_cleaned/2020-09-29.csv (deflated 60%)\n",
      "updating: outputs_cleaned/2021-10-25.csv (deflated 60%)\n",
      "updating: outputs_cleaned/2019-12-09.csv (deflated 59%)\n",
      "updating: outputs_cleaned/2022-03-26.csv (deflated 64%)\n",
      "updating: outputs_cleaned/2021-03-27.csv (deflated 62%)\n",
      "updating: outputs_cleaned/2022-06-22.csv (deflated 61%)\n",
      "updating: outputs_cleaned/2021-08-13.csv (deflated 59%)\n",
      "updating: outputs_cleaned/2020-01-30.csv (deflated 57%)\n",
      "updating: outputs_cleaned/2021-04-27.csv (deflated 59%)\n",
      "updating: outputs_cleaned/2021-09-27.csv (deflated 60%)\n",
      "updating: outputs_cleaned/2020-02-01.csv (deflated 57%)\n",
      "updating: outputs_cleaned/2021-11-08.csv (deflated 54%)\n",
      "updating: outputs_cleaned/2020-09-23.csv (deflated 57%)\n",
      "updating: outputs_cleaned/2021-12-26.csv (deflated 60%)\n",
      "updating: outputs_cleaned/2021-08-22.csv (deflated 60%)\n",
      "updating: outputs_cleaned/2021-02-17.csv (deflated 59%)\n",
      "updating: outputs_cleaned/2020-10-31.csv (deflated 63%)\n",
      "updating: outputs_cleaned/2020-04-10.csv (deflated 58%)\n",
      "updating: outputs_cleaned/2020-06-13.csv (deflated 58%)\n",
      "updating: outputs_cleaned/2021-07-30.csv (deflated 58%)\n",
      "updating: outputs_cleaned/2022-08-21.csv (deflated 63%)\n",
      "updating: outputs_cleaned/2020-06-07.csv (deflated 59%)\n",
      "updating: outputs_cleaned/2020-12-24.csv (deflated 56%)\n",
      "updating: outputs_cleaned/2021-01-03.csv (deflated 57%)\n",
      "updating: outputs_cleaned/2020-08-28.csv (deflated 60%)\n",
      "updating: outputs_cleaned/2022-05-07.csv (deflated 61%)\n",
      "updating: outputs_cleaned/2021-09-08.csv (deflated 60%)\n",
      "updating: outputs_cleaned/2020-01-13.csv (deflated 56%)\n",
      "updating: outputs_cleaned/2020-08-23.csv (deflated 62%)\n",
      "updating: outputs_cleaned/2020-06-11.csv (deflated 61%)\n",
      "updating: outputs_cleaned/2020-01-19.csv (deflated 58%)\n",
      "updating: outputs_cleaned/2019-12-18.csv (deflated 58%)\n",
      "updating: outputs_cleaned/2020-01-05.csv (deflated 61%)\n",
      "updating: outputs_cleaned/2022-01-27.csv (deflated 57%)\n",
      "updating: outputs_cleaned/2020-06-17.csv (deflated 59%)\n",
      "updating: outputs_cleaned/2020-03-08.csv (deflated 55%)\n",
      "updating: outputs_cleaned/2020-01-01.csv (deflated 63%)\n",
      "updating: outputs_cleaned/2021-09-22.csv (deflated 60%)\n",
      "updating: outputs_cleaned/2021-10-06.csv (deflated 59%)\n",
      "updating: outputs_cleaned/2021-12-16.csv (deflated 61%)\n",
      "updating: outputs_cleaned/2021-09-03.csv (deflated 61%)\n",
      "updating: outputs_cleaned/2021-11-07.csv (deflated 59%)\n",
      "updating: outputs_cleaned/2021-10-12.csv (deflated 60%)\n",
      "updating: outputs_cleaned/2021-05-18.csv (deflated 59%)\n",
      "updating: outputs_cleaned/2020-05-06.csv (deflated 56%)\n",
      "updating: outputs_cleaned/2020-02-19.csv (deflated 58%)\n",
      "updating: outputs_cleaned/2021-06-19.csv (deflated 62%)\n",
      "updating: outputs_cleaned/2021-07-10.csv (deflated 61%)\n",
      "updating: outputs_cleaned/2020-12-19.csv (deflated 67%)\n",
      "updating: outputs_cleaned/2021-01-22.csv (deflated 58%)\n",
      "updating: outputs_cleaned/2020-10-15.csv (deflated 66%)\n",
      "updating: outputs_cleaned/2021-01-29.csv (deflated 58%)\n",
      "updating: outputs_cleaned/2021-03-24.csv (deflated 62%)\n",
      "updating: outputs_cleaned/2020-11-19.csv (deflated 57%)\n",
      "updating: outputs_cleaned/2020-02-14.csv (deflated 57%)\n",
      "updating: outputs_cleaned/2022-08-15.csv (deflated 66%)\n",
      "updating: outputs_cleaned/2020-12-10.csv (deflated 58%)\n",
      "updating: outputs_cleaned/2020-10-21.csv (deflated 69%)\n",
      "updating: outputs_cleaned/2022-09-07.csv (deflated 64%)\n",
      "updating: outputs_cleaned/2021-04-04.csv (deflated 64%)\n",
      "updating: outputs_cleaned/2021-05-06.csv (deflated 60%)\n",
      "updating: outputs_cleaned/2022-06-27.csv (deflated 62%)\n",
      "updating: outputs_cleaned/2021-10-02.csv (deflated 61%)\n",
      "updating: outputs_cleaned/2022-02-28.csv (deflated 55%)\n",
      "updating: outputs_cleaned/2022-09-16.csv (deflated 62%)\n",
      "updating: outputs_cleaned/2021-06-27.csv (deflated 57%)\n",
      "updating: outputs_cleaned/2022-06-21.csv (deflated 63%)\n",
      "updating: outputs_cleaned/2020-09-16.csv (deflated 57%)\n",
      "updating: outputs_cleaned/2021-03-06.csv (deflated 61%)\n",
      "updating: outputs_cleaned/2020-03-16.csv (deflated 57%)\n",
      "updating: outputs_cleaned/2020-07-06.csv (deflated 58%)\n",
      "updating: outputs_cleaned/2021-01-28.csv (deflated 60%)\n",
      "updating: outputs_cleaned/2021-11-13.csv (deflated 56%)\n",
      "updating: outputs_cleaned/2022-07-31.csv (deflated 66%)\n",
      "updating: outputs_cleaned/2020-06-22.csv (deflated 58%)\n",
      "updating: outputs_cleaned/2021-05-12.csv (deflated 56%)\n",
      "updating: outputs_cleaned/2020-11-02.csv (deflated 64%)\n",
      "updating: outputs_cleaned/2021-09-04.csv (deflated 63%)\n",
      "updating: outputs_cleaned/2021-05-03.csv (deflated 60%)\n",
      "updating: outputs_cleaned/2021-09-20.csv (deflated 59%)\n",
      "updating: outputs_cleaned/2021-11-12.csv (deflated 56%)\n",
      "updating: outputs_cleaned/2021-03-15.csv (deflated 64%)\n",
      "updating: outputs_cleaned/2019-12-28.csv (deflated 58%)\n",
      "updating: outputs_cleaned/2021-05-08.csv (deflated 60%)\n",
      "updating: outputs_cleaned/2020-05-23.csv (deflated 57%)\n",
      "updating: outputs_cleaned/2022-06-13.csv (deflated 60%)\n",
      "updating: outputs_cleaned/2022-05-05.csv (deflated 64%)\n",
      "updating: outputs_cleaned/2020-08-05.csv (deflated 57%)\n",
      "updating: outputs_cleaned/2020-08-26.csv (deflated 61%)\n",
      "updating: outputs_cleaned/2021-11-06.csv (deflated 61%)\n",
      "updating: outputs_cleaned/2022-02-10.csv (deflated 59%)\n",
      "updating: outputs_cleaned/2022-08-11.csv (deflated 64%)\n",
      "updating: outputs_cleaned/2022-08-09.csv (deflated 66%)\n",
      "updating: outputs_cleaned/2020-10-16.csv (deflated 69%)\n",
      "updating: outputs_cleaned/2020-04-17.csv (deflated 57%)\n",
      "updating: outputs_cleaned/2021-04-15.csv (deflated 58%)\n",
      "updating: outputs_cleaned/2022-03-10.csv (deflated 57%)\n",
      "updating: outputs_cleaned/2021-06-12.csv (deflated 75%)\n",
      "updating: outputs_cleaned/2019-11-30.csv (deflated 58%)\n",
      "updating: outputs_cleaned/2021-04-29.csv (deflated 61%)\n",
      "updating: outputs_cleaned/2020-12-20.csv (deflated 57%)\n",
      "updating: outputs_cleaned/2020-11-13.csv (deflated 57%)\n",
      "updating: outputs_cleaned/2022-01-09.csv (deflated 58%)\n",
      "updating: outputs_cleaned/2021-11-02.csv (deflated 59%)\n",
      "updating: outputs_cleaned/2022-02-23.csv (deflated 57%)\n",
      "updating: outputs_cleaned/2020-12-05.csv (deflated 56%)\n",
      "updating: outputs_cleaned/2020-04-08.csv (deflated 56%)\n",
      "updating: outputs_cleaned/2020-08-27.csv (deflated 60%)\n",
      "updating: outputs_cleaned/2022-04-24.csv (deflated 61%)\n",
      "updating: outputs_cleaned/2021-06-23.csv (deflated 60%)\n",
      "updating: outputs_cleaned/2021-07-01.csv (deflated 62%)\n",
      "updating: outputs_cleaned/2022-08-17.csv (deflated 65%)\n",
      "updating: outputs_cleaned/2020-02-04.csv (deflated 57%)\n",
      "updating: outputs_cleaned/2020-06-02.csv (deflated 57%)\n",
      "updating: outputs_cleaned/2022-09-23.csv (deflated 62%)\n",
      "updating: outputs_cleaned/2021-07-12.csv (deflated 68%)\n",
      "updating: outputs_cleaned/2021-10-11.csv (deflated 61%)\n",
      "updating: outputs_cleaned/2019-12-06.csv (deflated 58%)\n",
      "updating: outputs_cleaned/2020-05-12.csv (deflated 57%)\n",
      "updating: outputs_cleaned/2020-10-20.csv (deflated 61%)\n",
      "updating: outputs_cleaned/2021-05-16.csv (deflated 56%)\n",
      "updating: outputs_cleaned/2022-08-10.csv (deflated 67%)\n",
      "updating: outputs_cleaned/2020-07-03.csv (deflated 59%)\n",
      "updating: outputs_cleaned/2020-08-13.csv (deflated 60%)\n",
      "updating: outputs_cleaned/2021-02-26.csv (deflated 59%)\n",
      "updating: outputs_cleaned/2020-03-28.csv (deflated 56%)\n",
      "updating: outputs_cleaned/2020-12-01.csv (deflated 57%)\n",
      "updating: outputs_cleaned/2020-06-21.csv (deflated 58%)\n",
      "updating: outputs_cleaned/2021-09-12.csv (deflated 62%)\n",
      "updating: outputs_cleaned/2020-08-01.csv (deflated 56%)\n",
      "updating: outputs_cleaned/2020-08-04.csv (deflated 57%)\n",
      "updating: outputs_cleaned/2019-12-10.csv (deflated 58%)\n",
      "updating: outputs_cleaned/2020-10-02.csv (deflated 77%)\n",
      "updating: outputs_cleaned/2021-05-04.csv (deflated 61%)\n",
      "updating: outputs_cleaned/2020-05-09.csv (deflated 59%)\n",
      "updating: outputs_cleaned/2020-09-17.csv (deflated 60%)\n",
      "updating: outputs_cleaned/2021-01-25.csv (deflated 58%)\n",
      "updating: outputs_cleaned/2020-02-23.csv (deflated 58%)\n",
      "updating: outputs_cleaned/2022-01-08.csv (deflated 59%)\n",
      "updating: outputs_cleaned/2020-11-24.csv (deflated 55%)\n",
      "updating: outputs_cleaned/2021-12-06.csv (deflated 57%)\n",
      "updating: outputs_cleaned/2021-10-24.csv (deflated 61%)\n",
      "updating: outputs_cleaned/2021-04-25.csv (deflated 58%)\n",
      "updating: outputs_cleaned/2022-04-09.csv (deflated 62%)\n",
      "updating: outputs_cleaned/2022-02-07.csv (deflated 57%)\n",
      "updating: outputs_cleaned/2019-12-08.csv (deflated 59%)\n",
      "updating: outputs_cleaned/2022-02-21.csv (deflated 56%)\n",
      "updating: outputs_cleaned/2021-03-30.csv (deflated 66%)\n",
      "updating: outputs_cleaned/2020-03-03.csv (deflated 56%)\n",
      "updating: outputs_cleaned/2020-02-05.csv (deflated 57%)\n",
      "updating: outputs_cleaned/2020-03-27.csv (deflated 56%)\n",
      "updating: outputs_cleaned/2020-10-01.csv (deflated 75%)\n",
      "updating: outputs_cleaned/2021-05-13.csv (deflated 57%)\n",
      "updating: outputs_cleaned/2020-03-09.csv (deflated 58%)\n",
      "updating: outputs_cleaned/2020-05-16.csv (deflated 56%)\n",
      "updating: outputs_cleaned/2022-05-17.csv (deflated 62%)\n",
      "updating: outputs_cleaned/2020-06-29.csv (deflated 58%)\n",
      "updating: outputs_cleaned/2020-09-30.csv (deflated 75%)\n",
      "updating: outputs_cleaned/2022-09-18.csv (deflated 64%)\n",
      "updating: outputs_cleaned/2021-11-22.csv (deflated 59%)\n",
      "updating: outputs_cleaned/2022-03-04.csv (deflated 57%)\n",
      "updating: outputs_cleaned/2022-01-22.csv (deflated 58%)\n",
      "updating: outputs_cleaned/2022-08-27.csv (deflated 65%)\n",
      "updating: outputs_cleaned/2020-05-05.csv (deflated 58%)\n",
      "updating: outputs_cleaned/2022-01-26.csv (deflated 58%)\n",
      "updating: outputs_cleaned/2022-06-29.csv (deflated 63%)\n",
      "updating: outputs_cleaned/2021-11-16.csv (deflated 58%)\n",
      "updating: outputs_cleaned/2020-06-01.csv (deflated 59%)\n",
      "updating: outputs_cleaned/2020-01-10.csv (deflated 57%)\n",
      "updating: outputs_cleaned/2021-02-22.csv (deflated 58%)\n",
      "updating: outputs_cleaned/2022-08-04.csv (deflated 67%)\n",
      "updating: outputs_cleaned/2022-05-16.csv (deflated 62%)\n",
      "updating: outputs_cleaned/2020-09-11.csv (deflated 63%)\n",
      "updating: outputs_cleaned/2020-07-23.csv (deflated 57%)\n",
      "updating: outputs_cleaned/2022-08-23.csv (deflated 62%)\n",
      "updating: outputs_cleaned/2021-09-14.csv (deflated 61%)\n",
      "updating: outputs_cleaned/2020-03-26.csv (deflated 58%)\n",
      "updating: outputs_cleaned/2022-07-09.csv (deflated 65%)\n",
      "updating: outputs_cleaned/2019-12-19.csv (deflated 59%)\n",
      "updating: outputs_cleaned/2020-06-08.csv (deflated 59%)\n",
      "updating: outputs_cleaned/2020-12-22.csv (deflated 58%)\n",
      "updating: outputs_cleaned/2020-08-08.csv (deflated 66%)\n",
      "updating: outputs_cleaned/2021-09-28.csv (deflated 60%)\n",
      "updating: outputs_cleaned/2020-03-25.csv (deflated 56%)\n",
      "updating: outputs_cleaned/2022-02-22.csv (deflated 57%)\n",
      "updating: outputs_cleaned/2021-05-30.csv (deflated 60%)\n",
      "updating: outputs_cleaned/2022-06-20.csv (deflated 63%)\n",
      "updating: outputs_cleaned/2020-07-20.csv (deflated 58%)\n",
      "updating: outputs_cleaned/2021-04-26.csv (deflated 57%)\n",
      "updating: outputs_cleaned/2021-12-02.csv (deflated 60%)\n",
      "updating: outputs_cleaned/2020-12-18.csv (deflated 67%)\n",
      "updating: outputs_cleaned/2020-02-13.csv (deflated 58%)\n",
      "updating: outputs_cleaned/2022-07-01.csv (deflated 63%)\n",
      "updating: outputs_cleaned/2022-01-25.csv (deflated 59%)\n",
      "updating: outputs_cleaned/2022-02-02.csv (deflated 57%)\n",
      "updating: outputs_cleaned/2020-08-09.csv (deflated 64%)\n",
      "updating: outputs_cleaned/2021-01-12.csv (deflated 57%)\n",
      "updating: outputs_cleaned/2020-08-19.csv (deflated 59%)\n",
      "updating: outputs_cleaned/2020-06-24.csv (deflated 57%)\n",
      "updating: outputs_cleaned/2020-12-07.csv (deflated 73%)\n",
      "updating: outputs_cleaned/2021-07-31.csv (deflated 62%)\n",
      "updating: outputs_cleaned/2020-09-06.csv (deflated 59%)\n",
      "updating: outputs_cleaned/2020-01-20.csv (deflated 57%)\n",
      "updating: outputs_cleaned/2020-09-25.csv (deflated 59%)\n",
      "updating: outputs_cleaned/2020-07-11.csv (deflated 59%)\n",
      "updating: outputs_cleaned/2020-09-22.csv (deflated 59%)\n",
      "updating: outputs_cleaned/2020-11-26.csv (deflated 56%)\n",
      "updating: outputs_cleaned/2020-07-10.csv (deflated 58%)\n",
      "updating: outputs_cleaned/2021-08-29.csv (deflated 61%)\n",
      "updating: outputs_cleaned/2021-02-15.csv (deflated 59%)\n",
      "updating: outputs_cleaned/2021-04-24.csv (deflated 60%)\n",
      "updating: outputs_cleaned/2020-09-09.csv (deflated 64%)\n",
      "updating: outputs_cleaned/2022-05-02.csv (deflated 64%)\n",
      "updating: outputs_cleaned/2020-08-30.csv (deflated 61%)\n",
      "updating: outputs_cleaned/2020-10-07.csv (deflated 66%)\n",
      "updating: outputs_cleaned/2020-04-04.csv (deflated 56%)\n",
      "updating: outputs_cleaned/2021-06-24.csv (deflated 60%)\n",
      "updating: outputs_cleaned/2020-10-05.csv (deflated 64%)\n",
      "updating: outputs_cleaned/2022-03-27.csv (deflated 59%)\n",
      "updating: outputs_cleaned/2020-06-04.csv (deflated 57%)\n",
      "updating: outputs_cleaned/2021-02-27.csv (deflated 59%)\n",
      "updating: outputs_cleaned/2020-10-08.csv (deflated 72%)\n",
      "updating: outputs_cleaned/2019-12-21.csv (deflated 59%)\n",
      "updating: outputs_cleaned/2020-10-30.csv (deflated 61%)\n",
      "updating: outputs_cleaned/2022-09-05.csv (deflated 63%)\n",
      "updating: outputs_cleaned/2020-01-08.csv (deflated 58%)\n",
      "updating: outputs_cleaned/2022-08-19.csv (deflated 65%)\n",
      "updating: outputs_cleaned/2021-03-22.csv (deflated 60%)\n",
      "updating: outputs_cleaned/2020-10-17.csv (deflated 67%)\n",
      "updating: outputs_cleaned/2020-08-31.csv (deflated 60%)\n",
      "updating: outputs_cleaned/2021-08-31.csv (deflated 61%)\n",
      "updating: outputs_cleaned/2020-12-13.csv (deflated 58%)\n",
      "updating: outputs_cleaned/2022-04-22.csv (deflated 63%)\n",
      "updating: outputs_cleaned/2021-07-06.csv (deflated 62%)\n",
      "updating: outputs_cleaned/2020-12-11.csv (deflated 60%)\n",
      "updating: outputs_cleaned/2020-11-16.csv (deflated 64%)\n",
      "updating: outputs_cleaned/2021-08-27.csv (deflated 60%)\n",
      "updating: outputs_cleaned/2022-06-07.csv (deflated 64%)\n",
      "updating: outputs_cleaned/2020-07-09.csv (deflated 58%)\n",
      "updating: outputs_cleaned/2020-04-24.csv (deflated 57%)\n",
      "updating: outputs_cleaned/2020-07-04.csv (deflated 59%)\n",
      "updating: outputs_cleaned/2021-06-05.csv (deflated 58%)\n",
      "updating: outputs_cleaned/2020-12-16.csv (deflated 55%)\n",
      "updating: outputs_cleaned/2022-03-30.csv (deflated 63%)\n",
      "updating: outputs_cleaned/2020-07-19.csv (deflated 58%)\n",
      "updating: outputs_cleaned/2020-11-07.csv (deflated 64%)\n",
      "updating: outputs_cleaned/2021-05-19.csv (deflated 56%)\n",
      "updating: outputs_cleaned/2020-11-29.csv (deflated 57%)\n",
      "updating: outputs_cleaned/2020-11-01.csv (deflated 64%)\n",
      "updating: outputs_cleaned/2020-03-20.csv (deflated 56%)\n",
      "updating: outputs_cleaned/2020-04-25.csv (deflated 58%)\n",
      "updating: outputs_cleaned/2021-07-07.csv (deflated 62%)\n",
      "updating: outputs_cleaned/2022-07-18.csv (deflated 61%)\n",
      "updating: outputs_cleaned/2021-12-15.csv (deflated 60%)\n",
      "updating: outputs_cleaned/2022-01-10.csv (deflated 57%)\n",
      "updating: outputs_cleaned/2020-09-15.csv (deflated 59%)\n",
      "updating: outputs_cleaned/2020-02-12.csv (deflated 57%)\n",
      "updating: outputs_cleaned/2020-11-18.csv (deflated 57%)\n",
      "updating: outputs_cleaned/2020-12-08.csv (deflated 57%)\n",
      "updating: outputs_cleaned/2021-02-23.csv (deflated 65%)\n",
      "updating: outputs_cleaned/2022-06-04.csv (deflated 65%)\n",
      "updating: outputs_cleaned/2020-01-09.csv (deflated 57%)\n",
      "updating: outputs_cleaned/2021-12-07.csv (deflated 60%)\n",
      "updating: outputs_cleaned/2020-07-28.csv (deflated 55%)\n",
      "updating: outputs_cleaned/2020-03-15.csv (deflated 56%)\n",
      "updating: outputs_cleaned/2021-12-19.csv (deflated 61%)\n",
      "updating: outputs_cleaned/2021-09-13.csv (deflated 62%)\n",
      "updating: outputs_cleaned/2022-03-28.csv (deflated 58%)\n",
      "updating: outputs_cleaned/2021-05-23.csv (deflated 57%)\n",
      "updating: outputs_cleaned/2021-05-07.csv (deflated 59%)\n",
      "updating: outputs_cleaned/2020-05-22.csv (deflated 58%)\n",
      "updating: outputs_cleaned/2022-03-11.csv (deflated 59%)\n",
      "updating: outputs_cleaned/2020-04-14.csv (deflated 57%)\n",
      "updating: outputs_cleaned/2021-06-09.csv (deflated 57%)\n",
      "updating: outputs_cleaned/2021-03-01.csv (deflated 58%)\n",
      "updating: outputs_cleaned/2021-11-17.csv (deflated 58%)\n",
      "updating: outputs_cleaned/2020-09-13.csv (deflated 60%)\n",
      "updating: outputs_cleaned/2020-05-30.csv (deflated 57%)\n",
      "updating: outputs_cleaned/2020-07-17.csv (deflated 59%)\n",
      "updating: outputs_cleaned/2021-12-09.csv (deflated 58%)\n",
      "updating: outputs_cleaned/2022-02-05.csv (deflated 57%)\n",
      "updating: outputs_cleaned/2020-09-04.csv (deflated 60%)\n",
      "updating: outputs_cleaned/2020-01-02.csv (deflated 57%)\n",
      "updating: outputs_cleaned/2021-10-29.csv (deflated 60%)\n",
      "updating: outputs_cleaned/2022-06-19.csv (deflated 61%)\n",
      "updating: outputs_cleaned/2022-02-26.csv (deflated 58%)\n",
      "updating: outputs_cleaned/2021-06-25.csv (deflated 58%)\n",
      "updating: outputs_cleaned/2022-09-06.csv (deflated 62%)\n",
      "updating: outputs_cleaned/2020-08-22.csv (deflated 65%)\n",
      "updating: outputs_cleaned/2021-06-01.csv (deflated 60%)\n",
      "updating: outputs_cleaned/2022-03-03.csv (deflated 58%)\n",
      "updating: outputs_cleaned/2020-02-15.csv (deflated 57%)\n",
      "updating: outputs_cleaned/2020-01-15.csv (deflated 59%)\n",
      "updating: outputs_cleaned/2021-01-10.csv (deflated 58%)\n",
      "updating: outputs_cleaned/2021-08-12.csv (deflated 60%)\n",
      "updating: outputs_cleaned/2022-01-14.csv (deflated 61%)\n",
      "updating: outputs_cleaned/2021-10-08.csv (deflated 59%)\n",
      "updating: outputs_cleaned/2020-02-22.csv (deflated 57%)\n",
      "updating: outputs_cleaned/2020-05-07.csv (deflated 56%)\n",
      "updating: outputs_cleaned/2022-01-31.csv (deflated 60%)\n",
      "updating: outputs_cleaned/2022-08-20.csv (deflated 63%)\n",
      "updating: outputs_cleaned/2020-10-19.csv (deflated 63%)\n",
      "updating: outputs_cleaned/2020-05-20.csv (deflated 57%)\n",
      "updating: outputs_cleaned/2022-07-10.csv (deflated 64%)\n",
      "updating: outputs_cleaned/2021-01-27.csv (deflated 58%)\n",
      "updating: outputs_cleaned/2020-09-08.csv (deflated 61%)\n",
      "updating: outputs_cleaned/2022-06-10.csv (deflated 64%)\n",
      "updating: outputs_cleaned/2021-01-07.csv (deflated 55%)\n",
      "updating: outputs_cleaned/2020-03-13.csv (deflated 60%)\n",
      "updating: outputs_cleaned/2021-05-29.csv (deflated 59%)\n",
      "updating: outputs_cleaned/2022-05-14.csv (deflated 63%)\n",
      "updating: outputs_cleaned/2020-08-03.csv (deflated 59%)\n",
      "updating: outputs_cleaned/2021-08-26.csv (deflated 63%)\n",
      "updating: outputs_cleaned/2021-09-21.csv (deflated 59%)\n",
      "updating: outputs_cleaned/2020-03-22.csv (deflated 57%)\n",
      "updating: outputs_cleaned/2021-10-09.csv (deflated 62%)\n",
      "updating: outputs_cleaned/2021-11-15.csv (deflated 59%)\n",
      "updating: outputs_cleaned/2021-05-22.csv (deflated 58%)\n",
      "updating: outputs_cleaned/2021-09-11.csv (deflated 61%)\n",
      "updating: outputs_cleaned/2021-05-15.csv (deflated 59%)\n",
      "updating: outputs_cleaned/2021-01-17.csv (deflated 57%)\n",
      "updating: outputs_cleaned/2022-07-05.csv (deflated 64%)\n",
      "updating: outputs_cleaned/2022-08-14.csv (deflated 66%)\n",
      "updating: outputs_cleaned/2022-02-24.csv (deflated 58%)\n",
      "updating: outputs_cleaned/2020-12-31.csv (deflated 56%)\n",
      "updating: outputs_cleaned/2021-06-03.csv (deflated 60%)\n",
      "updating: outputs_cleaned/2021-07-08.csv (deflated 61%)\n",
      "updating: outputs_cleaned/2020-03-02.csv (deflated 57%)\n",
      "updating: outputs_cleaned/2021-03-23.csv (deflated 61%)\n",
      "updating: outputs_cleaned/2021-06-07.csv (deflated 57%)\n",
      "updating: outputs_cleaned/2021-08-02.csv (deflated 60%)\n",
      "updating: outputs_cleaned/2020-05-03.csv (deflated 57%)\n",
      "updating: outputs_cleaned/2019-12-14.csv (deflated 61%)\n",
      "updating: outputs_cleaned/2021-03-14.csv (deflated 70%)\n",
      "updating: outputs_cleaned/2022-01-15.csv (deflated 60%)\n",
      "updating: outputs_cleaned/2020-03-14.csv (deflated 57%)\n",
      "updating: outputs_cleaned/2022-02-11.csv (deflated 59%)\n",
      "updating: outputs_cleaned/2020-04-09.csv (deflated 56%)\n",
      "updating: outputs_cleaned/2022-10-05.csv (deflated 65%)\n",
      "updating: outputs_cleaned/2020-02-18.csv (deflated 57%)\n",
      "updating: outputs_cleaned/2020-05-25.csv (deflated 58%)\n",
      "updating: outputs_cleaned/2020-08-20.csv (deflated 61%)\n",
      "updating: outputs_cleaned/2021-01-26.csv (deflated 61%)\n",
      "updating: outputs_cleaned/2021-06-16.csv (deflated 59%)\n",
      "updating: outputs_cleaned/2022-09-14.csv (deflated 62%)\n",
      "updating: outputs_cleaned/2020-05-24.csv (deflated 56%)\n",
      "updating: outputs_cleaned/2020-09-26.csv (deflated 59%)\n",
      "updating: outputs_cleaned/2020-06-25.csv (deflated 58%)\n",
      "updating: outputs_cleaned/2020-04-13.csv (deflated 56%)\n",
      "updating: outputs_cleaned/2022-02-12.csv (deflated 59%)\n",
      "updating: outputs_cleaned/2022-05-06.csv (deflated 63%)\n",
      "updating: outputs_cleaned/2022-04-10.csv (deflated 61%)\n",
      "updating: outputs_cleaned/2020-12-25.csv (deflated 57%)\n",
      "updating: outputs_cleaned/2020-12-21.csv (deflated 56%)\n",
      "updating: outputs_cleaned/2022-09-26.csv (deflated 62%)\n",
      "updating: outputs_cleaned/2020-03-24.csv (deflated 55%)\n",
      "updating: outputs_cleaned/2020-02-11.csv (deflated 56%)\n",
      "updating: outputs_cleaned/2020-09-14.csv (deflated 61%)\n",
      "updating: outputs_cleaned/2021-01-08.csv (deflated 59%)\n",
      "updating: outputs_cleaned/2020-11-27.csv (deflated 56%)\n",
      "updating: outputs_cleaned/2022-03-24.csv (deflated 61%)\n",
      "updating: outputs_cleaned/2020-06-26.csv (deflated 58%)\n",
      "updating: outputs_cleaned/2022-01-07.csv (deflated 61%)\n",
      "updating: outputs_cleaned/2019-12-13.csv (deflated 59%)\n",
      "updating: outputs_cleaned/2021-08-30.csv (deflated 60%)\n",
      "updating: outputs_cleaned/2021-01-30.csv (deflated 60%)\n",
      "updating: outputs_cleaned/2019-11-24.csv (deflated 59%)\n",
      "updating: outputs_cleaned/2020-05-27.csv (deflated 57%)\n",
      "updating: outputs_cleaned/2020-06-27.csv (deflated 58%)\n",
      "updating: outputs_cleaned/2022-08-25.csv (deflated 64%)\n",
      "updating: outputs_cleaned/2022-03-31.csv (deflated 60%)\n",
      "updating: outputs_cleaned/2021-02-21.csv (deflated 58%)\n",
      "updating: outputs_cleaned/2020-03-21.csv (deflated 56%)\n",
      "updating: outputs_cleaned/2020-11-09.csv (deflated 61%)\n",
      "updating: outputs_cleaned/2020-11-17.csv (deflated 54%)\n",
      "updating: outputs_cleaned/2021-03-16.csv (deflated 58%)\n",
      "updating: outputs_cleaned/2022-09-08.csv (deflated 63%)\n",
      "updating: outputs_cleaned/2022-08-16.csv (deflated 65%)\n",
      "updating: outputs_cleaned/2020-10-25.csv (deflated 62%)\n",
      "updating: outputs_cleaned/2021-02-16.csv (deflated 57%)\n",
      "updating: outputs_cleaned/2021-03-08.csv (deflated 61%)\n",
      "updating: outputs_cleaned/2020-10-10.csv (deflated 69%)\n",
      "updating: outputs_cleaned/2021-04-30.csv (deflated 59%)\n",
      "updating: outputs_cleaned/2020-05-02.csv (deflated 59%)\n",
      "updating: outputs_cleaned/2020-06-18.csv (deflated 57%)\n",
      "updating: outputs_cleaned/2021-10-07.csv (deflated 59%)\n",
      "updating: outputs_cleaned/2021-12-10.csv (deflated 59%)\n",
      "updating: outputs_cleaned/2021-05-05.csv (deflated 61%)\n",
      "updating: outputs_cleaned/2021-12-31.csv (deflated 61%)\n",
      "updating: outputs_cleaned/2020-02-20.csv (deflated 58%)\n",
      "updating: outputs_cleaned/2020-10-29.csv (deflated 64%)\n",
      "updating: outputs_cleaned/2022-04-01.csv (deflated 63%)\n",
      "updating: outputs_cleaned/2021-03-21.csv (deflated 60%)\n",
      "updating: outputs_cleaned/2022-04-02.csv (deflated 64%)\n",
      "updating: outputs_cleaned/2021-01-02.csv (deflated 60%)\n",
      "updating: outputs_cleaned/2020-07-18.csv (deflated 61%)\n",
      "updating: outputs_cleaned/2021-11-01.csv (deflated 60%)\n",
      "updating: outputs_cleaned/2021-11-03.csv (deflated 58%)\n",
      "updating: outputs_cleaned/2020-02-10.csv (deflated 56%)\n",
      "updating: outputs_cleaned/2020-08-10.csv (deflated 61%)\n",
      "updating: outputs_cleaned/2022-01-18.csv (deflated 59%)\n",
      "updating: outputs_cleaned/2022-01-30.csv (deflated 60%)\n",
      "updating: outputs_cleaned/2020-03-10.csv (deflated 57%)\n",
      "updating: outputs_cleaned/2020-05-15.csv (deflated 56%)\n",
      "updating: outputs_cleaned/2021-11-23.csv (deflated 59%)\n",
      "updating: outputs_cleaned/2021-04-12.csv (deflated 58%)\n",
      "updating: outputs_cleaned/2022-10-03.csv (deflated 63%)\n",
      "updating: outputs_cleaned/2021-06-08.csv (deflated 57%)\n",
      "updating: outputs_cleaned/2020-02-21.csv (deflated 58%)\n",
      "updating: outputs_cleaned/2022-07-07.csv (deflated 62%)\n",
      "updating: outputs_cleaned/2022-03-12.csv (deflated 60%)\n",
      "updating: outputs_cleaned/2021-01-06.csv (deflated 55%)\n",
      "updating: outputs_cleaned/2020-01-12.csv (deflated 57%)\n",
      "updating: outputs_cleaned/2020-03-06.csv (deflated 56%)\n",
      "updating: outputs_cleaned/2022-01-23.csv (deflated 58%)\n",
      "updating: outputs_cleaned/2020-03-11.csv (deflated 57%)\n",
      "updating: outputs_cleaned/2021-05-20.csv (deflated 61%)\n",
      "updating: outputs_cleaned/2020-01-07.csv (deflated 56%)\n",
      "updating: outputs_cleaned/2022-08-05.csv (deflated 67%)\n",
      "updating: outputs_cleaned/2020-09-21.csv (deflated 58%)\n",
      "updating: outputs_cleaned/2021-09-26.csv (deflated 62%)\n",
      "updating: outputs_cleaned/2022-05-04.csv (deflated 64%)\n",
      "updating: outputs_cleaned/2020-05-01.csv (deflated 56%)\n",
      "updating: outputs_cleaned/2019-12-04.csv (deflated 58%)\n",
      "updating: outputs_cleaned/2022-09-15.csv (deflated 61%)\n",
      "updating: outputs_cleaned/2021-12-22.csv (deflated 61%)\n",
      "updating: outputs_cleaned/2021-03-09.csv (deflated 60%)\n",
      "updating: outputs_cleaned/2020-11-04.csv (deflated 64%)\n",
      "updating: outputs_cleaned/2022-07-28.csv (deflated 64%)\n",
      "updating: outputs_cleaned/2021-03-18.csv (deflated 62%)\n",
      "updating: outputs_cleaned/2022-08-13.csv (deflated 68%)\n",
      "updating: outputs_cleaned/2022-01-17.csv (deflated 58%)\n",
      "updating: outputs_cleaned/2020-08-07.csv (deflated 61%)\n",
      "updating: outputs_cleaned/2021-08-09.csv (deflated 60%)\n",
      "updating: outputs_cleaned/2020-08-29.csv (deflated 63%)\n",
      "updating: outputs_cleaned/2021-10-13.csv (deflated 60%)\n",
      "updating: outputs_cleaned/2022-07-08.csv (deflated 62%)\n",
      "updating: outputs_cleaned/2021-12-25.csv (deflated 62%)\n",
      "updating: outputs_cleaned/2020-05-13.csv (deflated 57%)\n",
      "updating: outputs_cleaned/2021-09-24.csv (deflated 61%)\n",
      "updating: outputs_cleaned/2022-04-04.csv (deflated 62%)\n",
      "updating: outputs_cleaned/2020-09-02.csv (deflated 61%)\n",
      "updating: outputs_cleaned/2020-11-21.csv (deflated 56%)\n",
      "updating: outputs_cleaned/2022-07-04.csv (deflated 62%)\n",
      "updating: outputs_cleaned/2022-04-07.csv (deflated 61%)\n",
      "updating: outputs_cleaned/2021-02-04.csv (deflated 59%)\n",
      "updating: outputs_cleaned/2021-11-29.csv (deflated 58%)\n",
      "updating: outputs_cleaned/2020-01-29.csv (deflated 58%)\n",
      "updating: outputs_cleaned/2021-03-17.csv (deflated 61%)\n",
      "updating: outputs_cleaned/2022-03-13.csv (deflated 58%)\n",
      "updating: outputs_cleaned/2021-10-05.csv (deflated 59%)\n",
      "updating: outputs_cleaned/2020-01-24.csv (deflated 59%)\n",
      "updating: outputs_cleaned/2021-09-01.csv (deflated 60%)\n",
      "updating: outputs_cleaned/2020-02-09.csv (deflated 56%)\n",
      "updating: outputs_cleaned/2020-06-12.csv (deflated 58%)\n",
      "updating: outputs_cleaned/2021-01-16.csv (deflated 58%)\n",
      "updating: outputs_cleaned/2020-09-01.csv (deflated 59%)\n",
      "updating: outputs_cleaned/2021-03-10.csv (deflated 63%)\n",
      "updating: outputs_cleaned/2021-12-01.csv (deflated 58%)\n",
      "updating: outputs_cleaned/2021-09-09.csv (deflated 60%)\n",
      "updating: outputs_cleaned/2020-07-30.csv (deflated 57%)\n",
      "updating: outputs_cleaned/2020-11-05.csv (deflated 58%)\n",
      "updating: outputs_cleaned/2020-10-09.csv (deflated 70%)\n",
      "updating: outputs_cleaned/2020-11-28.csv (deflated 57%)\n",
      "updating: outputs_cleaned/2021-11-19.csv (deflated 58%)\n",
      "updating: outputs_cleaned/2021-05-10.csv (deflated 59%)\n",
      "updating: outputs_cleaned/2020-11-03.csv (deflated 58%)\n",
      "updating: outputs_cleaned/2020-09-27.csv (deflated 64%)\n",
      "updating: outputs_cleaned/2020-12-27.csv (deflated 56%)\n",
      "updating: outputs_cleaned/2020-09-24.csv (deflated 58%)\n",
      "updating: outputs_cleaned/2022-05-15.csv (deflated 61%)\n",
      "updating: outputs_cleaned/2020-08-18.csv (deflated 58%)\n",
      "updating: outputs_cleaned/2019-11-28.csv (deflated 59%)\n",
      "updating: outputs_cleaned/2020-02-08.csv (deflated 56%)\n",
      "updating: outputs_cleaned/2021-12-13.csv (deflated 59%)\n",
      "updating: outputs_cleaned/2021-09-29.csv (deflated 61%)\n",
      "updating: outputs_cleaned/2019-12-02.csv (deflated 59%)\n",
      "updating: outputs_cleaned/2020-02-02.csv (deflated 55%)\n",
      "updating: outputs_cleaned/2022-08-01.csv (deflated 67%)\n",
      "updating: outputs_cleaned/2021-11-21.csv (deflated 61%)\n",
      "updating: outputs_cleaned/2020-08-25.csv (deflated 59%)\n",
      "updating: outputs_cleaned/2022-07-06.csv (deflated 63%)\n",
      "updating: outputs_cleaned/2020-05-19.csv (deflated 57%)\n",
      "updating: outputs_cleaned/2019-11-25.csv (deflated 59%)\n",
      "updating: outputs_cleaned/2019-12-15.csv (deflated 58%)\n",
      "updating: outputs_cleaned/2022-05-13.csv (deflated 60%)\n",
      "updating: outputs_cleaned/2020-02-25.csv (deflated 56%)\n",
      "updating: outputs_cleaned/2021-03-26.csv (deflated 64%)\n",
      "updating: outputs_cleaned/2021-04-02.csv (deflated 61%)\n",
      "updating: outputs_cleaned/2022-09-22.csv (deflated 61%)\n",
      "updating: outputs_cleaned/2020-06-20.csv (deflated 58%)\n",
      "updating: outputs_cleaned/2020-07-14.csv (deflated 59%)\n",
      "updating: outputs_cleaned/2020-07-07.csv (deflated 57%)\n",
      "updating: outputs_cleaned/2020-11-08.csv (deflated 59%)\n",
      "updating: outputs_cleaned/2020-11-15.csv (deflated 59%)\n",
      "updating: outputs_cleaned/2020-03-04.csv (deflated 58%)\n",
      "updating: outputs_cleaned/2022-02-09.csv (deflated 56%)\n",
      "updating: outputs_cleaned/2020-05-29.csv (deflated 57%)\n",
      "updating: outputs_cleaned/2020-11-06.csv (deflated 59%)\n",
      "updating: outputs_cleaned/2022-02-06.csv (deflated 56%)\n",
      "updating: outputs_cleaned/2019-11-26.csv (deflated 58%)\n",
      "updating: outputs_cleaned/2022-09-09.csv (deflated 62%)\n",
      "updating: outputs_cleaned/2021-02-24.csv (deflated 61%)\n",
      "updating: outputs_cleaned/2020-05-26.csv (deflated 59%)\n",
      "updating: outputs_cleaned/2020-06-06.csv (deflated 58%)\n",
      "updating: outputs_cleaned/2022-02-25.csv (deflated 57%)\n",
      "updating: outputs_cleaned/2021-03-29.csv (deflated 63%)\n",
      "updating: outputs_cleaned/2020-08-06.csv (deflated 67%)\n",
      "updating: outputs_cleaned/2021-05-24.csv (deflated 58%)\n",
      "updating: outputs_cleaned/2019-12-11.csv (deflated 58%)\n",
      "updating: outputs_cleaned/2021-12-28.csv (deflated 59%)\n",
      "updating: outputs_cleaned/2021-12-12.csv (deflated 61%)\n",
      "updating: outputs_cleaned/2020-09-19.csv (deflated 60%)\n",
      "updating: outputs_cleaned/2022-09-27.csv (deflated 62%)\n",
      "updating: outputs_cleaned/2022-08-28.csv (deflated 61%)\n",
      "updating: outputs_cleaned/2020-06-05.csv (deflated 58%)\n",
      "updating: outputs_cleaned/2020-11-22.csv (deflated 56%)\n",
      "updating: outputs_cleaned/2020-03-30.csv (deflated 57%)\n",
      "updating: outputs_cleaned/2022-09-24.csv (deflated 63%)\n",
      "updating: outputs_cleaned/2019-12-24.csv (deflated 58%)\n",
      "updating: outputs_cleaned/2020-01-17.csv (deflated 57%)\n",
      "updating: outputs_cleaned/2020-09-10.csv (deflated 60%)\n",
      "updating: outputs_cleaned/2020-01-23.csv (deflated 58%)\n",
      "updating: outputs_cleaned/2020-07-02.csv (deflated 57%)\n",
      "updating: outputs_cleaned/2021-09-02.csv (deflated 61%)\n"
     ]
    },
    {
     "data": {
      "text/html": [
       "<a href='file.zip' target='_blank'>file.zip</a><br>"
      ],
      "text/plain": [
       "/kaggle/working/file.zip"
      ]
     },
     "execution_count": 25,
     "metadata": {},
     "output_type": "execute_result"
    }
   ],
   "source": [
    "!zip -r file.zip './outputs_cleaned'\n",
    "FileLink(r'file.zip')"
   ]
  },
  {
   "cell_type": "markdown",
   "metadata": {},
   "source": [
    "***\n",
    "\n",
    "### Create functions for server scripts"
   ]
  },
  {
   "cell_type": "code",
   "execution_count": 6,
   "metadata": {},
   "outputs": [],
   "source": [
    "import snscrape.modules.twitter as sntwitter\n",
    "import pandas as pd\n",
    "from whatthelang import WhatTheLang\n",
    "\n",
    "import datetime\n",
    "import os\n",
    "from tqdm import tqdm"
   ]
  },
  {
   "cell_type": "code",
   "execution_count": 7,
   "metadata": {},
   "outputs": [],
   "source": [
    "def dt(x):\n",
    "    '''\n",
    "    helper function to create pandas date\n",
    "    '''\n",
    "    t = pd.Timestamp(x)\n",
    "    return pd.Timestamp.date(t)\n",
    "\n",
    "def get_dates():\n",
    "    '''\n",
    "    Get list of dates that must be scraped\n",
    "    '''\n",
    "    today =  datetime.datetime.today().strftime('%Y-%m-%d')\n",
    "    latest_date = max([i.replace('.csv', '') for i in os.listdir('../../../data/tweets/tweets_complete')[:-1]])\n",
    "    \n",
    "    # From dates after including date (don't refetch latest date)\n",
    "    from_date = pd.Timestamp(latest_date) + datetime.timedelta(days=1)\n",
    "    \n",
    "    # Include fetching today's data\n",
    "    till_date = pd.Timestamp(today) + datetime.timedelta(days=1)\n",
    "    \n",
    "    dates = pd.date_range(\n",
    "        from_date.date(),\n",
    "        till_date.date()-datetime.timedelta(days=1),freq='d'\n",
    "    )\n",
    "    return today, latest_date, dates\n",
    "\n",
    "def scrape_tweets(dates):\n",
    "    '''\n",
    "    Scrape tweets of the specified dates\n",
    "    '''\n",
    "    tweets_list = {}\n",
    "    for index, date in tqdm(enumerate(dates)):\n",
    "        print(f'Trying date: {date} | Currently at index: {index}')\n",
    "        try:\n",
    "            next_day = pd.Timestamp(date) + datetime.timedelta(days=1)\n",
    "            for i, tweet in tqdm(enumerate(sntwitter.TwitterSearchScraper(\n",
    "                f'#bitcoin -filter:retweets since:{dt(date).strftime(\"%Y-%m-%d\")} until:{dt(next_day).strftime(\"%Y-%m-%d\")}'\n",
    "            ).get_items())):\n",
    "                if i > 500:\n",
    "                    break\n",
    "                if not tweets_list.get(date):\n",
    "                    tweets_list[date] = []\n",
    "\n",
    "                tweets_list[date].append([tweet.date, tweet.username, tweet.content])\n",
    "        except Exception as e:\n",
    "            print(f'Error: {e}')\n",
    "            \n",
    "    return tweets_list\n",
    "\n",
    "def process_tweets(tweets_list):\n",
    "    '''\n",
    "    Create dataframe from the tweets dictionary\n",
    "    '''\n",
    "    dates = []\n",
    "    usernames = []\n",
    "    texts = []\n",
    "\n",
    "    for i, val in enumerate(tweets_list.values()):\n",
    "        for j in val:\n",
    "            dates.append(j[0])\n",
    "            usernames.append(j[1])\n",
    "            texts.append(j[2])\n",
    "\n",
    "    df_details = {\n",
    "        'user_name': usernames,\n",
    "        'date': dates,\n",
    "        'text': texts\n",
    "    }\n",
    "\n",
    "    df = pd.DataFrame(df_details)\n",
    "    df.date = df.date.apply(dt)\n",
    "    df_days = [y for x, y in df.groupby('date')]\n",
    "    return df_days\n",
    "\n",
    "def clean_tweets(dates):\n",
    "    '''\n",
    "    Clean tweets that have empty records and non-english tweets\n",
    "    '''\n",
    "    wtl = WhatTheLang()\n",
    "    \n",
    "    tweets_list = scrape_tweets(dates)\n",
    "    df_days = process_tweets(tweets_list)\n",
    "\n",
    "    for df in df_days:\n",
    "        df.dropna(subset=['user_name', 'date', 'text'], inplace=True)\n",
    "\n",
    "        L = []\n",
    "        for row in df['text']:\n",
    "            # Use WTL to remove any non-english observations\n",
    "            if len(row) != 0:\n",
    "                L.append(wtl.predict_lang(row))\n",
    "            else:\n",
    "                L.append(None)\n",
    "\n",
    "        df['lang'] = L\n",
    "        df_filtered = df[df['lang'] == 'en']\n",
    "        df_filtered.drop(['lang'], axis=1, inplace=True)\n",
    "        \n",
    "        filename = str(df.iloc[0]['date'])\n",
    "        df_filtered.to_csv(f'../../../data/tweets/tweets_complete/{filename}.csv')\n",
    "        \n",
    "    return df_days\n",
    "\n",
    "def update_tweets():\n",
    "    '''\n",
    "    Main runner\n",
    "    '''\n",
    "    today, latest_date, dates = get_dates()\n",
    "    df_days = clean_tweets(dates)\n",
    "    return df_days\n"
   ]
  },
  {
   "cell_type": "code",
   "execution_count": 8,
   "metadata": {},
   "outputs": [],
   "source": [
    "today, latest_date, dates = get_dates()"
   ]
  },
  {
   "cell_type": "code",
   "execution_count": 9,
   "metadata": {},
   "outputs": [
    {
     "data": {
      "text/plain": [
       "('2022-11-12',\n",
       " '2022-10-15',\n",
       " DatetimeIndex(['2022-10-16', '2022-10-17', '2022-10-18', '2022-10-19',\n",
       "                '2022-10-20', '2022-10-21', '2022-10-22', '2022-10-23',\n",
       "                '2022-10-24', '2022-10-25', '2022-10-26', '2022-10-27',\n",
       "                '2022-10-28', '2022-10-29', '2022-10-30', '2022-10-31',\n",
       "                '2022-11-01', '2022-11-02', '2022-11-03', '2022-11-04',\n",
       "                '2022-11-05', '2022-11-06', '2022-11-07', '2022-11-08',\n",
       "                '2022-11-09', '2022-11-10', '2022-11-11', '2022-11-12'],\n",
       "               dtype='datetime64[ns]', freq='D'))"
      ]
     },
     "execution_count": 9,
     "metadata": {},
     "output_type": "execute_result"
    }
   ],
   "source": [
    "today, latest_date, dates"
   ]
  },
  {
   "cell_type": "code",
   "execution_count": 11,
   "metadata": {},
   "outputs": [
    {
     "data": {
      "text/plain": [
       "'2022-10-16'"
      ]
     },
     "execution_count": 11,
     "metadata": {},
     "output_type": "execute_result"
    }
   ],
   "source": [
    "dt(dates[0]).strftime(\"%Y-%m-%d\")"
   ]
  },
  {
   "cell_type": "code",
   "execution_count": 10,
   "metadata": {},
   "outputs": [
    {
     "data": {
      "text/plain": [
       "'2022-10-17'"
      ]
     },
     "execution_count": 10,
     "metadata": {},
     "output_type": "execute_result"
    }
   ],
   "source": [
    "dt(pd.Timestamp(dates[0]) + datetime.timedelta(days=1)).strftime(\"%Y-%m-%d\")"
   ]
  },
  {
   "cell_type": "code",
   "execution_count": 13,
   "metadata": {},
   "outputs": [
    {
     "name": "stderr",
     "output_type": "stream",
     "text": [
      "0it [00:00, ?it/s]\n",
      "0it [00:00, ?it/s]\u001b[A"
     ]
    },
    {
     "name": "stdout",
     "output_type": "stream",
     "text": [
      "Trying date: 2022-10-16 00:00:00 | Currently at index: 0\n"
     ]
    },
    {
     "name": "stderr",
     "output_type": "stream",
     "text": [
      "\n",
      "1it [00:02,  2.47s/it]\u001b[A\n",
      "17it [00:03,  1.74s/it]\u001b[A\n",
      "31it [00:03,  1.23s/it]\u001b[A\n",
      "47it [00:04,  1.15it/s]\u001b[A\n",
      "62it [00:04,  1.61it/s]\u001b[A\n",
      "74it [00:05,  2.20it/s]\u001b[A\n",
      "93it [00:06,  3.02it/s]\u001b[A\n",
      "109it [00:07,  4.03it/s]\u001b[A\n",
      "123it [00:07,  5.35it/s]\u001b[A\n",
      "135it [00:08,  6.64it/s]\u001b[A\n",
      "152it [00:09,  8.42it/s]\u001b[A\n",
      "170it [00:10, 10.52it/s]\u001b[A\n",
      "188it [00:10, 12.72it/s]\u001b[A\n",
      "203it [00:11, 14.90it/s]\u001b[A\n",
      "217it [00:12, 16.11it/s]\u001b[A\n",
      "233it [00:12, 17.50it/s]\u001b[A\n",
      "253it [00:13, 20.25it/s]\u001b[A\n",
      "270it [00:14, 21.13it/s]\u001b[A\n",
      "290it [00:15, 22.38it/s]\u001b[A\n",
      "307it [00:15, 22.80it/s]\u001b[A\n",
      "327it [00:16, 23.90it/s]\u001b[A\n",
      "339it [00:17, 21.13it/s]\u001b[A\n",
      "355it [00:17, 21.54it/s]\u001b[A\n",
      "374it [00:18, 23.29it/s]\u001b[A\n",
      "390it [00:19, 23.14it/s]\u001b[A\n",
      "406it [00:20, 22.80it/s]\u001b[A\n",
      "424it [00:20, 24.35it/s]\u001b[A\n",
      "440it [00:21, 23.41it/s]\u001b[A\n",
      "459it [00:22, 23.96it/s]\u001b[A\n",
      "477it [00:22, 25.26it/s]\u001b[A\n",
      "501it [00:23, 21.32it/s]\u001b[A\n",
      "1it [00:23, 23.52s/it]\n",
      "0it [00:00, ?it/s]\u001b[A"
     ]
    },
    {
     "name": "stdout",
     "output_type": "stream",
     "text": [
      "Trying date: 2022-10-17 00:00:00 | Currently at index: 1\n"
     ]
    },
    {
     "name": "stderr",
     "output_type": "stream",
     "text": [
      "\n",
      "1it [00:02,  2.35s/it]\u001b[A\n",
      "16it [00:02,  1.65s/it]\u001b[A\n",
      "27it [00:03,  1.17s/it]\u001b[A\n",
      "35it [00:04,  1.18it/s]\u001b[A\n",
      "51it [00:04,  1.64it/s]\u001b[A\n",
      "65it [00:05,  2.26it/s]\u001b[A\n",
      "82it [00:06,  3.10it/s]\u001b[A\n",
      "99it [00:07,  4.18it/s]\u001b[A\n",
      "116it [00:08,  5.51it/s]\u001b[A\n",
      "134it [00:08,  7.22it/s]\u001b[A\n",
      "150it [00:09,  9.25it/s]\u001b[A\n",
      "166it [00:10, 11.24it/s]\u001b[A\n",
      "182it [00:10, 13.15it/s]\u001b[A\n",
      "200it [00:11, 15.55it/s]\u001b[A\n",
      "215it [00:12, 16.97it/s]\u001b[A\n",
      "228it [00:12, 17.24it/s]\u001b[A\n",
      "245it [00:13, 18.77it/s]\u001b[A\n",
      "263it [00:14, 21.26it/s]\u001b[A\n",
      "278it [00:14, 20.99it/s]\u001b[A\n",
      "293it [00:15, 20.27it/s]\u001b[A\n",
      "309it [00:16, 20.37it/s]\u001b[A\n",
      "329it [00:17, 21.84it/s]\u001b[A\n",
      "345it [00:17, 22.58it/s]\u001b[A\n",
      "362it [00:18, 24.24it/s]\u001b[A\n",
      "377it [00:19, 23.99it/s]\u001b[A\n",
      "392it [00:19, 23.18it/s]\u001b[A\n",
      "409it [00:20, 23.50it/s]\u001b[A\n",
      "425it [00:21, 22.98it/s]\u001b[A\n",
      "443it [00:22, 22.80it/s]\u001b[A\n",
      "461it [00:22, 23.83it/s]\u001b[A\n",
      "475it [00:23, 22.26it/s]\u001b[A\n",
      "501it [00:24, 20.77it/s]\u001b[A\n",
      "2it [00:47, 23.71s/it]\n",
      "0it [00:00, ?it/s]\u001b[A"
     ]
    },
    {
     "name": "stdout",
     "output_type": "stream",
     "text": [
      "Trying date: 2022-10-18 00:00:00 | Currently at index: 2\n"
     ]
    },
    {
     "name": "stderr",
     "output_type": "stream",
     "text": [
      "\n",
      "1it [00:02,  2.49s/it]\u001b[A\n",
      "19it [00:03,  1.76s/it]\u001b[A\n",
      "35it [00:03,  1.24s/it]\u001b[A\n",
      "49it [00:04,  1.13it/s]\u001b[A\n",
      "66it [00:05,  1.59it/s]\u001b[A\n",
      "79it [00:05,  2.18it/s]\u001b[A\n",
      "91it [00:06,  2.98it/s]\u001b[A\n",
      "101it [00:07,  3.96it/s]\u001b[A\n",
      "109it [00:07,  4.95it/s]\u001b[A\n",
      "119it [00:08,  6.17it/s]\u001b[A\n",
      "129it [00:09,  7.60it/s]\u001b[A\n",
      "139it [00:09,  9.01it/s]\u001b[A\n",
      "151it [00:10, 10.20it/s]\u001b[A\n",
      "166it [00:11, 12.47it/s]\u001b[A\n",
      "177it [00:11, 13.66it/s]\u001b[A\n",
      "188it [00:12, 14.01it/s]\u001b[A\n",
      "202it [00:13, 15.28it/s]\u001b[A\n",
      "212it [00:13, 15.88it/s]\u001b[A\n",
      "223it [00:14, 15.49it/s]\u001b[A\n",
      "238it [00:15, 16.66it/s]\u001b[A\n",
      "256it [00:15, 18.79it/s]\u001b[A\n",
      "273it [00:16, 19.99it/s]\u001b[A\n",
      "291it [00:17, 21.33it/s]\u001b[A\n",
      "308it [00:18, 21.72it/s]\u001b[A\n",
      "328it [00:18, 23.63it/s]\u001b[A\n",
      "345it [00:19, 25.47it/s]\u001b[A\n",
      "356it [00:19, 22.53it/s]\u001b[A\n",
      "371it [00:20, 22.17it/s]\u001b[A\n",
      "387it [00:21, 21.70it/s]\u001b[A\n",
      "404it [00:22, 23.61it/s]\u001b[A\n",
      "417it [00:22, 22.84it/s]\u001b[A\n",
      "432it [00:23, 21.76it/s]\u001b[A\n",
      "449it [00:24, 21.95it/s]\u001b[A\n",
      "466it [00:24, 24.10it/s]\u001b[A\n",
      "480it [00:25, 21.29it/s]\u001b[A\n",
      "501it [00:26, 19.02it/s]\u001b[A\n",
      "3it [01:14, 24.50s/it]\n",
      "0it [00:00, ?it/s]\u001b[A"
     ]
    },
    {
     "name": "stdout",
     "output_type": "stream",
     "text": [
      "Trying date: 2022-10-19 00:00:00 | Currently at index: 3\n"
     ]
    },
    {
     "name": "stderr",
     "output_type": "stream",
     "text": [
      "\n",
      "1it [00:02,  2.64s/it]\u001b[A\n",
      "16it [00:03,  1.86s/it]\u001b[A\n",
      "34it [00:04,  1.32s/it]\u001b[A\n",
      "45it [00:05,  1.06it/s]\u001b[A\n",
      "59it [00:05,  1.48it/s]\u001b[A\n",
      "73it [00:06,  2.05it/s]\u001b[A\n",
      "85it [00:06,  2.81it/s]\u001b[A\n",
      "98it [00:07,  3.81it/s]\u001b[A\n",
      "111it [00:08,  5.06it/s]\u001b[A\n",
      "126it [00:08,  6.55it/s]\u001b[A\n",
      "143it [00:09,  8.48it/s]\u001b[A\n",
      "158it [00:10, 10.39it/s]\u001b[A\n",
      "174it [00:10, 12.31it/s]\u001b[A\n",
      "193it [00:11, 14.53it/s]\u001b[A\n",
      "207it [00:12, 15.64it/s]\u001b[A\n",
      "222it [00:13, 16.67it/s]\u001b[A\n",
      "240it [00:13, 18.23it/s]\u001b[A\n",
      "257it [00:14, 20.29it/s]\u001b[A\n",
      "268it [00:15, 18.99it/s]\u001b[A\n",
      "283it [00:15, 20.65it/s]\u001b[A\n",
      "299it [00:16, 21.09it/s]\u001b[A\n",
      "318it [00:17, 22.39it/s]\u001b[A\n",
      "338it [00:18, 22.36it/s]\u001b[A\n",
      "354it [00:18, 22.54it/s]\u001b[A\n",
      "372it [00:19, 24.65it/s]\u001b[A\n",
      "387it [00:19, 24.99it/s]\u001b[A\n",
      "402it [00:20, 23.73it/s]\u001b[A\n",
      "422it [00:21, 25.42it/s]\u001b[A\n",
      "436it [00:22, 23.50it/s]\u001b[A\n",
      "453it [00:22, 25.00it/s]\u001b[A\n",
      "467it [00:23, 24.84it/s]\u001b[A\n",
      "480it [00:23, 22.90it/s]\u001b[A\n",
      "501it [00:24, 20.52it/s]\u001b[A\n",
      "4it [01:38, 24.48s/it]\n",
      "0it [00:00, ?it/s]\u001b[A"
     ]
    },
    {
     "name": "stdout",
     "output_type": "stream",
     "text": [
      "Trying date: 2022-10-20 00:00:00 | Currently at index: 4\n"
     ]
    },
    {
     "name": "stderr",
     "output_type": "stream",
     "text": [
      "\n",
      "1it [00:02,  2.34s/it]\u001b[A\n",
      "18it [00:03,  1.65s/it]\u001b[A\n",
      "31it [00:03,  1.17s/it]\u001b[A\n",
      "45it [00:04,  1.20it/s]\u001b[A\n",
      "62it [00:05,  1.68it/s]\u001b[A\n",
      "78it [00:05,  2.32it/s]\u001b[A\n",
      "98it [00:06,  3.22it/s]\u001b[A\n",
      "111it [00:07,  4.30it/s]\u001b[A\n",
      "125it [00:07,  5.74it/s]\u001b[A\n",
      "139it [00:08,  7.28it/s]\u001b[A\n",
      "155it [00:09,  9.15it/s]\u001b[A\n",
      "171it [00:09, 11.36it/s]\u001b[A\n",
      "186it [00:10, 13.24it/s]\u001b[A\n",
      "200it [00:11, 14.71it/s]\u001b[A\n",
      "215it [00:11, 16.64it/s]\u001b[A\n",
      "230it [00:12, 15.77it/s]\u001b[A\n",
      "248it [00:13, 17.98it/s]\u001b[A\n",
      "266it [00:14, 17.63it/s]\u001b[A\n",
      "282it [00:15, 19.02it/s]\u001b[A\n",
      "299it [00:15, 19.47it/s]\u001b[A\n",
      "319it [00:16, 22.18it/s]\u001b[A\n",
      "333it [00:17, 22.67it/s]\u001b[A\n",
      "349it [00:17, 23.07it/s]\u001b[A\n",
      "365it [00:18, 23.20it/s]\u001b[A\n",
      "378it [00:19, 21.47it/s]\u001b[A\n",
      "394it [00:19, 21.78it/s]\u001b[A\n",
      "410it [00:20, 21.86it/s]\u001b[A\n",
      "426it [00:21, 23.13it/s]\u001b[A\n",
      "438it [00:21, 22.06it/s]\u001b[A\n",
      "451it [00:22, 20.79it/s]\u001b[A\n",
      "468it [00:23, 22.47it/s]\u001b[A\n",
      "484it [00:23, 22.47it/s]\u001b[A\n",
      "501it [00:24, 20.47it/s]\u001b[A\n",
      "5it [02:02, 24.48s/it]\n",
      "0it [00:00, ?it/s]\u001b[A"
     ]
    },
    {
     "name": "stdout",
     "output_type": "stream",
     "text": [
      "Trying date: 2022-10-21 00:00:00 | Currently at index: 5\n"
     ]
    },
    {
     "name": "stderr",
     "output_type": "stream",
     "text": [
      "\n",
      "1it [00:02,  2.19s/it]\u001b[A\n",
      "19it [00:02,  1.54s/it]\u001b[A\n",
      "34it [00:03,  1.09s/it]\u001b[A\n",
      "45it [00:03,  1.28it/s]\u001b[A\n",
      "58it [00:04,  1.78it/s]\u001b[A\n",
      "75it [00:05,  2.47it/s]\u001b[A\n",
      "91it [00:06,  3.36it/s]\u001b[A\n",
      "107it [00:06,  4.56it/s]\u001b[A\n",
      "123it [00:07,  5.99it/s]\u001b[A\n",
      "139it [00:08,  7.68it/s]\u001b[A\n",
      "156it [00:08,  9.60it/s]\u001b[A\n",
      "173it [00:09, 11.67it/s]\u001b[A\n",
      "188it [00:10, 13.82it/s]\u001b[A\n",
      "200it [00:10, 15.04it/s]\u001b[A\n",
      "213it [00:11, 16.59it/s]\u001b[A\n",
      "223it [00:12, 15.86it/s]\u001b[A\n",
      "243it [00:12, 18.16it/s]\u001b[A\n",
      "261it [00:13, 19.68it/s]\u001b[A\n",
      "278it [00:14, 21.24it/s]\u001b[A\n",
      "294it [00:14, 21.43it/s]\u001b[A\n",
      "312it [00:15, 23.64it/s]\u001b[A\n",
      "325it [00:16, 20.55it/s]\u001b[A\n",
      "342it [00:17, 20.91it/s]\u001b[A\n",
      "359it [00:17, 21.76it/s]\u001b[A\n",
      "378it [00:18, 21.62it/s]\u001b[A\n",
      "391it [00:19, 21.45it/s]\u001b[A\n",
      "406it [00:20, 21.68it/s]\u001b[A\n",
      "422it [00:20, 21.73it/s]\u001b[A\n",
      "436it [00:21, 20.70it/s]\u001b[A\n",
      "450it [00:22, 22.00it/s]\u001b[A\n",
      "464it [00:22, 20.81it/s]\u001b[A\n",
      "479it [00:23, 21.13it/s]\u001b[A\n",
      "501it [00:24, 20.83it/s]\u001b[A\n",
      "6it [02:27, 24.36s/it]\n",
      "0it [00:00, ?it/s]\u001b[A"
     ]
    },
    {
     "name": "stdout",
     "output_type": "stream",
     "text": [
      "Trying date: 2022-10-22 00:00:00 | Currently at index: 6\n"
     ]
    },
    {
     "name": "stderr",
     "output_type": "stream",
     "text": [
      "\n",
      "1it [00:01,  1.98s/it]\u001b[A\n",
      "16it [00:02,  1.40s/it]\u001b[A\n",
      "23it [00:03,  1.00s/it]\u001b[A\n",
      "33it [00:03,  1.39it/s]\u001b[A\n",
      "45it [00:04,  1.92it/s]\u001b[A\n",
      "61it [00:05,  2.64it/s]\u001b[A\n",
      "79it [00:05,  3.59it/s]\u001b[A\n",
      "96it [00:06,  4.81it/s]\u001b[A\n",
      "115it [00:07,  6.36it/s]\u001b[A\n",
      "133it [00:08,  8.19it/s]\u001b[A\n",
      "151it [00:08, 10.33it/s]\u001b[A\n",
      "169it [00:09, 12.40it/s]\u001b[A\n",
      "186it [00:10, 14.43it/s]\u001b[A\n",
      "203it [00:11, 16.44it/s]\u001b[A\n",
      "221it [00:11, 19.12it/s]\u001b[A\n",
      "233it [00:12, 18.16it/s]\u001b[A\n",
      "252it [00:12, 21.28it/s]\u001b[A\n",
      "263it [00:13, 19.80it/s]\u001b[A\n",
      "276it [00:14, 19.05it/s]\u001b[A\n",
      "290it [00:15, 18.67it/s]\u001b[A\n",
      "305it [00:15, 20.05it/s]\u001b[A\n",
      "317it [00:16, 20.44it/s]\u001b[A\n",
      "326it [00:16, 19.03it/s]\u001b[A\n",
      "335it [00:17, 17.30it/s]\u001b[A\n",
      "350it [00:18, 18.62it/s]\u001b[A\n",
      "365it [00:18, 20.25it/s]\u001b[A\n",
      "378it [00:19, 19.79it/s]\u001b[A\n",
      "396it [00:20, 21.40it/s]\u001b[A\n",
      "411it [00:20, 22.83it/s]\u001b[A\n",
      "420it [00:21, 18.25it/s]\u001b[A\n",
      "432it [00:22, 17.56it/s]\u001b[A\n",
      "446it [00:22, 18.35it/s]\u001b[A\n",
      "465it [00:23, 20.38it/s]\u001b[A\n",
      "477it [00:23, 20.75it/s]\u001b[A\n",
      "501it [00:24, 20.26it/s]\u001b[A\n",
      "7it [02:51, 24.47s/it]\n",
      "0it [00:00, ?it/s]\u001b[A"
     ]
    },
    {
     "name": "stdout",
     "output_type": "stream",
     "text": [
      "Trying date: 2022-10-23 00:00:00 | Currently at index: 7\n"
     ]
    },
    {
     "name": "stderr",
     "output_type": "stream",
     "text": [
      "\n",
      "1it [00:02,  2.28s/it]\u001b[A\n",
      "18it [00:02,  1.61s/it]\u001b[A\n",
      "33it [00:03,  1.14s/it]\u001b[A\n",
      "42it [00:04,  1.23it/s]\u001b[A\n",
      "50it [00:04,  1.69it/s]\u001b[A\n",
      "57it [00:05,  2.28it/s]\u001b[A\n",
      "70it [00:05,  3.10it/s]\u001b[A\n",
      "84it [00:06,  4.19it/s]\u001b[A\n",
      "97it [00:07,  5.49it/s]\u001b[A\n",
      "113it [00:07,  7.05it/s]\u001b[A\n",
      "125it [00:08,  8.40it/s]\u001b[A\n",
      "141it [00:09, 10.29it/s]\u001b[A\n",
      "156it [00:10, 12.49it/s]\u001b[A\n",
      "169it [00:10, 13.75it/s]\u001b[A\n",
      "183it [00:11, 16.06it/s]\u001b[A\n",
      "195it [00:11, 17.44it/s]\u001b[A\n",
      "205it [00:12, 16.58it/s]\u001b[A\n",
      "220it [00:13, 17.50it/s]\u001b[A\n",
      "239it [00:13, 20.48it/s]\u001b[A\n",
      "251it [00:14, 19.08it/s]\u001b[A\n",
      "267it [00:15, 21.26it/s]\u001b[A\n",
      "277it [00:15, 20.62it/s]\u001b[A\n",
      "288it [00:16, 20.49it/s]\u001b[A\n",
      "300it [00:16, 20.94it/s]\u001b[A\n",
      "309it [00:17, 18.70it/s]\u001b[A\n",
      "323it [00:18, 19.00it/s]\u001b[A\n",
      "336it [00:18, 20.13it/s]\u001b[A\n",
      "346it [00:19, 19.83it/s]\u001b[A\n",
      "352it [00:19, 13.17it/s]\u001b[A\n",
      "367it [00:20, 15.41it/s]\u001b[A\n",
      "380it [00:21, 15.99it/s]\u001b[A\n",
      "399it [00:21, 18.24it/s]\u001b[A\n",
      "416it [00:22, 19.53it/s]\u001b[A\n",
      "435it [00:23, 21.38it/s]\u001b[A\n",
      "455it [00:23, 24.65it/s]\u001b[A\n",
      "469it [00:24, 24.50it/s]\u001b[A\n",
      "479it [00:25, 19.72it/s]\u001b[A\n",
      "501it [00:25, 19.43it/s]\u001b[A\n",
      "8it [03:17, 24.87s/it]\n",
      "0it [00:00, ?it/s]\u001b[A"
     ]
    },
    {
     "name": "stdout",
     "output_type": "stream",
     "text": [
      "Trying date: 2022-10-24 00:00:00 | Currently at index: 8\n"
     ]
    },
    {
     "name": "stderr",
     "output_type": "stream",
     "text": [
      "\n",
      "1it [00:02,  2.29s/it]\u001b[A\n",
      "17it [00:02,  1.62s/it]\u001b[A\n",
      "27it [00:03,  1.15s/it]\u001b[A\n",
      "40it [00:04,  1.22it/s]\u001b[A\n",
      "53it [00:04,  1.70it/s]\u001b[A\n",
      "64it [00:05,  2.32it/s]\u001b[A\n",
      "79it [00:06,  3.17it/s]\u001b[A\n",
      "95it [00:06,  4.31it/s]\u001b[A\n",
      "110it [00:07,  5.72it/s]\u001b[A\n",
      "122it [00:07,  7.34it/s]\u001b[A\n",
      "135it [00:08,  9.19it/s]\u001b[A\n",
      "151it [00:09, 11.07it/s]\u001b[A\n",
      "164it [00:09, 12.39it/s]\u001b[A\n",
      "179it [00:10, 14.13it/s]\u001b[A\n",
      "195it [00:11, 16.60it/s]\u001b[A\n",
      "206it [00:11, 17.48it/s]\u001b[A\n",
      "221it [00:12, 19.09it/s]\u001b[A\n",
      "237it [00:13, 20.04it/s]\u001b[A\n",
      "250it [00:13, 19.87it/s]\u001b[A\n",
      "266it [00:14, 20.56it/s]\u001b[A\n",
      "281it [00:15, 20.73it/s]\u001b[A\n",
      "299it [00:15, 22.65it/s]\u001b[A\n",
      "311it [00:16, 22.52it/s]\u001b[A\n",
      "322it [00:16, 21.65it/s]\u001b[A\n",
      "334it [00:17, 20.08it/s]\u001b[A\n",
      "348it [00:18, 21.47it/s]\u001b[A\n",
      "360it [00:18, 20.34it/s]\u001b[A\n",
      "374it [00:19, 19.74it/s]\u001b[A\n",
      "391it [00:20, 20.34it/s]\u001b[A\n",
      "407it [00:21, 20.33it/s]\u001b[A\n",
      "424it [00:21, 20.81it/s]\u001b[A\n",
      "442it [00:22, 21.36it/s]\u001b[A\n",
      "461it [00:23, 22.72it/s]\u001b[A\n",
      "475it [00:24, 22.04it/s]\u001b[A\n",
      "501it [00:25, 19.56it/s]\u001b[A\n",
      "9it [03:43, 25.09s/it]\n",
      "0it [00:00, ?it/s]\u001b[A"
     ]
    },
    {
     "name": "stdout",
     "output_type": "stream",
     "text": [
      "Trying date: 2022-10-25 00:00:00 | Currently at index: 9\n"
     ]
    },
    {
     "name": "stderr",
     "output_type": "stream",
     "text": [
      "\n",
      "1it [00:01,  1.99s/it]\u001b[A\n",
      "10it [00:02,  1.41s/it]\u001b[A\n",
      "23it [00:03,  1.00it/s]\u001b[A\n",
      "28it [00:03,  1.36it/s]\u001b[A\n",
      "36it [00:04,  1.88it/s]\u001b[A\n",
      "41it [00:04,  2.47it/s]\u001b[A\n",
      "44it [00:05,  2.97it/s]\u001b[A\n",
      "54it [00:05,  3.95it/s]\u001b[A\n",
      "62it [00:06,  5.05it/s]\u001b[A\n",
      "67it [00:06,  5.90it/s]\u001b[A\n",
      "72it [00:07,  6.64it/s]\u001b[A\n",
      "82it [00:07,  8.23it/s]\u001b[A\n",
      "89it [00:08,  9.03it/s]\u001b[A\n",
      "100it [00:09, 10.75it/s]\u001b[A\n",
      "107it [00:09, 11.18it/s]\u001b[A\n",
      "121it [00:10, 13.38it/s]\u001b[A\n",
      "130it [00:10, 13.88it/s]\u001b[A\n",
      "136it [00:11, 11.79it/s]\u001b[A\n",
      "150it [00:12, 14.27it/s]\u001b[A\n",
      "160it [00:12, 14.98it/s]\u001b[A\n",
      "169it [00:13, 15.34it/s]\u001b[A\n",
      "174it [00:13, 12.35it/s]\u001b[A\n",
      "184it [00:14, 13.39it/s]\u001b[A\n",
      "195it [00:14, 14.43it/s]\u001b[A\n",
      "208it [00:15, 16.34it/s]\u001b[A\n",
      "219it [00:16, 17.56it/s]\u001b[A\n",
      "227it [00:16, 15.76it/s]\u001b[A\n",
      "239it [00:17, 17.26it/s]\u001b[A\n",
      "247it [00:17, 15.72it/s]\u001b[A\n",
      "257it [00:18, 15.92it/s]\u001b[A\n",
      "270it [00:19, 16.32it/s]\u001b[A\n",
      "284it [00:19, 18.42it/s]\u001b[A\n",
      "292it [00:20, 16.44it/s]\u001b[A\n",
      "299it [00:20, 15.14it/s]\u001b[A\n",
      "307it [00:21, 14.73it/s]\u001b[A\n",
      "315it [00:22, 14.02it/s]\u001b[A\n",
      "331it [00:22, 16.82it/s]\u001b[A\n",
      "334it [00:23, 10.74it/s]\u001b[A\n",
      "340it [00:23,  9.22it/s]\u001b[A\n",
      "346it [00:24,  9.08it/s]\u001b[A\n",
      "358it [00:25, 10.99it/s]\u001b[A\n",
      "373it [00:25, 13.51it/s]\u001b[A\n",
      "381it [00:26, 13.54it/s]\u001b[A\n",
      "392it [00:26, 14.78it/s]\u001b[A\n",
      "402it [00:27, 15.44it/s]\u001b[A\n",
      "413it [00:28, 15.36it/s]\u001b[A\n",
      "427it [00:28, 16.14it/s]\u001b[A\n",
      "442it [00:29, 17.95it/s]\u001b[A\n",
      "457it [00:30, 19.75it/s]\u001b[A\n",
      "468it [00:30, 19.28it/s]\u001b[A\n",
      "480it [00:31, 20.57it/s]\u001b[A\n",
      "488it [00:31, 17.98it/s]\u001b[A\n",
      "501it [00:32, 15.44it/s]\u001b[A\n",
      "10it [04:15, 27.30s/it]\n",
      "0it [00:00, ?it/s]\u001b[A"
     ]
    },
    {
     "name": "stdout",
     "output_type": "stream",
     "text": [
      "Trying date: 2022-10-26 00:00:00 | Currently at index: 10\n"
     ]
    },
    {
     "name": "stderr",
     "output_type": "stream",
     "text": [
      "\n",
      "1it [00:02,  2.09s/it]\u001b[A\n",
      "10it [00:02,  1.48s/it]\u001b[A\n",
      "20it [00:03,  1.06s/it]\u001b[A\n",
      "29it [00:04,  1.31it/s]\u001b[A\n",
      "36it [00:04,  1.80it/s]\u001b[A\n",
      "41it [00:05,  2.35it/s]\u001b[A\n",
      "50it [00:05,  3.16it/s]\u001b[A\n",
      "56it [00:06,  3.99it/s]\u001b[A\n",
      "64it [00:06,  5.10it/s]\u001b[A\n",
      "75it [00:07,  6.54it/s]\u001b[A\n",
      "85it [00:08,  7.49it/s]\u001b[A\n",
      "100it [00:09,  9.32it/s]\u001b[A\n",
      "116it [00:09, 11.20it/s]\u001b[A\n",
      "129it [00:10, 12.77it/s]\u001b[A\n",
      "149it [00:11, 15.30it/s]\u001b[A\n",
      "164it [00:11, 17.27it/s]\u001b[A\n",
      "179it [00:12, 19.17it/s]\u001b[A\n",
      "192it [00:12, 20.03it/s]\u001b[A\n",
      "202it [00:13, 17.77it/s]\u001b[A\n",
      "216it [00:14, 19.40it/s]\u001b[A\n",
      "226it [00:14, 18.25it/s]\u001b[A\n",
      "237it [00:15, 17.34it/s]\u001b[A\n",
      "253it [00:16, 19.66it/s]\u001b[A\n",
      "264it [00:16, 18.21it/s]\u001b[A\n",
      "279it [00:17, 20.16it/s]\u001b[A\n",
      "294it [00:18, 19.19it/s]\u001b[A\n",
      "309it [00:18, 20.40it/s]\u001b[A\n",
      "323it [00:19, 20.65it/s]\u001b[A\n",
      "337it [00:20, 20.53it/s]\u001b[A\n",
      "350it [00:20, 19.57it/s]\u001b[A\n",
      "368it [00:21, 21.10it/s]\u001b[A\n",
      "384it [00:22, 21.66it/s]\u001b[A\n",
      "399it [00:22, 22.52it/s]\u001b[A\n",
      "411it [00:23, 20.30it/s]\u001b[A\n",
      "427it [00:24, 21.89it/s]\u001b[A\n",
      "439it [00:24, 20.13it/s]\u001b[A\n",
      "455it [00:25, 21.07it/s]\u001b[A\n",
      "472it [00:26, 22.75it/s]\u001b[A\n",
      "501it [00:26, 18.59it/s]\u001b[A\n",
      "11it [04:42, 27.20s/it]\n",
      "0it [00:00, ?it/s]\u001b[A"
     ]
    },
    {
     "name": "stdout",
     "output_type": "stream",
     "text": [
      "Trying date: 2022-10-27 00:00:00 | Currently at index: 11\n"
     ]
    },
    {
     "name": "stderr",
     "output_type": "stream",
     "text": [
      "\n",
      "1it [00:02,  2.00s/it]\u001b[A\n",
      "15it [00:02,  1.41s/it]\u001b[A\n",
      "26it [00:03,  1.01s/it]\u001b[A\n",
      "39it [00:03,  1.39it/s]\u001b[A\n",
      "49it [00:04,  1.93it/s]\u001b[A\n",
      "59it [00:04,  2.61it/s]\u001b[A\n",
      "67it [00:05,  3.44it/s]\u001b[A\n",
      "81it [00:06,  4.62it/s]\u001b[A\n",
      "92it [00:06,  5.84it/s]\u001b[A\n",
      "103it [00:07,  7.34it/s]\u001b[A\n",
      "118it [00:08,  9.16it/s]\u001b[A\n",
      "136it [00:08, 11.64it/s]\u001b[A\n",
      "150it [00:09, 13.44it/s]\u001b[A\n",
      "164it [00:10, 15.42it/s]\u001b[A\n",
      "176it [00:10, 15.97it/s]\u001b[A\n",
      "187it [00:11, 17.13it/s]\u001b[A\n",
      "196it [00:11, 15.75it/s]\u001b[A\n",
      "208it [00:12, 17.16it/s]\u001b[A\n",
      "223it [00:13, 18.42it/s]\u001b[A\n",
      "236it [00:13, 19.43it/s]\u001b[A\n",
      "246it [00:14, 19.02it/s]\u001b[A\n",
      "253it [00:14, 16.16it/s]\u001b[A\n",
      "260it [00:15, 15.39it/s]\u001b[A\n",
      "268it [00:15, 14.91it/s]\u001b[A\n",
      "281it [00:16, 16.81it/s]\u001b[A\n",
      "291it [00:16, 17.50it/s]\u001b[A\n",
      "301it [00:17, 16.57it/s]\u001b[A\n",
      "316it [00:18, 18.75it/s]\u001b[A\n",
      "329it [00:18, 19.64it/s]\u001b[A\n",
      "340it [00:19, 19.94it/s]\u001b[A\n",
      "350it [00:19, 19.52it/s]\u001b[A\n",
      "360it [00:20, 17.50it/s]\u001b[A\n",
      "374it [00:21, 18.91it/s]\u001b[A\n",
      "386it [00:21, 17.68it/s]\u001b[A\n",
      "400it [00:22, 18.39it/s]\u001b[A\n",
      "417it [00:23, 19.02it/s]\u001b[A\n",
      "431it [00:24, 20.03it/s]\u001b[A\n",
      "444it [00:24, 20.75it/s]\u001b[A\n",
      "458it [00:25, 20.25it/s]\u001b[A\n",
      "476it [00:26, 21.41it/s]\u001b[A\n",
      "501it [00:26, 18.75it/s]\u001b[A\n",
      "12it [05:09, 27.06s/it]\n",
      "0it [00:00, ?it/s]\u001b[A"
     ]
    },
    {
     "name": "stdout",
     "output_type": "stream",
     "text": [
      "Trying date: 2022-10-28 00:00:00 | Currently at index: 12\n"
     ]
    },
    {
     "name": "stderr",
     "output_type": "stream",
     "text": [
      "\n",
      "1it [00:02,  2.18s/it]\u001b[A\n",
      "17it [00:02,  1.54s/it]\u001b[A\n",
      "33it [00:03,  1.09s/it]\u001b[A\n",
      "48it [00:04,  1.29it/s]\u001b[A\n",
      "68it [00:04,  1.80it/s]\u001b[A\n",
      "85it [00:05,  2.49it/s]\u001b[A\n",
      "103it [00:06,  3.45it/s]\u001b[A\n",
      "115it [00:06,  4.57it/s]\u001b[A\n",
      "127it [00:07,  5.94it/s]\u001b[A\n",
      "141it [00:07,  7.54it/s]\u001b[A\n",
      "158it [00:08,  9.69it/s]\u001b[A\n",
      "169it [00:09, 11.36it/s]\u001b[A\n",
      "184it [00:09, 13.19it/s]\u001b[A\n",
      "198it [00:10, 14.21it/s]\u001b[A\n",
      "215it [00:11, 16.28it/s]\u001b[A\n",
      "234it [00:11, 19.11it/s]\u001b[A\n",
      "250it [00:12, 21.20it/s]\u001b[A\n",
      "265it [00:13, 22.27it/s]\u001b[A\n",
      "277it [00:13, 20.24it/s]\u001b[A\n",
      "296it [00:14, 21.43it/s]\u001b[A\n",
      "315it [00:15, 23.88it/s]\u001b[A\n",
      "330it [00:15, 24.67it/s]\u001b[A\n",
      "347it [00:16, 24.57it/s]\u001b[A\n",
      "366it [00:17, 25.24it/s]\u001b[A\n",
      "383it [00:17, 26.72it/s]\u001b[A\n",
      "398it [00:18, 25.08it/s]\u001b[A\n",
      "415it [00:19, 24.84it/s]\u001b[A\n",
      "431it [00:19, 25.59it/s]\u001b[A\n",
      "447it [00:20, 26.17it/s]\u001b[A\n",
      "462it [00:21, 23.52it/s]\u001b[A\n",
      "478it [00:21, 24.92it/s]\u001b[A\n",
      "501it [00:22, 22.62it/s]\u001b[A\n",
      "13it [05:31, 25.59s/it]\n",
      "0it [00:00, ?it/s]\u001b[A"
     ]
    },
    {
     "name": "stdout",
     "output_type": "stream",
     "text": [
      "Trying date: 2022-10-29 00:00:00 | Currently at index: 13\n"
     ]
    },
    {
     "name": "stderr",
     "output_type": "stream",
     "text": [
      "\n",
      "1it [00:02,  2.31s/it]\u001b[A\n",
      "17it [00:02,  1.63s/it]\u001b[A\n",
      "26it [00:03,  1.16s/it]\u001b[A\n",
      "37it [00:04,  1.21it/s]\u001b[A\n",
      "45it [00:04,  1.67it/s]\u001b[A\n",
      "54it [00:05,  2.28it/s]\u001b[A\n",
      "64it [00:05,  3.09it/s]\u001b[A\n",
      "75it [00:06,  4.14it/s]\u001b[A\n",
      "88it [00:07,  5.36it/s]\u001b[A\n",
      "100it [00:07,  6.91it/s]\u001b[A\n",
      "109it [00:08,  8.32it/s]\u001b[A\n",
      "122it [00:08, 10.30it/s]\u001b[A\n",
      "134it [00:09, 11.69it/s]\u001b[A\n",
      "148it [00:10, 13.42it/s]\u001b[A\n",
      "164it [00:10, 15.84it/s]\u001b[A\n",
      "176it [00:11, 17.51it/s]\u001b[A\n",
      "187it [00:11, 18.19it/s]\u001b[A\n",
      "197it [00:12, 18.30it/s]\u001b[A\n",
      "203it [00:12, 14.69it/s]\u001b[A\n",
      "214it [00:13, 16.10it/s]\u001b[A\n",
      "223it [00:13, 16.02it/s]\u001b[A\n",
      "233it [00:14, 16.59it/s]\u001b[A\n",
      "244it [00:15, 16.63it/s]\u001b[A\n",
      "255it [00:15, 17.48it/s]\u001b[A\n",
      "271it [00:16, 19.60it/s]\u001b[A\n",
      "283it [00:16, 19.54it/s]\u001b[A\n",
      "295it [00:17, 19.21it/s]\u001b[A\n",
      "306it [00:18, 19.24it/s]\u001b[A\n",
      "318it [00:18, 20.65it/s]\u001b[A\n",
      "322it [00:19, 14.08it/s]\u001b[A\n",
      "326it [00:19, 10.95it/s]\u001b[A\n",
      "334it [00:20, 11.92it/s]\u001b[A\n",
      "341it [00:20, 11.98it/s]\u001b[A\n",
      "351it [00:21, 11.79it/s]\u001b[A\n",
      "359it [00:22, 12.58it/s]\u001b[A\n",
      "366it [00:22, 12.38it/s]\u001b[A\n",
      "378it [00:23, 13.44it/s]\u001b[A\n",
      "395it [00:24, 15.42it/s]\u001b[A\n",
      "411it [00:25, 16.54it/s]\u001b[A\n",
      "430it [00:25, 19.27it/s]\u001b[A\n",
      "439it [00:26, 18.05it/s]\u001b[A\n",
      "447it [00:26, 16.20it/s]\u001b[A\n",
      "461it [00:27, 18.29it/s]\u001b[A\n",
      "468it [00:27, 16.01it/s]\u001b[A\n",
      "479it [00:28, 17.27it/s]\u001b[A\n",
      "485it [00:29, 14.47it/s]\u001b[A\n",
      "495it [00:29, 15.99it/s]\u001b[A\n",
      "501it [00:30, 16.67it/s]\u001b[A\n",
      "14it [06:01, 26.94s/it]\n",
      "0it [00:00, ?it/s]\u001b[A"
     ]
    },
    {
     "name": "stdout",
     "output_type": "stream",
     "text": [
      "Trying date: 2022-10-30 00:00:00 | Currently at index: 14\n"
     ]
    },
    {
     "name": "stderr",
     "output_type": "stream",
     "text": [
      "\n",
      "1it [00:02,  2.19s/it]\u001b[A\n",
      "14it [00:02,  1.55s/it]\u001b[A\n",
      "26it [00:03,  1.10s/it]\u001b[A\n",
      "35it [00:03,  1.27it/s]\u001b[A\n",
      "46it [00:04,  1.76it/s]\u001b[A\n",
      "60it [00:05,  2.45it/s]\u001b[A\n",
      "69it [00:05,  3.24it/s]\u001b[A\n",
      "75it [00:06,  4.09it/s]\u001b[A\n",
      "90it [00:06,  5.48it/s]\u001b[A\n",
      "100it [00:07,  6.93it/s]\u001b[A\n",
      "112it [00:07,  8.74it/s]\u001b[A\n",
      "121it [00:08, 10.13it/s]\u001b[A\n",
      "131it [00:09, 11.47it/s]\u001b[A\n",
      "144it [00:09, 13.16it/s]\u001b[A\n",
      "153it [00:10, 13.84it/s]\u001b[A\n",
      "165it [00:10, 15.46it/s]\u001b[A\n",
      "175it [00:11, 16.07it/s]\u001b[A\n",
      "187it [00:12, 17.14it/s]\u001b[A\n",
      "198it [00:12, 17.60it/s]\u001b[A\n",
      "207it [00:13, 16.78it/s]\u001b[A\n",
      "216it [00:13, 16.22it/s]\u001b[A\n",
      "231it [00:14, 18.28it/s]\u001b[A\n",
      "245it [00:15, 19.71it/s]\u001b[A\n",
      "254it [00:15, 18.69it/s]\u001b[A\n",
      "267it [00:16, 19.38it/s]\u001b[A\n",
      "279it [00:16, 19.85it/s]\u001b[A\n",
      "293it [00:17, 21.15it/s]\u001b[A\n",
      "308it [00:17, 22.13it/s]\u001b[A\n",
      "324it [00:18, 21.45it/s]\u001b[A\n",
      "340it [00:19, 22.83it/s]\u001b[A\n",
      "352it [00:19, 21.99it/s]\u001b[A\n",
      "360it [00:20, 19.25it/s]\u001b[A\n",
      "367it [00:21, 16.31it/s]\u001b[A\n",
      "377it [00:21, 15.87it/s]\u001b[A\n",
      "388it [00:22, 16.41it/s]\u001b[A\n",
      "402it [00:22, 18.03it/s]\u001b[A\n",
      "413it [00:23, 15.55it/s]\u001b[A\n",
      "428it [00:24, 17.54it/s]\u001b[A\n",
      "438it [00:24, 17.94it/s]\u001b[A\n",
      "449it [00:25, 17.04it/s]\u001b[A\n",
      "463it [00:26, 17.13it/s]\u001b[A\n",
      "483it [00:27, 20.29it/s]\u001b[A\n",
      "495it [00:27, 20.34it/s]\u001b[A\n",
      "501it [00:28, 17.76it/s]\u001b[A\n",
      "15it [06:29, 27.33s/it]\n",
      "0it [00:00, ?it/s]\u001b[A"
     ]
    },
    {
     "name": "stdout",
     "output_type": "stream",
     "text": [
      "Trying date: 2022-10-31 00:00:00 | Currently at index: 15\n"
     ]
    },
    {
     "name": "stderr",
     "output_type": "stream",
     "text": [
      "\n",
      "1it [00:02,  2.20s/it]\u001b[A\n",
      "16it [00:02,  1.55s/it]\u001b[A\n",
      "30it [00:03,  1.10s/it]\u001b[A\n",
      "39it [00:03,  1.27it/s]\u001b[A\n",
      "50it [00:04,  1.76it/s]\u001b[A\n",
      "63it [00:05,  2.42it/s]\u001b[A\n",
      "77it [00:05,  3.32it/s]\u001b[A\n",
      "88it [00:06,  4.37it/s]\u001b[A\n",
      "103it [00:06,  5.82it/s]\u001b[A\n",
      "116it [00:07,  7.25it/s]\u001b[A\n",
      "133it [00:08,  9.16it/s]\u001b[A\n",
      "145it [00:09, 10.58it/s]\u001b[A\n",
      "159it [00:09, 12.76it/s]\u001b[A\n",
      "169it [00:10, 13.84it/s]\u001b[A\n",
      "181it [00:10, 15.45it/s]\u001b[A\n",
      "195it [00:11, 16.57it/s]\u001b[A\n",
      "209it [00:12, 18.13it/s]\u001b[A\n",
      "222it [00:12, 18.53it/s]\u001b[A\n",
      "235it [00:13, 18.58it/s]\u001b[A\n",
      "246it [00:14, 19.31it/s]\u001b[A\n",
      "255it [00:14, 17.99it/s]\u001b[A\n",
      "266it [00:15, 17.51it/s]\u001b[A\n",
      "276it [00:15, 17.25it/s]\u001b[A\n",
      "290it [00:16, 17.72it/s]\u001b[A\n",
      "305it [00:17, 19.29it/s]\u001b[A\n",
      "319it [00:17, 20.38it/s]\u001b[A\n",
      "333it [00:18, 21.65it/s]\u001b[A\n",
      "344it [00:19, 20.67it/s]\u001b[A\n",
      "355it [00:19, 20.21it/s]\u001b[A\n",
      "367it [00:20, 19.57it/s]\u001b[A\n",
      "382it [00:20, 19.79it/s]\u001b[A\n",
      "401it [00:21, 21.55it/s]\u001b[A\n",
      "418it [00:22, 21.78it/s]\u001b[A\n",
      "436it [00:23, 23.73it/s]\u001b[A\n",
      "448it [00:23, 20.60it/s]\u001b[A\n",
      "467it [00:24, 21.93it/s]\u001b[A\n",
      "484it [00:25, 22.53it/s]\u001b[A\n",
      "501it [00:25, 19.33it/s]\u001b[A\n",
      "16it [06:55, 26.91s/it]\n",
      "0it [00:00, ?it/s]\u001b[A"
     ]
    },
    {
     "name": "stdout",
     "output_type": "stream",
     "text": [
      "Trying date: 2022-11-01 00:00:00 | Currently at index: 16\n"
     ]
    },
    {
     "name": "stderr",
     "output_type": "stream",
     "text": [
      "\n",
      "1it [00:02,  2.31s/it]\u001b[A\n",
      "20it [00:02,  1.62s/it]\u001b[A\n",
      "33it [00:03,  1.15s/it]\u001b[A\n",
      "48it [00:04,  1.22it/s]\u001b[A\n",
      "61it [00:04,  1.70it/s]\u001b[A\n",
      "73it [00:05,  2.35it/s]\u001b[A\n",
      "83it [00:06,  3.14it/s]\u001b[A\n",
      "97it [00:06,  4.21it/s]\u001b[A\n",
      "112it [00:07,  5.66it/s]\u001b[A\n",
      "122it [00:07,  7.20it/s]\u001b[A\n",
      "134it [00:08,  9.01it/s]\u001b[A\n",
      "144it [00:09, 10.53it/s]\u001b[A\n",
      "155it [00:09, 12.26it/s]\u001b[A\n",
      "166it [00:10, 14.05it/s]\u001b[A\n",
      "176it [00:10, 14.71it/s]\u001b[A\n",
      "188it [00:11, 15.49it/s]\u001b[A\n",
      "198it [00:11, 16.15it/s]\u001b[A\n",
      "210it [00:12, 17.73it/s]\u001b[A\n",
      "219it [00:13, 17.16it/s]\u001b[A\n",
      "231it [00:13, 17.20it/s]\u001b[A\n",
      "246it [00:14, 19.25it/s]\u001b[A\n",
      "260it [00:14, 19.31it/s]\u001b[A\n",
      "276it [00:15, 20.19it/s]\u001b[A\n",
      "288it [00:16, 20.32it/s]\u001b[A\n",
      "297it [00:16, 18.48it/s]\u001b[A\n",
      "307it [00:17, 18.26it/s]\u001b[A\n",
      "316it [00:17, 17.80it/s]\u001b[A\n",
      "324it [00:18, 16.54it/s]\u001b[A\n",
      "335it [00:19, 17.25it/s]\u001b[A\n",
      "345it [00:19, 16.28it/s]\u001b[A\n",
      "360it [00:20, 18.86it/s]\u001b[A\n",
      "370it [00:21, 16.87it/s]\u001b[A\n",
      "385it [00:21, 17.65it/s]\u001b[A\n",
      "401it [00:22, 20.09it/s]\u001b[A\n",
      "412it [00:23, 18.16it/s]\u001b[A\n",
      "428it [00:23, 19.36it/s]\u001b[A\n",
      "443it [00:24, 21.03it/s]\u001b[A\n",
      "457it [00:25, 20.46it/s]\u001b[A\n",
      "469it [00:25, 20.99it/s]\u001b[A\n",
      "478it [00:26, 19.65it/s]\u001b[A\n",
      "501it [00:26, 18.69it/s]\u001b[A\n",
      "17it [07:22, 26.88s/it]\n",
      "0it [00:00, ?it/s]\u001b[A"
     ]
    },
    {
     "name": "stdout",
     "output_type": "stream",
     "text": [
      "Trying date: 2022-11-02 00:00:00 | Currently at index: 17\n"
     ]
    },
    {
     "name": "stderr",
     "output_type": "stream",
     "text": [
      "\n",
      "1it [00:02,  2.23s/it]\u001b[A\n",
      "17it [00:02,  1.57s/it]\u001b[A\n",
      "31it [00:03,  1.11s/it]\u001b[A\n",
      "42it [00:04,  1.25it/s]\u001b[A\n",
      "59it [00:04,  1.75it/s]\u001b[A\n",
      "75it [00:05,  2.43it/s]\u001b[A\n",
      "90it [00:05,  3.34it/s]\u001b[A\n",
      "101it [00:06,  4.43it/s]\u001b[A\n",
      "115it [00:07,  5.88it/s]\u001b[A\n",
      "130it [00:07,  7.66it/s]\u001b[A\n",
      "143it [00:08,  9.34it/s]\u001b[A\n",
      "159it [00:09, 11.26it/s]\u001b[A\n",
      "177it [00:09, 13.51it/s]\u001b[A\n",
      "196it [00:10, 15.93it/s]\u001b[A\n",
      "214it [00:11, 18.23it/s]\u001b[A\n",
      "231it [00:11, 20.79it/s]\u001b[A\n",
      "244it [00:12, 20.80it/s]\u001b[A\n",
      "258it [00:12, 21.75it/s]\u001b[A\n",
      "270it [00:13, 19.92it/s]\u001b[A\n",
      "288it [00:14, 20.62it/s]\u001b[A\n",
      "305it [00:14, 23.03it/s]\u001b[A\n",
      "321it [00:15, 23.25it/s]\u001b[A\n",
      "336it [00:16, 24.12it/s]\u001b[A\n",
      "348it [00:16, 23.20it/s]\u001b[A\n",
      "357it [00:17, 20.43it/s]\u001b[A\n",
      "371it [00:18, 20.28it/s]\u001b[A\n",
      "387it [00:18, 22.65it/s]\u001b[A\n",
      "399it [00:19, 20.46it/s]\u001b[A\n",
      "410it [00:19, 19.58it/s]\u001b[A\n",
      "424it [00:20, 17.66it/s]\u001b[A\n",
      "440it [00:21, 18.69it/s]\u001b[A\n",
      "458it [00:22, 21.57it/s]\u001b[A\n",
      "471it [00:22, 21.95it/s]\u001b[A\n",
      "501it [00:24, 20.87it/s]\u001b[A\n",
      "18it [07:46, 26.03s/it]\n",
      "0it [00:00, ?it/s]\u001b[A"
     ]
    },
    {
     "name": "stdout",
     "output_type": "stream",
     "text": [
      "Trying date: 2022-11-03 00:00:00 | Currently at index: 18\n"
     ]
    },
    {
     "name": "stderr",
     "output_type": "stream",
     "text": [
      "\n",
      "1it [00:02,  2.22s/it]\u001b[A\n",
      "21it [00:02,  1.56s/it]\u001b[A\n",
      "35it [00:03,  1.11s/it]\u001b[A\n",
      "50it [00:03,  1.27it/s]\u001b[A\n",
      "59it [00:04,  1.73it/s]\u001b[A\n",
      "73it [00:05,  2.38it/s]\u001b[A\n",
      "90it [00:06,  3.30it/s]\u001b[A\n",
      "104it [00:06,  4.35it/s]\u001b[A\n",
      "120it [00:07,  5.71it/s]\u001b[A\n",
      "140it [00:08,  7.59it/s]\u001b[A\n",
      "155it [00:08,  9.41it/s]\u001b[A\n",
      "174it [00:09, 11.74it/s]\u001b[A\n",
      "189it [00:10, 14.11it/s]\u001b[A\n",
      "200it [00:10, 15.59it/s]\u001b[A\n",
      "214it [00:11, 16.63it/s]\u001b[A\n",
      "232it [00:12, 18.89it/s]\u001b[A\n",
      "251it [00:12, 21.08it/s]\u001b[A\n",
      "264it [00:13, 20.17it/s]\u001b[A\n",
      "283it [00:14, 21.49it/s]\u001b[A\n",
      "302it [00:14, 23.74it/s]\u001b[A\n",
      "316it [00:15, 24.07it/s]\u001b[A\n",
      "331it [00:15, 25.06it/s]\u001b[A\n",
      "343it [00:16, 22.14it/s]\u001b[A\n",
      "360it [00:17, 24.30it/s]\u001b[A\n",
      "375it [00:17, 24.93it/s]\u001b[A\n",
      "386it [00:18, 23.42it/s]\u001b[A\n",
      "405it [00:18, 24.06it/s]\u001b[A\n",
      "423it [00:19, 24.17it/s]\u001b[A\n",
      "438it [00:20, 25.00it/s]\u001b[A\n",
      "449it [00:20, 22.84it/s]\u001b[A\n",
      "461it [00:21, 22.32it/s]\u001b[A\n",
      "477it [00:22, 21.40it/s]\u001b[A\n",
      "501it [00:22, 22.04it/s]\u001b[A\n",
      "19it [08:09, 25.04s/it]\n",
      "0it [00:00, ?it/s]\u001b[A"
     ]
    },
    {
     "name": "stdout",
     "output_type": "stream",
     "text": [
      "Trying date: 2022-11-04 00:00:00 | Currently at index: 19\n"
     ]
    },
    {
     "name": "stderr",
     "output_type": "stream",
     "text": [
      "\n",
      "1it [00:02,  2.34s/it]\u001b[A\n",
      "20it [00:02,  1.65s/it]\u001b[A\n",
      "34it [00:03,  1.17s/it]\u001b[A\n",
      "46it [00:04,  1.20it/s]\u001b[A\n",
      "61it [00:04,  1.67it/s]\u001b[A\n",
      "78it [00:05,  2.32it/s]\u001b[A\n",
      "96it [00:06,  3.21it/s]\u001b[A\n",
      "109it [00:06,  4.34it/s]\u001b[A\n",
      "124it [00:07,  5.77it/s]\u001b[A\n",
      "141it [00:08,  7.35it/s]\u001b[A\n",
      "160it [00:08,  9.50it/s]\u001b[A\n",
      "176it [00:09, 11.78it/s]\u001b[A\n",
      "188it [00:10, 13.39it/s]\u001b[A\n",
      "203it [00:10, 15.94it/s]\u001b[A\n",
      "216it [00:11, 16.43it/s]\u001b[A\n",
      "234it [00:11, 18.96it/s]\u001b[A\n",
      "250it [00:12, 18.70it/s]\u001b[A\n",
      "266it [00:13, 21.14it/s]\u001b[A\n",
      "278it [00:13, 20.84it/s]\u001b[A\n",
      "292it [00:14, 20.47it/s]\u001b[A\n",
      "306it [00:15, 21.69it/s]\u001b[A\n",
      "324it [00:15, 24.07it/s]\u001b[A\n",
      "340it [00:16, 23.55it/s]\u001b[A\n",
      "360it [00:17, 24.49it/s]\u001b[A\n",
      "377it [00:17, 26.05it/s]\u001b[A\n",
      "391it [00:18, 25.47it/s]\u001b[A\n",
      "404it [00:18, 24.42it/s]\u001b[A\n",
      "419it [00:19, 23.43it/s]\u001b[A\n",
      "436it [00:20, 23.34it/s]\u001b[A\n",
      "456it [00:21, 24.67it/s]\u001b[A\n",
      "475it [00:21, 26.73it/s]\u001b[A\n",
      "501it [00:22, 22.48it/s]\u001b[A\n",
      "20it [08:31, 24.21s/it]\n",
      "0it [00:00, ?it/s]\u001b[A"
     ]
    },
    {
     "name": "stdout",
     "output_type": "stream",
     "text": [
      "Trying date: 2022-11-05 00:00:00 | Currently at index: 20\n"
     ]
    },
    {
     "name": "stderr",
     "output_type": "stream",
     "text": [
      "\n",
      "1it [00:02,  2.21s/it]\u001b[A\n",
      "18it [00:02,  1.56s/it]\u001b[A\n",
      "36it [00:03,  1.10s/it]\u001b[A\n",
      "55it [00:04,  1.28it/s]\u001b[A\n",
      "71it [00:05,  1.78it/s]\u001b[A\n",
      "83it [00:05,  2.44it/s]\u001b[A\n",
      "96it [00:06,  3.33it/s]\u001b[A\n",
      "108it [00:06,  4.43it/s]\u001b[A\n",
      "121it [00:07,  5.83it/s]\u001b[A\n",
      "139it [00:08,  7.72it/s]\u001b[A\n",
      "144it [00:08,  7.59it/s]\u001b[A\n",
      "162it [00:09,  9.60it/s]\u001b[A\n",
      "179it [00:10, 11.87it/s]\u001b[A\n",
      "192it [00:10, 14.08it/s]\u001b[A\n",
      "206it [00:11, 16.01it/s]\u001b[A\n",
      "219it [00:11, 17.44it/s]\u001b[A\n",
      "233it [00:12, 18.14it/s]\u001b[A\n",
      "249it [00:13, 20.17it/s]\u001b[A\n",
      "265it [00:13, 22.10it/s]\u001b[A\n",
      "279it [00:14, 21.53it/s]\u001b[A\n",
      "297it [00:14, 23.50it/s]\u001b[A\n",
      "309it [00:15, 22.18it/s]\u001b[A\n",
      "326it [00:16, 23.70it/s]\u001b[A\n",
      "341it [00:16, 22.89it/s]\u001b[A\n",
      "358it [00:17, 24.68it/s]\u001b[A\n",
      "371it [00:17, 24.08it/s]\u001b[A\n",
      "385it [00:18, 22.33it/s]\u001b[A\n",
      "401it [00:19, 21.76it/s]\u001b[A\n",
      "418it [00:20, 23.23it/s]\u001b[A\n",
      "434it [00:20, 24.35it/s]\u001b[A\n",
      "447it [00:21, 21.22it/s]\u001b[A\n",
      "463it [00:22, 22.63it/s]\u001b[A\n",
      "481it [00:22, 23.54it/s]\u001b[A\n",
      "501it [00:23, 21.31it/s]\u001b[A\n",
      "21it [08:55, 24.01s/it]\n",
      "0it [00:00, ?it/s]\u001b[A"
     ]
    },
    {
     "name": "stdout",
     "output_type": "stream",
     "text": [
      "Trying date: 2022-11-06 00:00:00 | Currently at index: 21\n"
     ]
    },
    {
     "name": "stderr",
     "output_type": "stream",
     "text": [
      "\n",
      "1it [00:02,  2.28s/it]\u001b[A\n",
      "17it [00:02,  1.61s/it]\u001b[A\n",
      "31it [00:03,  1.14s/it]\u001b[A\n",
      "44it [00:04,  1.24it/s]\u001b[A\n",
      "58it [00:04,  1.73it/s]\u001b[A\n",
      "69it [00:05,  2.38it/s]\u001b[A\n",
      "81it [00:05,  3.25it/s]\u001b[A\n",
      "92it [00:06,  4.34it/s]\u001b[A\n",
      "104it [00:06,  5.71it/s]\u001b[A\n",
      "121it [00:07,  7.47it/s]\u001b[A\n",
      "138it [00:08,  9.64it/s]\u001b[A\n",
      "154it [00:08, 11.73it/s]\u001b[A\n",
      "168it [00:09, 13.23it/s]\u001b[A\n",
      "184it [00:10, 15.88it/s]\u001b[A\n",
      "195it [00:10, 15.83it/s]\u001b[A\n",
      "212it [00:11, 18.23it/s]\u001b[A\n",
      "230it [00:12, 19.45it/s]\u001b[A\n",
      "250it [00:12, 21.82it/s]\u001b[A\n",
      "269it [00:13, 23.01it/s]\u001b[A\n",
      "289it [00:14, 24.45it/s]\u001b[A\n",
      "309it [00:14, 24.91it/s]\u001b[A\n",
      "329it [00:15, 26.51it/s]\u001b[A\n",
      "349it [00:16, 28.54it/s]\u001b[A\n",
      "364it [00:16, 27.16it/s]\u001b[A\n",
      "381it [00:17, 26.52it/s]\u001b[A\n",
      "399it [00:18, 28.27it/s]\u001b[A\n",
      "413it [00:18, 25.36it/s]\u001b[A\n",
      "433it [00:19, 26.44it/s]\u001b[A\n",
      "451it [00:19, 27.49it/s]\u001b[A\n",
      "465it [00:20, 25.34it/s]\u001b[A\n",
      "481it [00:21, 24.72it/s]\u001b[A\n",
      "501it [00:21, 22.78it/s]\u001b[A\n",
      "22it [09:17, 23.41s/it]\n",
      "0it [00:00, ?it/s]\u001b[A"
     ]
    },
    {
     "name": "stdout",
     "output_type": "stream",
     "text": [
      "Trying date: 2022-11-07 00:00:00 | Currently at index: 22\n"
     ]
    },
    {
     "name": "stderr",
     "output_type": "stream",
     "text": [
      "\n",
      "1it [00:02,  2.37s/it]\u001b[A\n",
      "14it [00:03,  1.68s/it]\u001b[A\n",
      "31it [00:03,  1.18s/it]\u001b[A\n",
      "41it [00:04,  1.18it/s]\u001b[A\n",
      "57it [00:04,  1.65it/s]\u001b[A\n",
      "70it [00:05,  2.28it/s]\u001b[A\n",
      "85it [00:06,  3.14it/s]\u001b[A\n",
      "97it [00:06,  4.23it/s]\u001b[A\n",
      "107it [00:07,  5.48it/s]\u001b[A\n",
      "118it [00:07,  7.02it/s]\u001b[A\n",
      "130it [00:08,  8.82it/s]\u001b[A\n",
      "142it [00:09, 10.26it/s]\u001b[A\n",
      "155it [00:09, 11.68it/s]\u001b[A\n",
      "170it [00:10, 13.32it/s]\u001b[A\n",
      "189it [00:11, 15.81it/s]\u001b[A\n",
      "204it [00:11, 17.05it/s]\u001b[A\n",
      "219it [00:12, 19.56it/s]\u001b[A\n",
      "228it [00:13, 18.24it/s]\u001b[A\n",
      "237it [00:13, 16.24it/s]\u001b[A\n",
      "256it [00:14, 18.96it/s]\u001b[A\n",
      "268it [00:15, 18.51it/s]\u001b[A\n",
      "282it [00:15, 17.52it/s]\u001b[A\n",
      "292it [00:16, 18.27it/s]\u001b[A\n",
      "299it [00:17, 14.49it/s]\u001b[A\n",
      "316it [00:17, 16.56it/s]\u001b[A\n",
      "331it [00:18, 18.20it/s]\u001b[A\n",
      "345it [00:19, 19.20it/s]\u001b[A\n",
      "359it [00:19, 20.25it/s]\u001b[A\n",
      "367it [00:20, 17.67it/s]\u001b[A\n",
      "379it [00:20, 18.33it/s]\u001b[A\n",
      "387it [00:21, 16.34it/s]\u001b[A\n",
      "399it [00:22, 16.63it/s]\u001b[A\n",
      "413it [00:22, 18.44it/s]\u001b[A\n",
      "421it [00:23, 17.27it/s]\u001b[A\n",
      "429it [00:23, 16.34it/s]\u001b[A\n",
      "436it [00:24, 15.25it/s]\u001b[A\n",
      "443it [00:24, 14.41it/s]\u001b[A\n",
      "452it [00:25, 14.11it/s]\u001b[A\n",
      "465it [00:26, 15.36it/s]\u001b[A\n",
      "479it [00:27, 15.85it/s]\u001b[A\n",
      "501it [00:27, 18.02it/s]\u001b[A\n",
      "23it [09:44, 24.73s/it]\n",
      "0it [00:00, ?it/s]\u001b[A"
     ]
    },
    {
     "name": "stdout",
     "output_type": "stream",
     "text": [
      "Trying date: 2022-11-08 00:00:00 | Currently at index: 23\n"
     ]
    },
    {
     "name": "stderr",
     "output_type": "stream",
     "text": [
      "\n",
      "1it [00:01,  1.92s/it]\u001b[A\n",
      "8it [00:02,  1.37s/it]\u001b[A\n",
      "24it [00:03,  1.03it/s]\u001b[A\n",
      "32it [00:03,  1.42it/s]\u001b[A\n",
      "43it [00:04,  1.95it/s]\u001b[A\n",
      "57it [00:05,  2.67it/s]\u001b[A\n",
      "73it [00:05,  3.67it/s]\u001b[A\n",
      "85it [00:06,  4.89it/s]\u001b[A\n",
      "98it [00:07,  6.29it/s]\u001b[A\n",
      "116it [00:07,  8.34it/s]\u001b[A\n",
      "128it [00:08,  9.93it/s]\u001b[A\n",
      "138it [00:08, 11.57it/s]\u001b[A\n",
      "150it [00:09, 13.51it/s]\u001b[A\n",
      "159it [00:09, 14.38it/s]\u001b[A\n",
      "168it [00:10, 13.75it/s]\u001b[A\n",
      "179it [00:11, 14.27it/s]\u001b[A\n",
      "193it [00:11, 16.62it/s]\u001b[A\n",
      "202it [00:12, 16.97it/s]\u001b[A\n",
      "213it [00:12, 17.62it/s]\u001b[A\n",
      "226it [00:13, 19.04it/s]\u001b[A\n",
      "236it [00:13, 18.55it/s]\u001b[A\n",
      "247it [00:14, 19.16it/s]\u001b[A\n",
      "258it [00:15, 17.87it/s]\u001b[A\n",
      "272it [00:15, 18.64it/s]\u001b[A\n",
      "284it [00:16, 18.29it/s]\u001b[A\n",
      "297it [00:17, 18.41it/s]\u001b[A\n",
      "313it [00:17, 19.96it/s]\u001b[A\n",
      "328it [00:18, 20.48it/s]\u001b[A\n",
      "347it [00:19, 22.96it/s]\u001b[A\n",
      "364it [00:19, 25.13it/s]\u001b[A\n",
      "373it [00:20, 18.57it/s]\u001b[A\n",
      "386it [00:21, 20.08it/s]\u001b[A\n",
      "399it [00:21, 20.84it/s]\u001b[A\n",
      "408it [00:22, 18.99it/s]\u001b[A\n",
      "420it [00:22, 19.64it/s]\u001b[A\n",
      "432it [00:23, 19.09it/s]\u001b[A\n",
      "445it [00:23, 20.54it/s]\u001b[A\n",
      "452it [00:24, 16.96it/s]\u001b[A\n",
      "463it [00:25, 17.84it/s]\u001b[A\n",
      "471it [00:25, 15.53it/s]\u001b[A\n",
      "486it [00:26, 17.92it/s]\u001b[A\n",
      "501it [00:26, 18.67it/s]\u001b[A\n",
      "24it [10:11, 25.36s/it]\n",
      "0it [00:00, ?it/s]\u001b[A"
     ]
    },
    {
     "name": "stdout",
     "output_type": "stream",
     "text": [
      "Trying date: 2022-11-09 00:00:00 | Currently at index: 24\n"
     ]
    },
    {
     "name": "stderr",
     "output_type": "stream",
     "text": [
      "\n",
      "1it [00:02,  2.18s/it]\u001b[A\n",
      "15it [00:02,  1.54s/it]\u001b[A\n",
      "27it [00:03,  1.09s/it]\u001b[A\n",
      "39it [00:03,  1.28it/s]\u001b[A\n",
      "50it [00:04,  1.78it/s]\u001b[A\n",
      "61it [00:04,  2.47it/s]\u001b[A\n",
      "64it [00:05,  3.04it/s]\u001b[A\n",
      "66it [00:05,  3.18it/s]\u001b[A\n",
      "74it [00:06,  4.12it/s]\u001b[A\n",
      "85it [00:07,  5.43it/s]\u001b[A\n",
      "94it [00:07,  6.78it/s]\u001b[A\n",
      "104it [00:08,  7.59it/s]\u001b[A\n",
      "116it [00:09,  9.41it/s]\u001b[A\n",
      "127it [00:09, 11.10it/s]\u001b[A\n",
      "139it [00:10, 12.84it/s]\u001b[A\n",
      "152it [00:11, 14.04it/s]\u001b[A\n",
      "169it [00:11, 16.64it/s]\u001b[A\n",
      "181it [00:12, 17.97it/s]\u001b[A\n",
      "190it [00:12, 17.35it/s]\u001b[A\n",
      "197it [00:13, 15.77it/s]\u001b[A\n",
      "210it [00:13, 17.20it/s]\u001b[A\n",
      "223it [00:14, 18.73it/s]\u001b[A\n",
      "237it [00:15, 19.15it/s]\u001b[A\n",
      "250it [00:15, 20.53it/s]\u001b[A\n",
      "265it [00:16, 22.17it/s]\u001b[A\n",
      "273it [00:16, 19.78it/s]\u001b[A\n",
      "277it [00:17, 12.85it/s]\u001b[A\n",
      "286it [00:18, 11.52it/s]\u001b[A\n",
      "296it [00:18, 13.01it/s]\u001b[A\n",
      "305it [00:19, 13.95it/s]\u001b[A\n",
      "315it [00:19, 14.86it/s]\u001b[A\n",
      "327it [00:20, 16.68it/s]\u001b[A\n",
      "339it [00:20, 18.02it/s]\u001b[A\n",
      "353it [00:21, 19.62it/s]\u001b[A\n",
      "367it [00:22, 21.28it/s]\u001b[A\n",
      "380it [00:22, 20.11it/s]\u001b[A\n",
      "398it [00:23, 22.03it/s]\u001b[A\n",
      "412it [00:23, 23.34it/s]\u001b[A\n",
      "423it [00:24, 22.63it/s]\u001b[A\n",
      "431it [00:24, 19.47it/s]\u001b[A\n",
      "441it [00:25, 17.88it/s]\u001b[A\n",
      "455it [00:26, 20.18it/s]\u001b[A\n",
      "462it [00:26, 17.62it/s]\u001b[A\n",
      "476it [00:27, 19.02it/s]\u001b[A\n",
      "501it [00:27, 18.03it/s]\u001b[A\n",
      "25it [10:39, 26.10s/it]\n",
      "0it [00:00, ?it/s]\u001b[A"
     ]
    },
    {
     "name": "stdout",
     "output_type": "stream",
     "text": [
      "Trying date: 2022-11-10 00:00:00 | Currently at index: 25\n"
     ]
    },
    {
     "name": "stderr",
     "output_type": "stream",
     "text": [
      "\n",
      "1it [00:02,  2.27s/it]\u001b[A\n",
      "15it [00:03,  1.61s/it]\u001b[A\n",
      "25it [00:03,  1.14s/it]\u001b[A\n",
      "34it [00:04,  1.22it/s]\u001b[A\n",
      "45it [00:04,  1.69it/s]\u001b[A\n",
      "59it [00:05,  2.35it/s]\u001b[A\n",
      "67it [00:06,  3.10it/s]\u001b[A\n",
      "82it [00:06,  4.15it/s]\u001b[A\n",
      "97it [00:07,  5.59it/s]\u001b[A\n",
      "106it [00:07,  6.96it/s]\u001b[A\n",
      "120it [00:08,  8.92it/s]\u001b[A\n",
      "132it [00:09, 10.93it/s]\u001b[A\n",
      "140it [00:09, 11.65it/s]\u001b[A\n",
      "145it [00:10, 10.98it/s]\u001b[A\n",
      "155it [00:10, 12.60it/s]\u001b[A\n",
      "164it [00:11, 13.35it/s]\u001b[A\n",
      "173it [00:11, 13.93it/s]\u001b[A\n",
      "184it [00:12, 15.41it/s]\u001b[A\n",
      "193it [00:12, 15.09it/s]\u001b[A\n",
      "205it [00:13, 16.81it/s]\u001b[A\n",
      "217it [00:14, 17.13it/s]\u001b[A\n",
      "231it [00:14, 18.58it/s]\u001b[A\n",
      "242it [00:15, 19.27it/s]\u001b[A\n",
      "252it [00:15, 19.27it/s]\u001b[A\n",
      "258it [00:16, 15.73it/s]\u001b[A\n",
      "268it [00:16, 15.89it/s]\u001b[A\n",
      "277it [00:17, 16.02it/s]\u001b[A\n",
      "285it [00:18, 15.45it/s]\u001b[A\n",
      "299it [00:18, 17.75it/s]\u001b[A\n",
      "310it [00:19, 18.24it/s]\u001b[A\n",
      "324it [00:20, 16.40it/s]\u001b[A\n",
      "342it [00:20, 18.32it/s]\u001b[A\n",
      "355it [00:21, 18.50it/s]\u001b[A\n",
      "366it [00:22, 19.41it/s]\u001b[A\n",
      "375it [00:22, 18.05it/s]\u001b[A\n",
      "388it [00:23, 16.86it/s]\u001b[A\n",
      "399it [00:24, 17.51it/s]\u001b[A\n",
      "409it [00:24, 16.66it/s]\u001b[A\n",
      "423it [00:25, 18.35it/s]\u001b[A\n",
      "437it [00:26, 18.69it/s]\u001b[A\n",
      "457it [00:26, 20.87it/s]\u001b[A\n",
      "475it [00:27, 23.69it/s]\u001b[A\n",
      "485it [00:27, 22.22it/s]\u001b[A\n",
      "501it [00:28, 17.51it/s]\u001b[A\n",
      "26it [11:08, 26.85s/it]\n",
      "0it [00:00, ?it/s]\u001b[A"
     ]
    },
    {
     "name": "stdout",
     "output_type": "stream",
     "text": [
      "Trying date: 2022-11-11 00:00:00 | Currently at index: 26\n"
     ]
    },
    {
     "name": "stderr",
     "output_type": "stream",
     "text": [
      "\n",
      "1it [00:02,  2.20s/it]\u001b[A\n",
      "20it [00:02,  1.55s/it]\u001b[A\n",
      "26it [00:03,  1.12s/it]\u001b[A\n",
      "40it [00:04,  1.26it/s]\u001b[A\n",
      "53it [00:04,  1.75it/s]\u001b[A\n",
      "67it [00:05,  2.41it/s]\u001b[A\n",
      "81it [00:05,  3.31it/s]\u001b[A\n",
      "93it [00:06,  4.36it/s]\u001b[A\n",
      "108it [00:07,  5.71it/s]\u001b[A\n",
      "125it [00:07,  7.49it/s]\u001b[A\n",
      "140it [00:08,  9.52it/s]\u001b[A\n",
      "152it [00:09, 11.32it/s]\u001b[A\n",
      "164it [00:09, 12.56it/s]\u001b[A\n",
      "178it [00:10, 14.63it/s]\u001b[A\n",
      "194it [00:11, 16.72it/s]\u001b[A\n",
      "210it [00:11, 17.97it/s]\u001b[A\n",
      "226it [00:12, 19.91it/s]\u001b[A\n",
      "240it [00:12, 21.19it/s]\u001b[A\n",
      "247it [00:13, 17.45it/s]\u001b[A\n",
      "256it [00:14, 15.94it/s]\u001b[A\n",
      "265it [00:14, 15.14it/s]\u001b[A\n",
      "277it [00:15, 15.83it/s]\u001b[A\n",
      "294it [00:16, 18.44it/s]\u001b[A\n",
      "305it [00:16, 17.32it/s]\u001b[A\n",
      "320it [00:17, 19.66it/s]\u001b[A\n",
      "330it [00:17, 18.16it/s]\u001b[A\n",
      "345it [00:18, 19.45it/s]\u001b[A\n",
      "362it [00:19, 20.63it/s]\u001b[A\n",
      "379it [00:20, 21.24it/s]\u001b[A\n",
      "399it [00:20, 22.69it/s]\u001b[A\n",
      "416it [00:21, 22.89it/s]\u001b[A\n",
      "431it [00:22, 23.44it/s]\u001b[A\n",
      "438it [00:22, 18.61it/s]\u001b[A\n",
      "451it [00:23, 18.74it/s]\u001b[A\n",
      "468it [00:23, 21.46it/s]\u001b[A\n",
      "479it [00:24, 18.53it/s]\u001b[A\n",
      "501it [00:25, 19.79it/s]\u001b[A\n",
      "27it [11:33, 26.39s/it]\n",
      "0it [00:00, ?it/s]\u001b[A"
     ]
    },
    {
     "name": "stdout",
     "output_type": "stream",
     "text": [
      "Trying date: 2022-11-12 00:00:00 | Currently at index: 27\n"
     ]
    },
    {
     "name": "stderr",
     "output_type": "stream",
     "text": [
      "\n",
      "1it [00:02,  2.33s/it]\u001b[A\n",
      "19it [00:03,  1.65s/it]\u001b[A\n",
      "35it [00:03,  1.16s/it]\u001b[A\n",
      "51it [00:04,  1.21it/s]\u001b[A\n",
      "66it [00:04,  1.69it/s]\u001b[A\n",
      "79it [00:05,  2.34it/s]\u001b[A\n",
      "92it [00:06,  3.17it/s]\u001b[A\n",
      "110it [00:06,  4.30it/s]\u001b[A\n",
      "128it [00:07,  5.68it/s]\u001b[A\n",
      "147it [00:08,  7.45it/s]\u001b[A\n",
      "165it [00:09,  9.43it/s]\u001b[A\n",
      "183it [00:09, 11.64it/s]\u001b[A\n",
      "201it [00:10, 13.75it/s]\u001b[A\n",
      "221it [00:11, 16.33it/s]\u001b[A\n",
      "239it [00:11, 18.70it/s]\u001b[A\n",
      "254it [00:12, 19.74it/s]\u001b[A\n",
      "268it [00:13, 19.57it/s]\u001b[A\n",
      "287it [00:13, 21.70it/s]\u001b[A\n",
      "305it [00:14, 23.88it/s]\u001b[A\n",
      "318it [00:15, 23.62it/s]\u001b[A\n",
      "328it [00:15, 21.08it/s]\u001b[A\n",
      "343it [00:16, 22.53it/s]\u001b[A\n",
      "356it [00:16, 22.98it/s]\u001b[A\n",
      "366it [00:17, 19.29it/s]\u001b[A\n",
      "384it [00:18, 22.00it/s]\u001b[A\n",
      "395it [00:18, 19.27it/s]\u001b[A\n",
      "413it [00:19, 21.01it/s]\u001b[A\n",
      "427it [00:20, 22.03it/s]\u001b[A\n",
      "437it [00:20, 18.48it/s]\u001b[A\n",
      "452it [00:21, 19.08it/s]\u001b[A\n",
      "469it [00:22, 21.34it/s]\u001b[A\n",
      "483it [00:22, 22.37it/s]\u001b[A\n",
      "501it [00:23, 21.60it/s]\u001b[A\n",
      "28it [11:56, 25.60s/it]\n"
     ]
    }
   ],
   "source": [
    "tweets_list = scrape_tweets(dates)"
   ]
  },
  {
   "cell_type": "code",
   "execution_count": 16,
   "metadata": {},
   "outputs": [
    {
     "data": {
      "text/plain": [
       "28"
      ]
     },
     "execution_count": 16,
     "metadata": {},
     "output_type": "execute_result"
    }
   ],
   "source": [
    "len(tweets_list)"
   ]
  },
  {
   "cell_type": "code",
   "execution_count": 17,
   "metadata": {},
   "outputs": [],
   "source": [
    "df = process_tweets(tweets_list)"
   ]
  },
  {
   "cell_type": "code",
   "execution_count": 25,
   "metadata": {},
   "outputs": [],
   "source": [
    "for d in df:\n",
    "    d.dropna(subset=['user_name', 'date', 'text'], inplace=True)\n",
    "    filename = str(d.iloc[0]['date'])\n",
    "    d.to_csv(f'../../../data/tweets/new_scraped/{filename}.csv')"
   ]
  },
  {
   "cell_type": "markdown",
   "metadata": {},
   "source": [
    "**There's an error in installing WTL for Windows; test out WTL alternative**"
   ]
  },
  {
   "cell_type": "code",
   "execution_count": 3,
   "metadata": {},
   "outputs": [
    {
     "name": "stdout",
     "output_type": "stream",
     "text": [
      "No\n"
     ]
    }
   ],
   "source": [
    "from lingua import Language, LanguageDetectorBuilder\n",
    "\n",
    "detector = LanguageDetectorBuilder.from_languages(Language.ENGLISH, Language.GERMAN).build()\n",
    "if detector.detect_language_of(\"Ben de iyiyim. Tesekkurler\") == Language.ENGLISH:\n",
    "    print('yes')\n",
    "else:\n",
    "    print('No')"
   ]
  },
  {
   "cell_type": "code",
   "execution_count": null,
   "metadata": {},
   "outputs": [],
   "source": [
    "from lingua import Language, LanguageDetectorBuilder\n",
    "detector = LanguageDetectorBuilder.from_languages(Language.ENGLISH, Language.GERMAN).build()\n",
    "\n",
    "def clean_tweets(dates):\n",
    "    '''\n",
    "    Clean tweets that have empty records and non-english tweets\n",
    "    '''\n",
    "    \n",
    "    tweets_list = scrape_tweets(dates)\n",
    "    df_days = process_tweets(tweets_list)\n",
    "\n",
    "    for df in df_days:\n",
    "        df.dropna(subset=['user_name', 'date', 'text'], inplace=True)\n",
    "\n",
    "        L = []\n",
    "        for row in df['text']:\n",
    "            # Use lingua to remove any non-english observations\n",
    "            if len(row) != 0:\n",
    "                L.append(detector.detect_language_of(row))\n",
    "            else:\n",
    "                L.append(None)\n",
    "\n",
    "        df['lang'] = L\n",
    "        df_filtered = df[df['lang'] == Language.ENGLISH]\n",
    "        df_filtered.drop(['lang'], axis=1, inplace=True)\n",
    "        \n",
    "        filename = str(df.iloc[0]['date'])\n",
    "        df_filtered.to_csv(f'../../../data/tweets/tweets_complete/{filename}.csv')\n",
    "        \n",
    "    return df_days\n"
   ]
  }
 ],
 "metadata": {
  "kernelspec": {
   "display_name": "Python 3 (ipykernel)",
   "language": "python",
   "name": "python3"
  },
  "language_info": {
   "codemirror_mode": {
    "name": "ipython",
    "version": 3
   },
   "file_extension": ".py",
   "mimetype": "text/x-python",
   "name": "python",
   "nbconvert_exporter": "python",
   "pygments_lexer": "ipython3",
   "version": "3.7.4"
  }
 },
 "nbformat": 4,
 "nbformat_minor": 4
}
