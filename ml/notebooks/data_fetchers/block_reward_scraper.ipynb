{
 "cells": [
  {
   "cell_type": "markdown",
   "id": "a926c133",
   "metadata": {},
   "source": [
    "### Scrapes block reward values"
   ]
  },
  {
   "cell_type": "code",
   "execution_count": 3,
   "id": "21fc997c",
   "metadata": {},
   "outputs": [],
   "source": [
    "import requests\n",
    "from bs4 import BeautifulSoup\n",
    "import pandas as pd\n",
    "import re"
   ]
  },
  {
   "cell_type": "code",
   "execution_count": 4,
   "id": "0f74dbf6",
   "metadata": {},
   "outputs": [],
   "source": [
    "URL = 'https://bitinfocharts.com/comparison/size-btc.html#alltime'\n",
    "response = requests.get(URL)\n",
    "soup = BeautifulSoup(response.text, 'html.parser')\n",
    "scripts = soup.find_all('script')"
   ]
  },
  {
   "cell_type": "code",
   "execution_count": 7,
   "id": "4b8f8985",
   "metadata": {},
   "outputs": [],
   "source": [
    "def parse(string_list):\n",
    "    '''\n",
    "    parse list of strings within the script tag\n",
    "    [date, volume]\n",
    "    '''\n",
    "    clean = re.sub('[\\[\\],\\s]', '', string_list)\n",
    "    splitted = re.split(\"[\\'\\\"]\", clean)\n",
    "    values_only = [s for s in splitted if s != '']\n",
    "    return values_only\n",
    "\n",
    "def process_scripts():\n",
    "    '''\n",
    "    Scrape URL script tag and extract block reward & respective date\n",
    "    '''\n",
    "    dates = []\n",
    "    sizes = []\n",
    "    \n",
    "    for script in scripts:\n",
    "        if 'd = new Dygraph(document.getElementById(\"container\")' in script.text:\n",
    "            str_lst = script.text\n",
    "            str_lst = '[[' + str_lst.split('[[')[-1]\n",
    "            str_lst = str_lst.split(']]')[0] +']]'\n",
    "            str_lst = str_lst.replace('new Date(', '').replace(')', '')\n",
    "            data = parse(str_lst)\n",
    "    \n",
    "    for each in data:\n",
    "        if (data.index(each) % 2) == 0:\n",
    "            dates.append(each)\n",
    "        else:\n",
    "            sizes.append(each)\n",
    "            \n",
    "    return dates, sizes\n",
    "\n",
    "def create_dataframe():\n",
    "    '''\n",
    "    Create dataframe from scraped block reward sizes and dates\n",
    "    '''\n",
    "    dates, sizes = process_scripts()\n",
    "    df = pd.DataFrame(list(zip(dates, sizes)), columns=['Date', 'Block Reward Size'])\n",
    "    return df\n",
    "\n",
    "def export_data(df):\n",
    "    '''\n",
    "    Save data\n",
    "    '''\n",
    "    df.to_csv('../../data/BTC_Block_Reward.csv')"
   ]
  },
  {
   "cell_type": "code",
   "execution_count": 8,
   "id": "da11e211",
   "metadata": {},
   "outputs": [],
   "source": [
    "df = create_dataframe()"
   ]
  },
  {
   "cell_type": "code",
   "execution_count": 10,
   "id": "7ddf0b05",
   "metadata": {},
   "outputs": [
    {
     "data": {
      "text/html": [
       "<div>\n",
       "<style scoped>\n",
       "    .dataframe tbody tr th:only-of-type {\n",
       "        vertical-align: middle;\n",
       "    }\n",
       "\n",
       "    .dataframe tbody tr th {\n",
       "        vertical-align: top;\n",
       "    }\n",
       "\n",
       "    .dataframe thead th {\n",
       "        text-align: right;\n",
       "    }\n",
       "</style>\n",
       "<table border=\"1\" class=\"dataframe\">\n",
       "  <thead>\n",
       "    <tr style=\"text-align: right;\">\n",
       "      <th></th>\n",
       "      <th>Date</th>\n",
       "      <th>Block Reward Size</th>\n",
       "    </tr>\n",
       "  </thead>\n",
       "  <tbody>\n",
       "    <tr>\n",
       "      <th>5097</th>\n",
       "      <td>2022/12/18</td>\n",
       "      <td>511467</td>\n",
       "    </tr>\n",
       "    <tr>\n",
       "      <th>5098</th>\n",
       "      <td>2022/12/19</td>\n",
       "      <td>706111</td>\n",
       "    </tr>\n",
       "    <tr>\n",
       "      <th>5099</th>\n",
       "      <td>2022/12/20</td>\n",
       "      <td>665567</td>\n",
       "    </tr>\n",
       "    <tr>\n",
       "      <th>5100</th>\n",
       "      <td>2022/12/21</td>\n",
       "      <td>653348</td>\n",
       "    </tr>\n",
       "    <tr>\n",
       "      <th>5101</th>\n",
       "      <td>2022/12/22</td>\n",
       "      <td>676142</td>\n",
       "    </tr>\n",
       "  </tbody>\n",
       "</table>\n",
       "</div>"
      ],
      "text/plain": [
       "            Date Block Reward Size\n",
       "5097  2022/12/18            511467\n",
       "5098  2022/12/19            706111\n",
       "5099  2022/12/20            665567\n",
       "5100  2022/12/21            653348\n",
       "5101  2022/12/22            676142"
      ]
     },
     "execution_count": 10,
     "metadata": {},
     "output_type": "execute_result"
    }
   ],
   "source": [
    "df.tail()"
   ]
  },
  {
   "cell_type": "code",
   "execution_count": 11,
   "id": "f3cd0dd9",
   "metadata": {},
   "outputs": [],
   "source": [
    "export_data(df)"
   ]
  },
  {
   "cell_type": "code",
   "execution_count": null,
   "id": "9a56500f",
   "metadata": {},
   "outputs": [],
   "source": []
  }
 ],
 "metadata": {
  "kernelspec": {
   "display_name": "Python 3 (ipykernel)",
   "language": "python",
   "name": "python3"
  },
  "language_info": {
   "codemirror_mode": {
    "name": "ipython",
    "version": 3
   },
   "file_extension": ".py",
   "mimetype": "text/x-python",
   "name": "python",
   "nbconvert_exporter": "python",
   "pygments_lexer": "ipython3",
   "version": "3.7.4"
  }
 },
 "nbformat": 4,
 "nbformat_minor": 5
}
