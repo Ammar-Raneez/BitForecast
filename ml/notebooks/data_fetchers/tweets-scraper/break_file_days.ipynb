{
 "cells": [
  {
   "cell_type": "markdown",
   "metadata": {},
   "source": [
    "### Breaks down the extremely large tweet dataset into multiple small CSVs"
   ]
  },
  {
   "cell_type": "code",
   "execution_count": 1,
   "metadata": {
    "_cell_guid": "b1076dfc-b9ad-4769-8c92-a6c4dae69d19",
    "_uuid": "8f2839f25d086af736a60e9eeb907d3b93b6e0e5",
    "execution": {
     "iopub.execute_input": "2022-11-07T10:30:33.617533Z",
     "iopub.status.busy": "2022-11-07T10:30:33.616698Z",
     "iopub.status.idle": "2022-11-07T10:30:33.653116Z",
     "shell.execute_reply": "2022-11-07T10:30:33.652372Z",
     "shell.execute_reply.started": "2022-11-07T10:30:33.617416Z"
    }
   },
   "outputs": [
    {
     "name": "stdout",
     "output_type": "stream",
     "text": [
      "/kaggle/input/bitcoin-tweets-20160101-to-20190329/tweets.csv\n"
     ]
    }
   ],
   "source": [
    "import dask\n",
    "import dask.dataframe as dd\n",
    "\n",
    "import os\n",
    "\n",
    "for dirname, _, filenames in os.walk('/kaggle/input'):\n",
    "    for filename in filenames:\n",
    "        print(os.path.join(dirname, filename))"
   ]
  },
  {
   "cell_type": "code",
   "execution_count": 6,
   "metadata": {
    "execution": {
     "iopub.execute_input": "2022-11-07T11:09:26.081571Z",
     "iopub.status.busy": "2022-11-07T11:09:26.081125Z",
     "iopub.status.idle": "2022-11-07T11:09:26.120458Z",
     "shell.execute_reply": "2022-11-07T11:09:26.118637Z",
     "shell.execute_reply.started": "2022-11-07T11:09:26.081535Z"
    }
   },
   "outputs": [],
   "source": [
    "df = dd.read_csv(\n",
    "    '/kaggle/input/bitcoin-tweets-20160101-to-20190329/tweets.csv',\n",
    "    delimiter=';',\n",
    "    usecols=['user', 'fullname', 'timestamp', 'text'],\n",
    "    engine='python',\n",
    "    on_bad_lines='skip'\n",
    ")"
   ]
  },
  {
   "cell_type": "code",
   "execution_count": 7,
   "metadata": {
    "execution": {
     "iopub.execute_input": "2022-11-07T11:09:32.091825Z",
     "iopub.status.busy": "2022-11-07T11:09:32.091406Z",
     "iopub.status.idle": "2022-11-07T11:09:35.923645Z",
     "shell.execute_reply": "2022-11-07T11:09:35.922360Z",
     "shell.execute_reply.started": "2022-11-07T11:09:32.091791Z"
    }
   },
   "outputs": [
    {
     "data": {
      "text/html": [
       "<div>\n",
       "<style scoped>\n",
       "    .dataframe tbody tr th:only-of-type {\n",
       "        vertical-align: middle;\n",
       "    }\n",
       "\n",
       "    .dataframe tbody tr th {\n",
       "        vertical-align: top;\n",
       "    }\n",
       "\n",
       "    .dataframe thead th {\n",
       "        text-align: right;\n",
       "    }\n",
       "</style>\n",
       "<table border=\"1\" class=\"dataframe\">\n",
       "  <thead>\n",
       "    <tr style=\"text-align: right;\">\n",
       "      <th></th>\n",
       "      <th>user</th>\n",
       "      <th>fullname</th>\n",
       "      <th>timestamp</th>\n",
       "      <th>text</th>\n",
       "    </tr>\n",
       "  </thead>\n",
       "  <tbody>\n",
       "    <tr>\n",
       "      <th>0</th>\n",
       "      <td>KamdemAbdiel</td>\n",
       "      <td>Abdiel kamdem</td>\n",
       "      <td>2019-05-27 11:49:14+00</td>\n",
       "      <td>È appena uscito un nuovo video! LES CRYPTOMONN...</td>\n",
       "    </tr>\n",
       "    <tr>\n",
       "      <th>1</th>\n",
       "      <td>bitcointe</td>\n",
       "      <td>Bitcointe</td>\n",
       "      <td>2019-05-27 11:49:18+00</td>\n",
       "      <td>Cardano: Digitize Currencies; EOS https://t.co...</td>\n",
       "    </tr>\n",
       "    <tr>\n",
       "      <th>2</th>\n",
       "      <td>3eyedbran</td>\n",
       "      <td>Bran - 3 Eyed Raven</td>\n",
       "      <td>2019-05-27 11:49:06+00</td>\n",
       "      <td>Another Test tweet that wasn't caught in the s...</td>\n",
       "    </tr>\n",
       "    <tr>\n",
       "      <th>3</th>\n",
       "      <td>DetroitCrypto</td>\n",
       "      <td>J. Scardina</td>\n",
       "      <td>2019-05-27 11:49:22+00</td>\n",
       "      <td>Current Crypto Prices! \\n\\nBTC: $8721.99 USD\\n...</td>\n",
       "    </tr>\n",
       "    <tr>\n",
       "      <th>4</th>\n",
       "      <td>mmursaleen72</td>\n",
       "      <td>Muhammad Mursaleen</td>\n",
       "      <td>2019-05-27 11:49:23+00</td>\n",
       "      <td>Spiv (Nosar Baz): BITCOIN Is An Asset &amp;amp; NO...</td>\n",
       "    </tr>\n",
       "  </tbody>\n",
       "</table>\n",
       "</div>"
      ],
      "text/plain": [
       "            user             fullname               timestamp  \\\n",
       "0   KamdemAbdiel        Abdiel kamdem  2019-05-27 11:49:14+00   \n",
       "1      bitcointe            Bitcointe  2019-05-27 11:49:18+00   \n",
       "2      3eyedbran  Bran - 3 Eyed Raven  2019-05-27 11:49:06+00   \n",
       "3  DetroitCrypto          J. Scardina  2019-05-27 11:49:22+00   \n",
       "4   mmursaleen72   Muhammad Mursaleen  2019-05-27 11:49:23+00   \n",
       "\n",
       "                                                text  \n",
       "0  È appena uscito un nuovo video! LES CRYPTOMONN...  \n",
       "1  Cardano: Digitize Currencies; EOS https://t.co...  \n",
       "2  Another Test tweet that wasn't caught in the s...  \n",
       "3  Current Crypto Prices! \\n\\nBTC: $8721.99 USD\\n...  \n",
       "4  Spiv (Nosar Baz): BITCOIN Is An Asset &amp; NO...  "
      ]
     },
     "execution_count": 7,
     "metadata": {},
     "output_type": "execute_result"
    }
   ],
   "source": [
    "df.head()"
   ]
  },
  {
   "cell_type": "code",
   "execution_count": 8,
   "metadata": {
    "execution": {
     "iopub.execute_input": "2022-11-07T11:09:50.322275Z",
     "iopub.status.busy": "2022-11-07T11:09:50.321874Z",
     "iopub.status.idle": "2022-11-07T11:09:50.340271Z",
     "shell.execute_reply": "2022-11-07T11:09:50.337523Z",
     "shell.execute_reply.started": "2022-11-07T11:09:50.322250Z"
    }
   },
   "outputs": [],
   "source": [
    "df['timestamp'] = dd.to_datetime(df['timestamp'])"
   ]
  },
  {
   "cell_type": "code",
   "execution_count": 9,
   "metadata": {
    "execution": {
     "iopub.execute_input": "2022-11-07T11:10:09.741031Z",
     "iopub.status.busy": "2022-11-07T11:10:09.740532Z",
     "iopub.status.idle": "2022-11-07T11:10:09.752601Z",
     "shell.execute_reply": "2022-11-07T11:10:09.751259Z",
     "shell.execute_reply.started": "2022-11-07T11:10:09.740987Z"
    }
   },
   "outputs": [
    {
     "name": "stdout",
     "output_type": "stream",
     "text": [
      "<class 'dask.dataframe.core.DataFrame'>\n",
      "Columns: 4 entries, user to text\n",
      "dtypes: datetime64[ns](1), object(3)"
     ]
    }
   ],
   "source": [
    "df.info()"
   ]
  },
  {
   "cell_type": "code",
   "execution_count": 10,
   "metadata": {
    "execution": {
     "iopub.execute_input": "2022-11-07T11:10:21.841662Z",
     "iopub.status.busy": "2022-11-07T11:10:21.841152Z",
     "iopub.status.idle": "2022-11-07T11:10:21.857306Z",
     "shell.execute_reply": "2022-11-07T11:10:21.856096Z",
     "shell.execute_reply.started": "2022-11-07T11:10:21.841623Z"
    }
   },
   "outputs": [],
   "source": [
    "df_cleaned = df.dropna(subset=['timestamp'])"
   ]
  },
  {
   "cell_type": "code",
   "execution_count": 12,
   "metadata": {
    "execution": {
     "iopub.execute_input": "2022-11-07T11:10:59.762555Z",
     "iopub.status.busy": "2022-11-07T11:10:59.761920Z",
     "iopub.status.idle": "2022-11-07T11:15:11.334783Z",
     "shell.execute_reply": "2022-11-07T11:15:11.333954Z",
     "shell.execute_reply.started": "2022-11-07T11:10:59.762495Z"
    }
   },
   "outputs": [
    {
     "data": {
      "text/plain": [
       "67561928"
      ]
     },
     "execution_count": 12,
     "metadata": {},
     "output_type": "execute_result"
    }
   ],
   "source": [
    "df.size.compute()"
   ]
  },
  {
   "cell_type": "code",
   "execution_count": 13,
   "metadata": {
    "execution": {
     "iopub.execute_input": "2022-11-07T11:15:43.918414Z",
     "iopub.status.busy": "2022-11-07T11:15:43.915954Z",
     "iopub.status.idle": "2022-11-07T11:15:43.948206Z",
     "shell.execute_reply": "2022-11-07T11:15:43.946866Z",
     "shell.execute_reply.started": "2022-11-07T11:15:43.918341Z"
    }
   },
   "outputs": [],
   "source": [
    "df_cleaned['timestamp'] = df_cleaned['timestamp'].dt.strftime('%m/%d/%Y')"
   ]
  },
  {
   "cell_type": "code",
   "execution_count": 14,
   "metadata": {
    "execution": {
     "iopub.execute_input": "2022-11-07T11:16:01.851603Z",
     "iopub.status.busy": "2022-11-07T11:16:01.851052Z",
     "iopub.status.idle": "2022-11-07T11:16:01.863294Z",
     "shell.execute_reply": "2022-11-07T11:16:01.861631Z",
     "shell.execute_reply.started": "2022-11-07T11:16:01.851558Z"
    }
   },
   "outputs": [],
   "source": [
    "df_filtered = df_cleaned[df_cleaned['timestamp'] > '01/01/2014']"
   ]
  },
  {
   "cell_type": "code",
   "execution_count": 15,
   "metadata": {
    "execution": {
     "iopub.execute_input": "2022-11-07T11:16:12.223487Z",
     "iopub.status.busy": "2022-11-07T11:16:12.222322Z",
     "iopub.status.idle": "2022-11-07T11:16:18.804530Z",
     "shell.execute_reply": "2022-11-07T11:16:18.803339Z",
     "shell.execute_reply.started": "2022-11-07T11:16:12.223412Z"
    }
   },
   "outputs": [
    {
     "data": {
      "text/html": [
       "<div>\n",
       "<style scoped>\n",
       "    .dataframe tbody tr th:only-of-type {\n",
       "        vertical-align: middle;\n",
       "    }\n",
       "\n",
       "    .dataframe tbody tr th {\n",
       "        vertical-align: top;\n",
       "    }\n",
       "\n",
       "    .dataframe thead th {\n",
       "        text-align: right;\n",
       "    }\n",
       "</style>\n",
       "<table border=\"1\" class=\"dataframe\">\n",
       "  <thead>\n",
       "    <tr style=\"text-align: right;\">\n",
       "      <th></th>\n",
       "      <th>user</th>\n",
       "      <th>fullname</th>\n",
       "      <th>timestamp</th>\n",
       "      <th>text</th>\n",
       "    </tr>\n",
       "  </thead>\n",
       "  <tbody>\n",
       "    <tr>\n",
       "      <th>0</th>\n",
       "      <td>KamdemAbdiel</td>\n",
       "      <td>Abdiel kamdem</td>\n",
       "      <td>05/27/2019</td>\n",
       "      <td>È appena uscito un nuovo video! LES CRYPTOMONN...</td>\n",
       "    </tr>\n",
       "    <tr>\n",
       "      <th>1</th>\n",
       "      <td>bitcointe</td>\n",
       "      <td>Bitcointe</td>\n",
       "      <td>05/27/2019</td>\n",
       "      <td>Cardano: Digitize Currencies; EOS https://t.co...</td>\n",
       "    </tr>\n",
       "    <tr>\n",
       "      <th>2</th>\n",
       "      <td>3eyedbran</td>\n",
       "      <td>Bran - 3 Eyed Raven</td>\n",
       "      <td>05/27/2019</td>\n",
       "      <td>Another Test tweet that wasn't caught in the s...</td>\n",
       "    </tr>\n",
       "    <tr>\n",
       "      <th>3</th>\n",
       "      <td>DetroitCrypto</td>\n",
       "      <td>J. Scardina</td>\n",
       "      <td>05/27/2019</td>\n",
       "      <td>Current Crypto Prices! \\n\\nBTC: $8721.99 USD\\n...</td>\n",
       "    </tr>\n",
       "    <tr>\n",
       "      <th>4</th>\n",
       "      <td>mmursaleen72</td>\n",
       "      <td>Muhammad Mursaleen</td>\n",
       "      <td>05/27/2019</td>\n",
       "      <td>Spiv (Nosar Baz): BITCOIN Is An Asset &amp;amp; NO...</td>\n",
       "    </tr>\n",
       "  </tbody>\n",
       "</table>\n",
       "</div>"
      ],
      "text/plain": [
       "            user             fullname   timestamp  \\\n",
       "0   KamdemAbdiel        Abdiel kamdem  05/27/2019   \n",
       "1      bitcointe            Bitcointe  05/27/2019   \n",
       "2      3eyedbran  Bran - 3 Eyed Raven  05/27/2019   \n",
       "3  DetroitCrypto          J. Scardina  05/27/2019   \n",
       "4   mmursaleen72   Muhammad Mursaleen  05/27/2019   \n",
       "\n",
       "                                                text  \n",
       "0  È appena uscito un nuovo video! LES CRYPTOMONN...  \n",
       "1  Cardano: Digitize Currencies; EOS https://t.co...  \n",
       "2  Another Test tweet that wasn't caught in the s...  \n",
       "3  Current Crypto Prices! \\n\\nBTC: $8721.99 USD\\n...  \n",
       "4  Spiv (Nosar Baz): BITCOIN Is An Asset &amp; NO...  "
      ]
     },
     "execution_count": 15,
     "metadata": {},
     "output_type": "execute_result"
    }
   ],
   "source": [
    "df_filtered.head()"
   ]
  },
  {
   "cell_type": "code",
   "execution_count": 16,
   "metadata": {
    "execution": {
     "iopub.execute_input": "2022-11-07T11:16:37.310149Z",
     "iopub.status.busy": "2022-11-07T11:16:37.309663Z",
     "iopub.status.idle": "2022-11-07T11:29:45.630087Z",
     "shell.execute_reply": "2022-11-07T11:29:45.625156Z",
     "shell.execute_reply.started": "2022-11-07T11:16:37.310108Z"
    }
   },
   "outputs": [],
   "source": [
    "df_sorted = df_filtered.set_index('timestamp')"
   ]
  },
  {
   "cell_type": "code",
   "execution_count": 17,
   "metadata": {
    "execution": {
     "iopub.execute_input": "2022-11-07T11:30:01.410029Z",
     "iopub.status.busy": "2022-11-07T11:30:01.409546Z",
     "iopub.status.idle": "2022-11-07T11:37:32.935553Z",
     "shell.execute_reply": "2022-11-07T11:37:32.934079Z",
     "shell.execute_reply.started": "2022-11-07T11:30:01.409995Z"
    }
   },
   "outputs": [
    {
     "data": {
      "text/html": [
       "<div>\n",
       "<style scoped>\n",
       "    .dataframe tbody tr th:only-of-type {\n",
       "        vertical-align: middle;\n",
       "    }\n",
       "\n",
       "    .dataframe tbody tr th {\n",
       "        vertical-align: top;\n",
       "    }\n",
       "\n",
       "    .dataframe thead th {\n",
       "        text-align: right;\n",
       "    }\n",
       "</style>\n",
       "<table border=\"1\" class=\"dataframe\">\n",
       "  <thead>\n",
       "    <tr style=\"text-align: right;\">\n",
       "      <th></th>\n",
       "      <th>user</th>\n",
       "      <th>fullname</th>\n",
       "      <th>text</th>\n",
       "    </tr>\n",
       "    <tr>\n",
       "      <th>timestamp</th>\n",
       "      <th></th>\n",
       "      <th></th>\n",
       "      <th></th>\n",
       "    </tr>\n",
       "  </thead>\n",
       "  <tbody>\n",
       "    <tr>\n",
       "      <th>01/01/2015</th>\n",
       "      <td>btcusd</td>\n",
       "      <td>Bitstamp: BTC to USD</td>\n",
       "      <td>$314.01 at 00:45 UTC [24h Range: $312.60 - $31...</td>\n",
       "    </tr>\n",
       "    <tr>\n",
       "      <th>01/01/2015</th>\n",
       "      <td>btcusd</td>\n",
       "      <td>Bitstamp: BTC to USD</td>\n",
       "      <td>$313.24 at 16:00 UTC [24h Range: $312.60 - $32...</td>\n",
       "    </tr>\n",
       "    <tr>\n",
       "      <th>01/01/2015</th>\n",
       "      <td>BTCtoUSD</td>\n",
       "      <td>Bitcoin to USD $</td>\n",
       "      <td>Current price: 315.92$ $BTCUSD $btc #bitcoin 2...</td>\n",
       "    </tr>\n",
       "    <tr>\n",
       "      <th>01/01/2015</th>\n",
       "      <td>airdroplite</td>\n",
       "      <td>Airdrop Lite</td>\n",
       "      <td>BTCTurk 756.3 TL Koinim 775 TL CampBx 330.00 $...</td>\n",
       "    </tr>\n",
       "    <tr>\n",
       "      <th>01/01/2015</th>\n",
       "      <td>BTCtoEUR</td>\n",
       "      <td>Bitcoin to EUR €</td>\n",
       "      <td>Current price: 261.02€ $BTCEUR $btc #bitcoin 2...</td>\n",
       "    </tr>\n",
       "  </tbody>\n",
       "</table>\n",
       "</div>"
      ],
      "text/plain": [
       "                   user              fullname  \\\n",
       "timestamp                                       \n",
       "01/01/2015       btcusd  Bitstamp: BTC to USD   \n",
       "01/01/2015       btcusd  Bitstamp: BTC to USD   \n",
       "01/01/2015     BTCtoUSD      Bitcoin to USD $   \n",
       "01/01/2015  airdroplite          Airdrop Lite   \n",
       "01/01/2015     BTCtoEUR      Bitcoin to EUR €   \n",
       "\n",
       "                                                         text  \n",
       "timestamp                                                      \n",
       "01/01/2015  $314.01 at 00:45 UTC [24h Range: $312.60 - $31...  \n",
       "01/01/2015  $313.24 at 16:00 UTC [24h Range: $312.60 - $32...  \n",
       "01/01/2015  Current price: 315.92$ $BTCUSD $btc #bitcoin 2...  \n",
       "01/01/2015  BTCTurk 756.3 TL Koinim 775 TL CampBx 330.00 $...  \n",
       "01/01/2015  Current price: 261.02€ $BTCEUR $btc #bitcoin 2...  "
      ]
     },
     "execution_count": 17,
     "metadata": {},
     "output_type": "execute_result"
    }
   ],
   "source": [
    "df_sorted.head()"
   ]
  },
  {
   "cell_type": "code",
   "execution_count": 24,
   "metadata": {
    "execution": {
     "iopub.execute_input": "2022-11-07T12:07:55.000330Z",
     "iopub.status.busy": "2022-11-07T12:07:54.999464Z",
     "iopub.status.idle": "2022-11-07T12:15:25.655096Z",
     "shell.execute_reply": "2022-11-07T12:15:25.653604Z",
     "shell.execute_reply.started": "2022-11-07T12:07:55.000130Z"
    }
   },
   "outputs": [
    {
     "data": {
      "text/html": [
       "<div>\n",
       "<style scoped>\n",
       "    .dataframe tbody tr th:only-of-type {\n",
       "        vertical-align: middle;\n",
       "    }\n",
       "\n",
       "    .dataframe tbody tr th {\n",
       "        vertical-align: top;\n",
       "    }\n",
       "\n",
       "    .dataframe thead th {\n",
       "        text-align: right;\n",
       "    }\n",
       "</style>\n",
       "<table border=\"1\" class=\"dataframe\">\n",
       "  <thead>\n",
       "    <tr style=\"text-align: right;\">\n",
       "      <th></th>\n",
       "      <th>user</th>\n",
       "      <th>fullname</th>\n",
       "      <th>text</th>\n",
       "    </tr>\n",
       "    <tr>\n",
       "      <th>timestamp</th>\n",
       "      <th></th>\n",
       "      <th></th>\n",
       "      <th></th>\n",
       "    </tr>\n",
       "  </thead>\n",
       "  <tbody>\n",
       "    <tr>\n",
       "      <th>12/31/2018</th>\n",
       "      <td>fahmyeu</td>\n",
       "      <td>HF</td>\n",
       "      <td>There are 36 million millionaires today on Ear...</td>\n",
       "    </tr>\n",
       "    <tr>\n",
       "      <th>12/31/2018</th>\n",
       "      <td>coin_chart</td>\n",
       "      <td>仮想通貨チャート</td>\n",
       "      <td>2019/01/01 02:00\\nBTC 412924円\\nETH 14842.6円\\nE...</td>\n",
       "    </tr>\n",
       "    <tr>\n",
       "      <th>12/31/2018</th>\n",
       "      <td>BSD_Masternode</td>\n",
       "      <td>Bitsend Masternodes</td>\n",
       "      <td>#cryptocurrency Price Analysis for #Bitsend #B...</td>\n",
       "    </tr>\n",
       "    <tr>\n",
       "      <th>12/31/2018</th>\n",
       "      <td>lambo_liza</td>\n",
       "      <td>tweet LIZA LIZUN LAMBO LIMBO price BOT</td>\n",
       "      <td>#LIZA #LAMBO price\\n12-31 17:00(GMT)\\n\\n$LIZA\\...</td>\n",
       "    </tr>\n",
       "    <tr>\n",
       "      <th>12/31/2018</th>\n",
       "      <td>cryptoc_cheap</td>\n",
       "      <td>いま注目の格安仮想通貨！</td>\n",
       "      <td>2019/01/01 00:30\\n#Binance 格安コイン\\n\\n1位 #HOT 0....</td>\n",
       "    </tr>\n",
       "  </tbody>\n",
       "</table>\n",
       "</div>"
      ],
      "text/plain": [
       "                      user                                fullname  \\\n",
       "timestamp                                                            \n",
       "12/31/2018         fahmyeu                                      HF   \n",
       "12/31/2018      coin_chart                                仮想通貨チャート   \n",
       "12/31/2018  BSD_Masternode                     Bitsend Masternodes   \n",
       "12/31/2018      lambo_liza  tweet LIZA LIZUN LAMBO LIMBO price BOT   \n",
       "12/31/2018   cryptoc_cheap                            いま注目の格安仮想通貨！   \n",
       "\n",
       "                                                         text  \n",
       "timestamp                                                      \n",
       "12/31/2018  There are 36 million millionaires today on Ear...  \n",
       "12/31/2018  2019/01/01 02:00\\nBTC 412924円\\nETH 14842.6円\\nE...  \n",
       "12/31/2018  #cryptocurrency Price Analysis for #Bitsend #B...  \n",
       "12/31/2018  #LIZA #LAMBO price\\n12-31 17:00(GMT)\\n\\n$LIZA\\...  \n",
       "12/31/2018  2019/01/01 00:30\\n#Binance 格安コイン\\n\\n1位 #HOT 0....  "
      ]
     },
     "execution_count": 24,
     "metadata": {},
     "output_type": "execute_result"
    }
   ],
   "source": [
    "df_sorted.tail()"
   ]
  },
  {
   "cell_type": "code",
   "execution_count": 21,
   "metadata": {
    "execution": {
     "iopub.execute_input": "2022-11-07T11:44:33.127620Z",
     "iopub.status.busy": "2022-11-07T11:44:33.126699Z",
     "iopub.status.idle": "2022-11-07T11:53:03.027779Z",
     "shell.execute_reply": "2022-11-07T11:53:03.026408Z",
     "shell.execute_reply.started": "2022-11-07T11:44:33.127515Z"
    }
   },
   "outputs": [],
   "source": [
    "df_repartitioned = df_sorted.repartition(partition_size='100MB')"
   ]
  },
  {
   "cell_type": "code",
   "execution_count": 23,
   "metadata": {
    "execution": {
     "iopub.execute_input": "2022-11-07T11:54:44.797069Z",
     "iopub.status.busy": "2022-11-07T11:54:44.796547Z",
     "iopub.status.idle": "2022-11-07T12:05:13.392411Z",
     "shell.execute_reply": "2022-11-07T12:05:13.390537Z",
     "shell.execute_reply.started": "2022-11-07T11:54:44.797028Z"
    }
   },
   "outputs": [
    {
     "data": {
      "text/plain": [
       "['/kaggle/working/broken_sets/data-000.csv',\n",
       " '/kaggle/working/broken_sets/data-001.csv',\n",
       " '/kaggle/working/broken_sets/data-002.csv',\n",
       " '/kaggle/working/broken_sets/data-003.csv',\n",
       " '/kaggle/working/broken_sets/data-004.csv',\n",
       " '/kaggle/working/broken_sets/data-005.csv',\n",
       " '/kaggle/working/broken_sets/data-006.csv',\n",
       " '/kaggle/working/broken_sets/data-007.csv',\n",
       " '/kaggle/working/broken_sets/data-008.csv',\n",
       " '/kaggle/working/broken_sets/data-009.csv',\n",
       " '/kaggle/working/broken_sets/data-010.csv',\n",
       " '/kaggle/working/broken_sets/data-011.csv',\n",
       " '/kaggle/working/broken_sets/data-012.csv',\n",
       " '/kaggle/working/broken_sets/data-013.csv',\n",
       " '/kaggle/working/broken_sets/data-014.csv',\n",
       " '/kaggle/working/broken_sets/data-015.csv',\n",
       " '/kaggle/working/broken_sets/data-016.csv',\n",
       " '/kaggle/working/broken_sets/data-017.csv',\n",
       " '/kaggle/working/broken_sets/data-018.csv',\n",
       " '/kaggle/working/broken_sets/data-019.csv',\n",
       " '/kaggle/working/broken_sets/data-020.csv',\n",
       " '/kaggle/working/broken_sets/data-021.csv',\n",
       " '/kaggle/working/broken_sets/data-022.csv',\n",
       " '/kaggle/working/broken_sets/data-023.csv',\n",
       " '/kaggle/working/broken_sets/data-024.csv',\n",
       " '/kaggle/working/broken_sets/data-025.csv',\n",
       " '/kaggle/working/broken_sets/data-026.csv',\n",
       " '/kaggle/working/broken_sets/data-027.csv',\n",
       " '/kaggle/working/broken_sets/data-028.csv',\n",
       " '/kaggle/working/broken_sets/data-029.csv',\n",
       " '/kaggle/working/broken_sets/data-030.csv',\n",
       " '/kaggle/working/broken_sets/data-031.csv',\n",
       " '/kaggle/working/broken_sets/data-032.csv',\n",
       " '/kaggle/working/broken_sets/data-033.csv',\n",
       " '/kaggle/working/broken_sets/data-034.csv',\n",
       " '/kaggle/working/broken_sets/data-035.csv',\n",
       " '/kaggle/working/broken_sets/data-036.csv',\n",
       " '/kaggle/working/broken_sets/data-037.csv',\n",
       " '/kaggle/working/broken_sets/data-038.csv',\n",
       " '/kaggle/working/broken_sets/data-039.csv',\n",
       " '/kaggle/working/broken_sets/data-040.csv',\n",
       " '/kaggle/working/broken_sets/data-041.csv',\n",
       " '/kaggle/working/broken_sets/data-042.csv',\n",
       " '/kaggle/working/broken_sets/data-043.csv',\n",
       " '/kaggle/working/broken_sets/data-044.csv',\n",
       " '/kaggle/working/broken_sets/data-045.csv',\n",
       " '/kaggle/working/broken_sets/data-046.csv',\n",
       " '/kaggle/working/broken_sets/data-047.csv',\n",
       " '/kaggle/working/broken_sets/data-048.csv',\n",
       " '/kaggle/working/broken_sets/data-049.csv',\n",
       " '/kaggle/working/broken_sets/data-050.csv',\n",
       " '/kaggle/working/broken_sets/data-051.csv',\n",
       " '/kaggle/working/broken_sets/data-052.csv',\n",
       " '/kaggle/working/broken_sets/data-053.csv',\n",
       " '/kaggle/working/broken_sets/data-054.csv',\n",
       " '/kaggle/working/broken_sets/data-055.csv',\n",
       " '/kaggle/working/broken_sets/data-056.csv',\n",
       " '/kaggle/working/broken_sets/data-057.csv',\n",
       " '/kaggle/working/broken_sets/data-058.csv',\n",
       " '/kaggle/working/broken_sets/data-059.csv',\n",
       " '/kaggle/working/broken_sets/data-060.csv',\n",
       " '/kaggle/working/broken_sets/data-061.csv',\n",
       " '/kaggle/working/broken_sets/data-062.csv',\n",
       " '/kaggle/working/broken_sets/data-063.csv',\n",
       " '/kaggle/working/broken_sets/data-064.csv',\n",
       " '/kaggle/working/broken_sets/data-065.csv',\n",
       " '/kaggle/working/broken_sets/data-066.csv',\n",
       " '/kaggle/working/broken_sets/data-067.csv',\n",
       " '/kaggle/working/broken_sets/data-068.csv',\n",
       " '/kaggle/working/broken_sets/data-069.csv',\n",
       " '/kaggle/working/broken_sets/data-070.csv',\n",
       " '/kaggle/working/broken_sets/data-071.csv',\n",
       " '/kaggle/working/broken_sets/data-072.csv',\n",
       " '/kaggle/working/broken_sets/data-073.csv',\n",
       " '/kaggle/working/broken_sets/data-074.csv',\n",
       " '/kaggle/working/broken_sets/data-075.csv',\n",
       " '/kaggle/working/broken_sets/data-076.csv',\n",
       " '/kaggle/working/broken_sets/data-077.csv',\n",
       " '/kaggle/working/broken_sets/data-078.csv',\n",
       " '/kaggle/working/broken_sets/data-079.csv',\n",
       " '/kaggle/working/broken_sets/data-080.csv',\n",
       " '/kaggle/working/broken_sets/data-081.csv',\n",
       " '/kaggle/working/broken_sets/data-082.csv',\n",
       " '/kaggle/working/broken_sets/data-083.csv',\n",
       " '/kaggle/working/broken_sets/data-084.csv',\n",
       " '/kaggle/working/broken_sets/data-085.csv',\n",
       " '/kaggle/working/broken_sets/data-086.csv',\n",
       " '/kaggle/working/broken_sets/data-087.csv',\n",
       " '/kaggle/working/broken_sets/data-088.csv',\n",
       " '/kaggle/working/broken_sets/data-089.csv',\n",
       " '/kaggle/working/broken_sets/data-090.csv',\n",
       " '/kaggle/working/broken_sets/data-091.csv',\n",
       " '/kaggle/working/broken_sets/data-092.csv',\n",
       " '/kaggle/working/broken_sets/data-093.csv',\n",
       " '/kaggle/working/broken_sets/data-094.csv',\n",
       " '/kaggle/working/broken_sets/data-095.csv',\n",
       " '/kaggle/working/broken_sets/data-096.csv',\n",
       " '/kaggle/working/broken_sets/data-097.csv',\n",
       " '/kaggle/working/broken_sets/data-098.csv',\n",
       " '/kaggle/working/broken_sets/data-099.csv',\n",
       " '/kaggle/working/broken_sets/data-100.csv',\n",
       " '/kaggle/working/broken_sets/data-101.csv',\n",
       " '/kaggle/working/broken_sets/data-102.csv',\n",
       " '/kaggle/working/broken_sets/data-103.csv',\n",
       " '/kaggle/working/broken_sets/data-104.csv',\n",
       " '/kaggle/working/broken_sets/data-105.csv',\n",
       " '/kaggle/working/broken_sets/data-106.csv',\n",
       " '/kaggle/working/broken_sets/data-107.csv',\n",
       " '/kaggle/working/broken_sets/data-108.csv',\n",
       " '/kaggle/working/broken_sets/data-109.csv',\n",
       " '/kaggle/working/broken_sets/data-110.csv',\n",
       " '/kaggle/working/broken_sets/data-111.csv',\n",
       " '/kaggle/working/broken_sets/data-112.csv',\n",
       " '/kaggle/working/broken_sets/data-113.csv',\n",
       " '/kaggle/working/broken_sets/data-114.csv',\n",
       " '/kaggle/working/broken_sets/data-115.csv',\n",
       " '/kaggle/working/broken_sets/data-116.csv',\n",
       " '/kaggle/working/broken_sets/data-117.csv',\n",
       " '/kaggle/working/broken_sets/data-118.csv',\n",
       " '/kaggle/working/broken_sets/data-119.csv',\n",
       " '/kaggle/working/broken_sets/data-120.csv']"
      ]
     },
     "execution_count": 23,
     "metadata": {},
     "output_type": "execute_result"
    }
   ],
   "source": [
    "df_repartitioned.to_csv('broken_sets/data-*.csv')"
   ]
  },
  {
   "cell_type": "code",
   "execution_count": 26,
   "metadata": {
    "execution": {
     "iopub.execute_input": "2022-11-07T12:43:52.019434Z",
     "iopub.status.busy": "2022-11-07T12:43:52.018859Z",
     "iopub.status.idle": "2022-11-07T12:47:14.327135Z",
     "shell.execute_reply": "2022-11-07T12:47:14.325391Z",
     "shell.execute_reply.started": "2022-11-07T12:43:52.019373Z"
    }
   },
   "outputs": [
    {
     "name": "stdout",
     "output_type": "stream",
     "text": [
      "  adding: broken_sets/ (stored 0%)\n",
      "  adding: broken_sets/data-038.csv (deflated 56%)\n",
      "  adding: broken_sets/data-005.csv (deflated 69%)\n",
      "  adding: broken_sets/data-065.csv (deflated 57%)\n",
      "  adding: broken_sets/data-116.csv (deflated 58%)\n",
      "  adding: broken_sets/data-079.csv (deflated 57%)\n",
      "  adding: broken_sets/data-013.csv (deflated 57%)\n",
      "  adding: broken_sets/data-099.csv (deflated 58%)\n",
      "  adding: broken_sets/data-072.csv (deflated 57%)\n",
      "  adding: broken_sets/data-043.csv (deflated 57%)\n",
      "  adding: broken_sets/data-109.csv (deflated 58%)\n",
      "  adding: broken_sets/data-064.csv (deflated 57%)\n",
      "  adding: broken_sets/data-084.csv (deflated 58%)\n",
      "  adding: broken_sets/data-069.csv (deflated 57%)\n",
      "  adding: broken_sets/data-090.csv (deflated 57%)\n",
      "  adding: broken_sets/data-070.csv (deflated 56%)\n",
      "  adding: broken_sets/data-007.csv (deflated 76%)\n",
      "  adding: broken_sets/data-052.csv (deflated 56%)\n",
      "  adding: broken_sets/data-082.csv (deflated 58%)\n",
      "  adding: broken_sets/data-080.csv (deflated 58%)\n",
      "  adding: broken_sets/data-071.csv (deflated 57%)\n",
      "  adding: broken_sets/data-100.csv (deflated 57%)\n",
      "  adding: broken_sets/data-024.csv (deflated 58%)\n",
      "  adding: broken_sets/data-081.csv (deflated 59%)\n",
      "  adding: broken_sets/data-060.csv (deflated 58%)\n",
      "  adding: broken_sets/data-120.csv (deflated 69%)\n",
      "  adding: broken_sets/data-053.csv (deflated 58%)\n",
      "  adding: broken_sets/data-022.csv (deflated 58%)\n",
      "  adding: broken_sets/data-001.csv (deflated 59%)\n",
      "  adding: broken_sets/data-111.csv (deflated 57%)\n",
      "  adding: broken_sets/data-029.csv (deflated 57%)\n",
      "  adding: broken_sets/data-067.csv (deflated 57%)\n",
      "  adding: broken_sets/data-019.csv (deflated 57%)\n",
      "  adding: broken_sets/data-048.csv (deflated 58%)\n",
      "  adding: broken_sets/data-095.csv (deflated 58%)\n",
      "  adding: broken_sets/data-015.csv (deflated 57%)\n",
      "  adding: broken_sets/data-046.csv (deflated 57%)\n",
      "  adding: broken_sets/data-083.csv (deflated 58%)\n",
      "  adding: broken_sets/data-056.csv (deflated 58%)\n",
      "  adding: broken_sets/data-051.csv (deflated 57%)\n",
      "  adding: broken_sets/data-096.csv (deflated 58%)\n",
      "  adding: broken_sets/data-073.csv (deflated 57%)\n",
      "  adding: broken_sets/data-002.csv (deflated 58%)\n",
      "  adding: broken_sets/data-035.csv (deflated 57%)\n",
      "  adding: broken_sets/data-107.csv (deflated 57%)\n",
      "  adding: broken_sets/data-054.csv (deflated 59%)\n",
      "  adding: broken_sets/data-063.csv (deflated 57%)\n",
      "  adding: broken_sets/data-062.csv (deflated 57%)\n",
      "  adding: broken_sets/data-028.csv (deflated 57%)\n",
      "  adding: broken_sets/data-023.csv (deflated 58%)\n",
      "  adding: broken_sets/data-086.csv (deflated 57%)\n",
      "  adding: broken_sets/data-042.csv (deflated 57%)\n",
      "  adding: broken_sets/data-050.csv (deflated 56%)\n",
      "  adding: broken_sets/data-032.csv (deflated 58%)\n",
      "  adding: broken_sets/data-106.csv (deflated 57%)\n",
      "  adding: broken_sets/data-101.csv (deflated 58%)\n",
      "  adding: broken_sets/data-094.csv (deflated 57%)\n",
      "  adding: broken_sets/data-006.csv (deflated 74%)\n",
      "  adding: broken_sets/data-027.csv (deflated 57%)\n",
      "  adding: broken_sets/data-066.csv (deflated 57%)\n",
      "  adding: broken_sets/data-077.csv (deflated 58%)\n",
      "  adding: broken_sets/data-047.csv (deflated 56%)\n",
      "  adding: broken_sets/data-044.csv (deflated 57%)\n",
      "  adding: broken_sets/data-045.csv (deflated 58%)\n",
      "  adding: broken_sets/data-078.csv (deflated 57%)\n",
      "  adding: broken_sets/data-039.csv (deflated 55%)\n",
      "  adding: broken_sets/data-085.csv (deflated 57%)\n",
      "  adding: broken_sets/data-075.csv (deflated 57%)\n",
      "  adding: broken_sets/data-016.csv (deflated 57%)\n",
      "  adding: broken_sets/data-115.csv (deflated 57%)\n",
      "  adding: broken_sets/data-034.csv (deflated 56%)\n",
      "  adding: broken_sets/data-098.csv (deflated 58%)\n",
      "  adding: broken_sets/data-030.csv (deflated 58%)\n",
      "  adding: broken_sets/data-068.csv (deflated 57%)\n",
      "  adding: broken_sets/data-036.csv (deflated 55%)\n",
      "  adding: broken_sets/data-014.csv (deflated 57%)\n",
      "  adding: broken_sets/data-008.csv (deflated 58%)\n",
      "  adding: broken_sets/data-103.csv (deflated 57%)\n",
      "  adding: broken_sets/data-117.csv (deflated 57%)\n",
      "  adding: broken_sets/data-003.csv (deflated 60%)\n",
      "  adding: broken_sets/data-049.csv (deflated 57%)\n",
      "  adding: broken_sets/data-113.csv (deflated 58%)\n",
      "  adding: broken_sets/data-091.csv (deflated 59%)\n",
      "  adding: broken_sets/data-059.csv (deflated 58%)\n",
      "  adding: broken_sets/data-102.csv (deflated 58%)\n",
      "  adding: broken_sets/data-087.csv (deflated 58%)\n",
      "  adding: broken_sets/data-074.csv (deflated 57%)\n",
      "  adding: broken_sets/data-018.csv (deflated 58%)\n",
      "  adding: broken_sets/data-037.csv (deflated 57%)\n",
      "  adding: broken_sets/data-119.csv (deflated 58%)\n",
      "  adding: broken_sets/data-076.csv (deflated 57%)\n",
      "  adding: broken_sets/data-118.csv (deflated 64%)\n",
      "  adding: broken_sets/data-114.csv (deflated 58%)\n",
      "  adding: broken_sets/data-057.csv (deflated 56%)\n",
      "  adding: broken_sets/data-025.csv (deflated 58%)\n",
      "  adding: broken_sets/data-088.csv (deflated 57%)\n",
      "  adding: broken_sets/data-093.csv (deflated 58%)\n",
      "  adding: broken_sets/data-104.csv (deflated 57%)\n",
      "  adding: broken_sets/data-012.csv (deflated 57%)\n",
      "  adding: broken_sets/data-105.csv (deflated 56%)\n",
      "  adding: broken_sets/data-020.csv (deflated 58%)\n",
      "  adding: broken_sets/data-110.csv (deflated 57%)\n",
      "  adding: broken_sets/data-000.csv (deflated 67%)\n",
      "  adding: broken_sets/data-017.csv (deflated 57%)\n",
      "  adding: broken_sets/data-108.csv (deflated 57%)\n",
      "  adding: broken_sets/data-004.csv (deflated 60%)\n",
      "  adding: broken_sets/data-031.csv (deflated 57%)\n",
      "  adding: broken_sets/data-021.csv (deflated 57%)\n",
      "  adding: broken_sets/data-011.csv (deflated 56%)\n",
      "  adding: broken_sets/data-041.csv (deflated 58%)\n",
      "  adding: broken_sets/data-061.csv (deflated 58%)\n",
      "  adding: broken_sets/data-058.csv (deflated 58%)\n",
      "  adding: broken_sets/data-097.csv (deflated 58%)\n",
      "  adding: broken_sets/data-009.csv (deflated 60%)\n",
      "  adding: broken_sets/data-092.csv (deflated 57%)\n",
      "  adding: broken_sets/data-055.csv (deflated 58%)\n",
      "  adding: broken_sets/data-040.csv (deflated 56%)\n",
      "  adding: broken_sets/data-112.csv (deflated 58%)\n",
      "  adding: broken_sets/data-089.csv (deflated 57%)\n",
      "  adding: broken_sets/data-033.csv (deflated 56%)\n",
      "  adding: broken_sets/data-026.csv (deflated 58%)\n",
      "  adding: broken_sets/data-010.csv (deflated 76%)\n"
     ]
    }
   ],
   "source": [
    "# Create downloadable zipped folder\n",
    "!zip -r file.zip './broken_sets'"
   ]
  },
  {
   "cell_type": "code",
   "execution_count": 27,
   "metadata": {
    "execution": {
     "iopub.execute_input": "2022-11-07T12:54:08.040456Z",
     "iopub.status.busy": "2022-11-07T12:54:08.039898Z",
     "iopub.status.idle": "2022-11-07T12:54:08.406989Z",
     "shell.execute_reply": "2022-11-07T12:54:08.405341Z",
     "shell.execute_reply.started": "2022-11-07T12:54:08.040394Z"
    }
   },
   "outputs": [
    {
     "name": "stdout",
     "output_type": "stream",
     "text": [
      "__notebook_source__.ipynb  \u001b[0m\u001b[01;34mbroken_sets\u001b[0m/  file.zip  \u001b[01;34mkaggle\u001b[0m/\n"
     ]
    }
   ],
   "source": [
    "ls"
   ]
  },
  {
   "cell_type": "code",
   "execution_count": 28,
   "metadata": {
    "execution": {
     "iopub.execute_input": "2022-11-07T13:03:16.592480Z",
     "iopub.status.busy": "2022-11-07T13:03:16.591914Z",
     "iopub.status.idle": "2022-11-07T13:03:16.604613Z",
     "shell.execute_reply": "2022-11-07T13:03:16.603210Z",
     "shell.execute_reply.started": "2022-11-07T13:03:16.592404Z"
    }
   },
   "outputs": [
    {
     "data": {
      "text/html": [
       "<a href='file.zip' target='_blank'>file.zip</a><br>"
      ],
      "text/plain": [
       "/kaggle/working/file.zip"
      ]
     },
     "execution_count": 28,
     "metadata": {},
     "output_type": "execute_result"
    }
   ],
   "source": [
    "from IPython.display import FileLink\n",
    "FileLink(r'file.zip')"
   ]
  },
  {
   "cell_type": "code",
   "execution_count": null,
   "metadata": {},
   "outputs": [],
   "source": []
  }
 ],
 "metadata": {
  "kernelspec": {
   "display_name": "Python 3 (ipykernel)",
   "language": "python",
   "name": "python3"
  },
  "language_info": {
   "codemirror_mode": {
    "name": "ipython",
    "version": 3
   },
   "file_extension": ".py",
   "mimetype": "text/x-python",
   "name": "python",
   "nbconvert_exporter": "python",
   "pygments_lexer": "ipython3",
   "version": "3.7.4"
  }
 },
 "nbformat": 4,
 "nbformat_minor": 4
}
