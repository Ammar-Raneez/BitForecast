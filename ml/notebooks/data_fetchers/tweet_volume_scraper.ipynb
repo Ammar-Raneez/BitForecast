{
 "cells": [
  {
   "cell_type": "code",
   "execution_count": 2,
   "id": "21fc997c",
   "metadata": {},
   "outputs": [],
   "source": [
    "import requests \n",
    "from bs4 import BeautifulSoup\n",
    "import pandas as pd\n",
    "import re"
   ]
  },
  {
   "cell_type": "code",
   "execution_count": 7,
   "id": "0f74dbf6",
   "metadata": {},
   "outputs": [],
   "source": [
    "URL = 'https://bitinfocharts.com/comparison/bitcoin-tweets.html#alltime'\n",
    "response = requests.get(URL)\n",
    "soup = BeautifulSoup(response.text, 'html.parser')\n",
    "scripts = soup.find_all('script')"
   ]
  },
  {
   "cell_type": "code",
   "execution_count": 31,
   "id": "4b8f8985",
   "metadata": {},
   "outputs": [],
   "source": [
    "def parse(string_list):\n",
    "    '''\n",
    "    parse list of strings within the script tag\n",
    "    [date, volume]\n",
    "    '''\n",
    "    clean = re.sub('[\\[\\],\\s]', '', string_list)\n",
    "    splitted = re.split(\"[\\'\\\"]\", clean)\n",
    "    values_only = [s for s in splitted if s != '']\n",
    "    return values_only\n",
    "\n",
    "def process_scripts():\n",
    "    '''\n",
    "    Scrape URL script tag and extract tweet volume & respective date\n",
    "    '''\n",
    "    dates = []\n",
    "    tweets = []\n",
    "    \n",
    "    for script in scripts:\n",
    "        if 'd = new Dygraph(document.getElementById(\"container\")' in script.text:\n",
    "            str_lst = script.text\n",
    "            str_lst = '[[' + str_lst.split('[[')[-1]\n",
    "            str_lst = str_lst.split(']]')[0] +']]'\n",
    "            str_lst = str_lst.replace('new Date(', '').replace(')', '')\n",
    "            data = parse(str_lst)\n",
    "    \n",
    "    for each in data:\n",
    "        if (data.index(each) % 2) == 0:\n",
    "            dates.append(each)\n",
    "        else:\n",
    "            tweets.append(each)\n",
    "            \n",
    "    return dates, tweets\n",
    "\n",
    "def create_dataframe():\n",
    "    '''\n",
    "    Create dataframe from scraped twitter volume and dates\n",
    "    '''\n",
    "    dates, tweets = process_scripts()\n",
    "    df = pd.DataFrame(list(zip(dates, tweets)), columns=['Date', 'Tweet Volume'])\n",
    "    return df\n",
    "\n",
    "def export_data(df):\n",
    "    '''\n",
    "    Save data\n",
    "    '''\n",
    "    df.to_csv('../../data/Tweets/BTC_tweet_volume.csv')"
   ]
  },
  {
   "cell_type": "code",
   "execution_count": 32,
   "id": "da11e211",
   "metadata": {},
   "outputs": [],
   "source": [
    "df = create_dataframe()"
   ]
  },
  {
   "cell_type": "code",
   "execution_count": 33,
   "id": "7ddf0b05",
   "metadata": {},
   "outputs": [
    {
     "data": {
      "text/html": [
       "<div>\n",
       "<style scoped>\n",
       "    .dataframe tbody tr th:only-of-type {\n",
       "        vertical-align: middle;\n",
       "    }\n",
       "\n",
       "    .dataframe tbody tr th {\n",
       "        vertical-align: top;\n",
       "    }\n",
       "\n",
       "    .dataframe thead th {\n",
       "        text-align: right;\n",
       "    }\n",
       "</style>\n",
       "<table border=\"1\" class=\"dataframe\">\n",
       "  <thead>\n",
       "    <tr style=\"text-align: right;\">\n",
       "      <th></th>\n",
       "      <th>Date</th>\n",
       "      <th>Tweet Volume</th>\n",
       "    </tr>\n",
       "  </thead>\n",
       "  <tbody>\n",
       "    <tr>\n",
       "      <th>0</th>\n",
       "      <td>2014/04/09</td>\n",
       "      <td>8193</td>\n",
       "    </tr>\n",
       "    <tr>\n",
       "      <th>1</th>\n",
       "      <td>2014/04/10</td>\n",
       "      <td>15039</td>\n",
       "    </tr>\n",
       "    <tr>\n",
       "      <th>2</th>\n",
       "      <td>2014/04/11</td>\n",
       "      <td>14907</td>\n",
       "    </tr>\n",
       "    <tr>\n",
       "      <th>3</th>\n",
       "      <td>2014/04/12</td>\n",
       "      <td>7582</td>\n",
       "    </tr>\n",
       "    <tr>\n",
       "      <th>4</th>\n",
       "      <td>2014/04/13</td>\n",
       "      <td>10674</td>\n",
       "    </tr>\n",
       "  </tbody>\n",
       "</table>\n",
       "</div>"
      ],
      "text/plain": [
       "         Date Tweet Volume\n",
       "0  2014/04/09         8193\n",
       "1  2014/04/10        15039\n",
       "2  2014/04/11        14907\n",
       "3  2014/04/12         7582\n",
       "4  2014/04/13        10674"
      ]
     },
     "execution_count": 33,
     "metadata": {},
     "output_type": "execute_result"
    }
   ],
   "source": [
    "df.head()"
   ]
  },
  {
   "cell_type": "code",
   "execution_count": 34,
   "id": "f3cd0dd9",
   "metadata": {},
   "outputs": [],
   "source": [
    "export_data(df)"
   ]
  },
  {
   "cell_type": "code",
   "execution_count": null,
   "id": "9a56500f",
   "metadata": {},
   "outputs": [],
   "source": []
  }
 ],
 "metadata": {
  "kernelspec": {
   "display_name": "Python 3 (ipykernel)",
   "language": "python",
   "name": "python3"
  },
  "language_info": {
   "codemirror_mode": {
    "name": "ipython",
    "version": 3
   },
   "file_extension": ".py",
   "mimetype": "text/x-python",
   "name": "python",
   "nbconvert_exporter": "python",
   "pygments_lexer": "ipython3",
   "version": "3.7.4"
  }
 },
 "nbformat": 4,
 "nbformat_minor": 5
}
